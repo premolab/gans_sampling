{
 "cells": [
  {
   "cell_type": "code",
   "execution_count": 1,
   "id": "hundred-crime",
   "metadata": {},
   "outputs": [],
   "source": [
    "import os, sys\n",
    "cwd = os.getcwd()\n",
    "\n",
    "api_path_сifar = os.path.join(cwd, '..', 'tools', 'cifar10_utils')\n",
    "api_path_sampling = os.path.join(cwd, '..', 'tools', 'sampling_utils')\n",
    "api_path_gan_metrics = os.path.join(cwd, '..', 'tools', 'gan_metrics')\n",
    "api_path_sngan_utils = os.path.join(cwd, '..', 'tools', 'sngan_cifar10_utils')\n",
    "\n",
    "models_cifar_scratch_path = os.path.join(cwd, '..', 'models', 'models_cifar10')\n",
    "\n",
    "sys.path.append(api_path_сifar)\n",
    "sys.path.append(api_path_sampling)\n",
    "sys.path.append(api_path_gan_metrics)\n",
    "sys.path.append(api_path_sngan_utils)"
   ]
  },
  {
   "cell_type": "code",
   "execution_count": 2,
   "id": "destroyed-lesson",
   "metadata": {},
   "outputs": [],
   "source": [
    "import numpy as np\n",
    "import time\n",
    "import random\n",
    "import glob\n",
    "import importlib\n",
    "from tqdm import tqdm\n",
    "from matplotlib import pyplot as plt\n",
    "import easydict\n",
    "\n",
    "\n",
    "import torch, torch.nn as nn\n",
    "import torch.nn.functional as F\n",
    "from torch.distributions import Normal\n",
    "from distributions import IndependentNormal\n",
    "import torchvision.transforms as transforms\n",
    "\n",
    "from functools import partial\n",
    "\n",
    "from dataloader import get_loader\n",
    "\n",
    "from params_cifar10 import args\n",
    "from general_utils import to_var, DotDict, to_np\n",
    "\n",
    "from metrics_utils import (calculate_images_statistics, z_transform, \n",
    "                           load_dict_stats, plot_scores_dynamics)\n",
    "\n",
    "from mh_sampling import mh_sampling, mh_sampling_from_scratch\n",
    "from ebm_sampling import (langevin_sampling, \n",
    "                          aggregate_sampling_output,\n",
    "                          load_data_from_batches,\n",
    "                          mala_sampling,\n",
    "                          tempered_transitions_sampling,\n",
    "                          gan_energy,\n",
    "                          gan_energy_tempering,\n",
    "                          report_energy, \n",
    "                          report_mean_discriminator)\n",
    "\n",
    "from sir_ais_sampling import (sir_independent_sampling,\n",
    "                              sir_correlated_sampling,\n",
    "                              cisir_adaptive_sampling,\n",
    "                              sir_independent_mala_sampling)\n",
    "\n",
    "from metrics import inception_score\n",
    "from dataloader import GenDataset, LatentFixDataset\n",
    "\n",
    "import source.models.sngan as models\n",
    "import torchvision"
   ]
  },
  {
   "cell_type": "code",
   "execution_count": 3,
   "id": "informal-domestic",
   "metadata": {},
   "outputs": [],
   "source": [
    "net_G_models = {\n",
    "    'res32': models.ResGenerator32,\n",
    "    'res48': models.ResGenerator48,\n",
    "    'cnn32': models.Generator32,\n",
    "    'cnn48': models.Generator48,\n",
    "}\n",
    "\n",
    "net_D_models = {\n",
    "    'res32': models.ResDiscriminator32,\n",
    "    'res48': models.ResDiscriminator48,\n",
    "    'cnn32': models.Discriminator32,\n",
    "    'cnn48': models.Discriminator48,\n",
    "}"
   ]
  },
  {
   "cell_type": "code",
   "execution_count": 4,
   "id": "considerable-writer",
   "metadata": {},
   "outputs": [],
   "source": [
    "FLAGS = easydict.EasyDict({\n",
    "    'arch': 'cnn32',\n",
    "    'z_dim': 100\n",
    "})\n",
    "\n",
    "path_to_sngan = os.path.join(models_cifar_scratch_path, \"model.pt\")"
   ]
  },
  {
   "cell_type": "markdown",
   "id": "supposed-official",
   "metadata": {},
   "source": [
    "## Download model"
   ]
  },
  {
   "cell_type": "code",
   "execution_count": 5,
   "id": "theoretical-efficiency",
   "metadata": {},
   "outputs": [
    {
     "data": {
      "text/plain": [
       "Generator32(\n",
       "  (linear): Linear(in_features=100, out_features=8192, bias=True)\n",
       "  (main): Sequential(\n",
       "    (0): ConvTranspose2d(512, 256, kernel_size=(4, 4), stride=(2, 2), padding=(1, 1), bias=False)\n",
       "    (1): BatchNorm2d(256, eps=1e-05, momentum=0.1, affine=True, track_running_stats=True)\n",
       "    (2): ReLU(inplace=True)\n",
       "    (3): ConvTranspose2d(256, 128, kernel_size=(4, 4), stride=(2, 2), padding=(1, 1), bias=False)\n",
       "    (4): BatchNorm2d(128, eps=1e-05, momentum=0.1, affine=True, track_running_stats=True)\n",
       "    (5): ReLU(inplace=True)\n",
       "    (6): ConvTranspose2d(128, 64, kernel_size=(4, 4), stride=(2, 2), padding=(1, 1), bias=False)\n",
       "    (7): BatchNorm2d(64, eps=1e-05, momentum=0.1, affine=True, track_running_stats=True)\n",
       "    (8): ReLU(inplace=True)\n",
       "    (9): Conv2d(64, 3, kernel_size=(3, 3), stride=(1, 1), padding=(1, 1), bias=False)\n",
       "    (10): Tanh()\n",
       "  )\n",
       ")"
      ]
     },
     "execution_count": 5,
     "metadata": {},
     "output_type": "execute_result"
    }
   ],
   "source": [
    "args.device = torch.device('cuda:1' if torch.cuda.is_available() else 'cpu')\n",
    "device = args.device\n",
    "\n",
    "net_G = net_G_models[FLAGS.arch](FLAGS.z_dim).to(device)\n",
    "\n",
    "net_G.load_state_dict(torch.load(path_to_sngan)['net_G'])\n",
    "net_G.eval()"
   ]
  },
  {
   "cell_type": "code",
   "execution_count": 7,
   "id": "sorted-boutique",
   "metadata": {},
   "outputs": [
    {
     "data": {
      "text/plain": [
       "Discriminator32(\n",
       "  (main): Sequential(\n",
       "    (0): Conv2d(3, 64, kernel_size=(3, 3), stride=(1, 1), padding=(1, 1), bias=False)\n",
       "    (1): LeakyReLU(negative_slope=0.1, inplace=True)\n",
       "    (2): Conv2d(64, 64, kernel_size=(4, 4), stride=(2, 2), padding=(1, 1), bias=False)\n",
       "    (3): LeakyReLU(negative_slope=0.1, inplace=True)\n",
       "    (4): Conv2d(64, 128, kernel_size=(3, 3), stride=(1, 1), padding=(1, 1), bias=False)\n",
       "    (5): LeakyReLU(negative_slope=0.1, inplace=True)\n",
       "    (6): Conv2d(128, 128, kernel_size=(4, 4), stride=(2, 2), padding=(1, 1), bias=False)\n",
       "    (7): LeakyReLU(negative_slope=0.1, inplace=True)\n",
       "    (8): Conv2d(128, 256, kernel_size=(3, 3), stride=(1, 1), padding=(1, 1), bias=False)\n",
       "    (9): LeakyReLU(negative_slope=0.1, inplace=True)\n",
       "    (10): Conv2d(256, 256, kernel_size=(4, 4), stride=(2, 2), padding=(1, 1), bias=False)\n",
       "    (11): LeakyReLU(negative_slope=0.1, inplace=True)\n",
       "    (12): Conv2d(256, 512, kernel_size=(3, 3), stride=(1, 1), padding=(1, 1), bias=False)\n",
       "    (13): LeakyReLU(negative_slope=0.1, inplace=True)\n",
       "  )\n",
       "  (linear): Linear(in_features=8192, out_features=1, bias=False)\n",
       ")"
      ]
     },
     "execution_count": 7,
     "metadata": {},
     "output_type": "execute_result"
    }
   ],
   "source": [
    "net_D = net_D_models[FLAGS.arch]().to(device)\n",
    "\n",
    "net_D.load_state_dict(torch.load(path_to_sngan)['net_D'])\n",
    "net_D.eval()"
   ]
  },
  {
   "cell_type": "code",
   "execution_count": 20,
   "id": "miniature-receipt",
   "metadata": {},
   "outputs": [],
   "source": [
    "batch_size = 16\n",
    "z = torch.randn(batch_size, FLAGS.z_dim).to(device)\n",
    "x = net_G(z).detach().cpu()"
   ]
  },
  {
   "cell_type": "code",
   "execution_count": 21,
   "id": "stuffed-blind",
   "metadata": {},
   "outputs": [
    {
     "data": {
      "image/png": "[encoded data removed]",
      "text/plain": [
       "<Figure size 3600x10800 with 1 Axes>"
      ]
     },
     "metadata": {
      "needs_background": "light"
     },
     "output_type": "display_data"
    }
   ],
   "source": [
    "grid = torchvision.utils.make_grid(x, scale_each=True, normalize=True)\n",
    "plt.figure(figsize=(50, 150))\n",
    "plt.title(\"Fake Images\")\n",
    "plt.imshow(grid.permute(1, 2, 0).cpu().numpy())\n",
    "plt.axis('off')\n",
    "plt.show()"
   ]
  },
  {
   "cell_type": "code",
   "execution_count": 25,
   "id": "dimensional-diabetes",
   "metadata": {},
   "outputs": [
    {
     "data": {
      "text/plain": [
       "tensor([[ 0.0485],\n",
       "        [ 0.1133],\n",
       "        [ 0.0546],\n",
       "        [ 0.1749],\n",
       "        [ 0.3335],\n",
       "        [-0.6143],\n",
       "        [-0.0029],\n",
       "        [ 0.1645],\n",
       "        [ 0.2149],\n",
       "        [-0.0058],\n",
       "        [-0.0025],\n",
       "        [-0.2532],\n",
       "        [ 0.2651],\n",
       "        [ 0.1341],\n",
       "        [-0.2963],\n",
       "        [ 0.0698]], device='cuda:1', grad_fn=<MmBackward>)"
      ]
     },
     "execution_count": 25,
     "metadata": {},
     "output_type": "execute_result"
    }
   ],
   "source": [
    "net_D(x.to(device))"
   ]
  },
  {
   "cell_type": "code",
   "execution_count": 26,
   "id": "respiratory-samba",
   "metadata": {},
   "outputs": [
    {
     "data": {
      "text/plain": [
       "tensor([[0.5121],\n",
       "        [0.5283],\n",
       "        [0.5136],\n",
       "        [0.5436],\n",
       "        [0.5826],\n",
       "        [0.3511],\n",
       "        [0.4993],\n",
       "        [0.5410],\n",
       "        [0.5535],\n",
       "        [0.4986],\n",
       "        [0.4994],\n",
       "        [0.4370],\n",
       "        [0.5659],\n",
       "        [0.5335],\n",
       "        [0.4265],\n",
       "        [0.5174]], device='cuda:1', grad_fn=<SigmoidBackward>)"
      ]
     },
     "execution_count": 26,
     "metadata": {},
     "output_type": "execute_result"
    }
   ],
   "source": [
    "net_D(x.to(device)).sigmoid()"
   ]
  },
  {
   "cell_type": "code",
   "execution_count": 6,
   "id": "hollywood-bhutan",
   "metadata": {},
   "outputs": [],
   "source": [
    "n_steps = 601\n",
    "\n",
    "grad_step = 0.02\n",
    "eps_scale = (2 * grad_step) ** 0.5\n",
    "path_to_save_np = '/home/daniil/gans-mcmc/saved_numpy_arrays'\n",
    "path_to_save = path_to_save_np\n",
    "method_name = f'ula_sngan_resnet_stats_{n_steps}_steps_step_{grad_step}_eps_{eps_scale}'\n",
    "dataset = \"cifar10\"\n",
    "dict_results_ula = load_dict_stats(method_name, path_to_save)"
   ]
  },
  {
   "cell_type": "code",
   "execution_count": 7,
   "id": "upper-macro",
   "metadata": {},
   "outputs": [
    {
     "data": {
      "image/png": "[encoded data removed]",
      "text/plain": [
       "<Figure size 432x288 with 1 Axes>"
      ]
     },
     "metadata": {
      "needs_background": "light"
     },
     "output_type": "display_data"
    }
   ],
   "source": [
    "plt.plot([i*40 for i in range(len(dict_results_ula['fid_scores_mean_train']))],\n",
    "          dict_results_ula['fid_scores_mean_train'], label = fr\"ULA\", color=\"r\")\n",
    "plt.legend()\n",
    "plt.grid(True)\n",
    "# plt.xlabel(\"MCMC iteration\")\n",
    "plt.ylabel(\"FID\")\n",
    "plt.show()"
   ]
  },
  {
   "cell_type": "markdown",
   "id": "statistical-clause",
   "metadata": {},
   "source": [
    "## Energy"
   ]
  },
  {
   "cell_type": "code",
   "execution_count": 6,
   "id": "ignored-electronics",
   "metadata": {},
   "outputs": [],
   "source": [
    "device = torch.device('cuda:0' if torch.cuda.is_available() else 'cpu')\n",
    "\n",
    "path_to_sngan = os.path.join(models_cifar_scratch_path, \"model.pt\")\n",
    "\n",
    "G = net_G_models[FLAGS.arch](FLAGS.z_dim).to(device)\n",
    "G.load_state_dict(torch.load(path_to_sngan)['net_G'])\n",
    "G.eval()\n",
    "\n",
    "D = net_D_models[FLAGS.arch]().to(device)\n",
    "\n",
    "D.load_state_dict(torch.load(path_to_sngan)['net_D'])\n",
    "D.eval()\n",
    "\n",
    "G.z_dim = FLAGS.z_dim\n",
    "G.device = device\n",
    "z_dim = FLAGS.z_dim\n",
    "\n",
    "loc = torch.zeros(z_dim).to(device)\n",
    "scale = torch.ones(z_dim).to(device)\n",
    "\n",
    "proposal_args = DotDict()\n",
    "proposal_args.device = device\n",
    "proposal_args.loc = loc\n",
    "proposal_args.scale = scale\n",
    "proposal = IndependentNormal(proposal_args)"
   ]
  },
  {
   "cell_type": "code",
   "execution_count": null,
   "id": "informative-crazy",
   "metadata": {},
   "outputs": [],
   "source": [
    "log_prob = True\n",
    "normalize_to_0_1 = True\n",
    "\n",
    "target_gan = partial(gan_energy,\n",
    "                     generator=G,\n",
    "                     discriminator=D,\n",
    "                     proposal=proposal,\n",
    "                     normalize_to_0_1=normalize_to_0_1,\n",
    "                     log_prob=log_prob)\n",
    "\n",
    "log_prob = False\n",
    "normalize_to_0_1 = True\n",
    "\n",
    "target_energy = partial(gan_energy,\n",
    "                         generator = G, \n",
    "                         discriminator = D, \n",
    "                         proposal = proposal,\n",
    "                         normalize_to_0_1 = normalize_to_0_1,\n",
    "                         log_prob = log_prob)"
   ]
  },
  {
   "cell_type": "code",
   "execution_count": 8,
   "id": "consolidated-banana",
   "metadata": {},
   "outputs": [],
   "source": [
    "random_seed = 42\n",
    "torch.manual_seed(random_seed)\n",
    "np.random.seed(random_seed)\n",
    "random.seed(random_seed)\n",
    "\n",
    "batch_size = 200\n",
    "n = 1000\n",
    "n_steps = 601\n",
    "\n",
    "grad_step = 0.01\n",
    "eps_scale = (2 * grad_step) ** 0.5\n",
    "\n",
    "use_noise = True\n",
    "\n",
    "method_name = 'ula_sngan_cifar_recalc'\n",
    "path_to_save = '/home/daniil/gans-mcmc/saved_numpy_arrays'\n",
    "file_name = f'{method_name}_nsteps_{n_steps}_step_{grad_step}_eps_{eps_scale}_use_noise_{use_noise}'\n",
    "every_step = 40\n",
    "continue_z = None"
   ]
  },
  {
   "cell_type": "code",
   "execution_count": 14,
   "id": "growing-lending",
   "metadata": {},
   "outputs": [
    {
     "name": "stderr",
     "output_type": "stream",
     "text": [
      " 20%|██        | 1/5 [00:31<02:05, 31.26s/it]"
     ]
    },
    {
     "name": "stdout",
     "output_type": "stream",
     "text": [
      "file /home/daniil/gans-mcmc/saved_numpy_arrays/ula_sngan_cifar_recalc_nsteps_601_step_0.001_eps_0.044721359549995794_use_noise_True_batch_num_0.npy was saved, file shape = (16, 200, 100)\n"
     ]
    },
    {
     "name": "stderr",
     "output_type": "stream",
     "text": [
      "\r",
      " 40%|████      | 2/5 [01:03<01:34, 31.48s/it]"
     ]
    },
    {
     "name": "stdout",
     "output_type": "stream",
     "text": [
      "file /home/daniil/gans-mcmc/saved_numpy_arrays/ula_sngan_cifar_recalc_nsteps_601_step_0.001_eps_0.044721359549995794_use_noise_True_batch_num_200.npy was saved, file shape = (16, 200, 100)\n"
     ]
    },
    {
     "name": "stderr",
     "output_type": "stream",
     "text": [
      "\r",
      " 60%|██████    | 3/5 [01:35<01:03, 31.81s/it]"
     ]
    },
    {
     "name": "stdout",
     "output_type": "stream",
     "text": [
      "file /home/daniil/gans-mcmc/saved_numpy_arrays/ula_sngan_cifar_recalc_nsteps_601_step_0.001_eps_0.044721359549995794_use_noise_True_batch_num_400.npy was saved, file shape = (16, 200, 100)\n"
     ]
    },
    {
     "name": "stderr",
     "output_type": "stream",
     "text": [
      "\r",
      " 80%|████████  | 4/5 [02:09<00:32, 32.24s/it]"
     ]
    },
    {
     "name": "stdout",
     "output_type": "stream",
     "text": [
      "file /home/daniil/gans-mcmc/saved_numpy_arrays/ula_sngan_cifar_recalc_nsteps_601_step_0.001_eps_0.044721359549995794_use_noise_True_batch_num_600.npy was saved, file shape = (16, 200, 100)\n"
     ]
    },
    {
     "name": "stderr",
     "output_type": "stream",
     "text": [
      "100%|██████████| 5/5 [02:42<00:00, 32.50s/it]"
     ]
    },
    {
     "name": "stdout",
     "output_type": "stream",
     "text": [
      "file /home/daniil/gans-mcmc/saved_numpy_arrays/ula_sngan_cifar_recalc_nsteps_601_step_0.001_eps_0.044721359549995794_use_noise_True_batch_num_800.npy was saved, file shape = (16, 200, 100)\n"
     ]
    },
    {
     "name": "stderr",
     "output_type": "stream",
     "text": [
      "\n"
     ]
    }
   ],
   "source": [
    "z_last_np, zs = langevin_sampling(target_gan, proposal, batch_size, n,\n",
    "                                  path_to_save, file_name, every_step,\n",
    "                                  continue_z, n_steps, grad_step, eps_scale,\n",
    "                                  use_noise)"
   ]
  },
  {
   "cell_type": "code",
   "execution_count": 22,
   "id": "local-texture",
   "metadata": {},
   "outputs": [
    {
     "name": "stderr",
     "output_type": "stream",
     "text": [
      "100%|██████████| 5/5 [00:00<00:00, 2891.03it/s]\n"
     ]
    }
   ],
   "source": [
    "load_np = load_data_from_batches(n, batch_size,\n",
    "                                 path_to_save, file_name)\n",
    "\n",
    "n = 1000\n",
    "batchsize = 200\n",
    "num_bs = n // batchsize"
   ]
  },
  {
   "cell_type": "code",
   "execution_count": 23,
   "id": "every-warning",
   "metadata": {},
   "outputs": [
    {
     "data": {
      "text/plain": [
       "(16, 1000, 100)"
      ]
     },
     "execution_count": 23,
     "metadata": {},
     "output_type": "execute_result"
    }
   ],
   "source": [
    "load_np.shape"
   ]
  },
  {
   "cell_type": "code",
   "execution_count": 16,
   "id": "alpine-contractor",
   "metadata": {},
   "outputs": [
    {
     "name": "stderr",
     "output_type": "stream",
     "text": [
      "  6%|▋         | 1/16 [00:00<00:02,  7.16it/s]"
     ]
    },
    {
     "name": "stdout",
     "output_type": "stream",
     "text": [
      "iter = 0\n",
      "number of energy samples = 1000\n",
      "mean = 141.57618713378906\n",
      "std = 6.941837310791016\n",
      "------------\n",
      "iter = 1\n"
     ]
    },
    {
     "name": "stderr",
     "output_type": "stream",
     "text": [
      " 19%|█▉        | 3/16 [00:00<00:01,  7.74it/s]"
     ]
    },
    {
     "name": "stdout",
     "output_type": "stream",
     "text": [
      "number of energy samples = 1000\n",
      "mean = 141.6167449951172\n",
      "std = 6.8871049880981445\n",
      "------------\n",
      "iter = 2\n",
      "number of energy samples = 1000\n",
      "mean = 141.5428924560547\n",
      "std = 6.869114398956299\n",
      "------------\n",
      "iter = 3\n"
     ]
    },
    {
     "name": "stderr",
     "output_type": "stream",
     "text": [
      " 31%|███▏      | 5/16 [00:00<00:01,  8.29it/s]"
     ]
    },
    {
     "name": "stdout",
     "output_type": "stream",
     "text": [
      "number of energy samples = 1000\n",
      "mean = 141.564208984375\n",
      "std = 6.833950996398926\n",
      "------------\n",
      "iter = 4\n",
      "number of energy samples = 1000\n",
      "mean = 141.5693817138672\n",
      "std = 6.922618389129639\n",
      "------------\n",
      "iter = 5\n"
     ]
    },
    {
     "name": "stderr",
     "output_type": "stream",
     "text": [
      " 44%|████▍     | 7/16 [00:00<00:01,  8.57it/s]"
     ]
    },
    {
     "name": "stdout",
     "output_type": "stream",
     "text": [
      "number of energy samples = 1000\n",
      "mean = 141.59971618652344\n",
      "std = 7.045480251312256\n",
      "------------\n",
      "iter = 6\n",
      "number of energy samples = 1000\n",
      "mean = 141.56143188476562\n",
      "std = 7.013923645019531\n",
      "------------\n",
      "iter = 7\n"
     ]
    },
    {
     "name": "stderr",
     "output_type": "stream",
     "text": [
      " 56%|█████▋    | 9/16 [00:01<00:00,  8.71it/s]"
     ]
    },
    {
     "name": "stdout",
     "output_type": "stream",
     "text": [
      "number of energy samples = 1000\n",
      "mean = 141.54434204101562\n",
      "std = 6.948049068450928\n",
      "------------\n",
      "iter = 8\n",
      "number of energy samples = 1000\n",
      "mean = 141.54547119140625\n",
      "std = 6.887993812561035\n",
      "------------\n",
      "iter = 9\n"
     ]
    },
    {
     "name": "stderr",
     "output_type": "stream",
     "text": [
      " 69%|██████▉   | 11/16 [00:01<00:00,  8.76it/s]"
     ]
    },
    {
     "name": "stdout",
     "output_type": "stream",
     "text": [
      "number of energy samples = 1000\n",
      "mean = 141.79437255859375\n",
      "std = 7.066688060760498\n",
      "------------\n",
      "iter = 10\n",
      "number of energy samples = 1000\n",
      "mean = 141.63604736328125\n",
      "std = 7.068658351898193\n",
      "------------\n",
      "iter = 11\n"
     ]
    },
    {
     "name": "stderr",
     "output_type": "stream",
     "text": [
      " 81%|████████▏ | 13/16 [00:01<00:00,  8.81it/s]"
     ]
    },
    {
     "name": "stdout",
     "output_type": "stream",
     "text": [
      "number of energy samples = 1000\n",
      "mean = 141.65957641601562\n",
      "std = 6.982520580291748\n",
      "------------\n",
      "iter = 12\n",
      "number of energy samples = 1000\n",
      "mean = 141.55992126464844\n",
      "std = 6.967651844024658\n",
      "------------\n",
      "iter = 13\n"
     ]
    },
    {
     "name": "stderr",
     "output_type": "stream",
     "text": [
      " 94%|█████████▍| 15/16 [00:01<00:00,  8.81it/s]"
     ]
    },
    {
     "name": "stdout",
     "output_type": "stream",
     "text": [
      "number of energy samples = 1000\n",
      "mean = 141.72769165039062\n",
      "std = 6.881908416748047\n",
      "------------\n",
      "iter = 14\n",
      "number of energy samples = 1000\n",
      "mean = 141.83949279785156\n",
      "std = 6.7959513664245605\n",
      "------------\n",
      "iter = 15\n"
     ]
    },
    {
     "name": "stderr",
     "output_type": "stream",
     "text": [
      "100%|██████████| 16/16 [00:01<00:00,  8.65it/s]"
     ]
    },
    {
     "name": "stdout",
     "output_type": "stream",
     "text": [
      "number of energy samples = 1000\n",
      "mean = 141.86807250976562\n",
      "std = 6.864884853363037\n",
      "------------\n"
     ]
    },
    {
     "name": "stderr",
     "output_type": "stream",
     "text": [
      "\n"
     ]
    }
   ],
   "source": [
    "ula_mean, std_mean = report_energy(load_np, target_energy, num_bs, batchsize, device)"
   ]
  },
  {
   "cell_type": "code",
   "execution_count": 12,
   "id": "normal-maria",
   "metadata": {},
   "outputs": [
    {
     "name": "stderr",
     "output_type": "stream",
     "text": [
      "  6%|▋         | 1/16 [00:00<00:02,  6.88it/s]"
     ]
    },
    {
     "name": "stdout",
     "output_type": "stream",
     "text": [
      "iter = 0\n",
      "number of energy samples = 1000\n",
      "mean = 0.5029714703559875\n",
      "std = 0.061125773936510086\n",
      "------------\n",
      "iter = 1\n"
     ]
    },
    {
     "name": "stderr",
     "output_type": "stream",
     "text": [
      " 19%|█▉        | 3/16 [00:00<00:01,  7.77it/s]"
     ]
    },
    {
     "name": "stdout",
     "output_type": "stream",
     "text": [
      "number of energy samples = 1000\n",
      "mean = 0.5112537741661072\n",
      "std = 0.06480196863412857\n",
      "------------\n",
      "iter = 2\n",
      "number of energy samples = 1000\n",
      "mean = 0.512615442276001\n",
      "std = 0.06943948566913605\n",
      "------------\n",
      "iter = 3\n"
     ]
    },
    {
     "name": "stderr",
     "output_type": "stream",
     "text": [
      " 31%|███▏      | 5/16 [00:00<00:01,  8.40it/s]"
     ]
    },
    {
     "name": "stdout",
     "output_type": "stream",
     "text": [
      "number of energy samples = 1000\n",
      "mean = 0.5151352286338806\n",
      "std = 0.06988409906625748\n",
      "------------\n",
      "iter = 4\n",
      "number of energy samples = 1000\n",
      "mean = 0.5160415172576904\n",
      "std = 0.06776811927556992\n",
      "------------\n",
      "iter = 5\n"
     ]
    },
    {
     "name": "stderr",
     "output_type": "stream",
     "text": [
      " 44%|████▍     | 7/16 [00:00<00:01,  8.75it/s]"
     ]
    },
    {
     "name": "stdout",
     "output_type": "stream",
     "text": [
      "number of energy samples = 1000\n",
      "mean = 0.5169346332550049\n",
      "std = 0.07301807403564453\n",
      "------------\n",
      "iter = 6\n",
      "number of energy samples = 1000\n",
      "mean = 0.519384503364563\n",
      "std = 0.0714033767580986\n",
      "------------\n",
      "iter = 7\n"
     ]
    },
    {
     "name": "stderr",
     "output_type": "stream",
     "text": [
      " 56%|█████▋    | 9/16 [00:01<00:00,  8.92it/s]"
     ]
    },
    {
     "name": "stdout",
     "output_type": "stream",
     "text": [
      "number of energy samples = 1000\n",
      "mean = 0.5206618905067444\n",
      "std = 0.07226356118917465\n",
      "------------\n",
      "iter = 8\n",
      "number of energy samples = 1000\n",
      "mean = 0.5182867646217346\n",
      "std = 0.06980642676353455\n",
      "------------\n",
      "iter = 9\n"
     ]
    },
    {
     "name": "stderr",
     "output_type": "stream",
     "text": [
      " 69%|██████▉   | 11/16 [00:01<00:00,  8.97it/s]"
     ]
    },
    {
     "name": "stdout",
     "output_type": "stream",
     "text": [
      "number of energy samples = 1000\n",
      "mean = 0.5201107859611511\n",
      "std = 0.06878313422203064\n",
      "------------\n",
      "iter = 10\n",
      "number of energy samples = 1000\n",
      "mean = 0.5206559300422668\n",
      "std = 0.06930982321500778\n",
      "------------\n",
      "iter = 11\n"
     ]
    },
    {
     "name": "stderr",
     "output_type": "stream",
     "text": [
      " 81%|████████▏ | 13/16 [00:01<00:00,  9.03it/s]"
     ]
    },
    {
     "name": "stdout",
     "output_type": "stream",
     "text": [
      "number of energy samples = 1000\n",
      "mean = 0.5193929672241211\n",
      "std = 0.07198438048362732\n",
      "------------\n",
      "iter = 12\n",
      "number of energy samples = 1000\n",
      "mean = 0.5231857895851135\n",
      "std = 0.0720687061548233\n",
      "------------\n",
      "iter = 13\n"
     ]
    },
    {
     "name": "stderr",
     "output_type": "stream",
     "text": [
      " 94%|█████████▍| 15/16 [00:01<00:00,  9.06it/s]"
     ]
    },
    {
     "name": "stdout",
     "output_type": "stream",
     "text": [
      "number of energy samples = 1000\n",
      "mean = 0.5209752321243286\n",
      "std = 0.06862544268369675\n",
      "------------\n",
      "iter = 14\n",
      "number of energy samples = 1000\n",
      "mean = 0.5219969153404236\n",
      "std = 0.07213860750198364\n",
      "------------\n",
      "iter = 15\n"
     ]
    },
    {
     "name": "stderr",
     "output_type": "stream",
     "text": [
      "100%|██████████| 16/16 [00:01<00:00,  8.87it/s]"
     ]
    },
    {
     "name": "stdout",
     "output_type": "stream",
     "text": [
      "number of energy samples = 1000\n",
      "mean = 0.523271381855011\n",
      "std = 0.07315070182085037\n",
      "------------\n"
     ]
    },
    {
     "name": "stderr",
     "output_type": "stream",
     "text": [
      "\n"
     ]
    }
   ],
   "source": [
    "z_transform = lambda x: x\n",
    "use_sigmoid = True\n",
    "mean_discr_val, std_discr_val = report_mean_discriminator(load_np, G, D, z_transform, \n",
    "                                                          num_bs, batchsize, device, \n",
    "                                                          use_sigmoid=use_sigmoid)"
   ]
  },
  {
   "cell_type": "code",
   "execution_count": 13,
   "id": "gross-secretary",
   "metadata": {},
   "outputs": [
    {
     "data": {
      "image/png": "[encoded data removed]",
      "text/plain": [
       "<Figure size 432x288 with 1 Axes>"
      ]
     },
     "metadata": {
      "needs_background": "light"
     },
     "output_type": "display_data"
    }
   ],
   "source": [
    "plt.plot([i*40 for i in range(len(mean_discr_val))], mean_discr_val, label = \"ULA\", color='r')\n",
    "plt.xlabel(\"MCMC iteration\")\n",
    "plt.ylabel(fr\"$D(G(z))$\")\n",
    "plt.grid()\n",
    "plt.legend()\n",
    "plt.show()"
   ]
  },
  {
   "cell_type": "code",
   "execution_count": 13,
   "id": "gross-rubber",
   "metadata": {},
   "outputs": [
    {
     "data": {
      "image/png": "[encoded data removed]",
      "text/plain": [
       "<Figure size 432x288 with 1 Axes>"
      ]
     },
     "metadata": {
      "needs_background": "light"
     },
     "output_type": "display_data"
    }
   ],
   "source": [
    "plt.plot([i*40 for i in range(len(ula_mean))], ula_mean, label = \"ULA\", color='r')\n",
    "plt.xlabel(\"MCMC iteration\")\n",
    "plt.ylabel(\"Energy\")\n",
    "plt.grid()\n",
    "plt.legend()\n",
    "plt.show()"
   ]
  },
  {
   "cell_type": "code",
   "execution_count": 17,
   "id": "ceramic-passport",
   "metadata": {},
   "outputs": [
    {
     "data": {
      "image/png": "[encoded data removed]",
      "text/plain": [
       "<Figure size 432x288 with 1 Axes>"
      ]
     },
     "metadata": {
      "needs_background": "light"
     },
     "output_type": "display_data"
    }
   ],
   "source": [
    "plt.plot([i*40 for i in range(len(ula_mean))], ula_mean, label = \"ULA\", color='r')\n",
    "plt.xlabel(\"MCMC iteration\")\n",
    "plt.ylabel(\"Energy\")\n",
    "plt.grid()\n",
    "plt.legend()\n",
    "plt.show()"
   ]
  },
  {
   "cell_type": "code",
   "execution_count": 8,
   "id": "medium-premiere",
   "metadata": {},
   "outputs": [],
   "source": [
    "T = 10.0\n",
    "\n",
    "log_prob = True\n",
    "normalize_to_0_1 = True\n",
    "\n",
    "tempering_target_gan = partial(gan_energy_tempering,\n",
    "                     generator=G,\n",
    "                     discriminator=D,\n",
    "                     proposal=proposal,\n",
    "                     normalize_to_0_1=normalize_to_0_1,\n",
    "                     log_prob=log_prob,\n",
    "                     T=T)\n",
    "\n",
    "log_prob = False\n",
    "normalize_to_0_1 = True\n",
    "\n",
    "\n",
    "tempering_target_energy = partial(gan_energy_tempering,\n",
    "                         generator = G, \n",
    "                         discriminator = D, \n",
    "                         proposal = proposal,\n",
    "                         normalize_to_0_1 = normalize_to_0_1,\n",
    "                         log_prob = log_prob,\n",
    "                         T=T)"
   ]
  },
  {
   "cell_type": "code",
   "execution_count": 9,
   "id": "middle-balance",
   "metadata": {},
   "outputs": [],
   "source": [
    "random_seed = 42\n",
    "torch.manual_seed(random_seed)\n",
    "np.random.seed(random_seed)\n",
    "random.seed(random_seed)\n",
    "\n",
    "batch_size = 100\n",
    "n = 1000\n",
    "n_steps = 601\n",
    "\n",
    "grad_step = 0.01\n",
    "eps_scale = (2 * grad_step) ** 0.5\n",
    "\n",
    "use_noise = True\n",
    "\n",
    "method_name = f'ula_sngan_cifar_recalc_tempering_{T}'\n",
    "path_to_save = '/home/daniil/gans-mcmc/saved_numpy_arrays'\n",
    "file_name = f'{method_name}_nsteps_{n_steps}_step_{grad_step}_eps_{eps_scale}_use_noise_{use_noise}'\n",
    "every_step = 40\n",
    "continue_z = None"
   ]
  },
  {
   "cell_type": "code",
   "execution_count": 10,
   "id": "expired-bristol",
   "metadata": {},
   "outputs": [
    {
     "name": "stderr",
     "output_type": "stream",
     "text": [
      " 10%|█         | 1/10 [00:35<05:15, 35.07s/it]"
     ]
    },
    {
     "name": "stdout",
     "output_type": "stream",
     "text": [
      "file /home/daniil/gans-mcmc/saved_numpy_arrays/ula_sngan_cifar_recalc_tempering_10.0_nsteps_601_step_0.01_eps_0.1414213562373095_use_noise_True_batch_num_0.npy was saved, file shape = (16, 100, 100)\n"
     ]
    },
    {
     "name": "stderr",
     "output_type": "stream",
     "text": [
      "\r",
      " 20%|██        | 2/10 [01:09<04:39, 34.90s/it]"
     ]
    },
    {
     "name": "stdout",
     "output_type": "stream",
     "text": [
      "file /home/daniil/gans-mcmc/saved_numpy_arrays/ula_sngan_cifar_recalc_tempering_10.0_nsteps_601_step_0.01_eps_0.1414213562373095_use_noise_True_batch_num_100.npy was saved, file shape = (16, 100, 100)\n"
     ]
    },
    {
     "name": "stderr",
     "output_type": "stream",
     "text": [
      "\r",
      " 30%|███       | 3/10 [01:44<04:03, 34.80s/it]"
     ]
    },
    {
     "name": "stdout",
     "output_type": "stream",
     "text": [
      "file /home/daniil/gans-mcmc/saved_numpy_arrays/ula_sngan_cifar_recalc_tempering_10.0_nsteps_601_step_0.01_eps_0.1414213562373095_use_noise_True_batch_num_200.npy was saved, file shape = (16, 100, 100)\n"
     ]
    },
    {
     "name": "stderr",
     "output_type": "stream",
     "text": [
      "\r",
      " 40%|████      | 4/10 [02:18<03:28, 34.73s/it]"
     ]
    },
    {
     "name": "stdout",
     "output_type": "stream",
     "text": [
      "file /home/daniil/gans-mcmc/saved_numpy_arrays/ula_sngan_cifar_recalc_tempering_10.0_nsteps_601_step_0.01_eps_0.1414213562373095_use_noise_True_batch_num_300.npy was saved, file shape = (16, 100, 100)\n"
     ]
    },
    {
     "name": "stderr",
     "output_type": "stream",
     "text": [
      "\r",
      " 50%|█████     | 5/10 [02:53<02:53, 34.68s/it]"
     ]
    },
    {
     "name": "stdout",
     "output_type": "stream",
     "text": [
      "file /home/daniil/gans-mcmc/saved_numpy_arrays/ula_sngan_cifar_recalc_tempering_10.0_nsteps_601_step_0.01_eps_0.1414213562373095_use_noise_True_batch_num_400.npy was saved, file shape = (16, 100, 100)\n"
     ]
    },
    {
     "name": "stderr",
     "output_type": "stream",
     "text": [
      "\r",
      " 60%|██████    | 6/10 [03:27<02:18, 34.64s/it]"
     ]
    },
    {
     "name": "stdout",
     "output_type": "stream",
     "text": [
      "file /home/daniil/gans-mcmc/saved_numpy_arrays/ula_sngan_cifar_recalc_tempering_10.0_nsteps_601_step_0.01_eps_0.1414213562373095_use_noise_True_batch_num_500.npy was saved, file shape = (16, 100, 100)\n"
     ]
    },
    {
     "name": "stderr",
     "output_type": "stream",
     "text": [
      "\r",
      " 70%|███████   | 7/10 [04:02<01:43, 34.62s/it]"
     ]
    },
    {
     "name": "stdout",
     "output_type": "stream",
     "text": [
      "file /home/daniil/gans-mcmc/saved_numpy_arrays/ula_sngan_cifar_recalc_tempering_10.0_nsteps_601_step_0.01_eps_0.1414213562373095_use_noise_True_batch_num_600.npy was saved, file shape = (16, 100, 100)\n"
     ]
    },
    {
     "name": "stderr",
     "output_type": "stream",
     "text": [
      "\r",
      " 80%|████████  | 8/10 [04:36<01:09, 34.61s/it]"
     ]
    },
    {
     "name": "stdout",
     "output_type": "stream",
     "text": [
      "file /home/daniil/gans-mcmc/saved_numpy_arrays/ula_sngan_cifar_recalc_tempering_10.0_nsteps_601_step_0.01_eps_0.1414213562373095_use_noise_True_batch_num_700.npy was saved, file shape = (16, 100, 100)\n"
     ]
    },
    {
     "name": "stderr",
     "output_type": "stream",
     "text": [
      "\r",
      " 90%|█████████ | 9/10 [05:11<00:34, 34.61s/it]"
     ]
    },
    {
     "name": "stdout",
     "output_type": "stream",
     "text": [
      "file /home/daniil/gans-mcmc/saved_numpy_arrays/ula_sngan_cifar_recalc_tempering_10.0_nsteps_601_step_0.01_eps_0.1414213562373095_use_noise_True_batch_num_800.npy was saved, file shape = (16, 100, 100)\n"
     ]
    },
    {
     "name": "stderr",
     "output_type": "stream",
     "text": [
      "100%|██████████| 10/10 [05:46<00:00, 34.62s/it]"
     ]
    },
    {
     "name": "stdout",
     "output_type": "stream",
     "text": [
      "file /home/daniil/gans-mcmc/saved_numpy_arrays/ula_sngan_cifar_recalc_tempering_10.0_nsteps_601_step_0.01_eps_0.1414213562373095_use_noise_True_batch_num_900.npy was saved, file shape = (16, 100, 100)\n"
     ]
    },
    {
     "name": "stderr",
     "output_type": "stream",
     "text": [
      "\n"
     ]
    }
   ],
   "source": [
    "z_last_np, zs = langevin_sampling(tempering_target_gan, proposal, batch_size, n,\n",
    "                                  path_to_save, file_name, every_step,\n",
    "                                  continue_z, n_steps, grad_step, eps_scale,\n",
    "                                  use_noise)"
   ]
  },
  {
   "cell_type": "code",
   "execution_count": 11,
   "id": "organic-joining",
   "metadata": {},
   "outputs": [
    {
     "name": "stderr",
     "output_type": "stream",
     "text": [
      "100%|██████████| 10/10 [00:00<00:00, 3377.06it/s]\n"
     ]
    }
   ],
   "source": [
    "load_np = load_data_from_batches(n, batch_size,\n",
    "                                 path_to_save, file_name)\n",
    "\n",
    "n = 1000\n",
    "batchsize = 100\n",
    "num_bs = n // batchsize"
   ]
  },
  {
   "cell_type": "code",
   "execution_count": 13,
   "id": "educational-yorkshire",
   "metadata": {},
   "outputs": [],
   "source": [
    "log_prob = False\n",
    "normalize_to_0_1 = True\n",
    "\n",
    "target_energy = partial(gan_energy,\n",
    "                         generator = G, \n",
    "                         discriminator = D, \n",
    "                         proposal = proposal,\n",
    "                         normalize_to_0_1 = normalize_to_0_1,\n",
    "                         log_prob = log_prob)"
   ]
  },
  {
   "cell_type": "code",
   "execution_count": 17,
   "id": "living-organization",
   "metadata": {},
   "outputs": [
    {
     "name": "stderr",
     "output_type": "stream",
     "text": [
      "\r",
      "  0%|          | 0/16 [00:00<?, ?it/s]"
     ]
    },
    {
     "name": "stdout",
     "output_type": "stream",
     "text": [
      "iter = 0\n"
     ]
    },
    {
     "name": "stderr",
     "output_type": "stream",
     "text": [
      "\r",
      "  6%|▋         | 1/16 [00:00<00:04,  3.35it/s]"
     ]
    },
    {
     "name": "stdout",
     "output_type": "stream",
     "text": [
      "number of energy samples = 1000\n",
      "mean = 141.6397247314453\n",
      "std = 7.0129594802856445\n",
      "------------\n",
      "iter = 1\n"
     ]
    },
    {
     "name": "stderr",
     "output_type": "stream",
     "text": [
      "\r",
      " 12%|█▎        | 2/16 [00:00<00:04,  3.34it/s]"
     ]
    },
    {
     "name": "stdout",
     "output_type": "stream",
     "text": [
      "number of energy samples = 1000\n",
      "mean = 97.21489715576172\n",
      "std = 0.7440405488014221\n",
      "------------\n",
      "iter = 2\n"
     ]
    },
    {
     "name": "stderr",
     "output_type": "stream",
     "text": [
      "\r",
      " 19%|█▉        | 3/16 [00:00<00:03,  3.34it/s]"
     ]
    },
    {
     "name": "stdout",
     "output_type": "stream",
     "text": [
      "number of energy samples = 1000\n",
      "mean = 97.20036315917969\n",
      "std = 0.7421139478683472\n",
      "------------\n",
      "iter = 3\n"
     ]
    },
    {
     "name": "stderr",
     "output_type": "stream",
     "text": [
      "\r",
      " 25%|██▌       | 4/16 [00:01<00:03,  3.34it/s]"
     ]
    },
    {
     "name": "stdout",
     "output_type": "stream",
     "text": [
      "number of energy samples = 1000\n",
      "mean = 97.13306427001953\n",
      "std = 0.7426393032073975\n",
      "------------\n",
      "iter = 4\n"
     ]
    },
    {
     "name": "stderr",
     "output_type": "stream",
     "text": [
      "\r",
      " 31%|███▏      | 5/16 [00:01<00:03,  3.33it/s]"
     ]
    },
    {
     "name": "stdout",
     "output_type": "stream",
     "text": [
      "number of energy samples = 1000\n",
      "mean = 97.23138427734375\n",
      "std = 0.7603744268417358\n",
      "------------\n",
      "iter = 5\n"
     ]
    },
    {
     "name": "stderr",
     "output_type": "stream",
     "text": [
      "\r",
      " 38%|███▊      | 6/16 [00:01<00:03,  3.32it/s]"
     ]
    },
    {
     "name": "stdout",
     "output_type": "stream",
     "text": [
      "number of energy samples = 1000\n",
      "mean = 97.2076187133789\n",
      "std = 0.7216581106185913\n",
      "------------\n",
      "iter = 6\n"
     ]
    },
    {
     "name": "stderr",
     "output_type": "stream",
     "text": [
      "\r",
      " 44%|████▍     | 7/16 [00:02<00:02,  3.33it/s]"
     ]
    },
    {
     "name": "stdout",
     "output_type": "stream",
     "text": [
      "number of energy samples = 1000\n",
      "mean = 97.19959259033203\n",
      "std = 0.740278959274292\n",
      "------------\n",
      "iter = 7\n"
     ]
    },
    {
     "name": "stderr",
     "output_type": "stream",
     "text": [
      "\r",
      " 50%|█████     | 8/16 [00:02<00:02,  3.32it/s]"
     ]
    },
    {
     "name": "stdout",
     "output_type": "stream",
     "text": [
      "number of energy samples = 1000\n",
      "mean = 97.16096496582031\n",
      "std = 0.7418732643127441\n",
      "------------\n",
      "iter = 8\n"
     ]
    },
    {
     "name": "stderr",
     "output_type": "stream",
     "text": [
      "\r",
      " 56%|█████▋    | 9/16 [00:02<00:02,  3.32it/s]"
     ]
    },
    {
     "name": "stdout",
     "output_type": "stream",
     "text": [
      "number of energy samples = 1000\n",
      "mean = 97.2118148803711\n",
      "std = 0.7678443789482117\n",
      "------------\n",
      "iter = 9\n"
     ]
    },
    {
     "name": "stderr",
     "output_type": "stream",
     "text": [
      "\r",
      " 62%|██████▎   | 10/16 [00:03<00:01,  3.32it/s]"
     ]
    },
    {
     "name": "stdout",
     "output_type": "stream",
     "text": [
      "number of energy samples = 1000\n",
      "mean = 97.1954345703125\n",
      "std = 0.7412859797477722\n",
      "------------\n",
      "iter = 10\n"
     ]
    },
    {
     "name": "stderr",
     "output_type": "stream",
     "text": [
      "\r",
      " 69%|██████▉   | 11/16 [00:03<00:01,  3.31it/s]"
     ]
    },
    {
     "name": "stdout",
     "output_type": "stream",
     "text": [
      "number of energy samples = 1000\n",
      "mean = 97.20182037353516\n",
      "std = 0.7614750266075134\n",
      "------------\n",
      "iter = 11\n"
     ]
    },
    {
     "name": "stderr",
     "output_type": "stream",
     "text": [
      "\r",
      " 75%|███████▌  | 12/16 [00:03<00:01,  3.32it/s]"
     ]
    },
    {
     "name": "stdout",
     "output_type": "stream",
     "text": [
      "number of energy samples = 1000\n",
      "mean = 97.21600341796875\n",
      "std = 0.7540574073791504\n",
      "------------\n",
      "iter = 12\n"
     ]
    },
    {
     "name": "stderr",
     "output_type": "stream",
     "text": [
      "\r",
      " 81%|████████▏ | 13/16 [00:03<00:00,  3.32it/s]"
     ]
    },
    {
     "name": "stdout",
     "output_type": "stream",
     "text": [
      "number of energy samples = 1000\n",
      "mean = 97.1792984008789\n",
      "std = 0.7547577023506165\n",
      "------------\n",
      "iter = 13\n"
     ]
    },
    {
     "name": "stderr",
     "output_type": "stream",
     "text": [
      "\r",
      " 88%|████████▊ | 14/16 [00:04<00:00,  3.32it/s]"
     ]
    },
    {
     "name": "stdout",
     "output_type": "stream",
     "text": [
      "number of energy samples = 1000\n",
      "mean = 97.21160888671875\n",
      "std = 0.755862832069397\n",
      "------------\n",
      "iter = 14\n"
     ]
    },
    {
     "name": "stderr",
     "output_type": "stream",
     "text": [
      "\r",
      " 94%|█████████▍| 15/16 [00:04<00:00,  3.31it/s]"
     ]
    },
    {
     "name": "stdout",
     "output_type": "stream",
     "text": [
      "number of energy samples = 1000\n",
      "mean = 97.23406219482422\n",
      "std = 0.7539855241775513\n",
      "------------\n",
      "iter = 15\n"
     ]
    },
    {
     "name": "stderr",
     "output_type": "stream",
     "text": [
      "100%|██████████| 16/16 [00:04<00:00,  3.32it/s]"
     ]
    },
    {
     "name": "stdout",
     "output_type": "stream",
     "text": [
      "number of energy samples = 1000\n",
      "mean = 97.2415771484375\n",
      "std = 0.74500572681427\n",
      "------------\n"
     ]
    },
    {
     "name": "stderr",
     "output_type": "stream",
     "text": [
      "\n"
     ]
    }
   ],
   "source": [
    "ula_mean, std_mean = report_energy(load_np, target_energy, num_bs, batchsize, device)"
   ]
  },
  {
   "cell_type": "code",
   "execution_count": 18,
   "id": "satisfied-rebate",
   "metadata": {},
   "outputs": [
    {
     "data": {
      "image/png": "[encoded data removed]",
      "text/plain": [
       "<Figure size 432x288 with 1 Axes>"
      ]
     },
     "metadata": {
      "needs_background": "light"
     },
     "output_type": "display_data"
    }
   ],
   "source": [
    "plt.plot([i*40 for i in range(len(ula_mean))], ula_mean, label = \"ULA\", color='r')\n",
    "plt.xlabel(\"MCMC iteration\")\n",
    "plt.ylabel(\"Energy\")\n",
    "plt.grid()\n",
    "plt.legend()\n",
    "plt.show()"
   ]
  },
  {
   "cell_type": "code",
   "execution_count": 9,
   "id": "ignored-accommodation",
   "metadata": {},
   "outputs": [],
   "source": [
    "def compute_sir_log_weights(x, target, proposal):\n",
    "    return target(x) - proposal.log_prob(x)\n",
    "\n",
    "def sir_independent_dynamics_update(z, target, proposal, n_steps, N):\n",
    "    z_sp = []\n",
    "    batch_size, z_dim = z.shape[0], z.shape[1]\n",
    "    \n",
    "    diff_history = []\n",
    "\n",
    "    for _ in tqdm(range(n_steps)):\n",
    "        z_sp.append(z)\n",
    "        z_old = z.clone().detach()\n",
    "        U = torch.randint(0, N, (batch_size,)).tolist()\n",
    "        X = proposal.sample([batch_size, N])\n",
    "        X[np.arange(batch_size), U, :] = z\n",
    "        X_view = X.view(-1, z_dim)\n",
    "\n",
    "        log_weight = compute_sir_log_weights(X_view, target, proposal)\n",
    "        log_weight = log_weight.view(batch_size, N)\n",
    "      \n",
    "        max_logs = torch.max(log_weight, dim=1)[0][:, None]\n",
    "        log_weight = log_weight - max_logs\n",
    "        weight = torch.exp(log_weight)\n",
    "        sum_weight = torch.sum(weight, dim=1)\n",
    "        weight = weight/sum_weight[:, None]\n",
    "\n",
    "        weight[weight != weight] = 0.\n",
    "        weight[weight.sum(1) == 0.] = 1.\n",
    "\n",
    "        indices = torch.multinomial(weight, 1).squeeze().tolist()\n",
    "\n",
    "        z = X[np.arange(batch_size), indices, :]\n",
    "        z = z.data\n",
    "        \n",
    "        diff = float((torch.norm(z.clone() - z_old, dim = 1) < 1e-10).sum())/batch_size\n",
    "        \n",
    "        diff_history.append(diff)\n",
    "\n",
    "    z_sp.append(z)\n",
    "    return z_sp, diff_history"
   ]
  },
  {
   "cell_type": "code",
   "execution_count": 17,
   "id": "grateful-booking",
   "metadata": {},
   "outputs": [
    {
     "name": "stderr",
     "output_type": "stream",
     "text": [
      "100%|██████████| 1000/1000 [01:49<00:00,  9.09it/s]\n"
     ]
    }
   ],
   "source": [
    "N = 10\n",
    "n_steps = 1000\n",
    "batch_size = 100\n",
    "\n",
    "z_start = torch.randn(batch_size, G.z_dim).to(device)\n",
    "\n",
    "z_sp, diff_history = sir_independent_dynamics_update(z_start, target_gan, proposal, n_steps, N)"
   ]
  },
  {
   "cell_type": "code",
   "execution_count": 18,
   "id": "wound-grace",
   "metadata": {},
   "outputs": [],
   "source": [
    "every_step = 40\n",
    "z_sp_every = z_sp[::every_step]"
   ]
  },
  {
   "cell_type": "code",
   "execution_count": 19,
   "id": "usual-finish",
   "metadata": {},
   "outputs": [],
   "source": [
    "zs_numpy = np.stack([o.data.cpu().numpy() for o in z_sp_every], axis=0)"
   ]
  },
  {
   "cell_type": "code",
   "execution_count": 20,
   "id": "saving-aging",
   "metadata": {},
   "outputs": [
    {
     "name": "stderr",
     "output_type": "stream",
     "text": [
      " 27%|██▋       | 7/26 [00:00<00:00, 68.36it/s]"
     ]
    },
    {
     "name": "stdout",
     "output_type": "stream",
     "text": [
      "iter = 0\n",
      "number of energy samples = 100\n",
      "mean = 142.65362548828125\n",
      "std = 6.880403995513916\n",
      "------------\n",
      "iter = 1\n",
      "number of energy samples = 100\n",
      "mean = 142.21237182617188\n",
      "std = 7.196822166442871\n",
      "------------\n",
      "iter = 2\n",
      "number of energy samples = 100\n",
      "mean = 141.5471954345703\n",
      "std = 7.595225811004639\n",
      "------------\n",
      "iter = 3\n",
      "number of energy samples = 100\n",
      "mean = 142.44903564453125\n",
      "std = 6.990432262420654\n",
      "------------\n",
      "iter = 4\n",
      "number of energy samples = 100\n",
      "mean = 141.21006774902344\n",
      "std = 7.078188419342041\n",
      "------------\n",
      "iter = 5\n",
      "number of energy samples = 100\n",
      "mean = 142.25392150878906\n",
      "std = 6.560608863830566\n",
      "------------\n",
      "iter = 6\n",
      "number of energy samples = 100\n",
      "mean = 141.63226318359375\n",
      "std = 7.196898937225342\n",
      "------------\n",
      "iter = 7\n",
      "number of energy samples = 100\n",
      "mean = 141.30331420898438\n",
      "std = 6.226741313934326\n",
      "------------\n",
      "iter = 8\n",
      "number of energy samples = 100\n",
      "mean = 141.5135498046875\n",
      "std = 6.245516777038574\n",
      "------------\n",
      "iter = 9\n",
      "number of energy samples = 100\n",
      "mean = 140.62918090820312\n",
      "std = 7.005526542663574\n",
      "------------\n",
      "iter = 10\n",
      "number of energy samples = 100\n",
      "mean = 142.41876220703125\n",
      "std = 7.069116592407227\n",
      "------------\n",
      "iter = 11\n",
      "number of energy samples = 100\n",
      "mean = 141.87255859375\n",
      "std = 6.918712615966797\n",
      "------------\n",
      "iter = 12\n",
      "number of energy samples = 100\n",
      "mean = 141.42071533203125\n",
      "std = 6.292339324951172\n",
      "------------\n",
      "iter = 13\n",
      "number of energy samples = 100\n",
      "mean = 141.99569702148438\n",
      "std = 5.871938228607178\n",
      "------------\n",
      "iter = 14\n"
     ]
    },
    {
     "name": "stderr",
     "output_type": "stream",
     "text": [
      "100%|██████████| 26/26 [00:00<00:00, 74.90it/s]"
     ]
    },
    {
     "name": "stdout",
     "output_type": "stream",
     "text": [
      "number of energy samples = 100\n",
      "mean = 142.87010192871094\n",
      "std = 7.299497604370117\n",
      "------------\n",
      "iter = 15\n",
      "number of energy samples = 100\n",
      "mean = 142.76808166503906\n",
      "std = 6.977027893066406\n",
      "------------\n",
      "iter = 16\n",
      "number of energy samples = 100\n",
      "mean = 141.74533081054688\n",
      "std = 6.402209281921387\n",
      "------------\n",
      "iter = 17\n",
      "number of energy samples = 100\n",
      "mean = 142.28387451171875\n",
      "std = 7.1925578117370605\n",
      "------------\n",
      "iter = 18\n",
      "number of energy samples = 100\n",
      "mean = 141.6639404296875\n",
      "std = 6.483904838562012\n",
      "------------\n",
      "iter = 19\n",
      "number of energy samples = 100\n",
      "mean = 142.0612030029297\n",
      "std = 6.192787170410156\n",
      "------------\n",
      "iter = 20\n",
      "number of energy samples = 100\n",
      "mean = 139.86871337890625\n",
      "std = 7.078773498535156\n",
      "------------\n",
      "iter = 21\n",
      "number of energy samples = 100\n",
      "mean = 141.99728393554688\n",
      "std = 7.3609185218811035\n",
      "------------\n",
      "iter = 22\n",
      "number of energy samples = 100\n",
      "mean = 141.1507110595703\n",
      "std = 7.108511924743652\n",
      "------------\n",
      "iter = 23\n",
      "number of energy samples = 100\n",
      "mean = 141.3657684326172\n",
      "std = 6.994800090789795\n",
      "------------\n",
      "iter = 24\n",
      "number of energy samples = 100\n",
      "mean = 141.46743774414062\n",
      "std = 7.256356716156006\n",
      "------------\n",
      "iter = 25\n",
      "number of energy samples = 100\n",
      "mean = 142.69805908203125\n",
      "std = 7.187094688415527\n",
      "------------\n"
     ]
    },
    {
     "name": "stderr",
     "output_type": "stream",
     "text": [
      "\n"
     ]
    }
   ],
   "source": [
    "n = zs_numpy.shape[1]\n",
    "batchsize = n\n",
    "num_bs = n // batchsize\n",
    "\n",
    "sir_mean, sir_std = report_energy(zs_numpy, target_energy, num_bs, batchsize, device)"
   ]
  },
  {
   "cell_type": "code",
   "execution_count": 21,
   "id": "international-campaign",
   "metadata": {},
   "outputs": [
    {
     "data": {
      "image/png": "[encoded data removed]",
      "text/plain": [
       "<Figure size 432x288 with 1 Axes>"
      ]
     },
     "metadata": {
      "needs_background": "light"
     },
     "output_type": "display_data"
    }
   ],
   "source": [
    "plt.plot([i*40 for i in range(len(sir_mean))], sir_mean, label = \"SIR\", color='r')\n",
    "plt.xlabel(\"MCMC iteration\")\n",
    "plt.ylabel(\"Energy\")\n",
    "plt.grid()\n",
    "plt.legend()\n",
    "plt.show()"
   ]
  },
  {
   "cell_type": "code",
   "execution_count": 21,
   "id": "strong-least",
   "metadata": {},
   "outputs": [
    {
     "data": {
      "text/plain": [
       "torch.Size([200, 100])"
      ]
     },
     "execution_count": 21,
     "metadata": {},
     "output_type": "execute_result"
    }
   ],
   "source": [
    "z_sp[0].shape"
   ]
  },
  {
   "cell_type": "code",
   "execution_count": 18,
   "id": "broad-circle",
   "metadata": {},
   "outputs": [
    {
     "data": {
      "image/png": "[encoded data removed]",
      "text/plain": [
       "<Figure size 432x288 with 1 Axes>"
      ]
     },
     "metadata": {
      "needs_background": "light"
     },
     "output_type": "display_data"
    }
   ],
   "source": [
    "plt.plot([i for i in range(len(diff_history))], diff_history)\n",
    "plt.show()"
   ]
  },
  {
   "cell_type": "code",
   "execution_count": 35,
   "id": "religious-saver",
   "metadata": {},
   "outputs": [],
   "source": [
    "z = torch.randn(500, G.z_dim).to(device)\n",
    "mean_discr = D(G(z)).sigmoid().mean()"
   ]
  },
  {
   "cell_type": "code",
   "execution_count": 36,
   "id": "decent-sullivan",
   "metadata": {},
   "outputs": [
    {
     "data": {
      "text/plain": [
       "tensor(0.5025, device='cuda:1', grad_fn=<MeanBackward0>)"
      ]
     },
     "execution_count": 36,
     "metadata": {},
     "output_type": "execute_result"
    }
   ],
   "source": [
    "mean_discr"
   ]
  },
  {
   "cell_type": "code",
   "execution_count": 22,
   "id": "electronic-madagascar",
   "metadata": {},
   "outputs": [
    {
     "name": "stderr",
     "output_type": "stream",
     "text": [
      " 27%|██▋       | 7/26 [00:00<00:00, 65.71it/s]"
     ]
    },
    {
     "name": "stdout",
     "output_type": "stream",
     "text": [
      "iter = 0\n",
      "number of energy samples = 100\n",
      "mean = 0.49791276454925537\n",
      "std = 0.057271558791399\n",
      "------------\n",
      "iter = 1\n",
      "number of energy samples = 100\n",
      "mean = 0.5345805883407593\n",
      "std = 0.07661095261573792\n",
      "------------\n",
      "iter = 2\n",
      "number of energy samples = 100\n",
      "mean = 0.5261450409889221\n",
      "std = 0.0674680843949318\n",
      "------------\n",
      "iter = 3\n",
      "number of energy samples = 100\n",
      "mean = 0.5254385471343994\n",
      "std = 0.0749223604798317\n",
      "------------\n",
      "iter = 4\n",
      "number of energy samples = 100\n",
      "mean = 0.5280274748802185\n",
      "std = 0.07519421726465225\n",
      "------------\n",
      "iter = 5\n",
      "number of energy samples = 100\n",
      "mean = 0.5345245599746704\n",
      "std = 0.08111830055713654\n",
      "------------\n",
      "iter = 6\n",
      "number of energy samples = 100\n",
      "mean = 0.5246350765228271\n",
      "std = 0.07662920653820038\n",
      "------------\n",
      "iter = 7\n",
      "number of energy samples = 100\n",
      "mean = 0.5220229625701904\n",
      "std = 0.06153254956007004\n",
      "------------\n",
      "iter = 8\n",
      "number of energy samples = 100\n",
      "mean = 0.5237981081008911\n",
      "std = 0.08061438798904419\n",
      "------------\n",
      "iter = 9\n",
      "number of energy samples = 100\n",
      "mean = 0.5135208964347839\n",
      "std = 0.0618932880461216\n",
      "------------\n",
      "iter = 10\n",
      "number of energy samples = 100\n",
      "mean = 0.5193073749542236\n",
      "std = 0.06933487951755524\n",
      "------------\n",
      "iter = 11\n",
      "number of energy samples = 100\n",
      "mean = 0.5179589986801147\n",
      "std = 0.062447670847177505\n",
      "------------\n",
      "iter = 12\n",
      "number of energy samples = 100\n",
      "mean = 0.5205233097076416\n",
      "std = 0.06413353234529495\n",
      "------------\n",
      "iter = 13\n",
      "number of energy samples = 100\n",
      "mean = 0.5232061147689819\n",
      "std = 0.0822540894150734\n",
      "------------\n",
      "iter = 14\n"
     ]
    },
    {
     "name": "stderr",
     "output_type": "stream",
     "text": [
      "100%|██████████| 26/26 [00:00<00:00, 74.53it/s]"
     ]
    },
    {
     "name": "stdout",
     "output_type": "stream",
     "text": [
      "number of energy samples = 100\n",
      "mean = 0.523982048034668\n",
      "std = 0.07616845518350601\n",
      "------------\n",
      "iter = 15\n",
      "number of energy samples = 100\n",
      "mean = 0.5184056162834167\n",
      "std = 0.07487516850233078\n",
      "------------\n",
      "iter = 16\n",
      "number of energy samples = 100\n",
      "mean = 0.5227597951889038\n",
      "std = 0.06728874891996384\n",
      "------------\n",
      "iter = 17\n",
      "number of energy samples = 100\n",
      "mean = 0.5226198434829712\n",
      "std = 0.07447654008865356\n",
      "------------\n",
      "iter = 18\n",
      "number of energy samples = 100\n",
      "mean = 0.5097423791885376\n",
      "std = 0.05917210131883621\n",
      "------------\n",
      "iter = 19\n",
      "number of energy samples = 100\n",
      "mean = 0.521773099899292\n",
      "std = 0.07422059774398804\n",
      "------------\n",
      "iter = 20\n",
      "number of energy samples = 100\n",
      "mean = 0.5207768082618713\n",
      "std = 0.0769721269607544\n",
      "------------\n",
      "iter = 21\n",
      "number of energy samples = 100\n",
      "mean = 0.5236026644706726\n",
      "std = 0.07151240855455399\n",
      "------------\n",
      "iter = 22\n",
      "number of energy samples = 100\n",
      "mean = 0.5165510773658752\n",
      "std = 0.07129940390586853\n",
      "------------\n",
      "iter = 23\n",
      "number of energy samples = 100\n",
      "mean = 0.5192240476608276\n",
      "std = 0.06287975609302521\n",
      "------------\n",
      "iter = 24\n",
      "number of energy samples = 100\n",
      "mean = 0.5298880934715271\n",
      "std = 0.06499125808477402\n",
      "------------\n",
      "iter = 25\n",
      "number of energy samples = 100\n",
      "mean = 0.5268800854682922\n",
      "std = 0.0771128237247467\n",
      "------------\n"
     ]
    },
    {
     "name": "stderr",
     "output_type": "stream",
     "text": [
      "\n"
     ]
    }
   ],
   "source": [
    "z_transform = lambda x: x\n",
    "use_sigmoid = True\n",
    "mean_discr_val, std_discr_val = report_mean_discriminator(zs_numpy, G, D, z_transform, \n",
    "                                                          num_bs, batchsize, device, \n",
    "                                                          use_sigmoid=use_sigmoid)"
   ]
  },
  {
   "cell_type": "code",
   "execution_count": 23,
   "id": "fifth-pierce",
   "metadata": {},
   "outputs": [
    {
     "data": {
      "image/png": "[encoded data removed]",
      "text/plain": [
       "<Figure size 432x288 with 1 Axes>"
      ]
     },
     "metadata": {
      "needs_background": "light"
     },
     "output_type": "display_data"
    }
   ],
   "source": [
    "plt.plot([i*40 for i in range(len(mean_discr_val))], mean_discr_val, label = \"SIR\", color='r')\n",
    "plt.xlabel(\"MCMC iteration\")\n",
    "plt.ylabel(fr\"$D(G(z))$\")\n",
    "plt.grid()\n",
    "plt.legend()\n",
    "plt.show()"
   ]
  },
  {
   "cell_type": "code",
   "execution_count": 27,
   "id": "caroline-praise",
   "metadata": {},
   "outputs": [
    {
     "name": "stderr",
     "output_type": "stream",
     "text": [
      " 20%|██        | 1/5 [03:41<14:44, 221.18s/it]"
     ]
    },
    {
     "name": "stdout",
     "output_type": "stream",
     "text": [
      "file /home/daniil/gans-mcmc/saved_numpy_arrays/sir_mala_sngan_cifar_recalc_N_5_nsteps_1001_step_0.05_eps_0.31622776601683794_batch_num_0.npy was saved, file shape = (26, 200, 100)\n"
     ]
    },
    {
     "name": "stderr",
     "output_type": "stream",
     "text": [
      "\r",
      " 40%|████      | 2/5 [07:26<11:07, 222.38s/it]"
     ]
    },
    {
     "name": "stdout",
     "output_type": "stream",
     "text": [
      "file /home/daniil/gans-mcmc/saved_numpy_arrays/sir_mala_sngan_cifar_recalc_N_5_nsteps_1001_step_0.05_eps_0.31622776601683794_batch_num_200.npy was saved, file shape = (26, 200, 100)\n"
     ]
    },
    {
     "name": "stderr",
     "output_type": "stream",
     "text": [
      "\r",
      " 60%|██████    | 3/5 [11:11<07:26, 223.19s/it]"
     ]
    },
    {
     "name": "stdout",
     "output_type": "stream",
     "text": [
      "file /home/daniil/gans-mcmc/saved_numpy_arrays/sir_mala_sngan_cifar_recalc_N_5_nsteps_1001_step_0.05_eps_0.31622776601683794_batch_num_400.npy was saved, file shape = (26, 200, 100)\n"
     ]
    },
    {
     "name": "stderr",
     "output_type": "stream",
     "text": [
      "\r",
      " 80%|████████  | 4/5 [14:56<03:43, 223.78s/it]"
     ]
    },
    {
     "name": "stdout",
     "output_type": "stream",
     "text": [
      "file /home/daniil/gans-mcmc/saved_numpy_arrays/sir_mala_sngan_cifar_recalc_N_5_nsteps_1001_step_0.05_eps_0.31622776601683794_batch_num_600.npy was saved, file shape = (26, 200, 100)\n"
     ]
    },
    {
     "name": "stderr",
     "output_type": "stream",
     "text": [
      "100%|██████████| 5/5 [18:41<00:00, 224.33s/it]"
     ]
    },
    {
     "name": "stdout",
     "output_type": "stream",
     "text": [
      "file /home/daniil/gans-mcmc/saved_numpy_arrays/sir_mala_sngan_cifar_recalc_N_5_nsteps_1001_step_0.05_eps_0.31622776601683794_batch_num_800.npy was saved, file shape = (26, 200, 100)\n"
     ]
    },
    {
     "name": "stderr",
     "output_type": "stream",
     "text": [
      "\n"
     ]
    }
   ],
   "source": [
    "random_seed = 42\n",
    "torch.manual_seed(random_seed)\n",
    "np.random.seed(random_seed)\n",
    "random.seed(random_seed)\n",
    "\n",
    "N = 5\n",
    "\n",
    "batch_size = 200\n",
    "n = 1000\n",
    "n_steps = 1001\n",
    "\n",
    "grad_step = 5*0.01\n",
    "eps_scale = (2 * grad_step) ** 0.5\n",
    "\n",
    "method_name = 'sir_mala_sngan_cifar_recalc'\n",
    "path_to_save = '/home/daniil/gans-mcmc/saved_numpy_arrays'\n",
    "file_name = f'{method_name}_N_{N}_nsteps_{n_steps}_step_{grad_step}_eps_{eps_scale}'\n",
    "every_step = 40\n",
    "continue_z = None\n",
    "\n",
    "acceptance_rule = 'Hastings'\n",
    "\n",
    "z_last_np, zs = sir_independent_mala_sampling(target_gan, proposal, batch_size, n,\n",
    "                                              path_to_save, file_name, every_step,\n",
    "                                              continue_z, n_steps, N, grad_step, eps_scale,\n",
    "                                              acceptance_rule)"
   ]
  },
  {
   "cell_type": "code",
   "execution_count": 32,
   "id": "industrial-trouble",
   "metadata": {},
   "outputs": [
    {
     "data": {
      "text/plain": [
       "'sir_mala_sngan_cifar_recalc_N_5_nsteps_1001_step_0.05_eps_0.31622776601683794'"
      ]
     },
     "execution_count": 32,
     "metadata": {},
     "output_type": "execute_result"
    }
   ],
   "source": [
    "file_name"
   ]
  },
  {
   "cell_type": "code",
   "execution_count": 29,
   "id": "simple-following",
   "metadata": {},
   "outputs": [
    {
     "name": "stderr",
     "output_type": "stream",
     "text": [
      "100%|██████████| 5/5 [00:00<00:00, 1952.47it/s]\n"
     ]
    }
   ],
   "source": [
    "n = 1000\n",
    "batchsize = 200\n",
    "num_bs = n // batchsize\n",
    "\n",
    "load_np = load_data_from_batches(n, batch_size,\n",
    "                                 path_to_save, file_name)"
   ]
  },
  {
   "cell_type": "code",
   "execution_count": 30,
   "id": "apparent-rabbit",
   "metadata": {},
   "outputs": [
    {
     "data": {
      "text/plain": [
       "(26, 1000, 100)"
      ]
     },
     "execution_count": 30,
     "metadata": {},
     "output_type": "execute_result"
    }
   ],
   "source": [
    "load_np.shape"
   ]
  },
  {
   "cell_type": "code",
   "execution_count": 31,
   "id": "alpha-substitute",
   "metadata": {},
   "outputs": [
    {
     "name": "stderr",
     "output_type": "stream",
     "text": [
      "  4%|▍         | 1/26 [00:00<00:03,  7.18it/s]"
     ]
    },
    {
     "name": "stdout",
     "output_type": "stream",
     "text": [
      "iter = 0\n",
      "number of energy samples = 1000\n",
      "mean = 141.8033447265625\n",
      "std = 6.694159030914307\n",
      "------------\n",
      "iter = 1\n"
     ]
    },
    {
     "name": "stderr",
     "output_type": "stream",
     "text": [
      " 12%|█▏        | 3/26 [00:00<00:02,  8.03it/s]"
     ]
    },
    {
     "name": "stdout",
     "output_type": "stream",
     "text": [
      "number of energy samples = 1000\n",
      "mean = 142.43309020996094\n",
      "std = 7.083502292633057\n",
      "------------\n",
      "iter = 2\n",
      "number of energy samples = 1000\n",
      "mean = 142.1190643310547\n",
      "std = 7.034554958343506\n",
      "------------\n",
      "iter = 3\n"
     ]
    },
    {
     "name": "stderr",
     "output_type": "stream",
     "text": [
      " 19%|█▉        | 5/26 [00:00<00:02,  8.50it/s]"
     ]
    },
    {
     "name": "stdout",
     "output_type": "stream",
     "text": [
      "number of energy samples = 1000\n",
      "mean = 141.87539672851562\n",
      "std = 7.268433094024658\n",
      "------------\n",
      "iter = 4\n",
      "number of energy samples = 1000\n",
      "mean = 142.13311767578125\n",
      "std = 7.011165618896484\n",
      "------------\n",
      "iter = 5\n"
     ]
    },
    {
     "name": "stderr",
     "output_type": "stream",
     "text": [
      " 27%|██▋       | 7/26 [00:00<00:02,  8.78it/s]"
     ]
    },
    {
     "name": "stdout",
     "output_type": "stream",
     "text": [
      "number of energy samples = 1000\n",
      "mean = 141.85997009277344\n",
      "std = 7.097349166870117\n",
      "------------\n",
      "iter = 6\n",
      "number of energy samples = 1000\n",
      "mean = 141.88490295410156\n",
      "std = 7.0243096351623535\n",
      "------------\n",
      "iter = 7\n"
     ]
    },
    {
     "name": "stderr",
     "output_type": "stream",
     "text": [
      " 35%|███▍      | 9/26 [00:01<00:01,  8.91it/s]"
     ]
    },
    {
     "name": "stdout",
     "output_type": "stream",
     "text": [
      "number of energy samples = 1000\n",
      "mean = 141.84353637695312\n",
      "std = 6.883825778961182\n",
      "------------\n",
      "iter = 8\n",
      "number of energy samples = 1000\n",
      "mean = 141.86679077148438\n",
      "std = 7.204814910888672\n",
      "------------\n",
      "iter = 9\n"
     ]
    },
    {
     "name": "stderr",
     "output_type": "stream",
     "text": [
      " 42%|████▏     | 11/26 [00:01<00:01,  8.95it/s]"
     ]
    },
    {
     "name": "stdout",
     "output_type": "stream",
     "text": [
      "number of energy samples = 1000\n",
      "mean = 141.8322296142578\n",
      "std = 6.8947930335998535\n",
      "------------\n",
      "iter = 10\n",
      "number of energy samples = 1000\n",
      "mean = 141.66119384765625\n",
      "std = 6.898343563079834\n",
      "------------\n",
      "iter = 11\n"
     ]
    },
    {
     "name": "stderr",
     "output_type": "stream",
     "text": [
      " 50%|█████     | 13/26 [00:01<00:01,  9.01it/s]"
     ]
    },
    {
     "name": "stdout",
     "output_type": "stream",
     "text": [
      "number of energy samples = 1000\n",
      "mean = 141.48239135742188\n",
      "std = 7.070368766784668\n",
      "------------\n",
      "iter = 12\n",
      "number of energy samples = 1000\n",
      "mean = 142.00393676757812\n",
      "std = 7.1501665115356445\n",
      "------------\n",
      "iter = 13\n"
     ]
    },
    {
     "name": "stderr",
     "output_type": "stream",
     "text": [
      " 58%|█████▊    | 15/26 [00:01<00:01,  9.03it/s]"
     ]
    },
    {
     "name": "stdout",
     "output_type": "stream",
     "text": [
      "number of energy samples = 1000\n",
      "mean = 142.07205200195312\n",
      "std = 6.917758464813232\n",
      "------------\n",
      "iter = 14\n",
      "number of energy samples = 1000\n",
      "mean = 141.85916137695312\n",
      "std = 7.350790023803711\n",
      "------------\n",
      "iter = 15\n"
     ]
    },
    {
     "name": "stderr",
     "output_type": "stream",
     "text": [
      " 65%|██████▌   | 17/26 [00:01<00:00,  9.04it/s]"
     ]
    },
    {
     "name": "stdout",
     "output_type": "stream",
     "text": [
      "number of energy samples = 1000\n",
      "mean = 141.98532104492188\n",
      "std = 7.096488952636719\n",
      "------------\n",
      "iter = 16\n",
      "number of energy samples = 1000\n",
      "mean = 141.97560119628906\n",
      "std = 7.031350612640381\n",
      "------------\n",
      "iter = 17\n"
     ]
    },
    {
     "name": "stderr",
     "output_type": "stream",
     "text": [
      " 73%|███████▎  | 19/26 [00:02<00:00,  9.03it/s]"
     ]
    },
    {
     "name": "stdout",
     "output_type": "stream",
     "text": [
      "number of energy samples = 1000\n",
      "mean = 142.17367553710938\n",
      "std = 7.163242340087891\n",
      "------------\n",
      "iter = 18\n",
      "number of energy samples = 1000\n",
      "mean = 141.8199005126953\n",
      "std = 7.352567672729492\n",
      "------------\n",
      "iter = 19\n"
     ]
    },
    {
     "name": "stderr",
     "output_type": "stream",
     "text": [
      " 81%|████████  | 21/26 [00:02<00:00,  9.02it/s]"
     ]
    },
    {
     "name": "stdout",
     "output_type": "stream",
     "text": [
      "number of energy samples = 1000\n",
      "mean = 141.56259155273438\n",
      "std = 6.947989463806152\n",
      "------------\n",
      "iter = 20\n",
      "number of energy samples = 1000\n",
      "mean = 142.04200744628906\n",
      "std = 7.206571102142334\n",
      "------------\n",
      "iter = 21\n"
     ]
    },
    {
     "name": "stderr",
     "output_type": "stream",
     "text": [
      " 88%|████████▊ | 23/26 [00:02<00:00,  9.03it/s]"
     ]
    },
    {
     "name": "stdout",
     "output_type": "stream",
     "text": [
      "number of energy samples = 1000\n",
      "mean = 141.832275390625\n",
      "std = 7.1343183517456055\n",
      "------------\n",
      "iter = 22\n",
      "number of energy samples = 1000\n",
      "mean = 141.78366088867188\n",
      "std = 6.910483360290527\n",
      "------------\n",
      "iter = 23\n"
     ]
    },
    {
     "name": "stderr",
     "output_type": "stream",
     "text": [
      " 96%|█████████▌| 25/26 [00:02<00:00,  9.03it/s]"
     ]
    },
    {
     "name": "stdout",
     "output_type": "stream",
     "text": [
      "number of energy samples = 1000\n",
      "mean = 141.68736267089844\n",
      "std = 6.924605369567871\n",
      "------------\n",
      "iter = 24\n",
      "number of energy samples = 1000\n",
      "mean = 141.4935302734375\n",
      "std = 6.807049751281738\n",
      "------------\n",
      "iter = 25\n"
     ]
    },
    {
     "name": "stderr",
     "output_type": "stream",
     "text": [
      "100%|██████████| 26/26 [00:02<00:00,  8.95it/s]"
     ]
    },
    {
     "name": "stdout",
     "output_type": "stream",
     "text": [
      "number of energy samples = 1000\n",
      "mean = 141.91903686523438\n",
      "std = 6.899006366729736\n",
      "------------\n"
     ]
    },
    {
     "name": "stderr",
     "output_type": "stream",
     "text": [
      "\n"
     ]
    }
   ],
   "source": [
    "ula_mean, std_mean = report_energy(load_np, target_energy, num_bs, batchsize, device)"
   ]
  },
  {
   "cell_type": "code",
   "execution_count": 33,
   "id": "educational-interference",
   "metadata": {},
   "outputs": [
    {
     "data": {
      "image/png": "[encoded data removed]",
      "text/plain": [
       "<Figure size 432x288 with 1 Axes>"
      ]
     },
     "metadata": {
      "needs_background": "light"
     },
     "output_type": "display_data"
    }
   ],
   "source": [
    "plt.plot([i*40 for i in range(len(ula_mean))], ula_mean, label = \"iSIR + MALA\", color='r')\n",
    "plt.xlabel(\"MCMC iteration\")\n",
    "plt.ylabel(\"Energy\")\n",
    "plt.grid()\n",
    "plt.legend()\n",
    "plt.show()"
   ]
  },
  {
   "cell_type": "code",
   "execution_count": 34,
   "id": "surprised-mexico",
   "metadata": {},
   "outputs": [
    {
     "name": "stderr",
     "output_type": "stream",
     "text": [
      "  4%|▍         | 1/26 [00:00<00:03,  7.13it/s]"
     ]
    },
    {
     "name": "stdout",
     "output_type": "stream",
     "text": [
      "iter = 0\n",
      "number of energy samples = 1000\n",
      "mean = 0.5041038393974304\n",
      "std = 0.06608827412128448\n",
      "------------\n",
      "iter = 1\n"
     ]
    },
    {
     "name": "stderr",
     "output_type": "stream",
     "text": [
      " 12%|█▏        | 3/26 [00:00<00:02,  7.72it/s]"
     ]
    },
    {
     "name": "stdout",
     "output_type": "stream",
     "text": [
      "number of energy samples = 1000\n",
      "mean = 0.5249201059341431\n",
      "std = 0.07047873735427856\n",
      "------------\n",
      "iter = 2\n",
      "number of energy samples = 1000\n",
      "mean = 0.5217381715774536\n",
      "std = 0.07236867398023605\n",
      "------------\n",
      "iter = 3\n"
     ]
    },
    {
     "name": "stderr",
     "output_type": "stream",
     "text": [
      " 19%|█▉        | 5/26 [00:00<00:02,  8.36it/s]"
     ]
    },
    {
     "name": "stdout",
     "output_type": "stream",
     "text": [
      "number of energy samples = 1000\n",
      "mean = 0.5243805050849915\n",
      "std = 0.07107419520616531\n",
      "------------\n",
      "iter = 4\n",
      "number of energy samples = 1000\n",
      "mean = 0.5256251692771912\n",
      "std = 0.07420669496059418\n",
      "------------\n",
      "iter = 5\n"
     ]
    },
    {
     "name": "stderr",
     "output_type": "stream",
     "text": [
      " 27%|██▋       | 7/26 [00:00<00:02,  8.72it/s]"
     ]
    },
    {
     "name": "stdout",
     "output_type": "stream",
     "text": [
      "number of energy samples = 1000\n",
      "mean = 0.5232337713241577\n",
      "std = 0.07014378160238266\n",
      "------------\n",
      "iter = 6\n",
      "number of energy samples = 1000\n",
      "mean = 0.5206449627876282\n",
      "std = 0.07075876742601395\n",
      "------------\n",
      "iter = 7\n"
     ]
    },
    {
     "name": "stderr",
     "output_type": "stream",
     "text": [
      " 35%|███▍      | 9/26 [00:01<00:01,  8.90it/s]"
     ]
    },
    {
     "name": "stdout",
     "output_type": "stream",
     "text": [
      "number of energy samples = 1000\n",
      "mean = 0.5237534046173096\n",
      "std = 0.07589522749185562\n",
      "------------\n",
      "iter = 8\n",
      "number of energy samples = 1000\n",
      "mean = 0.5231807827949524\n",
      "std = 0.0753108412027359\n",
      "------------\n",
      "iter = 9\n"
     ]
    },
    {
     "name": "stderr",
     "output_type": "stream",
     "text": [
      " 42%|████▏     | 11/26 [00:01<00:01,  9.00it/s]"
     ]
    },
    {
     "name": "stdout",
     "output_type": "stream",
     "text": [
      "number of energy samples = 1000\n",
      "mean = 0.5234870314598083\n",
      "std = 0.07178564369678497\n",
      "------------\n",
      "iter = 10\n",
      "number of energy samples = 1000\n",
      "mean = 0.524114191532135\n",
      "std = 0.0730430856347084\n",
      "------------\n",
      "iter = 11\n"
     ]
    },
    {
     "name": "stderr",
     "output_type": "stream",
     "text": [
      " 50%|█████     | 13/26 [00:01<00:01,  9.04it/s]"
     ]
    },
    {
     "name": "stdout",
     "output_type": "stream",
     "text": [
      "number of energy samples = 1000\n",
      "mean = 0.5223708152770996\n",
      "std = 0.0711960718035698\n",
      "------------\n",
      "iter = 12\n",
      "number of energy samples = 1000\n",
      "mean = 0.5210859179496765\n",
      "std = 0.06688306480646133\n",
      "------------\n",
      "iter = 13\n"
     ]
    },
    {
     "name": "stderr",
     "output_type": "stream",
     "text": [
      " 58%|█████▊    | 15/26 [00:01<00:01,  9.06it/s]"
     ]
    },
    {
     "name": "stdout",
     "output_type": "stream",
     "text": [
      "number of energy samples = 1000\n",
      "mean = 0.5240595936775208\n",
      "std = 0.0710546001791954\n",
      "------------\n",
      "iter = 14\n",
      "number of energy samples = 1000\n",
      "mean = 0.5204179883003235\n",
      "std = 0.07407819479703903\n",
      "------------\n",
      "iter = 15\n"
     ]
    },
    {
     "name": "stderr",
     "output_type": "stream",
     "text": [
      " 65%|██████▌   | 17/26 [00:01<00:00,  9.07it/s]"
     ]
    },
    {
     "name": "stdout",
     "output_type": "stream",
     "text": [
      "number of energy samples = 1000\n",
      "mean = 0.5234183669090271\n",
      "std = 0.0673089399933815\n",
      "------------\n",
      "iter = 16\n",
      "number of energy samples = 1000\n",
      "mean = 0.5207682847976685\n",
      "std = 0.07185579091310501\n",
      "------------\n",
      "iter = 17\n"
     ]
    },
    {
     "name": "stderr",
     "output_type": "stream",
     "text": [
      " 73%|███████▎  | 19/26 [00:02<00:00,  9.09it/s]"
     ]
    },
    {
     "name": "stdout",
     "output_type": "stream",
     "text": [
      "number of energy samples = 1000\n",
      "mean = 0.5215206146240234\n",
      "std = 0.07316987961530685\n",
      "------------\n",
      "iter = 18\n",
      "number of energy samples = 1000\n",
      "mean = 0.5198888778686523\n",
      "std = 0.07033386826515198\n",
      "------------\n",
      "iter = 19\n"
     ]
    },
    {
     "name": "stderr",
     "output_type": "stream",
     "text": [
      " 81%|████████  | 21/26 [00:02<00:00,  9.07it/s]"
     ]
    },
    {
     "name": "stdout",
     "output_type": "stream",
     "text": [
      "number of energy samples = 1000\n",
      "mean = 0.5229529738426208\n",
      "std = 0.07305765151977539\n",
      "------------\n",
      "iter = 20\n",
      "number of energy samples = 1000\n",
      "mean = 0.5258805155754089\n",
      "std = 0.06958458572626114\n",
      "------------\n",
      "iter = 21\n"
     ]
    },
    {
     "name": "stderr",
     "output_type": "stream",
     "text": [
      " 88%|████████▊ | 23/26 [00:02<00:00,  9.07it/s]"
     ]
    },
    {
     "name": "stdout",
     "output_type": "stream",
     "text": [
      "number of energy samples = 1000\n",
      "mean = 0.5167276263237\n",
      "std = 0.06852790713310242\n",
      "------------\n",
      "iter = 22\n",
      "number of energy samples = 1000\n",
      "mean = 0.5247446298599243\n",
      "std = 0.07693198323249817\n",
      "------------\n",
      "iter = 23\n"
     ]
    },
    {
     "name": "stderr",
     "output_type": "stream",
     "text": [
      " 96%|█████████▌| 25/26 [00:02<00:00,  9.06it/s]"
     ]
    },
    {
     "name": "stdout",
     "output_type": "stream",
     "text": [
      "number of energy samples = 1000\n",
      "mean = 0.5211470127105713\n",
      "std = 0.0708441510796547\n",
      "------------\n",
      "iter = 24\n",
      "number of energy samples = 1000\n",
      "mean = 0.51961350440979\n",
      "std = 0.07354991883039474\n",
      "------------\n",
      "iter = 25\n"
     ]
    },
    {
     "name": "stderr",
     "output_type": "stream",
     "text": [
      "100%|██████████| 26/26 [00:02<00:00,  8.92it/s]"
     ]
    },
    {
     "name": "stdout",
     "output_type": "stream",
     "text": [
      "number of energy samples = 1000\n",
      "mean = 0.5268630385398865\n",
      "std = 0.07193891704082489\n",
      "------------\n"
     ]
    },
    {
     "name": "stderr",
     "output_type": "stream",
     "text": [
      "\n"
     ]
    }
   ],
   "source": [
    "z_transform = lambda x: x\n",
    "use_sigmoid = True\n",
    "mean_discr_val, std_discr_val = report_mean_discriminator(load_np, G, D, z_transform, \n",
    "                                                          num_bs, batchsize, device, \n",
    "                                                          use_sigmoid=use_sigmoid)"
   ]
  },
  {
   "cell_type": "code",
   "execution_count": 35,
   "id": "alien-fever",
   "metadata": {},
   "outputs": [
    {
     "data": {
      "image/png": "[encoded data removed]",
      "text/plain": [
       "<Figure size 432x288 with 1 Axes>"
      ]
     },
     "metadata": {
      "needs_background": "light"
     },
     "output_type": "display_data"
    }
   ],
   "source": [
    "plt.plot([i*40 for i in range(len(mean_discr_val))], mean_discr_val, label = \"iSIR + MALA\", color='r')\n",
    "plt.xlabel(\"MCMC iteration\")\n",
    "plt.ylabel(fr\"$D(G(z))$\")\n",
    "plt.grid()\n",
    "plt.legend()\n",
    "plt.show()"
   ]
  },
  {
   "cell_type": "markdown",
   "id": "freelance-caribbean",
   "metadata": {},
   "source": [
    "## ResNet model"
   ]
  },
  {
   "cell_type": "code",
   "execution_count": 5,
   "id": "liked-cosmetic",
   "metadata": {},
   "outputs": [],
   "source": [
    "FLAGS = easydict.EasyDict({\n",
    "    'arch': 'res32',\n",
    "    'z_dim': 128\n",
    "})\n",
    "\n",
    "path_to_sngan = os.path.join(models_cifar_scratch_path, \"model_resnet.pt\")"
   ]
  },
  {
   "cell_type": "code",
   "execution_count": 6,
   "id": "skilled-india",
   "metadata": {},
   "outputs": [
    {
     "data": {
      "text/plain": [
       "ResGenerator32(\n",
       "  (linear): Linear(in_features=128, out_features=4096, bias=True)\n",
       "  (blocks): Sequential(\n",
       "    (0): ResGenBlock(\n",
       "      (residual): Sequential(\n",
       "        (0): BatchNorm2d(256, eps=1e-05, momentum=0.1, affine=True, track_running_stats=True)\n",
       "        (1): ReLU()\n",
       "        (2): Upsample(scale_factor=2.0, mode=nearest)\n",
       "        (3): Conv2d(256, 256, kernel_size=(3, 3), stride=(1, 1), padding=(1, 1))\n",
       "        (4): BatchNorm2d(256, eps=1e-05, momentum=0.1, affine=True, track_running_stats=True)\n",
       "        (5): ReLU()\n",
       "        (6): Conv2d(256, 256, kernel_size=(3, 3), stride=(1, 1), padding=(1, 1))\n",
       "      )\n",
       "      (shortcut): Sequential(\n",
       "        (0): Upsample(scale_factor=2.0, mode=nearest)\n",
       "        (1): Conv2d(256, 256, kernel_size=(1, 1), stride=(1, 1))\n",
       "      )\n",
       "    )\n",
       "    (1): ResGenBlock(\n",
       "      (residual): Sequential(\n",
       "        (0): BatchNorm2d(256, eps=1e-05, momentum=0.1, affine=True, track_running_stats=True)\n",
       "        (1): ReLU()\n",
       "        (2): Upsample(scale_factor=2.0, mode=nearest)\n",
       "        (3): Conv2d(256, 256, kernel_size=(3, 3), stride=(1, 1), padding=(1, 1))\n",
       "        (4): BatchNorm2d(256, eps=1e-05, momentum=0.1, affine=True, track_running_stats=True)\n",
       "        (5): ReLU()\n",
       "        (6): Conv2d(256, 256, kernel_size=(3, 3), stride=(1, 1), padding=(1, 1))\n",
       "      )\n",
       "      (shortcut): Sequential(\n",
       "        (0): Upsample(scale_factor=2.0, mode=nearest)\n",
       "        (1): Conv2d(256, 256, kernel_size=(1, 1), stride=(1, 1))\n",
       "      )\n",
       "    )\n",
       "    (2): ResGenBlock(\n",
       "      (residual): Sequential(\n",
       "        (0): BatchNorm2d(256, eps=1e-05, momentum=0.1, affine=True, track_running_stats=True)\n",
       "        (1): ReLU()\n",
       "        (2): Upsample(scale_factor=2.0, mode=nearest)\n",
       "        (3): Conv2d(256, 256, kernel_size=(3, 3), stride=(1, 1), padding=(1, 1))\n",
       "        (4): BatchNorm2d(256, eps=1e-05, momentum=0.1, affine=True, track_running_stats=True)\n",
       "        (5): ReLU()\n",
       "        (6): Conv2d(256, 256, kernel_size=(3, 3), stride=(1, 1), padding=(1, 1))\n",
       "      )\n",
       "      (shortcut): Sequential(\n",
       "        (0): Upsample(scale_factor=2.0, mode=nearest)\n",
       "        (1): Conv2d(256, 256, kernel_size=(1, 1), stride=(1, 1))\n",
       "      )\n",
       "    )\n",
       "    (3): BatchNorm2d(256, eps=1e-05, momentum=0.1, affine=True, track_running_stats=True)\n",
       "    (4): ReLU()\n",
       "    (5): Conv2d(256, 3, kernel_size=(3, 3), stride=(1, 1), padding=(1, 1))\n",
       "    (6): Tanh()\n",
       "  )\n",
       ")"
      ]
     },
     "execution_count": 6,
     "metadata": {},
     "output_type": "execute_result"
    }
   ],
   "source": [
    "args.device = torch.device('cuda:1' if torch.cuda.is_available() else 'cpu')\n",
    "device = args.device\n",
    "\n",
    "G = net_G_models[FLAGS.arch](FLAGS.z_dim).to(device)\n",
    "\n",
    "G.load_state_dict(torch.load(path_to_sngan)['net_G'])\n",
    "G.eval()"
   ]
  },
  {
   "cell_type": "code",
   "execution_count": 7,
   "id": "sexual-colors",
   "metadata": {},
   "outputs": [
    {
     "data": {
      "text/plain": [
       "ResDiscriminator32(\n",
       "  (model): Sequential(\n",
       "    (0): OptimizedResDisblock(\n",
       "      (shortcut): Sequential(\n",
       "        (0): AvgPool2d(kernel_size=2, stride=2, padding=0)\n",
       "        (1): Conv2d(3, 128, kernel_size=(1, 1), stride=(1, 1))\n",
       "      )\n",
       "      (residual): Sequential(\n",
       "        (0): Conv2d(3, 128, kernel_size=(3, 3), stride=(1, 1), padding=(1, 1))\n",
       "        (1): ReLU()\n",
       "        (2): Conv2d(128, 128, kernel_size=(3, 3), stride=(1, 1), padding=(1, 1))\n",
       "        (3): AvgPool2d(kernel_size=2, stride=2, padding=0)\n",
       "      )\n",
       "    )\n",
       "    (1): ResDisBlock(\n",
       "      (shortcut): Sequential(\n",
       "        (0): Conv2d(128, 128, kernel_size=(1, 1), stride=(1, 1))\n",
       "        (1): AvgPool2d(kernel_size=2, stride=2, padding=0)\n",
       "      )\n",
       "      (residual): Sequential(\n",
       "        (0): ReLU()\n",
       "        (1): Conv2d(128, 128, kernel_size=(3, 3), stride=(1, 1), padding=(1, 1))\n",
       "        (2): ReLU()\n",
       "        (3): Conv2d(128, 128, kernel_size=(3, 3), stride=(1, 1), padding=(1, 1))\n",
       "        (4): AvgPool2d(kernel_size=2, stride=2, padding=0)\n",
       "      )\n",
       "    )\n",
       "    (2): ResDisBlock(\n",
       "      (shortcut): Sequential()\n",
       "      (residual): Sequential(\n",
       "        (0): ReLU()\n",
       "        (1): Conv2d(128, 128, kernel_size=(3, 3), stride=(1, 1), padding=(1, 1))\n",
       "        (2): ReLU()\n",
       "        (3): Conv2d(128, 128, kernel_size=(3, 3), stride=(1, 1), padding=(1, 1))\n",
       "      )\n",
       "    )\n",
       "    (3): ResDisBlock(\n",
       "      (shortcut): Sequential()\n",
       "      (residual): Sequential(\n",
       "        (0): ReLU()\n",
       "        (1): Conv2d(128, 128, kernel_size=(3, 3), stride=(1, 1), padding=(1, 1))\n",
       "        (2): ReLU()\n",
       "        (3): Conv2d(128, 128, kernel_size=(3, 3), stride=(1, 1), padding=(1, 1))\n",
       "      )\n",
       "    )\n",
       "    (4): ReLU()\n",
       "  )\n",
       "  (linear): Linear(in_features=128, out_features=1, bias=False)\n",
       ")"
      ]
     },
     "execution_count": 7,
     "metadata": {},
     "output_type": "execute_result"
    }
   ],
   "source": [
    "D = net_D_models[FLAGS.arch]().to(device)\n",
    "\n",
    "D.load_state_dict(torch.load(path_to_sngan)['net_D'])\n",
    "D.eval()"
   ]
  },
  {
   "cell_type": "code",
   "execution_count": 8,
   "id": "traditional-latitude",
   "metadata": {},
   "outputs": [],
   "source": [
    "G.z_dim = FLAGS.z_dim\n",
    "G.device = device\n",
    "z_dim = FLAGS.z_dim\n",
    "\n",
    "loc = torch.zeros(z_dim).to(device)\n",
    "scale = torch.ones(z_dim).to(device)\n",
    "\n",
    "proposal_args = DotDict()\n",
    "proposal_args.device = device\n",
    "proposal_args.loc = loc\n",
    "proposal_args.scale = scale\n",
    "proposal = IndependentNormal(proposal_args)\n",
    "\n",
    "log_prob = True\n",
    "normalize_to_0_1 = True\n",
    "\n",
    "target_gan = partial(gan_energy,\n",
    "                     generator=G,\n",
    "                     discriminator=D,\n",
    "                     proposal=proposal,\n",
    "                     normalize_to_0_1=normalize_to_0_1,\n",
    "                     log_prob=log_prob)\n",
    "\n",
    "log_prob = False\n",
    "normalize_to_0_1 = True\n",
    "target_energy = partial(gan_energy,\n",
    "                         generator = G, \n",
    "                         discriminator = D, \n",
    "                         proposal = proposal,\n",
    "                         normalize_to_0_1 = normalize_to_0_1,\n",
    "                         log_prob = log_prob)"
   ]
  },
  {
   "cell_type": "code",
   "execution_count": 9,
   "id": "dangerous-sleeve",
   "metadata": {},
   "outputs": [],
   "source": [
    "bs = 100\n",
    "batch = torch.randn(bs, z_dim).to(device)\n",
    "scores = D(G(batch)).sigmoid().mean()"
   ]
  },
  {
   "cell_type": "code",
   "execution_count": 14,
   "id": "healthy-celebrity",
   "metadata": {},
   "outputs": [],
   "source": [
    "scores_std = D(G(batch)).sigmoid().std()"
   ]
  },
  {
   "cell_type": "code",
   "execution_count": 15,
   "id": "tamil-ethnic",
   "metadata": {},
   "outputs": [
    {
     "data": {
      "text/plain": [
       "tensor(0.1538, device='cuda:1', grad_fn=<StdBackward0>)"
      ]
     },
     "execution_count": 15,
     "metadata": {},
     "output_type": "execute_result"
    }
   ],
   "source": [
    "scores_std"
   ]
  },
  {
   "cell_type": "code",
   "execution_count": 10,
   "id": "blessed-release",
   "metadata": {},
   "outputs": [
    {
     "data": {
      "text/plain": [
       "tensor(0.3516, device='cuda:1', grad_fn=<MeanBackward0>)"
      ]
     },
     "execution_count": 10,
     "metadata": {},
     "output_type": "execute_result"
    }
   ],
   "source": [
    "scores"
   ]
  },
  {
   "cell_type": "code",
   "execution_count": 24,
   "id": "classified-regulation",
   "metadata": {},
   "outputs": [
    {
     "name": "stdout",
     "output_type": "stream",
     "text": [
      "0.36517892867326734\n"
     ]
    }
   ],
   "source": [
    "vals = []\n",
    "bs = 10\n",
    "for i in range(100):\n",
    "    batch = torch.randn(bs, z_dim).to(device)\n",
    "    scores = float(D(G(batch)).sigmoid().mean().cpu())\n",
    "    vals.append(scores)\n",
    "vals = np.array(vals)\n",
    "print(np.mean(vals))"
   ]
  },
  {
   "cell_type": "code",
   "execution_count": 22,
   "id": "proprietary-tsunami",
   "metadata": {},
   "outputs": [
    {
     "data": {
      "text/plain": [
       "array([tensor(0.4016, grad_fn=<CopyBackwards>),\n",
       "       tensor(0.3326, grad_fn=<CopyBackwards>),\n",
       "       tensor(0.3609, grad_fn=<CopyBackwards>),\n",
       "       tensor(0.3858, grad_fn=<CopyBackwards>),\n",
       "       tensor(0.3516, grad_fn=<CopyBackwards>),\n",
       "       tensor(0.3369, grad_fn=<CopyBackwards>),\n",
       "       tensor(0.3501, grad_fn=<CopyBackwards>),\n",
       "       tensor(0.3812, grad_fn=<CopyBackwards>),\n",
       "       tensor(0.3309, grad_fn=<CopyBackwards>),\n",
       "       tensor(0.3396, grad_fn=<CopyBackwards>)], dtype=object)"
      ]
     },
     "execution_count": 22,
     "metadata": {},
     "output_type": "execute_result"
    }
   ],
   "source": [
    "vals"
   ]
  },
  {
   "cell_type": "code",
   "execution_count": 9,
   "id": "wired-coupon",
   "metadata": {},
   "outputs": [],
   "source": [
    "random_seed = 42\n",
    "torch.manual_seed(random_seed)\n",
    "np.random.seed(random_seed)\n",
    "random.seed(random_seed)\n",
    "\n",
    "batch_size = 200\n",
    "n = 1000\n",
    "n_steps = 601\n",
    "\n",
    "grad_step = 0.01\n",
    "eps_scale = (2 * grad_step) ** 0.5\n",
    "\n",
    "use_noise = True\n",
    "\n",
    "method_name = 'ula_sngan_resnet_cifar_recalc'\n",
    "path_to_save = '/home/daniil/gans-mcmc/saved_numpy_arrays'\n",
    "file_name = f'{method_name}_nsteps_{n_steps}_step_{grad_step}_eps_{eps_scale}_use_noise_{use_noise}'\n",
    "every_step = 40\n",
    "continue_z = None"
   ]
  },
  {
   "cell_type": "code",
   "execution_count": 12,
   "id": "ideal-tackle",
   "metadata": {},
   "outputs": [
    {
     "name": "stderr",
     "output_type": "stream",
     "text": [
      " 20%|██        | 1/5 [01:30<06:00, 90.24s/it]"
     ]
    },
    {
     "name": "stdout",
     "output_type": "stream",
     "text": [
      "file /home/daniil/gans-mcmc/saved_numpy_arrays/ula_sngan_resnet_cifar_recalc_nsteps_601_step_0.01_eps_0.1414213562373095_use_noise_True_batch_num_0.npy was saved, file shape = (16, 200, 128)\n"
     ]
    },
    {
     "name": "stderr",
     "output_type": "stream",
     "text": [
      "\r",
      " 40%|████      | 2/5 [03:03<04:33, 91.19s/it]"
     ]
    },
    {
     "name": "stdout",
     "output_type": "stream",
     "text": [
      "file /home/daniil/gans-mcmc/saved_numpy_arrays/ula_sngan_resnet_cifar_recalc_nsteps_601_step_0.01_eps_0.1414213562373095_use_noise_True_batch_num_200.npy was saved, file shape = (16, 200, 128)\n"
     ]
    },
    {
     "name": "stderr",
     "output_type": "stream",
     "text": [
      "\r",
      " 60%|██████    | 3/5 [04:37<03:04, 92.00s/it]"
     ]
    },
    {
     "name": "stdout",
     "output_type": "stream",
     "text": [
      "file /home/daniil/gans-mcmc/saved_numpy_arrays/ula_sngan_resnet_cifar_recalc_nsteps_601_step_0.01_eps_0.1414213562373095_use_noise_True_batch_num_400.npy was saved, file shape = (16, 200, 128)\n"
     ]
    },
    {
     "name": "stderr",
     "output_type": "stream",
     "text": [
      "\r",
      " 80%|████████  | 4/5 [06:11<01:32, 92.51s/it]"
     ]
    },
    {
     "name": "stdout",
     "output_type": "stream",
     "text": [
      "file /home/daniil/gans-mcmc/saved_numpy_arrays/ula_sngan_resnet_cifar_recalc_nsteps_601_step_0.01_eps_0.1414213562373095_use_noise_True_batch_num_600.npy was saved, file shape = (16, 200, 128)\n"
     ]
    },
    {
     "name": "stderr",
     "output_type": "stream",
     "text": [
      "100%|██████████| 5/5 [07:44<00:00, 92.97s/it]"
     ]
    },
    {
     "name": "stdout",
     "output_type": "stream",
     "text": [
      "file /home/daniil/gans-mcmc/saved_numpy_arrays/ula_sngan_resnet_cifar_recalc_nsteps_601_step_0.01_eps_0.1414213562373095_use_noise_True_batch_num_800.npy was saved, file shape = (16, 200, 128)\n"
     ]
    },
    {
     "name": "stderr",
     "output_type": "stream",
     "text": [
      "\n"
     ]
    }
   ],
   "source": [
    "z_last_np, zs = langevin_sampling(target_gan, proposal, batch_size, n,\n",
    "                                  path_to_save, file_name, every_step,\n",
    "                                  continue_z, n_steps, grad_step, eps_scale,\n",
    "                                  use_noise)"
   ]
  },
  {
   "cell_type": "code",
   "execution_count": 10,
   "id": "honey-wallpaper",
   "metadata": {},
   "outputs": [
    {
     "name": "stderr",
     "output_type": "stream",
     "text": [
      "100%|██████████| 5/5 [00:00<00:00, 2327.58it/s]\n"
     ]
    }
   ],
   "source": [
    "load_np = load_data_from_batches(n, batch_size,\n",
    "                                 path_to_save, file_name)\n",
    "\n",
    "n = 1000\n",
    "batchsize = 200\n",
    "num_bs = n // batchsize"
   ]
  },
  {
   "cell_type": "code",
   "execution_count": 11,
   "id": "american-correspondence",
   "metadata": {},
   "outputs": [
    {
     "name": "stderr",
     "output_type": "stream",
     "text": [
      "\r",
      "  0%|          | 0/16 [00:00<?, ?it/s]"
     ]
    },
    {
     "name": "stdout",
     "output_type": "stream",
     "text": [
      "iter = 0\n"
     ]
    },
    {
     "name": "stderr",
     "output_type": "stream",
     "text": [
      "\r",
      "  6%|▋         | 1/16 [00:00<00:03,  3.94it/s]"
     ]
    },
    {
     "name": "stdout",
     "output_type": "stream",
     "text": [
      "number of energy samples = 1000\n",
      "mean = 182.0405731201172\n",
      "std = 7.9649248123168945\n",
      "------------\n",
      "iter = 1\n"
     ]
    },
    {
     "name": "stderr",
     "output_type": "stream",
     "text": [
      "\r",
      " 12%|█▎        | 2/16 [00:00<00:03,  4.07it/s]"
     ]
    },
    {
     "name": "stdout",
     "output_type": "stream",
     "text": [
      "number of energy samples = 1000\n",
      "mean = 182.05592346191406\n",
      "std = 7.927347660064697\n",
      "------------\n",
      "iter = 2\n"
     ]
    },
    {
     "name": "stderr",
     "output_type": "stream",
     "text": [
      "\r",
      " 19%|█▉        | 3/16 [00:00<00:03,  4.17it/s]"
     ]
    },
    {
     "name": "stdout",
     "output_type": "stream",
     "text": [
      "number of energy samples = 1000\n",
      "mean = 181.9185791015625\n",
      "std = 8.552526473999023\n",
      "------------\n",
      "iter = 3\n"
     ]
    },
    {
     "name": "stderr",
     "output_type": "stream",
     "text": [
      "\r",
      " 25%|██▌       | 4/16 [00:00<00:02,  4.25it/s]"
     ]
    },
    {
     "name": "stdout",
     "output_type": "stream",
     "text": [
      "number of energy samples = 1000\n",
      "mean = 181.93862915039062\n",
      "std = 9.2759428024292\n",
      "------------\n",
      "iter = 4\n"
     ]
    },
    {
     "name": "stderr",
     "output_type": "stream",
     "text": [
      "\r",
      " 31%|███▏      | 5/16 [00:01<00:02,  4.30it/s]"
     ]
    },
    {
     "name": "stdout",
     "output_type": "stream",
     "text": [
      "number of energy samples = 1000\n",
      "mean = 181.93453979492188\n",
      "std = 9.938654899597168\n",
      "------------\n",
      "iter = 5\n"
     ]
    },
    {
     "name": "stderr",
     "output_type": "stream",
     "text": [
      "\r",
      " 38%|███▊      | 6/16 [00:01<00:02,  4.34it/s]"
     ]
    },
    {
     "name": "stdout",
     "output_type": "stream",
     "text": [
      "number of energy samples = 1000\n",
      "mean = 181.4986572265625\n",
      "std = 10.87387752532959\n",
      "------------\n",
      "iter = 6\n"
     ]
    },
    {
     "name": "stderr",
     "output_type": "stream",
     "text": [
      "\r",
      " 44%|████▍     | 7/16 [00:01<00:02,  4.37it/s]"
     ]
    },
    {
     "name": "stdout",
     "output_type": "stream",
     "text": [
      "number of energy samples = 1000\n",
      "mean = 181.16709899902344\n",
      "std = 11.656503677368164\n",
      "------------\n",
      "iter = 7\n"
     ]
    },
    {
     "name": "stderr",
     "output_type": "stream",
     "text": [
      "\r",
      " 50%|█████     | 8/16 [00:01<00:01,  4.39it/s]"
     ]
    },
    {
     "name": "stdout",
     "output_type": "stream",
     "text": [
      "number of energy samples = 1000\n",
      "mean = 181.25584411621094\n",
      "std = 11.545740127563477\n",
      "------------\n",
      "iter = 8\n"
     ]
    },
    {
     "name": "stderr",
     "output_type": "stream",
     "text": [
      "\r",
      " 56%|█████▋    | 9/16 [00:02<00:01,  4.40it/s]"
     ]
    },
    {
     "name": "stdout",
     "output_type": "stream",
     "text": [
      "number of energy samples = 1000\n",
      "mean = 181.3070068359375\n",
      "std = 11.50631332397461\n",
      "------------\n",
      "iter = 9\n"
     ]
    },
    {
     "name": "stderr",
     "output_type": "stream",
     "text": [
      "\r",
      " 62%|██████▎   | 10/16 [00:02<00:01,  4.41it/s]"
     ]
    },
    {
     "name": "stdout",
     "output_type": "stream",
     "text": [
      "number of energy samples = 1000\n",
      "mean = 181.63345336914062\n",
      "std = 12.376481056213379\n",
      "------------\n",
      "iter = 10\n"
     ]
    },
    {
     "name": "stderr",
     "output_type": "stream",
     "text": [
      "\r",
      " 69%|██████▉   | 11/16 [00:02<00:01,  4.41it/s]"
     ]
    },
    {
     "name": "stdout",
     "output_type": "stream",
     "text": [
      "number of energy samples = 1000\n",
      "mean = 181.12815856933594\n",
      "std = 12.23648738861084\n",
      "------------\n",
      "iter = 11\n"
     ]
    },
    {
     "name": "stderr",
     "output_type": "stream",
     "text": [
      "\r",
      " 75%|███████▌  | 12/16 [00:02<00:00,  4.42it/s]"
     ]
    },
    {
     "name": "stdout",
     "output_type": "stream",
     "text": [
      "number of energy samples = 1000\n",
      "mean = 181.2940673828125\n",
      "std = 12.578226089477539\n",
      "------------\n",
      "iter = 12\n"
     ]
    },
    {
     "name": "stderr",
     "output_type": "stream",
     "text": [
      "\r",
      " 81%|████████▏ | 13/16 [00:02<00:00,  4.42it/s]"
     ]
    },
    {
     "name": "stdout",
     "output_type": "stream",
     "text": [
      "number of energy samples = 1000\n",
      "mean = 180.72409057617188\n",
      "std = 12.389888763427734\n",
      "------------\n",
      "iter = 13\n"
     ]
    },
    {
     "name": "stderr",
     "output_type": "stream",
     "text": [
      "\r",
      " 88%|████████▊ | 14/16 [00:03<00:00,  4.42it/s]"
     ]
    },
    {
     "name": "stdout",
     "output_type": "stream",
     "text": [
      "number of energy samples = 1000\n",
      "mean = 180.70797729492188\n",
      "std = 12.959146499633789\n",
      "------------\n",
      "iter = 14\n"
     ]
    },
    {
     "name": "stderr",
     "output_type": "stream",
     "text": [
      "\r",
      " 94%|█████████▍| 15/16 [00:03<00:00,  4.42it/s]"
     ]
    },
    {
     "name": "stdout",
     "output_type": "stream",
     "text": [
      "number of energy samples = 1000\n",
      "mean = 180.37779235839844\n",
      "std = 14.272703170776367\n",
      "------------\n",
      "iter = 15\n"
     ]
    },
    {
     "name": "stderr",
     "output_type": "stream",
     "text": [
      "100%|██████████| 16/16 [00:03<00:00,  4.39it/s]"
     ]
    },
    {
     "name": "stdout",
     "output_type": "stream",
     "text": [
      "number of energy samples = 1000\n",
      "mean = 180.3560333251953\n",
      "std = 14.381941795349121\n",
      "------------\n"
     ]
    },
    {
     "name": "stderr",
     "output_type": "stream",
     "text": [
      "\n"
     ]
    }
   ],
   "source": [
    "ula_mean, std_mean = report_energy(load_np, target_energy, num_bs, batchsize, device)"
   ]
  },
  {
   "cell_type": "code",
   "execution_count": 12,
   "id": "anonymous-fireplace",
   "metadata": {},
   "outputs": [
    {
     "data": {
      "image/png": "[encoded data removed]",
      "text/plain": [
       "<Figure size 432x288 with 1 Axes>"
      ]
     },
     "metadata": {
      "needs_background": "light"
     },
     "output_type": "display_data"
    }
   ],
   "source": [
    "plt.plot([i*40 for i in range(len(ula_mean))], ula_mean, label = \"ULA\", color='r')\n",
    "plt.xlabel(\"MCMC iteration\")\n",
    "plt.ylabel(\"Energy\")\n",
    "plt.grid()\n",
    "plt.legend()\n",
    "plt.show()"
   ]
  },
  {
   "cell_type": "code",
   "execution_count": 13,
   "id": "taken-relay",
   "metadata": {},
   "outputs": [
    {
     "name": "stderr",
     "output_type": "stream",
     "text": [
      "\r",
      "  0%|          | 0/16 [00:00<?, ?it/s]"
     ]
    },
    {
     "name": "stdout",
     "output_type": "stream",
     "text": [
      "iter = 0\n"
     ]
    },
    {
     "name": "stderr",
     "output_type": "stream",
     "text": [
      "\r",
      "  6%|▋         | 1/16 [00:00<00:03,  4.00it/s]"
     ]
    },
    {
     "name": "stdout",
     "output_type": "stream",
     "text": [
      "number of energy samples = 1000\n",
      "mean = 0.37303319573402405\n",
      "std = 0.16258041560649872\n",
      "------------\n",
      "iter = 1\n"
     ]
    },
    {
     "name": "stderr",
     "output_type": "stream",
     "text": [
      "\r",
      " 12%|█▎        | 2/16 [00:00<00:03,  4.13it/s]"
     ]
    },
    {
     "name": "stdout",
     "output_type": "stream",
     "text": [
      "number of energy samples = 1000\n",
      "mean = 0.47867533564567566\n",
      "std = 0.2021336704492569\n",
      "------------\n",
      "iter = 2\n"
     ]
    },
    {
     "name": "stderr",
     "output_type": "stream",
     "text": [
      "\r",
      " 19%|█▉        | 3/16 [00:00<00:03,  4.22it/s]"
     ]
    },
    {
     "name": "stdout",
     "output_type": "stream",
     "text": [
      "number of energy samples = 1000\n",
      "mean = 0.4993061423301697\n",
      "std = 0.21115876734256744\n",
      "------------\n",
      "iter = 3\n"
     ]
    },
    {
     "name": "stderr",
     "output_type": "stream",
     "text": [
      "\r",
      " 25%|██▌       | 4/16 [00:00<00:02,  4.28it/s]"
     ]
    },
    {
     "name": "stdout",
     "output_type": "stream",
     "text": [
      "number of energy samples = 1000\n",
      "mean = 0.5012485980987549\n",
      "std = 0.21942776441574097\n",
      "------------\n",
      "iter = 4\n"
     ]
    },
    {
     "name": "stderr",
     "output_type": "stream",
     "text": [
      "\r",
      " 31%|███▏      | 5/16 [00:01<00:02,  4.33it/s]"
     ]
    },
    {
     "name": "stdout",
     "output_type": "stream",
     "text": [
      "number of energy samples = 1000\n",
      "mean = 0.5107355117797852\n",
      "std = 0.22625155746936798\n",
      "------------\n",
      "iter = 5\n"
     ]
    },
    {
     "name": "stderr",
     "output_type": "stream",
     "text": [
      "\r",
      " 38%|███▊      | 6/16 [00:01<00:02,  4.36it/s]"
     ]
    },
    {
     "name": "stdout",
     "output_type": "stream",
     "text": [
      "number of energy samples = 1000\n",
      "mean = 0.5097720623016357\n",
      "std = 0.22910331189632416\n",
      "------------\n",
      "iter = 6\n"
     ]
    },
    {
     "name": "stderr",
     "output_type": "stream",
     "text": [
      "\r",
      " 44%|████▍     | 7/16 [00:01<00:02,  4.39it/s]"
     ]
    },
    {
     "name": "stdout",
     "output_type": "stream",
     "text": [
      "number of energy samples = 1000\n",
      "mean = 0.5265235304832458\n",
      "std = 0.2295800894498825\n",
      "------------\n",
      "iter = 7\n"
     ]
    },
    {
     "name": "stderr",
     "output_type": "stream",
     "text": [
      "\r",
      " 50%|█████     | 8/16 [00:01<00:01,  4.41it/s]"
     ]
    },
    {
     "name": "stdout",
     "output_type": "stream",
     "text": [
      "number of energy samples = 1000\n",
      "mean = 0.5350632071495056\n",
      "std = 0.23756852746009827\n",
      "------------\n",
      "iter = 8\n"
     ]
    },
    {
     "name": "stderr",
     "output_type": "stream",
     "text": [
      "\r",
      " 56%|█████▋    | 9/16 [00:02<00:01,  4.42it/s]"
     ]
    },
    {
     "name": "stdout",
     "output_type": "stream",
     "text": [
      "number of energy samples = 1000\n",
      "mean = 0.5206617712974548\n",
      "std = 0.2328920066356659\n",
      "------------\n",
      "iter = 9\n"
     ]
    },
    {
     "name": "stderr",
     "output_type": "stream",
     "text": [
      "\r",
      " 62%|██████▎   | 10/16 [00:02<00:01,  4.42it/s]"
     ]
    },
    {
     "name": "stdout",
     "output_type": "stream",
     "text": [
      "number of energy samples = 1000\n",
      "mean = 0.5279006361961365\n",
      "std = 0.2375754415988922\n",
      "------------\n",
      "iter = 10\n"
     ]
    },
    {
     "name": "stderr",
     "output_type": "stream",
     "text": [
      "\r",
      " 69%|██████▉   | 11/16 [00:02<00:01,  4.43it/s]"
     ]
    },
    {
     "name": "stdout",
     "output_type": "stream",
     "text": [
      "number of energy samples = 1000\n",
      "mean = 0.5346050262451172\n",
      "std = 0.23683594167232513\n",
      "------------\n",
      "iter = 11\n"
     ]
    },
    {
     "name": "stderr",
     "output_type": "stream",
     "text": [
      "\r",
      " 75%|███████▌  | 12/16 [00:02<00:00,  4.43it/s]"
     ]
    },
    {
     "name": "stdout",
     "output_type": "stream",
     "text": [
      "number of energy samples = 1000\n",
      "mean = 0.5314851999282837\n",
      "std = 0.2406153529882431\n",
      "------------\n",
      "iter = 12\n"
     ]
    },
    {
     "name": "stderr",
     "output_type": "stream",
     "text": [
      "\r",
      " 81%|████████▏ | 13/16 [00:02<00:00,  4.43it/s]"
     ]
    },
    {
     "name": "stdout",
     "output_type": "stream",
     "text": [
      "number of energy samples = 1000\n",
      "mean = 0.5403496026992798\n",
      "std = 0.24606534838676453\n",
      "------------\n",
      "iter = 13\n"
     ]
    },
    {
     "name": "stderr",
     "output_type": "stream",
     "text": [
      "\r",
      " 88%|████████▊ | 14/16 [00:03<00:00,  4.43it/s]"
     ]
    },
    {
     "name": "stdout",
     "output_type": "stream",
     "text": [
      "number of energy samples = 1000\n",
      "mean = 0.5611893534660339\n",
      "std = 0.25024962425231934\n",
      "------------\n",
      "iter = 14\n"
     ]
    },
    {
     "name": "stderr",
     "output_type": "stream",
     "text": [
      "\r",
      " 94%|█████████▍| 15/16 [00:03<00:00,  4.43it/s]"
     ]
    },
    {
     "name": "stdout",
     "output_type": "stream",
     "text": [
      "number of energy samples = 1000\n",
      "mean = 0.5473260879516602\n",
      "std = 0.2464061826467514\n",
      "------------\n",
      "iter = 15\n"
     ]
    },
    {
     "name": "stderr",
     "output_type": "stream",
     "text": [
      "100%|██████████| 16/16 [00:03<00:00,  4.41it/s]"
     ]
    },
    {
     "name": "stdout",
     "output_type": "stream",
     "text": [
      "number of energy samples = 1000\n",
      "mean = 0.5583806037902832\n",
      "std = 0.24921204149723053\n",
      "------------\n"
     ]
    },
    {
     "name": "stderr",
     "output_type": "stream",
     "text": [
      "\n"
     ]
    }
   ],
   "source": [
    "z_transform = lambda x: x\n",
    "use_sigmoid = True\n",
    "mean_discr_val, std_discr_val = report_mean_discriminator(load_np, G, D, z_transform, \n",
    "                                                          num_bs, batchsize, device, \n",
    "                                                          use_sigmoid=use_sigmoid)"
   ]
  },
  {
   "cell_type": "code",
   "execution_count": 14,
   "id": "global-faculty",
   "metadata": {},
   "outputs": [
    {
     "data": {
      "image/png": "[encoded data removed]",
      "text/plain": [
       "<Figure size 432x288 with 1 Axes>"
      ]
     },
     "metadata": {
      "needs_background": "light"
     },
     "output_type": "display_data"
    }
   ],
   "source": [
    "plt.plot([i*40 for i in range(len(mean_discr_val))], mean_discr_val, label = \"ULA\", color='r')\n",
    "plt.xlabel(\"MCMC iteration\")\n",
    "plt.ylabel(r\"$D(G(z))$\")\n",
    "plt.grid()\n",
    "plt.legend()\n",
    "plt.show()"
   ]
  },
  {
   "cell_type": "code",
   "execution_count": 11,
   "id": "partial-messenger",
   "metadata": {},
   "outputs": [],
   "source": [
    "random_seed = 42\n",
    "torch.manual_seed(random_seed)\n",
    "np.random.seed(random_seed)\n",
    "random.seed(random_seed)\n",
    "\n",
    "batch_size = 200\n",
    "n = 1000\n",
    "n_steps = 601\n",
    "\n",
    "grad_step = 0.1\n",
    "eps_scale = (2 * grad_step) ** 0.5\n",
    "\n",
    "use_noise = True\n",
    "\n",
    "method_name = 'ula_sngan_resnet_cifar_recalc'\n",
    "path_to_save = '/home/daniil/gans-mcmc/saved_numpy_arrays'\n",
    "file_name = f'{method_name}_nsteps_{n_steps}_step_{grad_step}_eps_{eps_scale}_use_noise_{use_noise}'\n",
    "every_step = 40\n",
    "continue_z = None"
   ]
  },
  {
   "cell_type": "code",
   "execution_count": 17,
   "id": "practical-bidding",
   "metadata": {},
   "outputs": [
    {
     "name": "stderr",
     "output_type": "stream",
     "text": [
      " 20%|██        | 1/5 [01:30<06:01, 90.31s/it]"
     ]
    },
    {
     "name": "stdout",
     "output_type": "stream",
     "text": [
      "file /home/daniil/gans-mcmc/saved_numpy_arrays/ula_sngan_resnet_cifar_recalc_nsteps_601_step_0.1_eps_0.4472135954999579_use_noise_True_batch_num_0.npy was saved, file shape = (16, 200, 128)\n"
     ]
    },
    {
     "name": "stderr",
     "output_type": "stream",
     "text": [
      "\r",
      " 40%|████      | 2/5 [03:03<04:33, 91.26s/it]"
     ]
    },
    {
     "name": "stdout",
     "output_type": "stream",
     "text": [
      "file /home/daniil/gans-mcmc/saved_numpy_arrays/ula_sngan_resnet_cifar_recalc_nsteps_601_step_0.1_eps_0.4472135954999579_use_noise_True_batch_num_200.npy was saved, file shape = (16, 200, 128)\n"
     ]
    },
    {
     "name": "stderr",
     "output_type": "stream",
     "text": [
      "\r",
      " 60%|██████    | 3/5 [04:37<03:04, 92.05s/it]"
     ]
    },
    {
     "name": "stdout",
     "output_type": "stream",
     "text": [
      "file /home/daniil/gans-mcmc/saved_numpy_arrays/ula_sngan_resnet_cifar_recalc_nsteps_601_step_0.1_eps_0.4472135954999579_use_noise_True_batch_num_400.npy was saved, file shape = (16, 200, 128)\n"
     ]
    },
    {
     "name": "stderr",
     "output_type": "stream",
     "text": [
      "\r",
      " 80%|████████  | 4/5 [06:11<01:32, 92.51s/it]"
     ]
    },
    {
     "name": "stdout",
     "output_type": "stream",
     "text": [
      "file /home/daniil/gans-mcmc/saved_numpy_arrays/ula_sngan_resnet_cifar_recalc_nsteps_601_step_0.1_eps_0.4472135954999579_use_noise_True_batch_num_600.npy was saved, file shape = (16, 200, 128)\n"
     ]
    },
    {
     "name": "stderr",
     "output_type": "stream",
     "text": [
      "100%|██████████| 5/5 [07:44<00:00, 92.94s/it]"
     ]
    },
    {
     "name": "stdout",
     "output_type": "stream",
     "text": [
      "file /home/daniil/gans-mcmc/saved_numpy_arrays/ula_sngan_resnet_cifar_recalc_nsteps_601_step_0.1_eps_0.4472135954999579_use_noise_True_batch_num_800.npy was saved, file shape = (16, 200, 128)\n"
     ]
    },
    {
     "name": "stderr",
     "output_type": "stream",
     "text": [
      "\n"
     ]
    }
   ],
   "source": [
    "z_last_np, zs = langevin_sampling(target_gan, proposal, batch_size, n,\n",
    "                                  path_to_save, file_name, every_step,\n",
    "                                  continue_z, n_steps, grad_step, eps_scale,\n",
    "                                  use_noise)"
   ]
  },
  {
   "cell_type": "code",
   "execution_count": 12,
   "id": "minus-tsunami",
   "metadata": {},
   "outputs": [
    {
     "name": "stderr",
     "output_type": "stream",
     "text": [
      "100%|██████████| 5/5 [00:00<00:00, 2321.91it/s]\n"
     ]
    }
   ],
   "source": [
    "load_np = load_data_from_batches(n, batch_size,\n",
    "                                 path_to_save, file_name)\n",
    "\n",
    "n = 1000\n",
    "batchsize = 200\n",
    "num_bs = n // batchsize"
   ]
  },
  {
   "cell_type": "code",
   "execution_count": 13,
   "id": "sensitive-times",
   "metadata": {},
   "outputs": [
    {
     "name": "stderr",
     "output_type": "stream",
     "text": [
      "\r",
      "  0%|          | 0/16 [00:00<?, ?it/s]"
     ]
    },
    {
     "name": "stdout",
     "output_type": "stream",
     "text": [
      "iter = 0\n"
     ]
    },
    {
     "name": "stderr",
     "output_type": "stream",
     "text": [
      "\r",
      "  6%|▋         | 1/16 [00:00<00:03,  3.91it/s]"
     ]
    },
    {
     "name": "stdout",
     "output_type": "stream",
     "text": [
      "number of energy samples = 1000\n",
      "mean = 182.0405731201172\n",
      "std = 7.9649248123168945\n",
      "------------\n",
      "iter = 1\n"
     ]
    },
    {
     "name": "stderr",
     "output_type": "stream",
     "text": [
      "\r",
      " 12%|█▎        | 2/16 [00:00<00:03,  4.05it/s]"
     ]
    },
    {
     "name": "stdout",
     "output_type": "stream",
     "text": [
      "number of energy samples = 1000\n",
      "mean = 186.4396514892578\n",
      "std = 9.202497482299805\n",
      "------------\n",
      "iter = 2\n"
     ]
    },
    {
     "name": "stderr",
     "output_type": "stream",
     "text": [
      "\r",
      " 19%|█▉        | 3/16 [00:00<00:03,  4.15it/s]"
     ]
    },
    {
     "name": "stdout",
     "output_type": "stream",
     "text": [
      "number of energy samples = 1000\n",
      "mean = 186.93809509277344\n",
      "std = 8.697590827941895\n",
      "------------\n",
      "iter = 3\n"
     ]
    },
    {
     "name": "stderr",
     "output_type": "stream",
     "text": [
      "\r",
      " 25%|██▌       | 4/16 [00:00<00:02,  4.22it/s]"
     ]
    },
    {
     "name": "stdout",
     "output_type": "stream",
     "text": [
      "number of energy samples = 1000\n",
      "mean = 186.06588745117188\n",
      "std = 8.73275089263916\n",
      "------------\n",
      "iter = 4\n"
     ]
    },
    {
     "name": "stderr",
     "output_type": "stream",
     "text": [
      "\r",
      " 31%|███▏      | 5/16 [00:01<00:02,  4.28it/s]"
     ]
    },
    {
     "name": "stdout",
     "output_type": "stream",
     "text": [
      "number of energy samples = 1000\n",
      "mean = 186.62841796875\n",
      "std = 8.803828239440918\n",
      "------------\n",
      "iter = 5\n"
     ]
    },
    {
     "name": "stderr",
     "output_type": "stream",
     "text": [
      "\r",
      " 38%|███▊      | 6/16 [00:01<00:02,  4.31it/s]"
     ]
    },
    {
     "name": "stdout",
     "output_type": "stream",
     "text": [
      "number of energy samples = 1000\n",
      "mean = 186.10885620117188\n",
      "std = 8.693658828735352\n",
      "------------\n",
      "iter = 6\n"
     ]
    },
    {
     "name": "stderr",
     "output_type": "stream",
     "text": [
      "\r",
      " 44%|████▍     | 7/16 [00:01<00:02,  4.34it/s]"
     ]
    },
    {
     "name": "stdout",
     "output_type": "stream",
     "text": [
      "number of energy samples = 1000\n",
      "mean = 186.23533630371094\n",
      "std = 8.860313415527344\n",
      "------------\n",
      "iter = 7\n"
     ]
    },
    {
     "name": "stderr",
     "output_type": "stream",
     "text": [
      "\r",
      " 50%|█████     | 8/16 [00:01<00:01,  4.36it/s]"
     ]
    },
    {
     "name": "stdout",
     "output_type": "stream",
     "text": [
      "number of energy samples = 1000\n",
      "mean = 185.83706665039062\n",
      "std = 8.952540397644043\n",
      "------------\n",
      "iter = 8\n"
     ]
    },
    {
     "name": "stderr",
     "output_type": "stream",
     "text": [
      "\r",
      " 56%|█████▋    | 9/16 [00:02<00:01,  4.37it/s]"
     ]
    },
    {
     "name": "stdout",
     "output_type": "stream",
     "text": [
      "number of energy samples = 1000\n",
      "mean = 186.71498107910156\n",
      "std = 8.604625701904297\n",
      "------------\n",
      "iter = 9\n"
     ]
    },
    {
     "name": "stderr",
     "output_type": "stream",
     "text": [
      "\r",
      " 62%|██████▎   | 10/16 [00:02<00:01,  4.38it/s]"
     ]
    },
    {
     "name": "stdout",
     "output_type": "stream",
     "text": [
      "number of energy samples = 1000\n",
      "mean = 186.22683715820312\n",
      "std = 8.730008125305176\n",
      "------------\n",
      "iter = 10\n"
     ]
    },
    {
     "name": "stderr",
     "output_type": "stream",
     "text": [
      "\r",
      " 69%|██████▉   | 11/16 [00:02<00:01,  4.39it/s]"
     ]
    },
    {
     "name": "stdout",
     "output_type": "stream",
     "text": [
      "number of energy samples = 1000\n",
      "mean = 186.62925720214844\n",
      "std = 8.991918563842773\n",
      "------------\n",
      "iter = 11\n"
     ]
    },
    {
     "name": "stderr",
     "output_type": "stream",
     "text": [
      "\r",
      " 75%|███████▌  | 12/16 [00:02<00:00,  4.39it/s]"
     ]
    },
    {
     "name": "stdout",
     "output_type": "stream",
     "text": [
      "number of energy samples = 1000\n",
      "mean = 186.325439453125\n",
      "std = 9.201945304870605\n",
      "------------\n",
      "iter = 12\n"
     ]
    },
    {
     "name": "stderr",
     "output_type": "stream",
     "text": [
      "\r",
      " 81%|████████▏ | 13/16 [00:02<00:00,  4.39it/s]"
     ]
    },
    {
     "name": "stdout",
     "output_type": "stream",
     "text": [
      "number of energy samples = 1000\n",
      "mean = 186.23094177246094\n",
      "std = 9.638032913208008\n",
      "------------\n",
      "iter = 13\n"
     ]
    },
    {
     "name": "stderr",
     "output_type": "stream",
     "text": [
      "\r",
      " 88%|████████▊ | 14/16 [00:03<00:00,  4.40it/s]"
     ]
    },
    {
     "name": "stdout",
     "output_type": "stream",
     "text": [
      "number of energy samples = 1000\n",
      "mean = 185.8953094482422\n",
      "std = 9.2650728225708\n",
      "------------\n",
      "iter = 14\n"
     ]
    },
    {
     "name": "stderr",
     "output_type": "stream",
     "text": [
      "\r",
      " 94%|█████████▍| 15/16 [00:03<00:00,  4.40it/s]"
     ]
    },
    {
     "name": "stdout",
     "output_type": "stream",
     "text": [
      "number of energy samples = 1000\n",
      "mean = 186.3158721923828\n",
      "std = 9.415365219116211\n",
      "------------\n",
      "iter = 15\n"
     ]
    },
    {
     "name": "stderr",
     "output_type": "stream",
     "text": [
      "100%|██████████| 16/16 [00:03<00:00,  4.37it/s]"
     ]
    },
    {
     "name": "stdout",
     "output_type": "stream",
     "text": [
      "number of energy samples = 1000\n",
      "mean = 186.14047241210938\n",
      "std = 9.524237632751465\n",
      "------------\n"
     ]
    },
    {
     "name": "stderr",
     "output_type": "stream",
     "text": [
      "\n"
     ]
    }
   ],
   "source": [
    "ula_mean, std_mean = report_energy(load_np, target_energy, num_bs, batchsize, device)"
   ]
  },
  {
   "cell_type": "code",
   "execution_count": 9,
   "id": "frozen-pasta",
   "metadata": {},
   "outputs": [],
   "source": [
    "random_seed = 42\n",
    "torch.manual_seed(random_seed)\n",
    "np.random.seed(random_seed)\n",
    "random.seed(random_seed)\n",
    "\n",
    "batch_size = 200\n",
    "n = 1000\n",
    "n_steps = 601\n",
    "\n",
    "grad_step = 0.001\n",
    "eps_scale = (2 * grad_step) ** 0.5\n",
    "\n",
    "use_noise = True\n",
    "\n",
    "method_name = 'ula_sngan_resnet_cifar_recalc'\n",
    "path_to_save = '/home/daniil/gans-mcmc/saved_numpy_arrays'\n",
    "file_name = f'{method_name}_nsteps_{n_steps}_step_{grad_step}_eps_{eps_scale}_use_noise_{use_noise}'\n",
    "every_step = 40\n",
    "continue_z = None"
   ]
  },
  {
   "cell_type": "code",
   "execution_count": 10,
   "id": "hindu-elevation",
   "metadata": {},
   "outputs": [
    {
     "name": "stderr",
     "output_type": "stream",
     "text": [
      " 20%|██        | 1/5 [01:30<06:01, 90.38s/it]"
     ]
    },
    {
     "name": "stdout",
     "output_type": "stream",
     "text": [
      "file /home/daniil/gans-mcmc/saved_numpy_arrays/ula_sngan_resnet_cifar_recalc_nsteps_601_step_0.001_eps_0.044721359549995794_use_noise_True_batch_num_0.npy was saved, file shape = (16, 200, 128)\n"
     ]
    },
    {
     "name": "stderr",
     "output_type": "stream",
     "text": [
      "\r",
      " 40%|████      | 2/5 [03:03<04:33, 91.31s/it]"
     ]
    },
    {
     "name": "stdout",
     "output_type": "stream",
     "text": [
      "file /home/daniil/gans-mcmc/saved_numpy_arrays/ula_sngan_resnet_cifar_recalc_nsteps_601_step_0.001_eps_0.044721359549995794_use_noise_True_batch_num_200.npy was saved, file shape = (16, 200, 128)\n"
     ]
    },
    {
     "name": "stderr",
     "output_type": "stream",
     "text": [
      "\r",
      " 60%|██████    | 3/5 [04:37<03:04, 92.05s/it]"
     ]
    },
    {
     "name": "stdout",
     "output_type": "stream",
     "text": [
      "file /home/daniil/gans-mcmc/saved_numpy_arrays/ula_sngan_resnet_cifar_recalc_nsteps_601_step_0.001_eps_0.044721359549995794_use_noise_True_batch_num_400.npy was saved, file shape = (16, 200, 128)\n"
     ]
    },
    {
     "name": "stderr",
     "output_type": "stream",
     "text": [
      "\r",
      " 80%|████████  | 4/5 [06:11<01:32, 92.49s/it]"
     ]
    },
    {
     "name": "stdout",
     "output_type": "stream",
     "text": [
      "file /home/daniil/gans-mcmc/saved_numpy_arrays/ula_sngan_resnet_cifar_recalc_nsteps_601_step_0.001_eps_0.044721359549995794_use_noise_True_batch_num_600.npy was saved, file shape = (16, 200, 128)\n"
     ]
    },
    {
     "name": "stderr",
     "output_type": "stream",
     "text": [
      "100%|██████████| 5/5 [07:44<00:00, 92.91s/it]"
     ]
    },
    {
     "name": "stdout",
     "output_type": "stream",
     "text": [
      "file /home/daniil/gans-mcmc/saved_numpy_arrays/ula_sngan_resnet_cifar_recalc_nsteps_601_step_0.001_eps_0.044721359549995794_use_noise_True_batch_num_800.npy was saved, file shape = (16, 200, 128)\n"
     ]
    },
    {
     "name": "stderr",
     "output_type": "stream",
     "text": [
      "\n"
     ]
    }
   ],
   "source": [
    "z_last_np, zs = langevin_sampling(target_gan, proposal, batch_size, n,\n",
    "                                  path_to_save, file_name, every_step,\n",
    "                                  continue_z, n_steps, grad_step, eps_scale,\n",
    "                                  use_noise)"
   ]
  },
  {
   "cell_type": "code",
   "execution_count": 11,
   "id": "italic-picnic",
   "metadata": {},
   "outputs": [
    {
     "name": "stderr",
     "output_type": "stream",
     "text": [
      "100%|██████████| 5/5 [00:00<00:00, 2537.39it/s]\n"
     ]
    }
   ],
   "source": [
    "load_np = load_data_from_batches(n, batch_size,\n",
    "                                 path_to_save, file_name)\n",
    "\n",
    "n = 1000\n",
    "batchsize = 200\n",
    "num_bs = n // batchsize"
   ]
  },
  {
   "cell_type": "code",
   "execution_count": 12,
   "id": "logical-launch",
   "metadata": {},
   "outputs": [
    {
     "name": "stderr",
     "output_type": "stream",
     "text": [
      "\r",
      "  0%|          | 0/16 [00:00<?, ?it/s]"
     ]
    },
    {
     "name": "stdout",
     "output_type": "stream",
     "text": [
      "iter = 0\n"
     ]
    },
    {
     "name": "stderr",
     "output_type": "stream",
     "text": [
      "\r",
      "  6%|▋         | 1/16 [00:00<00:03,  4.31it/s]"
     ]
    },
    {
     "name": "stdout",
     "output_type": "stream",
     "text": [
      "number of energy samples = 1000\n",
      "mean = 182.0405731201172\n",
      "std = 7.9649248123168945\n",
      "------------\n",
      "iter = 1\n"
     ]
    },
    {
     "name": "stderr",
     "output_type": "stream",
     "text": [
      "\r",
      " 12%|█▎        | 2/16 [00:00<00:03,  4.29it/s]"
     ]
    },
    {
     "name": "stdout",
     "output_type": "stream",
     "text": [
      "number of energy samples = 1000\n",
      "mean = 181.80633544921875\n",
      "std = 7.921615123748779\n",
      "------------\n",
      "iter = 2\n"
     ]
    },
    {
     "name": "stderr",
     "output_type": "stream",
     "text": [
      "\r",
      " 19%|█▉        | 3/16 [00:00<00:03,  4.27it/s]"
     ]
    },
    {
     "name": "stdout",
     "output_type": "stream",
     "text": [
      "number of energy samples = 1000\n",
      "mean = 181.62657165527344\n",
      "std = 7.813420295715332\n",
      "------------\n",
      "iter = 3\n"
     ]
    },
    {
     "name": "stderr",
     "output_type": "stream",
     "text": [
      "\r",
      " 25%|██▌       | 4/16 [00:00<00:02,  4.25it/s]"
     ]
    },
    {
     "name": "stdout",
     "output_type": "stream",
     "text": [
      "number of energy samples = 1000\n",
      "mean = 181.6621856689453\n",
      "std = 7.81403923034668\n",
      "------------\n",
      "iter = 4\n"
     ]
    },
    {
     "name": "stderr",
     "output_type": "stream",
     "text": [
      "\r",
      " 31%|███▏      | 5/16 [00:01<00:02,  4.24it/s]"
     ]
    },
    {
     "name": "stdout",
     "output_type": "stream",
     "text": [
      "number of energy samples = 1000\n",
      "mean = 181.5923614501953\n",
      "std = 7.900378227233887\n",
      "------------\n",
      "iter = 5\n"
     ]
    },
    {
     "name": "stderr",
     "output_type": "stream",
     "text": [
      "\r",
      " 38%|███▊      | 6/16 [00:01<00:02,  4.24it/s]"
     ]
    },
    {
     "name": "stdout",
     "output_type": "stream",
     "text": [
      "number of energy samples = 1000\n",
      "mean = 181.5580596923828\n",
      "std = 8.048165321350098\n",
      "------------\n",
      "iter = 6\n"
     ]
    },
    {
     "name": "stderr",
     "output_type": "stream",
     "text": [
      "\r",
      " 44%|████▍     | 7/16 [00:01<00:02,  4.23it/s]"
     ]
    },
    {
     "name": "stdout",
     "output_type": "stream",
     "text": [
      "number of energy samples = 1000\n",
      "mean = 181.52996826171875\n",
      "std = 8.062662124633789\n",
      "------------\n",
      "iter = 7\n"
     ]
    },
    {
     "name": "stderr",
     "output_type": "stream",
     "text": [
      "\r",
      " 50%|█████     | 8/16 [00:01<00:01,  4.23it/s]"
     ]
    },
    {
     "name": "stdout",
     "output_type": "stream",
     "text": [
      "number of energy samples = 1000\n",
      "mean = 181.3973846435547\n",
      "std = 7.988422870635986\n",
      "------------\n",
      "iter = 8\n"
     ]
    },
    {
     "name": "stderr",
     "output_type": "stream",
     "text": [
      "\r",
      " 56%|█████▋    | 9/16 [00:02<00:01,  4.23it/s]"
     ]
    },
    {
     "name": "stdout",
     "output_type": "stream",
     "text": [
      "number of energy samples = 1000\n",
      "mean = 181.37332153320312\n",
      "std = 8.013983726501465\n",
      "------------\n",
      "iter = 9\n"
     ]
    },
    {
     "name": "stderr",
     "output_type": "stream",
     "text": [
      "\r",
      " 62%|██████▎   | 10/16 [00:02<00:01,  4.22it/s]"
     ]
    },
    {
     "name": "stdout",
     "output_type": "stream",
     "text": [
      "number of energy samples = 1000\n",
      "mean = 181.64471435546875\n",
      "std = 8.213239669799805\n",
      "------------\n",
      "iter = 10\n"
     ]
    },
    {
     "name": "stderr",
     "output_type": "stream",
     "text": [
      "\r",
      " 69%|██████▉   | 11/16 [00:02<00:01,  4.22it/s]"
     ]
    },
    {
     "name": "stdout",
     "output_type": "stream",
     "text": [
      "number of energy samples = 1000\n",
      "mean = 181.43902587890625\n",
      "std = 8.6331148147583\n",
      "------------\n",
      "iter = 11\n"
     ]
    },
    {
     "name": "stderr",
     "output_type": "stream",
     "text": [
      "\r",
      " 75%|███████▌  | 12/16 [00:02<00:00,  4.22it/s]"
     ]
    },
    {
     "name": "stdout",
     "output_type": "stream",
     "text": [
      "number of energy samples = 1000\n",
      "mean = 181.48358154296875\n",
      "std = 8.8270902633667\n",
      "------------\n",
      "iter = 12\n"
     ]
    },
    {
     "name": "stderr",
     "output_type": "stream",
     "text": [
      "\r",
      " 81%|████████▏ | 13/16 [00:03<00:00,  4.22it/s]"
     ]
    },
    {
     "name": "stdout",
     "output_type": "stream",
     "text": [
      "number of energy samples = 1000\n",
      "mean = 181.358154296875\n",
      "std = 8.872788429260254\n",
      "------------\n",
      "iter = 13\n"
     ]
    },
    {
     "name": "stderr",
     "output_type": "stream",
     "text": [
      "\r",
      " 88%|████████▊ | 14/16 [00:03<00:00,  4.22it/s]"
     ]
    },
    {
     "name": "stdout",
     "output_type": "stream",
     "text": [
      "number of energy samples = 1000\n",
      "mean = 181.5653076171875\n",
      "std = 8.770751953125\n",
      "------------\n",
      "iter = 14\n"
     ]
    },
    {
     "name": "stderr",
     "output_type": "stream",
     "text": [
      "\r",
      " 94%|█████████▍| 15/16 [00:03<00:00,  4.22it/s]"
     ]
    },
    {
     "name": "stdout",
     "output_type": "stream",
     "text": [
      "number of energy samples = 1000\n",
      "mean = 181.67459106445312\n",
      "std = 8.790871620178223\n",
      "------------\n",
      "iter = 15\n"
     ]
    },
    {
     "name": "stderr",
     "output_type": "stream",
     "text": [
      "100%|██████████| 16/16 [00:03<00:00,  4.22it/s]"
     ]
    },
    {
     "name": "stdout",
     "output_type": "stream",
     "text": [
      "number of energy samples = 1000\n",
      "mean = 181.65872192382812\n",
      "std = 8.679335594177246\n",
      "------------\n"
     ]
    },
    {
     "name": "stderr",
     "output_type": "stream",
     "text": [
      "\n"
     ]
    }
   ],
   "source": [
    "ula_mean, std_mean = report_energy(load_np, target_energy, num_bs, batchsize, device)"
   ]
  },
  {
   "cell_type": "code",
   "execution_count": 26,
   "id": "transsexual-commerce",
   "metadata": {},
   "outputs": [],
   "source": [
    "random_seed = 42\n",
    "torch.manual_seed(random_seed)\n",
    "np.random.seed(random_seed)\n",
    "random.seed(random_seed)\n",
    "\n",
    "batch_size = 200\n",
    "n = 1000\n",
    "n_steps = 601\n",
    "\n",
    "grad_step = 0.05\n",
    "eps_scale = (2 * grad_step) ** 0.5\n",
    "\n",
    "use_noise = True\n",
    "\n",
    "method_name = 'ula_sngan_resnet_cifar_recalc'\n",
    "path_to_save = '/home/daniil/gans-mcmc/saved_numpy_arrays'\n",
    "file_name = f'{method_name}_nsteps_{n_steps}_step_{grad_step}_eps_{eps_scale}_use_noise_{use_noise}'\n",
    "every_step = 40\n",
    "continue_z = None"
   ]
  },
  {
   "cell_type": "code",
   "execution_count": 16,
   "id": "thermal-adjustment",
   "metadata": {},
   "outputs": [
    {
     "name": "stderr",
     "output_type": "stream",
     "text": [
      " 20%|██        | 1/5 [01:30<06:01, 90.44s/it]"
     ]
    },
    {
     "name": "stdout",
     "output_type": "stream",
     "text": [
      "file /home/daniil/gans-mcmc/saved_numpy_arrays/ula_sngan_resnet_cifar_recalc_nsteps_601_step_0.05_eps_0.31622776601683794_use_noise_True_batch_num_0.npy was saved, file shape = (16, 200, 128)\n"
     ]
    },
    {
     "name": "stderr",
     "output_type": "stream",
     "text": [
      "\r",
      " 40%|████      | 2/5 [03:03<04:34, 91.37s/it]"
     ]
    },
    {
     "name": "stdout",
     "output_type": "stream",
     "text": [
      "file /home/daniil/gans-mcmc/saved_numpy_arrays/ula_sngan_resnet_cifar_recalc_nsteps_601_step_0.05_eps_0.31622776601683794_use_noise_True_batch_num_200.npy was saved, file shape = (16, 200, 128)\n"
     ]
    },
    {
     "name": "stderr",
     "output_type": "stream",
     "text": [
      "\r",
      " 60%|██████    | 3/5 [04:37<03:04, 92.09s/it]"
     ]
    },
    {
     "name": "stdout",
     "output_type": "stream",
     "text": [
      "file /home/daniil/gans-mcmc/saved_numpy_arrays/ula_sngan_resnet_cifar_recalc_nsteps_601_step_0.05_eps_0.31622776601683794_use_noise_True_batch_num_400.npy was saved, file shape = (16, 200, 128)\n"
     ]
    },
    {
     "name": "stderr",
     "output_type": "stream",
     "text": [
      "\r",
      " 80%|████████  | 4/5 [06:11<01:32, 92.53s/it]"
     ]
    },
    {
     "name": "stdout",
     "output_type": "stream",
     "text": [
      "file /home/daniil/gans-mcmc/saved_numpy_arrays/ula_sngan_resnet_cifar_recalc_nsteps_601_step_0.05_eps_0.31622776601683794_use_noise_True_batch_num_600.npy was saved, file shape = (16, 200, 128)\n"
     ]
    },
    {
     "name": "stderr",
     "output_type": "stream",
     "text": [
      "100%|██████████| 5/5 [07:44<00:00, 92.97s/it]"
     ]
    },
    {
     "name": "stdout",
     "output_type": "stream",
     "text": [
      "file /home/daniil/gans-mcmc/saved_numpy_arrays/ula_sngan_resnet_cifar_recalc_nsteps_601_step_0.05_eps_0.31622776601683794_use_noise_True_batch_num_800.npy was saved, file shape = (16, 200, 128)\n"
     ]
    },
    {
     "name": "stderr",
     "output_type": "stream",
     "text": [
      "\n"
     ]
    }
   ],
   "source": [
    "z_last_np, zs = langevin_sampling(target_gan, proposal, batch_size, n,\n",
    "                                  path_to_save, file_name, every_step,\n",
    "                                  continue_z, n_steps, grad_step, eps_scale,\n",
    "                                  use_noise)"
   ]
  },
  {
   "cell_type": "code",
   "execution_count": 27,
   "id": "basic-coaching",
   "metadata": {},
   "outputs": [
    {
     "name": "stderr",
     "output_type": "stream",
     "text": [
      "100%|██████████| 5/5 [00:00<00:00, 2523.04it/s]\n"
     ]
    }
   ],
   "source": [
    "load_np = load_data_from_batches(n, batch_size,\n",
    "                                 path_to_save, file_name)\n",
    "\n",
    "n = 1000\n",
    "batchsize = 200\n",
    "num_bs = n // batchsize"
   ]
  },
  {
   "cell_type": "code",
   "execution_count": 28,
   "id": "speaking-details",
   "metadata": {},
   "outputs": [
    {
     "name": "stderr",
     "output_type": "stream",
     "text": [
      "\r",
      "  0%|          | 0/16 [00:00<?, ?it/s]"
     ]
    },
    {
     "name": "stdout",
     "output_type": "stream",
     "text": [
      "iter = 0\n"
     ]
    },
    {
     "name": "stderr",
     "output_type": "stream",
     "text": [
      "\r",
      "  6%|▋         | 1/16 [00:00<00:03,  3.98it/s]"
     ]
    },
    {
     "name": "stdout",
     "output_type": "stream",
     "text": [
      "number of energy samples = 1000\n",
      "mean = 182.0405731201172\n",
      "std = 7.9649248123168945\n",
      "------------\n",
      "iter = 1\n"
     ]
    },
    {
     "name": "stderr",
     "output_type": "stream",
     "text": [
      "\r",
      " 12%|█▎        | 2/16 [00:00<00:03,  4.10it/s]"
     ]
    },
    {
     "name": "stdout",
     "output_type": "stream",
     "text": [
      "number of energy samples = 1000\n",
      "mean = 183.58937072753906\n",
      "std = 9.461840629577637\n",
      "------------\n",
      "iter = 2\n"
     ]
    },
    {
     "name": "stderr",
     "output_type": "stream",
     "text": [
      "\r",
      " 19%|█▉        | 3/16 [00:00<00:03,  4.20it/s]"
     ]
    },
    {
     "name": "stdout",
     "output_type": "stream",
     "text": [
      "number of energy samples = 1000\n",
      "mean = 183.87709045410156\n",
      "std = 10.478273391723633\n",
      "------------\n",
      "iter = 3\n"
     ]
    },
    {
     "name": "stderr",
     "output_type": "stream",
     "text": [
      "\r",
      " 25%|██▌       | 4/16 [00:00<00:02,  4.26it/s]"
     ]
    },
    {
     "name": "stdout",
     "output_type": "stream",
     "text": [
      "number of energy samples = 1000\n",
      "mean = 183.1565399169922\n",
      "std = 11.0250244140625\n",
      "------------\n",
      "iter = 4\n"
     ]
    },
    {
     "name": "stderr",
     "output_type": "stream",
     "text": [
      "\r",
      " 31%|███▏      | 5/16 [00:01<00:02,  4.31it/s]"
     ]
    },
    {
     "name": "stdout",
     "output_type": "stream",
     "text": [
      "number of energy samples = 1000\n",
      "mean = 183.40248107910156\n",
      "std = 11.381664276123047\n",
      "------------\n",
      "iter = 5\n"
     ]
    },
    {
     "name": "stderr",
     "output_type": "stream",
     "text": [
      "\r",
      " 38%|███▊      | 6/16 [00:01<00:02,  4.35it/s]"
     ]
    },
    {
     "name": "stdout",
     "output_type": "stream",
     "text": [
      "number of energy samples = 1000\n",
      "mean = 182.34979248046875\n",
      "std = 13.100394248962402\n",
      "------------\n",
      "iter = 6\n"
     ]
    },
    {
     "name": "stderr",
     "output_type": "stream",
     "text": [
      "\r",
      " 44%|████▍     | 7/16 [00:01<00:02,  4.37it/s]"
     ]
    },
    {
     "name": "stdout",
     "output_type": "stream",
     "text": [
      "number of energy samples = 1000\n",
      "mean = 182.3652801513672\n",
      "std = 12.30479621887207\n",
      "------------\n",
      "iter = 7\n"
     ]
    },
    {
     "name": "stderr",
     "output_type": "stream",
     "text": [
      "\r",
      " 50%|█████     | 8/16 [00:01<00:01,  4.39it/s]"
     ]
    },
    {
     "name": "stdout",
     "output_type": "stream",
     "text": [
      "number of energy samples = 1000\n",
      "mean = 182.45858764648438\n",
      "std = 13.6621732711792\n",
      "------------\n",
      "iter = 8\n"
     ]
    },
    {
     "name": "stderr",
     "output_type": "stream",
     "text": [
      "\r",
      " 56%|█████▋    | 9/16 [00:02<00:01,  4.40it/s]"
     ]
    },
    {
     "name": "stdout",
     "output_type": "stream",
     "text": [
      "number of energy samples = 1000\n",
      "mean = 182.78050231933594\n",
      "std = 12.184125900268555\n",
      "------------\n",
      "iter = 9\n"
     ]
    },
    {
     "name": "stderr",
     "output_type": "stream",
     "text": [
      "\r",
      " 62%|██████▎   | 10/16 [00:02<00:01,  4.41it/s]"
     ]
    },
    {
     "name": "stdout",
     "output_type": "stream",
     "text": [
      "number of energy samples = 1000\n",
      "mean = 182.54278564453125\n",
      "std = 12.816618919372559\n",
      "------------\n",
      "iter = 10\n"
     ]
    },
    {
     "name": "stderr",
     "output_type": "stream",
     "text": [
      "\r",
      " 69%|██████▉   | 11/16 [00:02<00:01,  4.42it/s]"
     ]
    },
    {
     "name": "stdout",
     "output_type": "stream",
     "text": [
      "number of energy samples = 1000\n",
      "mean = 182.6037139892578\n",
      "std = 14.482230186462402\n",
      "------------\n",
      "iter = 11\n"
     ]
    },
    {
     "name": "stderr",
     "output_type": "stream",
     "text": [
      "\r",
      " 75%|███████▌  | 12/16 [00:02<00:00,  4.42it/s]"
     ]
    },
    {
     "name": "stdout",
     "output_type": "stream",
     "text": [
      "number of energy samples = 1000\n",
      "mean = 182.11737060546875\n",
      "std = 13.203208923339844\n",
      "------------\n",
      "iter = 12\n"
     ]
    },
    {
     "name": "stderr",
     "output_type": "stream",
     "text": [
      "\r",
      " 81%|████████▏ | 13/16 [00:02<00:00,  4.42it/s]"
     ]
    },
    {
     "name": "stdout",
     "output_type": "stream",
     "text": [
      "number of energy samples = 1000\n",
      "mean = 181.52590942382812\n",
      "std = 14.363497734069824\n",
      "------------\n",
      "iter = 13\n"
     ]
    },
    {
     "name": "stderr",
     "output_type": "stream",
     "text": [
      "\r",
      " 88%|████████▊ | 14/16 [00:03<00:00,  4.42it/s]"
     ]
    },
    {
     "name": "stdout",
     "output_type": "stream",
     "text": [
      "number of energy samples = 1000\n",
      "mean = 181.39727783203125\n",
      "std = 14.346043586730957\n",
      "------------\n",
      "iter = 14\n"
     ]
    },
    {
     "name": "stderr",
     "output_type": "stream",
     "text": [
      "\r",
      " 94%|█████████▍| 15/16 [00:03<00:00,  4.42it/s]"
     ]
    },
    {
     "name": "stdout",
     "output_type": "stream",
     "text": [
      "number of energy samples = 1000\n",
      "mean = 181.3743438720703\n",
      "std = 15.095344543457031\n",
      "------------\n",
      "iter = 15\n"
     ]
    },
    {
     "name": "stderr",
     "output_type": "stream",
     "text": [
      "100%|██████████| 16/16 [00:03<00:00,  4.40it/s]"
     ]
    },
    {
     "name": "stdout",
     "output_type": "stream",
     "text": [
      "number of energy samples = 1000\n",
      "mean = 181.70831298828125\n",
      "std = 14.451433181762695\n",
      "------------\n"
     ]
    },
    {
     "name": "stderr",
     "output_type": "stream",
     "text": [
      "\n"
     ]
    }
   ],
   "source": [
    "ula_mean, std_mean = report_energy(load_np, target_energy, num_bs, batchsize, device)"
   ]
  },
  {
   "cell_type": "code",
   "execution_count": 29,
   "id": "personalized-albert",
   "metadata": {},
   "outputs": [
    {
     "data": {
      "image/png": "[encoded data removed]",
      "text/plain": [
       "<Figure size 432x288 with 1 Axes>"
      ]
     },
     "metadata": {
      "needs_background": "light"
     },
     "output_type": "display_data"
    }
   ],
   "source": [
    "plt.plot([i*40 for i in range(len(ula_mean))], ula_mean, label = \"ULA\", color='r')\n",
    "plt.xlabel(\"MCMC iteration\")\n",
    "plt.ylabel(\"Energy\")\n",
    "plt.grid()\n",
    "plt.legend()\n",
    "plt.show()"
   ]
  },
  {
   "cell_type": "code",
   "execution_count": 21,
   "id": "faced-douglas",
   "metadata": {},
   "outputs": [],
   "source": [
    "random_seed = 42\n",
    "torch.manual_seed(random_seed)\n",
    "np.random.seed(random_seed)\n",
    "random.seed(random_seed)\n",
    "\n",
    "batch_size = 200\n",
    "n = 1000\n",
    "n_steps = 601\n",
    "\n",
    "grad_step = 0.02\n",
    "eps_scale = (2 * grad_step) ** 0.5\n",
    "\n",
    "use_noise = True\n",
    "\n",
    "method_name = 'ula_sngan_resnet_cifar_recalc'\n",
    "path_to_save = '/home/daniil/gans-mcmc/saved_numpy_arrays'\n",
    "file_name = f'{method_name}_nsteps_{n_steps}_step_{grad_step}_eps_{eps_scale}_use_noise_{use_noise}'\n",
    "every_step = 40\n",
    "continue_z = None"
   ]
  },
  {
   "cell_type": "code",
   "execution_count": 22,
   "id": "automotive-parcel",
   "metadata": {},
   "outputs": [
    {
     "name": "stderr",
     "output_type": "stream",
     "text": [
      " 20%|██        | 1/5 [01:32<06:09, 92.26s/it]"
     ]
    },
    {
     "name": "stdout",
     "output_type": "stream",
     "text": [
      "file /home/daniil/gans-mcmc/saved_numpy_arrays/ula_sngan_resnet_cifar_recalc_nsteps_601_step_0.02_eps_0.2_use_noise_True_batch_num_0.npy was saved, file shape = (16, 200, 128)\n"
     ]
    },
    {
     "name": "stderr",
     "output_type": "stream",
     "text": [
      "\r",
      " 40%|████      | 2/5 [03:05<04:38, 92.70s/it]"
     ]
    },
    {
     "name": "stdout",
     "output_type": "stream",
     "text": [
      "file /home/daniil/gans-mcmc/saved_numpy_arrays/ula_sngan_resnet_cifar_recalc_nsteps_601_step_0.02_eps_0.2_use_noise_True_batch_num_200.npy was saved, file shape = (16, 200, 128)\n"
     ]
    },
    {
     "name": "stderr",
     "output_type": "stream",
     "text": [
      "\r",
      " 60%|██████    | 3/5 [04:39<03:05, 92.93s/it]"
     ]
    },
    {
     "name": "stdout",
     "output_type": "stream",
     "text": [
      "file /home/daniil/gans-mcmc/saved_numpy_arrays/ula_sngan_resnet_cifar_recalc_nsteps_601_step_0.02_eps_0.2_use_noise_True_batch_num_400.npy was saved, file shape = (16, 200, 128)\n"
     ]
    },
    {
     "name": "stderr",
     "output_type": "stream",
     "text": [
      "\r",
      " 80%|████████  | 4/5 [06:12<01:33, 93.07s/it]"
     ]
    },
    {
     "name": "stdout",
     "output_type": "stream",
     "text": [
      "file /home/daniil/gans-mcmc/saved_numpy_arrays/ula_sngan_resnet_cifar_recalc_nsteps_601_step_0.02_eps_0.2_use_noise_True_batch_num_600.npy was saved, file shape = (16, 200, 128)\n"
     ]
    },
    {
     "name": "stderr",
     "output_type": "stream",
     "text": [
      "100%|██████████| 5/5 [07:46<00:00, 93.25s/it]"
     ]
    },
    {
     "name": "stdout",
     "output_type": "stream",
     "text": [
      "file /home/daniil/gans-mcmc/saved_numpy_arrays/ula_sngan_resnet_cifar_recalc_nsteps_601_step_0.02_eps_0.2_use_noise_True_batch_num_800.npy was saved, file shape = (16, 200, 128)\n"
     ]
    },
    {
     "name": "stderr",
     "output_type": "stream",
     "text": [
      "\n"
     ]
    }
   ],
   "source": [
    "z_last_np, zs = langevin_sampling(target_gan, proposal, batch_size, n,\n",
    "                                  path_to_save, file_name, every_step,\n",
    "                                  continue_z, n_steps, grad_step, eps_scale,\n",
    "                                  use_noise)"
   ]
  },
  {
   "cell_type": "code",
   "execution_count": 23,
   "id": "foster-vertex",
   "metadata": {},
   "outputs": [
    {
     "name": "stderr",
     "output_type": "stream",
     "text": [
      "100%|██████████| 5/5 [00:00<00:00, 2342.14it/s]\n"
     ]
    }
   ],
   "source": [
    "load_np = load_data_from_batches(n, batch_size,\n",
    "                                 path_to_save, file_name)\n",
    "\n",
    "n = 1000\n",
    "batchsize = 200\n",
    "num_bs = n // batchsize"
   ]
  },
  {
   "cell_type": "code",
   "execution_count": 24,
   "id": "useful-logic",
   "metadata": {},
   "outputs": [
    {
     "name": "stderr",
     "output_type": "stream",
     "text": [
      "\r",
      "  0%|          | 0/16 [00:00<?, ?it/s]"
     ]
    },
    {
     "name": "stdout",
     "output_type": "stream",
     "text": [
      "iter = 0\n"
     ]
    },
    {
     "name": "stderr",
     "output_type": "stream",
     "text": [
      "\r",
      "  6%|▋         | 1/16 [00:00<00:03,  4.31it/s]"
     ]
    },
    {
     "name": "stdout",
     "output_type": "stream",
     "text": [
      "number of energy samples = 1000\n",
      "mean = 182.0405731201172\n",
      "std = 7.9649248123168945\n",
      "------------\n",
      "iter = 1\n"
     ]
    },
    {
     "name": "stderr",
     "output_type": "stream",
     "text": [
      "\r",
      " 12%|█▎        | 2/16 [00:00<00:03,  4.28it/s]"
     ]
    },
    {
     "name": "stdout",
     "output_type": "stream",
     "text": [
      "number of energy samples = 1000\n",
      "mean = 182.4692840576172\n",
      "std = 8.688170433044434\n",
      "------------\n",
      "iter = 2\n"
     ]
    },
    {
     "name": "stderr",
     "output_type": "stream",
     "text": [
      "\r",
      " 19%|█▉        | 3/16 [00:00<00:03,  4.26it/s]"
     ]
    },
    {
     "name": "stdout",
     "output_type": "stream",
     "text": [
      "number of energy samples = 1000\n",
      "mean = 182.43136596679688\n",
      "std = 8.8725004196167\n",
      "------------\n",
      "iter = 3\n"
     ]
    },
    {
     "name": "stderr",
     "output_type": "stream",
     "text": [
      "\r",
      " 25%|██▌       | 4/16 [00:00<00:02,  4.25it/s]"
     ]
    },
    {
     "name": "stdout",
     "output_type": "stream",
     "text": [
      "number of energy samples = 1000\n",
      "mean = 181.798828125\n",
      "std = 11.415973663330078\n",
      "------------\n",
      "iter = 4\n"
     ]
    },
    {
     "name": "stderr",
     "output_type": "stream",
     "text": [
      "\r",
      " 31%|███▏      | 5/16 [00:01<00:02,  4.24it/s]"
     ]
    },
    {
     "name": "stdout",
     "output_type": "stream",
     "text": [
      "number of energy samples = 1000\n",
      "mean = 181.6396942138672\n",
      "std = 12.661226272583008\n",
      "------------\n",
      "iter = 5\n"
     ]
    },
    {
     "name": "stderr",
     "output_type": "stream",
     "text": [
      "\r",
      " 38%|███▊      | 6/16 [00:01<00:02,  4.23it/s]"
     ]
    },
    {
     "name": "stdout",
     "output_type": "stream",
     "text": [
      "number of energy samples = 1000\n",
      "mean = 180.7051544189453\n",
      "std = 14.98609733581543\n",
      "------------\n",
      "iter = 6\n"
     ]
    },
    {
     "name": "stderr",
     "output_type": "stream",
     "text": [
      "\r",
      " 44%|████▍     | 7/16 [00:01<00:02,  4.23it/s]"
     ]
    },
    {
     "name": "stdout",
     "output_type": "stream",
     "text": [
      "number of energy samples = 1000\n",
      "mean = 180.07115173339844\n",
      "std = 16.304506301879883\n",
      "------------\n",
      "iter = 7\n"
     ]
    },
    {
     "name": "stderr",
     "output_type": "stream",
     "text": [
      "\r",
      " 50%|█████     | 8/16 [00:01<00:01,  4.23it/s]"
     ]
    },
    {
     "name": "stdout",
     "output_type": "stream",
     "text": [
      "number of energy samples = 1000\n",
      "mean = 179.84609985351562\n",
      "std = 17.237966537475586\n",
      "------------\n",
      "iter = 8\n"
     ]
    },
    {
     "name": "stderr",
     "output_type": "stream",
     "text": [
      "\r",
      " 56%|█████▋    | 9/16 [00:02<00:01,  4.23it/s]"
     ]
    },
    {
     "name": "stdout",
     "output_type": "stream",
     "text": [
      "number of energy samples = 1000\n",
      "mean = 179.5710906982422\n",
      "std = 17.454547882080078\n",
      "------------\n",
      "iter = 9\n"
     ]
    },
    {
     "name": "stderr",
     "output_type": "stream",
     "text": [
      "\r",
      " 62%|██████▎   | 10/16 [00:02<00:01,  4.22it/s]"
     ]
    },
    {
     "name": "stdout",
     "output_type": "stream",
     "text": [
      "number of energy samples = 1000\n",
      "mean = 179.47032165527344\n",
      "std = 18.919761657714844\n",
      "------------\n",
      "iter = 10\n"
     ]
    },
    {
     "name": "stderr",
     "output_type": "stream",
     "text": [
      "\r",
      " 69%|██████▉   | 11/16 [00:02<00:01,  4.21it/s]"
     ]
    },
    {
     "name": "stdout",
     "output_type": "stream",
     "text": [
      "number of energy samples = 1000\n",
      "mean = 179.0347442626953\n",
      "std = 19.004961013793945\n",
      "------------\n",
      "iter = 11\n"
     ]
    },
    {
     "name": "stderr",
     "output_type": "stream",
     "text": [
      "\r",
      " 75%|███████▌  | 12/16 [00:02<00:00,  4.21it/s]"
     ]
    },
    {
     "name": "stdout",
     "output_type": "stream",
     "text": [
      "number of energy samples = 1000\n",
      "mean = 178.76808166503906\n",
      "std = 19.609691619873047\n",
      "------------\n",
      "iter = 12\n"
     ]
    },
    {
     "name": "stderr",
     "output_type": "stream",
     "text": [
      "\r",
      " 81%|████████▏ | 13/16 [00:03<00:00,  4.21it/s]"
     ]
    },
    {
     "name": "stdout",
     "output_type": "stream",
     "text": [
      "number of energy samples = 1000\n",
      "mean = 178.1132354736328\n",
      "std = 20.04307746887207\n",
      "------------\n",
      "iter = 13\n"
     ]
    },
    {
     "name": "stderr",
     "output_type": "stream",
     "text": [
      "\r",
      " 88%|████████▊ | 14/16 [00:03<00:00,  4.21it/s]"
     ]
    },
    {
     "name": "stdout",
     "output_type": "stream",
     "text": [
      "number of energy samples = 1000\n",
      "mean = 177.43394470214844\n",
      "std = 21.621572494506836\n",
      "------------\n",
      "iter = 14\n"
     ]
    },
    {
     "name": "stderr",
     "output_type": "stream",
     "text": [
      "\r",
      " 94%|█████████▍| 15/16 [00:03<00:00,  4.21it/s]"
     ]
    },
    {
     "name": "stdout",
     "output_type": "stream",
     "text": [
      "number of energy samples = 1000\n",
      "mean = 176.89247131347656\n",
      "std = 22.306852340698242\n",
      "------------\n",
      "iter = 15\n"
     ]
    },
    {
     "name": "stderr",
     "output_type": "stream",
     "text": [
      "100%|██████████| 16/16 [00:03<00:00,  4.22it/s]"
     ]
    },
    {
     "name": "stdout",
     "output_type": "stream",
     "text": [
      "number of energy samples = 1000\n",
      "mean = 176.4280242919922\n",
      "std = 23.80924415588379\n",
      "------------\n"
     ]
    },
    {
     "name": "stderr",
     "output_type": "stream",
     "text": [
      "\n"
     ]
    }
   ],
   "source": [
    "ula_mean, std_mean = report_energy(load_np, target_energy, num_bs, batchsize, device)"
   ]
  },
  {
   "cell_type": "code",
   "execution_count": 25,
   "id": "annual-consultancy",
   "metadata": {},
   "outputs": [
    {
     "data": {
      "image/png": "[encoded data removed]",
      "text/plain": [
       "<Figure size 432x288 with 1 Axes>"
      ]
     },
     "metadata": {
      "needs_background": "light"
     },
     "output_type": "display_data"
    }
   ],
   "source": [
    "plt.plot([i*40 for i in range(len(ula_mean))], ula_mean, label = \"ULA\", color='r')\n",
    "plt.xlabel(\"MCMC iteration\")\n",
    "plt.ylabel(\"Energy\")\n",
    "plt.grid()\n",
    "plt.legend()\n",
    "plt.show()"
   ]
  },
  {
   "cell_type": "code",
   "execution_count": 30,
   "id": "least-blind",
   "metadata": {},
   "outputs": [
    {
     "name": "stderr",
     "output_type": "stream",
     "text": [
      "\r",
      "  0%|          | 0/16 [00:00<?, ?it/s]"
     ]
    },
    {
     "name": "stdout",
     "output_type": "stream",
     "text": [
      "iter = 0\n"
     ]
    },
    {
     "name": "stderr",
     "output_type": "stream",
     "text": [
      "\r",
      "  6%|▋         | 1/16 [00:00<00:03,  4.06it/s]"
     ]
    },
    {
     "name": "stdout",
     "output_type": "stream",
     "text": [
      "number of energy samples = 1000\n",
      "mean = 0.37303319573402405\n",
      "std = 0.16258041560649872\n",
      "------------\n",
      "iter = 1\n"
     ]
    },
    {
     "name": "stderr",
     "output_type": "stream",
     "text": [
      "\r",
      " 12%|█▎        | 2/16 [00:00<00:03,  4.17it/s]"
     ]
    },
    {
     "name": "stdout",
     "output_type": "stream",
     "text": [
      "number of energy samples = 1000\n",
      "mean = 0.46355530619621277\n",
      "std = 0.2121623456478119\n",
      "------------\n",
      "iter = 2\n"
     ]
    },
    {
     "name": "stderr",
     "output_type": "stream",
     "text": [
      "\r",
      " 19%|█▉        | 3/16 [00:00<00:03,  4.25it/s]"
     ]
    },
    {
     "name": "stdout",
     "output_type": "stream",
     "text": [
      "number of energy samples = 1000\n",
      "mean = 0.4656195044517517\n",
      "std = 0.22112351655960083\n",
      "------------\n",
      "iter = 3\n"
     ]
    },
    {
     "name": "stderr",
     "output_type": "stream",
     "text": [
      "\r",
      " 25%|██▌       | 4/16 [00:00<00:02,  4.30it/s]"
     ]
    },
    {
     "name": "stdout",
     "output_type": "stream",
     "text": [
      "number of energy samples = 1000\n",
      "mean = 0.4707905352115631\n",
      "std = 0.22948096692562103\n",
      "------------\n",
      "iter = 4\n"
     ]
    },
    {
     "name": "stderr",
     "output_type": "stream",
     "text": [
      "\r",
      " 31%|███▏      | 5/16 [00:01<00:02,  4.35it/s]"
     ]
    },
    {
     "name": "stdout",
     "output_type": "stream",
     "text": [
      "number of energy samples = 1000\n",
      "mean = 0.4857109785079956\n",
      "std = 0.2373926043510437\n",
      "------------\n",
      "iter = 5\n"
     ]
    },
    {
     "name": "stderr",
     "output_type": "stream",
     "text": [
      "\r",
      " 38%|███▊      | 6/16 [00:01<00:02,  4.38it/s]"
     ]
    },
    {
     "name": "stdout",
     "output_type": "stream",
     "text": [
      "number of energy samples = 1000\n",
      "mean = 0.4787008464336395\n",
      "std = 0.2385280579328537\n",
      "------------\n",
      "iter = 6\n"
     ]
    },
    {
     "name": "stderr",
     "output_type": "stream",
     "text": [
      "\r",
      " 44%|████▍     | 7/16 [00:01<00:02,  4.40it/s]"
     ]
    },
    {
     "name": "stdout",
     "output_type": "stream",
     "text": [
      "number of energy samples = 1000\n",
      "mean = 0.48142412304878235\n",
      "std = 0.24009625613689423\n",
      "------------\n",
      "iter = 7\n"
     ]
    },
    {
     "name": "stderr",
     "output_type": "stream",
     "text": [
      "\r",
      " 50%|█████     | 8/16 [00:01<00:01,  4.41it/s]"
     ]
    },
    {
     "name": "stdout",
     "output_type": "stream",
     "text": [
      "number of energy samples = 1000\n",
      "mean = 0.49728935956954956\n",
      "std = 0.23671028017997742\n",
      "------------\n",
      "iter = 8\n"
     ]
    },
    {
     "name": "stderr",
     "output_type": "stream",
     "text": [
      "\r",
      " 56%|█████▋    | 9/16 [00:02<00:01,  4.42it/s]"
     ]
    },
    {
     "name": "stdout",
     "output_type": "stream",
     "text": [
      "number of energy samples = 1000\n",
      "mean = 0.4888124167919159\n",
      "std = 0.24532167613506317\n",
      "------------\n",
      "iter = 9\n"
     ]
    },
    {
     "name": "stderr",
     "output_type": "stream",
     "text": [
      "\r",
      " 62%|██████▎   | 10/16 [00:02<00:01,  4.43it/s]"
     ]
    },
    {
     "name": "stdout",
     "output_type": "stream",
     "text": [
      "number of energy samples = 1000\n",
      "mean = 0.4933492839336395\n",
      "std = 0.2424742728471756\n",
      "------------\n",
      "iter = 10\n"
     ]
    },
    {
     "name": "stderr",
     "output_type": "stream",
     "text": [
      "\r",
      " 69%|██████▉   | 11/16 [00:02<00:01,  4.43it/s]"
     ]
    },
    {
     "name": "stdout",
     "output_type": "stream",
     "text": [
      "number of energy samples = 1000\n",
      "mean = 0.49675413966178894\n",
      "std = 0.25156858563423157\n",
      "------------\n",
      "iter = 11\n"
     ]
    },
    {
     "name": "stderr",
     "output_type": "stream",
     "text": [
      "\r",
      " 75%|███████▌  | 12/16 [00:02<00:00,  4.44it/s]"
     ]
    },
    {
     "name": "stdout",
     "output_type": "stream",
     "text": [
      "number of energy samples = 1000\n",
      "mean = 0.510517954826355\n",
      "std = 0.249176487326622\n",
      "------------\n",
      "iter = 12\n"
     ]
    },
    {
     "name": "stderr",
     "output_type": "stream",
     "text": [
      "\r",
      " 81%|████████▏ | 13/16 [00:02<00:00,  4.44it/s]"
     ]
    },
    {
     "name": "stdout",
     "output_type": "stream",
     "text": [
      "number of energy samples = 1000\n",
      "mean = 0.4964717924594879\n",
      "std = 0.2502160668373108\n",
      "------------\n",
      "iter = 13\n"
     ]
    },
    {
     "name": "stderr",
     "output_type": "stream",
     "text": [
      "\r",
      " 88%|████████▊ | 14/16 [00:03<00:00,  4.44it/s]"
     ]
    },
    {
     "name": "stdout",
     "output_type": "stream",
     "text": [
      "number of energy samples = 1000\n",
      "mean = 0.5182898640632629\n",
      "std = 0.25742584466934204\n",
      "------------\n",
      "iter = 14\n"
     ]
    },
    {
     "name": "stderr",
     "output_type": "stream",
     "text": [
      "\r",
      " 94%|█████████▍| 15/16 [00:03<00:00,  4.44it/s]"
     ]
    },
    {
     "name": "stdout",
     "output_type": "stream",
     "text": [
      "number of energy samples = 1000\n",
      "mean = 0.5114896893501282\n",
      "std = 0.2578408420085907\n",
      "------------\n",
      "iter = 15\n"
     ]
    },
    {
     "name": "stderr",
     "output_type": "stream",
     "text": [
      "100%|██████████| 16/16 [00:03<00:00,  4.42it/s]"
     ]
    },
    {
     "name": "stdout",
     "output_type": "stream",
     "text": [
      "number of energy samples = 1000\n",
      "mean = 0.5223067998886108\n",
      "std = 0.2598976194858551\n",
      "------------\n"
     ]
    },
    {
     "name": "stderr",
     "output_type": "stream",
     "text": [
      "\n"
     ]
    }
   ],
   "source": [
    "z_transform = lambda x: x\n",
    "use_sigmoid = True\n",
    "mean_discr_val, std_discr_val = report_mean_discriminator(load_np, G, D, z_transform, \n",
    "                                                          num_bs, batchsize, device, \n",
    "                                                          use_sigmoid=use_sigmoid)"
   ]
  },
  {
   "cell_type": "code",
   "execution_count": 31,
   "id": "comparable-insider",
   "metadata": {},
   "outputs": [
    {
     "data": {
      "image/png": "[encoded data removed]",
      "text/plain": [
       "<Figure size 432x288 with 1 Axes>"
      ]
     },
     "metadata": {
      "needs_background": "light"
     },
     "output_type": "display_data"
    }
   ],
   "source": [
    "plt.plot([i*40 for i in range(len(mean_discr_val))], mean_discr_val, label = \"ULA\", color='r')\n",
    "plt.xlabel(\"MCMC iteration\")\n",
    "plt.ylabel(r\"$D(G(z))$\")\n",
    "plt.grid()\n",
    "plt.legend()\n",
    "plt.show()"
   ]
  },
  {
   "cell_type": "code",
   "execution_count": 11,
   "id": "comparable-husband",
   "metadata": {},
   "outputs": [
    {
     "name": "stderr",
     "output_type": "stream",
     "text": [
      "  0%|          | 0/601 [00:00<?, ?it/s]\n"
     ]
    },
    {
     "ename": "RuntimeError",
     "evalue": "CUDA out of memory. Tried to allocate 250.00 MiB (GPU 1; 10.76 GiB total capacity; 7.19 GiB already allocated; 50.75 MiB free; 7.30 GiB reserved in total by PyTorch)",
     "output_type": "error",
     "traceback": [
      "\u001b[0;31m---------------------------------------------------------------------------\u001b[0m",
      "\u001b[0;31mRuntimeError\u001b[0m                              Traceback (most recent call last)",
      "\u001b[0;32m<ipython-input-11-9163d99d4988>\u001b[0m in \u001b[0;36m<module>\u001b[0;34m\u001b[0m\n\u001b[1;32m      8\u001b[0m     \u001b[0mz_start\u001b[0m \u001b[0;34m=\u001b[0m \u001b[0mtorch\u001b[0m\u001b[0;34m.\u001b[0m\u001b[0mrandn\u001b[0m\u001b[0;34m(\u001b[0m\u001b[0mbatch_size\u001b[0m\u001b[0;34m,\u001b[0m \u001b[0mG\u001b[0m\u001b[0;34m.\u001b[0m\u001b[0mz_dim\u001b[0m\u001b[0;34m)\u001b[0m\u001b[0;34m.\u001b[0m\u001b[0mto\u001b[0m\u001b[0;34m(\u001b[0m\u001b[0mdevice\u001b[0m\u001b[0;34m)\u001b[0m\u001b[0;34m\u001b[0m\u001b[0;34m\u001b[0m\u001b[0m\n\u001b[1;32m      9\u001b[0m \u001b[0;34m\u001b[0m\u001b[0m\n\u001b[0;32m---> 10\u001b[0;31m     \u001b[0mz_sp\u001b[0m\u001b[0;34m,\u001b[0m \u001b[0mdiff_history\u001b[0m \u001b[0;34m=\u001b[0m \u001b[0msir_independent_dynamics_update\u001b[0m\u001b[0;34m(\u001b[0m\u001b[0mz_start\u001b[0m\u001b[0;34m,\u001b[0m \u001b[0mtarget_gan\u001b[0m\u001b[0;34m,\u001b[0m \u001b[0mproposal\u001b[0m\u001b[0;34m,\u001b[0m \u001b[0mn_steps\u001b[0m\u001b[0;34m,\u001b[0m \u001b[0mN\u001b[0m\u001b[0;34m)\u001b[0m\u001b[0;34m\u001b[0m\u001b[0;34m\u001b[0m\u001b[0m\n\u001b[0m\u001b[1;32m     11\u001b[0m     \u001b[0mdiff_vals\u001b[0m\u001b[0;34m.\u001b[0m\u001b[0mappend\u001b[0m\u001b[0;34m(\u001b[0m\u001b[0mdiff_history\u001b[0m\u001b[0;34m)\u001b[0m\u001b[0;34m\u001b[0m\u001b[0;34m\u001b[0m\u001b[0m\n",
      "\u001b[0;32m<ipython-input-9-afd297ccdcb0>\u001b[0m in \u001b[0;36msir_independent_dynamics_update\u001b[0;34m(z, target, proposal, n_steps, N)\u001b[0m\n\u001b[1;32m     16\u001b[0m         \u001b[0mX_view\u001b[0m \u001b[0;34m=\u001b[0m \u001b[0mX\u001b[0m\u001b[0;34m.\u001b[0m\u001b[0mview\u001b[0m\u001b[0;34m(\u001b[0m\u001b[0;34m-\u001b[0m\u001b[0;36m1\u001b[0m\u001b[0;34m,\u001b[0m \u001b[0mz_dim\u001b[0m\u001b[0;34m)\u001b[0m\u001b[0;34m\u001b[0m\u001b[0;34m\u001b[0m\u001b[0m\n\u001b[1;32m     17\u001b[0m \u001b[0;34m\u001b[0m\u001b[0m\n\u001b[0;32m---> 18\u001b[0;31m         \u001b[0mlog_weight\u001b[0m \u001b[0;34m=\u001b[0m \u001b[0mcompute_sir_log_weights\u001b[0m\u001b[0;34m(\u001b[0m\u001b[0mX_view\u001b[0m\u001b[0;34m,\u001b[0m \u001b[0mtarget\u001b[0m\u001b[0;34m,\u001b[0m \u001b[0mproposal\u001b[0m\u001b[0;34m)\u001b[0m\u001b[0;34m\u001b[0m\u001b[0;34m\u001b[0m\u001b[0m\n\u001b[0m\u001b[1;32m     19\u001b[0m         \u001b[0mlog_weight\u001b[0m \u001b[0;34m=\u001b[0m \u001b[0mlog_weight\u001b[0m\u001b[0;34m.\u001b[0m\u001b[0mview\u001b[0m\u001b[0;34m(\u001b[0m\u001b[0mbatch_size\u001b[0m\u001b[0;34m,\u001b[0m \u001b[0mN\u001b[0m\u001b[0;34m)\u001b[0m\u001b[0;34m\u001b[0m\u001b[0;34m\u001b[0m\u001b[0m\n\u001b[1;32m     20\u001b[0m \u001b[0;34m\u001b[0m\u001b[0m\n",
      "\u001b[0;32m<ipython-input-9-afd297ccdcb0>\u001b[0m in \u001b[0;36mcompute_sir_log_weights\u001b[0;34m(x, target, proposal)\u001b[0m\n\u001b[1;32m      1\u001b[0m \u001b[0;32mdef\u001b[0m \u001b[0mcompute_sir_log_weights\u001b[0m\u001b[0;34m(\u001b[0m\u001b[0mx\u001b[0m\u001b[0;34m,\u001b[0m \u001b[0mtarget\u001b[0m\u001b[0;34m,\u001b[0m \u001b[0mproposal\u001b[0m\u001b[0;34m)\u001b[0m\u001b[0;34m:\u001b[0m\u001b[0;34m\u001b[0m\u001b[0;34m\u001b[0m\u001b[0m\n\u001b[0;32m----> 2\u001b[0;31m     \u001b[0;32mreturn\u001b[0m \u001b[0mtarget\u001b[0m\u001b[0;34m(\u001b[0m\u001b[0mx\u001b[0m\u001b[0;34m)\u001b[0m \u001b[0;34m-\u001b[0m \u001b[0mproposal\u001b[0m\u001b[0;34m.\u001b[0m\u001b[0mlog_prob\u001b[0m\u001b[0;34m(\u001b[0m\u001b[0mx\u001b[0m\u001b[0;34m)\u001b[0m\u001b[0;34m\u001b[0m\u001b[0;34m\u001b[0m\u001b[0m\n\u001b[0m\u001b[1;32m      3\u001b[0m \u001b[0;34m\u001b[0m\u001b[0m\n\u001b[1;32m      4\u001b[0m \u001b[0;32mdef\u001b[0m \u001b[0msir_independent_dynamics_update\u001b[0m\u001b[0;34m(\u001b[0m\u001b[0mz\u001b[0m\u001b[0;34m,\u001b[0m \u001b[0mtarget\u001b[0m\u001b[0;34m,\u001b[0m \u001b[0mproposal\u001b[0m\u001b[0;34m,\u001b[0m \u001b[0mn_steps\u001b[0m\u001b[0;34m,\u001b[0m \u001b[0mN\u001b[0m\u001b[0;34m)\u001b[0m\u001b[0;34m:\u001b[0m\u001b[0;34m\u001b[0m\u001b[0;34m\u001b[0m\u001b[0m\n\u001b[1;32m      5\u001b[0m     \u001b[0mz_sp\u001b[0m \u001b[0;34m=\u001b[0m \u001b[0;34m[\u001b[0m\u001b[0;34m]\u001b[0m\u001b[0;34m\u001b[0m\u001b[0;34m\u001b[0m\u001b[0m\n",
      "\u001b[0;32m~/pycharm_dir/gans_sampling/notebooks/../tools/sampling_utils/ebm_sampling.py\u001b[0m in \u001b[0;36mgan_energy\u001b[0;34m(z, generator, discriminator, proposal, normalize_to_0_1, log_prob, z_transform)\u001b[0m\n\u001b[1;32m     24\u001b[0m                proposal, normalize_to_0_1, log_prob=False, z_transform=None):\n\u001b[1;32m     25\u001b[0m     \u001b[0;32mif\u001b[0m \u001b[0mz_transform\u001b[0m \u001b[0;32mis\u001b[0m \u001b[0;32mNone\u001b[0m\u001b[0;34m:\u001b[0m\u001b[0;34m\u001b[0m\u001b[0;34m\u001b[0m\u001b[0m\n\u001b[0;32m---> 26\u001b[0;31m         \u001b[0mgenerator_points\u001b[0m \u001b[0;34m=\u001b[0m \u001b[0mgenerator\u001b[0m\u001b[0;34m(\u001b[0m\u001b[0mz\u001b[0m\u001b[0;34m)\u001b[0m\u001b[0;34m\u001b[0m\u001b[0;34m\u001b[0m\u001b[0m\n\u001b[0m\u001b[1;32m     27\u001b[0m     \u001b[0;32melse\u001b[0m\u001b[0;34m:\u001b[0m\u001b[0;34m\u001b[0m\u001b[0;34m\u001b[0m\u001b[0m\n\u001b[1;32m     28\u001b[0m         \u001b[0mgenerator_points\u001b[0m \u001b[0;34m=\u001b[0m \u001b[0mgenerator\u001b[0m\u001b[0;34m(\u001b[0m\u001b[0mz_transform\u001b[0m\u001b[0;34m(\u001b[0m\u001b[0mz\u001b[0m\u001b[0;34m)\u001b[0m\u001b[0;34m)\u001b[0m\u001b[0;34m\u001b[0m\u001b[0;34m\u001b[0m\u001b[0m\n",
      "\u001b[0;32m~/anaconda3/envs/myenv/lib/python3.8/site-packages/torch/nn/modules/module.py\u001b[0m in \u001b[0;36m_call_impl\u001b[0;34m(self, *input, **kwargs)\u001b[0m\n\u001b[1;32m    887\u001b[0m             \u001b[0mresult\u001b[0m \u001b[0;34m=\u001b[0m \u001b[0mself\u001b[0m\u001b[0;34m.\u001b[0m\u001b[0m_slow_forward\u001b[0m\u001b[0;34m(\u001b[0m\u001b[0;34m*\u001b[0m\u001b[0minput\u001b[0m\u001b[0;34m,\u001b[0m \u001b[0;34m**\u001b[0m\u001b[0mkwargs\u001b[0m\u001b[0;34m)\u001b[0m\u001b[0;34m\u001b[0m\u001b[0;34m\u001b[0m\u001b[0m\n\u001b[1;32m    888\u001b[0m         \u001b[0;32melse\u001b[0m\u001b[0;34m:\u001b[0m\u001b[0;34m\u001b[0m\u001b[0;34m\u001b[0m\u001b[0m\n\u001b[0;32m--> 889\u001b[0;31m             \u001b[0mresult\u001b[0m \u001b[0;34m=\u001b[0m \u001b[0mself\u001b[0m\u001b[0;34m.\u001b[0m\u001b[0mforward\u001b[0m\u001b[0;34m(\u001b[0m\u001b[0;34m*\u001b[0m\u001b[0minput\u001b[0m\u001b[0;34m,\u001b[0m \u001b[0;34m**\u001b[0m\u001b[0mkwargs\u001b[0m\u001b[0;34m)\u001b[0m\u001b[0;34m\u001b[0m\u001b[0;34m\u001b[0m\u001b[0m\n\u001b[0m\u001b[1;32m    890\u001b[0m         for hook in itertools.chain(\n\u001b[1;32m    891\u001b[0m                 \u001b[0m_global_forward_hooks\u001b[0m\u001b[0;34m.\u001b[0m\u001b[0mvalues\u001b[0m\u001b[0;34m(\u001b[0m\u001b[0;34m)\u001b[0m\u001b[0;34m,\u001b[0m\u001b[0;34m\u001b[0m\u001b[0;34m\u001b[0m\u001b[0m\n",
      "\u001b[0;32m~/pycharm_dir/gans_sampling/notebooks/../tools/sngan_cifar10_utils/source/models/sngan.py\u001b[0m in \u001b[0;36mforward\u001b[0;34m(self, z)\u001b[0m\n\u001b[1;32m    141\u001b[0m         \u001b[0minputs\u001b[0m \u001b[0;34m=\u001b[0m \u001b[0mself\u001b[0m\u001b[0;34m.\u001b[0m\u001b[0mlinear\u001b[0m\u001b[0;34m(\u001b[0m\u001b[0mz\u001b[0m\u001b[0;34m)\u001b[0m\u001b[0;34m\u001b[0m\u001b[0;34m\u001b[0m\u001b[0m\n\u001b[1;32m    142\u001b[0m         \u001b[0minputs\u001b[0m \u001b[0;34m=\u001b[0m \u001b[0minputs\u001b[0m\u001b[0;34m.\u001b[0m\u001b[0mview\u001b[0m\u001b[0;34m(\u001b[0m\u001b[0;34m-\u001b[0m\u001b[0;36m1\u001b[0m\u001b[0;34m,\u001b[0m \u001b[0;36m256\u001b[0m\u001b[0;34m,\u001b[0m \u001b[0;36m4\u001b[0m\u001b[0;34m,\u001b[0m \u001b[0;36m4\u001b[0m\u001b[0;34m)\u001b[0m\u001b[0;34m\u001b[0m\u001b[0;34m\u001b[0m\u001b[0m\n\u001b[0;32m--> 143\u001b[0;31m         \u001b[0;32mreturn\u001b[0m \u001b[0mself\u001b[0m\u001b[0;34m.\u001b[0m\u001b[0mblocks\u001b[0m\u001b[0;34m(\u001b[0m\u001b[0minputs\u001b[0m\u001b[0;34m)\u001b[0m\u001b[0;34m\u001b[0m\u001b[0;34m\u001b[0m\u001b[0m\n\u001b[0m\u001b[1;32m    144\u001b[0m \u001b[0;34m\u001b[0m\u001b[0m\n\u001b[1;32m    145\u001b[0m \u001b[0;34m\u001b[0m\u001b[0m\n",
      "\u001b[0;32m~/anaconda3/envs/myenv/lib/python3.8/site-packages/torch/nn/modules/module.py\u001b[0m in \u001b[0;36m_call_impl\u001b[0;34m(self, *input, **kwargs)\u001b[0m\n\u001b[1;32m    887\u001b[0m             \u001b[0mresult\u001b[0m \u001b[0;34m=\u001b[0m \u001b[0mself\u001b[0m\u001b[0;34m.\u001b[0m\u001b[0m_slow_forward\u001b[0m\u001b[0;34m(\u001b[0m\u001b[0;34m*\u001b[0m\u001b[0minput\u001b[0m\u001b[0;34m,\u001b[0m \u001b[0;34m**\u001b[0m\u001b[0mkwargs\u001b[0m\u001b[0;34m)\u001b[0m\u001b[0;34m\u001b[0m\u001b[0;34m\u001b[0m\u001b[0m\n\u001b[1;32m    888\u001b[0m         \u001b[0;32melse\u001b[0m\u001b[0;34m:\u001b[0m\u001b[0;34m\u001b[0m\u001b[0;34m\u001b[0m\u001b[0m\n\u001b[0;32m--> 889\u001b[0;31m             \u001b[0mresult\u001b[0m \u001b[0;34m=\u001b[0m \u001b[0mself\u001b[0m\u001b[0;34m.\u001b[0m\u001b[0mforward\u001b[0m\u001b[0;34m(\u001b[0m\u001b[0;34m*\u001b[0m\u001b[0minput\u001b[0m\u001b[0;34m,\u001b[0m \u001b[0;34m**\u001b[0m\u001b[0mkwargs\u001b[0m\u001b[0;34m)\u001b[0m\u001b[0;34m\u001b[0m\u001b[0;34m\u001b[0m\u001b[0m\n\u001b[0m\u001b[1;32m    890\u001b[0m         for hook in itertools.chain(\n\u001b[1;32m    891\u001b[0m                 \u001b[0m_global_forward_hooks\u001b[0m\u001b[0;34m.\u001b[0m\u001b[0mvalues\u001b[0m\u001b[0;34m(\u001b[0m\u001b[0;34m)\u001b[0m\u001b[0;34m,\u001b[0m\u001b[0;34m\u001b[0m\u001b[0;34m\u001b[0m\u001b[0m\n",
      "\u001b[0;32m~/anaconda3/envs/myenv/lib/python3.8/site-packages/torch/nn/modules/container.py\u001b[0m in \u001b[0;36mforward\u001b[0;34m(self, input)\u001b[0m\n\u001b[1;32m    117\u001b[0m     \u001b[0;32mdef\u001b[0m \u001b[0mforward\u001b[0m\u001b[0;34m(\u001b[0m\u001b[0mself\u001b[0m\u001b[0;34m,\u001b[0m \u001b[0minput\u001b[0m\u001b[0;34m)\u001b[0m\u001b[0;34m:\u001b[0m\u001b[0;34m\u001b[0m\u001b[0;34m\u001b[0m\u001b[0m\n\u001b[1;32m    118\u001b[0m         \u001b[0;32mfor\u001b[0m \u001b[0mmodule\u001b[0m \u001b[0;32min\u001b[0m \u001b[0mself\u001b[0m\u001b[0;34m:\u001b[0m\u001b[0;34m\u001b[0m\u001b[0;34m\u001b[0m\u001b[0m\n\u001b[0;32m--> 119\u001b[0;31m             \u001b[0minput\u001b[0m \u001b[0;34m=\u001b[0m \u001b[0mmodule\u001b[0m\u001b[0;34m(\u001b[0m\u001b[0minput\u001b[0m\u001b[0;34m)\u001b[0m\u001b[0;34m\u001b[0m\u001b[0;34m\u001b[0m\u001b[0m\n\u001b[0m\u001b[1;32m    120\u001b[0m         \u001b[0;32mreturn\u001b[0m \u001b[0minput\u001b[0m\u001b[0;34m\u001b[0m\u001b[0;34m\u001b[0m\u001b[0m\n\u001b[1;32m    121\u001b[0m \u001b[0;34m\u001b[0m\u001b[0m\n",
      "\u001b[0;32m~/anaconda3/envs/myenv/lib/python3.8/site-packages/torch/nn/modules/module.py\u001b[0m in \u001b[0;36m_call_impl\u001b[0;34m(self, *input, **kwargs)\u001b[0m\n\u001b[1;32m    887\u001b[0m             \u001b[0mresult\u001b[0m \u001b[0;34m=\u001b[0m \u001b[0mself\u001b[0m\u001b[0;34m.\u001b[0m\u001b[0m_slow_forward\u001b[0m\u001b[0;34m(\u001b[0m\u001b[0;34m*\u001b[0m\u001b[0minput\u001b[0m\u001b[0;34m,\u001b[0m \u001b[0;34m**\u001b[0m\u001b[0mkwargs\u001b[0m\u001b[0;34m)\u001b[0m\u001b[0;34m\u001b[0m\u001b[0;34m\u001b[0m\u001b[0m\n\u001b[1;32m    888\u001b[0m         \u001b[0;32melse\u001b[0m\u001b[0;34m:\u001b[0m\u001b[0;34m\u001b[0m\u001b[0;34m\u001b[0m\u001b[0m\n\u001b[0;32m--> 889\u001b[0;31m             \u001b[0mresult\u001b[0m \u001b[0;34m=\u001b[0m \u001b[0mself\u001b[0m\u001b[0;34m.\u001b[0m\u001b[0mforward\u001b[0m\u001b[0;34m(\u001b[0m\u001b[0;34m*\u001b[0m\u001b[0minput\u001b[0m\u001b[0;34m,\u001b[0m \u001b[0;34m**\u001b[0m\u001b[0mkwargs\u001b[0m\u001b[0;34m)\u001b[0m\u001b[0;34m\u001b[0m\u001b[0;34m\u001b[0m\u001b[0m\n\u001b[0m\u001b[1;32m    890\u001b[0m         for hook in itertools.chain(\n\u001b[1;32m    891\u001b[0m                 \u001b[0m_global_forward_hooks\u001b[0m\u001b[0;34m.\u001b[0m\u001b[0mvalues\u001b[0m\u001b[0;34m(\u001b[0m\u001b[0;34m)\u001b[0m\u001b[0;34m,\u001b[0m\u001b[0;34m\u001b[0m\u001b[0;34m\u001b[0m\u001b[0m\n",
      "\u001b[0;32m~/pycharm_dir/gans_sampling/notebooks/../tools/sngan_cifar10_utils/source/models/sngan.py\u001b[0m in \u001b[0;36mforward\u001b[0;34m(self, x)\u001b[0m\n\u001b[1;32m    118\u001b[0m \u001b[0;34m\u001b[0m\u001b[0m\n\u001b[1;32m    119\u001b[0m     \u001b[0;32mdef\u001b[0m \u001b[0mforward\u001b[0m\u001b[0;34m(\u001b[0m\u001b[0mself\u001b[0m\u001b[0;34m,\u001b[0m \u001b[0mx\u001b[0m\u001b[0;34m)\u001b[0m\u001b[0;34m:\u001b[0m\u001b[0;34m\u001b[0m\u001b[0;34m\u001b[0m\u001b[0m\n\u001b[0;32m--> 120\u001b[0;31m         \u001b[0;32mreturn\u001b[0m \u001b[0mself\u001b[0m\u001b[0;34m.\u001b[0m\u001b[0mresidual\u001b[0m\u001b[0;34m(\u001b[0m\u001b[0mx\u001b[0m\u001b[0;34m)\u001b[0m \u001b[0;34m+\u001b[0m \u001b[0mself\u001b[0m\u001b[0;34m.\u001b[0m\u001b[0mshortcut\u001b[0m\u001b[0;34m(\u001b[0m\u001b[0mx\u001b[0m\u001b[0;34m)\u001b[0m\u001b[0;34m\u001b[0m\u001b[0;34m\u001b[0m\u001b[0m\n\u001b[0m\u001b[1;32m    121\u001b[0m \u001b[0;34m\u001b[0m\u001b[0m\n\u001b[1;32m    122\u001b[0m \u001b[0;34m\u001b[0m\u001b[0m\n",
      "\u001b[0;32m~/anaconda3/envs/myenv/lib/python3.8/site-packages/torch/nn/modules/module.py\u001b[0m in \u001b[0;36m_call_impl\u001b[0;34m(self, *input, **kwargs)\u001b[0m\n\u001b[1;32m    887\u001b[0m             \u001b[0mresult\u001b[0m \u001b[0;34m=\u001b[0m \u001b[0mself\u001b[0m\u001b[0;34m.\u001b[0m\u001b[0m_slow_forward\u001b[0m\u001b[0;34m(\u001b[0m\u001b[0;34m*\u001b[0m\u001b[0minput\u001b[0m\u001b[0;34m,\u001b[0m \u001b[0;34m**\u001b[0m\u001b[0mkwargs\u001b[0m\u001b[0;34m)\u001b[0m\u001b[0;34m\u001b[0m\u001b[0;34m\u001b[0m\u001b[0m\n\u001b[1;32m    888\u001b[0m         \u001b[0;32melse\u001b[0m\u001b[0;34m:\u001b[0m\u001b[0;34m\u001b[0m\u001b[0;34m\u001b[0m\u001b[0m\n\u001b[0;32m--> 889\u001b[0;31m             \u001b[0mresult\u001b[0m \u001b[0;34m=\u001b[0m \u001b[0mself\u001b[0m\u001b[0;34m.\u001b[0m\u001b[0mforward\u001b[0m\u001b[0;34m(\u001b[0m\u001b[0;34m*\u001b[0m\u001b[0minput\u001b[0m\u001b[0;34m,\u001b[0m \u001b[0;34m**\u001b[0m\u001b[0mkwargs\u001b[0m\u001b[0;34m)\u001b[0m\u001b[0;34m\u001b[0m\u001b[0;34m\u001b[0m\u001b[0m\n\u001b[0m\u001b[1;32m    890\u001b[0m         for hook in itertools.chain(\n\u001b[1;32m    891\u001b[0m                 \u001b[0m_global_forward_hooks\u001b[0m\u001b[0;34m.\u001b[0m\u001b[0mvalues\u001b[0m\u001b[0;34m(\u001b[0m\u001b[0;34m)\u001b[0m\u001b[0;34m,\u001b[0m\u001b[0;34m\u001b[0m\u001b[0;34m\u001b[0m\u001b[0m\n",
      "\u001b[0;32m~/anaconda3/envs/myenv/lib/python3.8/site-packages/torch/nn/modules/container.py\u001b[0m in \u001b[0;36mforward\u001b[0;34m(self, input)\u001b[0m\n\u001b[1;32m    117\u001b[0m     \u001b[0;32mdef\u001b[0m \u001b[0mforward\u001b[0m\u001b[0;34m(\u001b[0m\u001b[0mself\u001b[0m\u001b[0;34m,\u001b[0m \u001b[0minput\u001b[0m\u001b[0;34m)\u001b[0m\u001b[0;34m:\u001b[0m\u001b[0;34m\u001b[0m\u001b[0;34m\u001b[0m\u001b[0m\n\u001b[1;32m    118\u001b[0m         \u001b[0;32mfor\u001b[0m \u001b[0mmodule\u001b[0m \u001b[0;32min\u001b[0m \u001b[0mself\u001b[0m\u001b[0;34m:\u001b[0m\u001b[0;34m\u001b[0m\u001b[0;34m\u001b[0m\u001b[0m\n\u001b[0;32m--> 119\u001b[0;31m             \u001b[0minput\u001b[0m \u001b[0;34m=\u001b[0m \u001b[0mmodule\u001b[0m\u001b[0;34m(\u001b[0m\u001b[0minput\u001b[0m\u001b[0;34m)\u001b[0m\u001b[0;34m\u001b[0m\u001b[0;34m\u001b[0m\u001b[0m\n\u001b[0m\u001b[1;32m    120\u001b[0m         \u001b[0;32mreturn\u001b[0m \u001b[0minput\u001b[0m\u001b[0;34m\u001b[0m\u001b[0;34m\u001b[0m\u001b[0m\n\u001b[1;32m    121\u001b[0m \u001b[0;34m\u001b[0m\u001b[0m\n",
      "\u001b[0;32m~/anaconda3/envs/myenv/lib/python3.8/site-packages/torch/nn/modules/module.py\u001b[0m in \u001b[0;36m_call_impl\u001b[0;34m(self, *input, **kwargs)\u001b[0m\n\u001b[1;32m    887\u001b[0m             \u001b[0mresult\u001b[0m \u001b[0;34m=\u001b[0m \u001b[0mself\u001b[0m\u001b[0;34m.\u001b[0m\u001b[0m_slow_forward\u001b[0m\u001b[0;34m(\u001b[0m\u001b[0;34m*\u001b[0m\u001b[0minput\u001b[0m\u001b[0;34m,\u001b[0m \u001b[0;34m**\u001b[0m\u001b[0mkwargs\u001b[0m\u001b[0;34m)\u001b[0m\u001b[0;34m\u001b[0m\u001b[0;34m\u001b[0m\u001b[0m\n\u001b[1;32m    888\u001b[0m         \u001b[0;32melse\u001b[0m\u001b[0;34m:\u001b[0m\u001b[0;34m\u001b[0m\u001b[0;34m\u001b[0m\u001b[0m\n\u001b[0;32m--> 889\u001b[0;31m             \u001b[0mresult\u001b[0m \u001b[0;34m=\u001b[0m \u001b[0mself\u001b[0m\u001b[0;34m.\u001b[0m\u001b[0mforward\u001b[0m\u001b[0;34m(\u001b[0m\u001b[0;34m*\u001b[0m\u001b[0minput\u001b[0m\u001b[0;34m,\u001b[0m \u001b[0;34m**\u001b[0m\u001b[0mkwargs\u001b[0m\u001b[0;34m)\u001b[0m\u001b[0;34m\u001b[0m\u001b[0;34m\u001b[0m\u001b[0m\n\u001b[0m\u001b[1;32m    890\u001b[0m         for hook in itertools.chain(\n\u001b[1;32m    891\u001b[0m                 \u001b[0m_global_forward_hooks\u001b[0m\u001b[0;34m.\u001b[0m\u001b[0mvalues\u001b[0m\u001b[0;34m(\u001b[0m\u001b[0;34m)\u001b[0m\u001b[0;34m,\u001b[0m\u001b[0;34m\u001b[0m\u001b[0;34m\u001b[0m\u001b[0m\n",
      "\u001b[0;32m~/anaconda3/envs/myenv/lib/python3.8/site-packages/torch/nn/modules/upsampling.py\u001b[0m in \u001b[0;36mforward\u001b[0;34m(self, input)\u001b[0m\n\u001b[1;32m    139\u001b[0m \u001b[0;34m\u001b[0m\u001b[0m\n\u001b[1;32m    140\u001b[0m     \u001b[0;32mdef\u001b[0m \u001b[0mforward\u001b[0m\u001b[0;34m(\u001b[0m\u001b[0mself\u001b[0m\u001b[0;34m,\u001b[0m \u001b[0minput\u001b[0m\u001b[0;34m:\u001b[0m \u001b[0mTensor\u001b[0m\u001b[0;34m)\u001b[0m \u001b[0;34m->\u001b[0m \u001b[0mTensor\u001b[0m\u001b[0;34m:\u001b[0m\u001b[0;34m\u001b[0m\u001b[0;34m\u001b[0m\u001b[0m\n\u001b[0;32m--> 141\u001b[0;31m         \u001b[0;32mreturn\u001b[0m \u001b[0mF\u001b[0m\u001b[0;34m.\u001b[0m\u001b[0minterpolate\u001b[0m\u001b[0;34m(\u001b[0m\u001b[0minput\u001b[0m\u001b[0;34m,\u001b[0m \u001b[0mself\u001b[0m\u001b[0;34m.\u001b[0m\u001b[0msize\u001b[0m\u001b[0;34m,\u001b[0m \u001b[0mself\u001b[0m\u001b[0;34m.\u001b[0m\u001b[0mscale_factor\u001b[0m\u001b[0;34m,\u001b[0m \u001b[0mself\u001b[0m\u001b[0;34m.\u001b[0m\u001b[0mmode\u001b[0m\u001b[0;34m,\u001b[0m \u001b[0mself\u001b[0m\u001b[0;34m.\u001b[0m\u001b[0malign_corners\u001b[0m\u001b[0;34m)\u001b[0m\u001b[0;34m\u001b[0m\u001b[0;34m\u001b[0m\u001b[0m\n\u001b[0m\u001b[1;32m    142\u001b[0m \u001b[0;34m\u001b[0m\u001b[0m\n\u001b[1;32m    143\u001b[0m     \u001b[0;32mdef\u001b[0m \u001b[0mextra_repr\u001b[0m\u001b[0;34m(\u001b[0m\u001b[0mself\u001b[0m\u001b[0;34m)\u001b[0m \u001b[0;34m->\u001b[0m \u001b[0mstr\u001b[0m\u001b[0;34m:\u001b[0m\u001b[0;34m\u001b[0m\u001b[0;34m\u001b[0m\u001b[0m\n",
      "\u001b[0;32m~/anaconda3/envs/myenv/lib/python3.8/site-packages/torch/nn/functional.py\u001b[0m in \u001b[0;36minterpolate\u001b[0;34m(input, size, scale_factor, mode, align_corners, recompute_scale_factor)\u001b[0m\n\u001b[1;32m   3533\u001b[0m         \u001b[0;32mreturn\u001b[0m \u001b[0mtorch\u001b[0m\u001b[0;34m.\u001b[0m\u001b[0m_C\u001b[0m\u001b[0;34m.\u001b[0m\u001b[0m_nn\u001b[0m\u001b[0;34m.\u001b[0m\u001b[0mupsample_nearest1d\u001b[0m\u001b[0;34m(\u001b[0m\u001b[0minput\u001b[0m\u001b[0;34m,\u001b[0m \u001b[0moutput_size\u001b[0m\u001b[0;34m,\u001b[0m \u001b[0mscale_factors\u001b[0m\u001b[0;34m)\u001b[0m\u001b[0;34m\u001b[0m\u001b[0;34m\u001b[0m\u001b[0m\n\u001b[1;32m   3534\u001b[0m     \u001b[0;32mif\u001b[0m \u001b[0minput\u001b[0m\u001b[0;34m.\u001b[0m\u001b[0mdim\u001b[0m\u001b[0;34m(\u001b[0m\u001b[0;34m)\u001b[0m \u001b[0;34m==\u001b[0m \u001b[0;36m4\u001b[0m \u001b[0;32mand\u001b[0m \u001b[0mmode\u001b[0m \u001b[0;34m==\u001b[0m \u001b[0;34m\"nearest\"\u001b[0m\u001b[0;34m:\u001b[0m\u001b[0;34m\u001b[0m\u001b[0;34m\u001b[0m\u001b[0m\n\u001b[0;32m-> 3535\u001b[0;31m         \u001b[0;32mreturn\u001b[0m \u001b[0mtorch\u001b[0m\u001b[0;34m.\u001b[0m\u001b[0m_C\u001b[0m\u001b[0;34m.\u001b[0m\u001b[0m_nn\u001b[0m\u001b[0;34m.\u001b[0m\u001b[0mupsample_nearest2d\u001b[0m\u001b[0;34m(\u001b[0m\u001b[0minput\u001b[0m\u001b[0;34m,\u001b[0m \u001b[0moutput_size\u001b[0m\u001b[0;34m,\u001b[0m \u001b[0mscale_factors\u001b[0m\u001b[0;34m)\u001b[0m\u001b[0;34m\u001b[0m\u001b[0;34m\u001b[0m\u001b[0m\n\u001b[0m\u001b[1;32m   3536\u001b[0m     \u001b[0;32mif\u001b[0m \u001b[0minput\u001b[0m\u001b[0;34m.\u001b[0m\u001b[0mdim\u001b[0m\u001b[0;34m(\u001b[0m\u001b[0;34m)\u001b[0m \u001b[0;34m==\u001b[0m \u001b[0;36m5\u001b[0m \u001b[0;32mand\u001b[0m \u001b[0mmode\u001b[0m \u001b[0;34m==\u001b[0m \u001b[0;34m\"nearest\"\u001b[0m\u001b[0;34m:\u001b[0m\u001b[0;34m\u001b[0m\u001b[0;34m\u001b[0m\u001b[0m\n\u001b[1;32m   3537\u001b[0m         \u001b[0;32mreturn\u001b[0m \u001b[0mtorch\u001b[0m\u001b[0;34m.\u001b[0m\u001b[0m_C\u001b[0m\u001b[0;34m.\u001b[0m\u001b[0m_nn\u001b[0m\u001b[0;34m.\u001b[0m\u001b[0mupsample_nearest3d\u001b[0m\u001b[0;34m(\u001b[0m\u001b[0minput\u001b[0m\u001b[0;34m,\u001b[0m \u001b[0moutput_size\u001b[0m\u001b[0;34m,\u001b[0m \u001b[0mscale_factors\u001b[0m\u001b[0;34m)\u001b[0m\u001b[0;34m\u001b[0m\u001b[0;34m\u001b[0m\u001b[0m\n",
      "\u001b[0;31mRuntimeError\u001b[0m: CUDA out of memory. Tried to allocate 250.00 MiB (GPU 1; 10.76 GiB total capacity; 7.19 GiB already allocated; 50.75 MiB free; 7.30 GiB reserved in total by PyTorch)"
     ]
    }
   ],
   "source": [
    "N = 5\n",
    "n_steps = 601\n",
    "batch_size = 50\n",
    "\n",
    "diff_vals = []\n",
    "\n",
    "for i in range(5):\n",
    "    z_start = torch.randn(batch_size, G.z_dim).to(device)\n",
    "\n",
    "    z_sp, diff_history = sir_independent_dynamics_update(z_start, target_gan, proposal, n_steps, N)\n",
    "    diff_vals.append(diff_history)"
   ]
  },
  {
   "cell_type": "code",
   "execution_count": 17,
   "id": "generous-enemy",
   "metadata": {},
   "outputs": [
    {
     "data": {
      "image/png": "[encoded data removed]",
      "text/plain": [
       "<Figure size 432x288 with 1 Axes>"
      ]
     },
     "metadata": {
      "needs_background": "light"
     },
     "output_type": "display_data"
    }
   ],
   "source": [
    "plt.plot([i for i in range(len(diff_history))], diff_history)\n",
    "plt.show()"
   ]
  },
  {
   "cell_type": "code",
   "execution_count": null,
   "id": "whole-prior",
   "metadata": {},
   "outputs": [],
   "source": []
  }
 ],
 "metadata": {
  "kernelspec": {
   "display_name": "Python 3",
   "language": "python",
   "name": "python3"
  },
  "language_info": {
   "codemirror_mode": {
    "name": "ipython",
    "version": 3
   },
   "file_extension": ".py",
   "mimetype": "text/x-python",
   "name": "python",
   "nbconvert_exporter": "python",
   "pygments_lexer": "ipython3",
   "version": "3.8.5"
  }
 },
 "nbformat": 4,
 "nbformat_minor": 5
}
