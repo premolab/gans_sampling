{
 "metadata": {
  "orig_nbformat": 2,
  "kernelspec": {
   "name": "python38564bit18d4156a4e95478ca9c2dd8e10bb0544",
   "display_name": "Python 3.8.5 64-bit"
  },
  "metadata": {
   "interpreter": {
    "hash": "916dbcbb3f70747c44a77c7bcd40155683ae19c65e1c03b4aa3499c5328201f1"
   }
  }
 },
 "nbformat": 4,
 "nbformat_minor": 2,
 "cells": [
  {
   "cell_type": "code",
   "execution_count": 1,
   "metadata": {},
   "outputs": [],
   "source": [
    "%load_ext autoreload\n",
    "%autoreload 2"
   ]
  },
  {
   "cell_type": "code",
   "execution_count": 2,
   "metadata": {},
   "outputs": [],
   "source": [
    "import sys\n",
    "\n",
    "sys.path.append('../tools/sampling_utils')\n",
    "\n",
    "from easydict import EasyDict as edict\n",
    "import torch\n",
    "import numpy as np\n",
    "from torch.distributions import (MultivariateNormal, \n",
    "                                 Normal, \n",
    "                                 Independent, \n",
    "                                 Uniform)"
   ]
  },
  {
   "cell_type": "code",
   "execution_count": 3,
   "metadata": {},
   "outputs": [],
   "source": [
    "from ebm_sampling import mala_dynamics\n",
    "from sir_ais_sampling import sir_independent_dynamics\n",
    "from adaptive_mc import adaptive_sir_correlated_dynamics, ex2_mcmc_mala\n",
    "from distributions import (Target, \n",
    "                           Gaussian_mixture, \n",
    "                           IndependentNormal,\n",
    "                           init_independent_normal,\n",
    "                           init_independent_normal_scale)\n",
    "from metrics import Evolution"
   ]
  },
  {
   "cell_type": "code",
   "execution_count": 4,
   "metadata": {},
   "outputs": [],
   "source": [
    "device = torch.device('cuda:0' if torch.cuda.is_available() else 'cpu')"
   ]
  },
  {
   "cell_type": "code",
   "execution_count": 5,
   "metadata": {},
   "outputs": [],
   "source": [
    "def random_seed(seed):\n",
    "    torch.manual_seed(seed)\n",
    "    torch.cuda.manual_seed(seed)\n",
    "    np.random.seed(seed)\n",
    "    random.seed(seed)"
   ]
  },
  {
   "cell_type": "code",
   "execution_count": 6,
   "metadata": {},
   "outputs": [],
   "source": [
    "def define_target(loc_1_target = -3, loc_2_target = 3, scale_target = 1, dim=100, device='cpu'):\n",
    "    target_args = edict()\n",
    "    target_args.device = device\n",
    "    target_args.num_gauss = 2\n",
    "\n",
    "    coef_gaussian = 1. / target_args.num_gauss\n",
    "    target_args.p_gaussians = [torch.tensor(coef_gaussian)]*target_args.num_gauss\n",
    "    locs = [loc_1_target*torch.ones(dim, dtype = torch.float64).to(device),\n",
    "        loc_2_target*torch.ones(dim, dtype = torch.float64).to(device)]\n",
    "    locs_numpy = torch.stack(locs, axis = 0).cpu().numpy()\n",
    "    target_args.locs = locs\n",
    "    target_args.covs = [(scale_target**2)*torch.eye(dim, \n",
    "                                                    dtype = torch.float64).to(device)]*target_args.num_gauss\n",
    "    target_args.dim = dim\n",
    "    target = Gaussian_mixture(target_args)\n",
    "    return target"
   ]
  },
  {
   "cell_type": "code",
   "execution_count": 17,
   "metadata": {},
   "outputs": [],
   "source": [
    "def compute_metrics(sample, target, trunc_chain_len=None):\n",
    "    if trunc_chain_len is not None:\n",
    "        trunc_sample = sample[(-trunc_chain_len - 1):-1]\n",
    "    else:\n",
    "        trunc_sample = sample\n",
    "    if isinstance(sample, list):\n",
    "        sample = torch.stack(sample, axis = 0).cpu().numpy()\n",
    "        trunc_sample = torch.stack(trunc_sample, axis = 0).cpu()\n",
    "    chain_len, batch_size, dim = sample.shape\n",
    "        \n",
    "    locs = target.locs\n",
    "    evolution = Evolution(None, locs=torch.stack(locs, 0).cpu(), sigma=target.covs[0][0, 0])  \n",
    "\n",
    "    result_np = trunc_sample.numpy()\n",
    "        \n",
    "    modes_var_arr = []\n",
    "    modes_mean_arr = []\n",
    "    hqr_arr = []\n",
    "    jsd_arr = []\n",
    "    means_est_1 = torch.zeros(dim)\n",
    "    means_est_2 = torch.zeros(dim)\n",
    "    num_found_1_mode = 0\n",
    "    num_found_2_mode = 0\n",
    "    num_found_both_modes = 0\n",
    "\n",
    "    for i in range(batch_size):\n",
    "        X_gen = trunc_sample[:, i, :]\n",
    "        assignment = Evolution.make_assignment(X_gen, evolution.locs, evolution.sigma)\n",
    "        mode_var = Evolution.compute_mode_std(X_gen, assignment).item()**2\n",
    "            \n",
    "        modes_mean, found_modes_ind = Evolution.compute_mode_mean(X_gen, assignment)\n",
    "\n",
    "        if 0 in found_modes_ind and 1 in found_modes_ind:\n",
    "            num_found_both_modes += 1\n",
    "        if 0 in found_modes_ind:\n",
    "            num_found_1_mode += 1\n",
    "            means_est_1 += modes_mean[0]\n",
    "        if 1 in found_modes_ind:\n",
    "            num_found_2_mode += 1\n",
    "            means_est_2 += modes_mean[1]\n",
    "        \n",
    "        hqr = Evolution.compute_high_quality_rate(assignment).item()\n",
    "        jsd = Evolution.compute_jsd(assignment).item()\n",
    "        \n",
    "        modes_var_arr.append(mode_var)\n",
    "        hqr_arr.append(hqr)\n",
    "        jsd_arr.append(jsd)\n",
    "\n",
    "    jsd = np.array(jsd_arr).mean()\n",
    "    modes_var = np.array(modes_var_arr).mean()\n",
    "    hqr = np.array(hqr_arr).mean()\n",
    "    if num_found_1_mode == 0:\n",
    "        print(\"Unfortunalely, no points were assigned to 1st mode, default estimation - zero\")\n",
    "        modes_mean_1_result = np.nan #0.0\n",
    "    else:\n",
    "        modes_mean_1_result = (means_est_1/num_found_1_mode).mean().item()\n",
    "    if num_found_2_mode == 0:\n",
    "        print(\"Unfortunalely, no points were assigned to 2nd mode, default estimation - zero\")\n",
    "        modes_mean_2_result = np.nan #0.0\n",
    "    else:\n",
    "        modes_mean_2_result = (means_est_2/num_found_2_mode).mean().item()\n",
    "    if num_found_1_mode == 0 and num_found_2_mode == 0:\n",
    "        modes_mean_1_result = modes_mean_2_result = trunc_sample.mean().item()\n",
    "        \n",
    "    result = dict(jsd=jsd, modes_var=modes_var, hqr=hqr, mode1_mean=modes_mean_1_result, mode2_mean=modes_mean_2_result, fraction_found2_modes=num_found_both_modes/batch_size, fraction_found1_mode=(num_found_1_mode+num_found_2_mode-2*num_found_both_modes)/batch_size)\n",
    "    return result\n",
    "\n"
   ]
  },
  {
   "cell_type": "code",
   "execution_count": 241,
   "metadata": {},
   "outputs": [],
   "source": [
    "args = edict()\n",
    "args.loc_1_target = -0.5\n",
    "args.loc_2_target = 0.5\n",
    "args.scale_target = 1\n",
    "\n",
    "args.scale_proposal = 2\n",
    "args.loc_proposal = 0\n",
    "\n",
    "args.dim = [100]\n",
    "\n",
    "args.batch_size = 200\n",
    "args.n_steps = 150\n"
   ]
  },
  {
   "cell_type": "code",
   "execution_count": 242,
   "metadata": {},
   "outputs": [],
   "source": [
    "dim = args.dim[0]"
   ]
  },
  {
   "cell_type": "code",
   "execution_count": 243,
   "metadata": {},
   "outputs": [],
   "source": [
    "target = define_target(args.loc_1_target, args.loc_2_target, args.scale_target, dim, device=device)#.log_prob\n",
    "proposal = init_independent_normal(args.scale_proposal, dim, device, args.loc_proposal)"
   ]
  },
  {
   "cell_type": "code",
   "execution_count": 244,
   "metadata": {},
   "outputs": [],
   "source": [
    "method_args = edict()\n",
    "method_args.n_steps = 1000\n",
    "method_args.N = 6\n",
    "\n",
    "start = proposal.sample([args.batch_size])\n",
    "sample = sir_independent_dynamics(start, target, proposal, **method_args)"
   ]
  },
  {
   "cell_type": "code",
   "execution_count": 245,
   "metadata": {},
   "outputs": [
    {
     "output_type": "stream",
     "name": "stdout",
     "text": [
      "Unfortunalely, no points were assigned to 1st mode, default estimation - zero\nUnfortunalely, no points were assigned to 2nd mode, default estimation - zero\n{'jsd': 0.0, 'modes_var': nan, 'hqr': 0.0, 'mode1_mean': -0.0029020842630416155, 'mode2_mean': -0.0029020842630416155, 'fraction_found2_modes': 0.0, 'fraction_found1_mode': 0.0}\n"
     ]
    }
   ],
   "source": [
    "trunc_chain_len = 900\n",
    "result = compute_metrics(sample, target, trunc_chain_len=trunc_chain_len)\n",
    "print(result)"
   ]
  },
  {
   "cell_type": "code",
   "execution_count": 246,
   "metadata": {},
   "outputs": [],
   "source": [
    "method_args = edict()\n",
    "method_args.n_steps = 1000\n",
    "method_args.grad_step = 1e-2\n",
    "method_args.eps_scale = (2 * method_args.grad_step)**.5\n",
    "\n",
    "start = proposal.sample([args.batch_size])\n",
    "sample, acceptance = mala_dynamics(start, target.log_prob, proposal, **method_args, acceptance_rule='Hastings', adapt_stepsize=True)"
   ]
  },
  {
   "cell_type": "code",
   "execution_count": 247,
   "metadata": {},
   "outputs": [
    {
     "output_type": "stream",
     "name": "stdout",
     "text": [
      "{'jsd': 0.040205003209412095, 'modes_var': 0.9572283194203931, 'hqr': 0.9499833327531815, 'mode1_mean': -0.4875207841396332, 'mode2_mean': 0.4794863760471344, 'fraction_found2_modes': 0.025, 'fraction_found1_mode': 0.975}\n"
     ]
    }
   ],
   "source": [
    "trunc_chain_len = 900\n",
    "result = compute_metrics(sample, target, trunc_chain_len=trunc_chain_len)\n",
    "print(result)"
   ]
  },
  {
   "cell_type": "code",
   "execution_count": 248,
   "metadata": {
    "tags": []
   },
   "outputs": [],
   "source": [
    "method_args = edict()\n",
    "method_args.n_steps = 1000\n",
    "method_args.grad_step = 1e-2\n",
    "method_args.noise_scale = (2 * method_args.grad_step)**.5\n",
    "method_args.N = 10\n",
    "method_args.corr_coef = 0 #0.9\n",
    "method_args.bernoulli_prob_corr = 0 #0.5\n",
    "\n",
    "\n",
    "start = proposal.sample([args.batch_size])\n",
    "sample, acceptance = ex2_mcmc_mala(start, target.log_prob, proposal, **method_args, adapt_stepsize=True)"
   ]
  },
  {
   "cell_type": "code",
   "execution_count": 249,
   "metadata": {},
   "outputs": [
    {
     "output_type": "stream",
     "name": "stdout",
     "text": [
      "{'jsd': 0.04044845063239336, 'modes_var': 0.9514185357343075, 'hqr': 0.9511444461345673, 'mode1_mean': -0.48025742173194885, 'mode2_mean': 0.4788275957107544, 'fraction_found2_modes': 0.03, 'fraction_found1_mode': 0.97}\n"
     ]
    }
   ],
   "source": [
    "trunc_chain_len = 900\n",
    "result = compute_metrics(sample, target, trunc_chain_len=trunc_chain_len)\n",
    "print(result)"
   ]
  },
  {
   "cell_type": "code",
   "execution_count": 252,
   "metadata": {},
   "outputs": [],
   "source": [
    "method_args = edict()\n",
    "method_args.n_steps = 1000\n",
    "method_args.grad_step = 1e-2\n",
    "method_args.noise_scale = (2 * method_args.grad_step)**.5\n",
    "method_args.N = 10\n",
    "method_args.corr_coef = 0.95\n",
    "method_args.bernoulli_prob_corr = 0.9\n",
    "\n",
    "\n",
    "start = proposal.sample([args.batch_size])\n",
    "sample, acceptance = ex2_mcmc_mala(start, target.log_prob, proposal, **method_args, adapt_stepsize=True)"
   ]
  },
  {
   "cell_type": "code",
   "execution_count": 253,
   "metadata": {},
   "outputs": [
    {
     "output_type": "stream",
     "name": "stdout",
     "text": [
      "{'jsd': 0.0431051641702652, 'modes_var': 0.9574164348796834, 'hqr': 0.9504277762770653, 'mode1_mean': -0.4801580309867859, 'mode2_mean': 0.49236881732940674, 'fraction_found2_modes': 0.02, 'fraction_found1_mode': 0.98}\n"
     ]
    }
   ],
   "source": [
    "trunc_chain_len = 900\n",
    "result = compute_metrics(sample, target, trunc_chain_len=trunc_chain_len)\n",
    "print(result)"
   ]
  },
  {
   "cell_type": "code",
   "execution_count": 256,
   "metadata": {},
   "outputs": [],
   "source": [
    "method_args = edict()\n",
    "method_args.n_steps = 1000\n",
    "method_args.grad_step = 1e-2\n",
    "method_args.noise_scale = (2 * method_args.grad_step)**.5\n",
    "method_args.N = 10\n",
    "method_args.corr_coef = 0.95\n",
    "method_args.bernoulli_prob_corr = 0.25\n",
    "\n",
    "\n",
    "start = proposal.sample([args.batch_size])\n",
    "sample, acceptance = ex2_mcmc_mala(start, target.log_prob, proposal, **method_args, adapt_stepsize=True)"
   ]
  },
  {
   "cell_type": "code",
   "execution_count": 257,
   "metadata": {},
   "outputs": [
    {
     "output_type": "stream",
     "name": "stdout",
     "text": [
      "{'jsd': 0.044252626560628415, 'modes_var': 0.9441087437931205, 'hqr': 0.9501277777552605, 'mode1_mean': -0.4614450931549072, 'mode2_mean': 0.4808114767074585, 'fraction_found2_modes': 0.04, 'fraction_found1_mode': 0.96}\n"
     ]
    }
   ],
   "source": [
    "trunc_chain_len = 900\n",
    "result = compute_metrics(sample, target, trunc_chain_len=trunc_chain_len)\n",
    "print(result)"
   ]
  },
  {
   "cell_type": "code",
   "execution_count": 286,
   "metadata": {},
   "outputs": [],
   "source": [
    "method_args = edict()\n",
    "method_args.n_steps = 1000\n",
    "method_args.grad_step = 1e-2\n",
    "method_args.noise_scale = (2 * method_args.grad_step)**.5\n",
    "method_args.N = 25\n",
    "method_args.corr_coef = 0.9\n",
    "method_args.bernoulli_prob_corr = 0.3\n",
    "\n",
    "\n",
    "start = proposal.sample([args.batch_size])\n",
    "sample, acceptance = ex2_mcmc_mala(start, target.log_prob, proposal, **method_args, adapt_stepsize=True)"
   ]
  },
  {
   "cell_type": "code",
   "execution_count": 287,
   "metadata": {},
   "outputs": [
    {
     "output_type": "stream",
     "name": "stdout",
     "text": [
      "{'jsd': 0.0405741473287344, 'modes_var': 0.9585413747998734, 'hqr': 0.9508777776360512, 'mode1_mean': -0.500348687171936, 'mode2_mean': 0.4692520499229431, 'fraction_found2_modes': 0.02, 'fraction_found1_mode': 0.98}\n"
     ]
    }
   ],
   "source": [
    "trunc_chain_len = 900\n",
    "result = compute_metrics(sample, target, trunc_chain_len=trunc_chain_len)\n",
    "print(result)"
   ]
  },
  {
   "cell_type": "code",
   "execution_count": 280,
   "metadata": {},
   "outputs": [],
   "source": [
    "method_args = edict()\n",
    "method_args.n_steps = 1000\n",
    "method_args.grad_step = 1e-2\n",
    "method_args.noise_scale = (2 * method_args.grad_step)**.5\n",
    "method_args.N = 10\n",
    "method_args.corr_coef = 0.98\n",
    "method_args.bernoulli_prob_corr = 0.35\n",
    "\n",
    "\n",
    "start = proposal.sample([args.batch_size])\n",
    "sample, acceptance = ex2_mcmc_mala(start, target.log_prob, proposal, **method_args, adapt_stepsize=True)"
   ]
  },
  {
   "cell_type": "code",
   "execution_count": 281,
   "metadata": {},
   "outputs": [
    {
     "output_type": "stream",
     "name": "stdout",
     "text": [
      "{'jsd': 0.04425475563853979, 'modes_var': 0.9506992716573822, 'hqr': 0.9494777771830559, 'mode1_mean': -0.4737156629562378, 'mode2_mean': 0.4795755445957184, 'fraction_found2_modes': 0.035, 'fraction_found1_mode': 0.965}\n"
     ]
    }
   ],
   "source": [
    "trunc_chain_len = 900\n",
    "result = compute_metrics(sample, target, trunc_chain_len=trunc_chain_len)\n",
    "print(result)"
   ]
  },
  {
   "cell_type": "code",
   "execution_count": 276,
   "metadata": {},
   "outputs": [],
   "source": [
    "method_args = edict()\n",
    "method_args.n_steps = 1000\n",
    "method_args.grad_step = 1e-2\n",
    "method_args.noise_scale = (2 * method_args.grad_step)**.5\n",
    "method_args.N = 10\n",
    "method_args.corr_coef = 0.3\n",
    "method_args.bernoulli_prob_corr = 0.95\n",
    "\n",
    "\n",
    "start = proposal.sample([args.batch_size])\n",
    "sample, acceptance = ex2_mcmc_mala(start, target.log_prob, proposal, **method_args, adapt_stepsize=True)"
   ]
  },
  {
   "cell_type": "code",
   "execution_count": 277,
   "metadata": {},
   "outputs": [
    {
     "output_type": "stream",
     "name": "stdout",
     "text": [
      "{'jsd': 0.03869704980403185, 'modes_var': 0.965659766954748, 'hqr': 0.9495277762413025, 'mode1_mean': -0.49223682284355164, 'mode2_mean': 0.4912351369857788, 'fraction_found2_modes': 0.01, 'fraction_found1_mode': 0.99}\n"
     ]
    }
   ],
   "source": [
    "trunc_chain_len = 900\n",
    "result = compute_metrics(sample, target, trunc_chain_len=trunc_chain_len)\n",
    "print(result)"
   ]
  },
  {
   "cell_type": "code",
   "execution_count": 32,
   "metadata": {},
   "outputs": [],
   "source": [
    "# alpha = 0.1\n",
    "\n",
    "# start = proposal.sample([batch_size])\n",
    "# sample = adaptive_sir_correlated_dynamics(start, target, proposal, n_steps, N, alpha, flow)"
   ]
  },
  {
   "cell_type": "code",
   "execution_count": null,
   "metadata": {},
   "outputs": [],
   "source": []
  }
 ]
}