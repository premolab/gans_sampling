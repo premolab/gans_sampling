{
 "cells": [
  {
   "cell_type": "code",
   "execution_count": 1,
   "source": [
    "%load_ext autoreload\n",
    "%autoreload 2"
   ],
   "outputs": [],
   "metadata": {}
  },
  {
   "cell_type": "code",
   "execution_count": 2,
   "source": [
    "import numpy as np\n",
    "import time\n",
    "import random\n",
    "from tqdm import tqdm\n",
    "from functools import partial\n",
    "import matplotlib.pyplot as plt\n",
    "from collections import defaultdict\n",
    "from easydict import EasyDict as edict\n",
    "\n",
    "from pyro.infer import MCMC, NUTS, HMC\n",
    "\n",
    "from iterative_sir.sampling_utils.sir_ais_sampling import sir_independent_dynamics, sir_correlated_dynamics\n",
    "from iterative_sir.sampling_utils.ebm_sampling import mala_dynamics\n",
    "\n",
    "from iterative_sir.sampling_utils.adaptive_mc import adaptive_sir_correlated_dynamics, ex2_mcmc_mala, Ex2MCMC, FlowMCMC\n",
    "from iterative_sir.sampling_utils.adaptive_sir_loss import *\n",
    "\n",
    "from iterative_sir.sampling_utils.flows import RNVP\n",
    "\n",
    "\n",
    "from iterative_sir.sampling_utils.distributions import IndependentNormal, BayesianLogRegression\n",
    "from iterative_sir.sampling_utils.logistic_regression import ClassificationDatasetFactory\n",
    "\n",
    "from iterative_sir.sampling_utils.metrics import ESS, acl_spectrum"
   ],
   "outputs": [],
   "metadata": {}
  },
  {
   "cell_type": "code",
   "execution_count": 3,
   "source": [
    "from scipy.stats import gaussian_kde\n",
    "\n",
    "def plot_kde(samples, dims=[0, 1], ax_lims = [(-2,9), (-2,4)], max_pts=200, fig=None, cmap=None):\n",
    "    if fig is None: \n",
    "      plt.close()\n",
    "      fig = plt.figure(figsize=(5, 5)) #, dpi=300)\n",
    "\n",
    "    X, Y = np.mgrid[ax_lims[0][0]:ax_lims[0][1]:100j, ax_lims[1][0]:ax_lims[1][1]:100j]\n",
    "    positions = np.vstack([X.ravel(), Y.ravel()])\n",
    "    kde_inp = np.stack([samples[:, dims[0]], samples[:, dims[1]]], 1).T\n",
    "    kernel = gaussian_kde(kde_inp)\n",
    "    Z = np.reshape(kernel(positions).T, X.shape)\n",
    "\n",
    "    if cmap is None:\n",
    "        cmap = plt.cm.gist_earth_r\n",
    "        \n",
    "    plt.imshow(np.rot90(Z), cmap=cmap,\n",
    "          extent=[ax_lims[0][0], ax_lims[0][1], ax_lims[1][0], ax_lims[1][1]], alpha=0.5)\n",
    "\n",
    "    #plt.plot(samples[-max_pts:, dims[0]], samples[-max_pts:, dims[1]], 'k.', markersize=2)\n",
    "    plt.xlim([ax_lims[0][0], ax_lims[0][1]])\n",
    "    plt.ylim([ax_lims[1][0], ax_lims[1][1]])\n",
    "\n",
    "    plt.axis('square')\n",
    "\n",
    "    return fig\n"
   ],
   "outputs": [],
   "metadata": {}
  },
  {
   "cell_type": "code",
   "execution_count": 4,
   "source": [
    "from matplotlib.colors import LinearSegmentedColormap\n",
    "\n",
    "def get_custom_cmap(cmap, name):\n",
    "    ncolors = 256\n",
    "    color_array = cmap(range(ncolors))\n",
    "\n",
    "    # change alpha values\n",
    "    color_array[:,-1] = np.linspace(0.0,1.0,ncolors)\n",
    "\n",
    "    # create a colormap object\n",
    "    map_object = LinearSegmentedColormap.from_list(name=name,colors=color_array)\n",
    "\n",
    "    # register this new colormap with matplotlib\n",
    "    plt.register_cmap(cmap=map_object)\n",
    "    \n",
    "\n",
    "get_custom_cmap(plt.cm.Blues, 'blue_alpha')\n",
    "get_custom_cmap(plt.cm.Reds, 'red_alpha')"
   ],
   "outputs": [],
   "metadata": {}
  },
  {
   "cell_type": "code",
   "execution_count": 5,
   "source": [
    "from pathlib import Path\n",
    "figpath = Path('../figs')\n",
    "data_root = Path('../data')"
   ],
   "outputs": [],
   "metadata": {}
  },
  {
   "cell_type": "code",
   "execution_count": 6,
   "source": [
    "device = torch.device('cpu')"
   ],
   "outputs": [],
   "metadata": {}
  },
  {
   "cell_type": "code",
   "execution_count": 7,
   "source": [
    "dataset_args = edict()\n",
    "\n",
    "# dataset_name = 'covertype'\n",
    "# n_steps = 3 * int(1000)\n",
    "# dataset_args.c1 = 3\n",
    "# dataset_args.c2 = 5\n",
    "\n",
    "# dataset_name = 'susy'\n",
    "# dataset_args.c1 = 0\n",
    "# dataset_args.c2 = 1\n",
    "\n",
    "# dataset_name = 'mnist'\n",
    "# n_steps = 3 * int(1000)\n",
    "# dataset_args.c1 = 5\n",
    "# dataset_args.c2 = 6\n",
    "\n",
    "dataset_name = 'breast'\n",
    "n_steps = 3 * int(10000)\n",
    "dataset_args.c1 = 0\n",
    "dataset_args.c2 = 1\n",
    "\n",
    "# dataset_name = 'eeg'\n",
    "# n_steps = 3 * int(1000)\n",
    "\n",
    "# dataset_name = 'swiss'\n",
    "# n_steps = 3 * int(10000)\n",
    "\n",
    "# dataset_name = 'pima'\n",
    "# n_steps = 3 * int(10000)\n",
    "\n",
    "dataset = ClassificationDatasetFactory(data_root).get_dataset(dataset_name, **dataset_args)\n",
    "\n",
    "\n",
    "target_args = edict()\n",
    "target_args.device = device\n",
    "target = BayesianLogRegression(dataset, **target_args)\n",
    "dim = target.d"
   ],
   "outputs": [
    {
     "output_type": "stream",
     "name": "stdout",
     "text": [
      "Original size: 36197, outliers size: 688\n"
     ]
    }
   ],
   "metadata": {}
  },
  {
   "cell_type": "code",
   "execution_count": 8,
   "source": [
    "dataset.x_train.shape"
   ],
   "outputs": [
    {
     "output_type": "execute_result",
     "data": {
      "text/plain": [
       "torch.Size([35509, 55])"
      ]
     },
     "metadata": {},
     "execution_count": 8
    }
   ],
   "metadata": {}
  },
  {
   "cell_type": "code",
   "execution_count": 9,
   "source": [
    "loc_proposal = torch.zeros(dim).to(device)\n",
    "scale_proposal = torch.ones(dim).to(device)\n",
    "proposal_args = edict()\n",
    "proposal_args.device = device\n",
    "proposal_args.loc = loc_proposal\n",
    "proposal_args.scale = scale_proposal\n",
    "proposal = IndependentNormal(proposal_args)"
   ],
   "outputs": [],
   "metadata": {}
  },
  {
   "cell_type": "code",
   "execution_count": 10,
   "source": [
    "def random_seed(seed):\n",
    "    torch.manual_seed(seed)\n",
    "    torch.cuda.manual_seed(seed)\n",
    "    np.random.seed(seed)\n",
    "    random.seed(seed)"
   ],
   "outputs": [],
   "metadata": {}
  },
  {
   "cell_type": "code",
   "execution_count": 11,
   "source": [
    "args = edict()\n",
    "args.batch_size = 30\n",
    "args.device = device\n",
    "\n",
    "\n",
    "#int(1e5) #100000\n",
    "\n",
    "trunc_chain_len = int(0.5 * n_steps)\n",
    "\n",
    "N = 5\n",
    "\n",
    "methods_calls = defaultdict(tuple)\n",
    "\n",
    "samples = []\n",
    "names = []\n",
    "ess_vals = []\n",
    "times = []"
   ],
   "outputs": [],
   "metadata": {}
  },
  {
   "cell_type": "code",
   "execution_count": 12,
   "source": [
    "method_args = edict()\n",
    "method_args.n_steps = n_steps\n",
    "method_args.N = N\n",
    "methods_calls['isir'] = partial(sir_independent_dynamics, **method_args)\n",
    "\n",
    "method_args = edict()\n",
    "method_args.n_steps = n_steps\n",
    "method_args.N = N\n",
    "method_args.alpha = 0.9\n",
    "methods_calls['cisir'] = partial(sir_correlated_dynamics, **method_args)\n",
    "\n",
    "method_args = edict()\n",
    "method_args.n_steps = n_steps\n",
    "method_args.grad_step = 1e-2\n",
    "method_args.eps_scale = (2 * method_args.grad_step)**.5\n",
    "method_args.adapt_stepsize = True\n",
    "methods_calls['mala'] = partial(mala_dynamics, **method_args)\n",
    "\n",
    "method_args = edict()\n",
    "method_args.n_steps = n_steps\n",
    "method_args.mala_steps = 1\n",
    "method_args.grad_step = 1e-2\n",
    "method_args.noise_scale = (2 * method_args.grad_step)**.5\n",
    "method_args.N = N\n",
    "method_args.corr_coef = 0.0\n",
    "method_args.bernoulli_prob_corr = 0.0\n",
    "method_args.adapt_stepsize = True\n",
    "methods_calls['ex2_mcmc_mala_wo_cor'] = partial(ex2_mcmc_mala, **method_args)\n",
    "\n",
    "method_args = edict()\n",
    "method_args.n_steps = n_steps\n",
    "method_args.mala_steps = 1\n",
    "method_args.grad_step = 1e-2\n",
    "method_args.noise_scale = (2 * method_args.grad_step)**.5\n",
    "method_args.N = N\n",
    "method_args.corr_coef = 0.9\n",
    "method_args.bernoulli_prob_corr = 0.5\n",
    "method_args.adapt_stepsize = True\n",
    "methods_calls['ex2_mcmc_mala_w_corr'] = partial(ex2_mcmc_mala, **method_args)\n",
    "\n",
    "\n",
    "for method_name, call in methods_calls.items():\n",
    "\n",
    "    start = proposal.sample([args.batch_size])\n",
    "\n",
    "    s = time.time()\n",
    "\n",
    "    out = call(start, target, proposal)\n",
    "    e = time.time()\n",
    "    elapsed = (e - s) #/ 60\n",
    "    if isinstance(out, tuple):\n",
    "        sample = out[0]\n",
    "    else:\n",
    "        sample = out\n",
    "\n",
    "    ess_arr = []\n",
    "    sample = torch.stack(sample, 0).detach().cpu().numpy()\n",
    "    trunc_sample = sample[-trunc_chain_len:]\n",
    "    batch_size = sample.shape[1]\n",
    "    ess = ESS(acl_spectrum((trunc_sample - trunc_sample.mean(0)[None, ...])))\n",
    "    assert ess.shape[0] == batch_size\n",
    "    print(f'Method: {method_name}, ESS: {ess.mean():.4f}, sampling time: {elapsed:.2f}, ESS/s: {ess.mean()*n_steps/elapsed:.2f}')\n",
    "\n",
    "    samples.append(trunc_sample)\n",
    "    names.append(method_name)\n",
    "    ess_vals.append(ess)\n",
    "    times.append(elapsed)\n"
   ],
   "outputs": [
    {
     "output_type": "stream",
     "name": "stdout",
     "text": [
      "Method: isir, ESS: 0.0102, sampling time: 178.66, ESS/s: 0.17\n",
      "Method: cisir, ESS: 0.0071, sampling time: 153.16, ESS/s: 0.14\n",
      "Method: mala, ESS: 0.0088, sampling time: 132.51, ESS/s: 0.20\n",
      "Method: ex2_mcmc_mala_wo_cor, ESS: 0.0060, sampling time: 278.79, ESS/s: 0.06\n",
      "Method: ex2_mcmc_mala_w_corr, ESS: 0.0061, sampling time: 281.72, ESS/s: 0.07\n"
     ]
    }
   ],
   "metadata": {}
  },
  {
   "cell_type": "code",
   "execution_count": 13,
   "source": [
    "from iterative_sir.sampling_utils.adaptive_mc import FlowMCMC\n",
    "\n",
    "batch_size = 100\n",
    "loss = \"mix_kl\"\n",
    "optimizer = 'adam'\n",
    "flow = RNVP(num_flows=4, dim=dim)\n",
    "\n",
    "method_args = edict()\n",
    "method_args.n_steps = 1\n",
    "method_args.N = N\n",
    "method_args.alpha = 0.9\n",
    "mcmc_call = partial(adaptive_sir_correlated_dynamics, **method_args)\n",
    "\n",
    "flow_mcmc = FlowMCMC(target, proposal, flow, optimizer, loss, mcmc_call, batch_size=batch_size)\n",
    "out_samples = flow_mcmc.train(n_steps=200)"
   ],
   "outputs": [
    {
     "output_type": "stream",
     "name": "stderr",
     "text": [
      "100%|██████████| 200/200 [01:16<00:00,  2.63it/s]\n"
     ]
    }
   ],
   "metadata": {}
  },
  {
   "cell_type": "code",
   "execution_count": 14,
   "source": [
    "z_0 = proposal.sample((1000,))\n",
    "z_1, _ = flow(z_0)\n",
    "\n",
    "dim1 = 1 #16\n",
    "dim2 = 2 #17\n",
    "\n",
    "prior = z_0.detach().cpu().numpy()\n",
    "poster = z_1.detach().cpu().numpy()\n",
    "\n",
    "up_quantile = 0.95\n",
    "low_quantile = 0.05\n",
    "\n",
    "ax_lims1 = [(np.quantile(prior[:, dim1], low_quantile), np.quantile(prior[:, dim1], up_quantile)), (np.quantile(prior[:, dim2], low_quantile), np.quantile(prior[:, dim2], up_quantile))]\n",
    "ax_lims2 = [(np.quantile(poster[:, dim1], low_quantile), np.quantile(poster[:, dim1], up_quantile)), (np.quantile(poster[:, dim2], low_quantile), np.quantile(poster[:, dim2], up_quantile))]\n",
    "\n",
    "ax_lims = [(min(ax_lims1[0][0], ax_lims2[0][0]), max(ax_lims1[0][1], ax_lims2[0][1])), (min(ax_lims1[1][0], ax_lims2[1][0]), max(ax_lims1[1][1], ax_lims2[1][1]))]\n",
    "fig = plot_kde(prior, [dim1, dim2], ax_lims=ax_lims, cmap = 'red_alpha')\n",
    "\n",
    "plot_kde(poster, [dim1, dim2], ax_lims=ax_lims, fig=fig, cmap = 'blue_alpha')\n",
    "\n",
    "plt.show()"
   ],
   "outputs": [
    {
     "output_type": "display_data",
     "data": {
      "text/plain": [
       "<Figure size 360x360 with 1 Axes>"
      ],
      "image/png": "[encoded data removed]"
     },
     "metadata": {
      "needs_background": "light"
     }
    }
   ],
   "metadata": {}
  },
  {
   "cell_type": "code",
   "execution_count": 15,
   "source": [
    "start = proposal.sample([args.batch_size])\n",
    "\n",
    "s = time.time()\n",
    "\n",
    "alpha = 0.9\n",
    "out = adaptive_sir_correlated_dynamics(start, target, proposal, n_steps, N, alpha, flow)\n",
    "e = time.time()\n",
    "elapsed = (e - s) #/ 60\n",
    "if isinstance(out, tuple):\n",
    "    sample = out[0]\n",
    "else:\n",
    "    sample = out\n",
    "\n",
    "ess_arr = []\n",
    "sample = torch.stack(sample, 0).detach().cpu().numpy()\n",
    "trunc_sample = sample[-trunc_chain_len:]\n",
    "batch_size = sample.shape[1]\n",
    "ess = ESS(acl_spectrum((trunc_sample - trunc_sample.mean(0)[None, ...])))\n",
    "assert ess.shape[0] == batch_size\n",
    "print(f'Method: {method_name}, ESS: {ess.mean():.4f}, sampling time: {elapsed:.2f}, ESS/s: {ess.mean()*n_steps/elapsed:.2f}')\n",
    "\n",
    "samples.append(trunc_sample)\n",
    "names.append(method_name)\n",
    "ess_vals.append(ess)\n",
    "times.append(elapsed)\n"
   ],
   "outputs": [
    {
     "output_type": "stream",
     "name": "stdout",
     "text": [
      "Method: ex2_mcmc_mala_w_corr, ESS: 0.0240, sampling time: 146.54, ESS/s: 0.49\n"
     ]
    }
   ],
   "metadata": {}
  },
  {
   "cell_type": "code",
   "execution_count": 16,
   "source": [
    "batch_size = 100\n",
    "loss = \"mix_kl\"\n",
    "optimizer = 'adam'\n",
    "flow = RNVP(num_flows=4, dim=dim)\n",
    "\n",
    "grad_step = 1e-2\n",
    "\n",
    "method_args = edict()\n",
    "method_args.n_steps = 1\n",
    "method_args.N = N\n",
    "method_args.corr_coef = 0.9\n",
    "method_args.bernoulli_prob_corr = 0.5\n",
    "method_args.grad_step = grad_step\n",
    "method_args.noise_scale = (2 * grad_step) ** .5\n",
    "method_args.adapt_stepsize = True\n",
    "method_args.mala_steps = 1\n",
    "\n",
    "\n",
    "ex2mcmc = Ex2MCMC(N)\n",
    "mcmc_call = partial(ex2mcmc, **method_args)\n",
    "flow_mcmc = FlowMCMC(target, proposal, flow, optimizer, loss, mcmc_call, batch_size=batch_size)\n",
    "out_samples = flow_mcmc.train(n_steps=200)"
   ],
   "outputs": [
    {
     "output_type": "stream",
     "name": "stderr",
     "text": [
      "100%|██████████| 200/200 [01:40<00:00,  1.99it/s]\n"
     ]
    }
   ],
   "metadata": {}
  },
  {
   "cell_type": "code",
   "execution_count": 17,
   "source": [
    "z_0 = proposal.sample((1000,))\n",
    "z_1, _ = flow(z_0)\n",
    "\n",
    "dim1 = 1 #16\n",
    "dim2 = 2 #17\n",
    "\n",
    "prior = z_0.detach().cpu().numpy()\n",
    "poster = z_1.detach().cpu().numpy()\n",
    "\n",
    "up_quantile = 0.95\n",
    "low_quantile = 0.05\n",
    "\n",
    "ax_lims1 = [(np.quantile(prior[:, dim1], low_quantile), np.quantile(prior[:, dim1], up_quantile)), (np.quantile(prior[:, dim2], low_quantile), np.quantile(prior[:, dim2], up_quantile))]\n",
    "ax_lims2 = [(np.quantile(poster[:, dim1], low_quantile), np.quantile(poster[:, dim1], up_quantile)), (np.quantile(poster[:, dim2], low_quantile), np.quantile(poster[:, dim2], up_quantile))]\n",
    "\n",
    "ax_lims = [(min(ax_lims1[0][0], ax_lims2[0][0]), max(ax_lims1[0][1], ax_lims2[0][1])), (min(ax_lims1[1][0], ax_lims2[1][0]), max(ax_lims1[1][1], ax_lims2[1][1]))]\n",
    "fig = plot_kde(prior, [dim1, dim2], ax_lims=ax_lims, cmap = 'red_alpha')\n",
    "\n",
    "plot_kde(poster, [dim1, dim2], ax_lims=ax_lims, fig=fig, cmap = 'blue_alpha')\n",
    "\n",
    "plt.show()"
   ],
   "outputs": [
    {
     "output_type": "display_data",
     "data": {
      "text/plain": [
       "<Figure size 360x360 with 1 Axes>"
      ],
      "image/png": "[encoded data removed]"
     },
     "metadata": {
      "needs_background": "light"
     }
    }
   ],
   "metadata": {}
  },
  {
   "cell_type": "code",
   "execution_count": 18,
   "source": [
    "start = proposal.sample([args.batch_size])\n",
    "\n",
    "s = time.time()\n",
    "\n",
    "grad_step = 1e-2\n",
    "\n",
    "out = ex2mcmc(start, target,  proposal, n_steps, N=N, grad_step=grad_step, noise_scale=(2*grad_step)**.5, \n",
    "                        mala_steps=1, corr_coef=0.9, bernoulli_prob_corr=0.5, flow=flow, adapt_stepsize=True, verbose=True)\n",
    "e = time.time()\n",
    "elapsed = (e - s) #/ 60\n",
    "if isinstance(out, tuple):\n",
    "    sample = out[0]\n",
    "else:\n",
    "    sample = out\n",
    "\n",
    "ess_arr = []\n",
    "sample = torch.stack(sample, 0).detach().cpu().numpy()\n",
    "trunc_sample = sample[-trunc_chain_len:]\n",
    "batch_size = sample.shape[1]\n",
    "ess = ESS(acl_spectrum((trunc_sample - trunc_sample.mean(0)[None, ...])))\n",
    "assert ess.shape[0] == batch_size\n",
    "print(f'Method: {method_name}, ESS: {ess.mean():.4f}, sampling time: {elapsed:.2f}, ESS/s: {ess.mean()*n_steps/elapsed:.2f}')\n",
    "\n",
    "samples.append(trunc_sample)\n",
    "names.append(method_name)\n",
    "ess_vals.append(ess)\n",
    "times.append(elapsed)\n"
   ],
   "outputs": [
    {
     "output_type": "stream",
     "name": "stderr",
     "text": [
      "100%|██████████| 3000/3000 [04:44<00:00, 10.54it/s]\n"
     ]
    },
    {
     "output_type": "stream",
     "name": "stdout",
     "text": [
      "Method: ex2_mcmc_mala_w_corr, ESS: 0.0052, sampling time: 284.77, ESS/s: 0.05\n"
     ]
    }
   ],
   "metadata": {}
  },
  {
   "cell_type": "code",
   "execution_count": 19,
   "source": [
    "# from pyro.infer import MCMC, NUTS, HMC\n",
    "\n",
    "# def energy(z):\n",
    "#     z = z['points']\n",
    "#     return target.log_prob(z).sum()\n",
    "\n",
    "\n",
    "# #kernel = HMC(potential_fn=energy, step_size = 0.1, num_steps = K, full_mass = False)\n",
    "# kernel_true = NUTS(potential_fn=energy, full_mass = True)\n",
    "# init_samples = proposal.sample((2,))\n",
    "\n",
    "# init_params = {'points': init_samples}\n",
    "# mcmc_true = MCMC(kernel=kernel_true, num_samples = 200000,warmup_steps = 1000, initial_params=init_params)\n",
    "# mcmc_true.run()\n",
    "\n",
    "# q_true = mcmc_true.get_samples(group_by_chain=True)[\"points\"].squeeze()\n",
    "# nuts_samples = np.array(q_true.view(-1, n_dim))\n",
    "\n",
    "# np.save('nuts_samples', nuts_samples)"
   ],
   "outputs": [],
   "metadata": {}
  },
  {
   "cell_type": "markdown",
   "source": [
    "Classification Error"
   ],
   "metadata": {}
  },
  {
   "cell_type": "code",
   "execution_count": 20,
   "source": [
    "def classification(theta, x, y):\n",
    "    #pdb.set_trace()\n",
    "    P = 1. / (1. + torch.exp(-torch.matmul(x,theta.transpose(0,1))))\n",
    "    ll =  y[...,None]*torch.log(torch.clamp(P, min=1e-10)) + (1-y[...,None])*torch.log(torch.clamp(1 - P, min=1e-10))\n",
    "    return ll"
   ],
   "outputs": [],
   "metadata": {}
  },
  {
   "cell_type": "code",
   "execution_count": 21,
   "source": [
    "ll_post = []\n",
    "for i in range(len(samples)):\n",
    "    test_samples = samples[i].reshape(-1, dim)\n",
    "    chunk_len = 1000\n",
    "    ll = 0\n",
    "    for j in range(0, len(dataset.x_test), chunk_len):\n",
    "        x_chunk = dataset.x_test[j : j + chunk_len]\n",
    "        y_chunk = dataset.y_test[j : j + chunk_len]\n",
    "        ll = ll + classification(torch.tensor(test_samples), x_chunk, y_chunk).exp().numpy().sum(0).reshape(samples[i].shape[:-1]).mean(0)\n",
    "    ll_post.append(ll / len(dataset.x_test))\n",
    "ll_post_plot = ll_post"
   ],
   "outputs": [],
   "metadata": {}
  },
  {
   "cell_type": "code",
   "execution_count": 22,
   "source": [
    "import numpy as np\n",
    "\n",
    "print(np.array(ll_post_plot).mean(1))\n",
    "print(np.median(ll_post_plot, 1))"
   ],
   "outputs": [
    {
     "output_type": "stream",
     "name": "stdout",
     "text": [
      "[0.81644785 0.90265983 0.7336887  0.907607   0.94849867 0.937392\n",
      " 0.95687956]\n",
      "[0.81621665 0.90259016 0.9533559  0.95473516 0.9552704  0.9374187\n",
      " 0.95693326]\n"
     ]
    }
   ],
   "metadata": {}
  },
  {
   "cell_type": "code",
   "execution_count": 23,
   "source": [
    "import seaborn as sns\n",
    "sns.set_theme(style=\"ticks\", palette=\"deep\")\n",
    "\n",
    "plt.figure(figsize = (15, 10))\n",
    "# plt.rcParams.update({'font.size': 25})\n",
    "\n",
    "SMALL_SIZE = 15 #8\n",
    "MEDIUM_SIZE = 15 #10\n",
    "BIGGER_SIZE = 18 #12\n",
    "\n",
    "plt.rc('font', size=SMALL_SIZE)          # controls default text sizes\n",
    "plt.rc('axes', titlesize=BIGGER_SIZE)     # fontsize of the axes title\n",
    "plt.rc('axes', labelsize=MEDIUM_SIZE)    # fontsize of the x and y labels\n",
    "plt.rc('xtick', labelsize=SMALL_SIZE)    # fontsize of the tick labels\n",
    "plt.rc('ytick', labelsize=SMALL_SIZE)    # fontsize of the tick labels\n",
    "plt.rc('legend', fontsize=MEDIUM_SIZE)    # legend fontsize\n",
    "plt.rc('figure', titlesize=BIGGER_SIZE)  # fontsize of the figure title\n",
    "\n",
    "#sns.set_style(\"darkgrid\", {\"axes.facecolor\": \".9\"})\n",
    "#sns.violinplot(data = ll_post_plot)\n",
    "sns.boxplot(data = ll_post_plot) #, s=6)\n",
    "#sns.swarmplot(data = total_res15, size = 6, color = 'black', alpha = 1.)\n",
    "#plt.hlines(y = 12.5, xmin = -0.5, xmax=5.5, color = 'red')\n",
    "\n",
    "plt.title('Average $\\hat{p}(y\\mid x)$', fontsize = 22)\n",
    "plt.xticks(np.arange(7),['ISIR', 'CISIR', 'MALA','Ex$^2$MCMC \\n w/o corr.', 'Ex$^2$MCMC', 'Fl CISIR', 'FlEx$^2$MCMC'],\n",
    "           fontsize = 20 )\n",
    "plt.grid()\n",
    "\n",
    "plt.savefig(Path(figpath, f'bayesian_logistic_regression_{dataset_name}.pdf'))\n",
    "\n",
    "plt.show()"
   ],
   "outputs": [
    {
     "output_type": "display_data",
     "data": {
      "text/plain": [
       "<Figure size 1080x720 with 1 Axes>"
      ],
      "image/png": "[encoded data removed]"
     },
     "metadata": {}
    }
   ],
   "metadata": {}
  },
  {
   "cell_type": "code",
   "execution_count": 24,
   "source": [
    "import seaborn as sns\n",
    "sns.set_theme(style=\"ticks\", palette=\"pastel\")\n",
    "\n",
    "plt.figure(figsize = (15, 10))\n",
    "# plt.rcParams.update({'font.size': 25})\n",
    "\n",
    "SMALL_SIZE = 15 #8\n",
    "MEDIUM_SIZE = 15 #10\n",
    "BIGGER_SIZE = 18 #12\n",
    "\n",
    "plt.rc('font', size=SMALL_SIZE)          # controls default text sizes\n",
    "plt.rc('axes', titlesize=BIGGER_SIZE)     # fontsize of the axes title\n",
    "plt.rc('axes', labelsize=MEDIUM_SIZE)    # fontsize of the x and y labels\n",
    "plt.rc('xtick', labelsize=SMALL_SIZE)    # fontsize of the tick labels\n",
    "plt.rc('ytick', labelsize=SMALL_SIZE)    # fontsize of the tick labels\n",
    "plt.rc('legend', fontsize=MEDIUM_SIZE)    # legend fontsize\n",
    "plt.rc('figure', titlesize=BIGGER_SIZE)  # fontsize of the figure title\n",
    "\n",
    "#sns.set_style(\"darkgrid\", {\"axes.facecolor\": \".9\"})\n",
    "#sns.violinplot(data = ll_post_plot)\n",
    "sns.boxplot(data = ll_post_plot[2:]) #, s=6)\n",
    "#sns.swarmplot(data = total_res15, size = 6, color = 'black', alpha = 1.)\n",
    "#plt.hlines(y = 12.5, xmin = -0.5, xmax=5.5, color = 'red')\n",
    "\n",
    "plt.title('Average $\\hat{p}(y\\mid x)$', fontsize = 22)\n",
    "plt.xticks(np.arange(5),['MALA','Ex$^2$MCMC \\n w/o corr.', 'Ex$^2$MCMC', 'Fl CISIR', 'FlEx$^2$MCMC'],\n",
    "           fontsize = 20 )\n",
    "plt.grid()\n",
    "\n",
    "plt.savefig(Path(figpath, f'bayesian_logistic_regression_{dataset_name}_2.pdf'))\n",
    "\n",
    "plt.show()"
   ],
   "outputs": [
    {
     "output_type": "display_data",
     "data": {
      "text/plain": [
       "<Figure size 1080x720 with 1 Axes>"
      ],
      "image/png": "[encoded data removed]"
     },
     "metadata": {}
    }
   ],
   "metadata": {}
  },
  {
   "cell_type": "code",
   "execution_count": 25,
   "source": [
    "# import seaborn as sns\n",
    "\n",
    "# plt.figure(figsize = (15, 10))\n",
    "# plt.rcParams.update({'font.size': 25})\n",
    "\n",
    "# #sns.set_style(\"darkgrid\", {\"axes.facecolor\": \".9\"})\n",
    "# sns.boxplot(data = ll_post_plot, linewidth = 3)\n",
    "# #sns.swarmplot(data = total_res15, size = 6, color = 'black', alpha = 1.)\n",
    "# #plt.hlines(y = 12.5, xmin = -0.5, xmax=5.5, color = 'red')\n",
    "\n",
    "# plt.title('Posterior probability of y_test', fontsize = 22)\n",
    "# plt.xticks([0,1,2, 3 ],['i-SIR','MALA','Ex$^2$MCMC', 'FlEx$^2$MCMC '],\n",
    "#            fontsize = 20 )\n",
    "# #plt.ylim(0,20)\n",
    "\n",
    "# plt.savefig(Path(figpath, f\"classification_true_label.png\"), bbox_inches = 'tight')"
   ],
   "outputs": [],
   "metadata": {}
  },
  {
   "cell_type": "code",
   "execution_count": null,
   "source": [],
   "outputs": [],
   "metadata": {}
  }
 ],
 "metadata": {
  "kernelspec": {
   "name": "python3",
   "display_name": "Python 3.8.10 64-bit ('gans_sampling': conda)"
  },
  "language_info": {
   "codemirror_mode": {
    "name": "ipython",
    "version": 3
   },
   "file_extension": ".py",
   "mimetype": "text/x-python",
   "name": "python",
   "nbconvert_exporter": "python",
   "pygments_lexer": "ipython3",
   "version": "3.8.10"
  },
  "interpreter": {
   "hash": "65ee106e0fc0a0c35979565a6d4193fbfa28e4297680fa48d882d5afe825f490"
  }
 },
 "nbformat": 4,
 "nbformat_minor": 4
}