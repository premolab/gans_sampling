{
 "cells": [
  {
   "cell_type": "code",
   "execution_count": 1,
   "source": [
    "from pathlib import Path\n",
    "import tabulate\n",
    "import pickle\n",
    "\n",
    "res_root = Path('../dump')"
   ],
   "outputs": [],
   "metadata": {}
  },
  {
   "cell_type": "code",
   "execution_count": 2,
   "source": [
    "def leave_cols(evols, cols):\n",
    "    evols_ = dict()\n",
    "    for k in evols.keys():\n",
    "        evols_[k] = {x:f'{v[0][0]:.3f}' for x, v in evols[k].items() if x in cols}\n",
    "    return evols_"
   ],
   "outputs": [],
   "metadata": {}
  },
  {
   "cell_type": "code",
   "execution_count": null,
   "source": [],
   "outputs": [],
   "metadata": {}
  },
  {
   "cell_type": "code",
   "execution_count": 3,
   "source": [
    "evols = pickle.load(Path(res_root, 'gan_swissroll_metrics_multi.pkl').open(\"rb\"))"
   ],
   "outputs": [],
   "metadata": {}
  },
  {
   "cell_type": "code",
   "execution_count": 4,
   "source": [
    "cols = ['tv', 'emd'] #['mode_std', 'n_found_modes', 'emd']"
   ],
   "outputs": [],
   "metadata": {}
  },
  {
   "cell_type": "code",
   "execution_count": 5,
   "source": [
    "evols_ = leave_cols(evols, cols)"
   ],
   "outputs": [],
   "metadata": {}
  },
  {
   "cell_type": "code",
   "execution_count": 6,
   "source": [
    "evols_"
   ],
   "outputs": [
    {
     "output_type": "execute_result",
     "data": {
      "text/plain": [
       "{'GAN': {'emd': '0.011', 'tv': '0.053'},\n",
       " 'ULA': {'emd': '0.023', 'tv': '0.067'},\n",
       " 'ULA_1': {'emd': '0.010', 'tv': '0.048'},\n",
       " 'MALA': {'emd': '0.010', 'tv': '0.051'},\n",
       " 'MALA_1': {'emd': '0.014', 'tv': '0.054'},\n",
       " 'Ex$^2$MCMC': {'emd': '0.049', 'tv': '0.063'},\n",
       " 'Ex$^2$MCMC_1': {'emd': '0.047', 'tv': '0.062'}}"
      ]
     },
     "metadata": {},
     "execution_count": 6
    }
   ],
   "metadata": {}
  },
  {
   "cell_type": "code",
   "execution_count": 8,
   "source": [
    "evols = pickle.load(Path(res_root, 'gan_swissroll_metrics.pkl').open(\"rb\"))"
   ],
   "outputs": [],
   "metadata": {}
  },
  {
   "cell_type": "code",
   "execution_count": 9,
   "source": [
    "evols_ = leave_cols(evols, cols)"
   ],
   "outputs": [],
   "metadata": {}
  },
  {
   "cell_type": "code",
   "execution_count": 10,
   "source": [
    "evols_"
   ],
   "outputs": [
    {
     "output_type": "execute_result",
     "data": {
      "text/plain": [
       "{'GAN': {'emd': '0.281', 'tv': '0.096'},\n",
       " 'ULA': {'emd': '3.075', 'tv': '0.939'},\n",
       " 'ULA_1': {'emd': '2.961', 'tv': '0.914'},\n",
       " 'MALA': {'emd': '0.055', 'tv': '0.056'},\n",
       " 'Ex$^2$MCMC': {'emd': '0.043', 'tv': '0.046'}}"
      ]
     },
     "metadata": {},
     "execution_count": 10
    }
   ],
   "metadata": {}
  },
  {
   "cell_type": "code",
   "execution_count": 11,
   "source": [
    "evols = pickle.load(Path(res_root, 'gan_gaussians_2d_metrics_multi.pkl').open(\"rb\"))a"
   ],
   "outputs": [],
   "metadata": {}
  },
  {
   "cell_type": "code",
   "execution_count": 12,
   "source": [
    "evols_ = leave_cols(evols, ['mode_std', 'n_found_modes', 'emd'])"
   ],
   "outputs": [],
   "metadata": {}
  },
  {
   "cell_type": "code",
   "execution_count": 13,
   "source": [
    "evols_"
   ],
   "outputs": [
    {
     "output_type": "execute_result",
     "data": {
      "text/plain": [
       "{'GAN': {'mode_std': '0.058', 'emd': '0.064', 'n_found_modes': '25.000'},\n",
       " 'ULA': {'mode_std': '0.043', 'emd': '0.062', 'n_found_modes': '25.000'},\n",
       " 'MALA': {'mode_std': '0.058', 'emd': '0.058', 'n_found_modes': '25.000'},\n",
       " 'Ex$^2$MCMC': {'mode_std': '0.056',\n",
       "  'emd': '0.182',\n",
       "  'n_found_modes': '25.000'}}"
      ]
     },
     "metadata": {},
     "execution_count": 13
    }
   ],
   "metadata": {}
  },
  {
   "cell_type": "code",
   "execution_count": 14,
   "source": [
    "evols = pickle.load(Path(res_root, 'gan_gaussians_2d_metrics.pkl').open(\"rb\"))"
   ],
   "outputs": [],
   "metadata": {}
  },
  {
   "cell_type": "code",
   "execution_count": 15,
   "source": [
    "evols_ = leave_cols(evols, ['mode_std', 'n_found_modes', 'emd'])"
   ],
   "outputs": [],
   "metadata": {}
  },
  {
   "cell_type": "code",
   "execution_count": 16,
   "source": [
    "evols_"
   ],
   "outputs": [
    {
     "output_type": "execute_result",
     "data": {
      "text/plain": [
       "{'GAN': {'mode_std': '0.047', 'emd': '0.820', 'n_found_modes': '5.000'},\n",
       " 'ULA': {'mode_std': '0.036', 'emd': '6.967', 'n_found_modes': '1.000'},\n",
       " 'MALA': {'mode_std': '0.050', 'emd': '0.207', 'n_found_modes': '25.000'},\n",
       " 'Ex$^2$MCMC': {'mode_std': '0.055',\n",
       "  'emd': '0.183',\n",
       "  'n_found_modes': '25.000'}}"
      ]
     },
     "metadata": {},
     "execution_count": 16
    }
   ],
   "metadata": {}
  },
  {
   "cell_type": "code",
   "execution_count": null,
   "source": [],
   "outputs": [],
   "metadata": {}
  },
  {
   "cell_type": "code",
   "execution_count": 18,
   "source": [
    "evols = pickle.load(Path(res_root, 'gan_gaussians_5d_metrics_multi.pkl').open(\"rb\"))\n"
   ],
   "outputs": [],
   "metadata": {}
  },
  {
   "cell_type": "code",
   "execution_count": 19,
   "source": [
    "evols_ = leave_cols(evols, ['mode_std', 'n_found_modes', 'emd'])"
   ],
   "outputs": [],
   "metadata": {}
  },
  {
   "cell_type": "code",
   "execution_count": 20,
   "source": [
    "evols_"
   ],
   "outputs": [
    {
     "output_type": "execute_result",
     "data": {
      "text/plain": [
       "{'GAN': {'mode_std': '0.040', 'emd': '3.864', 'n_found_modes': '34.800'},\n",
       " 'ULA': {'mode_std': '0.039', 'emd': '4.203', 'n_found_modes': '98.000'},\n",
       " 'MALA': {'mode_std': '0.040', 'emd': '3.808', 'n_found_modes': '85.800'},\n",
       " 'Ex$^2$MCMC': {'mode_std': '0.039',\n",
       "  'emd': '3.596',\n",
       "  'n_found_modes': '89.400'}}"
      ]
     },
     "metadata": {},
     "execution_count": 20
    }
   ],
   "metadata": {}
  },
  {
   "cell_type": "code",
   "execution_count": 21,
   "source": [
    "evols = pickle.load(Path(res_root, 'gan_gaussians_5d_metrics.pkl').open(\"rb\"))"
   ],
   "outputs": [],
   "metadata": {}
  },
  {
   "cell_type": "code",
   "execution_count": 22,
   "source": [
    "evols_ = leave_cols(evols, ['mode_std', 'n_found_modes', 'emd'])"
   ],
   "outputs": [],
   "metadata": {}
  },
  {
   "cell_type": "code",
   "execution_count": 23,
   "source": [
    "evols_"
   ],
   "outputs": [
    {
     "output_type": "execute_result",
     "data": {
      "text/plain": [
       "{'GAN': {'mode_std': '0.000', 'emd': '7.666', 'n_found_modes': '0.000'},\n",
       " 'ULA': {'mode_std': '0.022', 'emd': '30.957', 'n_found_modes': '1.000'},\n",
       " 'MALA': {'mode_std': '0.030', 'emd': '24.027', 'n_found_modes': '3.500'},\n",
       " 'Ex$^2$MCMC': {'mode_std': '0.030',\n",
       "  'emd': '3.775',\n",
       "  'n_found_modes': '62.867'}}"
      ]
     },
     "metadata": {},
     "execution_count": 23
    }
   ],
   "metadata": {}
  },
  {
   "cell_type": "code",
   "execution_count": null,
   "source": [],
   "outputs": [],
   "metadata": {}
  }
 ],
 "metadata": {
  "orig_nbformat": 4,
  "language_info": {
   "name": "python",
   "version": "3.8.11",
   "mimetype": "text/x-python",
   "codemirror_mode": {
    "name": "ipython",
    "version": 3
   },
   "pygments_lexer": "ipython3",
   "nbconvert_exporter": "python",
   "file_extension": ".py"
  },
  "kernelspec": {
   "name": "python3",
   "display_name": "Python 3.8.11 64-bit ('ex2mcmc': conda)"
  },
  "interpreter": {
   "hash": "8f75e964b6e4446e610328f65fcaf47604c612f2a49b58592e03c99110a2ed99"
  }
 },
 "nbformat": 4,
 "nbformat_minor": 2
}