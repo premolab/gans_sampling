{
 "cells": [
  {
   "cell_type": "code",
   "execution_count": null,
   "metadata": {},
   "outputs": [],
   "source": []
  },
  {
   "cell_type": "code",
   "execution_count": 3,
   "metadata": {},
   "outputs": [],
   "source": [
    "import numpy as np\n",
    "#500, 500, 122\n",
    "# nuts = np.array([[0.9838902,  0.98040605, 0.9835814 , 0.9858164 , 0.98329467, 0.98236233,\n",
    "#   0.98349124, 0.9855169,  0.98411965 ,0.97961533 ,0.98246527, 0.9822028,\n",
    "#   0.98416495, 0.98399144, 0.9789787 ]])"
   ]
  },
  {
   "cell_type": "code",
   "execution_count": 4,
   "metadata": {},
   "outputs": [],
   "source": [
    "# 500, 110\n",
    "\n",
    "nuts = np.array([[0.98513585, 0.9826434,  0.98389363, 0.9847956,  0.9834843,  0.9847615,\n",
    "  0.98325765, 0.9824993,  0.98122895, 0.98149085 ,0.9838544,  0.9854245,\n",
    "  0.984342,   0.98090893, 0.983386  ]])"
   ]
  },
  {
   "cell_type": "code",
   "execution_count": 5,
   "metadata": {},
   "outputs": [],
   "source": [
    "vals = np.load('../dump/bayesian_lr/digits/03-12-2021_00:34.npy', allow_pickle=True)"
   ]
  },
  {
   "cell_type": "code",
   "execution_count": 6,
   "metadata": {},
   "outputs": [
    {
     "data": {
      "text/plain": [
       "array({'NUTS': array([0.98489994, 0.984987  , 0.98513377, 0.9849496 , 0.9854494 ,\n",
       "       0.985262  , 0.98529303, 0.9849153 , 0.9848053 , 0.9851754 ,\n",
       "       0.9849762 , 0.98445153, 0.9857006 , 0.98542714, 0.9853972 ],\n",
       "      dtype=float32), 'i-SIR': array([0.96667635, 0.98865825, 0.9656346 , 0.9713791 , 0.9900442 ,\n",
       "       0.9991474 , 0.9546208 , 0.9848518 , 0.9686547 , 0.99781203,\n",
       "       0.9816989 , 0.99545735, 0.98374146, 0.9858967 , 0.9775378 ],\n",
       "      dtype=float32), 'MALA': array([0.97720634, 0.98004547, 0.98508735, 0.98550204, 0.98495495,\n",
       "       0.98657129, 0.98914507, 0.99237879, 0.98246001, 0.98287752,\n",
       "       0.98751576, 0.98507909, 0.98526287, 0.9870662 , 0.98773847]), 'Ex$^2$MCMC': array([0.98693365, 0.9872469 , 0.98444813, 0.9861163 , 0.98072314,\n",
       "       0.98338455, 0.98045325, 0.98431283, 0.9819992 , 0.9861625 ,\n",
       "       0.9860401 , 0.9833189 , 0.9857201 , 0.98466074, 0.9850788 ],\n",
       "      dtype=float32), 'FlEx$^2$MCMC': array([0.9872308 , 0.9857968 , 0.9855725 , 0.9842421 , 0.9835944 ,\n",
       "       0.98649406, 0.98449445, 0.9858253 , 0.98423016, 0.9864546 ,\n",
       "       0.98508537, 0.9892194 , 0.9858357 , 0.9894846 , 0.9842195 ],\n",
       "      dtype=float32)}, dtype=object)"
      ]
     },
     "execution_count": 6,
     "metadata": {},
     "output_type": "execute_result"
    }
   ],
   "source": [
    "vals#['NUTS']# = nuts"
   ]
  },
  {
   "cell_type": "code",
   "execution_count": 7,
   "metadata": {},
   "outputs": [
    {
     "data": {
      "text/plain": [
       "array({'NUTS': array([0.98489994, 0.984987  , 0.98513377, 0.9849496 , 0.9854494 ,\n",
       "       0.985262  , 0.98529303, 0.9849153 , 0.9848053 , 0.9851754 ,\n",
       "       0.9849762 , 0.98445153, 0.9857006 , 0.98542714, 0.9853972 ],\n",
       "      dtype=float32), 'i-SIR': array([0.96667635, 0.98865825, 0.9656346 , 0.9713791 , 0.9900442 ,\n",
       "       0.9991474 , 0.9546208 , 0.9848518 , 0.9686547 , 0.99781203,\n",
       "       0.9816989 , 0.99545735, 0.98374146, 0.9858967 , 0.9775378 ],\n",
       "      dtype=float32), 'MALA': array([0.97720634, 0.98004547, 0.98508735, 0.98550204, 0.98495495,\n",
       "       0.98657129, 0.98914507, 0.99237879, 0.98246001, 0.98287752,\n",
       "       0.98751576, 0.98507909, 0.98526287, 0.9870662 , 0.98773847]), 'Ex$^2$MCMC': array([0.98693365, 0.9872469 , 0.98444813, 0.9861163 , 0.98072314,\n",
       "       0.98338455, 0.98045325, 0.98431283, 0.9819992 , 0.9861625 ,\n",
       "       0.9860401 , 0.9833189 , 0.9857201 , 0.98466074, 0.9850788 ],\n",
       "      dtype=float32), 'FlEx$^2$MCMC': array([0.9872308 , 0.9857968 , 0.9855725 , 0.9842421 , 0.9835944 ,\n",
       "       0.98649406, 0.98449445, 0.9858253 , 0.98423016, 0.9864546 ,\n",
       "       0.98508537, 0.9892194 , 0.9858357 , 0.9894846 , 0.9842195 ],\n",
       "      dtype=float32)}, dtype=object)"
      ]
     },
     "execution_count": 7,
     "metadata": {},
     "output_type": "execute_result"
    }
   ],
   "source": [
    "vals"
   ]
  },
  {
   "cell_type": "code",
   "execution_count": 8,
   "metadata": {},
   "outputs": [],
   "source": [
    "vals = {'NUTS': np.array([0.98489994, 0.984987  , 0.98513377, 0.9849496 , 0.9854494 ,\n",
    "       0.985262  , 0.98529303, 0.9849153 , 0.9848053 , 0.9851754 ,\n",
    "       0.9849762 , 0.98445153, 0.9857006 , 0.98542714, 0.9853972 ],\n",
    "      dtype=np.float32), 'i-SIR': np.array([0.96667635, 0.98865825, 0.9656346 , 0.9713791 , 0.9900442 ,\n",
    "       0.9991474 , 0.9546208 , 0.9848518 , 0.9686547 , 0.99781203,\n",
    "       0.9816989 , 0.99545735, 0.98374146, 0.9858967 , 0.9775378 ],\n",
    "      dtype=np.float32), 'MALA': np.array([0.97720634, 0.98004547, 0.98508735, 0.98550204, 0.98495495,\n",
    "       0.98657129, 0.98914507, 0.99237879, 0.98246001, 0.98287752,\n",
    "       0.98751576, 0.98507909, 0.98526287, 0.9870662 , 0.98773847]), 'Ex$^2$MCMC': np.array([0.98693365, 0.9872469 , 0.98444813, 0.9861163 , 0.98072314,\n",
    "       0.98338455, 0.98045325, 0.98431283, 0.9819992 , 0.9861625 ,\n",
    "       0.9860401 , 0.9833189 , 0.9857201 , 0.98466074, 0.9850788 ],\n",
    "      dtype=np.float32), 'FlEx$^2$MCMC': np.array([0.9872308 , 0.9857968 , 0.9855725 , 0.9842421 , 0.9835944 ,\n",
    "       0.98649406, 0.98449445, 0.9858253 , 0.98423016, 0.9864546 ,\n",
    "       0.98508537, 0.9892194 , 0.9858357 , 0.9894846 , 0.9842195 ],\n",
    "      dtype=np.float32)}"
   ]
  },
  {
   "cell_type": "code",
   "execution_count": 9,
   "metadata": {},
   "outputs": [],
   "source": [
    "vals['NUTS'] = nuts[0]"
   ]
  },
  {
   "cell_type": "code",
   "execution_count": 10,
   "metadata": {},
   "outputs": [],
   "source": [
    "import sys\n",
    "\n",
    "sys.path.append('../experiments')\n",
    "\n",
    "from bayesian_lr import plot"
   ]
  },
  {
   "cell_type": "code",
   "execution_count": 13,
   "metadata": {},
   "outputs": [],
   "source": [
    "import seaborn as sns\n",
    "\n",
    "def plot(res, method_names, colors=None):\n",
    "    fig, ax = plt.subplots(figsize=(6, 6))\n",
    "\n",
    "    SMALL_SIZE = 15  # 8\n",
    "    MEDIUM_SIZE = 18  # 10\n",
    "    BIGGER_SIZE = 20  # 12\n",
    "\n",
    "    plt.rc(\"font\", size=MEDIUM_SIZE)  # controls default text sizes\n",
    "    plt.rc(\"axes\", titlesize=BIGGER_SIZE)  # fontsize of the axes title\n",
    "    #plt.rc(\"axes\", labelsize=MEDIUM_SIZE)  # fontsize of the x and y labels\n",
    "    plt.rc(\"xtick\", labelsize=0)#MEDIUM_SIZE)  # fontsize of the tick labels\n",
    "    plt.rc(\"ytick\", labelsize=MEDIUM_SIZE)  # fontsize of the tick labels\n",
    "    plt.rc(\"legend\", fontsize=MEDIUM_SIZE)  # legend fontsize\n",
    "    plt.rc(\"figure\", titlesize=BIGGER_SIZE)  # fontsize of the figure title\n",
    "\n",
    "    # sns.set_style(\"darkgrid\", {\"axes.facecolor\": \".9\"})\n",
    "    # sns.violinplot(data = ll_post_plot)\n",
    "    palette = colors  # {name: c for name, c in zip(method_names, colors)}\n",
    "    \n",
    "    import pandas as pd\n",
    "    df = pd.DataFrame(columns=['name', 'real_name', 'val'])\n",
    "    k = 0\n",
    "    for i, x in enumerate(method_names):\n",
    "        for y in res[i]:\n",
    "            df.loc[k] = [i, x, y]\n",
    "            k += 1\n",
    "\n",
    "    #df = pd.DataFrame([[[x]*len(y), y] for x, y in zip(method_names, res)], columns=['name', 'val'])\n",
    "    #df = {'name': method_names, 'val': res}\n",
    "    #print(res)\n",
    "    sns.boxplot(data=df, width=0.8, x='name', y='val', palette=palette, orient='v') #, legend_out=True)  # , s=6)\n",
    "    import matplotlib.patches as mpatches\n",
    "    patches = []\n",
    "    for color in colors:\n",
    "        patches.append(mpatches.Patch(color=color, label='The red data'))\n",
    "\n",
    "    plt.legend(handles=patches, labels=method_names, title = \"\")\n",
    "    #g.add_legend()\n",
    "\n",
    "    # handles, labels = ax.get_legend_handles_labels()\n",
    "    # print(labels)\n",
    "    plt.title(r\"Average $\\hat{p}(y\\mid x, \\mathcal{D})$\")  # , fontsize = 22)\n",
    "    # plt.xticks(np.arange(len(method_names)), method_names)  # , fontsize = 20 )\n",
    "    plt.grid()\n",
    "\n",
    "    # # degrees = 70\n",
    "    # # plt.xticks(rotation=degrees)\n",
    "\n",
    "    # plt.setp(\n",
    "    #     ax.xaxis.get_majorticklabels(),\n",
    "    #     rotation=60,\n",
    "    #     fontsize=MEDIUM_SIZE,\n",
    "    #     ha=\"right\",\n",
    "    #     rotation_mode=\"default\",\n",
    "    # )\n",
    "    plt.setp(\n",
    "        ax.yaxis.get_majorticklabels(), fontsize=MEDIUM_SIZE\n",
    "    )  # , ha=\"right\", rotation_mode=\"anchor\")\n",
    "    #plt.legend()\n",
    "\n",
    "    plt.tick_params(\n",
    "    axis='x',          # changes apply to the x-axis\n",
    "    which='both',      # both major and minor ticks are affected\n",
    "    bottom=False,      # ticks along the bottom edge are off\n",
    "    top=False,         # ticks along the top edge are off\n",
    "    labelbottom=False)\n",
    "\n",
    "    frame1 = plt.gca()\n",
    "    frame1.axes.get_xaxis().set_visible(False)\n",
    "\n",
    "    plt.ylabel(None)#r\"Average $\\hat{p}(y\\mid x, \\mathcal{D})$\")\n",
    "\n",
    "\n",
    "    # plt.show()\n",
    "    \n",
    "    fig.tight_layout()\n",
    "\n",
    "    return fig"
   ]
  },
  {
   "cell_type": "code",
   "execution_count": 14,
   "metadata": {},
   "outputs": [
    {
     "data": {
      "image/png": "[encoded data removed]",
      "text/plain": [
       "<Figure size 432x432 with 1 Axes>"
      ]
     },
     "metadata": {},
     "output_type": "display_data"
    }
   ],
   "source": [
    "from matplotlib import pyplot as plt\n",
    "\n",
    "plot(list(vals.values()), list(vals.keys()), colors=['tab:orange', 'tab:blue', 'tab:green', 'tab:red', 'tab:pink'])\n",
    "plt.savefig('blr_digits2.pdf')\n"
   ]
  },
  {
   "cell_type": "code",
   "execution_count": 11,
   "metadata": {},
   "outputs": [],
   "source": [
    "tips = sns.load_dataset(\"tips\")"
   ]
  },
  {
   "cell_type": "code",
   "execution_count": 12,
   "metadata": {},
   "outputs": [
    {
     "data": {
      "text/html": [
       "<div>\n",
       "<style scoped>\n",
       "    .dataframe tbody tr th:only-of-type {\n",
       "        vertical-align: middle;\n",
       "    }\n",
       "\n",
       "    .dataframe tbody tr th {\n",
       "        vertical-align: top;\n",
       "    }\n",
       "\n",
       "    .dataframe thead th {\n",
       "        text-align: right;\n",
       "    }\n",
       "</style>\n",
       "<table border=\"1\" class=\"dataframe\">\n",
       "  <thead>\n",
       "    <tr style=\"text-align: right;\">\n",
       "      <th></th>\n",
       "      <th>total_bill</th>\n",
       "      <th>tip</th>\n",
       "      <th>sex</th>\n",
       "      <th>smoker</th>\n",
       "      <th>day</th>\n",
       "      <th>time</th>\n",
       "      <th>size</th>\n",
       "    </tr>\n",
       "  </thead>\n",
       "  <tbody>\n",
       "    <tr>\n",
       "      <th>0</th>\n",
       "      <td>16.99</td>\n",
       "      <td>1.01</td>\n",
       "      <td>Female</td>\n",
       "      <td>No</td>\n",
       "      <td>Sun</td>\n",
       "      <td>Dinner</td>\n",
       "      <td>2</td>\n",
       "    </tr>\n",
       "    <tr>\n",
       "      <th>1</th>\n",
       "      <td>10.34</td>\n",
       "      <td>1.66</td>\n",
       "      <td>Male</td>\n",
       "      <td>No</td>\n",
       "      <td>Sun</td>\n",
       "      <td>Dinner</td>\n",
       "      <td>3</td>\n",
       "    </tr>\n",
       "    <tr>\n",
       "      <th>2</th>\n",
       "      <td>21.01</td>\n",
       "      <td>3.50</td>\n",
       "      <td>Male</td>\n",
       "      <td>No</td>\n",
       "      <td>Sun</td>\n",
       "      <td>Dinner</td>\n",
       "      <td>3</td>\n",
       "    </tr>\n",
       "    <tr>\n",
       "      <th>3</th>\n",
       "      <td>23.68</td>\n",
       "      <td>3.31</td>\n",
       "      <td>Male</td>\n",
       "      <td>No</td>\n",
       "      <td>Sun</td>\n",
       "      <td>Dinner</td>\n",
       "      <td>2</td>\n",
       "    </tr>\n",
       "    <tr>\n",
       "      <th>4</th>\n",
       "      <td>24.59</td>\n",
       "      <td>3.61</td>\n",
       "      <td>Female</td>\n",
       "      <td>No</td>\n",
       "      <td>Sun</td>\n",
       "      <td>Dinner</td>\n",
       "      <td>4</td>\n",
       "    </tr>\n",
       "  </tbody>\n",
       "</table>\n",
       "</div>"
      ],
      "text/plain": [
       "   total_bill   tip     sex smoker  day    time  size\n",
       "0       16.99  1.01  Female     No  Sun  Dinner     2\n",
       "1       10.34  1.66    Male     No  Sun  Dinner     3\n",
       "2       21.01  3.50    Male     No  Sun  Dinner     3\n",
       "3       23.68  3.31    Male     No  Sun  Dinner     2\n",
       "4       24.59  3.61  Female     No  Sun  Dinner     4"
      ]
     },
     "execution_count": 12,
     "metadata": {},
     "output_type": "execute_result"
    }
   ],
   "source": [
    "tips.head()"
   ]
  },
  {
   "cell_type": "code",
   "execution_count": 54,
   "metadata": {},
   "outputs": [],
   "source": [
    "import pandas as pd\n",
    "\n",
    "method_names = list(vals.keys())\n",
    "res = list(vals.values())\n",
    "\n",
    "df = pd.DataFrame(columns=['name', 'real_name', 'val'])\n",
    "k = 0\n",
    "for i, x in enumerate(method_names):\n",
    "    if x != 'i-SIR':\n",
    "        for y in res[i]:\n",
    "            df.loc[k] = [str(i), i, y]\n",
    "            k += 1"
   ]
  },
  {
   "cell_type": "code",
   "execution_count": 55,
   "metadata": {},
   "outputs": [
    {
     "data": {
      "text/html": [
       "<div>\n",
       "<style scoped>\n",
       "    .dataframe tbody tr th:only-of-type {\n",
       "        vertical-align: middle;\n",
       "    }\n",
       "\n",
       "    .dataframe tbody tr th {\n",
       "        vertical-align: top;\n",
       "    }\n",
       "\n",
       "    .dataframe thead th {\n",
       "        text-align: right;\n",
       "    }\n",
       "</style>\n",
       "<table border=\"1\" class=\"dataframe\">\n",
       "  <thead>\n",
       "    <tr style=\"text-align: right;\">\n",
       "      <th></th>\n",
       "      <th>name</th>\n",
       "      <th>real_name</th>\n",
       "      <th>val</th>\n",
       "    </tr>\n",
       "  </thead>\n",
       "  <tbody>\n",
       "    <tr>\n",
       "      <th>0</th>\n",
       "      <td>0</td>\n",
       "      <td>0</td>\n",
       "      <td>0.985136</td>\n",
       "    </tr>\n",
       "    <tr>\n",
       "      <th>1</th>\n",
       "      <td>0</td>\n",
       "      <td>0</td>\n",
       "      <td>0.982643</td>\n",
       "    </tr>\n",
       "    <tr>\n",
       "      <th>2</th>\n",
       "      <td>0</td>\n",
       "      <td>0</td>\n",
       "      <td>0.983894</td>\n",
       "    </tr>\n",
       "    <tr>\n",
       "      <th>3</th>\n",
       "      <td>0</td>\n",
       "      <td>0</td>\n",
       "      <td>0.984796</td>\n",
       "    </tr>\n",
       "    <tr>\n",
       "      <th>4</th>\n",
       "      <td>0</td>\n",
       "      <td>0</td>\n",
       "      <td>0.983484</td>\n",
       "    </tr>\n",
       "  </tbody>\n",
       "</table>\n",
       "</div>"
      ],
      "text/plain": [
       "  name real_name       val\n",
       "0    0         0  0.985136\n",
       "1    0         0  0.982643\n",
       "2    0         0  0.983894\n",
       "3    0         0  0.984796\n",
       "4    0         0  0.983484"
      ]
     },
     "execution_count": 55,
     "metadata": {},
     "output_type": "execute_result"
    }
   ],
   "source": [
    "df.head()"
   ]
  },
  {
   "cell_type": "code",
   "execution_count": 59,
   "metadata": {},
   "outputs": [
    {
     "name": "stderr",
     "output_type": "stream",
     "text": [
      "/home/evgeny/.local/lib/python3.8/site-packages/seaborn/categorical.py:3775: UserWarning: catplot is a figure-level function and does not accept target axes. You may wish to try boxplot\n",
      "  warnings.warn(msg, UserWarning)\n"
     ]
    },
    {
     "data": {
      "image/png": "[encoded data removed]",
      "text/plain": [
       "<Figure size 432x432 with 1 Axes>"
      ]
     },
     "metadata": {},
     "output_type": "display_data"
    },
    {
     "data": {
      "image/png": "[encoded data removed]",
      "text/plain": [
       "<Figure size 360x360 with 1 Axes>"
      ]
     },
     "metadata": {},
     "output_type": "display_data"
    }
   ],
   "source": [
    "import seaborn as sns\n",
    "from matplotlib import pyplot as plt\n",
    "\n",
    "f = plt.figure(figsize=[6,6])\n",
    "ax = f.add_subplot(111)\n",
    "\n",
    "#sns.set(rc={'figure.figsize':(11.7,8.27)})\n",
    "g = sns.catplot(kind='box', x=\"name\", y=\"val\",\n",
    "                 data=df, width=1, ax=ax, legend_out=True)\n",
    "# g.add_legend()\n",
    "plt.legend(labels=[1, 2, 3, 4], title = \"Title_Legend\")\n",
    "sns.despine(offset=0, trim=False)"
   ]
  },
  {
   "cell_type": "code",
   "execution_count": null,
   "metadata": {},
   "outputs": [],
   "source": []
  }
 ],
 "metadata": {
  "interpreter": {
   "hash": "011ea3764c82496f92e97a161e3e74757278f22e20ef41af1f87f741c2fcb343"
  },
  "kernelspec": {
   "display_name": "Python 3.8.11 64-bit ('ex2mcmc': conda)",
   "language": "python",
   "name": "python3"
  },
  "language_info": {
   "codemirror_mode": {
    "name": "ipython",
    "version": 3
   },
   "file_extension": ".py",
   "mimetype": "text/x-python",
   "name": "python",
   "nbconvert_exporter": "python",
   "pygments_lexer": "ipython3",
   "version": "3.8.11"
  },
  "orig_nbformat": 4
 },
 "nbformat": 4,
 "nbformat_minor": 2
}
