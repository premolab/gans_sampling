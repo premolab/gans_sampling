{
 "cells": [
  {
   "cell_type": "code",
   "execution_count": 1,
   "metadata": {},
   "outputs": [],
   "source": [
    "%load_ext autoreload\n",
    "%autoreload 2"
   ]
  },
  {
   "cell_type": "code",
   "execution_count": 2,
   "metadata": {},
   "outputs": [],
   "source": [
    "import numpy as np\n",
    "import random\n",
    "import glob\n",
    "from tqdm import tqdm\n",
    "from functools import partial\n",
    "import ot\n",
    "from matplotlib import pyplot as plt\n",
    "from collections import defaultdict\n",
    "import torch, torch.nn as nn\n",
    "from torch.distributions import Normal\n",
    "from easydict import EasyDict as edict"
   ]
  },
  {
   "cell_type": "code",
   "execution_count": 3,
   "metadata": {},
   "outputs": [],
   "source": [
    "# from iterative_sir.toy_examples_utils.toy_examples_utils import prepare_swissroll_data\n",
    "from iterative_sir.toy_examples_utils.gan_fc_models import (\n",
    "    Generator_fc, \n",
    "    Discriminator_fc,\n",
    "    )\n",
    "from iterative_sir.sampling_utils.visualization import (\n",
    "                           sample_fake_data,\n",
    "                           plot_discriminator_2d,\n",
    "                           mh_sampling_plot_2d,\n",
    "                           langevin_sampling_plot_2d,\n",
    "                           mala_sampling_plot_2d,\n",
    "                           plot_chain_metrics)\n",
    "from iterative_sir.sampling_utils.ebm_sampling import (\n",
    "                          langevin_sampling,\n",
    "                          gan_energy,\n",
    "                          IndependentNormal)\n",
    "\n",
    "from iterative_sir.sampling_utils.metrics import Evolution\n",
    "\n",
    "\n",
    "\n",
    "# import numpy as np\n",
    "# import random\n",
    "# from easydict import EasyDict as edict\n",
    "# from matplotlib import pyplot as plt\n",
    "# import torch, torch.nn as nn\n",
    "\n",
    "# from iterative_sir.toy_examples_utils.gan_fc_models import (Generator_fc, \n",
    "#                            Discriminator_fc)\n",
    "\n",
    "# from iterative_sir.sampling_utils.distributions import (\n",
    "#                            GaussianMixture, \n",
    "#                            IndependentNormal)\n",
    "\n",
    "# from iterative_sir.toy_examples_utils.params_25gaussians_wasserstein import (sigma,\n",
    "#                                 random_seed,\n",
    "#                                 train_dataset_size,\n",
    "#                                 n_dim,\n",
    "#                                 n_layers_d,\n",
    "#                                 n_layers_g,\n",
    "#                                 n_hid_d,\n",
    "#                                 n_hid_g,\n",
    "#                                 n_out,\n",
    "#                                 device)\n"
   ]
  },
  {
   "cell_type": "code",
   "execution_count": 4,
   "metadata": {},
   "outputs": [],
   "source": [
    "class Discriminator_fc(nn.Module):\n",
    "    def __init__(self,\n",
    "                 n_in = 2,\n",
    "                 n_layers = 4,\n",
    "                 n_hid = 100, \n",
    "                 non_linear = nn.ReLU(),\n",
    "                 scale=1.,\n",
    "                 device = 'cpu'):\n",
    "        super(Discriminator_fc, self).__init__()\n",
    "        self.non_linear = non_linear\n",
    "        self.device = device\n",
    "        self.n_hid = n_hid\n",
    "        self.n_in = n_in\n",
    "        self.scale = scale\n",
    "        layers = [nn.Linear(self.n_in, self.n_hid), non_linear]\n",
    "        for i in range(n_layers - 1):\n",
    "            layers.extend([nn.Linear(n_hid, n_hid), non_linear])\n",
    "        layers.append(nn.Linear(n_hid, 1))\n",
    "\n",
    "        self.calib_layer = None\n",
    "\n",
    "        self.layers = nn.Sequential(*layers)\n",
    "      \n",
    "    def forward(self, z):\n",
    "        z = z / self.scale**2.\n",
    "        z = self.layers.forward(z)\n",
    "        if self.calib_layer is not None:\n",
    "            z = self.calib_layer(z)\n",
    "        return z"
   ]
  },
  {
   "cell_type": "code",
   "execution_count": 56,
   "metadata": {},
   "outputs": [
    {
     "data": {
      "text/plain": [
       "OrderedDict([('layers.0.weight',\n",
       "              tensor([[ 1.8936e-01, -4.4166e-01],\n",
       "                      [-3.0581e-01,  3.1962e-01],\n",
       "                      [ 2.6588e-01,  2.9564e-01],\n",
       "                      [-2.2072e-01, -1.0617e-01],\n",
       "                      [-2.4420e-01,  2.0778e-01],\n",
       "                      [-2.9207e-01, -2.5469e-01],\n",
       "                      [-1.4416e-01, -7.2978e-02],\n",
       "                      [ 5.3835e-02, -4.7963e-01],\n",
       "                      [ 3.6328e-01, -3.5329e-01],\n",
       "                      [ 2.4915e-02, -2.3104e-01],\n",
       "                      [-3.5777e-01,  3.2897e-01],\n",
       "                      [-1.3668e-01, -4.9612e-01],\n",
       "                      [ 9.8228e-02,  1.0854e-03],\n",
       "                      [-3.5921e-01,  1.2615e-01],\n",
       "                      [-2.2254e-01,  2.7612e-01],\n",
       "                      [-1.8221e-01,  7.2743e-02],\n",
       "                      [ 4.9259e-01,  5.4218e-03],\n",
       "                      [ 1.1165e-01,  3.9565e-01],\n",
       "                      [ 6.6196e-03,  4.6916e-02],\n",
       "                      [ 6.5648e-02, -1.8553e-01],\n",
       "                      [ 3.8837e-01,  2.9408e-04],\n",
       "                      [-1.5457e-01, -3.8166e-01],\n",
       "                      [-1.1856e-01,  6.6485e-02],\n",
       "                      [-3.5386e-01, -1.6092e-01],\n",
       "                      [-1.0013e-01,  4.7054e-03],\n",
       "                      [ 2.8860e-02, -3.1344e-01],\n",
       "                      [-1.2202e-01,  3.6494e-01],\n",
       "                      [ 1.1906e-03,  4.3152e-01],\n",
       "                      [-2.5289e-02,  1.5841e-01],\n",
       "                      [ 2.2623e-01,  1.5666e-01],\n",
       "                      [-3.5083e-01,  3.1930e-02],\n",
       "                      [-2.0332e-02, -2.3452e-01],\n",
       "                      [ 5.5254e-01,  1.9572e-01],\n",
       "                      [-4.2856e-01, -2.0684e-01],\n",
       "                      [-6.1795e-02,  1.2090e-01],\n",
       "                      [ 3.7100e-01,  3.2683e-04],\n",
       "                      [ 3.8965e-01, -1.5876e-01],\n",
       "                      [-3.6931e-01,  2.8980e-01],\n",
       "                      [ 2.8398e-01,  2.2517e-04],\n",
       "                      [ 1.2514e-01,  3.1174e-01],\n",
       "                      [-2.7164e-01,  2.1313e-01],\n",
       "                      [-2.8712e-01, -1.3515e-01],\n",
       "                      [ 1.9688e-01,  7.7936e-02],\n",
       "                      [ 4.6950e-02,  2.0168e-01],\n",
       "                      [ 1.7521e-01, -1.2894e-01],\n",
       "                      [-7.1955e-02, -1.7926e-01],\n",
       "                      [-1.2710e-01,  3.3170e-01],\n",
       "                      [ 6.1194e-01,  1.9434e-01],\n",
       "                      [ 4.9215e-02, -4.4089e-01],\n",
       "                      [ 4.7968e-01,  2.6131e-01],\n",
       "                      [ 3.4585e-01,  4.5833e-01],\n",
       "                      [-2.2716e-01, -8.3980e-02],\n",
       "                      [ 1.7775e-01, -2.1484e-01],\n",
       "                      [ 4.2772e-01,  2.6730e-01],\n",
       "                      [ 1.8488e-01,  3.7977e-01],\n",
       "                      [-3.8944e-01, -2.0877e-01],\n",
       "                      [-1.6000e-01,  3.3736e-01],\n",
       "                      [-3.8347e-01,  1.5149e-01],\n",
       "                      [ 2.7306e-02,  3.8965e-01],\n",
       "                      [-3.1829e-01, -1.3839e-02],\n",
       "                      [-3.8076e-01,  1.5345e-01],\n",
       "                      [-1.9218e-01, -3.5383e-01],\n",
       "                      [-1.1781e-01,  3.0800e-01],\n",
       "                      [ 4.0185e-01,  3.3422e-04],\n",
       "                      [-3.6907e-01, -1.0976e-01],\n",
       "                      [ 1.6747e-01, -3.9531e-01],\n",
       "                      [-4.5526e-02,  1.4960e-01],\n",
       "                      [-3.9938e-02,  5.2339e-02],\n",
       "                      [-1.4320e-02,  3.5428e-01],\n",
       "                      [ 3.9496e-01,  1.9155e-01],\n",
       "                      [ 4.6323e-01, -2.7942e-01],\n",
       "                      [ 1.0742e-01, -2.6463e-01],\n",
       "                      [ 2.7163e-01, -1.7759e-01],\n",
       "                      [ 3.7751e-01, -3.8024e-01],\n",
       "                      [-1.1480e-01, -3.1579e-01],\n",
       "                      [ 4.6353e-01,  1.4359e-01],\n",
       "                      [ 3.3700e-01, -3.1303e-01],\n",
       "                      [ 6.1699e-02,  1.8992e-01],\n",
       "                      [ 3.4761e-01, -8.6380e-02],\n",
       "                      [-2.8840e-01, -1.0897e-01],\n",
       "                      [ 1.8301e-01,  3.7387e-01],\n",
       "                      [-3.8897e-01,  1.5332e-01],\n",
       "                      [ 1.0493e-01,  2.5684e-01],\n",
       "                      [-4.5756e-02,  1.9354e-01],\n",
       "                      [ 2.9985e-01,  1.2620e-01],\n",
       "                      [ 1.8584e-01, -4.0177e-01],\n",
       "                      [-3.8950e-01,  4.7364e-01],\n",
       "                      [-3.4187e-01, -5.3783e-01],\n",
       "                      [-2.5657e-01, -2.5716e-01],\n",
       "                      [-1.7638e-01, -4.1009e-01],\n",
       "                      [ 1.3019e-01,  5.1956e-02],\n",
       "                      [-3.0412e-01,  5.1121e-01],\n",
       "                      [-4.2240e-01, -4.0449e-01],\n",
       "                      [ 7.1523e-02,  2.8909e-03],\n",
       "                      [-3.3534e-01,  2.0289e-01],\n",
       "                      [-2.0088e-01,  3.4391e-01],\n",
       "                      [-2.4696e-01, -5.3858e-01],\n",
       "                      [-4.0014e-01,  1.4561e-01],\n",
       "                      [ 1.2168e-01,  1.3472e-01],\n",
       "                      [ 1.7461e-01, -3.0238e-01],\n",
       "                      [-1.4133e-01,  4.0340e-01],\n",
       "                      [-1.1609e-01, -2.8733e-01],\n",
       "                      [-8.3643e-02, -2.5033e-01],\n",
       "                      [-4.0995e-01,  1.7919e-01],\n",
       "                      [ 8.4196e-02,  2.1331e-01],\n",
       "                      [ 1.6166e-01, -3.9081e-01],\n",
       "                      [ 4.9765e-01,  1.6720e-01],\n",
       "                      [-2.7841e-01,  2.5410e-01],\n",
       "                      [ 1.6337e-01, -7.9129e-02],\n",
       "                      [-2.7322e-01, -1.1756e-02],\n",
       "                      [-1.3724e-01,  3.3829e-01],\n",
       "                      [-1.2385e-01,  3.0560e-01],\n",
       "                      [-4.3589e-01,  1.7245e-01],\n",
       "                      [-3.3332e-01,  4.1451e-04],\n",
       "                      [ 3.6602e-01, -2.4775e-01],\n",
       "                      [ 3.0197e-01,  1.2141e-01],\n",
       "                      [ 5.6675e-01,  2.0384e-01],\n",
       "                      [ 3.9348e-01,  1.5972e-01],\n",
       "                      [-1.0435e-01,  3.0113e-01],\n",
       "                      [-3.3920e-01,  4.1680e-01],\n",
       "                      [ 5.1504e-01, -3.7725e-01],\n",
       "                      [ 4.1920e-01,  2.9499e-04],\n",
       "                      [-2.2177e-01, -3.6006e-01],\n",
       "                      [ 5.7508e-02, -3.3224e-03],\n",
       "                      [ 3.2320e-01,  1.2974e-01],\n",
       "                      [ 1.3534e-01,  3.3827e-01],\n",
       "                      [ 1.0055e-01,  2.5254e-01],\n",
       "                      [-2.9712e-01, -3.5821e-01]])),\n",
       "             ('layers.0.bias',\n",
       "              tensor([ 0.0068,  0.6284,  0.2769,  0.4495,  0.1494,  0.1573,  0.2945, -0.2435,\n",
       "                       0.3398, -0.0939,  0.6626,  0.0875,  0.4813,  0.6977, -0.4391,  0.8034,\n",
       "                      -0.2004,  0.4946, -0.5907,  0.7326,  0.5370, -0.7758,  0.5583, -0.3099,\n",
       "                       0.8271,  0.4845,  0.0436,  0.8279,  0.7656, -0.5440,  0.4112,  0.3020,\n",
       "                      -0.4008, -0.0384,  0.2454,  0.5127, -0.0367,  0.1376,  0.3915,  0.0021,\n",
       "                       0.4303, -0.0179,  0.3950, -0.0500, -0.4353, -0.3648,  0.0256,  0.1080,\n",
       "                       0.6945, -0.1390,  0.7009, -0.4571, -0.4376, -0.1781, -0.2892,  0.3969,\n",
       "                       0.6818,  0.3133, -0.5264,  0.4581,  0.0214,  0.7013,  0.0181,  0.5558,\n",
       "                      -0.3727,  0.0253,  0.5212,  0.3192,  0.4876, -0.0818,  0.2401,  0.5282,\n",
       "                      -0.3633,  0.3340,  0.0099, -0.2953,  0.0169,  0.2690,  0.8726, -0.5794,\n",
       "                      -0.2833, -0.3201,  0.0137,  0.2254, -0.2600,  0.0188, -0.4014, -0.2062,\n",
       "                       0.5069,  0.8167,  0.8095, -0.2645, -0.4620,  0.4131,  0.0189,  0.3995,\n",
       "                      -0.0180, -0.1101,  0.4889,  0.3635,  0.0634, -0.5846,  0.0097,  0.0176,\n",
       "                       0.0135, -0.0318,  0.0618,  0.5128,  0.5925, -0.1966, -0.6877, -0.6213,\n",
       "                      -0.3591,  0.4867, -0.5054,  0.6064, -0.4172,  0.3179,  0.0332, -0.3606,\n",
       "                      -0.4301,  0.5801,  0.7144, -0.5598,  0.6485,  0.6769,  0.5035, -0.2805])),\n",
       "             ('layers.2.weight',\n",
       "              tensor([[-0.1687,  0.0781, -0.0305,  ...,  0.1764,  0.0546,  0.0126],\n",
       "                      [-0.1089, -0.0759, -0.4441,  ..., -0.1874, -0.2417,  0.2867],\n",
       "                      [ 0.2123,  0.0271,  0.2233,  ..., -0.0031,  0.0330,  0.2427],\n",
       "                      ...,\n",
       "                      [ 0.1025, -0.1400,  0.3994,  ..., -0.2723, -0.1480,  0.1862],\n",
       "                      [ 0.1178,  0.0054,  0.2707,  ..., -0.0487, -0.0193,  0.1193],\n",
       "                      [-0.0449, -0.0210, -0.0547,  ...,  0.0535, -0.0067,  0.1028]])),\n",
       "             ('layers.2.bias',\n",
       "              tensor([ 1.2491e-01, -9.9636e-02,  4.0332e-02,  2.0401e-02,  1.8323e-01,\n",
       "                       7.2008e-04,  5.2117e-02,  6.2626e-02, -2.8219e-02, -2.8653e-02,\n",
       "                       1.1450e-01,  4.3341e-02,  7.4757e-02,  4.6588e-02, -2.2292e-02,\n",
       "                      -4.1998e-02, -2.6367e-01, -8.4946e-02, -1.3302e-04,  1.4600e-01,\n",
       "                      -4.7629e-02,  1.0189e-01, -9.0331e-02,  4.9113e-02,  6.6547e-03,\n",
       "                      -8.9174e-03, -7.7751e-02,  1.0816e-01,  2.3796e-02,  1.5507e-01,\n",
       "                      -6.8540e-02, -1.0002e-02, -7.4748e-02,  1.6206e-01, -1.2168e-01,\n",
       "                       2.1991e-02, -6.0062e-02, -3.0687e-02,  2.3405e-02, -4.7314e-02,\n",
       "                       1.4799e-01,  1.4035e-01, -3.3445e-02, -5.3556e-02, -7.0667e-02,\n",
       "                       5.1698e-02,  2.7161e-02,  7.6734e-02, -1.9366e-02, -8.6799e-02,\n",
       "                      -3.9175e-03, -1.5398e-02,  2.2353e-02,  8.8333e-02, -1.5567e-02,\n",
       "                       1.2272e-02,  1.9882e-01, -1.4087e-01, -1.2077e-01,  9.6456e-02,\n",
       "                      -1.9555e-01,  3.3199e-02,  3.8985e-02, -7.3738e-02,  8.4973e-02,\n",
       "                       1.3700e-01,  4.6062e-02,  1.7825e-02,  1.3631e-02, -7.2120e-02,\n",
       "                       4.4917e-02, -1.2142e-02, -3.9259e-02, -9.5143e-03,  3.6930e-02,\n",
       "                      -6.8886e-02,  1.9886e-02,  2.1358e-01, -3.0655e-02, -8.6535e-02,\n",
       "                       8.1508e-02, -1.9568e-01,  9.9002e-02,  1.5017e-01, -7.8127e-02,\n",
       "                       9.5277e-02, -8.6925e-02,  5.2772e-02,  5.0949e-02, -3.0026e-02,\n",
       "                      -8.2798e-03, -1.3898e-01, -5.6384e-02,  1.8774e-01, -3.1651e-02,\n",
       "                       1.2735e-01, -2.5135e-01, -8.6625e-02, -1.8824e-02,  4.6242e-02,\n",
       "                      -1.7662e-01, -1.0310e-02,  6.4781e-02,  7.7404e-02,  1.0686e-01,\n",
       "                      -5.6545e-02,  3.4550e-02,  6.7515e-02,  3.4551e-02, -7.3705e-02,\n",
       "                      -1.5190e-03,  6.8389e-02, -5.9561e-02, -3.2741e-02, -7.7124e-03,\n",
       "                       1.2310e-01,  1.1184e-02,  1.4738e-01,  1.5074e-01, -1.3025e-01,\n",
       "                      -7.3423e-02, -3.1843e-02, -1.3578e-01, -5.2501e-02, -1.8767e-02,\n",
       "                      -8.4088e-03, -6.7653e-03, -2.4787e-02])),\n",
       "             ('layers.4.weight',\n",
       "              tensor([[-0.6031, -0.6158,  0.4965,  0.4797,  0.5625,  0.3159, -0.4576,  0.3548,\n",
       "                        0.4061,  0.6762,  0.3571,  0.0299,  0.4623,  0.3519,  0.3712,  0.0413,\n",
       "                       -1.0281,  0.0249, -0.4239,  0.5183,  0.2667, -0.3872, -0.3537,  0.5920,\n",
       "                       -0.4406, -0.4159, -0.4153,  0.3567,  0.0765, -1.0612, -0.3987,  0.6317,\n",
       "                       -0.4101, -1.0641, -0.4565,  0.0278,  0.0467,  0.3682,  0.3941, -0.0586,\n",
       "                        0.4776,  0.6924,  0.3848,  0.3768,  0.0108,  0.4495,  0.5531,  0.3798,\n",
       "                       -0.4441, -0.4349, -0.0690,  0.2854,  0.6289,  0.3361,  0.4040,  0.0341,\n",
       "                        0.4697, -0.4512, -0.4661,  0.3926, -1.0138,  0.2196, -1.0120, -0.4561,\n",
       "                       -0.4786,  0.4552, -0.3773,  0.2883,  0.4232, -0.0546, -0.3040, -0.3467,\n",
       "                        0.4036, -0.4899,  0.5066, -0.3637,  0.3535, -1.0178, -0.4495, -0.3423,\n",
       "                        0.5762, -1.0364,  0.4805,  0.3078, -0.4391,  0.2645,  0.0688, -0.4170,\n",
       "                       -0.3861,  0.7297,  0.0778, -0.3838, -0.4049,  0.4924,  0.3986,  0.3974,\n",
       "                       -1.0608, -0.3345, -0.4299, -0.0559, -1.0992,  0.3503, -0.0574,  0.3427,\n",
       "                        0.7271,  0.0637,  0.4998,  0.6810,  0.4304, -0.3740,  0.0046, -0.0176,\n",
       "                       -0.9796, -0.0697, -0.3879,  0.4415,  0.4050,  0.3977,  0.5766, -0.3791,\n",
       "                        0.0120, -0.3409, -0.4163,  0.3222, -0.4336,  0.3693,  0.3857,  0.1007]])),\n",
       "             ('layers.4.bias', tensor([0.0442]))])"
      ]
     },
     "execution_count": 56,
     "metadata": {},
     "output_type": "execute_result"
    }
   ],
   "source": [
    "D.state_dict()"
   ]
  },
  {
   "cell_type": "code",
   "execution_count": 54,
   "metadata": {},
   "outputs": [],
   "source": [
    "D.layers[0].weight.data = D.layers[0].weight.data / scale**2"
   ]
  },
  {
   "cell_type": "code",
   "execution_count": 55,
   "metadata": {},
   "outputs": [
    {
     "data": {
      "text/plain": [
       "Parameter containing:\n",
       "tensor([[ 1.8936e-01, -4.4166e-01],\n",
       "        [-3.0581e-01,  3.1962e-01],\n",
       "        [ 2.6588e-01,  2.9564e-01],\n",
       "        [-2.2072e-01, -1.0617e-01],\n",
       "        [-2.4420e-01,  2.0778e-01],\n",
       "        [-2.9207e-01, -2.5469e-01],\n",
       "        [-1.4416e-01, -7.2978e-02],\n",
       "        [ 5.3835e-02, -4.7963e-01],\n",
       "        [ 3.6328e-01, -3.5329e-01],\n",
       "        [ 2.4915e-02, -2.3104e-01],\n",
       "        [-3.5777e-01,  3.2897e-01],\n",
       "        [-1.3668e-01, -4.9612e-01],\n",
       "        [ 9.8228e-02,  1.0854e-03],\n",
       "        [-3.5921e-01,  1.2615e-01],\n",
       "        [-2.2254e-01,  2.7612e-01],\n",
       "        [-1.8221e-01,  7.2743e-02],\n",
       "        [ 4.9259e-01,  5.4218e-03],\n",
       "        [ 1.1165e-01,  3.9565e-01],\n",
       "        [ 6.6196e-03,  4.6916e-02],\n",
       "        [ 6.5648e-02, -1.8553e-01],\n",
       "        [ 3.8837e-01,  2.9408e-04],\n",
       "        [-1.5457e-01, -3.8166e-01],\n",
       "        [-1.1856e-01,  6.6485e-02],\n",
       "        [-3.5386e-01, -1.6092e-01],\n",
       "        [-1.0013e-01,  4.7054e-03],\n",
       "        [ 2.8860e-02, -3.1344e-01],\n",
       "        [-1.2202e-01,  3.6494e-01],\n",
       "        [ 1.1906e-03,  4.3152e-01],\n",
       "        [-2.5289e-02,  1.5841e-01],\n",
       "        [ 2.2623e-01,  1.5666e-01],\n",
       "        [-3.5083e-01,  3.1930e-02],\n",
       "        [-2.0332e-02, -2.3452e-01],\n",
       "        [ 5.5254e-01,  1.9572e-01],\n",
       "        [-4.2856e-01, -2.0684e-01],\n",
       "        [-6.1795e-02,  1.2090e-01],\n",
       "        [ 3.7100e-01,  3.2683e-04],\n",
       "        [ 3.8965e-01, -1.5876e-01],\n",
       "        [-3.6931e-01,  2.8980e-01],\n",
       "        [ 2.8398e-01,  2.2517e-04],\n",
       "        [ 1.2514e-01,  3.1174e-01],\n",
       "        [-2.7164e-01,  2.1313e-01],\n",
       "        [-2.8712e-01, -1.3515e-01],\n",
       "        [ 1.9688e-01,  7.7936e-02],\n",
       "        [ 4.6950e-02,  2.0168e-01],\n",
       "        [ 1.7521e-01, -1.2894e-01],\n",
       "        [-7.1955e-02, -1.7926e-01],\n",
       "        [-1.2710e-01,  3.3170e-01],\n",
       "        [ 6.1194e-01,  1.9434e-01],\n",
       "        [ 4.9215e-02, -4.4089e-01],\n",
       "        [ 4.7968e-01,  2.6131e-01],\n",
       "        [ 3.4585e-01,  4.5833e-01],\n",
       "        [-2.2716e-01, -8.3980e-02],\n",
       "        [ 1.7775e-01, -2.1484e-01],\n",
       "        [ 4.2772e-01,  2.6730e-01],\n",
       "        [ 1.8488e-01,  3.7977e-01],\n",
       "        [-3.8944e-01, -2.0877e-01],\n",
       "        [-1.6000e-01,  3.3736e-01],\n",
       "        [-3.8347e-01,  1.5149e-01],\n",
       "        [ 2.7306e-02,  3.8965e-01],\n",
       "        [-3.1829e-01, -1.3839e-02],\n",
       "        [-3.8076e-01,  1.5345e-01],\n",
       "        [-1.9218e-01, -3.5383e-01],\n",
       "        [-1.1781e-01,  3.0800e-01],\n",
       "        [ 4.0185e-01,  3.3422e-04],\n",
       "        [-3.6907e-01, -1.0976e-01],\n",
       "        [ 1.6747e-01, -3.9531e-01],\n",
       "        [-4.5526e-02,  1.4960e-01],\n",
       "        [-3.9938e-02,  5.2339e-02],\n",
       "        [-1.4320e-02,  3.5428e-01],\n",
       "        [ 3.9496e-01,  1.9155e-01],\n",
       "        [ 4.6323e-01, -2.7942e-01],\n",
       "        [ 1.0742e-01, -2.6463e-01],\n",
       "        [ 2.7163e-01, -1.7759e-01],\n",
       "        [ 3.7751e-01, -3.8024e-01],\n",
       "        [-1.1480e-01, -3.1579e-01],\n",
       "        [ 4.6353e-01,  1.4359e-01],\n",
       "        [ 3.3700e-01, -3.1303e-01],\n",
       "        [ 6.1699e-02,  1.8992e-01],\n",
       "        [ 3.4761e-01, -8.6380e-02],\n",
       "        [-2.8840e-01, -1.0897e-01],\n",
       "        [ 1.8301e-01,  3.7387e-01],\n",
       "        [-3.8897e-01,  1.5332e-01],\n",
       "        [ 1.0493e-01,  2.5684e-01],\n",
       "        [-4.5756e-02,  1.9354e-01],\n",
       "        [ 2.9985e-01,  1.2620e-01],\n",
       "        [ 1.8584e-01, -4.0177e-01],\n",
       "        [-3.8950e-01,  4.7364e-01],\n",
       "        [-3.4187e-01, -5.3783e-01],\n",
       "        [-2.5657e-01, -2.5716e-01],\n",
       "        [-1.7638e-01, -4.1009e-01],\n",
       "        [ 1.3019e-01,  5.1956e-02],\n",
       "        [-3.0412e-01,  5.1121e-01],\n",
       "        [-4.2240e-01, -4.0449e-01],\n",
       "        [ 7.1523e-02,  2.8909e-03],\n",
       "        [-3.3534e-01,  2.0289e-01],\n",
       "        [-2.0088e-01,  3.4391e-01],\n",
       "        [-2.4696e-01, -5.3858e-01],\n",
       "        [-4.0014e-01,  1.4561e-01],\n",
       "        [ 1.2168e-01,  1.3472e-01],\n",
       "        [ 1.7461e-01, -3.0238e-01],\n",
       "        [-1.4133e-01,  4.0340e-01],\n",
       "        [-1.1609e-01, -2.8733e-01],\n",
       "        [-8.3643e-02, -2.5033e-01],\n",
       "        [-4.0995e-01,  1.7919e-01],\n",
       "        [ 8.4196e-02,  2.1331e-01],\n",
       "        [ 1.6166e-01, -3.9081e-01],\n",
       "        [ 4.9765e-01,  1.6720e-01],\n",
       "        [-2.7841e-01,  2.5410e-01],\n",
       "        [ 1.6337e-01, -7.9129e-02],\n",
       "        [-2.7322e-01, -1.1756e-02],\n",
       "        [-1.3724e-01,  3.3829e-01],\n",
       "        [-1.2385e-01,  3.0560e-01],\n",
       "        [-4.3589e-01,  1.7245e-01],\n",
       "        [-3.3332e-01,  4.1451e-04],\n",
       "        [ 3.6602e-01, -2.4775e-01],\n",
       "        [ 3.0197e-01,  1.2141e-01],\n",
       "        [ 5.6675e-01,  2.0384e-01],\n",
       "        [ 3.9348e-01,  1.5972e-01],\n",
       "        [-1.0435e-01,  3.0113e-01],\n",
       "        [-3.3920e-01,  4.1680e-01],\n",
       "        [ 5.1504e-01, -3.7725e-01],\n",
       "        [ 4.1920e-01,  2.9499e-04],\n",
       "        [-2.2177e-01, -3.6006e-01],\n",
       "        [ 5.7508e-02, -3.3224e-03],\n",
       "        [ 3.2320e-01,  1.2974e-01],\n",
       "        [ 1.3534e-01,  3.3827e-01],\n",
       "        [ 1.0055e-01,  2.5254e-01],\n",
       "        [-2.9712e-01, -3.5821e-01]], requires_grad=True)"
      ]
     },
     "execution_count": 55,
     "metadata": {},
     "output_type": "execute_result"
    }
   ],
   "source": [
    "D.layers[0].weight"
   ]
  },
  {
   "cell_type": "code",
   "execution_count": null,
   "metadata": {},
   "outputs": [],
   "source": [
    "torch.save(D.state_dict(), '../dump/2d_ring/2022_01_14-15_27_39_None/models/400_discriminator_scaled.pth')"
   ]
  },
  {
   "cell_type": "code",
   "execution_count": 5,
   "metadata": {},
   "outputs": [],
   "source": [
    "import seaborn as sns\n",
    "sns.set_theme(style=\"ticks\", palette=\"deep\")"
   ]
  },
  {
   "cell_type": "code",
   "execution_count": 6,
   "metadata": {},
   "outputs": [],
   "source": [
    "from pathlib import Path\n",
    "\n",
    "figpath = Path('../figs')\n",
    "\n",
    "assert figpath.exists()"
   ]
  },
  {
   "cell_type": "code",
   "execution_count": 7,
   "metadata": {},
   "outputs": [],
   "source": [
    "import itertools\n",
    "\n",
    "def prepare_2d_ring_data(batch_size=500,\n",
    "                        sigma=0.01,\n",
    "                        rad=2,\n",
    "                        random_seed=42):\n",
    "    dataset = []\n",
    "    rad = 2\n",
    "    for i in range(batch_size//8):\n",
    "        for j in range(8):\n",
    "            phi = 2 * np.pi * (j / 8.)\n",
    "            x = rad * np.cos(phi)\n",
    "            y = rad * np.sin(phi)\n",
    "            point = np.random.randn(2)*sigma\n",
    "            point[0] += x\n",
    "            point[1] += y\n",
    "            dataset.append(point)\n",
    "    dataset = np.array(dataset, dtype=np.float32)\n",
    "\n",
    "    means = np.array([\n",
    "        [\n",
    "            rad * np.cos(2 * np.pi * (j / 8.)), \n",
    "            rad * np.sin(2 * np.pi * (j / 8.))\n",
    "        ] for j in range(8)])\n",
    "\n",
    "    return dataset, means"
   ]
  },
  {
   "cell_type": "code",
   "execution_count": 44,
   "metadata": {},
   "outputs": [],
   "source": [
    "from sklearn.preprocessing import StandardScaler\n",
    "\n",
    "random_seed = 42\n",
    "train_dataset_size = 5000\n",
    "\n",
    "torch.manual_seed(random_seed)\n",
    "np.random.seed(random_seed)\n",
    "random.seed(random_seed)\n",
    "\n",
    "X_train, means = prepare_2d_ring_data(train_dataset_size,\n",
    "                                         0.02,#sigma / 2., \n",
    "                                         random_seed)\n",
    "\n",
    "scaler = StandardScaler()\n",
    "X_train_std = scaler.fit_transform(X_train)\n",
    "scale = scaler.scale_[0]\n",
    "scaler = None"
   ]
  },
  {
   "cell_type": "code",
   "execution_count": 42,
   "metadata": {},
   "outputs": [
    {
     "data": {
      "text/plain": [
       "1.414196804223976"
      ]
     },
     "execution_count": 42,
     "metadata": {},
     "output_type": "execute_result"
    }
   ],
   "source": [
    "scale"
   ]
  },
  {
   "cell_type": "code",
   "execution_count": 9,
   "metadata": {},
   "outputs": [],
   "source": [
    "device = 'cpu'\n",
    "\n",
    "G = Generator_fc(n_dim=256, #n_dim, \n",
    "                 n_layers=2, #n_layers_g,\n",
    "                 n_hid=128, #n_hid_g,\n",
    "                 n_out=2, #n_out,\n",
    "                 non_linear=nn.ReLU(),\n",
    "                 device=device)\n",
    "D = Discriminator_fc(n_in=2, #n_dim, \n",
    "                     n_layers=2, #n_layers_d,\n",
    "                     n_hid=128, #n_hid_d,\n",
    "                     non_linear=nn.ReLU(),\n",
    "                     scale=scale,\n",
    "                     device=device)"
   ]
  },
  {
   "cell_type": "code",
   "execution_count": 51,
   "metadata": {},
   "outputs": [
    {
     "data": {
      "text/plain": [
       "PosixPath('../dump/2d_ring/2022_01_14-15_27_39_None/models/400_discriminator.pth')"
      ]
     },
     "execution_count": 51,
     "metadata": {},
     "output_type": "execute_result"
    }
   ],
   "source": [
    "dics_path"
   ]
  },
  {
   "cell_type": "code",
   "execution_count": 50,
   "metadata": {},
   "outputs": [],
   "source": [
    "models_2d_path = Path(sorted(Path('../dump/2d_ring').glob('*'))[-1], 'models') #/models/models_100gaussians'\n",
    "\n",
    "dics_path = sorted(Path(models_2d_path).glob('350_discriminator.pth'))[0]#[-6]\n",
    "gen_path = sorted(Path(models_2d_path).glob('350_generator.pth'))[0]#[-6]\n",
    "\n",
    "train_step = 400\n",
    "dics_path = sorted(Path(models_2d_path).glob(f'{train_step}_discriminator.pth'))[0]#[-6]\n",
    "gen_path = sorted(Path(models_2d_path).glob(f'{train_step}_generator.pth'))[0]#[-6]\n",
    "\n",
    "G.load_state_dict(torch.load(gen_path, map_location=device))\n",
    "D.load_state_dict(torch.load(dics_path, map_location=device))\n",
    "\n",
    "G = G.to(device)\n",
    "D = D.to(device)\n",
    "G.eval()\n",
    "D.eval()\n",
    "G.z_dim = G.n_dim"
   ]
  },
  {
   "cell_type": "code",
   "execution_count": 21,
   "metadata": {},
   "outputs": [],
   "source": [
    "n_dim = G.n_dim\n",
    "n_out = 2\n",
    "loc = torch.zeros(n_dim).to(G.device)\n",
    "scale = torch.ones(n_dim).to(G.device)\n",
    "normalize_to_0_1 = True \n",
    "log_prob = True\n",
    "\n",
    "proposal_args = edict()\n",
    "proposal_args.device = device\n",
    "proposal_args.loc = loc\n",
    "proposal_args.scale = scale\n",
    "proposal = IndependentNormal(dim=n_dim, **proposal_args)\n",
    "\n",
    "target = partial(gan_energy, \n",
    "                     generator = G, \n",
    "                     discriminator = D, \n",
    "                     proposal = proposal,\n",
    "                     normalize_to_0_1 = normalize_to_0_1,\n",
    "                     log_prob = log_prob)"
   ]
  },
  {
   "cell_type": "code",
   "execution_count": 22,
   "metadata": {},
   "outputs": [],
   "source": [
    "evols = dict()"
   ]
  },
  {
   "cell_type": "code",
   "execution_count": 23,
   "metadata": {},
   "outputs": [],
   "source": [
    "batch_size = 1000 #25 #5000\n",
    "n_steps = 800\n",
    "every = 200"
   ]
  },
  {
   "cell_type": "code",
   "execution_count": 24,
   "metadata": {},
   "outputs": [
    {
     "name": "stderr",
     "output_type": "stream",
     "text": [
      "100%|██████████| 1/1 [00:08<00:00,  8.39s/it]\n"
     ]
    }
   ],
   "source": [
    "target_sample = X_train[np.random.choice(np.arange(X_train.shape[0]), 1000)]\n",
    "\n",
    "grad_step = 1e-1 #3e-3\n",
    "eps_scale = (grad_step * 2) ** 0.5\n",
    "\n",
    "z_last_np, zs = langevin_sampling(target,\n",
    "                               proposal,  \n",
    "                               batch_size=batch_size,\n",
    "                               n = batch_size,\n",
    "                               grad_step = grad_step,\n",
    "                               eps_scale = eps_scale,\n",
    "                               n_steps = n_steps)\n",
    "\n",
    "n_chunks = len(zs[0]) // every\n",
    "#\n",
    "zs_gen = zs #.reshape(batch_size, n_chunks, -1, zs.shape[-1])\n",
    "\n",
    "Xs_gen = G(torch.FloatTensor(zs_gen).to(device)).detach().cpu().numpy()[0].transpose(1, 0, 2)\n",
    "#Xs_gen = scaler.inverse_transform(Xs_gen.reshape(-1, Xs_gen.shape[-1])).reshape(Xs_gen.shape)\n",
    "\n",
    "# evol = defaultdict(list)\n",
    "# for X_gen in Xs_gen:\n",
    "#     evolution = Evolution(target_sample) #,\n",
    "#                      # target_log_prob=target)\n",
    "#     for chunk in X_gen:\n",
    "#         evolution.invoke(torch.FloatTensor(chunk))\n",
    "#     evol_ = evolution.as_dict()\n",
    "#     for k, v in evol_.items():\n",
    "#         evol[k].append(v)\n",
    "\n",
    "# for k, v in evol.items():\n",
    "#     evol[k] = (np.mean(np.array(v), 0), np.std(np.array(v), 0, ddof=1) / np.sqrt(batch_size))\n",
    "# evols['ULA'] = evol"
   ]
  },
  {
   "cell_type": "code",
   "execution_count": 25,
   "metadata": {},
   "outputs": [
    {
     "data": {
      "text/plain": [
       "(1000, 801, 2)"
      ]
     },
     "execution_count": 25,
     "metadata": {},
     "output_type": "execute_result"
    }
   ],
   "source": [
    "Xs_gen.shape"
   ]
  },
  {
   "cell_type": "code",
   "execution_count": 26,
   "metadata": {},
   "outputs": [],
   "source": [
    "# Xs_batch = Xs_gen.reshape(batch_size, -1, 2)"
   ]
  },
  {
   "cell_type": "code",
   "execution_count": 27,
   "metadata": {},
   "outputs": [],
   "source": [
    "#plot_chain_metrics(evols)"
   ]
  },
  {
   "cell_type": "code",
   "execution_count": 28,
   "metadata": {},
   "outputs": [],
   "source": [
    "import scipy.stats\n",
    "\n",
    "mesh = np.meshgrid(np.linspace(-2.2, 2.2, 100), np.linspace(-2.2, 2.2, 100))\n",
    "mesh_np = np.stack(mesh, -1).reshape(-1, 2)\n",
    "\n",
    "kde = scipy.stats.gaussian_kde(X_train.transpose(1, 0))\n",
    "vals = kde(mesh_np.transpose(1, 0))\n",
    "vals_grid = vals.reshape(100, 100)\n",
    "mesh = mesh_np.reshape(100, 100, 2)"
   ]
  },
  {
   "cell_type": "code",
   "execution_count": 29,
   "metadata": {},
   "outputs": [
    {
     "data": {
      "image/png": "[encoded data removed]",
      "text/plain": [
       "<Figure size 360x360 with 1 Axes>"
      ]
     },
     "metadata": {},
     "output_type": "display_data"
    }
   ],
   "source": [
    "zs = proposal.sample((5000,))\n",
    "xs_normalized = G(zs).detach().numpy()\n",
    "xs = xs_normalized #scaler.inverse_transform(xs_normalized)\n",
    "\n",
    "fig = plt.figure(figsize=(5,5))\n",
    "ax = fig.add_subplot(111)\n",
    "\n",
    "ax.contourf(mesh[..., 0], mesh[..., 1], vals_grid, alpha=0.6, cmap='Greens')\n",
    "ax.scatter(xs[:, 0], xs[:, 1], s=3)\n",
    "ax.set_aspect('equal')\n",
    "plt.xlim(-2.2, 2.2)\n",
    "plt.ylim(-2.2, 2.2)\n",
    "plt.grid()\n",
    "plt.title('Points produced by Generator')\n",
    "plt.savefig(Path('../figs/2d_grid', f'gen_{train_step}.png'))"
   ]
  },
  {
   "cell_type": "code",
   "execution_count": 36,
   "metadata": {},
   "outputs": [
    {
     "data": {
      "text/plain": [
       "tensor([[-1.6225,  0.0496],\n",
       "        [-1.6225,  0.0496],\n",
       "        [-1.6225,  0.0496],\n",
       "        [-1.6225,  0.0496],\n",
       "        [-1.6225,  0.0496],\n",
       "        [-1.6225,  0.0496],\n",
       "        [-1.6225,  0.0496],\n",
       "        [-1.6225,  0.0496],\n",
       "        [-1.6225,  0.0496],\n",
       "        [-1.6225,  0.0496]], grad_fn=<AddmmBackward>)"
      ]
     },
     "execution_count": 36,
     "metadata": {},
     "output_type": "execute_result"
    }
   ],
   "source": [
    "G(torch.ones(10, G.z_dim) * 0)"
   ]
  },
  {
   "cell_type": "code",
   "execution_count": null,
   "metadata": {},
   "outputs": [
    {
     "data": {
      "image/png": "[encoded data removed]",
      "text/plain": [
       "<Figure size 360x360 with 1 Axes>"
      ]
     },
     "metadata": {},
     "output_type": "display_data"
    }
   ],
   "source": [
    "# zs = proposal.sample((5000,))\n",
    "# xs_normalized = G(zs).detach().numpy()\n",
    "# xs = xs_normalized #scaler.inverse_transform(xs_normalized)\n",
    "import matplotlib\n",
    "matplotlib.use('Agg')\n",
    "import matplotlib.pyplot as plt\n",
    "import matplotlib.animation\n",
    "import numpy as np\n",
    "\n",
    "def init_animation():\n",
    "    global scat\n",
    "    ax.scatter(Xs_gen[:, 0, 0], Xs_gen[:, 0, 1], s=3)\n",
    "\n",
    "def animate(i):\n",
    "    ax.clear()\n",
    "    ax.contourf(mesh[..., 0], mesh[..., 1], vals_grid, alpha=0.6, cmap='Greens')\n",
    "    ax.set_aspect('equal')\n",
    "    plt.xlim(-2.2, 2.2)\n",
    "    plt.ylim(-2.2, 2.2)\n",
    "    plt.grid()\n",
    "    ax.scatter(Xs_gen[:, 10*i, 0], Xs_gen[:, 10*i, 1], s=3)\n",
    "    return\n",
    "\n",
    "fig = plt.figure(figsize=(5,5))\n",
    "ax = fig.add_subplot(111)\n",
    "ax.contourf(mesh[..., 0], mesh[..., 1], vals_grid, alpha=0.6, cmap='Greens')\n",
    "ax.set_aspect('equal')\n",
    "plt.xlim(-2.2, 2.2)\n",
    "plt.ylim(-2.2, 2.2)\n",
    "plt.grid()\n",
    "plt.title('Points produced with Langevin')\n",
    "\n",
    "ani = matplotlib.animation.FuncAnimation(fig, animate, init_func=init_animation, frames=80)\n",
    "ani.save(f'../figs/2d_grid/ula_{grad_step}_{train_step}.gif', writer='imagemagick', fps=30)\n",
    "\n",
    "# plt.savefig(Path('../figs/2d_grid', 'ula_0.01.png'))"
   ]
  },
  {
   "cell_type": "code",
   "execution_count": null,
   "metadata": {},
   "outputs": [],
   "source": []
  }
 ],
 "metadata": {
  "interpreter": {
   "hash": "011ea3764c82496f92e97a161e3e74757278f22e20ef41af1f87f741c2fcb343"
  },
  "kernelspec": {
   "display_name": "Python 3.8.11 64-bit ('ex2mcmc': conda)",
   "language": "python",
   "name": "python3"
  },
  "language_info": {
   "codemirror_mode": {
    "name": "ipython",
    "version": 3
   },
   "file_extension": ".py",
   "mimetype": "text/x-python",
   "name": "python",
   "nbconvert_exporter": "python",
   "pygments_lexer": "ipython3",
   "version": "3.8.11"
  },
  "orig_nbformat": 4
 },
 "nbformat": 4,
 "nbformat_minor": 2
}
