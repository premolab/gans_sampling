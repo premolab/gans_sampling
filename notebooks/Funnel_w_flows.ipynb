{
 "cells": [
  {
   "cell_type": "markdown",
   "metadata": {},
   "source": [
    "# Funnel distribution"
   ]
  },
  {
   "cell_type": "code",
   "execution_count": 1,
   "metadata": {},
   "outputs": [],
   "source": [
    "%load_ext autoreload\n",
    "%autoreload 2"
   ]
  },
  {
   "cell_type": "code",
   "execution_count": 2,
   "metadata": {},
   "outputs": [],
   "source": [
    "import os, sys\n",
    "cwd = os.getcwd()\n",
    "\n",
    "api_path_toy = os.path.join(cwd, '..', 'tools', 'toy_examples_utils')\n",
    "#api_path_sir = os.path.join(cwd, '..', 'tools', 'sir_ais_sampling')\n",
    "models_2d_path = os.path.join(cwd, '..', 'models_25gaussians', 'jensen_minimax')\n",
    "#models_2d_path = os.path.join(cwd, '..', 'models_25gaussians', 'wasserstein')\n",
    "sys.path.append(api_path_toy)\n",
    "#sys.path.append(api_path_sir)\n",
    "sys.path.append(os.path.join(cwd, '..', 'tools', 'sampling_utils'))"
   ]
  },
  {
   "cell_type": "code",
   "execution_count": 3,
   "metadata": {},
   "outputs": [],
   "source": [
    "import numpy as np\n",
    "import sklearn.datasets\n",
    "import time\n",
    "import random\n",
    "import glob\n",
    "import importlib\n",
    "from tqdm import tqdm\n",
    "\n",
    "import pyro\n",
    "from pyro.infer import MCMC, NUTS, HMC\n",
    "from functools import partial\n",
    "import ot\n",
    "\n",
    "\n",
    "import matplotlib.pyplot as plt\n",
    "import matplotlib.colors as mcolors\n",
    "\n",
    "import torch, torch.nn as nn\n",
    "import torch.nn.functional as F\n",
    "\n",
    "from torch import autograd\n",
    "from torch.distributions import MultivariateNormal, Normal, Independent, Uniform\n",
    "\n",
    "from toy_examples_utils import (prepare_25gaussian_data, \n",
    "                   prepare_swissroll_data,\n",
    "                   prepare_gaussians,\n",
    "                   prepare_train_batches,\n",
    "                   prepare_dataloader,\n",
    "                   logging)\n",
    "from gan_fc_models import (Generator_fc, \n",
    "                           Discriminator_fc, \n",
    "                           weights_init_1, \n",
    "                           weights_init_2)\n",
    "from visualization import (send_file_to_remote,\n",
    "                           sample_fake_data,\n",
    "                           plot_fake_data_mode,\n",
    "                           plot_fake_data_projection,\n",
    "                           plot_discriminator_2d,\n",
    "                           plot_potential_energy,\n",
    "                           mh_sampling_plot_2d,\n",
    "                           langevin_sampling_plot_2d,\n",
    "                           mala_sampling_plot_2d,\n",
    "                           #xtry_langevin_sampling_plot_2d,\n",
    "                           epoch_visualization,\n",
    "                           plot_chain_metrics)\n",
    "from mh_sampling import mh_sampling\n",
    "from ebm_sampling import (langevin_sampling, \n",
    "                          mala_sampling,\n",
    "                          #xtry_langevin_sampling,\n",
    "                          tempered_transitions_sampling,\n",
    "                          gan_energy)\n",
    "\n",
    "from adaptive_mc import adaptive_sir_correlated_dynamics, ex2_mcmc_mala\n",
    "from adaptive_sir_loss import *\n",
    "\n",
    "from flows import RNVP\n",
    "\n",
    "\n",
    "from distributions import (Target, \n",
    "                           Gaussian_mixture, \n",
    "                           IndependentNormal,\n",
    "                           init_independent_normal, \n",
    "                           Funnel,\n",
    "                          Banana, Cauchy)\n",
    "\n",
    "from params_25gaussians import (sigma,\n",
    "                                random_seed,\n",
    "                                train_dataset_size,\n",
    "                                n_dim,\n",
    "                                n_layers_d,\n",
    "                                n_layers_g,\n",
    "                                n_hid_d,\n",
    "                                n_hid_g,\n",
    "                                n_out,\n",
    "                                device)\n",
    "\n",
    "from general_utils import DotDict\n",
    "\n",
    "from metrics import Evolution"
   ]
  },
  {
   "cell_type": "code",
   "execution_count": 4,
   "metadata": {},
   "outputs": [],
   "source": [
    "from pathlib import Path\n",
    "figpath = Path('../figs')"
   ]
  },
  {
   "cell_type": "code",
   "execution_count": null,
   "metadata": {},
   "outputs": [],
   "source": []
  },
  {
   "cell_type": "code",
   "execution_count": null,
   "metadata": {},
   "outputs": [],
   "source": []
  },
  {
   "cell_type": "code",
   "execution_count": null,
   "metadata": {},
   "outputs": [],
   "source": []
  },
  {
   "cell_type": "code",
   "execution_count": 5,
   "metadata": {},
   "outputs": [],
   "source": [
    "target_args = DotDict()\n",
    "n_dim = 32\n",
    "target_args.device = device\n",
    "target_args.dim = n_dim\n",
    "target_args.Q =.2\n",
    "true_target = Banana(target_args).log_prob\n",
    "\n",
    "\n",
    "loc_proposal = 2.+torch.zeros(n_dim).to(device)\n",
    "scale_proposal = 3*torch.ones(n_dim).to(device)\n",
    "proposal_args = DotDict()\n",
    "proposal_args.device = device\n",
    "proposal_args.loc = loc_proposal\n",
    "proposal_args.scale = scale_proposal\n",
    "proposal = IndependentNormal(proposal_args)"
   ]
  },
  {
   "cell_type": "code",
   "execution_count": 6,
   "metadata": {},
   "outputs": [],
   "source": [
    "true_target_energy = lambda z: - true_target(z)\n"
   ]
  },
  {
   "cell_type": "code",
   "execution_count": 7,
   "metadata": {},
   "outputs": [],
   "source": [
    "def plot_hist(samples, title = 'Histogram', bins=200, \n",
    "              gamma=0.5, ax_lims = [(-2,9), (-2,4)],\n",
    "              save_path = 'pics/histogram_test.pdf', density = True):\n",
    "    plt.close()\n",
    "    plt.figure(figsize=(5, 5), dpi=300)\n",
    "    plt.hist2d(samples[:,0], samples[:,1],bins=bins, density=density, range=[ax_lims[0], ax_lims[1]],norm=mcolors.PowerNorm(gamma))\n",
    "    plt.title(title)\n",
    "    plt.axis('off')\n",
    "    plt.xlim((ax_lims[0][0], ax_lims[0][1]))\n",
    "    plt.ylim((ax_lims[1][0], ax_lims[1][1]))\n",
    "    plt.savefig(save_path, bbox_inches='tight')\n",
    "    plt.show() "
   ]
  },
  {
   "cell_type": "code",
   "execution_count": 8,
   "metadata": {},
   "outputs": [],
   "source": [
    "### True target"
   ]
  },
  {
   "cell_type": "code",
   "execution_count": 9,
   "metadata": {},
   "outputs": [
    {
     "name": "stderr",
     "output_type": "stream",
     "text": [
      "Sample: 100%|██████████| 2000/2000 [02:15, 14.76it/s, step size=8.08e-02, acc. prob=0.870]\n"
     ]
    }
   ],
   "source": [
    "from pyro.infer import MCMC, NUTS, HMC\n",
    "\n",
    "def energy(z):\n",
    "    z = z['points']\n",
    "    return true_target_energy(z).sum()\n",
    "\n",
    "\n",
    "#kernel = HMC(potential_fn=energy, step_size = 0.1, num_steps = K, full_mass = False)\n",
    "kernel_true = NUTS(potential_fn=energy, full_mass = False)\n",
    "init_samples = proposal.sample((1,))\n",
    "\n",
    "init_params = {'points': init_samples}\n",
    "mcmc_true = MCMC(kernel=kernel_true, num_samples = 1000, initial_params=init_params)\n",
    "mcmc_true.run()\n",
    "\n",
    "q_true = mcmc_true.get_samples(group_by_chain=True)[\"points\"].squeeze()"
   ]
  },
  {
   "cell_type": "code",
   "execution_count": null,
   "metadata": {},
   "outputs": [],
   "source": []
  },
  {
   "cell_type": "code",
   "execution_count": 10,
   "metadata": {},
   "outputs": [
    {
     "data": {
      "image/png": "[encoded data removed]",
      "text/plain": [
       "<Figure size 1500x1500 with 1 Axes>"
      ]
     },
     "metadata": {
      "needs_background": "light"
     },
     "output_type": "display_data"
    }
   ],
   "source": [
    "samples_plot_true = np.array(q_true.view(-1, n_dim))\n",
    "plot_hist(samples_plot_true, title = '', gamma = 0.2,save_path = 'histogram_true_funnel1.pdf')"
   ]
  },
  {
   "cell_type": "code",
   "execution_count": 11,
   "metadata": {},
   "outputs": [
    {
     "data": {
      "text/plain": [
       "<matplotlib.collections.PathCollection at 0x7f30d9cde220>"
      ]
     },
     "execution_count": 11,
     "metadata": {},
     "output_type": "execute_result"
    },
    {
     "data": {
      "image/png": "[encoded data removed]",
      "text/plain": [
       "<Figure size 432x288 with 1 Axes>"
      ]
     },
     "metadata": {
      "needs_background": "light"
     },
     "output_type": "display_data"
    }
   ],
   "source": [
    "plt.scatter(samples_plot_true[:,0], samples_plot_true[:,1])"
   ]
  },
  {
   "cell_type": "markdown",
   "metadata": {},
   "source": [
    "## Training with flows"
   ]
  },
  {
   "cell_type": "code",
   "execution_count": 65,
   "metadata": {},
   "outputs": [],
   "source": [
    "batch_size_sample = 500\n",
    "loss = \"mix_kl\" \n",
    "flow = RNVP(num_flows = 4, dim = n_dim )"
   ]
  },
  {
   "cell_type": "code",
   "execution_count": 66,
   "metadata": {},
   "outputs": [],
   "source": [
    "params = flow.parameters()\n",
    "optimizer = get_optimizer(params, optimizer = \"Adam\", lr = 1e-3, weight_decay=1e-3)"
   ]
  },
  {
   "cell_type": "code",
   "execution_count": 67,
   "metadata": {},
   "outputs": [
    {
     "data": {
      "text/plain": [
       "torch.Size([500, 32])"
      ]
     },
     "execution_count": 67,
     "metadata": {},
     "output_type": "execute_result"
    }
   ],
   "source": [
    "z_0 = proposal.sample((batch_size_sample,))\n",
    "z_0.shape"
   ]
  },
  {
   "cell_type": "code",
   "execution_count": 68,
   "metadata": {},
   "outputs": [],
   "source": [
    "z_1, _ = flow(z_0)"
   ]
  },
  {
   "cell_type": "code",
   "execution_count": 69,
   "metadata": {},
   "outputs": [
    {
     "data": {
      "text/plain": [
       "tensor([12.7985,  6.1539,  5.7840,  5.4234,  7.4967,  6.2925,  6.4972,  9.1232,\n",
       "         6.0309, 10.1114,  9.8223,  9.6534, 10.0604, 11.5572,  8.8737, 13.9161,\n",
       "         9.5823,  3.6782, 10.3592,  5.3938, 11.0618,  8.4621,  6.3025,  9.1198,\n",
       "        12.2209,  7.1235, 12.1688, 10.4598,  7.7154,  7.9680,  9.1569,  5.4517,\n",
       "         8.8220,  8.6520,  5.2802,  7.9450, 11.5439, 10.6052, 12.9610, 14.5900,\n",
       "        18.5205,  9.8670,  9.9780, 13.7080, 13.0581,  8.8696, 14.1406,  9.2044,\n",
       "        10.9205,  9.1191,  8.6894, 12.6751,  9.2577,  6.7017,  8.1705, 10.3622,\n",
       "         6.8883, 14.8709,  9.8864, 15.0422,  7.4894,  6.4003, 10.7060, 11.6064,\n",
       "        12.9986, 10.5588,  7.7170,  7.3068, 14.3565, 11.3849, 11.2648,  8.7044,\n",
       "         7.8348,  8.1910,  5.8559,  7.4449,  7.9883, 13.1107, 13.6868,  5.1909,\n",
       "        12.7863,  9.9028, 10.7084,  4.0077,  8.7936, 10.8725,  7.8242,  5.5511,\n",
       "         7.4338,  3.7768,  7.6638,  8.0765, 12.1346,  8.3509,  9.3163,  4.7678,\n",
       "         9.9628, 11.1046,  9.9490, 11.7705,  7.9323,  8.3373,  7.7464, 10.3580,\n",
       "        12.3744,  8.1138,  9.9054, 12.4612,  9.0461,  9.8349, 13.9665, 10.7851,\n",
       "        13.3691,  8.3132, 13.8851,  9.4134, 10.8344,  7.7027, 13.3877, 11.2361,\n",
       "        10.1463, 13.7342,  7.4303, 12.4103,  8.0505, 10.2128, 13.3620,  5.2520,\n",
       "         5.6908,  7.7437, 10.7305, 14.4738, 10.7235,  9.4002, 11.2154, 11.9775,\n",
       "         8.6625, 11.0109, 12.3951,  8.7956,  6.2676,  7.3956,  6.5641,  7.2799,\n",
       "        10.8280,  6.1421, 10.0531, 11.7698, 10.5025, 14.0281,  9.7298, 10.2584,\n",
       "        11.1063,  8.8155,  9.6819,  7.0800,  9.9747, 10.4170, 12.1239, 10.4525,\n",
       "         7.0631, 13.6415,  9.3977,  5.7132, 14.2212,  9.7483,  8.5361, 11.2821,\n",
       "         9.5340, 12.7485, 12.1701, 10.2931, 15.3002, 13.8250,  7.5218,  8.5648,\n",
       "         6.2587,  7.7649,  6.7761, 10.2222,  9.5646, 12.3809,  5.6071,  9.4315,\n",
       "         7.5894, 11.9644, 10.5059,  9.7393,  9.9135, 12.0564,  9.3022,  6.6634,\n",
       "         8.9640,  4.7541, 13.4872,  8.2379,  7.4994,  8.5303, 13.0885, 11.2370,\n",
       "        11.3221,  6.4004,  8.5579,  7.7821,  9.2246,  8.4428, 10.7588, 13.4629,\n",
       "         8.1064, 13.4364,  8.9425,  8.0624,  9.5940,  9.7374, 10.8898,  9.5379,\n",
       "        11.6293, 14.6166,  6.3254, 12.8414, 12.9885, 15.6468, 11.6389, 11.8197,\n",
       "        11.9506,  4.5069, 13.5146,  8.9800,  7.7918,  9.8018,  9.7106,  8.3696,\n",
       "         8.0796,  8.9156, 12.2678,  7.5530,  5.4136,  9.2220, 11.5156,  8.1770,\n",
       "         6.3664,  7.4891,  7.3729,  7.4302,  6.5255,  7.3456, 12.2875,  9.3600,\n",
       "        10.1440,  8.4041, 10.8624,  8.0310,  8.9549, 10.3366, 11.2934,  7.8849,\n",
       "         6.7348,  8.0764,  8.5751,  9.2895, 12.9132, 15.8301, 15.7397,  4.9749,\n",
       "         8.5352,  8.1273,  8.8078,  8.6398, 13.8506,  8.4836,  6.8769, 10.3712,\n",
       "         7.5835,  7.9331,  9.4544,  5.0135, 10.1223, 13.3820, 13.2388, 10.2988,\n",
       "        12.1035, 11.8677, 12.2468, 12.9567,  9.2956,  5.5172,  5.7107, 11.0100,\n",
       "         9.8448,  9.0102,  7.1411,  8.0364, 10.1513, 13.0124, 11.7005,  3.8878,\n",
       "         8.8856,  9.7964,  6.1403,  9.9384, 11.9205, 10.7864,  8.7669,  6.6212,\n",
       "         6.4465,  8.2993, 11.7255,  9.6311, 16.1374,  9.9092, 13.6144,  8.0696,\n",
       "        11.0037,  9.5005,  5.2279,  9.9581,  9.7149,  7.5149, 12.6967, 10.8538,\n",
       "        13.6632, 10.1771, 12.4816,  7.9319, 11.5807,  6.0627,  9.2962,  6.7468,\n",
       "        13.6146,  5.5828, 12.7334, 17.0838, 12.9115,  7.9496,  8.7594,  6.7875,\n",
       "        13.8096,  7.8522,  8.0704,  6.8734,  7.2083,  6.1560, 12.2482,  9.4199,\n",
       "         7.3339, 13.0790,  7.9626, 17.0829,  9.8685,  6.8883,  7.8760,  6.9236,\n",
       "         8.2905,  8.2763, 11.5152, 12.8484,  8.6104,  8.3815,  5.0314,  6.5688,\n",
       "        11.6156,  6.0991,  5.3170,  8.8425, 12.2603,  6.5761, 11.8566, 14.0087,\n",
       "         8.1548,  7.0114, 12.1366,  6.3027,  7.5550,  6.8721, 13.6774,  7.0392,\n",
       "         4.6190,  7.5565,  7.5338,  5.6147,  7.8316, 10.5801, 14.7713,  8.7041,\n",
       "         8.6311,  8.2425, 11.3208, 12.9189, 11.4143,  6.6818, 11.9933,  6.6993,\n",
       "         9.2603,  8.2821, 10.3405,  8.5558, 14.2400, 12.3711, 10.3877,  6.0155,\n",
       "         9.7119, 10.2572,  9.0895,  6.8385,  7.7501,  5.7891,  5.8341,  6.4919,\n",
       "         6.0412,  9.5820,  9.9884,  4.5029,  6.2413,  5.5909,  9.5177,  8.4243,\n",
       "         7.3229,  8.5996, 11.9190, 11.2686,  6.0073,  6.7911,  8.5003,  9.6674,\n",
       "         8.9633, 10.3970,  9.8611,  6.4425,  6.5445,  7.6625, 12.4150,  8.1910,\n",
       "         6.4151,  7.9158,  8.3952, 10.6464, 13.8705,  6.7208, 10.6459,  4.9692,\n",
       "        12.4265,  6.6945, 10.3526,  7.1669,  6.8733,  8.8292, 11.8466,  5.7355,\n",
       "        12.8911,  7.2629, 10.8619,  8.3073,  6.0476,  6.0539, 13.7896, 10.8591,\n",
       "        10.4442, 13.9433, 11.2383,  9.3209,  8.4281, 11.0565, 10.7109,  9.7529,\n",
       "         6.6322,  8.9465, 10.2489,  8.7916, 12.2308, 12.4161,  8.2160,  7.3466,\n",
       "        12.6948,  5.8274,  6.8255, 11.4924,  8.5044, 11.2357,  8.0512,  4.8756,\n",
       "         6.0990,  3.9833,  7.7283, 12.9143, 10.6797,  5.4434,  5.8898,  5.9630,\n",
       "         7.4120,  6.1515, 10.8490, 14.3844,  7.9159,  9.5458, 11.6164,  8.2864,\n",
       "         9.2486, 14.2755,  8.9833, 11.2963], grad_fn=<SumBackward1>)"
      ]
     },
     "execution_count": 69,
     "metadata": {},
     "output_type": "execute_result"
    }
   ],
   "source": [
    "((z_1 - z_0)**2).sum(1)"
   ]
  },
  {
   "cell_type": "code",
   "execution_count": 70,
   "metadata": {},
   "outputs": [],
   "source": [
    "loss_function = get_loss(loss)"
   ]
  },
  {
   "cell_type": "code",
   "execution_count": 71,
   "metadata": {},
   "outputs": [
    {
     "name": "stderr",
     "output_type": "stream",
     "text": [
      "  0%|          | 1/1000 [00:00<04:10,  4.00it/s]"
     ]
    },
    {
     "name": "stdout",
     "output_type": "stream",
     "text": [
      "loss =  -542030.9\n",
      "grad_step =  1.676790044531101e-05\n",
      "mean acceptance =  39.95199501514435 %\n"
     ]
    },
    {
     "name": "stderr",
     "output_type": "stream",
     "text": [
      "  5%|▌         | 51/1000 [00:12<03:47,  4.17it/s]"
     ]
    },
    {
     "name": "stdout",
     "output_type": "stream",
     "text": [
      "loss =  -4019.3237\n",
      "grad_step =  0.037358371788246046\n",
      "mean acceptance =  94.52200531959534 %\n"
     ]
    },
    {
     "name": "stderr",
     "output_type": "stream",
     "text": [
      " 10%|█         | 101/1000 [00:24<03:56,  3.81it/s]"
     ]
    },
    {
     "name": "stdout",
     "output_type": "stream",
     "text": [
      "loss =  25262.92\n",
      "grad_step =  0.037358371788246046\n",
      "mean acceptance =  95.80400586128235 %\n"
     ]
    },
    {
     "name": "stderr",
     "output_type": "stream",
     "text": [
      " 15%|█▌        | 151/1000 [00:37<03:47,  3.74it/s]"
     ]
    },
    {
     "name": "stdout",
     "output_type": "stream",
     "text": [
      "loss =  -2013.0503\n",
      "grad_step =  0.037358371788246046\n",
      "mean acceptance =  95.39599418640137 %\n"
     ]
    },
    {
     "name": "stderr",
     "output_type": "stream",
     "text": [
      " 20%|██        | 201/1000 [00:49<03:10,  4.19it/s]"
     ]
    },
    {
     "name": "stdout",
     "output_type": "stream",
     "text": [
      "loss =  -1700.185\n",
      "grad_step =  0.037358371788246046\n",
      "mean acceptance =  95.93400359153748 %\n"
     ]
    },
    {
     "name": "stderr",
     "output_type": "stream",
     "text": [
      " 25%|██▌       | 251/1000 [01:01<02:54,  4.28it/s]"
     ]
    },
    {
     "name": "stdout",
     "output_type": "stream",
     "text": [
      "loss =  -1278.6473\n",
      "grad_step =  0.037358371788246046\n",
      "mean acceptance =  96.04201316833496 %\n"
     ]
    },
    {
     "name": "stderr",
     "output_type": "stream",
     "text": [
      " 30%|███       | 301/1000 [01:15<02:47,  4.18it/s]"
     ]
    },
    {
     "name": "stdout",
     "output_type": "stream",
     "text": [
      "loss =  -1628.8694\n",
      "grad_step =  0.037358371788246046\n",
      "mean acceptance =  96.17801904678345 %\n"
     ]
    },
    {
     "name": "stderr",
     "output_type": "stream",
     "text": [
      " 35%|███▌      | 351/1000 [01:37<04:07,  2.62it/s]"
     ]
    },
    {
     "name": "stdout",
     "output_type": "stream",
     "text": [
      "loss =  -1348.3667\n",
      "grad_step =  0.037358371788246046\n",
      "mean acceptance =  96.75999283790588 %\n"
     ]
    },
    {
     "name": "stderr",
     "output_type": "stream",
     "text": [
      " 40%|████      | 401/1000 [01:56<03:35,  2.77it/s]"
     ]
    },
    {
     "name": "stdout",
     "output_type": "stream",
     "text": [
      "loss =  -1166.7103\n",
      "grad_step =  0.037358371788246046\n",
      "mean acceptance =  96.89001441001892 %\n"
     ]
    },
    {
     "name": "stderr",
     "output_type": "stream",
     "text": [
      " 45%|████▌     | 451/1000 [02:11<02:16,  4.03it/s]"
     ]
    },
    {
     "name": "stdout",
     "output_type": "stream",
     "text": [
      "loss =  -956.53406\n",
      "grad_step =  0.037358371788246046\n",
      "mean acceptance =  97.04000353813171 %\n"
     ]
    },
    {
     "name": "stderr",
     "output_type": "stream",
     "text": [
      " 50%|█████     | 501/1000 [02:28<04:03,  2.05it/s]"
     ]
    },
    {
     "name": "stdout",
     "output_type": "stream",
     "text": [
      "loss =  -1107.9644\n",
      "grad_step =  0.037358371788246046\n",
      "mean acceptance =  96.51801586151123 %\n"
     ]
    },
    {
     "name": "stderr",
     "output_type": "stream",
     "text": [
      " 55%|█████▌    | 551/1000 [02:51<03:43,  2.00it/s]"
     ]
    },
    {
     "name": "stdout",
     "output_type": "stream",
     "text": [
      "loss =  -1201.7692\n",
      "grad_step =  0.037358371788246046\n",
      "mean acceptance =  96.37001156806946 %\n"
     ]
    },
    {
     "name": "stderr",
     "output_type": "stream",
     "text": [
      " 60%|██████    | 601/1000 [03:13<02:34,  2.58it/s]"
     ]
    },
    {
     "name": "stdout",
     "output_type": "stream",
     "text": [
      "loss =  -2112.5693\n",
      "grad_step =  0.037358371788246046\n",
      "mean acceptance =  96.36401534080505 %\n"
     ]
    },
    {
     "name": "stderr",
     "output_type": "stream",
     "text": [
      " 65%|██████▌   | 651/1000 [03:36<02:47,  2.08it/s]"
     ]
    },
    {
     "name": "stdout",
     "output_type": "stream",
     "text": [
      "loss =  -1942.8058\n",
      "grad_step =  0.037358371788246046\n",
      "mean acceptance =  96.40800952911377 %\n"
     ]
    },
    {
     "name": "stderr",
     "output_type": "stream",
     "text": [
      " 70%|███████   | 701/1000 [03:55<01:55,  2.59it/s]"
     ]
    },
    {
     "name": "stdout",
     "output_type": "stream",
     "text": [
      "loss =  -1859.7894\n",
      "grad_step =  0.037358371788246046\n",
      "mean acceptance =  96.53799533843994 %\n"
     ]
    },
    {
     "name": "stderr",
     "output_type": "stream",
     "text": [
      " 75%|███████▌  | 751/1000 [04:13<01:01,  4.03it/s]"
     ]
    },
    {
     "name": "stdout",
     "output_type": "stream",
     "text": [
      "loss =  -1899.1361\n",
      "grad_step =  0.037358371788246046\n",
      "mean acceptance =  96.78199887275696 %\n"
     ]
    },
    {
     "name": "stderr",
     "output_type": "stream",
     "text": [
      " 80%|████████  | 801/1000 [04:29<00:56,  3.50it/s]"
     ]
    },
    {
     "name": "stdout",
     "output_type": "stream",
     "text": [
      "loss =  -1719.9083\n",
      "grad_step =  0.037358371788246046\n",
      "mean acceptance =  96.58600687980652 %\n"
     ]
    },
    {
     "name": "stderr",
     "output_type": "stream",
     "text": [
      " 85%|████████▌ | 851/1000 [04:43<00:39,  3.81it/s]"
     ]
    },
    {
     "name": "stdout",
     "output_type": "stream",
     "text": [
      "loss =  -1862.4131\n",
      "grad_step =  0.037358371788246046\n",
      "mean acceptance =  96.60201072692871 %\n"
     ]
    },
    {
     "name": "stderr",
     "output_type": "stream",
     "text": [
      " 90%|█████████ | 901/1000 [04:57<00:24,  4.06it/s]"
     ]
    },
    {
     "name": "stdout",
     "output_type": "stream",
     "text": [
      "loss =  -1981.0428\n",
      "grad_step =  0.037358371788246046\n",
      "mean acceptance =  96.7020034790039 %\n"
     ]
    },
    {
     "name": "stderr",
     "output_type": "stream",
     "text": [
      " 95%|█████████▌| 951/1000 [05:08<00:12,  4.07it/s]"
     ]
    },
    {
     "name": "stdout",
     "output_type": "stream",
     "text": [
      "loss =  -1853.3988\n",
      "grad_step =  0.037358371788246046\n",
      "mean acceptance =  96.64599895477295 %\n"
     ]
    },
    {
     "name": "stderr",
     "output_type": "stream",
     "text": [
      "100%|██████████| 1000/1000 [05:21<00:00,  3.11it/s]\n"
     ]
    }
   ],
   "source": [
    "N_optim = 1000\n",
    "alpha = 0.\n",
    "n_steps = 1\n",
    "N = 5\n",
    "grad_step = 2e-3\n",
    "noise_scale = (2*grad_step)**.5\n",
    "losses = []\n",
    "\n",
    "z_ = z_0.clone()\n",
    "for i in tqdm(range(N_optim)):\n",
    "    zl, accept, grad_step = ex2_mcmc_mala(z_, true_target,  proposal, n_steps, N, grad_step, (2*grad_step)**.5, \n",
    "                        mala_steps = 100, corr_coef=.9, bernoulli_prob_corr=0.3, flow=flow,adapt_stepsize=True)\n",
    "    #zl = adaptive_sir_correlated_dynamics(z_, true_target, proposal, n_steps, N, alpha, flow)\n",
    "    #print(zl)\n",
    "    z_ = zl[-1]\n",
    "    #print(z_.shape)\n",
    "    loss, grad_loss = loss_function(true_target, proposal, flow, z_, alpha = i/(2*N_optim)+.5)\n",
    "    losses.append(loss.detach().numpy())\n",
    "    verbose = 50\n",
    "    if i%verbose == 0:\n",
    "        print(\"loss = \", np.mean(losses[-verbose:]))\n",
    "        print(\"grad_step = \", grad_step)\n",
    "        print(\"mean acceptance = \", accept.mean().numpy()*100,\"%\")\n",
    "\n",
    "    (grad_loss).backward()\n",
    "    optimizer.step()\n",
    "    optimizer.zero_grad()"
   ]
  },
  {
   "cell_type": "code",
   "execution_count": 72,
   "metadata": {},
   "outputs": [
    {
     "name": "stdout",
     "output_type": "stream",
     "text": [
      "loss =  -2352.0466\n",
      "grad_step =  0.0002840913646005556\n"
     ]
    }
   ],
   "source": [
    "print(\"loss = \", loss.detach().numpy())\n",
    "print(\"grad_step = \", grad_step)"
   ]
  },
  {
   "cell_type": "code",
   "execution_count": 73,
   "metadata": {},
   "outputs": [
    {
     "data": {
      "text/plain": [
       "0.0002840913646005556"
      ]
     },
     "execution_count": 73,
     "metadata": {},
     "output_type": "execute_result"
    }
   ],
   "source": [
    "grad_step"
   ]
  },
  {
   "cell_type": "code",
   "execution_count": 74,
   "metadata": {},
   "outputs": [
    {
     "name": "stdout",
     "output_type": "stream",
     "text": [
      "(500, 32)\n",
      "(500, 32)\n"
     ]
    },
    {
     "data": {
      "text/plain": [
       "(2, 500, 32)"
      ]
     },
     "execution_count": 74,
     "metadata": {},
     "output_type": "execute_result"
    }
   ],
   "source": [
    "array = []\n",
    "for s in zl:\n",
    "    s=s.detach().numpy()\n",
    "    print(s.shape)\n",
    "    array.append(s)\n",
    "np.array(array).shape\n",
    "samples = np.array(array).reshape(-1, n_dim)\n"
   ]
  },
  {
   "cell_type": "code",
   "execution_count": 75,
   "metadata": {},
   "outputs": [
    {
     "data": {
      "text/plain": [
       "(1000, 32)"
      ]
     },
     "execution_count": 75,
     "metadata": {},
     "output_type": "execute_result"
    }
   ],
   "source": [
    "samples = np.array(array).reshape(-1, n_dim)\n",
    "samples.shape"
   ]
  },
  {
   "cell_type": "code",
   "execution_count": 76,
   "metadata": {},
   "outputs": [
    {
     "data": {
      "image/png": "[encoded data removed]",
      "text/plain": [
       "<Figure size 1500x1500 with 1 Axes>"
      ]
     },
     "metadata": {
      "needs_background": "light"
     },
     "output_type": "display_data"
    }
   ],
   "source": [
    "plot_hist(samples, title = '', gamma = 0.2,save_path = 'Ex2MC_wo_flows.pdf')\n"
   ]
  },
  {
   "cell_type": "code",
   "execution_count": 77,
   "metadata": {},
   "outputs": [
    {
     "data": {
      "text/plain": [
       "<matplotlib.collections.PathCollection at 0x7f314dd7ce20>"
      ]
     },
     "execution_count": 77,
     "metadata": {},
     "output_type": "execute_result"
    },
    {
     "data": {
      "image/png": "[encoded data removed]",
      "text/plain": [
       "<Figure size 432x288 with 1 Axes>"
      ]
     },
     "metadata": {
      "needs_background": "light"
     },
     "output_type": "display_data"
    }
   ],
   "source": [
    "plt.scatter(samples[:,0], samples[:,1])"
   ]
  },
  {
   "cell_type": "code",
   "execution_count": null,
   "metadata": {},
   "outputs": [],
   "source": []
  },
  {
   "cell_type": "code",
   "execution_count": 79,
   "metadata": {},
   "outputs": [],
   "source": [
    "zl, accept, grad_step = ex2_mcmc_mala(z_, true_target,  proposal, 100, N, grad_step, (2*grad_step)**.5, \n",
    "                        mala_steps = 100, corr_coef=.9, bernoulli_prob_corr=0.3, flow=flow,adapt_stepsize=True)\n",
    "    "
   ]
  },
  {
   "cell_type": "code",
   "execution_count": 80,
   "metadata": {},
   "outputs": [
    {
     "name": "stdout",
     "output_type": "stream",
     "text": [
      "(500, 32)\n",
      "(500, 32)\n",
      "(500, 32)\n",
      "(500, 32)\n",
      "(500, 32)\n",
      "(500, 32)\n",
      "(500, 32)\n",
      "(500, 32)\n",
      "(500, 32)\n",
      "(500, 32)\n",
      "(500, 32)\n",
      "(500, 32)\n",
      "(500, 32)\n",
      "(500, 32)\n",
      "(500, 32)\n",
      "(500, 32)\n",
      "(500, 32)\n",
      "(500, 32)\n",
      "(500, 32)\n",
      "(500, 32)\n",
      "(500, 32)\n",
      "(500, 32)\n",
      "(500, 32)\n",
      "(500, 32)\n",
      "(500, 32)\n",
      "(500, 32)\n",
      "(500, 32)\n",
      "(500, 32)\n",
      "(500, 32)\n",
      "(500, 32)\n",
      "(500, 32)\n",
      "(500, 32)\n",
      "(500, 32)\n",
      "(500, 32)\n",
      "(500, 32)\n",
      "(500, 32)\n",
      "(500, 32)\n",
      "(500, 32)\n",
      "(500, 32)\n",
      "(500, 32)\n",
      "(500, 32)\n",
      "(500, 32)\n",
      "(500, 32)\n",
      "(500, 32)\n",
      "(500, 32)\n",
      "(500, 32)\n",
      "(500, 32)\n",
      "(500, 32)\n",
      "(500, 32)\n",
      "(500, 32)\n",
      "(500, 32)\n",
      "(500, 32)\n",
      "(500, 32)\n",
      "(500, 32)\n",
      "(500, 32)\n",
      "(500, 32)\n",
      "(500, 32)\n",
      "(500, 32)\n",
      "(500, 32)\n",
      "(500, 32)\n",
      "(500, 32)\n",
      "(500, 32)\n",
      "(500, 32)\n",
      "(500, 32)\n",
      "(500, 32)\n",
      "(500, 32)\n",
      "(500, 32)\n",
      "(500, 32)\n",
      "(500, 32)\n",
      "(500, 32)\n",
      "(500, 32)\n",
      "(500, 32)\n",
      "(500, 32)\n",
      "(500, 32)\n",
      "(500, 32)\n",
      "(500, 32)\n",
      "(500, 32)\n",
      "(500, 32)\n",
      "(500, 32)\n",
      "(500, 32)\n",
      "(500, 32)\n",
      "(500, 32)\n",
      "(500, 32)\n",
      "(500, 32)\n",
      "(500, 32)\n",
      "(500, 32)\n",
      "(500, 32)\n",
      "(500, 32)\n",
      "(500, 32)\n",
      "(500, 32)\n",
      "(500, 32)\n",
      "(500, 32)\n",
      "(500, 32)\n",
      "(500, 32)\n",
      "(500, 32)\n",
      "(500, 32)\n",
      "(500, 32)\n",
      "(500, 32)\n",
      "(500, 32)\n",
      "(500, 32)\n",
      "(500, 32)\n"
     ]
    }
   ],
   "source": [
    "array = []\n",
    "for s in zl:\n",
    "    s=s.detach().numpy()\n",
    "    print(s.shape)\n",
    "    array.append(s)\n",
    "np.array(array).shape\n",
    "samples = np.array(array).reshape(-1, n_dim)\n"
   ]
  },
  {
   "cell_type": "code",
   "execution_count": 81,
   "metadata": {},
   "outputs": [
    {
     "data": {
      "image/png": "[encoded data removed]",
      "text/plain": [
       "<Figure size 1500x1500 with 1 Axes>"
      ]
     },
     "metadata": {
      "needs_background": "light"
     },
     "output_type": "display_data"
    }
   ],
   "source": [
    "plot_hist(samples, title = '', gamma = 0.2,save_path = 'Ex2MC_wo_flows.pdf')\n"
   ]
  }
 ],
 "metadata": {
  "kernelspec": {
   "display_name": "Python 3",
   "language": "python",
   "name": "python3"
  },
  "language_info": {
   "codemirror_mode": {
    "name": "ipython",
    "version": 3
   },
   "file_extension": ".py",
   "mimetype": "text/x-python",
   "name": "python",
   "nbconvert_exporter": "python",
   "pygments_lexer": "ipython3",
   "version": "3.8.5"
  }
 },
 "nbformat": 4,
 "nbformat_minor": 4
}
