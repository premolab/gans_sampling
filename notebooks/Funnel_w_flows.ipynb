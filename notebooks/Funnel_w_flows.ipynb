{
 "cells": [
  {
   "cell_type": "markdown",
   "metadata": {},
   "source": [
    "# Funnel distribution"
   ]
  },
  {
   "cell_type": "code",
   "execution_count": 1,
   "metadata": {},
   "outputs": [],
   "source": [
    "%load_ext autoreload\n",
    "%autoreload 2"
   ]
  },
  {
   "cell_type": "code",
   "execution_count": 2,
   "metadata": {},
   "outputs": [],
   "source": [
    "import os, sys\n",
    "cwd = os.getcwd()\n",
    "\n",
    "api_path_toy = os.path.join(cwd, '..', 'tools', 'toy_examples_utils')\n",
    "#api_path_sir = os.path.join(cwd, '..', 'tools', 'sir_ais_sampling')\n",
    "models_2d_path = os.path.join(cwd, '..', 'models_25gaussians', 'jensen_minimax')\n",
    "#models_2d_path = os.path.join(cwd, '..', 'models_25gaussians', 'wasserstein')\n",
    "sys.path.append(api_path_toy)\n",
    "#sys.path.append(api_path_sir)\n",
    "sys.path.append(os.path.join(cwd, '..', 'tools', 'sampling_utils'))"
   ]
  },
  {
   "cell_type": "code",
   "execution_count": 3,
   "metadata": {},
   "outputs": [],
   "source": [
    "import numpy as np\n",
    "import sklearn.datasets\n",
    "import time\n",
    "import random\n",
    "import glob\n",
    "import importlib\n",
    "from tqdm import tqdm\n",
    "\n",
    "import pyro\n",
    "from pyro.infer import MCMC, NUTS, HMC\n",
    "from functools import partial\n",
    "import ot\n",
    "\n",
    "\n",
    "import matplotlib.pyplot as plt\n",
    "import matplotlib.colors as mcolors\n",
    "\n",
    "import torch, torch.nn as nn\n",
    "import torch.nn.functional as F\n",
    "\n",
    "from torch import autograd\n",
    "from torch.distributions import MultivariateNormal, Normal, Independent, Uniform\n",
    "\n",
    "from toy_examples_utils import (prepare_25gaussian_data, \n",
    "                   prepare_swissroll_data,\n",
    "                   prepare_gaussians,\n",
    "                   prepare_train_batches,\n",
    "                   prepare_dataloader,\n",
    "                   logging)\n",
    "from gan_fc_models import (Generator_fc, \n",
    "                           Discriminator_fc, \n",
    "                           weights_init_1, \n",
    "                           weights_init_2)\n",
    "from visualization import (send_file_to_remote,\n",
    "                           sample_fake_data,\n",
    "                           plot_fake_data_mode,\n",
    "                           plot_fake_data_projection,\n",
    "                           plot_discriminator_2d,\n",
    "                           plot_potential_energy,\n",
    "                           mh_sampling_plot_2d,\n",
    "                           langevin_sampling_plot_2d,\n",
    "                           mala_sampling_plot_2d,\n",
    "                           #xtry_langevin_sampling_plot_2d,\n",
    "                           epoch_visualization,\n",
    "                           plot_chain_metrics)\n",
    "from mh_sampling import mh_sampling\n",
    "from ebm_sampling import (langevin_sampling, \n",
    "                          mala_sampling,\n",
    "                          #xtry_langevin_sampling,\n",
    "                          tempered_transitions_sampling,\n",
    "                          gan_energy)\n",
    "\n",
    "from adaptive_mc import adaptive_sir_correlated_dynamics, ex2_mcmc_mala\n",
    "from adaptive_sir_loss import *\n",
    "\n",
    "from flows import RNVP\n",
    "\n",
    "\n",
    "from distributions import (Target, \n",
    "                           Gaussian_mixture, \n",
    "                           IndependentNormal,\n",
    "                           init_independent_normal, \n",
    "                           Funnel,\n",
    "                          Banana, Cauchy)\n",
    "\n",
    "from params_25gaussians import (sigma,\n",
    "                                random_seed,\n",
    "                                train_dataset_size,\n",
    "                                n_dim,\n",
    "                                n_layers_d,\n",
    "                                n_layers_g,\n",
    "                                n_hid_d,\n",
    "                                n_hid_g,\n",
    "                                n_out,\n",
    "                                device)\n",
    "\n",
    "from general_utils import DotDict\n",
    "\n",
    "from metrics import Evolution"
   ]
  },
  {
   "cell_type": "code",
   "execution_count": 4,
   "metadata": {},
   "outputs": [],
   "source": [
    "from pathlib import Path\n",
    "figpath = Path('../figs')"
   ]
  },
  {
   "cell_type": "code",
   "execution_count": null,
   "metadata": {},
   "outputs": [],
   "source": []
  },
  {
   "cell_type": "code",
   "execution_count": null,
   "metadata": {},
   "outputs": [],
   "source": []
  },
  {
   "cell_type": "code",
   "execution_count": null,
   "metadata": {},
   "outputs": [],
   "source": []
  },
  {
   "cell_type": "code",
   "execution_count": 82,
   "metadata": {},
   "outputs": [],
   "source": [
    "target_args = DotDict()\n",
    "n_dim = 50\n",
    "target_args.device = device\n",
    "target_args.dim = n_dim\n",
    "target_args.Q =.2\n",
    "true_target = Banana(target_args).log_prob\n",
    "\n",
    "\n",
    "loc_proposal = 2.+torch.zeros(n_dim).to(device)\n",
    "scale_proposal = 3*torch.ones(n_dim).to(device)\n",
    "proposal_args = DotDict()\n",
    "proposal_args.device = device\n",
    "proposal_args.loc = loc_proposal\n",
    "proposal_args.scale = scale_proposal\n",
    "proposal = IndependentNormal(proposal_args)"
   ]
  },
  {
   "cell_type": "code",
   "execution_count": 83,
   "metadata": {},
   "outputs": [],
   "source": [
    "true_target_energy = lambda z: - true_target(z)\n"
   ]
  },
  {
   "cell_type": "code",
   "execution_count": 84,
   "metadata": {},
   "outputs": [],
   "source": [
    "def plot_hist(samples, title = 'Histogram', bins=200, \n",
    "              gamma=0.5, ax_lims = [(-2,9), (-2,4)],\n",
    "              save_path = 'pics/histogram_test.pdf', density = True):\n",
    "    plt.close()\n",
    "    plt.figure(figsize=(5, 5), dpi=300)\n",
    "    plt.hist2d(samples[:,0], samples[:,1],bins=bins, density=density, range=[ax_lims[0], ax_lims[1]],norm=mcolors.PowerNorm(gamma))\n",
    "    plt.title(title)\n",
    "    plt.axis('off')\n",
    "    plt.xlim((ax_lims[0][0], ax_lims[0][1]))\n",
    "    plt.ylim((ax_lims[1][0], ax_lims[1][1]))\n",
    "    plt.savefig(save_path, bbox_inches='tight')\n",
    "    plt.show() "
   ]
  },
  {
   "cell_type": "code",
   "execution_count": 85,
   "metadata": {},
   "outputs": [],
   "source": [
    "### True target"
   ]
  },
  {
   "cell_type": "code",
   "execution_count": 86,
   "metadata": {},
   "outputs": [
    {
     "name": "stderr",
     "output_type": "stream",
     "text": [
      "Sample: 100%|██████████| 2000/2000 [02:24, 13.88it/s, step size=7.38e-02, acc. prob=0.865]\n"
     ]
    }
   ],
   "source": [
    "from pyro.infer import MCMC, NUTS, HMC\n",
    "\n",
    "def energy(z):\n",
    "    z = z['points']\n",
    "    return true_target_energy(z).sum()\n",
    "\n",
    "\n",
    "#kernel = HMC(potential_fn=energy, step_size = 0.1, num_steps = K, full_mass = False)\n",
    "kernel_true = NUTS(potential_fn=energy, full_mass = False)\n",
    "init_samples = proposal.sample((1,))\n",
    "\n",
    "init_params = {'points': init_samples}\n",
    "mcmc_true = MCMC(kernel=kernel_true, num_samples = 1000, initial_params=init_params)\n",
    "mcmc_true.run()\n",
    "\n",
    "q_true = mcmc_true.get_samples(group_by_chain=True)[\"points\"].squeeze()"
   ]
  },
  {
   "cell_type": "code",
   "execution_count": null,
   "metadata": {},
   "outputs": [],
   "source": []
  },
  {
   "cell_type": "code",
   "execution_count": 87,
   "metadata": {},
   "outputs": [
    {
     "data": {
      "image/png": "[encoded data removed]",
      "text/plain": [
       "<Figure size 1500x1500 with 1 Axes>"
      ]
     },
     "metadata": {
      "needs_background": "light"
     },
     "output_type": "display_data"
    }
   ],
   "source": [
    "samples_plot_true = np.array(q_true.view(-1, n_dim))\n",
    "plot_hist(samples_plot_true, title = '', gamma = 0.2,save_path = 'histogram_true_funnel1.pdf')"
   ]
  },
  {
   "cell_type": "code",
   "execution_count": 88,
   "metadata": {},
   "outputs": [
    {
     "data": {
      "text/plain": [
       "<matplotlib.collections.PathCollection at 0x7f30d6378490>"
      ]
     },
     "execution_count": 88,
     "metadata": {},
     "output_type": "execute_result"
    },
    {
     "data": {
      "image/png": "[encoded data removed]",
      "text/plain": [
       "<Figure size 432x288 with 1 Axes>"
      ]
     },
     "metadata": {
      "needs_background": "light"
     },
     "output_type": "display_data"
    }
   ],
   "source": [
    "plt.scatter(samples_plot_true[:,0], samples_plot_true[:,1])"
   ]
  },
  {
   "cell_type": "markdown",
   "metadata": {},
   "source": [
    "## Training with flows"
   ]
  },
  {
   "cell_type": "code",
   "execution_count": 89,
   "metadata": {},
   "outputs": [],
   "source": [
    "batch_size_sample = 500\n",
    "loss = \"mix_kl\" \n",
    "flow = RNVP(num_flows = 4, dim = n_dim )"
   ]
  },
  {
   "cell_type": "code",
   "execution_count": 90,
   "metadata": {},
   "outputs": [],
   "source": [
    "params = flow.parameters()\n",
    "optimizer = get_optimizer(params, optimizer = \"Adam\", lr = 1e-3, weight_decay=1e-3)"
   ]
  },
  {
   "cell_type": "code",
   "execution_count": 91,
   "metadata": {},
   "outputs": [
    {
     "data": {
      "text/plain": [
       "torch.Size([500, 50])"
      ]
     },
     "execution_count": 91,
     "metadata": {},
     "output_type": "execute_result"
    }
   ],
   "source": [
    "z_0 = proposal.sample((batch_size_sample,))\n",
    "z_0.shape"
   ]
  },
  {
   "cell_type": "code",
   "execution_count": 92,
   "metadata": {},
   "outputs": [],
   "source": [
    "z_1, _ = flow(z_0)"
   ]
  },
  {
   "cell_type": "code",
   "execution_count": 94,
   "metadata": {},
   "outputs": [],
   "source": [
    "loss_function = get_loss(loss)"
   ]
  },
  {
   "cell_type": "code",
   "execution_count": 95,
   "metadata": {},
   "outputs": [
    {
     "name": "stderr",
     "output_type": "stream",
     "text": [
      "  0%|          | 1/1000 [00:00<07:33,  2.20it/s]"
     ]
    },
    {
     "name": "stdout",
     "output_type": "stream",
     "text": [
      "loss =  -784833.4\n",
      "grad_step =  1.5208979995746947e-05\n",
      "mean acceptance =  13.847996294498444 %\n"
     ]
    },
    {
     "name": "stderr",
     "output_type": "stream",
     "text": [
      "  5%|▌         | 51/1000 [00:22<07:03,  2.24it/s]"
     ]
    },
    {
     "name": "stdout",
     "output_type": "stream",
     "text": [
      "loss =  -511.03125\n",
      "grad_step =  0.0265498973539663\n",
      "mean acceptance =  95.69398760795593 %\n"
     ]
    },
    {
     "name": "stderr",
     "output_type": "stream",
     "text": [
      " 10%|█         | 101/1000 [00:44<06:48,  2.20it/s]"
     ]
    },
    {
     "name": "stdout",
     "output_type": "stream",
     "text": [
      "loss =  -1359.1733\n",
      "grad_step =  0.0265498973539663\n",
      "mean acceptance =  97.54199981689453 %\n"
     ]
    },
    {
     "name": "stderr",
     "output_type": "stream",
     "text": [
      " 15%|█▌        | 151/1000 [01:06<06:08,  2.30it/s]"
     ]
    },
    {
     "name": "stdout",
     "output_type": "stream",
     "text": [
      "loss =  272.59253\n",
      "grad_step =  0.03388514447913473\n",
      "mean acceptance =  97.58999347686768 %\n"
     ]
    },
    {
     "name": "stderr",
     "output_type": "stream",
     "text": [
      " 20%|██        | 201/1000 [01:27<05:43,  2.33it/s]"
     ]
    },
    {
     "name": "stdout",
     "output_type": "stream",
     "text": [
      "loss =  -89.49229\n",
      "grad_step =  0.03388514447913473\n",
      "mean acceptance =  97.20001816749573 %\n"
     ]
    },
    {
     "name": "stderr",
     "output_type": "stream",
     "text": [
      " 25%|██▌       | 251/1000 [01:48<05:19,  2.34it/s]"
     ]
    },
    {
     "name": "stdout",
     "output_type": "stream",
     "text": [
      "loss =  -208.52283\n",
      "grad_step =  0.03388514447913473\n",
      "mean acceptance =  97.4760115146637 %\n"
     ]
    },
    {
     "name": "stderr",
     "output_type": "stream",
     "text": [
      " 30%|███       | 301/1000 [02:10<04:55,  2.36it/s]"
     ]
    },
    {
     "name": "stdout",
     "output_type": "stream",
     "text": [
      "loss =  -246.41467\n",
      "grad_step =  0.03388514447913473\n",
      "mean acceptance =  97.22799062728882 %\n"
     ]
    },
    {
     "name": "stderr",
     "output_type": "stream",
     "text": [
      " 35%|███▌      | 351/1000 [02:31<04:35,  2.35it/s]"
     ]
    },
    {
     "name": "stdout",
     "output_type": "stream",
     "text": [
      "loss =  -287.3601\n",
      "grad_step =  0.03388514447913473\n",
      "mean acceptance =  97.51200675964355 %\n"
     ]
    },
    {
     "name": "stderr",
     "output_type": "stream",
     "text": [
      " 40%|████      | 401/1000 [02:52<04:10,  2.39it/s]"
     ]
    },
    {
     "name": "stdout",
     "output_type": "stream",
     "text": [
      "loss =  -392.9667\n",
      "grad_step =  0.03388514447913473\n",
      "mean acceptance =  97.1340000629425 %\n"
     ]
    },
    {
     "name": "stderr",
     "output_type": "stream",
     "text": [
      " 45%|████▌     | 451/1000 [03:13<03:52,  2.36it/s]"
     ]
    },
    {
     "name": "stdout",
     "output_type": "stream",
     "text": [
      "loss =  -424.466\n",
      "grad_step =  0.03388514447913473\n",
      "mean acceptance =  96.66401147842407 %\n"
     ]
    },
    {
     "name": "stderr",
     "output_type": "stream",
     "text": [
      " 50%|█████     | 501/1000 [03:35<03:31,  2.36it/s]"
     ]
    },
    {
     "name": "stdout",
     "output_type": "stream",
     "text": [
      "loss =  -548.40405\n",
      "grad_step =  0.03388514447913473\n",
      "mean acceptance =  96.82402610778809 %\n"
     ]
    },
    {
     "name": "stderr",
     "output_type": "stream",
     "text": [
      " 55%|█████▌    | 551/1000 [03:56<03:06,  2.41it/s]"
     ]
    },
    {
     "name": "stdout",
     "output_type": "stream",
     "text": [
      "loss =  -483.15613\n",
      "grad_step =  0.03388514447913473\n",
      "mean acceptance =  96.77999019622803 %\n"
     ]
    },
    {
     "name": "stderr",
     "output_type": "stream",
     "text": [
      " 60%|██████    | 601/1000 [04:17<02:46,  2.39it/s]"
     ]
    },
    {
     "name": "stdout",
     "output_type": "stream",
     "text": [
      "loss =  -389.25684\n",
      "grad_step =  0.03388514447913473\n",
      "mean acceptance =  92.17200875282288 %\n"
     ]
    },
    {
     "name": "stderr",
     "output_type": "stream",
     "text": [
      " 65%|██████▌   | 651/1000 [04:38<02:27,  2.37it/s]"
     ]
    },
    {
     "name": "stdout",
     "output_type": "stream",
     "text": [
      "loss =  -14025.651\n",
      "grad_step =  0.03388514447913473\n",
      "mean acceptance =  91.92399978637695 %\n"
     ]
    },
    {
     "name": "stderr",
     "output_type": "stream",
     "text": [
      " 70%|███████   | 701/1000 [04:59<02:03,  2.42it/s]"
     ]
    },
    {
     "name": "stdout",
     "output_type": "stream",
     "text": [
      "loss =  -110.5753\n",
      "grad_step =  0.03388514447913473\n",
      "mean acceptance =  92.29602813720703 %\n"
     ]
    },
    {
     "name": "stderr",
     "output_type": "stream",
     "text": [
      " 75%|███████▌  | 751/1000 [05:20<01:45,  2.35it/s]"
     ]
    },
    {
     "name": "stdout",
     "output_type": "stream",
     "text": [
      "loss =  99.624626\n",
      "grad_step =  0.03388514447913473\n",
      "mean acceptance =  92.54000186920166 %\n"
     ]
    },
    {
     "name": "stderr",
     "output_type": "stream",
     "text": [
      " 80%|████████  | 801/1000 [05:40<01:21,  2.43it/s]"
     ]
    },
    {
     "name": "stdout",
     "output_type": "stream",
     "text": [
      "loss =  73.78991\n",
      "grad_step =  0.03388514447913473\n",
      "mean acceptance =  93.09200048446655 %\n"
     ]
    },
    {
     "name": "stderr",
     "output_type": "stream",
     "text": [
      " 85%|████████▌ | 851/1000 [06:01<01:03,  2.35it/s]"
     ]
    },
    {
     "name": "stdout",
     "output_type": "stream",
     "text": [
      "loss =  57.07394\n",
      "grad_step =  0.03388514447913473\n",
      "mean acceptance =  93.32001805305481 %\n"
     ]
    },
    {
     "name": "stderr",
     "output_type": "stream",
     "text": [
      " 90%|█████████ | 901/1000 [06:22<00:41,  2.37it/s]"
     ]
    },
    {
     "name": "stdout",
     "output_type": "stream",
     "text": [
      "loss =  43.52577\n",
      "grad_step =  0.03388514447913473\n",
      "mean acceptance =  93.32599639892578 %\n"
     ]
    },
    {
     "name": "stderr",
     "output_type": "stream",
     "text": [
      " 95%|█████████▌| 951/1000 [06:42<00:20,  2.45it/s]"
     ]
    },
    {
     "name": "stdout",
     "output_type": "stream",
     "text": [
      "loss =  18.377293\n",
      "grad_step =  0.03388514447913473\n",
      "mean acceptance =  93.39401721954346 %\n"
     ]
    },
    {
     "name": "stderr",
     "output_type": "stream",
     "text": [
      "100%|██████████| 1000/1000 [07:02<00:00,  2.37it/s]\n"
     ]
    }
   ],
   "source": [
    "N_optim = 1000\n",
    "alpha = 0.\n",
    "n_steps = 1\n",
    "N = 5\n",
    "grad_step = 2e-3\n",
    "noise_scale = (2*grad_step)**.5\n",
    "losses = []\n",
    "\n",
    "z_ = z_0.clone()\n",
    "for i in tqdm(range(N_optim)):\n",
    "    zl, accept, grad_step = ex2_mcmc_mala(z_, true_target,  proposal, n_steps, N, grad_step, (2*grad_step)**.5, \n",
    "                        mala_steps = 100, corr_coef=.9, bernoulli_prob_corr=0.3, flow=flow,adapt_stepsize=True)\n",
    "    #zl = adaptive_sir_correlated_dynamics(z_, true_target, proposal, n_steps, N, alpha, flow)\n",
    "    #print(zl)\n",
    "    z_ = zl[-1]\n",
    "    #print(z_.shape)\n",
    "    loss, grad_loss = loss_function(true_target, proposal, flow, z_, alpha = i/(2*N_optim)+.5)\n",
    "    losses.append(loss.detach().numpy())\n",
    "    verbose = 50\n",
    "    if i%verbose == 0:\n",
    "        print(\"loss = \", np.mean(losses[-verbose:]))\n",
    "        print(\"grad_step = \", grad_step)\n",
    "        print(\"mean acceptance = \", accept.mean().numpy()*100,\"%\")\n",
    "\n",
    "    (grad_loss).backward()\n",
    "    optimizer.step()\n",
    "    optimizer.zero_grad()"
   ]
  },
  {
   "cell_type": "code",
   "execution_count": 96,
   "metadata": {},
   "outputs": [
    {
     "name": "stdout",
     "output_type": "stream",
     "text": [
      "loss =  4.5696683\n",
      "grad_step =  0.00025767924226807764\n"
     ]
    }
   ],
   "source": [
    "print(\"loss = \", loss.detach().numpy())\n",
    "print(\"grad_step = \", grad_step)"
   ]
  },
  {
   "cell_type": "code",
   "execution_count": 97,
   "metadata": {},
   "outputs": [
    {
     "data": {
      "text/plain": [
       "0.00025767924226807764"
      ]
     },
     "execution_count": 97,
     "metadata": {},
     "output_type": "execute_result"
    }
   ],
   "source": [
    "grad_step"
   ]
  },
  {
   "cell_type": "code",
   "execution_count": 98,
   "metadata": {},
   "outputs": [
    {
     "name": "stdout",
     "output_type": "stream",
     "text": [
      "(500, 50)\n",
      "(500, 50)\n"
     ]
    }
   ],
   "source": [
    "array = []\n",
    "for s in zl:\n",
    "    s=s.detach().numpy()\n",
    "    print(s.shape)\n",
    "    array.append(s)\n",
    "np.array(array).shape\n",
    "samples = np.array(array).reshape(-1, n_dim)\n"
   ]
  },
  {
   "cell_type": "code",
   "execution_count": 99,
   "metadata": {},
   "outputs": [
    {
     "data": {
      "text/plain": [
       "(1000, 50)"
      ]
     },
     "execution_count": 99,
     "metadata": {},
     "output_type": "execute_result"
    }
   ],
   "source": [
    "samples = np.array(array).reshape(-1, n_dim)\n",
    "samples.shape"
   ]
  },
  {
   "cell_type": "code",
   "execution_count": 100,
   "metadata": {},
   "outputs": [
    {
     "data": {
      "image/png": "[encoded data removed]",
      "text/plain": [
       "<Figure size 1500x1500 with 1 Axes>"
      ]
     },
     "metadata": {
      "needs_background": "light"
     },
     "output_type": "display_data"
    }
   ],
   "source": [
    "plot_hist(samples, title = '', gamma = 0.2,save_path = 'Ex2MC_wo_flows.pdf')\n"
   ]
  },
  {
   "cell_type": "code",
   "execution_count": 101,
   "metadata": {},
   "outputs": [
    {
     "data": {
      "text/plain": [
       "<matplotlib.collections.PathCollection at 0x7f30d62707f0>"
      ]
     },
     "execution_count": 101,
     "metadata": {},
     "output_type": "execute_result"
    },
    {
     "data": {
      "image/png": "[encoded data removed]",
      "text/plain": [
       "<Figure size 432x288 with 1 Axes>"
      ]
     },
     "metadata": {
      "needs_background": "light"
     },
     "output_type": "display_data"
    }
   ],
   "source": [
    "plt.scatter(samples[:,0], samples[:,1])"
   ]
  },
  {
   "cell_type": "code",
   "execution_count": null,
   "metadata": {},
   "outputs": [],
   "source": []
  },
  {
   "cell_type": "code",
   "execution_count": 102,
   "metadata": {},
   "outputs": [],
   "source": [
    "zl, accept, grad_step = ex2_mcmc_mala(z_, true_target,  proposal, 100, N, grad_step, (2*grad_step)**.5, \n",
    "                        mala_steps = 100, corr_coef=.9, bernoulli_prob_corr=0.3, flow=flow,adapt_stepsize=True)\n",
    "    "
   ]
  },
  {
   "cell_type": "code",
   "execution_count": null,
   "metadata": {},
   "outputs": [],
   "source": [
    "array = []\n",
    "for s in zl:\n",
    "    s=s.detach().numpy()\n",
    "    print(s.shape)\n",
    "    array.append(s)\n",
    "np.array(array).shape\n",
    "samples = np.array(array).reshape(-1, n_dim)\n"
   ]
  },
  {
   "cell_type": "code",
   "execution_count": 104,
   "metadata": {},
   "outputs": [
    {
     "data": {
      "image/png": "[encoded data removed]",
      "text/plain": [
       "<Figure size 1500x1500 with 1 Axes>"
      ]
     },
     "metadata": {
      "needs_background": "light"
     },
     "output_type": "display_data"
    }
   ],
   "source": [
    "plot_hist(samples, title = '', gamma = 0.2,save_path = 'Ex2MC_wo_flows.pdf')\n"
   ]
  },
  {
   "cell_type": "code",
   "execution_count": null,
   "metadata": {},
   "outputs": [],
   "source": []
  }
 ],
 "metadata": {
  "kernelspec": {
   "display_name": "Python 3",
   "language": "python",
   "name": "python3"
  },
  "language_info": {
   "codemirror_mode": {
    "name": "ipython",
    "version": 3
   },
   "file_extension": ".py",
   "mimetype": "text/x-python",
   "name": "python",
   "nbconvert_exporter": "python",
   "pygments_lexer": "ipython3",
   "version": "3.8.5"
  }
 },
 "nbformat": 4,
 "nbformat_minor": 4
}
