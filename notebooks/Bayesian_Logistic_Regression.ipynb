{
 "cells": [
  {
   "cell_type": "code",
   "execution_count": null,
   "metadata": {},
   "outputs": [],
   "source": []
  },
  {
   "cell_type": "code",
   "execution_count": 1,
   "metadata": {},
   "outputs": [],
   "source": [
    "%load_ext autoreload\n",
    "%autoreload 2"
   ]
  },
  {
   "cell_type": "code",
   "execution_count": 2,
   "metadata": {},
   "outputs": [],
   "source": [
    "import os, sys\n",
    "cwd = os.getcwd()\n",
    "\n",
    "api_path_toy = os.path.join(cwd, '..', 'tools', 'toy_examples_utils')\n",
    "#api_path_sir = os.path.join(cwd, '..', 'tools', 'sir_ais_sampling')\n",
    "models_2d_path = os.path.join(cwd, '..', 'models_25gaussians', 'jensen_minimax')\n",
    "#models_2d_path = os.path.join(cwd, '..', 'models_25gaussians', 'wasserstein')\n",
    "sys.path.append(api_path_toy)\n",
    "#sys.path.append(api_path_sir)\n",
    "sys.path.append(os.path.join(cwd, '..', 'tools', 'sampling_utils'))"
   ]
  },
  {
   "cell_type": "code",
   "execution_count": 3,
   "metadata": {},
   "outputs": [],
   "source": [
    "import numpy as np\n",
    "import sklearn.datasets\n",
    "import time\n",
    "import random\n",
    "import glob\n",
    "import importlib\n",
    "from tqdm import tqdm\n",
    "\n",
    "import pyro\n",
    "from pyro.infer import MCMC, NUTS, HMC\n",
    "from functools import partial\n",
    "import ot\n",
    "\n",
    "\n",
    "import matplotlib.pyplot as plt\n",
    "import matplotlib.colors as mcolors\n",
    "\n",
    "import torch, torch.nn as nn\n",
    "import torch.nn.functional as F\n",
    "\n",
    "from torch import autograd\n",
    "from torch.distributions import MultivariateNormal, Normal, Independent, Uniform\n",
    "\n",
    "from toy_examples_utils import (prepare_25gaussian_data, \n",
    "                   prepare_swissroll_data,\n",
    "                   prepare_gaussians,\n",
    "                   prepare_train_batches,\n",
    "                   prepare_dataloader,\n",
    "                   logging)\n",
    "from gan_fc_models import (Generator_fc, \n",
    "                           Discriminator_fc, \n",
    "                           weights_init_1, \n",
    "                           weights_init_2)\n",
    "from visualization import (send_file_to_remote,\n",
    "                           sample_fake_data,\n",
    "                           plot_fake_data_mode,\n",
    "                           plot_fake_data_projection,\n",
    "                           plot_discriminator_2d,\n",
    "                           plot_potential_energy,\n",
    "                           mh_sampling_plot_2d,\n",
    "                           langevin_sampling_plot_2d,\n",
    "                           mala_sampling_plot_2d,\n",
    "                           #xtry_langevin_sampling_plot_2d,\n",
    "                           epoch_visualization,\n",
    "                           plot_chain_metrics)\n",
    "from mh_sampling import mh_sampling\n",
    "from ebm_sampling import (langevin_sampling, \n",
    "                          mala_sampling,\n",
    "                          #xtry_langevin_sampling,\n",
    "                          tempered_transitions_sampling,\n",
    "                          gan_energy)\n",
    "\n",
    "from sir_ais_sampling import sir_independent_dynamics\n",
    "from ebm_sampling import mala_dynamics\n",
    "\n",
    "from adaptive_mc import adaptive_sir_correlated_dynamics, ex2_mcmc_mala\n",
    "from adaptive_sir_loss import *\n",
    "\n",
    "from collections import defaultdict\n",
    "\n",
    "from flows import RNVP\n",
    "\n",
    "\n",
    "from distributions import (Target, \n",
    "                           Gaussian_mixture, \n",
    "                           IndependentNormal,\n",
    "                           init_independent_normal, \n",
    "                           Funnel,\n",
    "                          Banana, Cauchy,\n",
    "                          Covtype_logistic_regression)\n",
    "\n",
    "from params_25gaussians import (sigma,\n",
    "                                random_seed,\n",
    "                                train_dataset_size,\n",
    "                                n_dim,\n",
    "                                n_layers_d,\n",
    "                                n_layers_g,\n",
    "                                n_hid_d,\n",
    "                                n_hid_g,\n",
    "                                n_out,\n",
    "                                device)\n",
    "\n",
    "from general_utils import DotDict\n",
    "\n",
    "from metrics import Evolution"
   ]
  },
  {
   "cell_type": "code",
   "execution_count": 4,
   "metadata": {},
   "outputs": [],
   "source": [
    "from pathlib import Path\n",
    "figpath = Path('../figs')"
   ]
  },
  {
   "cell_type": "code",
   "execution_count": 5,
   "metadata": {},
   "outputs": [],
   "source": [
    "\n",
    "target_args = DotDict()\n",
    "target_args.device = device\n",
    "target_args.c1 = 3\n",
    "target_args.c2 = 5\n",
    "target = Covtype_logistic_regression(target_args)\n",
    "n_dim = target.d"
   ]
  },
  {
   "cell_type": "code",
   "execution_count": 6,
   "metadata": {},
   "outputs": [],
   "source": [
    "loc_proposal = torch.zeros(n_dim).to(device)\n",
    "scale_proposal = torch.ones(n_dim).to(device)\n",
    "proposal_args = DotDict()\n",
    "proposal_args.device = device\n",
    "proposal_args.loc = loc_proposal\n",
    "proposal_args.scale = scale_proposal\n",
    "proposal = IndependentNormal(proposal_args)"
   ]
  },
  {
   "cell_type": "code",
   "execution_count": 7,
   "metadata": {},
   "outputs": [
    {
     "data": {
      "text/plain": [
       "54"
      ]
     },
     "execution_count": 7,
     "metadata": {},
     "output_type": "execute_result"
    }
   ],
   "source": [
    "n_dim"
   ]
  },
  {
   "cell_type": "code",
   "execution_count": 8,
   "metadata": {},
   "outputs": [],
   "source": [
    "args = edict()\n",
    "args.batch_size = 20\n",
    "args.device = device\n"
   ]
  },
  {
   "cell_type": "code",
   "execution_count": 9,
   "metadata": {},
   "outputs": [],
   "source": [
    "def random_seed(seed):\n",
    "    torch.manual_seed(seed)\n",
    "    torch.cuda.manual_seed(seed)\n",
    "    np.random.seed(seed)\n",
    "    random.seed(seed)"
   ]
  },
  {
   "cell_type": "code",
   "execution_count": 10,
   "metadata": {},
   "outputs": [],
   "source": [
    "def autocovariance(X, tau=0):\n",
    "    #dT, dX = np.shape(X)\n",
    "    dT = X.shape[0]\n",
    "    s = 0.\n",
    "    dN = 1\n",
    "    if tau > 0:\n",
    "        x1 = X[:-tau, ...]\n",
    "    else:\n",
    "        x1 = X\n",
    "    x2 = X[tau:, ...]\n",
    "    s = np.sum(x1 * x2, axis=0) / dN\n",
    "\n",
    "    return s / (dT - tau)\n",
    "\n",
    "\n",
    "def acl_spectrum(X, scale=1):\n",
    "    n = 150 #X.shape[0]\n",
    "    scale = np.sqrt(autocovariance(X, tau=0))\n",
    "    return np.stack([autocovariance(X / (scale[None, ...] + 1e-7), tau=t) for t in range(n - 1)], axis=0)\n",
    "\n",
    "\n",
    "def ESS(A):\n",
    "    A = A * (A > 0.05)\n",
    "    ess = 1. / (1. + 2 * np.sum(A[1:, ...], axis=0))\n",
    "    return ess"
   ]
  },
  {
   "cell_type": "code",
   "execution_count": 11,
   "metadata": {},
   "outputs": [
    {
     "name": "stderr",
     "output_type": "stream",
     "text": [
      "100%|██████████| 50000/50000 [1:26:58<00:00,  9.58it/s]\n",
      "  0%|          | 4/50000 [00:00<24:24, 34.14it/s]"
     ]
    },
    {
     "name": "stdout",
     "output_type": "stream",
     "text": [
      "Method: isir, ESS: 0.0074, sampling time: 5218.33, ESS/s: 0.07\n"
     ]
    },
    {
     "name": "stderr",
     "output_type": "stream",
     "text": [
      "100%|██████████| 50000/50000 [18:31<00:00, 44.97it/s]\n",
      "  0%|          | 3/50000 [00:00<39:19, 21.19it/s]"
     ]
    },
    {
     "name": "stdout",
     "output_type": "stream",
     "text": [
      "Method: mala, ESS: 0.0048, sampling time: 1111.83, ESS/s: 0.22\n"
     ]
    },
    {
     "name": "stderr",
     "output_type": "stream",
     "text": [
      "100%|██████████| 50000/50000 [34:25<00:00, 24.21it/s]\n"
     ]
    },
    {
     "name": "stdout",
     "output_type": "stream",
     "text": [
      "Method: ex2_mcmc_mala, ESS: 0.0040, sampling time: 2065.25, ESS/s: 0.10\n"
     ]
    }
   ],
   "source": [
    "# equal number of steps (1000)\n",
    "n_steps = 50000\n",
    "methods_calls = defaultdict(tuple)\n",
    "\n",
    "method_args = edict()\n",
    "method_args.n_steps = n_steps\n",
    "method_args.N = 20\n",
    "methods_calls['isir'] = partial(sir_independent_dynamics, **method_args)\n",
    "\n",
    "method_args = edict()\n",
    "method_args.n_steps = n_steps\n",
    "method_args.grad_step = 1e-2\n",
    "method_args.eps_scale = (2 * method_args.grad_step)**.5\n",
    "method_args.adapt_stepsize = True\n",
    "methods_calls['mala'] = partial(mala_dynamics, **method_args)\n",
    "\n",
    "method_args = edict()\n",
    "method_args.n_steps = n_steps\n",
    "method_args.mala_steps = 1\n",
    "method_args.grad_step = 1e-2\n",
    "method_args.noise_scale = (2 * method_args.grad_step)**.5\n",
    "method_args.N = 5\n",
    "method_args.corr_coef = 0.9\n",
    "method_args.bernoulli_prob_corr = 0.5\n",
    "method_args.adapt_stepsize = True\n",
    "methods_calls['ex2_mcmc_mala'] = partial(ex2_mcmc_mala, **method_args)\n",
    "\n",
    "dim = n_dim\n",
    "samples = []\n",
    "names = []\n",
    "# target = define_target(args.loc_1_target, args.loc_2_target, args.scale_target, dim, device=device)#.log_prob\n",
    "\n",
    "for method_name, call in methods_calls.items():\n",
    "\n",
    "    start = proposal.sample([args.batch_size])\n",
    "\n",
    "    s = time.time()\n",
    "    # hardcode\n",
    "    if method_name == 'isir':\n",
    "        out = call(start, target, proposal)\n",
    "    else:\n",
    "        out = call(start, target.log_prob, proposal)\n",
    "    e = time.time()\n",
    "    elapsed = (e - s) #/ 60\n",
    "    if isinstance(out, tuple):\n",
    "        sample = out[0]\n",
    "    else:\n",
    "        sample = out\n",
    "    \n",
    "    trunc_chain_len = int(0.1 * len(sample))\n",
    "\n",
    "    ess_arr = []\n",
    "    sample = torch.stack(sample, 0).detach().cpu().numpy()\n",
    "    trunc_sample = sample[-trunc_chain_len:]\n",
    "    batch_size = sample.shape[1]\n",
    "    ess = ESS(acl_spectrum((trunc_sample - trunc_sample.mean(0)[None, ...]))).mean()\n",
    "    print(f'Method: {method_name}, ESS: {ess:.4f}, sampling time: {elapsed:.2f}, ESS/s: {ess*n_steps/elapsed:.2f}')\n",
    "\n",
    "    samples.append(trunc_sample)\n",
    "    names.append(method_name)\n"
   ]
  },
  {
   "cell_type": "code",
   "execution_count": null,
   "metadata": {},
   "outputs": [],
   "source": []
  },
  {
   "cell_type": "code",
   "execution_count": 133,
   "metadata": {},
   "outputs": [],
   "source": [
    "batch_size_sample = 500\n",
    "loss = \"mix_kl\" \n",
    "flow = RNVP(num_flows = 2, dim = n_dim )"
   ]
  },
  {
   "cell_type": "code",
   "execution_count": 134,
   "metadata": {},
   "outputs": [],
   "source": [
    "params = flow.parameters()\n",
    "optimizer = get_optimizer(params, optimizer = \"Adam\", lr = 1e-4, weight_decay=1e-3)"
   ]
  },
  {
   "cell_type": "code",
   "execution_count": 135,
   "metadata": {},
   "outputs": [],
   "source": [
    "loss_function = get_loss(loss)"
   ]
  },
  {
   "cell_type": "code",
   "execution_count": 136,
   "metadata": {},
   "outputs": [],
   "source": [
    "z_0 = proposal.sample((batch_size_sample,))\n",
    "z_1, _ = flow(z_0)\n",
    "z_1 = z_1.detach().numpy()\n",
    "z_ = z_0.clone()\n"
   ]
  },
  {
   "cell_type": "code",
   "execution_count": 194,
   "metadata": {},
   "outputs": [
    {
     "name": "stderr",
     "output_type": "stream",
     "text": [
      "  0%|          | 0/1000 [00:00<?, ?it/s]\n",
      "  0%|          | 0/1 [00:00<?, ?it/s]\u001b[A\n",
      "100%|██████████| 1/1 [00:05<00:00,  5.46s/it]\u001b[A\n",
      "  0%|          | 1/1000 [00:06<1:41:24,  6.09s/it]"
     ]
    },
    {
     "name": "stdout",
     "output_type": "stream",
     "text": [
      "loss =  14735.493\n",
      "grad_step =  0.00013536787240573742\n",
      "mean acceptance =  42.44000315666199 %\n"
     ]
    },
    {
     "name": "stderr",
     "output_type": "stream",
     "text": [
      "\n",
      "  0%|          | 0/1 [00:00<?, ?it/s]\u001b[A\n",
      "100%|██████████| 1/1 [00:05<00:00,  5.28s/it]\u001b[A\n",
      "  0%|          | 2/1000 [00:12<1:40:24,  6.04s/it]\n",
      "  0%|          | 0/1 [00:00<?, ?it/s]\u001b[A\n",
      "100%|██████████| 1/1 [00:05<00:00,  5.33s/it]\u001b[A\n",
      "  0%|          | 3/1000 [00:18<1:40:23,  6.04s/it]\n",
      "  0%|          | 0/1 [00:00<?, ?it/s]\u001b[A\n",
      "100%|██████████| 1/1 [00:06<00:00,  6.11s/it]\u001b[A\n",
      "  0%|          | 4/1000 [00:24<1:44:06,  6.27s/it]\n",
      "  0%|          | 0/1 [00:00<?, ?it/s]\u001b[A\n",
      "100%|██████████| 1/1 [00:06<00:00,  6.34s/it]\u001b[A\n",
      "  0%|          | 5/1000 [00:31<1:47:45,  6.50s/it]\n",
      "  0%|          | 0/1 [00:00<?, ?it/s]\u001b[A\n",
      "100%|██████████| 1/1 [00:05<00:00,  5.96s/it]\u001b[A\n",
      "  1%|          | 6/1000 [00:38<1:48:36,  6.56s/it]\n",
      "  0%|          | 0/1 [00:00<?, ?it/s]\u001b[A\n",
      "100%|██████████| 1/1 [00:05<00:00,  5.86s/it]\u001b[A\n",
      "  1%|          | 7/1000 [00:45<1:48:39,  6.57s/it]\n",
      "  0%|          | 0/1 [00:00<?, ?it/s]\u001b[A\n",
      "100%|██████████| 1/1 [00:05<00:00,  5.83s/it]\u001b[A\n",
      "  1%|          | 8/1000 [00:51<1:48:19,  6.55s/it]\n",
      "  0%|          | 0/1 [00:00<?, ?it/s]\u001b[A\n",
      "100%|██████████| 1/1 [00:05<00:00,  5.82s/it]\u001b[A\n",
      "  1%|          | 9/1000 [00:58<1:48:00,  6.54s/it]\n",
      "  0%|          | 0/1 [00:00<?, ?it/s]\u001b[A\n",
      "100%|██████████| 1/1 [00:05<00:00,  5.88s/it]\u001b[A\n",
      "  1%|          | 10/1000 [01:04<1:48:02,  6.55s/it]\n",
      "  0%|          | 0/1 [00:00<?, ?it/s]\u001b[A\n",
      "100%|██████████| 1/1 [00:05<00:00,  5.84s/it]\u001b[A\n"
     ]
    },
    {
     "name": "stdout",
     "output_type": "stream",
     "text": [
      "loss =  nan\n",
      "grad_step =  0.00018140589569160995\n",
      "mean acceptance =  13.639998435974121 %\n"
     ]
    },
    {
     "name": "stderr",
     "output_type": "stream",
     "text": [
      "  1%|          | 11/1000 [01:11<1:48:02,  6.55s/it]\n",
      "  0%|          | 0/1 [00:00<?, ?it/s]\u001b[A\n",
      "100%|██████████| 1/1 [00:05<00:00,  5.74s/it]\u001b[A\n",
      "  1%|          | 12/1000 [01:17<1:47:15,  6.51s/it]\n",
      "  0%|          | 0/1 [00:00<?, ?it/s]\u001b[A\n",
      "100%|██████████| 1/1 [00:05<00:00,  5.85s/it]\u001b[A\n",
      "  1%|▏         | 13/1000 [01:24<1:47:31,  6.54s/it]\n",
      "  0%|          | 0/1 [00:00<?, ?it/s]\u001b[A\n",
      "100%|██████████| 1/1 [00:06<00:00,  6.28s/it]\u001b[A\n",
      "  1%|▏         | 14/1000 [01:31<1:49:49,  6.68s/it]\n",
      "  0%|          | 0/1 [00:00<?, ?it/s]\u001b[A\n",
      "100%|██████████| 1/1 [00:06<00:00,  6.18s/it]\u001b[A\n",
      "  2%|▏         | 15/1000 [01:38<1:50:50,  6.75s/it]\n",
      "  0%|          | 0/1 [00:00<?, ?it/s]\u001b[A\n",
      "100%|██████████| 1/1 [00:06<00:00,  6.32s/it]\u001b[A\n",
      "  2%|▏         | 16/1000 [01:45<1:52:28,  6.86s/it]\n",
      "  0%|          | 0/1 [00:00<?, ?it/s]\u001b[A\n",
      "100%|██████████| 1/1 [00:06<00:00,  6.36s/it]\u001b[A\n",
      "  2%|▏         | 17/1000 [01:52<1:53:38,  6.94s/it]\n",
      "  0%|          | 0/1 [00:00<?, ?it/s]\u001b[A\n",
      "100%|██████████| 1/1 [00:05<00:00,  5.76s/it]\u001b[A\n",
      "  2%|▏         | 18/1000 [01:58<1:50:58,  6.78s/it]\n",
      "  0%|          | 0/1 [00:00<?, ?it/s]\u001b[A\n",
      "100%|██████████| 1/1 [00:06<00:00,  6.35s/it]\u001b[A\n",
      "  2%|▏         | 19/1000 [02:05<1:52:16,  6.87s/it]\n",
      "  0%|          | 0/1 [00:00<?, ?it/s]\u001b[A\n",
      "100%|██████████| 1/1 [00:05<00:00,  5.94s/it]\u001b[A\n",
      "  2%|▏         | 20/1000 [02:12<1:51:02,  6.80s/it]\n",
      "  0%|          | 0/1 [00:00<?, ?it/s]\u001b[A\n",
      "100%|██████████| 1/1 [00:05<00:00,  5.81s/it]\u001b[A\n"
     ]
    },
    {
     "name": "stdout",
     "output_type": "stream",
     "text": [
      "loss =  nan\n",
      "grad_step =  0.00019047619047619045\n",
      "mean acceptance =  14.319998025894165 %\n"
     ]
    },
    {
     "name": "stderr",
     "output_type": "stream",
     "text": [
      "  2%|▏         | 21/1000 [02:19<1:49:24,  6.70s/it]\n",
      "  0%|          | 0/1 [00:00<?, ?it/s]\u001b[A\n",
      "100%|██████████| 1/1 [00:05<00:00,  5.96s/it]\u001b[A\n",
      "  2%|▏         | 22/1000 [02:25<1:49:07,  6.69s/it]\n",
      "  0%|          | 0/1 [00:00<?, ?it/s]\u001b[A\n",
      "100%|██████████| 1/1 [00:06<00:00,  6.07s/it]\u001b[A\n",
      "  2%|▏         | 23/1000 [02:32<1:49:40,  6.74s/it]\n",
      "  0%|          | 0/1 [00:00<?, ?it/s]\u001b[A\n",
      "100%|██████████| 1/1 [00:06<00:00,  6.21s/it]\u001b[A\n",
      "  2%|▏         | 24/1000 [02:39<1:50:19,  6.78s/it]\n",
      "  0%|          | 0/1 [00:00<?, ?it/s]\u001b[A\n",
      "100%|██████████| 1/1 [00:06<00:00,  6.06s/it]\u001b[A\n",
      "  2%|▎         | 25/1000 [02:46<1:50:03,  6.77s/it]\n",
      "  0%|          | 0/1 [00:00<?, ?it/s]\u001b[A\n",
      "100%|██████████| 1/1 [00:05<00:00,  5.93s/it]\u001b[A\n",
      "  3%|▎         | 26/1000 [02:52<1:49:13,  6.73s/it]\n",
      "  0%|          | 0/1 [00:04<?, ?it/s]\u001b[A\n",
      "  3%|▎         | 26/1000 [02:57<1:50:43,  6.82s/it]\n"
     ]
    },
    {
     "ename": "KeyboardInterrupt",
     "evalue": "",
     "output_type": "error",
     "traceback": [
      "\u001b[0;31m---------------------------------------------------------------------------\u001b[0m",
      "\u001b[0;31mKeyboardInterrupt\u001b[0m                         Traceback (most recent call last)",
      "\u001b[0;32m<ipython-input-194-4fe575b7b08d>\u001b[0m in \u001b[0;36m<module>\u001b[0;34m\u001b[0m\n\u001b[1;32m      8\u001b[0m \u001b[0;34m\u001b[0m\u001b[0m\n\u001b[1;32m      9\u001b[0m \u001b[0;32mfor\u001b[0m \u001b[0mi\u001b[0m \u001b[0;32min\u001b[0m \u001b[0mtqdm\u001b[0m\u001b[0;34m(\u001b[0m\u001b[0mrange\u001b[0m\u001b[0;34m(\u001b[0m\u001b[0mN_optim\u001b[0m\u001b[0;34m)\u001b[0m\u001b[0;34m)\u001b[0m\u001b[0;34m:\u001b[0m\u001b[0;34m\u001b[0m\u001b[0;34m\u001b[0m\u001b[0m\n\u001b[0;32m---> 10\u001b[0;31m     zl, accept, grad_step = ex2_mcmc_mala(z_, target.log_prob,  proposal, n_steps, N, grad_step, (2*grad_step)**.5, \n\u001b[0m\u001b[1;32m     11\u001b[0m                         mala_steps = 10, corr_coef=0., bernoulli_prob_corr=0.1, flow=flow,adapt_stepsize=True)\n\u001b[1;32m     12\u001b[0m     \u001b[0;31m#zl = adaptive_sir_correlated_dynamics(z_, true_target, proposal, n_steps, N, alpha, flow)\u001b[0m\u001b[0;34m\u001b[0m\u001b[0;34m\u001b[0m\u001b[0;34m\u001b[0m\u001b[0m\n",
      "\u001b[0;32m~/Documents/GitCodes/gans_sampling/notebooks/../tools/sampling_utils/adaptive_mc.py\u001b[0m in \u001b[0;36mex2_mcmc_mala\u001b[0;34m(z, target, proposal, n_steps, N, grad_step, noise_scale, mala_steps, corr_coef, bernoulli_prob_corr, flow, adapt_stepsize)\u001b[0m\n\u001b[1;32m    152\u001b[0m         \u001b[0;31m# mala transition\u001b[0m\u001b[0;34m\u001b[0m\u001b[0;34m\u001b[0m\u001b[0;34m\u001b[0m\u001b[0m\n\u001b[1;32m    153\u001b[0m         \u001b[0;32mfor\u001b[0m \u001b[0m_\u001b[0m \u001b[0;32min\u001b[0m \u001b[0mrange\u001b[0m\u001b[0;34m(\u001b[0m\u001b[0mmala_steps\u001b[0m\u001b[0;34m)\u001b[0m\u001b[0;34m:\u001b[0m\u001b[0;34m\u001b[0m\u001b[0;34m\u001b[0m\u001b[0m\n\u001b[0;32m--> 154\u001b[0;31m             \u001b[0mE\u001b[0m\u001b[0;34m,\u001b[0m \u001b[0mgrad\u001b[0m \u001b[0;34m=\u001b[0m \u001b[0mgrad_energy\u001b[0m\u001b[0;34m(\u001b[0m\u001b[0mz\u001b[0m\u001b[0;34m,\u001b[0m \u001b[0mtarget\u001b[0m\u001b[0;34m)\u001b[0m\u001b[0;34m\u001b[0m\u001b[0;34m\u001b[0m\u001b[0m\n\u001b[0m\u001b[1;32m    155\u001b[0m             \u001b[0;32mif\u001b[0m \u001b[0madapt_stepsize\u001b[0m \u001b[0;32mand\u001b[0m \u001b[0mstep_id\u001b[0m \u001b[0;34m>\u001b[0m \u001b[0;36m0\u001b[0m\u001b[0;34m:\u001b[0m\u001b[0;34m\u001b[0m\u001b[0;34m\u001b[0m\u001b[0m\n\u001b[1;32m    156\u001b[0m                 \u001b[0mz_new\u001b[0m \u001b[0;34m=\u001b[0m \u001b[0mz\u001b[0m \u001b[0;34m-\u001b[0m \u001b[0mmala_transition\u001b[0m\u001b[0;34m.\u001b[0m\u001b[0madapt_grad_step\u001b[0m \u001b[0;34m*\u001b[0m \u001b[0mgrad\u001b[0m \u001b[0;34m+\u001b[0m \u001b[0mmala_transition\u001b[0m\u001b[0;34m.\u001b[0m\u001b[0madapt_sigma\u001b[0m \u001b[0;34m*\u001b[0m \u001b[0mtorch\u001b[0m\u001b[0;34m.\u001b[0m\u001b[0mrandn\u001b[0m\u001b[0;34m(\u001b[0m\u001b[0;34m[\u001b[0m\u001b[0mbatch_size\u001b[0m\u001b[0;34m,\u001b[0m \u001b[0mz_dim\u001b[0m\u001b[0;34m]\u001b[0m\u001b[0;34m)\u001b[0m\u001b[0;34m\u001b[0m\u001b[0;34m\u001b[0m\u001b[0m\n",
      "\u001b[0;32m~/Documents/GitCodes/gans_sampling/notebooks/../tools/sampling_utils/ebm_sampling.py\u001b[0m in \u001b[0;36mgrad_energy\u001b[0;34m(point, target, x)\u001b[0m\n\u001b[1;32m     33\u001b[0m     \u001b[0;32melse\u001b[0m\u001b[0;34m:\u001b[0m\u001b[0;34m\u001b[0m\u001b[0;34m\u001b[0m\u001b[0m\n\u001b[1;32m     34\u001b[0m         \u001b[0menergy\u001b[0m \u001b[0;34m=\u001b[0m \u001b[0;34m-\u001b[0m\u001b[0mtarget\u001b[0m\u001b[0;34m(\u001b[0m\u001b[0mpoint\u001b[0m\u001b[0;34m)\u001b[0m\u001b[0;34m\u001b[0m\u001b[0;34m\u001b[0m\u001b[0m\n\u001b[0;32m---> 35\u001b[0;31m     \u001b[0mgrad\u001b[0m \u001b[0;34m=\u001b[0m \u001b[0mtorch\u001b[0m\u001b[0;34m.\u001b[0m\u001b[0mautograd\u001b[0m\u001b[0;34m.\u001b[0m\u001b[0mgrad\u001b[0m\u001b[0;34m(\u001b[0m\u001b[0menergy\u001b[0m\u001b[0;34m.\u001b[0m\u001b[0msum\u001b[0m\u001b[0;34m(\u001b[0m\u001b[0;34m)\u001b[0m\u001b[0;34m,\u001b[0m \u001b[0mpoint\u001b[0m\u001b[0;34m)\u001b[0m\u001b[0;34m[\u001b[0m\u001b[0;36m0\u001b[0m\u001b[0;34m]\u001b[0m\u001b[0;34m\u001b[0m\u001b[0;34m\u001b[0m\u001b[0m\n\u001b[0m\u001b[1;32m     36\u001b[0m     \u001b[0;32mreturn\u001b[0m \u001b[0menergy\u001b[0m\u001b[0;34m,\u001b[0m \u001b[0mgrad\u001b[0m\u001b[0;34m\u001b[0m\u001b[0;34m\u001b[0m\u001b[0m\n\u001b[1;32m     37\u001b[0m \u001b[0;34m\u001b[0m\u001b[0m\n",
      "\u001b[0;32m~/.local/lib/python3.8/site-packages/torch/autograd/__init__.py\u001b[0m in \u001b[0;36mgrad\u001b[0;34m(outputs, inputs, grad_outputs, retain_graph, create_graph, only_inputs, allow_unused)\u001b[0m\n\u001b[1;32m    154\u001b[0m         \u001b[0mretain_graph\u001b[0m \u001b[0;34m=\u001b[0m \u001b[0mcreate_graph\u001b[0m\u001b[0;34m\u001b[0m\u001b[0;34m\u001b[0m\u001b[0m\n\u001b[1;32m    155\u001b[0m \u001b[0;34m\u001b[0m\u001b[0m\n\u001b[0;32m--> 156\u001b[0;31m     return Variable._execution_engine.run_backward(\n\u001b[0m\u001b[1;32m    157\u001b[0m         \u001b[0moutputs\u001b[0m\u001b[0;34m,\u001b[0m \u001b[0mgrad_outputs\u001b[0m\u001b[0;34m,\u001b[0m \u001b[0mretain_graph\u001b[0m\u001b[0;34m,\u001b[0m \u001b[0mcreate_graph\u001b[0m\u001b[0;34m,\u001b[0m\u001b[0;34m\u001b[0m\u001b[0;34m\u001b[0m\u001b[0m\n\u001b[1;32m    158\u001b[0m         inputs, allow_unused)\n",
      "\u001b[0;31mKeyboardInterrupt\u001b[0m: "
     ]
    }
   ],
   "source": [
    "N_optim = 1000\n",
    "alpha = 0.\n",
    "n_steps = 1\n",
    "N = 5\n",
    "grad_step = 2e-4\n",
    "noise_scale = (2*grad_step)**.5\n",
    "losses = []\n",
    "\n",
    "for i in tqdm(range(N_optim)):\n",
    "    zl, accept, grad_step = ex2_mcmc_mala(z_, target.log_prob,  proposal, n_steps, N, grad_step, (2*grad_step)**.5, \n",
    "                        mala_steps = 10, corr_coef=0., bernoulli_prob_corr=0.1, flow=flow,adapt_stepsize=True)\n",
    "    #zl = adaptive_sir_correlated_dynamics(z_, true_target, proposal, n_steps, N, alpha, flow)\n",
    "    #print(zl)\n",
    "    z_ = zl[-1]\n",
    "    #print(z_.shape)\n",
    "    loss, grad_loss = loss_function(target.log_prob, proposal, flow, z_, alpha = 1.)\n",
    "    losses.append(loss.detach().numpy())\n",
    "    verbose = 10\n",
    "    if i%verbose == 0:\n",
    "        print(\"loss = \", np.mean(losses[-verbose:]))\n",
    "        print(\"grad_step = \", grad_step)\n",
    "        print(\"mean acceptance = \", accept.mean().numpy()*100,\"%\")\n",
    "\n",
    "    (grad_loss).backward()\n",
    "    optimizer.step()\n",
    "    optimizer.zero_grad()"
   ]
  },
  {
   "cell_type": "code",
   "execution_count": 193,
   "metadata": {},
   "outputs": [
    {
     "data": {
      "text/plain": [
       "<matplotlib.collections.PathCollection at 0x7f7ff3d99070>"
      ]
     },
     "execution_count": 193,
     "metadata": {},
     "output_type": "execute_result"
    },
    {
     "data": {
      "image/png": "[encoded data removed]",
      "text/plain": [
       "<Figure size 432x288 with 1 Axes>"
      ]
     },
     "metadata": {
      "needs_background": "light"
     },
     "output_type": "display_data"
    }
   ],
   "source": [
    "z_0 = proposal.sample((10000,))\n",
    "z_1, _ = flow(z_0)\n",
    "z_1 = z_1.detach().numpy()\n",
    "i = 16\n",
    "j = i+1\n",
    "plt.scatter(z_0[:,i], z_0[:,j])\n",
    "plt.scatter(z_1[:,i], z_1[:,j])\n"
   ]
  },
  {
   "cell_type": "code",
   "execution_count": 157,
   "metadata": {},
   "outputs": [
    {
     "data": {
      "text/plain": [
       "(tensor(nan, grad_fn=<AddBackward0>), tensor(126.7701, grad_fn=<AddBackward0>))"
      ]
     },
     "execution_count": 157,
     "metadata": {},
     "output_type": "execute_result"
    }
   ],
   "source": [
    "loss_function(target.log_prob, proposal, flow, z_, alpha = 1)"
   ]
  },
  {
   "cell_type": "code",
   "execution_count": 162,
   "metadata": {},
   "outputs": [
    {
     "data": {
      "text/plain": [
       "tensor([[  -2.6358,   -1.6454,    6.8342,    4.3959,    4.1549,    2.7047,\n",
       "            3.1630,    2.0360,    8.3044,    5.3554,  -23.1303,  -14.6678,\n",
       "            2.8611,    1.8919,   22.4116,   14.2632,   14.4505,    9.2145,\n",
       "           16.3782,   10.4275,   -2.7759,   -2.2300,   12.5082,    7.9394,\n",
       "            3.1128,    1.9927,   -4.6352,   -2.9995,   17.1914,   10.9945,\n",
       "           -3.7190,   -2.4752,   -1.7196,   -1.2168,   -6.9137,   -4.8434,\n",
       "          -11.1653,   -8.6853, -313.9634,  -89.8037,   -3.5225,   -2.3473,\n",
       "          -12.9850,   -8.2035,  -20.4594,  -12.9584,   -4.2046,   -2.8498,\n",
       "          295.1436,   -6.3510,   -6.2069,   -4.8913,   -4.9554,   -3.8262]])"
      ]
     },
     "execution_count": 162,
     "metadata": {},
     "output_type": "execute_result"
    }
   ],
   "source": [
    "z_[torch.isnan(target.log_prob(z_))]\n"
   ]
  },
  {
   "cell_type": "code",
   "execution_count": 234,
   "metadata": {},
   "outputs": [
    {
     "name": "stderr",
     "output_type": "stream",
     "text": [
      "100%|██████████| 50000/50000 [46:21<00:00, 17.98it/s]  \n"
     ]
    },
    {
     "name": "stdout",
     "output_type": "stream",
     "text": [
      "Method: Ex2MC w Flows, ESS: 0.0040, sampling time: 2781.60, ESS/s: 0.00\n"
     ]
    }
   ],
   "source": [
    "start = proposal.sample([args.batch_size])\n",
    "\n",
    "s = time.time()\n",
    "# hardcode\n",
    "\n",
    "out = ex2_mcmc_mala(start, target.log_prob,  proposal, 50000, N, grad_step, (2*grad_step)**.5, \n",
    "                        mala_steps = 1, corr_coef=0., bernoulli_prob_corr=0.1, flow=flow,adapt_stepsize=True)\n",
    "e = time.time()\n",
    "elapsed = (e - s) #/ 60\n",
    "if isinstance(out, tuple):\n",
    "    sample = out[0]\n",
    "else:\n",
    "    sample = out\n",
    "\n",
    "trunc_chain_len = int(0.1 * len(sample))\n",
    "\n",
    "ess_arr = []\n",
    "sample = torch.stack(sample, 0).detach().cpu().numpy()\n",
    "trunc_sample = sample[-trunc_chain_len:]\n",
    "batch_size = sample.shape[1]\n",
    "ess = ESS(acl_spectrum((trunc_sample - trunc_sample.mean(0)[None, ...]))).mean()\n",
    "print(f'Method: Ex2MC w Flows, ESS: {ess:.4f}, sampling time: {elapsed:.2f}, ESS/s: {ess*n_steps/elapsed:.2f}')\n",
    "\n",
    "samples.append(trunc_sample)\n",
    "names.append(method_name)\n"
   ]
  },
  {
   "cell_type": "markdown",
   "metadata": {},
   "source": [
    "Classification Error"
   ]
  },
  {
   "cell_type": "code",
   "execution_count": 235,
   "metadata": {},
   "outputs": [],
   "source": [
    "def classification(theta, x, y):\n",
    "    P = 1. / (1. + torch.exp(-torch.matmul(x,theta)))\n",
    "    ll =  y* P.log() + (1-y)*torch.log(1-P)\n",
    "    return ll\n"
   ]
  },
  {
   "cell_type": "code",
   "execution_count": 236,
   "metadata": {},
   "outputs": [],
   "source": [
    "i = 38\n",
    "\n",
    "x_test = target.x_test[i] \n",
    "y_test = target.y_test[i]"
   ]
  },
  {
   "cell_type": "code",
   "execution_count": 239,
   "metadata": {},
   "outputs": [],
   "source": [
    "ll_post = [[],[],[],[],[]]\n",
    "for i in range(len(samples)):\n",
    "    for theta in torch.tensor(samples[i]).view(-1, n_dim):\n",
    "        ll_post[i].append(classification(theta, x_test, y_test).exp().numpy())"
   ]
  },
  {
   "cell_type": "code",
   "execution_count": 241,
   "metadata": {},
   "outputs": [],
   "source": [
    "for i in range(len(ll_post)):\n",
    "    ll_post[i] = np.array(ll_post[i])"
   ]
  },
  {
   "cell_type": "code",
   "execution_count": 253,
   "metadata": {},
   "outputs": [],
   "source": [
    "\n",
    "ll_post_plot = [ll_post[0],ll_post[1], ll_post[2], ll_post[4]]\n"
   ]
  },
  {
   "cell_type": "code",
   "execution_count": 255,
   "metadata": {},
   "outputs": [
    {
     "data": {
      "image/png": "[encoded data removed]",
      "text/plain": [
       "<Figure size 1080x720 with 1 Axes>"
      ]
     },
     "metadata": {
      "needs_background": "light"
     },
     "output_type": "display_data"
    }
   ],
   "source": [
    "import seaborn as sns\n",
    "\n",
    "plt.figure(figsize = (15, 10))\n",
    "plt.rcParams.update({'font.size': 25})\n",
    "\n",
    "#sns.set_style(\"darkgrid\", {\"axes.facecolor\": \".9\"})\n",
    "sns.boxplot(data = ll_post_plot, linewidth = 3)\n",
    "#sns.swarmplot(data = total_res15, size = 6, color = 'black', alpha = 1.)\n",
    "#plt.hlines(y = 12.5, xmin = -0.5, xmax=5.5, color = 'red')\n",
    "\n",
    "plt.title('Posterior probability of y_test', fontsize = 22)\n",
    "plt.xticks([0,1,2, 3 ],['i-SIR','MALA','Ex$^2$MCMC', 'Ad-Ex$^2$MCMC '],\n",
    "           fontsize = 20 )\n",
    "#plt.ylim(0,20)\n",
    "\n",
    "plt.savefig(f\"classification_true_label.pdf\", bbox_inches = 'tight')"
   ]
  },
  {
   "cell_type": "code",
   "execution_count": null,
   "metadata": {},
   "outputs": [],
   "source": []
  }
 ],
 "metadata": {
  "kernelspec": {
   "display_name": "Python 3",
   "language": "python",
   "name": "python3"
  },
  "language_info": {
   "codemirror_mode": {
    "name": "ipython",
    "version": 3
   },
   "file_extension": ".py",
   "mimetype": "text/x-python",
   "name": "python",
   "nbconvert_exporter": "python",
   "pygments_lexer": "ipython3",
   "version": "3.8.5"
  }
 },
 "nbformat": 4,
 "nbformat_minor": 4
}
