{
 "cells": [
  {
   "cell_type": "code",
   "execution_count": 1,
   "metadata": {},
   "outputs": [],
   "source": [
    "%load_ext autoreload\n",
    "%autoreload 2"
   ]
  },
  {
   "cell_type": "code",
   "execution_count": 2,
   "metadata": {},
   "outputs": [],
   "source": [
    "import os, sys\n",
    "cwd = os.getcwd()\n",
    "\n",
    "api_path_toy = os.path.join(cwd, '..', 'tools', 'toy_examples_utils')\n",
    "#api_path_sir = os.path.join(cwd, '..', 'tools', 'sir_ais_sampling')\n",
    "models_2d_path = os.path.join(cwd, '..', 'models_25gaussians', 'jensen_minimax')\n",
    "#models_2d_path = os.path.join(cwd, '..', 'models_25gaussians', 'wasserstein')\n",
    "sys.path.append(api_path_toy)\n",
    "#sys.path.append(api_path_sir)\n",
    "sys.path.append(os.path.join(cwd, '..', 'tools', 'sampling_utils'))"
   ]
  },
  {
   "cell_type": "code",
   "execution_count": 3,
   "metadata": {},
   "outputs": [],
   "source": [
    "import numpy as np\n",
    "import sklearn.datasets\n",
    "import time\n",
    "import random\n",
    "import glob\n",
    "import importlib\n",
    "from tqdm import tqdm\n",
    "\n",
    "import pyro\n",
    "from pyro.infer import MCMC, NUTS, HMC\n",
    "from functools import partial\n",
    "import ot\n",
    "\n",
    "from matplotlib import pyplot as plt\n",
    "\n",
    "import torch, torch.nn as nn\n",
    "import torch.nn.functional as F\n",
    "\n",
    "from torch import autograd\n",
    "from torch.distributions import MultivariateNormal, Normal, Independent, Uniform\n",
    "\n",
    "from toy_examples_utils import (prepare_25gaussian_data, \n",
    "                   prepare_swissroll_data,\n",
    "                   prepare_gaussians,\n",
    "                   prepare_train_batches,\n",
    "                   prepare_dataloader,\n",
    "                   logging)\n",
    "from gan_fc_models import (Generator_fc, \n",
    "                           Discriminator_fc, \n",
    "                           weights_init_1, \n",
    "                           weights_init_2)\n",
    "from visualization import (send_file_to_remote,\n",
    "                           sample_fake_data,\n",
    "                           plot_fake_data_mode,\n",
    "                           plot_fake_data_projection,\n",
    "                           plot_discriminator_2d,\n",
    "                           plot_potential_energy,\n",
    "                           mh_sampling_plot_2d,\n",
    "                           langevin_sampling_plot_2d,\n",
    "                           mala_sampling_plot_2d,\n",
    "                           #xtry_langevin_sampling_plot_2d,\n",
    "                           epoch_visualization,\n",
    "                           plot_chain_metrics)\n",
    "from mh_sampling import mh_sampling\n",
    "from ebm_sampling import (langevin_sampling, \n",
    "                          mala_sampling,\n",
    "                          #xtry_langevin_sampling,\n",
    "                          tempered_transitions_sampling,\n",
    "                          gan_energy)\n",
    "\n",
    "from adaptive_mc import adaptive_sir_correlated_dynamics\n",
    "from adaptive_sir_loss import *\n",
    "\n",
    "from flows import RNVP\n",
    "\n",
    "\n",
    "from distributions import (Target, \n",
    "                           Gaussian_mixture, \n",
    "                           IndependentNormal,\n",
    "                           init_independent_normal)\n",
    "\n",
    "from params_25gaussians import (sigma,\n",
    "                                random_seed,\n",
    "                                train_dataset_size,\n",
    "                                n_dim,\n",
    "                                n_layers_d,\n",
    "                                n_layers_g,\n",
    "                                n_hid_d,\n",
    "                                n_hid_g,\n",
    "                                n_out,\n",
    "                                device)\n",
    "\n",
    "from general_utils import DotDict\n",
    "\n",
    "from metrics import Evolution"
   ]
  },
  {
   "cell_type": "code",
   "execution_count": 4,
   "metadata": {},
   "outputs": [],
   "source": [
    "from pathlib import Path\n",
    "figpath = Path('../figs')"
   ]
  },
  {
   "cell_type": "markdown",
   "metadata": {},
   "source": [
    "# 2D Gaussians, true distribution"
   ]
  },
  {
   "cell_type": "code",
   "execution_count": 5,
   "metadata": {},
   "outputs": [],
   "source": [
    "from sklearn.preprocessing import StandardScaler\n",
    "\n",
    "torch.manual_seed(random_seed)\n",
    "np.random.seed(random_seed)\n",
    "random.seed(random_seed)\n",
    "\n",
    "X_train, means = prepare_25gaussian_data(train_dataset_size,\n",
    "                                         sigma, \n",
    "                                         random_seed)\n",
    "\n",
    "scaler = StandardScaler()\n",
    "X_train_std = scaler.fit_transform(X_train)"
   ]
  },
  {
   "cell_type": "code",
   "execution_count": 6,
   "metadata": {},
   "outputs": [],
   "source": [
    "n_dim = 2\n",
    "target_args = DotDict()\n",
    "target_args.device = device\n",
    "target_args.num_gauss = 25\n",
    "n_col = 5\n",
    "n_row = target_args.num_gauss // n_col\n",
    "s = 1\n",
    "###create points\n",
    "coef_gaussian = 1./target_args.num_gauss\n",
    "target_args.p_gaussians = [torch.tensor(coef_gaussian)]*target_args.num_gauss\n",
    "locs = [torch.tensor([(i-2)*s,(j-2)*s] + [0]* (n_dim - 2)).to(device) \n",
    "        for i in range(n_col) for j in range(n_row)]\n",
    "target_args.locs = locs\n",
    "target_args.covs = [(sigma**2)*torch.eye(n_dim).to(device)]*target_args.num_gauss\n",
    "target_args.dim = n_dim\n",
    "true_target = Gaussian_mixture(target_args).log_prob\n",
    "\n",
    "\n",
    "n_dim = 2\n",
    "loc_proposal = torch.zeros(n_dim).to(device)\n",
    "scale_proposal = torch.ones(n_dim).to(device)\n",
    "proposal_args = DotDict()\n",
    "proposal_args.device = device\n",
    "proposal_args.loc = loc_proposal\n",
    "proposal_args.scale = scale_proposal\n",
    "proposal = IndependentNormal(proposal_args)"
   ]
  },
  {
   "cell_type": "code",
   "execution_count": 7,
   "metadata": {},
   "outputs": [],
   "source": [
    "evols = dict()"
   ]
  },
  {
   "cell_type": "code",
   "execution_count": 8,
   "metadata": {},
   "outputs": [
    {
     "data": {
      "image/png": "[encoded data removed]",
      "text/plain": [
       "<Figure size 576x576 with 2 Axes>"
      ]
     },
     "metadata": {
      "needs_background": "light"
     },
     "output_type": "display_data"
    }
   ],
   "source": [
    "true_target_energy = Gaussian_mixture(target_args).energy\n",
    "\n",
    "x_range = 3.0\n",
    "y_range = 3.0\n",
    "norm_grads = False\n",
    "plot_potential_energy(true_target_energy,\n",
    "                      x_range,\n",
    "                      y_range,\n",
    "                      device,\n",
    "                      norm_grads = norm_grads,\n",
    "                      num_points = 100)"
   ]
  },
  {
   "cell_type": "code",
   "execution_count": 9,
   "metadata": {},
   "outputs": [],
   "source": [
    "batch_size_sample = 5000"
   ]
  },
  {
   "cell_type": "code",
   "execution_count": 10,
   "metadata": {},
   "outputs": [],
   "source": [
    "loss = \"mix_kl\" \n",
    "\n",
    "        \n",
    "\n"
   ]
  },
  {
   "cell_type": "code",
   "execution_count": 11,
   "metadata": {},
   "outputs": [],
   "source": [
    "loss_function = get_loss(loss)"
   ]
  },
  {
   "cell_type": "code",
   "execution_count": 12,
   "metadata": {},
   "outputs": [
    {
     "data": {
      "text/plain": [
       "\u001b[0;31mSignature:\u001b[0m \u001b[0mloss_function\u001b[0m\u001b[0;34m(\u001b[0m\u001b[0mtarget\u001b[0m\u001b[0;34m,\u001b[0m \u001b[0mproposal\u001b[0m\u001b[0;34m,\u001b[0m \u001b[0mflow\u001b[0m\u001b[0;34m,\u001b[0m \u001b[0my\u001b[0m\u001b[0;34m,\u001b[0m \u001b[0malpha\u001b[0m\u001b[0;34m=\u001b[0m\u001b[0;36m0.5\u001b[0m\u001b[0;34m)\u001b[0m\u001b[0;34m\u001b[0m\u001b[0;34m\u001b[0m\u001b[0m\n",
       "\u001b[0;31mDocstring:\u001b[0m <no docstring>\n",
       "\u001b[0;31mFile:\u001b[0m      ~/Documents/GitCodes/gans_sampling/tools/sampling_utils/adaptive_sir_loss.py\n",
       "\u001b[0;31mType:\u001b[0m      function\n"
      ]
     },
     "metadata": {},
     "output_type": "display_data"
    }
   ],
   "source": [
    "?loss_function"
   ]
  },
  {
   "cell_type": "code",
   "execution_count": 13,
   "metadata": {},
   "outputs": [
    {
     "data": {
      "text/plain": [
       "\u001b[0;31mSignature:\u001b[0m \u001b[0mget_loss\u001b[0m\u001b[0;34m(\u001b[0m\u001b[0mloss\u001b[0m\u001b[0;34m)\u001b[0m\u001b[0;34m\u001b[0m\u001b[0;34m\u001b[0m\u001b[0m\n",
       "\u001b[0;31mDocstring:\u001b[0m <no docstring>\n",
       "\u001b[0;31mFile:\u001b[0m      ~/Documents/GitCodes/gans_sampling/tools/sampling_utils/adaptive_sir_loss.py\n",
       "\u001b[0;31mType:\u001b[0m      function\n"
      ]
     },
     "metadata": {},
     "output_type": "display_data"
    }
   ],
   "source": [
    "?get_loss"
   ]
  },
  {
   "cell_type": "code",
   "execution_count": 20,
   "metadata": {},
   "outputs": [],
   "source": [
    "flow = RNVP(num_flows = 4, dim = n_dim )"
   ]
  },
  {
   "cell_type": "code",
   "execution_count": 21,
   "metadata": {},
   "outputs": [],
   "source": [
    "params = flow.parameters()"
   ]
  },
  {
   "cell_type": "code",
   "execution_count": 22,
   "metadata": {},
   "outputs": [],
   "source": [
    "optimizer = get_optimizer(params, optimizer = \"Adam\", lr = 1e-3)"
   ]
  },
  {
   "cell_type": "code",
   "execution_count": 23,
   "metadata": {},
   "outputs": [],
   "source": [
    "batch_size = 500\n",
    "\n",
    "z_0 = proposal.sample((batch_size,))"
   ]
  },
  {
   "cell_type": "code",
   "execution_count": 24,
   "metadata": {},
   "outputs": [
    {
     "data": {
      "text/plain": [
       "torch.Size([500, 2])"
      ]
     },
     "execution_count": 24,
     "metadata": {},
     "output_type": "execute_result"
    }
   ],
   "source": [
    "z_0.shape"
   ]
  },
  {
   "cell_type": "code",
   "execution_count": 25,
   "metadata": {},
   "outputs": [
    {
     "name": "stdout",
     "output_type": "stream",
     "text": [
      "tensor(20.8402, grad_fn=<AddBackward0>)\n",
      "tensor(18.9907, grad_fn=<AddBackward0>)\n",
      "tensor(20.8121, grad_fn=<AddBackward0>)\n"
     ]
    },
    {
     "name": "stderr",
     "output_type": "stream",
     "text": [
      " 97%|█████████▋| 971/1000 [01:24<00:02, 10.64it/s]"
     ]
    },
    {
     "name": "stdout",
     "output_type": "stream",
     "text": [
      "tensor(19.9609, grad_fn=<AddBackward0>)\n",
      "tensor(19.6647, grad_fn=<AddBackward0>)\n",
      "tensor(19.9005, grad_fn=<AddBackward0>)\n"
     ]
    },
    {
     "name": "stderr",
     "output_type": "stream",
     "text": [
      " 98%|█████████▊| 975/1000 [01:24<00:02, 11.49it/s]"
     ]
    },
    {
     "name": "stdout",
     "output_type": "stream",
     "text": [
      "tensor(21.9234, grad_fn=<AddBackward0>)\n",
      "tensor(19.3916, grad_fn=<AddBackward0>)\n",
      "tensor(19.6151, grad_fn=<AddBackward0>)\n"
     ]
    },
    {
     "name": "stderr",
     "output_type": "stream",
     "text": [
      " 98%|█████████▊| 977/1000 [01:24<00:02, 11.49it/s]"
     ]
    },
    {
     "name": "stdout",
     "output_type": "stream",
     "text": [
      "tensor(22.1378, grad_fn=<AddBackward0>)\n",
      "tensor(20.7586, grad_fn=<AddBackward0>)\n",
      "tensor(19.8153, grad_fn=<AddBackward0>)\n"
     ]
    },
    {
     "name": "stderr",
     "output_type": "stream",
     "text": [
      " 98%|█████████▊| 981/1000 [01:25<00:01, 12.41it/s]"
     ]
    },
    {
     "name": "stdout",
     "output_type": "stream",
     "text": [
      "tensor(21.3681, grad_fn=<AddBackward0>)\n",
      "tensor(21.9464, grad_fn=<AddBackward0>)\n",
      "tensor(21.4938, grad_fn=<AddBackward0>)\n"
     ]
    },
    {
     "name": "stderr",
     "output_type": "stream",
     "text": [
      " 98%|█████████▊| 983/1000 [01:25<00:01, 12.17it/s]"
     ]
    },
    {
     "name": "stdout",
     "output_type": "stream",
     "text": [
      "tensor(19.7300, grad_fn=<AddBackward0>)\n",
      "tensor(21.7558, grad_fn=<AddBackward0>)\n",
      "tensor(20.5350, grad_fn=<AddBackward0>)\n"
     ]
    },
    {
     "name": "stderr",
     "output_type": "stream",
     "text": [
      " 99%|█████████▊| 987/1000 [01:25<00:01, 12.02it/s]"
     ]
    },
    {
     "name": "stdout",
     "output_type": "stream",
     "text": [
      "tensor(24.4160, grad_fn=<AddBackward0>)\n",
      "tensor(22.4308, grad_fn=<AddBackward0>)\n",
      "tensor(21.0598, grad_fn=<AddBackward0>)\n"
     ]
    },
    {
     "name": "stderr",
     "output_type": "stream",
     "text": [
      " 99%|█████████▉| 989/1000 [01:25<00:00, 11.84it/s]"
     ]
    },
    {
     "name": "stdout",
     "output_type": "stream",
     "text": [
      "tensor(23.6310, grad_fn=<AddBackward0>)\n",
      "tensor(23.5333, grad_fn=<AddBackward0>)\n",
      "tensor(22.6991, grad_fn=<AddBackward0>)\n"
     ]
    },
    {
     "name": "stderr",
     "output_type": "stream",
     "text": [
      " 99%|█████████▉| 993/1000 [01:26<00:00, 11.32it/s]"
     ]
    },
    {
     "name": "stdout",
     "output_type": "stream",
     "text": [
      "tensor(22.4746, grad_fn=<AddBackward0>)\n",
      "tensor(20.7932, grad_fn=<AddBackward0>)\n",
      "tensor(24.3678, grad_fn=<AddBackward0>)\n"
     ]
    },
    {
     "name": "stderr",
     "output_type": "stream",
     "text": [
      "100%|█████████▉| 995/1000 [01:26<00:00, 11.43it/s]"
     ]
    },
    {
     "name": "stdout",
     "output_type": "stream",
     "text": [
      "tensor(22.7142, grad_fn=<AddBackward0>)\n",
      "tensor(22.4345, grad_fn=<AddBackward0>)\n",
      "tensor(25.1279, grad_fn=<AddBackward0>)\n"
     ]
    },
    {
     "name": "stderr",
     "output_type": "stream",
     "text": [
      "100%|█████████▉| 997/1000 [01:26<00:00, 11.59it/s]"
     ]
    },
    {
     "name": "stdout",
     "output_type": "stream",
     "text": [
      "tensor(21.5668, grad_fn=<AddBackward0>)\n",
      "tensor(22.4455, grad_fn=<AddBackward0>)\n",
      "tensor(24.1600, grad_fn=<AddBackward0>)\n"
     ]
    },
    {
     "name": "stderr",
     "output_type": "stream",
     "text": [
      "100%|██████████| 1000/1000 [01:26<00:00, 11.52it/s]"
     ]
    },
    {
     "name": "stdout",
     "output_type": "stream",
     "text": [
      "tensor(22.4351, grad_fn=<AddBackward0>)\n"
     ]
    },
    {
     "name": "stderr",
     "output_type": "stream",
     "text": [
      "\n"
     ]
    }
   ],
   "source": [
    "N_optim = 1000\n",
    "alpha = 0.05\n",
    "n_steps = 1\n",
    "N= 5\n",
    "\n",
    "z_ = z_0.clone()\n",
    "for i in tqdm(range(N_optim)):\n",
    "    \n",
    "    zl = adaptive_sir_correlated_dynamics(z_, true_target, proposal, n_steps, N, alpha, flow)\n",
    "    z_ = zl[-1]\n",
    "    loss, grad_loss = loss_function(true_target, proposal, flow, z_)\n",
    "    print(grad_loss)\n",
    "    grad_loss.backward()\n",
    "    optimizer.step()"
   ]
  },
  {
   "cell_type": "code",
   "execution_count": null,
   "metadata": {},
   "outputs": [],
   "source": []
  },
  {
   "cell_type": "markdown",
   "metadata": {},
   "source": [
    "adaptive_sir_correlated_dynamics(z, target, proposal, n_steps, N, alpha, flow)"
   ]
  }
 ],
 "metadata": {
  "kernelspec": {
   "display_name": "Python 3",
   "language": "python",
   "name": "python3"
  },
  "language_info": {
   "codemirror_mode": {
    "name": "ipython",
    "version": 3
   },
   "file_extension": ".py",
   "mimetype": "text/x-python",
   "name": "python",
   "nbconvert_exporter": "python",
   "pygments_lexer": "ipython3",
   "version": "3.8.5"
  }
 },
 "nbformat": 4,
 "nbformat_minor": 4
}
