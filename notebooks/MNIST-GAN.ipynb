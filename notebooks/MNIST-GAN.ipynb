{
 "cells": [
  {
   "cell_type": "code",
   "execution_count": 7,
   "metadata": {},
   "outputs": [
    {
     "name": "stdout",
     "output_type": "stream",
     "text": [
      "The autoreload extension is already loaded. To reload it, use:\n",
      "  %reload_ext autoreload\n"
     ]
    }
   ],
   "source": [
    "%load_ext autoreload\n",
    "%autoreload 2"
   ]
  },
  {
   "cell_type": "code",
   "execution_count": 8,
   "metadata": {},
   "outputs": [],
   "source": [
    "import os, sys\n",
    "cwd = os.getcwd()\n",
    "\n",
    "api_path_mnist = os.path.join(cwd, '..', 'tools', 'mnist_utils')\n",
    "api_path_sampling = os.path.join(cwd, '..', 'tools', 'sampling_utils')\n",
    "api_path_gan_metrics = os.path.join(cwd, '..', 'tools', 'gan_metrics')\n",
    "models_mnist_scratch_path = os.path.join(cwd, '..', 'models', 'models_mnist')\n",
    "sys.path.append(api_path_mnist)\n",
    "sys.path.append(api_path_sampling)\n",
    "sys.path.append(api_path_gan_metrics)"
   ]
  },
  {
   "cell_type": "code",
   "execution_count": 36,
   "metadata": {},
   "outputs": [],
   "source": [
    "import numpy as np\n",
    "import time\n",
    "import random\n",
    "import glob\n",
    "import importlib\n",
    "from tqdm import tqdm\n",
    "from matplotlib import pyplot as plt\n",
    "\n",
    "import torch, torch.nn as nn\n",
    "import torch.nn.functional as F\n",
    "from torch.distributions import Normal\n",
    "from distributions import IndependentNormal\n",
    "import torchvision.transforms as transforms\n",
    "import torchvision.datasets as dset\n",
    "\n",
    "from dcgan import Discriminator, Generator\n",
    "\n",
    "from functools import partial\n",
    "\n",
    "from general_utils import to_var, DotDict, to_np, Discriminator_logits\n",
    "\n",
    "from mh_sampling import mh_sampling, mh_sampling_from_scratch\n",
    "from ebm_sampling import (langevin_sampling, \n",
    "                          aggregate_sampling_output,\n",
    "                          load_data_from_batches,\n",
    "                          mala_sampling,\n",
    "                          tempered_transitions_sampling,\n",
    "                          gan_energy)\n",
    "\n",
    "from sir_ais_sampling import (sir_independent_sampling,\n",
    "                              sir_correlated_sampling)\n",
    "\n",
    "from metrics import inception_score"
   ]
  },
  {
   "cell_type": "markdown",
   "metadata": {},
   "source": [
    "# Test model from https://github.com/csinva/gan-vae-pretrained-pytorch"
   ]
  },
  {
   "cell_type": "code",
   "execution_count": 12,
   "metadata": {},
   "outputs": [],
   "source": [
    "d_path = os.path.join(models_mnist_scratch_path, \"netD_epoch_99.pth\")\n",
    "g_path = os.path.join(models_mnist_scratch_path, \"netG_epoch_99.pth\")\n",
    "device = torch.device('cuda:1' if torch.cuda.is_available() else 'cpu')\n",
    "dckpt = torch.load(d_path, map_location=device)\n",
    "gckpt = torch.load(g_path, map_location=device)"
   ]
  },
  {
   "cell_type": "code",
   "execution_count": 13,
   "metadata": {},
   "outputs": [],
   "source": [
    "D = Discriminator(ngpu=1).eval()\n",
    "G = Generator(ngpu=1).eval()\n",
    "\n",
    "D.load_state_dict(dckpt)\n",
    "G.load_state_dict(gckpt)\n",
    "\n",
    "G = G.to(device)\n",
    "D = D.to(device)"
   ]
  },
  {
   "cell_type": "code",
   "execution_count": 14,
   "metadata": {},
   "outputs": [
    {
     "data": {
      "text/plain": [
       "Generator(\n",
       "  (main): Sequential(\n",
       "    (0): ConvTranspose2d(100, 512, kernel_size=(4, 4), stride=(1, 1), bias=False)\n",
       "    (1): BatchNorm2d(512, eps=1e-05, momentum=0.1, affine=True, track_running_stats=True)\n",
       "    (2): ReLU(inplace=True)\n",
       "    (3): ConvTranspose2d(512, 256, kernel_size=(4, 4), stride=(2, 2), padding=(1, 1), bias=False)\n",
       "    (4): BatchNorm2d(256, eps=1e-05, momentum=0.1, affine=True, track_running_stats=True)\n",
       "    (5): ReLU(inplace=True)\n",
       "    (6): ConvTranspose2d(256, 128, kernel_size=(4, 4), stride=(2, 2), padding=(1, 1), bias=False)\n",
       "    (7): BatchNorm2d(128, eps=1e-05, momentum=0.1, affine=True, track_running_stats=True)\n",
       "    (8): ReLU(inplace=True)\n",
       "    (9): ConvTranspose2d(128, 64, kernel_size=(4, 4), stride=(2, 2), padding=(1, 1), bias=False)\n",
       "    (10): BatchNorm2d(64, eps=1e-05, momentum=0.1, affine=True, track_running_stats=True)\n",
       "    (11): ReLU(inplace=True)\n",
       "    (12): ConvTranspose2d(64, 1, kernel_size=(1, 1), stride=(1, 1), padding=(2, 2), bias=False)\n",
       "    (13): Tanh()\n",
       "  )\n",
       ")"
      ]
     },
     "execution_count": 14,
     "metadata": {},
     "output_type": "execute_result"
    }
   ],
   "source": [
    "G"
   ]
  },
  {
   "cell_type": "code",
   "execution_count": 15,
   "metadata": {},
   "outputs": [
    {
     "data": {
      "text/plain": [
       "Discriminator(\n",
       "  (main): Sequential(\n",
       "    (0): Conv2d(1, 64, kernel_size=(4, 4), stride=(2, 2), padding=(1, 1), bias=False)\n",
       "    (1): LeakyReLU(negative_slope=0.2, inplace=True)\n",
       "    (2): Conv2d(64, 128, kernel_size=(4, 4), stride=(2, 2), padding=(1, 1), bias=False)\n",
       "    (3): BatchNorm2d(128, eps=1e-05, momentum=0.1, affine=True, track_running_stats=True)\n",
       "    (4): LeakyReLU(negative_slope=0.2, inplace=True)\n",
       "    (5): Conv2d(128, 256, kernel_size=(4, 4), stride=(2, 2), padding=(1, 1), bias=False)\n",
       "    (6): BatchNorm2d(256, eps=1e-05, momentum=0.1, affine=True, track_running_stats=True)\n",
       "    (7): LeakyReLU(negative_slope=0.2, inplace=True)\n",
       "    (8): Conv2d(256, 1, kernel_size=(4, 4), stride=(2, 2), padding=(1, 1), bias=False)\n",
       "    (9): Sigmoid()\n",
       "  )\n",
       ")"
      ]
     },
     "execution_count": 15,
     "metadata": {},
     "output_type": "execute_result"
    }
   ],
   "source": [
    "D"
   ]
  },
  {
   "cell_type": "code",
   "execution_count": 37,
   "metadata": {},
   "outputs": [],
   "source": [
    "D_logits = Discriminator_logits(D, ngpu=1).eval()"
   ]
  },
  {
   "cell_type": "code",
   "execution_count": 39,
   "metadata": {},
   "outputs": [
    {
     "data": {
      "text/plain": [
       "Discriminator_logits(\n",
       "  (main): Sequential(\n",
       "    (0): Conv2d(1, 64, kernel_size=(4, 4), stride=(2, 2), padding=(1, 1), bias=False)\n",
       "    (1): LeakyReLU(negative_slope=0.2, inplace=True)\n",
       "    (2): Conv2d(64, 128, kernel_size=(4, 4), stride=(2, 2), padding=(1, 1), bias=False)\n",
       "    (3): BatchNorm2d(128, eps=1e-05, momentum=0.1, affine=True, track_running_stats=True)\n",
       "    (4): LeakyReLU(negative_slope=0.2, inplace=True)\n",
       "    (5): Conv2d(128, 256, kernel_size=(4, 4), stride=(2, 2), padding=(1, 1), bias=False)\n",
       "    (6): BatchNorm2d(256, eps=1e-05, momentum=0.1, affine=True, track_running_stats=True)\n",
       "    (7): LeakyReLU(negative_slope=0.2, inplace=True)\n",
       "    (8): Conv2d(256, 1, kernel_size=(4, 4), stride=(2, 2), padding=(1, 1), bias=False)\n",
       "  )\n",
       ")"
      ]
     },
     "execution_count": 39,
     "metadata": {},
     "output_type": "execute_result"
    }
   ],
   "source": [
    "D_logits"
   ]
  },
  {
   "cell_type": "code",
   "execution_count": 16,
   "metadata": {},
   "outputs": [],
   "source": [
    "batch_size = 25\n",
    "latent_size = 100\n",
    "\n",
    "fixed_noise = torch.randn(batch_size, latent_size, 1, 1).to(device)\n",
    "fake_images = G(fixed_noise)"
   ]
  },
  {
   "cell_type": "code",
   "execution_count": 33,
   "metadata": {},
   "outputs": [
    {
     "name": "stdout",
     "output_type": "stream",
     "text": [
      "torch.Size([25, 1, 28, 28])\n",
      "tensor(-1., device='cuda:1', grad_fn=<MinBackward1>)\n",
      "tensor(1., device='cuda:1', grad_fn=<MaxBackward1>)\n"
     ]
    }
   ],
   "source": [
    "print(fake_images.shape)\n",
    "print(fake_images.min())\n",
    "print(fake_images.max())"
   ]
  },
  {
   "cell_type": "code",
   "execution_count": 17,
   "metadata": {},
   "outputs": [
    {
     "data": {
      "image/png": "[encoded data removed]",
      "text/plain": [
       "<Figure size 432x288 with 25 Axes>"
      ]
     },
     "metadata": {
      "needs_background": "light"
     },
     "output_type": "display_data"
    }
   ],
   "source": [
    "fake_images_np = fake_images.cpu().detach().numpy()\n",
    "fake_images_np = fake_images_np.reshape(fake_images_np.shape[0], 28, 28)\n",
    "\n",
    "R, C = 5, 5\n",
    "\n",
    "for i in range(batch_size):\n",
    "    plt.subplot(R, C, i + 1)\n",
    "    plt.imshow(fake_images_np[i], cmap='gray')\n",
    "plt.show()"
   ]
  },
  {
   "cell_type": "code",
   "execution_count": 18,
   "metadata": {},
   "outputs": [
    {
     "name": "stdout",
     "output_type": "stream",
     "text": [
      "tensor([0.0405, 0.1090, 0.3614, 0.2001, 0.6874, 0.3836, 0.5414, 0.2225, 0.3506,\n",
      "        0.0042, 0.0140, 0.0694, 0.0360, 0.0086, 0.2340, 0.1434, 0.4716, 0.1425,\n",
      "        0.6848, 0.4596, 0.6760, 0.2893, 0.4173, 0.7261, 0.2212],\n",
      "       device='cuda:1', grad_fn=<SqueezeBackward1>)\n"
     ]
    }
   ],
   "source": [
    "outputs = D(fake_images)\n",
    "print(outputs)"
   ]
  },
  {
   "cell_type": "code",
   "execution_count": 38,
   "metadata": {},
   "outputs": [
    {
     "data": {
      "text/plain": [
       "tensor([0.0405, 0.1090, 0.3614, 0.2001, 0.6874, 0.3836, 0.5414, 0.2225, 0.3506,\n",
       "        0.0042, 0.0140, 0.0694, 0.0360, 0.0086, 0.2340, 0.1434, 0.4716, 0.1425,\n",
       "        0.6848, 0.4596, 0.6760, 0.2893, 0.4173, 0.7261, 0.2212],\n",
       "       device='cuda:1', grad_fn=<SigmoidBackward>)"
      ]
     },
     "execution_count": 38,
     "metadata": {},
     "output_type": "execute_result"
    }
   ],
   "source": [
    "D_logits(fake_images).sigmoid()"
   ]
  },
  {
   "cell_type": "markdown",
   "metadata": {},
   "source": [
    "# Exloring MNIST dataset"
   ]
  },
  {
   "cell_type": "code",
   "execution_count": 24,
   "metadata": {},
   "outputs": [
    {
     "name": "stdout",
     "output_type": "stream",
     "text": [
      "Downloading http://yann.lecun.com/exdb/mnist/train-images-idx3-ubyte.gz to /home/daniil/gans-mcmc/saved_numpy_arrays/MNIST/raw/train-images-idx3-ubyte.gz\n"
     ]
    },
    {
     "data": {
      "application/vnd.jupyter.widget-view+json": {
       "model_id": "b9160605d92645719b787fe3ae1fd0ef",
       "version_major": 2,
       "version_minor": 0
      },
      "text/plain": [
       "HBox(children=(HTML(value=''), FloatProgress(value=1.0, bar_style='info', layout=Layout(width='20px'), max=1.0…"
      ]
     },
     "metadata": {},
     "output_type": "display_data"
    },
    {
     "name": "stdout",
     "output_type": "stream",
     "text": [
      "Extracting /home/daniil/gans-mcmc/saved_numpy_arrays/MNIST/raw/train-images-idx3-ubyte.gz to /home/daniil/gans-mcmc/saved_numpy_arrays/MNIST/raw\n",
      "Downloading http://yann.lecun.com/exdb/mnist/train-labels-idx1-ubyte.gz to /home/daniil/gans-mcmc/saved_numpy_arrays/MNIST/raw/train-labels-idx1-ubyte.gz\n"
     ]
    },
    {
     "data": {
      "application/vnd.jupyter.widget-view+json": {
       "model_id": "9cf4a062f92a47a1a59982133cddb528",
       "version_major": 2,
       "version_minor": 0
      },
      "text/plain": [
       "HBox(children=(HTML(value=''), FloatProgress(value=1.0, bar_style='info', layout=Layout(width='20px'), max=1.0…"
      ]
     },
     "metadata": {},
     "output_type": "display_data"
    },
    {
     "name": "stdout",
     "output_type": "stream",
     "text": [
      "Extracting /home/daniil/gans-mcmc/saved_numpy_arrays/MNIST/raw/train-labels-idx1-ubyte.gz to /home/daniil/gans-mcmc/saved_numpy_arrays/MNIST/raw\n",
      "Downloading http://yann.lecun.com/exdb/mnist/t10k-images-idx3-ubyte.gz to /home/daniil/gans-mcmc/saved_numpy_arrays/MNIST/raw/t10k-images-idx3-ubyte.gz\n"
     ]
    },
    {
     "data": {
      "application/vnd.jupyter.widget-view+json": {
       "model_id": "a08ec03fc60a45bb8698f41a4523fa8b",
       "version_major": 2,
       "version_minor": 0
      },
      "text/plain": [
       "HBox(children=(HTML(value=''), FloatProgress(value=1.0, bar_style='info', layout=Layout(width='20px'), max=1.0…"
      ]
     },
     "metadata": {},
     "output_type": "display_data"
    },
    {
     "name": "stdout",
     "output_type": "stream",
     "text": [
      "Extracting /home/daniil/gans-mcmc/saved_numpy_arrays/MNIST/raw/t10k-images-idx3-ubyte.gz to /home/daniil/gans-mcmc/saved_numpy_arrays/MNIST/raw\n",
      "Downloading http://yann.lecun.com/exdb/mnist/t10k-labels-idx1-ubyte.gz to /home/daniil/gans-mcmc/saved_numpy_arrays/MNIST/raw/t10k-labels-idx1-ubyte.gz\n",
      "\n"
     ]
    },
    {
     "data": {
      "application/vnd.jupyter.widget-view+json": {
       "model_id": "0febe0625d6744ecbd2f2fa039580510",
       "version_major": 2,
       "version_minor": 0
      },
      "text/plain": [
       "HBox(children=(HTML(value=''), FloatProgress(value=1.0, bar_style='info', layout=Layout(width='20px'), max=1.0…"
      ]
     },
     "metadata": {},
     "output_type": "display_data"
    },
    {
     "name": "stdout",
     "output_type": "stream",
     "text": [
      "Extracting /home/daniil/gans-mcmc/saved_numpy_arrays/MNIST/raw/t10k-labels-idx1-ubyte.gz to /home/daniil/gans-mcmc/saved_numpy_arrays/MNIST/raw\n",
      "Processing...\n",
      "Done!\n"
     ]
    },
    {
     "name": "stderr",
     "output_type": "stream",
     "text": [
      "/home/daniil/anaconda3/envs/myenv/lib/python3.8/site-packages/torchvision/datasets/mnist.py:480: UserWarning: The given NumPy array is not writeable, and PyTorch does not support non-writeable tensors. This means you can write to the underlying (supposedly non-writeable) NumPy array using the tensor. You may want to copy the array to protect its data or make it writeable before converting it to a tensor. This type of warning will be suppressed for the rest of this program. (Triggered internally at  /opt/conda/conda-bld/pytorch_1603729096996/work/torch/csrc/utils/tensor_numpy.cpp:141.)\n",
      "  return torch.from_numpy(parsed.astype(m[2], copy=False)).view(*s)\n"
     ]
    }
   ],
   "source": [
    "seed = 42\n",
    "random.seed(seed)\n",
    "torch.manual_seed(seed)\n",
    "\n",
    "batchSize = 64\n",
    "\n",
    "imageSize = 28\n",
    "\n",
    "path_to_save = '/home/daniil/gans-mcmc/saved_numpy_arrays'\n",
    "\n",
    "dataset = dset.MNIST(root=path_to_save, download=True,\n",
    "                   transform=transforms.Compose([\n",
    "                       transforms.Resize(imageSize),\n",
    "                       transforms.ToTensor(),\n",
    "                       transforms.Normalize((0.5,), (0.5,)),\n",
    "                   ]))\n",
    "\n",
    "dataloader = torch.utils.data.DataLoader(dataset, batch_size=batchSize,\n",
    "                                         shuffle=True, num_workers=4)"
   ]
  },
  {
   "cell_type": "code",
   "execution_count": 30,
   "metadata": {},
   "outputs": [
    {
     "name": "stdout",
     "output_type": "stream",
     "text": [
      "tensor(-1.)\n",
      "tensor(1.)\n",
      "torch.Size([64, 1, 28, 28])\n"
     ]
    }
   ],
   "source": [
    "data_arr = []\n",
    "for images, labels in dataloader:\n",
    "    print(images.min())\n",
    "    print(images.max())\n",
    "    print(images.shape)\n",
    "    break"
   ]
  },
  {
   "cell_type": "code",
   "execution_count": 32,
   "metadata": {},
   "outputs": [
    {
     "data": {
      "image/png": "[encoded data removed]",
      "text/plain": [
       "<Figure size 432x288 with 25 Axes>"
      ]
     },
     "metadata": {
      "needs_background": "light"
     },
     "output_type": "display_data"
    }
   ],
   "source": [
    "real_images_np = images.cpu().detach().numpy()\n",
    "real_images_np = real_images_np.reshape(real_images_np.shape[0], 28, 28)\n",
    "\n",
    "R, C = 5, 5\n",
    "\n",
    "for i in range(25):\n",
    "    plt.subplot(R, C, i + 1)\n",
    "    plt.imshow(real_images_np[i], cmap='gray')\n",
    "plt.show()"
   ]
  },
  {
   "cell_type": "code",
   "execution_count": 35,
   "metadata": {},
   "outputs": [
    {
     "name": "stdout",
     "output_type": "stream",
     "text": [
      "torch.Size([60000, 1, 28, 28])\n"
     ]
    }
   ],
   "source": [
    "data_arr = []\n",
    "for images, labels in dataloader:\n",
    "    data_arr.append(images)\n",
    "    \n",
    "all_train_data = torch.cat(data_arr)\n",
    "print(all_train_data.shape)"
   ]
  },
  {
   "cell_type": "markdown",
   "metadata": {},
   "source": [
    "# ULA"
   ]
  },
  {
   "cell_type": "code",
   "execution_count": 40,
   "metadata": {},
   "outputs": [],
   "source": [
    "z_dim = 100\n",
    "loc = torch.zeros(z_dim).to(device)\n",
    "scale = torch.ones(z_dim).to(device)\n",
    "\n",
    "proposal_args = DotDict()\n",
    "proposal_args.device = device\n",
    "proposal_args.loc = loc\n",
    "proposal_args.scale = scale\n",
    "proposal = IndependentNormal(proposal_args)\n",
    "\n",
    "def z_transform(z):\n",
    "    return z.unsqueeze(-1).unsqueeze(-1)\n",
    "\n",
    "log_prob = True\n",
    "normalize_to_0_1 = True\n",
    "target_gan = partial(gan_energy,\n",
    "                     generator = G, \n",
    "                     discriminator = D_logits, \n",
    "                     proposal = proposal,\n",
    "                     normalize_to_0_1 = normalize_to_0_1,\n",
    "                     log_prob = log_prob,\n",
    "                     z_transform = z_transform)"
   ]
  },
  {
   "cell_type": "code",
   "execution_count": 50,
   "metadata": {},
   "outputs": [
    {
     "name": "stderr",
     "output_type": "stream",
     "text": [
      "  2%|▏         | 1/60 [00:22<22:33, 22.94s/it]"
     ]
    },
    {
     "name": "stdout",
     "output_type": "stream",
     "text": [
      "file /home/daniil/gans-mcmc/saved_numpy_arrays/ula_mnist_eps_0.01_noise_scale_0.1_nsteps_100_batch_num_0.npy was saved, file shape = (11, 1000, 100)\n"
     ]
    },
    {
     "name": "stderr",
     "output_type": "stream",
     "text": [
      "\r",
      "  3%|▎         | 2/60 [00:46<22:15, 23.03s/it]"
     ]
    },
    {
     "name": "stdout",
     "output_type": "stream",
     "text": [
      "file /home/daniil/gans-mcmc/saved_numpy_arrays/ula_mnist_eps_0.01_noise_scale_0.1_nsteps_100_batch_num_1000.npy was saved, file shape = (11, 1000, 100)\n"
     ]
    },
    {
     "name": "stderr",
     "output_type": "stream",
     "text": [
      "\r",
      "  5%|▌         | 3/60 [01:09<22:01, 23.18s/it]"
     ]
    },
    {
     "name": "stdout",
     "output_type": "stream",
     "text": [
      "file /home/daniil/gans-mcmc/saved_numpy_arrays/ula_mnist_eps_0.01_noise_scale_0.1_nsteps_100_batch_num_2000.npy was saved, file shape = (11, 1000, 100)\n"
     ]
    },
    {
     "name": "stderr",
     "output_type": "stream",
     "text": [
      "\r",
      "  7%|▋         | 4/60 [01:33<21:52, 23.43s/it]"
     ]
    },
    {
     "name": "stdout",
     "output_type": "stream",
     "text": [
      "file /home/daniil/gans-mcmc/saved_numpy_arrays/ula_mnist_eps_0.01_noise_scale_0.1_nsteps_100_batch_num_3000.npy was saved, file shape = (11, 1000, 100)\n"
     ]
    },
    {
     "name": "stderr",
     "output_type": "stream",
     "text": [
      "\r",
      "  8%|▊         | 5/60 [01:58<21:42, 23.68s/it]"
     ]
    },
    {
     "name": "stdout",
     "output_type": "stream",
     "text": [
      "file /home/daniil/gans-mcmc/saved_numpy_arrays/ula_mnist_eps_0.01_noise_scale_0.1_nsteps_100_batch_num_4000.npy was saved, file shape = (11, 1000, 100)\n"
     ]
    },
    {
     "name": "stderr",
     "output_type": "stream",
     "text": [
      "\r",
      " 10%|█         | 6/60 [02:22<21:28, 23.87s/it]"
     ]
    },
    {
     "name": "stdout",
     "output_type": "stream",
     "text": [
      "file /home/daniil/gans-mcmc/saved_numpy_arrays/ula_mnist_eps_0.01_noise_scale_0.1_nsteps_100_batch_num_5000.npy was saved, file shape = (11, 1000, 100)\n"
     ]
    },
    {
     "name": "stderr",
     "output_type": "stream",
     "text": [
      "\r",
      " 12%|█▏        | 7/60 [02:46<21:11, 23.99s/it]"
     ]
    },
    {
     "name": "stdout",
     "output_type": "stream",
     "text": [
      "file /home/daniil/gans-mcmc/saved_numpy_arrays/ula_mnist_eps_0.01_noise_scale_0.1_nsteps_100_batch_num_6000.npy was saved, file shape = (11, 1000, 100)\n"
     ]
    },
    {
     "name": "stderr",
     "output_type": "stream",
     "text": [
      "\r",
      " 13%|█▎        | 8/60 [03:10<20:51, 24.07s/it]"
     ]
    },
    {
     "name": "stdout",
     "output_type": "stream",
     "text": [
      "file /home/daniil/gans-mcmc/saved_numpy_arrays/ula_mnist_eps_0.01_noise_scale_0.1_nsteps_100_batch_num_7000.npy was saved, file shape = (11, 1000, 100)\n"
     ]
    },
    {
     "name": "stderr",
     "output_type": "stream",
     "text": [
      "\r",
      " 15%|█▌        | 9/60 [03:35<20:30, 24.14s/it]"
     ]
    },
    {
     "name": "stdout",
     "output_type": "stream",
     "text": [
      "file /home/daniil/gans-mcmc/saved_numpy_arrays/ula_mnist_eps_0.01_noise_scale_0.1_nsteps_100_batch_num_8000.npy was saved, file shape = (11, 1000, 100)\n"
     ]
    },
    {
     "name": "stderr",
     "output_type": "stream",
     "text": [
      "\r",
      " 17%|█▋        | 10/60 [03:59<20:09, 24.18s/it]"
     ]
    },
    {
     "name": "stdout",
     "output_type": "stream",
     "text": [
      "file /home/daniil/gans-mcmc/saved_numpy_arrays/ula_mnist_eps_0.01_noise_scale_0.1_nsteps_100_batch_num_9000.npy was saved, file shape = (11, 1000, 100)\n"
     ]
    },
    {
     "name": "stderr",
     "output_type": "stream",
     "text": [
      "\r",
      " 18%|█▊        | 11/60 [04:23<19:45, 24.20s/it]"
     ]
    },
    {
     "name": "stdout",
     "output_type": "stream",
     "text": [
      "file /home/daniil/gans-mcmc/saved_numpy_arrays/ula_mnist_eps_0.01_noise_scale_0.1_nsteps_100_batch_num_10000.npy was saved, file shape = (11, 1000, 100)\n"
     ]
    },
    {
     "name": "stderr",
     "output_type": "stream",
     "text": [
      "\r",
      " 20%|██        | 12/60 [04:47<19:20, 24.19s/it]"
     ]
    },
    {
     "name": "stdout",
     "output_type": "stream",
     "text": [
      "file /home/daniil/gans-mcmc/saved_numpy_arrays/ula_mnist_eps_0.01_noise_scale_0.1_nsteps_100_batch_num_11000.npy was saved, file shape = (11, 1000, 100)\n"
     ]
    },
    {
     "name": "stderr",
     "output_type": "stream",
     "text": [
      "\r",
      " 22%|██▏       | 13/60 [05:11<18:56, 24.17s/it]"
     ]
    },
    {
     "name": "stdout",
     "output_type": "stream",
     "text": [
      "file /home/daniil/gans-mcmc/saved_numpy_arrays/ula_mnist_eps_0.01_noise_scale_0.1_nsteps_100_batch_num_12000.npy was saved, file shape = (11, 1000, 100)\n"
     ]
    },
    {
     "name": "stderr",
     "output_type": "stream",
     "text": [
      "\r",
      " 23%|██▎       | 14/60 [05:36<18:31, 24.16s/it]"
     ]
    },
    {
     "name": "stdout",
     "output_type": "stream",
     "text": [
      "file /home/daniil/gans-mcmc/saved_numpy_arrays/ula_mnist_eps_0.01_noise_scale_0.1_nsteps_100_batch_num_13000.npy was saved, file shape = (11, 1000, 100)\n"
     ]
    },
    {
     "name": "stderr",
     "output_type": "stream",
     "text": [
      "\r",
      " 25%|██▌       | 15/60 [06:00<18:07, 24.16s/it]"
     ]
    },
    {
     "name": "stdout",
     "output_type": "stream",
     "text": [
      "file /home/daniil/gans-mcmc/saved_numpy_arrays/ula_mnist_eps_0.01_noise_scale_0.1_nsteps_100_batch_num_14000.npy was saved, file shape = (11, 1000, 100)\n"
     ]
    },
    {
     "name": "stderr",
     "output_type": "stream",
     "text": [
      "\r",
      " 27%|██▋       | 16/60 [06:24<17:42, 24.14s/it]"
     ]
    },
    {
     "name": "stdout",
     "output_type": "stream",
     "text": [
      "file /home/daniil/gans-mcmc/saved_numpy_arrays/ula_mnist_eps_0.01_noise_scale_0.1_nsteps_100_batch_num_15000.npy was saved, file shape = (11, 1000, 100)\n"
     ]
    },
    {
     "name": "stderr",
     "output_type": "stream",
     "text": [
      "\r",
      " 28%|██▊       | 17/60 [06:48<17:17, 24.14s/it]"
     ]
    },
    {
     "name": "stdout",
     "output_type": "stream",
     "text": [
      "file /home/daniil/gans-mcmc/saved_numpy_arrays/ula_mnist_eps_0.01_noise_scale_0.1_nsteps_100_batch_num_16000.npy was saved, file shape = (11, 1000, 100)\n"
     ]
    },
    {
     "name": "stderr",
     "output_type": "stream",
     "text": [
      "\r",
      " 30%|███       | 18/60 [07:12<16:53, 24.13s/it]"
     ]
    },
    {
     "name": "stdout",
     "output_type": "stream",
     "text": [
      "file /home/daniil/gans-mcmc/saved_numpy_arrays/ula_mnist_eps_0.01_noise_scale_0.1_nsteps_100_batch_num_17000.npy was saved, file shape = (11, 1000, 100)\n"
     ]
    },
    {
     "name": "stderr",
     "output_type": "stream",
     "text": [
      "\r",
      " 32%|███▏      | 19/60 [07:36<16:28, 24.12s/it]"
     ]
    },
    {
     "name": "stdout",
     "output_type": "stream",
     "text": [
      "file /home/daniil/gans-mcmc/saved_numpy_arrays/ula_mnist_eps_0.01_noise_scale_0.1_nsteps_100_batch_num_18000.npy was saved, file shape = (11, 1000, 100)\n"
     ]
    },
    {
     "name": "stderr",
     "output_type": "stream",
     "text": [
      "\r",
      " 33%|███▎      | 20/60 [08:00<16:04, 24.11s/it]"
     ]
    },
    {
     "name": "stdout",
     "output_type": "stream",
     "text": [
      "file /home/daniil/gans-mcmc/saved_numpy_arrays/ula_mnist_eps_0.01_noise_scale_0.1_nsteps_100_batch_num_19000.npy was saved, file shape = (11, 1000, 100)\n"
     ]
    },
    {
     "name": "stderr",
     "output_type": "stream",
     "text": [
      "\r",
      " 35%|███▌      | 21/60 [08:24<15:40, 24.11s/it]"
     ]
    },
    {
     "name": "stdout",
     "output_type": "stream",
     "text": [
      "file /home/daniil/gans-mcmc/saved_numpy_arrays/ula_mnist_eps_0.01_noise_scale_0.1_nsteps_100_batch_num_20000.npy was saved, file shape = (11, 1000, 100)\n"
     ]
    },
    {
     "name": "stderr",
     "output_type": "stream",
     "text": [
      "\r",
      " 37%|███▋      | 22/60 [08:49<15:16, 24.11s/it]"
     ]
    },
    {
     "name": "stdout",
     "output_type": "stream",
     "text": [
      "file /home/daniil/gans-mcmc/saved_numpy_arrays/ula_mnist_eps_0.01_noise_scale_0.1_nsteps_100_batch_num_21000.npy was saved, file shape = (11, 1000, 100)\n"
     ]
    },
    {
     "name": "stderr",
     "output_type": "stream",
     "text": [
      "\r",
      " 38%|███▊      | 23/60 [09:13<14:52, 24.13s/it]"
     ]
    },
    {
     "name": "stdout",
     "output_type": "stream",
     "text": [
      "file /home/daniil/gans-mcmc/saved_numpy_arrays/ula_mnist_eps_0.01_noise_scale_0.1_nsteps_100_batch_num_22000.npy was saved, file shape = (11, 1000, 100)\n"
     ]
    },
    {
     "name": "stderr",
     "output_type": "stream",
     "text": [
      "\r",
      " 40%|████      | 24/60 [09:37<14:29, 24.14s/it]"
     ]
    },
    {
     "name": "stdout",
     "output_type": "stream",
     "text": [
      "file /home/daniil/gans-mcmc/saved_numpy_arrays/ula_mnist_eps_0.01_noise_scale_0.1_nsteps_100_batch_num_23000.npy was saved, file shape = (11, 1000, 100)\n"
     ]
    },
    {
     "name": "stderr",
     "output_type": "stream",
     "text": [
      "\r",
      " 42%|████▏     | 25/60 [10:01<14:05, 24.14s/it]"
     ]
    },
    {
     "name": "stdout",
     "output_type": "stream",
     "text": [
      "file /home/daniil/gans-mcmc/saved_numpy_arrays/ula_mnist_eps_0.01_noise_scale_0.1_nsteps_100_batch_num_24000.npy was saved, file shape = (11, 1000, 100)\n"
     ]
    },
    {
     "name": "stderr",
     "output_type": "stream",
     "text": [
      "\r",
      " 43%|████▎     | 26/60 [10:25<13:41, 24.15s/it]"
     ]
    },
    {
     "name": "stdout",
     "output_type": "stream",
     "text": [
      "file /home/daniil/gans-mcmc/saved_numpy_arrays/ula_mnist_eps_0.01_noise_scale_0.1_nsteps_100_batch_num_25000.npy was saved, file shape = (11, 1000, 100)\n"
     ]
    },
    {
     "name": "stderr",
     "output_type": "stream",
     "text": [
      "\r",
      " 45%|████▌     | 27/60 [10:49<13:17, 24.15s/it]"
     ]
    },
    {
     "name": "stdout",
     "output_type": "stream",
     "text": [
      "file /home/daniil/gans-mcmc/saved_numpy_arrays/ula_mnist_eps_0.01_noise_scale_0.1_nsteps_100_batch_num_26000.npy was saved, file shape = (11, 1000, 100)\n"
     ]
    },
    {
     "name": "stderr",
     "output_type": "stream",
     "text": [
      "\r",
      " 47%|████▋     | 28/60 [11:13<12:52, 24.15s/it]"
     ]
    },
    {
     "name": "stdout",
     "output_type": "stream",
     "text": [
      "file /home/daniil/gans-mcmc/saved_numpy_arrays/ula_mnist_eps_0.01_noise_scale_0.1_nsteps_100_batch_num_27000.npy was saved, file shape = (11, 1000, 100)\n"
     ]
    },
    {
     "name": "stderr",
     "output_type": "stream",
     "text": [
      "\r",
      " 48%|████▊     | 29/60 [11:38<12:28, 24.16s/it]"
     ]
    },
    {
     "name": "stdout",
     "output_type": "stream",
     "text": [
      "file /home/daniil/gans-mcmc/saved_numpy_arrays/ula_mnist_eps_0.01_noise_scale_0.1_nsteps_100_batch_num_28000.npy was saved, file shape = (11, 1000, 100)\n"
     ]
    },
    {
     "name": "stderr",
     "output_type": "stream",
     "text": [
      "\r",
      " 50%|█████     | 30/60 [12:02<12:04, 24.16s/it]"
     ]
    },
    {
     "name": "stdout",
     "output_type": "stream",
     "text": [
      "file /home/daniil/gans-mcmc/saved_numpy_arrays/ula_mnist_eps_0.01_noise_scale_0.1_nsteps_100_batch_num_29000.npy was saved, file shape = (11, 1000, 100)\n"
     ]
    },
    {
     "name": "stderr",
     "output_type": "stream",
     "text": [
      "\r",
      " 52%|█████▏    | 31/60 [12:26<11:40, 24.16s/it]"
     ]
    },
    {
     "name": "stdout",
     "output_type": "stream",
     "text": [
      "file /home/daniil/gans-mcmc/saved_numpy_arrays/ula_mnist_eps_0.01_noise_scale_0.1_nsteps_100_batch_num_30000.npy was saved, file shape = (11, 1000, 100)\n"
     ]
    },
    {
     "name": "stderr",
     "output_type": "stream",
     "text": [
      "\r",
      " 53%|█████▎    | 32/60 [12:50<11:16, 24.16s/it]"
     ]
    },
    {
     "name": "stdout",
     "output_type": "stream",
     "text": [
      "file /home/daniil/gans-mcmc/saved_numpy_arrays/ula_mnist_eps_0.01_noise_scale_0.1_nsteps_100_batch_num_31000.npy was saved, file shape = (11, 1000, 100)\n"
     ]
    },
    {
     "name": "stderr",
     "output_type": "stream",
     "text": [
      "\r",
      " 55%|█████▌    | 33/60 [13:14<10:52, 24.15s/it]"
     ]
    },
    {
     "name": "stdout",
     "output_type": "stream",
     "text": [
      "file /home/daniil/gans-mcmc/saved_numpy_arrays/ula_mnist_eps_0.01_noise_scale_0.1_nsteps_100_batch_num_32000.npy was saved, file shape = (11, 1000, 100)\n"
     ]
    },
    {
     "name": "stderr",
     "output_type": "stream",
     "text": [
      "\r",
      " 57%|█████▋    | 34/60 [13:38<10:27, 24.15s/it]"
     ]
    },
    {
     "name": "stdout",
     "output_type": "stream",
     "text": [
      "file /home/daniil/gans-mcmc/saved_numpy_arrays/ula_mnist_eps_0.01_noise_scale_0.1_nsteps_100_batch_num_33000.npy was saved, file shape = (11, 1000, 100)\n"
     ]
    },
    {
     "name": "stderr",
     "output_type": "stream",
     "text": [
      "\r",
      " 58%|█████▊    | 35/60 [14:03<10:03, 24.15s/it]"
     ]
    },
    {
     "name": "stdout",
     "output_type": "stream",
     "text": [
      "file /home/daniil/gans-mcmc/saved_numpy_arrays/ula_mnist_eps_0.01_noise_scale_0.1_nsteps_100_batch_num_34000.npy was saved, file shape = (11, 1000, 100)\n"
     ]
    },
    {
     "name": "stderr",
     "output_type": "stream",
     "text": [
      "\r",
      " 60%|██████    | 36/60 [14:27<09:39, 24.14s/it]"
     ]
    },
    {
     "name": "stdout",
     "output_type": "stream",
     "text": [
      "file /home/daniil/gans-mcmc/saved_numpy_arrays/ula_mnist_eps_0.01_noise_scale_0.1_nsteps_100_batch_num_35000.npy was saved, file shape = (11, 1000, 100)\n"
     ]
    },
    {
     "name": "stderr",
     "output_type": "stream",
     "text": [
      "\r",
      " 62%|██████▏   | 37/60 [14:51<09:15, 24.14s/it]"
     ]
    },
    {
     "name": "stdout",
     "output_type": "stream",
     "text": [
      "file /home/daniil/gans-mcmc/saved_numpy_arrays/ula_mnist_eps_0.01_noise_scale_0.1_nsteps_100_batch_num_36000.npy was saved, file shape = (11, 1000, 100)\n"
     ]
    },
    {
     "name": "stderr",
     "output_type": "stream",
     "text": [
      "\r",
      " 63%|██████▎   | 38/60 [15:15<08:51, 24.14s/it]"
     ]
    },
    {
     "name": "stdout",
     "output_type": "stream",
     "text": [
      "file /home/daniil/gans-mcmc/saved_numpy_arrays/ula_mnist_eps_0.01_noise_scale_0.1_nsteps_100_batch_num_37000.npy was saved, file shape = (11, 1000, 100)\n"
     ]
    },
    {
     "name": "stderr",
     "output_type": "stream",
     "text": [
      "\r",
      " 65%|██████▌   | 39/60 [15:39<08:26, 24.14s/it]"
     ]
    },
    {
     "name": "stdout",
     "output_type": "stream",
     "text": [
      "file /home/daniil/gans-mcmc/saved_numpy_arrays/ula_mnist_eps_0.01_noise_scale_0.1_nsteps_100_batch_num_38000.npy was saved, file shape = (11, 1000, 100)\n"
     ]
    },
    {
     "name": "stderr",
     "output_type": "stream",
     "text": [
      "\r",
      " 67%|██████▋   | 40/60 [16:03<08:02, 24.14s/it]"
     ]
    },
    {
     "name": "stdout",
     "output_type": "stream",
     "text": [
      "file /home/daniil/gans-mcmc/saved_numpy_arrays/ula_mnist_eps_0.01_noise_scale_0.1_nsteps_100_batch_num_39000.npy was saved, file shape = (11, 1000, 100)\n"
     ]
    },
    {
     "name": "stderr",
     "output_type": "stream",
     "text": [
      "\r",
      " 68%|██████▊   | 41/60 [16:27<07:38, 24.13s/it]"
     ]
    },
    {
     "name": "stdout",
     "output_type": "stream",
     "text": [
      "file /home/daniil/gans-mcmc/saved_numpy_arrays/ula_mnist_eps_0.01_noise_scale_0.1_nsteps_100_batch_num_40000.npy was saved, file shape = (11, 1000, 100)\n"
     ]
    },
    {
     "name": "stderr",
     "output_type": "stream",
     "text": [
      "\r",
      " 70%|███████   | 42/60 [16:51<07:14, 24.13s/it]"
     ]
    },
    {
     "name": "stdout",
     "output_type": "stream",
     "text": [
      "file /home/daniil/gans-mcmc/saved_numpy_arrays/ula_mnist_eps_0.01_noise_scale_0.1_nsteps_100_batch_num_41000.npy was saved, file shape = (11, 1000, 100)\n"
     ]
    },
    {
     "name": "stderr",
     "output_type": "stream",
     "text": [
      "\r",
      " 72%|███████▏  | 43/60 [17:16<06:50, 24.13s/it]"
     ]
    },
    {
     "name": "stdout",
     "output_type": "stream",
     "text": [
      "file /home/daniil/gans-mcmc/saved_numpy_arrays/ula_mnist_eps_0.01_noise_scale_0.1_nsteps_100_batch_num_42000.npy was saved, file shape = (11, 1000, 100)\n"
     ]
    },
    {
     "name": "stderr",
     "output_type": "stream",
     "text": [
      "\r",
      " 73%|███████▎  | 44/60 [17:40<06:26, 24.13s/it]"
     ]
    },
    {
     "name": "stdout",
     "output_type": "stream",
     "text": [
      "file /home/daniil/gans-mcmc/saved_numpy_arrays/ula_mnist_eps_0.01_noise_scale_0.1_nsteps_100_batch_num_43000.npy was saved, file shape = (11, 1000, 100)\n"
     ]
    },
    {
     "name": "stderr",
     "output_type": "stream",
     "text": [
      "\r",
      " 75%|███████▌  | 45/60 [18:04<06:01, 24.13s/it]"
     ]
    },
    {
     "name": "stdout",
     "output_type": "stream",
     "text": [
      "file /home/daniil/gans-mcmc/saved_numpy_arrays/ula_mnist_eps_0.01_noise_scale_0.1_nsteps_100_batch_num_44000.npy was saved, file shape = (11, 1000, 100)\n"
     ]
    },
    {
     "name": "stderr",
     "output_type": "stream",
     "text": [
      "\r",
      " 77%|███████▋  | 46/60 [18:28<05:37, 24.13s/it]"
     ]
    },
    {
     "name": "stdout",
     "output_type": "stream",
     "text": [
      "file /home/daniil/gans-mcmc/saved_numpy_arrays/ula_mnist_eps_0.01_noise_scale_0.1_nsteps_100_batch_num_45000.npy was saved, file shape = (11, 1000, 100)\n"
     ]
    },
    {
     "name": "stderr",
     "output_type": "stream",
     "text": [
      "\r",
      " 78%|███████▊  | 47/60 [18:52<05:13, 24.13s/it]"
     ]
    },
    {
     "name": "stdout",
     "output_type": "stream",
     "text": [
      "file /home/daniil/gans-mcmc/saved_numpy_arrays/ula_mnist_eps_0.01_noise_scale_0.1_nsteps_100_batch_num_46000.npy was saved, file shape = (11, 1000, 100)\n"
     ]
    },
    {
     "name": "stderr",
     "output_type": "stream",
     "text": [
      "\r",
      " 80%|████████  | 48/60 [19:16<04:49, 24.12s/it]"
     ]
    },
    {
     "name": "stdout",
     "output_type": "stream",
     "text": [
      "file /home/daniil/gans-mcmc/saved_numpy_arrays/ula_mnist_eps_0.01_noise_scale_0.1_nsteps_100_batch_num_47000.npy was saved, file shape = (11, 1000, 100)\n"
     ]
    },
    {
     "name": "stderr",
     "output_type": "stream",
     "text": [
      "\r",
      " 82%|████████▏ | 49/60 [19:40<04:25, 24.12s/it]"
     ]
    },
    {
     "name": "stdout",
     "output_type": "stream",
     "text": [
      "file /home/daniil/gans-mcmc/saved_numpy_arrays/ula_mnist_eps_0.01_noise_scale_0.1_nsteps_100_batch_num_48000.npy was saved, file shape = (11, 1000, 100)\n"
     ]
    },
    {
     "name": "stderr",
     "output_type": "stream",
     "text": [
      "\r",
      " 83%|████████▎ | 50/60 [20:04<04:01, 24.12s/it]"
     ]
    },
    {
     "name": "stdout",
     "output_type": "stream",
     "text": [
      "file /home/daniil/gans-mcmc/saved_numpy_arrays/ula_mnist_eps_0.01_noise_scale_0.1_nsteps_100_batch_num_49000.npy was saved, file shape = (11, 1000, 100)\n"
     ]
    },
    {
     "name": "stderr",
     "output_type": "stream",
     "text": [
      "\r",
      " 85%|████████▌ | 51/60 [20:29<03:37, 24.12s/it]"
     ]
    },
    {
     "name": "stdout",
     "output_type": "stream",
     "text": [
      "file /home/daniil/gans-mcmc/saved_numpy_arrays/ula_mnist_eps_0.01_noise_scale_0.1_nsteps_100_batch_num_50000.npy was saved, file shape = (11, 1000, 100)\n"
     ]
    },
    {
     "name": "stderr",
     "output_type": "stream",
     "text": [
      "\r",
      " 87%|████████▋ | 52/60 [20:53<03:12, 24.12s/it]"
     ]
    },
    {
     "name": "stdout",
     "output_type": "stream",
     "text": [
      "file /home/daniil/gans-mcmc/saved_numpy_arrays/ula_mnist_eps_0.01_noise_scale_0.1_nsteps_100_batch_num_51000.npy was saved, file shape = (11, 1000, 100)\n"
     ]
    },
    {
     "name": "stderr",
     "output_type": "stream",
     "text": [
      "\r",
      " 88%|████████▊ | 53/60 [21:17<02:48, 24.12s/it]"
     ]
    },
    {
     "name": "stdout",
     "output_type": "stream",
     "text": [
      "file /home/daniil/gans-mcmc/saved_numpy_arrays/ula_mnist_eps_0.01_noise_scale_0.1_nsteps_100_batch_num_52000.npy was saved, file shape = (11, 1000, 100)\n"
     ]
    },
    {
     "name": "stderr",
     "output_type": "stream",
     "text": [
      "\r",
      " 90%|█████████ | 54/60 [21:41<02:24, 24.12s/it]"
     ]
    },
    {
     "name": "stdout",
     "output_type": "stream",
     "text": [
      "file /home/daniil/gans-mcmc/saved_numpy_arrays/ula_mnist_eps_0.01_noise_scale_0.1_nsteps_100_batch_num_53000.npy was saved, file shape = (11, 1000, 100)\n"
     ]
    },
    {
     "name": "stderr",
     "output_type": "stream",
     "text": [
      "\r",
      " 92%|█████████▏| 55/60 [22:05<02:00, 24.11s/it]"
     ]
    },
    {
     "name": "stdout",
     "output_type": "stream",
     "text": [
      "file /home/daniil/gans-mcmc/saved_numpy_arrays/ula_mnist_eps_0.01_noise_scale_0.1_nsteps_100_batch_num_54000.npy was saved, file shape = (11, 1000, 100)\n"
     ]
    },
    {
     "name": "stderr",
     "output_type": "stream",
     "text": [
      "\r",
      " 93%|█████████▎| 56/60 [22:29<01:36, 24.11s/it]"
     ]
    },
    {
     "name": "stdout",
     "output_type": "stream",
     "text": [
      "file /home/daniil/gans-mcmc/saved_numpy_arrays/ula_mnist_eps_0.01_noise_scale_0.1_nsteps_100_batch_num_55000.npy was saved, file shape = (11, 1000, 100)\n"
     ]
    },
    {
     "name": "stderr",
     "output_type": "stream",
     "text": [
      "\r",
      " 95%|█████████▌| 57/60 [22:53<01:12, 24.11s/it]"
     ]
    },
    {
     "name": "stdout",
     "output_type": "stream",
     "text": [
      "file /home/daniil/gans-mcmc/saved_numpy_arrays/ula_mnist_eps_0.01_noise_scale_0.1_nsteps_100_batch_num_56000.npy was saved, file shape = (11, 1000, 100)\n"
     ]
    },
    {
     "name": "stderr",
     "output_type": "stream",
     "text": [
      "\r",
      " 97%|█████████▋| 58/60 [23:17<00:48, 24.11s/it]"
     ]
    },
    {
     "name": "stdout",
     "output_type": "stream",
     "text": [
      "file /home/daniil/gans-mcmc/saved_numpy_arrays/ula_mnist_eps_0.01_noise_scale_0.1_nsteps_100_batch_num_57000.npy was saved, file shape = (11, 1000, 100)\n"
     ]
    },
    {
     "name": "stderr",
     "output_type": "stream",
     "text": [
      "\r",
      " 98%|█████████▊| 59/60 [23:41<00:24, 24.11s/it]"
     ]
    },
    {
     "name": "stdout",
     "output_type": "stream",
     "text": [
      "file /home/daniil/gans-mcmc/saved_numpy_arrays/ula_mnist_eps_0.01_noise_scale_0.1_nsteps_100_batch_num_58000.npy was saved, file shape = (11, 1000, 100)\n"
     ]
    },
    {
     "name": "stderr",
     "output_type": "stream",
     "text": [
      "100%|██████████| 60/60 [24:06<00:00, 24.10s/it]"
     ]
    },
    {
     "name": "stdout",
     "output_type": "stream",
     "text": [
      "file /home/daniil/gans-mcmc/saved_numpy_arrays/ula_mnist_eps_0.01_noise_scale_0.1_nsteps_100_batch_num_59000.npy was saved, file shape = (11, 1000, 100)\n"
     ]
    },
    {
     "name": "stderr",
     "output_type": "stream",
     "text": [
      "\n"
     ]
    }
   ],
   "source": [
    "random_seed = 42\n",
    "torch.manual_seed(random_seed)\n",
    "np.random.seed(random_seed)\n",
    "random.seed(random_seed)\n",
    "\n",
    "batch_size = 1000\n",
    "n = 60000\n",
    "n_steps = 100\n",
    "grad_step = 0.01\n",
    "eps_scale = 0.1\n",
    "method_name = 'ula_mnist'\n",
    "path_to_save = '/home/daniil/gans-mcmc/saved_numpy_arrays'\n",
    "file_name = f'{method_name}_eps_{grad_step}_noise_scale_{eps_scale}_nsteps_{n_steps}'\n",
    "every_step = 10\n",
    "continue_z = None\n",
    "\n",
    "z_last_np, zs = langevin_sampling(target_gan, proposal, batch_size, n,\n",
    "                                  path_to_save, file_name, every_step,\n",
    "                                  continue_z,\n",
    "                                  n_steps, grad_step, eps_scale)"
   ]
  },
  {
   "cell_type": "code",
   "execution_count": 51,
   "metadata": {},
   "outputs": [
    {
     "name": "stderr",
     "output_type": "stream",
     "text": [
      "100%|██████████| 60/60 [00:00<00:00, 1117.42it/s]\n"
     ]
    }
   ],
   "source": [
    "batch_size = 1000\n",
    "n = 60000\n",
    "n_steps = 100\n",
    "grad_step = 0.01\n",
    "eps_scale = 0.1\n",
    "method_name = 'ula_mnist'\n",
    "path_to_save = '/home/daniil/gans-mcmc/saved_numpy_arrays'\n",
    "file_name = f'{method_name}_eps_{grad_step}_noise_scale_{eps_scale}_nsteps_{n_steps}'\n",
    "\n",
    "load_ula_batches = load_data_from_batches(n, batch_size, path_to_save, file_name)"
   ]
  },
  {
   "cell_type": "code",
   "execution_count": 52,
   "metadata": {},
   "outputs": [
    {
     "data": {
      "text/plain": [
       "(11, 60000, 100)"
      ]
     },
     "execution_count": 52,
     "metadata": {},
     "output_type": "execute_result"
    }
   ],
   "source": [
    "load_ula_batches.shape"
   ]
  },
  {
   "cell_type": "code",
   "execution_count": null,
   "metadata": {},
   "outputs": [],
   "source": []
  }
 ],
 "metadata": {
  "kernelspec": {
   "display_name": "Python 3",
   "language": "python",
   "name": "python3"
  },
  "language_info": {
   "codemirror_mode": {
    "name": "ipython",
    "version": 3
   },
   "file_extension": ".py",
   "mimetype": "text/x-python",
   "name": "python",
   "nbconvert_exporter": "python",
   "pygments_lexer": "ipython3",
   "version": "3.8.5"
  }
 },
 "nbformat": 4,
 "nbformat_minor": 2
}
