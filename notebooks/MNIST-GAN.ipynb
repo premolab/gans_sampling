{
 "cells": [
  {
   "cell_type": "code",
   "execution_count": 1,
   "metadata": {},
   "outputs": [],
   "source": [
    "%load_ext autoreload\n",
    "%autoreload 2"
   ]
  },
  {
   "cell_type": "code",
   "execution_count": 2,
   "metadata": {},
   "outputs": [],
   "source": [
    "import os, sys\n",
    "cwd = os.getcwd()\n",
    "\n",
    "api_path_сifar = os.path.join(cwd, '..', 'tools', 'cifar10_utils')\n",
    "api_path_sampling = os.path.join(cwd, '..', 'tools', 'sampling_utils')\n",
    "api_path_gan_metrics = os.path.join(cwd, '..', 'tools', 'gan_metrics')\n",
    "models_cifar_scratch_path = os.path.join(cwd, '..', 'models_cifar10')\n",
    "#models_2d_path = os.path.join(cwd, '..', 'models_25gaussians', 'wasserstein')\n",
    "sys.path.append(api_path_сifar)\n",
    "sys.path.append(api_path_sampling)\n",
    "sys.path.append(api_path_gan_metrics)"
   ]
  },
  {
   "cell_type": "code",
   "execution_count": null,
   "metadata": {},
   "outputs": [],
   "source": []
  }
 ],
 "metadata": {
  "kernelspec": {
   "display_name": "gans_env",
   "language": "python",
   "name": "gans_env"
  },
  "language_info": {
   "codemirror_mode": {
    "name": "ipython",
    "version": 3
   },
   "file_extension": ".py",
   "mimetype": "text/x-python",
   "name": "python",
   "nbconvert_exporter": "python",
   "pygments_lexer": "ipython3",
   "version": "3.8.5"
  }
 },
 "nbformat": 4,
 "nbformat_minor": 2
}
