{
 "cells": [
  {
   "cell_type": "code",
   "execution_count": 1,
   "id": "caring-pantyhose",
   "metadata": {},
   "outputs": [],
   "source": [
    "%load_ext autoreload\n",
    "%autoreload 2"
   ]
  },
  {
   "cell_type": "code",
   "execution_count": 2,
   "id": "domestic-singapore",
   "metadata": {},
   "outputs": [],
   "source": [
    "import os, sys\n",
    "cwd = os.getcwd()\n",
    "\n",
    "api_path_сifar = os.path.join(cwd, '..', 'tools', 'cifar10_utils')\n",
    "api_path_sampling = os.path.join(cwd, '..', 'tools', 'sampling_utils')\n",
    "api_path_gan_metrics = os.path.join(cwd, '..', 'tools', 'gan_metrics')\n",
    "models_cifar_scratch_path = os.path.join(cwd, '..', 'models', 'models_cifar10')\n",
    "\n",
    "sys.path.append(api_path_сifar)\n",
    "sys.path.append(api_path_sampling)\n",
    "sys.path.append(api_path_gan_metrics)"
   ]
  },
  {
   "cell_type": "code",
   "execution_count": 3,
   "id": "lined-monkey",
   "metadata": {},
   "outputs": [],
   "source": [
    "import numpy as np\n",
    "import time\n",
    "import random\n",
    "import glob\n",
    "import importlib\n",
    "from tqdm import tqdm\n",
    "from matplotlib import pyplot as plt\n",
    "\n",
    "import torch, torch.nn as nn\n",
    "import torch.nn.functional as F\n",
    "from torch.distributions import Normal\n",
    "from distributions import IndependentNormal\n",
    "import torchvision.transforms as transforms\n",
    "\n",
    "from functools import partial\n",
    "\n",
    "from dataloader import get_loader\n",
    "\n",
    "from dcgan import (Discriminator_cifar10, \n",
    "                   Generator_cifar10)\n",
    "\n",
    "from params_cifar10 import args\n",
    "from general_utils import to_var, DotDict, to_np, Discriminator_logits\n",
    "\n",
    "from metrics_utils import calculate_images_statistics, z_transform\n",
    "\n",
    "from mh_sampling import mh_sampling, mh_sampling_from_scratch\n",
    "from ebm_sampling import (langevin_sampling, \n",
    "                          aggregate_sampling_output,\n",
    "                          load_data_from_batches,\n",
    "                          mala_sampling,\n",
    "                          tempered_transitions_sampling,\n",
    "                          gan_energy)\n",
    "\n",
    "from sir_ais_sampling import (sir_independent_sampling,\n",
    "                              sir_correlated_sampling)\n",
    "\n",
    "from metrics import inception_score\n",
    "from dataloader import GenDataset, LatentFixDataset"
   ]
  },
  {
   "cell_type": "markdown",
   "id": "pressing-reform",
   "metadata": {},
   "source": [
    "## Download model"
   ]
  },
  {
   "cell_type": "code",
   "execution_count": 4,
   "id": "interpreted-genome",
   "metadata": {},
   "outputs": [],
   "source": [
    "args.device = torch.device('cuda:1' if torch.cuda.is_available() else 'cpu')\n",
    "device = args.device\n",
    "\n",
    "G = Generator_cifar10(ngpu=1)\n",
    "D = Discriminator_cifar10(ngpu=1)\n",
    "\n",
    "D.load_state_dict(torch.load(os.path.join(models_cifar_scratch_path, 'netD_epoch_199.pth')))\n",
    "G.load_state_dict(torch.load(os.path.join(models_cifar_scratch_path, 'netG_epoch_199.pth')))\n",
    "\n",
    "D_logits = Discriminator_logits(D, ngpu=1)\n",
    "\n",
    "if torch.cuda.is_available():\n",
    "    D = D.to(device).eval()\n",
    "    G = G.to(device).eval()\n",
    "    D_logits = D_logits.to(device).eval()\n",
    "    \n",
    "G.z_dim = 100\n",
    "G.device = device\n",
    "z_dim = 100"
   ]
  },
  {
   "cell_type": "code",
   "execution_count": 5,
   "id": "headed-television",
   "metadata": {},
   "outputs": [],
   "source": [
    "loc = torch.zeros(z_dim).to(device)\n",
    "scale = torch.ones(z_dim).to(device)\n",
    "\n",
    "proposal_args = DotDict()\n",
    "proposal_args.device = device\n",
    "proposal_args.loc = loc\n",
    "proposal_args.scale = scale\n",
    "proposal = IndependentNormal(proposal_args)\n",
    "\n",
    "log_prob = True\n",
    "normalize_to_0_1 = True\n",
    "\n",
    "def z_transform(z):\n",
    "    return z.unsqueeze(-1).unsqueeze(-1)\n",
    "\n",
    "target_gan = partial(gan_energy,\n",
    "                     generator = G, \n",
    "                     discriminator = D_logits, \n",
    "                     proposal = proposal,\n",
    "                     normalize_to_0_1 = normalize_to_0_1,\n",
    "                     log_prob = log_prob,\n",
    "                     z_transform = z_transform)"
   ]
  },
  {
   "cell_type": "markdown",
   "id": "light-passing",
   "metadata": {},
   "source": [
    "## ULA"
   ]
  },
  {
   "cell_type": "code",
   "execution_count": 5,
   "id": "early-termination",
   "metadata": {},
   "outputs": [],
   "source": [
    "method_name = 'ula'\n",
    "batch_size = 1000\n",
    "n = 50000\n",
    "n_steps = 1000\n",
    "grad_step = 0.01\n",
    "eps_scale = 0.1\n",
    "path_to_np_files = '/home/daniil/gans-mcmc/saved_numpy_arrays'\n",
    "history_file_name_ula_small = f'{method_name}_eps_{grad_step}_noise_scale_{eps_scale}_nsteps_{n_steps}_small.npy'\n",
    "path_to_read_ula_latent_vectors_small = os.path.join(path_to_np_files, history_file_name_ula_small)\n",
    "z_agg_step = np.load(path_to_read_ula_latent_vectors_small)"
   ]
  },
  {
   "cell_type": "code",
   "execution_count": 6,
   "id": "following-stocks",
   "metadata": {},
   "outputs": [
    {
     "data": {
      "text/plain": [
       "(21, 50000, 100)"
      ]
     },
     "execution_count": 6,
     "metadata": {},
     "output_type": "execute_result"
    }
   ],
   "source": [
    "z_agg_step.shape"
   ]
  },
  {
   "cell_type": "code",
   "execution_count": 7,
   "id": "hundred-reception",
   "metadata": {
    "scrolled": true
   },
   "outputs": [
    {
     "name": "stdout",
     "output_type": "stream",
     "text": [
      "Files already downloaded and verified\n",
      "Files already downloaded and verified\n",
      "------------------------------------\n",
      "step = 0\n",
      "sample size = (50000, 100)\n",
      "sample size after deleteting nans = (50000, 100)\n",
      "start to calculate FID score for test cifar10...\n"
     ]
    },
    {
     "name": "stderr",
     "output_type": "stream",
     "text": [
      "100it [00:01, 55.27it/s]\n"
     ]
    },
    {
     "name": "stdout",
     "output_type": "stream",
     "text": [
      "shape of generated images = (10000, 3, 32, 32)\n",
      "shape of real images = (10000, 3, 32, 32)\n"
     ]
    },
    {
     "name": "stderr",
     "output_type": "stream",
     "text": [
      "100%|██████████| 200/200 [00:16<00:00, 11.94it/s]\n",
      "  1%|          | 2/200 [00:00<00:16, 12.03it/s]"
     ]
    },
    {
     "name": "stdout",
     "output_type": "stream",
     "text": [
      "/home/daniil/gans-mcmc/saved_numpy_arrays/ula_dcgan_recalculate_pretrained_fake_test_step_0.npy\n"
     ]
    },
    {
     "name": "stderr",
     "output_type": "stream",
     "text": [
      "100%|██████████| 200/200 [00:16<00:00, 11.95it/s]\n",
      "fid: 100%|██████████| 10/10 [00:34<00:00,  3.41s/it, mean=39.6]"
     ]
    },
    {
     "name": "stdout",
     "output_type": "stream",
     "text": [
      "FID score for test cifar10 with ula_dcgan_recalculate: mean 39.62882295543382, std 0.4578858817004737\n",
      "time for FID calculation on test = 69.911s\n",
      "start to calculate FID score for train cifar10...\n"
     ]
    },
    {
     "name": "stderr",
     "output_type": "stream",
     "text": [
      "\n",
      "500it [00:07, 66.82it/s]\n"
     ]
    },
    {
     "name": "stdout",
     "output_type": "stream",
     "text": [
      "shape of generated images = (50000, 3, 32, 32)\n",
      "shape of real images = (50000, 3, 32, 32)\n"
     ]
    },
    {
     "name": "stderr",
     "output_type": "stream",
     "text": [
      "100%|██████████| 1000/1000 [01:25<00:00, 11.71it/s]\n",
      "  0%|          | 2/1000 [00:00<01:26, 11.50it/s]"
     ]
    },
    {
     "name": "stdout",
     "output_type": "stream",
     "text": [
      "/home/daniil/gans-mcmc/saved_numpy_arrays/ula_dcgan_recalculate_pretrained_fake_train_step_0.npy\n"
     ]
    },
    {
     "name": "stderr",
     "output_type": "stream",
     "text": [
      "100%|██████████| 1000/1000 [01:28<00:00, 11.36it/s]\n",
      "fid: 100%|██████████| 10/10 [01:14<00:00,  7.41s/it, mean=35.7]"
     ]
    },
    {
     "name": "stdout",
     "output_type": "stream",
     "text": [
      "FID score for train cifar10 with ula_dcgan_recalculate: mean 35.716967444687825, std 0.22371321329750932\n",
      "time for FID calculation on train = 256.456s\n",
      "------------------------------------\n",
      "step = 50\n",
      "sample size = (50000, 100)\n",
      "sample size after deleteting nans = (50000, 100)\n",
      "start to calculate FID score for test cifar10...\n"
     ]
    },
    {
     "name": "stderr",
     "output_type": "stream",
     "text": [
      "\n",
      "100it [00:01, 63.06it/s]\n"
     ]
    },
    {
     "name": "stdout",
     "output_type": "stream",
     "text": [
      "shape of generated images = (10000, 3, 32, 32)\n",
      "shape of real images = (10000, 3, 32, 32)\n"
     ]
    },
    {
     "name": "stderr",
     "output_type": "stream",
     "text": [
      "100%|██████████| 200/200 [00:16<00:00, 11.88it/s]\n",
      "  1%|          | 2/200 [00:00<00:16, 11.83it/s]"
     ]
    },
    {
     "name": "stdout",
     "output_type": "stream",
     "text": [
      "/home/daniil/gans-mcmc/saved_numpy_arrays/ula_dcgan_recalculate_pretrained_fake_test_step_50.npy\n"
     ]
    },
    {
     "name": "stderr",
     "output_type": "stream",
     "text": [
      "100%|██████████| 200/200 [00:17<00:00, 11.74it/s]\n",
      "fid: 100%|██████████| 10/10 [00:33<00:00,  3.40s/it, mean=45.2]"
     ]
    },
    {
     "name": "stdout",
     "output_type": "stream",
     "text": [
      "FID score for test cifar10 with ula_dcgan_recalculate: mean 45.215968221926474, std 0.7777033557657044\n",
      "time for FID calculation on test = 69.989s\n",
      "start to calculate FID score for train cifar10...\n"
     ]
    },
    {
     "name": "stderr",
     "output_type": "stream",
     "text": [
      "\n",
      "500it [00:07, 65.77it/s]\n"
     ]
    },
    {
     "name": "stdout",
     "output_type": "stream",
     "text": [
      "shape of generated images = (50000, 3, 32, 32)\n",
      "shape of real images = (50000, 3, 32, 32)\n"
     ]
    },
    {
     "name": "stderr",
     "output_type": "stream",
     "text": [
      "100%|██████████| 1000/1000 [01:26<00:00, 11.61it/s]\n",
      "  0%|          | 2/1000 [00:00<01:27, 11.38it/s]"
     ]
    },
    {
     "name": "stdout",
     "output_type": "stream",
     "text": [
      "/home/daniil/gans-mcmc/saved_numpy_arrays/ula_dcgan_recalculate_pretrained_fake_train_step_50.npy\n"
     ]
    },
    {
     "name": "stderr",
     "output_type": "stream",
     "text": [
      "100%|██████████| 1000/1000 [01:28<00:00, 11.30it/s]\n",
      "fid: 100%|██████████| 10/10 [01:14<00:00,  7.41s/it, mean=41.2]"
     ]
    },
    {
     "name": "stdout",
     "output_type": "stream",
     "text": [
      "FID score for train cifar10 with ula_dcgan_recalculate: mean 41.23658666158131, std 0.2741671124026705\n",
      "time for FID calculation on train = 257.329s\n",
      "------------------------------------\n",
      "step = 100\n",
      "sample size = (50000, 100)\n",
      "sample size after deleteting nans = (50000, 100)\n",
      "start to calculate FID score for test cifar10...\n"
     ]
    },
    {
     "name": "stderr",
     "output_type": "stream",
     "text": [
      "\n",
      "100it [00:01, 61.72it/s]\n"
     ]
    },
    {
     "name": "stdout",
     "output_type": "stream",
     "text": [
      "shape of generated images = (10000, 3, 32, 32)\n",
      "shape of real images = (10000, 3, 32, 32)\n"
     ]
    },
    {
     "name": "stderr",
     "output_type": "stream",
     "text": [
      "100%|██████████| 200/200 [00:16<00:00, 11.89it/s]\n",
      "  1%|          | 2/200 [00:00<00:16, 11.89it/s]"
     ]
    },
    {
     "name": "stdout",
     "output_type": "stream",
     "text": [
      "/home/daniil/gans-mcmc/saved_numpy_arrays/ula_dcgan_recalculate_pretrained_fake_test_step_100.npy\n"
     ]
    },
    {
     "name": "stderr",
     "output_type": "stream",
     "text": [
      "100%|██████████| 200/200 [00:17<00:00, 11.73it/s]\n",
      "fid: 100%|██████████| 10/10 [00:34<00:00,  3.41s/it, mean=39.5]"
     ]
    },
    {
     "name": "stdout",
     "output_type": "stream",
     "text": [
      "FID score for test cifar10 with ula_dcgan_recalculate: mean 39.45932566694291, std 0.6813296007537125\n",
      "time for FID calculation on test = 70.051s\n",
      "start to calculate FID score for train cifar10...\n"
     ]
    },
    {
     "name": "stderr",
     "output_type": "stream",
     "text": [
      "\n",
      "500it [00:07, 66.31it/s]\n"
     ]
    },
    {
     "name": "stdout",
     "output_type": "stream",
     "text": [
      "shape of generated images = (50000, 3, 32, 32)\n",
      "shape of real images = (50000, 3, 32, 32)\n"
     ]
    },
    {
     "name": "stderr",
     "output_type": "stream",
     "text": [
      "100%|██████████| 1000/1000 [01:26<00:00, 11.60it/s]\n",
      "  0%|          | 2/1000 [00:00<01:27, 11.39it/s]"
     ]
    },
    {
     "name": "stdout",
     "output_type": "stream",
     "text": [
      "/home/daniil/gans-mcmc/saved_numpy_arrays/ula_dcgan_recalculate_pretrained_fake_train_step_100.npy\n"
     ]
    },
    {
     "name": "stderr",
     "output_type": "stream",
     "text": [
      "100%|██████████| 1000/1000 [01:28<00:00, 11.30it/s]\n",
      "fid: 100%|██████████| 10/10 [01:14<00:00,  7.41s/it, mean=34.9]"
     ]
    },
    {
     "name": "stdout",
     "output_type": "stream",
     "text": [
      "FID score for train cifar10 with ula_dcgan_recalculate: mean 34.94264839153134, std 0.2514279902147131\n",
      "time for FID calculation on train = 257.458s\n",
      "------------------------------------\n",
      "step = 150\n",
      "sample size = (50000, 100)\n",
      "sample size after deleteting nans = (50000, 100)\n",
      "start to calculate FID score for test cifar10...\n"
     ]
    },
    {
     "name": "stderr",
     "output_type": "stream",
     "text": [
      "\n",
      "100it [00:01, 62.08it/s]\n"
     ]
    },
    {
     "name": "stdout",
     "output_type": "stream",
     "text": [
      "shape of generated images = (10000, 3, 32, 32)\n",
      "shape of real images = (10000, 3, 32, 32)\n"
     ]
    },
    {
     "name": "stderr",
     "output_type": "stream",
     "text": [
      "100%|██████████| 200/200 [00:16<00:00, 11.86it/s]\n",
      "  1%|          | 2/200 [00:00<00:16, 11.86it/s]"
     ]
    },
    {
     "name": "stdout",
     "output_type": "stream",
     "text": [
      "/home/daniil/gans-mcmc/saved_numpy_arrays/ula_dcgan_recalculate_pretrained_fake_test_step_150.npy\n"
     ]
    },
    {
     "name": "stderr",
     "output_type": "stream",
     "text": [
      "100%|██████████| 200/200 [00:17<00:00, 11.72it/s]\n",
      "fid: 100%|██████████| 10/10 [00:33<00:00,  3.36s/it, mean=34.7]"
     ]
    },
    {
     "name": "stdout",
     "output_type": "stream",
     "text": [
      "FID score for test cifar10 with ula_dcgan_recalculate: mean 34.710352110927865, std 0.6580956786850805\n",
      "time for FID calculation on test = 69.62s\n",
      "start to calculate FID score for train cifar10...\n"
     ]
    },
    {
     "name": "stderr",
     "output_type": "stream",
     "text": [
      "\n",
      "500it [00:07, 65.71it/s]\n"
     ]
    },
    {
     "name": "stdout",
     "output_type": "stream",
     "text": [
      "shape of generated images = (50000, 3, 32, 32)\n",
      "shape of real images = (50000, 3, 32, 32)\n"
     ]
    },
    {
     "name": "stderr",
     "output_type": "stream",
     "text": [
      "100%|██████████| 1000/1000 [01:26<00:00, 11.60it/s]\n",
      "  0%|          | 2/1000 [00:00<01:27, 11.40it/s]"
     ]
    },
    {
     "name": "stdout",
     "output_type": "stream",
     "text": [
      "/home/daniil/gans-mcmc/saved_numpy_arrays/ula_dcgan_recalculate_pretrained_fake_train_step_150.npy\n"
     ]
    },
    {
     "name": "stderr",
     "output_type": "stream",
     "text": [
      "100%|██████████| 1000/1000 [01:28<00:00, 11.29it/s]\n",
      "fid: 100%|██████████| 10/10 [01:14<00:00,  7.42s/it, mean=30] "
     ]
    },
    {
     "name": "stdout",
     "output_type": "stream",
     "text": [
      "FID score for train cifar10 with ula_dcgan_recalculate: mean 29.99145377162962, std 0.1517853805306775\n",
      "time for FID calculation on train = 257.639s\n",
      "------------------------------------\n",
      "step = 200\n",
      "sample size = (50000, 100)\n",
      "sample size after deleteting nans = (50000, 100)\n",
      "start to calculate FID score for test cifar10...\n"
     ]
    },
    {
     "name": "stderr",
     "output_type": "stream",
     "text": [
      "\n",
      "100it [00:01, 62.34it/s]\n"
     ]
    },
    {
     "name": "stdout",
     "output_type": "stream",
     "text": [
      "shape of generated images = (10000, 3, 32, 32)\n",
      "shape of real images = (10000, 3, 32, 32)\n"
     ]
    },
    {
     "name": "stderr",
     "output_type": "stream",
     "text": [
      "100%|██████████| 200/200 [00:16<00:00, 11.86it/s]\n",
      "  1%|          | 2/200 [00:00<00:16, 11.80it/s]"
     ]
    },
    {
     "name": "stdout",
     "output_type": "stream",
     "text": [
      "/home/daniil/gans-mcmc/saved_numpy_arrays/ula_dcgan_recalculate_pretrained_fake_test_step_200.npy\n"
     ]
    },
    {
     "name": "stderr",
     "output_type": "stream",
     "text": [
      "100%|██████████| 200/200 [00:17<00:00, 11.72it/s]\n",
      "fid: 100%|██████████| 10/10 [00:35<00:00,  3.57s/it, mean=31.9]"
     ]
    },
    {
     "name": "stdout",
     "output_type": "stream",
     "text": [
      "FID score for test cifar10 with ula_dcgan_recalculate: mean 31.902881456846295, std 0.3899918564140042\n",
      "time for FID calculation on test = 71.784s\n",
      "start to calculate FID score for train cifar10...\n"
     ]
    },
    {
     "name": "stderr",
     "output_type": "stream",
     "text": [
      "\n",
      "500it [00:07, 66.76it/s]\n"
     ]
    },
    {
     "name": "stdout",
     "output_type": "stream",
     "text": [
      "shape of generated images = (50000, 3, 32, 32)\n",
      "shape of real images = (50000, 3, 32, 32)\n"
     ]
    },
    {
     "name": "stderr",
     "output_type": "stream",
     "text": [
      "100%|██████████| 1000/1000 [01:26<00:00, 11.61it/s]\n",
      "  0%|          | 2/1000 [00:00<01:27, 11.39it/s]"
     ]
    },
    {
     "name": "stdout",
     "output_type": "stream",
     "text": [
      "/home/daniil/gans-mcmc/saved_numpy_arrays/ula_dcgan_recalculate_pretrained_fake_train_step_200.npy\n"
     ]
    },
    {
     "name": "stderr",
     "output_type": "stream",
     "text": [
      "100%|██████████| 1000/1000 [01:28<00:00, 11.29it/s]\n",
      "fid: 100%|██████████| 10/10 [01:15<00:00,  7.52s/it, mean=26.8]"
     ]
    },
    {
     "name": "stdout",
     "output_type": "stream",
     "text": [
      "FID score for train cifar10 with ula_dcgan_recalculate: mean 26.83238766402878, std 0.17803870641673272\n",
      "time for FID calculation on train = 258.395s\n",
      "------------------------------------\n",
      "step = 250\n",
      "sample size = (50000, 100)\n",
      "sample size after deleteting nans = (50000, 100)\n",
      "start to calculate FID score for test cifar10...\n"
     ]
    },
    {
     "name": "stderr",
     "output_type": "stream",
     "text": [
      "\n",
      "100it [00:01, 62.65it/s]\n"
     ]
    },
    {
     "name": "stdout",
     "output_type": "stream",
     "text": [
      "shape of generated images = (10000, 3, 32, 32)\n",
      "shape of real images = (10000, 3, 32, 32)\n"
     ]
    },
    {
     "name": "stderr",
     "output_type": "stream",
     "text": [
      "100%|██████████| 200/200 [00:16<00:00, 11.86it/s]\n",
      "  1%|          | 2/200 [00:00<00:16, 11.81it/s]"
     ]
    },
    {
     "name": "stdout",
     "output_type": "stream",
     "text": [
      "/home/daniil/gans-mcmc/saved_numpy_arrays/ula_dcgan_recalculate_pretrained_fake_test_step_250.npy\n"
     ]
    },
    {
     "name": "stderr",
     "output_type": "stream",
     "text": [
      "100%|██████████| 200/200 [00:17<00:00, 11.72it/s]\n",
      "fid: 100%|██████████| 10/10 [00:33<00:00,  3.39s/it, mean=30.4]"
     ]
    },
    {
     "name": "stdout",
     "output_type": "stream",
     "text": [
      "FID score for test cifar10 with ula_dcgan_recalculate: mean 30.431144018796978, std 0.4471076476930395\n",
      "time for FID calculation on test = 69.938s\n",
      "start to calculate FID score for train cifar10...\n"
     ]
    },
    {
     "name": "stderr",
     "output_type": "stream",
     "text": [
      "\n",
      "500it [00:07, 66.06it/s]\n"
     ]
    },
    {
     "name": "stdout",
     "output_type": "stream",
     "text": [
      "shape of generated images = (50000, 3, 32, 32)\n",
      "shape of real images = (50000, 3, 32, 32)\n"
     ]
    },
    {
     "name": "stderr",
     "output_type": "stream",
     "text": [
      "100%|██████████| 1000/1000 [01:26<00:00, 11.60it/s]\n",
      "  0%|          | 2/1000 [00:00<01:27, 11.39it/s]"
     ]
    },
    {
     "name": "stdout",
     "output_type": "stream",
     "text": [
      "/home/daniil/gans-mcmc/saved_numpy_arrays/ula_dcgan_recalculate_pretrained_fake_train_step_250.npy\n"
     ]
    },
    {
     "name": "stderr",
     "output_type": "stream",
     "text": [
      "100%|██████████| 1000/1000 [01:28<00:00, 11.30it/s]\n",
      "fid: 100%|██████████| 10/10 [01:13<00:00,  7.37s/it, mean=25.4]"
     ]
    },
    {
     "name": "stdout",
     "output_type": "stream",
     "text": [
      "FID score for train cifar10 with ula_dcgan_recalculate: mean 25.433018903943218, std 0.2094811558103951\n",
      "time for FID calculation on train = 257.046s\n",
      "------------------------------------\n",
      "step = 300\n",
      "sample size = (50000, 100)\n",
      "sample size after deleteting nans = (50000, 100)\n",
      "start to calculate FID score for test cifar10...\n"
     ]
    },
    {
     "name": "stderr",
     "output_type": "stream",
     "text": [
      "\n",
      "100it [00:01, 61.53it/s]\n"
     ]
    },
    {
     "name": "stdout",
     "output_type": "stream",
     "text": [
      "shape of generated images = (10000, 3, 32, 32)\n",
      "shape of real images = (10000, 3, 32, 32)\n"
     ]
    },
    {
     "name": "stderr",
     "output_type": "stream",
     "text": [
      "100%|██████████| 200/200 [00:16<00:00, 11.86it/s]\n",
      "  1%|          | 2/200 [00:00<00:16, 11.87it/s]"
     ]
    },
    {
     "name": "stdout",
     "output_type": "stream",
     "text": [
      "/home/daniil/gans-mcmc/saved_numpy_arrays/ula_dcgan_recalculate_pretrained_fake_test_step_300.npy\n"
     ]
    },
    {
     "name": "stderr",
     "output_type": "stream",
     "text": [
      "100%|██████████| 200/200 [00:17<00:00, 11.72it/s]\n",
      "fid: 100%|██████████| 10/10 [00:34<00:00,  3.40s/it, mean=30] "
     ]
    },
    {
     "name": "stdout",
     "output_type": "stream",
     "text": [
      "FID score for test cifar10 with ula_dcgan_recalculate: mean 29.97871582978401, std 0.31547667938036766\n",
      "time for FID calculation on test = 70.068s\n",
      "start to calculate FID score for train cifar10...\n"
     ]
    },
    {
     "name": "stderr",
     "output_type": "stream",
     "text": [
      "\n",
      "500it [00:07, 65.71it/s]\n"
     ]
    },
    {
     "name": "stdout",
     "output_type": "stream",
     "text": [
      "shape of generated images = (50000, 3, 32, 32)\n",
      "shape of real images = (50000, 3, 32, 32)\n"
     ]
    },
    {
     "name": "stderr",
     "output_type": "stream",
     "text": [
      "100%|██████████| 1000/1000 [01:26<00:00, 11.60it/s]\n",
      "  0%|          | 2/1000 [00:00<01:27, 11.40it/s]"
     ]
    },
    {
     "name": "stdout",
     "output_type": "stream",
     "text": [
      "/home/daniil/gans-mcmc/saved_numpy_arrays/ula_dcgan_recalculate_pretrained_fake_train_step_300.npy\n"
     ]
    },
    {
     "name": "stderr",
     "output_type": "stream",
     "text": [
      "100%|██████████| 1000/1000 [01:28<00:00, 11.30it/s]\n",
      "fid: 100%|██████████| 10/10 [01:12<00:00,  7.30s/it, mean=24.9]"
     ]
    },
    {
     "name": "stdout",
     "output_type": "stream",
     "text": [
      "FID score for train cifar10 with ula_dcgan_recalculate: mean 24.85777145386432, std 0.22552444880044897\n",
      "time for FID calculation on train = 256.333s\n",
      "------------------------------------\n",
      "step = 350\n",
      "sample size = (50000, 100)\n",
      "sample size after deleteting nans = (50000, 100)\n",
      "start to calculate FID score for test cifar10...\n"
     ]
    },
    {
     "name": "stderr",
     "output_type": "stream",
     "text": [
      "\n",
      "100it [00:01, 60.94it/s]\n"
     ]
    },
    {
     "name": "stdout",
     "output_type": "stream",
     "text": [
      "shape of generated images = (10000, 3, 32, 32)\n",
      "shape of real images = (10000, 3, 32, 32)\n"
     ]
    },
    {
     "name": "stderr",
     "output_type": "stream",
     "text": [
      "100%|██████████| 200/200 [00:16<00:00, 11.86it/s]\n",
      "  1%|          | 2/200 [00:00<00:16, 11.82it/s]"
     ]
    },
    {
     "name": "stdout",
     "output_type": "stream",
     "text": [
      "/home/daniil/gans-mcmc/saved_numpy_arrays/ula_dcgan_recalculate_pretrained_fake_test_step_350.npy\n"
     ]
    },
    {
     "name": "stderr",
     "output_type": "stream",
     "text": [
      "100%|██████████| 200/200 [00:17<00:00, 11.72it/s]\n",
      "fid: 100%|██████████| 10/10 [00:34<00:00,  3.41s/it, mean=30] "
     ]
    },
    {
     "name": "stdout",
     "output_type": "stream",
     "text": [
      "FID score for test cifar10 with ula_dcgan_recalculate: mean 29.960495453618826, std 0.463105238990995\n",
      "time for FID calculation on test = 70.214s\n",
      "start to calculate FID score for train cifar10...\n"
     ]
    },
    {
     "name": "stderr",
     "output_type": "stream",
     "text": [
      "\n",
      "500it [00:07, 65.70it/s]\n"
     ]
    },
    {
     "name": "stdout",
     "output_type": "stream",
     "text": [
      "shape of generated images = (50000, 3, 32, 32)\n",
      "shape of real images = (50000, 3, 32, 32)\n"
     ]
    },
    {
     "name": "stderr",
     "output_type": "stream",
     "text": [
      "100%|██████████| 1000/1000 [01:26<00:00, 11.60it/s]\n",
      "  0%|          | 2/1000 [00:00<01:27, 11.40it/s]"
     ]
    },
    {
     "name": "stdout",
     "output_type": "stream",
     "text": [
      "/home/daniil/gans-mcmc/saved_numpy_arrays/ula_dcgan_recalculate_pretrained_fake_train_step_350.npy\n"
     ]
    },
    {
     "name": "stderr",
     "output_type": "stream",
     "text": [
      "100%|██████████| 1000/1000 [01:28<00:00, 11.29it/s]\n",
      "fid: 100%|██████████| 10/10 [01:14<00:00,  7.45s/it, mean=24.9]"
     ]
    },
    {
     "name": "stdout",
     "output_type": "stream",
     "text": [
      "FID score for train cifar10 with ula_dcgan_recalculate: mean 24.914468345851844, std 0.16742129077942056\n",
      "time for FID calculation on train = 257.853s\n",
      "------------------------------------\n",
      "step = 400\n",
      "sample size = (50000, 100)\n",
      "sample size after deleteting nans = (50000, 100)\n",
      "start to calculate FID score for test cifar10...\n"
     ]
    },
    {
     "name": "stderr",
     "output_type": "stream",
     "text": [
      "\n",
      "100it [00:01, 62.61it/s]\n"
     ]
    },
    {
     "name": "stdout",
     "output_type": "stream",
     "text": [
      "shape of generated images = (10000, 3, 32, 32)\n",
      "shape of real images = (10000, 3, 32, 32)\n"
     ]
    },
    {
     "name": "stderr",
     "output_type": "stream",
     "text": [
      "100%|██████████| 200/200 [00:16<00:00, 11.86it/s]\n",
      "  1%|          | 2/200 [00:00<00:16, 11.80it/s]"
     ]
    },
    {
     "name": "stdout",
     "output_type": "stream",
     "text": [
      "/home/daniil/gans-mcmc/saved_numpy_arrays/ula_dcgan_recalculate_pretrained_fake_test_step_400.npy\n"
     ]
    },
    {
     "name": "stderr",
     "output_type": "stream",
     "text": [
      "100%|██████████| 200/200 [00:17<00:00, 11.73it/s]\n",
      "fid: 100%|██████████| 10/10 [00:33<00:00,  3.37s/it, mean=31.2]"
     ]
    },
    {
     "name": "stdout",
     "output_type": "stream",
     "text": [
      "FID score for test cifar10 with ula_dcgan_recalculate: mean 31.224292944213698, std 0.4088956387205892\n",
      "time for FID calculation on test = 69.683s\n",
      "start to calculate FID score for train cifar10...\n"
     ]
    },
    {
     "name": "stderr",
     "output_type": "stream",
     "text": [
      "\n",
      "500it [00:07, 65.84it/s]\n"
     ]
    },
    {
     "name": "stdout",
     "output_type": "stream",
     "text": [
      "shape of generated images = (50000, 3, 32, 32)\n",
      "shape of real images = (50000, 3, 32, 32)\n"
     ]
    },
    {
     "name": "stderr",
     "output_type": "stream",
     "text": [
      "100%|██████████| 1000/1000 [01:26<00:00, 11.60it/s]\n",
      "  0%|          | 2/1000 [00:00<01:27, 11.40it/s]"
     ]
    },
    {
     "name": "stdout",
     "output_type": "stream",
     "text": [
      "/home/daniil/gans-mcmc/saved_numpy_arrays/ula_dcgan_recalculate_pretrained_fake_train_step_400.npy\n"
     ]
    },
    {
     "name": "stderr",
     "output_type": "stream",
     "text": [
      "100%|██████████| 1000/1000 [01:28<00:00, 11.29it/s]\n",
      "fid: 100%|██████████| 10/10 [01:14<00:00,  7.43s/it, mean=25.5]"
     ]
    },
    {
     "name": "stdout",
     "output_type": "stream",
     "text": [
      "FID score for train cifar10 with ula_dcgan_recalculate: mean 25.510140686451287, std 0.19986428848659019\n",
      "time for FID calculation on train = 257.804s\n",
      "------------------------------------\n",
      "step = 450\n",
      "sample size = (50000, 100)\n",
      "sample size after deleteting nans = (50000, 100)\n",
      "start to calculate FID score for test cifar10...\n"
     ]
    },
    {
     "name": "stderr",
     "output_type": "stream",
     "text": [
      "\n",
      "100it [00:01, 61.04it/s]\n"
     ]
    },
    {
     "name": "stdout",
     "output_type": "stream",
     "text": [
      "shape of generated images = (10000, 3, 32, 32)\n",
      "shape of real images = (10000, 3, 32, 32)\n"
     ]
    },
    {
     "name": "stderr",
     "output_type": "stream",
     "text": [
      "100%|██████████| 200/200 [00:16<00:00, 11.87it/s]\n",
      "  1%|          | 2/200 [00:00<00:16, 11.80it/s]"
     ]
    },
    {
     "name": "stdout",
     "output_type": "stream",
     "text": [
      "/home/daniil/gans-mcmc/saved_numpy_arrays/ula_dcgan_recalculate_pretrained_fake_test_step_450.npy\n"
     ]
    },
    {
     "name": "stderr",
     "output_type": "stream",
     "text": [
      "100%|██████████| 200/200 [00:17<00:00, 11.72it/s]\n",
      "fid: 100%|██████████| 10/10 [00:34<00:00,  3.43s/it, mean=31.7]"
     ]
    },
    {
     "name": "stdout",
     "output_type": "stream",
     "text": [
      "FID score for test cifar10 with ula_dcgan_recalculate: mean 31.662073873916047, std 0.454382184530831\n",
      "time for FID calculation on test = 70.377s\n",
      "start to calculate FID score for train cifar10...\n"
     ]
    },
    {
     "name": "stderr",
     "output_type": "stream",
     "text": [
      "\n",
      "500it [00:07, 66.69it/s]\n"
     ]
    },
    {
     "name": "stdout",
     "output_type": "stream",
     "text": [
      "shape of generated images = (50000, 3, 32, 32)\n",
      "shape of real images = (50000, 3, 32, 32)\n"
     ]
    },
    {
     "name": "stderr",
     "output_type": "stream",
     "text": [
      "100%|██████████| 1000/1000 [01:26<00:00, 11.60it/s]\n",
      "  0%|          | 2/1000 [00:00<01:27, 11.41it/s]"
     ]
    },
    {
     "name": "stdout",
     "output_type": "stream",
     "text": [
      "/home/daniil/gans-mcmc/saved_numpy_arrays/ula_dcgan_recalculate_pretrained_fake_train_step_450.npy\n"
     ]
    },
    {
     "name": "stderr",
     "output_type": "stream",
     "text": [
      "100%|██████████| 1000/1000 [01:28<00:00, 11.28it/s]\n",
      "fid: 100%|██████████| 10/10 [01:14<00:00,  7.50s/it, mean=26.4]"
     ]
    },
    {
     "name": "stdout",
     "output_type": "stream",
     "text": [
      "FID score for train cifar10 with ula_dcgan_recalculate: mean 26.431382976445025, std 0.19882782219493308\n",
      "time for FID calculation on train = 258.364s\n",
      "------------------------------------\n",
      "step = 500\n",
      "sample size = (50000, 100)\n",
      "sample size after deleteting nans = (50000, 100)\n",
      "start to calculate FID score for test cifar10...\n"
     ]
    },
    {
     "name": "stderr",
     "output_type": "stream",
     "text": [
      "\n",
      "100it [00:01, 61.22it/s]\n"
     ]
    },
    {
     "name": "stdout",
     "output_type": "stream",
     "text": [
      "shape of generated images = (10000, 3, 32, 32)\n",
      "shape of real images = (10000, 3, 32, 32)\n"
     ]
    },
    {
     "name": "stderr",
     "output_type": "stream",
     "text": [
      "100%|██████████| 200/200 [00:16<00:00, 11.87it/s]\n",
      "  1%|          | 2/200 [00:00<00:16, 11.85it/s]"
     ]
    },
    {
     "name": "stdout",
     "output_type": "stream",
     "text": [
      "/home/daniil/gans-mcmc/saved_numpy_arrays/ula_dcgan_recalculate_pretrained_fake_test_step_500.npy\n"
     ]
    },
    {
     "name": "stderr",
     "output_type": "stream",
     "text": [
      "100%|██████████| 200/200 [00:17<00:00, 11.73it/s]\n",
      "fid: 100%|██████████| 10/10 [00:34<00:00,  3.47s/it, mean=33.1]"
     ]
    },
    {
     "name": "stdout",
     "output_type": "stream",
     "text": [
      "FID score for test cifar10 with ula_dcgan_recalculate: mean 33.061712449341066, std 0.4102367233571234\n",
      "time for FID calculation on test = 70.726s\n",
      "start to calculate FID score for train cifar10...\n"
     ]
    },
    {
     "name": "stderr",
     "output_type": "stream",
     "text": [
      "\n",
      "500it [00:07, 65.36it/s]\n"
     ]
    },
    {
     "name": "stdout",
     "output_type": "stream",
     "text": [
      "shape of generated images = (50000, 3, 32, 32)\n",
      "shape of real images = (50000, 3, 32, 32)\n"
     ]
    },
    {
     "name": "stderr",
     "output_type": "stream",
     "text": [
      "100%|██████████| 1000/1000 [01:26<00:00, 11.60it/s]\n",
      "  0%|          | 2/1000 [00:00<01:27, 11.39it/s]"
     ]
    },
    {
     "name": "stdout",
     "output_type": "stream",
     "text": [
      "/home/daniil/gans-mcmc/saved_numpy_arrays/ula_dcgan_recalculate_pretrained_fake_train_step_500.npy\n"
     ]
    },
    {
     "name": "stderr",
     "output_type": "stream",
     "text": [
      "100%|██████████| 1000/1000 [01:28<00:00, 11.28it/s]\n",
      "fid: 100%|██████████| 10/10 [01:14<00:00,  7.41s/it, mean=27.7]"
     ]
    },
    {
     "name": "stdout",
     "output_type": "stream",
     "text": [
      "FID score for train cifar10 with ula_dcgan_recalculate: mean 27.659984652359135, std 0.19608401190134273\n",
      "time for FID calculation on train = 257.721s\n",
      "------------------------------------\n",
      "step = 550\n",
      "sample size = (50000, 100)\n",
      "sample size after deleteting nans = (50000, 100)\n",
      "start to calculate FID score for test cifar10...\n"
     ]
    },
    {
     "name": "stderr",
     "output_type": "stream",
     "text": [
      "\n",
      "100it [00:01, 62.24it/s]\n"
     ]
    },
    {
     "name": "stdout",
     "output_type": "stream",
     "text": [
      "shape of generated images = (10000, 3, 32, 32)\n",
      "shape of real images = (10000, 3, 32, 32)\n"
     ]
    },
    {
     "name": "stderr",
     "output_type": "stream",
     "text": [
      "100%|██████████| 200/200 [00:16<00:00, 11.88it/s]\n",
      "  1%|          | 2/200 [00:00<00:16, 11.81it/s]"
     ]
    },
    {
     "name": "stdout",
     "output_type": "stream",
     "text": [
      "/home/daniil/gans-mcmc/saved_numpy_arrays/ula_dcgan_recalculate_pretrained_fake_test_step_550.npy\n"
     ]
    },
    {
     "name": "stderr",
     "output_type": "stream",
     "text": [
      "100%|██████████| 200/200 [00:17<00:00, 11.74it/s]\n",
      "fid: 100%|██████████| 10/10 [00:34<00:00,  3.49s/it, mean=34.2]"
     ]
    },
    {
     "name": "stdout",
     "output_type": "stream",
     "text": [
      "FID score for test cifar10 with ula_dcgan_recalculate: mean 34.200920171451195, std 0.39106590559689425\n",
      "time for FID calculation on test = 70.866s\n",
      "start to calculate FID score for train cifar10...\n"
     ]
    },
    {
     "name": "stderr",
     "output_type": "stream",
     "text": [
      "\n",
      "500it [00:07, 65.18it/s]\n"
     ]
    },
    {
     "name": "stdout",
     "output_type": "stream",
     "text": [
      "shape of generated images = (50000, 3, 32, 32)\n",
      "shape of real images = (50000, 3, 32, 32)\n"
     ]
    },
    {
     "name": "stderr",
     "output_type": "stream",
     "text": [
      "100%|██████████| 1000/1000 [01:26<00:00, 11.61it/s]\n",
      "  0%|          | 2/1000 [00:00<01:27, 11.40it/s]"
     ]
    },
    {
     "name": "stdout",
     "output_type": "stream",
     "text": [
      "/home/daniil/gans-mcmc/saved_numpy_arrays/ula_dcgan_recalculate_pretrained_fake_train_step_550.npy\n"
     ]
    },
    {
     "name": "stderr",
     "output_type": "stream",
     "text": [
      "100%|██████████| 1000/1000 [01:28<00:00, 11.29it/s]\n",
      "fid: 100%|██████████| 10/10 [01:13<00:00,  7.37s/it, mean=28.9]"
     ]
    },
    {
     "name": "stdout",
     "output_type": "stream",
     "text": [
      "FID score for train cifar10 with ula_dcgan_recalculate: mean 28.877469206699942, std 0.1608907827615855\n",
      "time for FID calculation on train = 257.143s\n",
      "------------------------------------\n",
      "step = 600\n",
      "sample size = (50000, 100)\n",
      "sample size after deleteting nans = (50000, 100)\n",
      "start to calculate FID score for test cifar10...\n"
     ]
    },
    {
     "name": "stderr",
     "output_type": "stream",
     "text": [
      "\n",
      "100it [00:01, 62.19it/s]\n"
     ]
    },
    {
     "name": "stdout",
     "output_type": "stream",
     "text": [
      "shape of generated images = (10000, 3, 32, 32)\n",
      "shape of real images = (10000, 3, 32, 32)\n"
     ]
    },
    {
     "name": "stderr",
     "output_type": "stream",
     "text": [
      "100%|██████████| 200/200 [00:16<00:00, 11.86it/s]\n",
      "  1%|          | 2/200 [00:00<00:16, 11.78it/s]"
     ]
    },
    {
     "name": "stdout",
     "output_type": "stream",
     "text": [
      "/home/daniil/gans-mcmc/saved_numpy_arrays/ula_dcgan_recalculate_pretrained_fake_test_step_600.npy\n"
     ]
    },
    {
     "name": "stderr",
     "output_type": "stream",
     "text": [
      "100%|██████████| 200/200 [00:17<00:00, 11.71it/s]\n",
      "fid: 100%|██████████| 10/10 [00:34<00:00,  3.41s/it, mean=35.7]"
     ]
    },
    {
     "name": "stdout",
     "output_type": "stream",
     "text": [
      "FID score for test cifar10 with ula_dcgan_recalculate: mean 35.711815675012225, std 0.4131252210113968\n",
      "time for FID calculation on test = 70.145s\n",
      "start to calculate FID score for train cifar10...\n"
     ]
    },
    {
     "name": "stderr",
     "output_type": "stream",
     "text": [
      "\n",
      "500it [00:07, 65.53it/s]\n"
     ]
    },
    {
     "name": "stdout",
     "output_type": "stream",
     "text": [
      "shape of generated images = (50000, 3, 32, 32)\n",
      "shape of real images = (50000, 3, 32, 32)\n"
     ]
    },
    {
     "name": "stderr",
     "output_type": "stream",
     "text": [
      "100%|██████████| 1000/1000 [01:26<00:00, 11.60it/s]\n",
      "  0%|          | 2/1000 [00:00<01:27, 11.44it/s]"
     ]
    },
    {
     "name": "stdout",
     "output_type": "stream",
     "text": [
      "/home/daniil/gans-mcmc/saved_numpy_arrays/ula_dcgan_recalculate_pretrained_fake_train_step_600.npy\n"
     ]
    },
    {
     "name": "stderr",
     "output_type": "stream",
     "text": [
      "100%|██████████| 1000/1000 [01:28<00:00, 11.28it/s]\n",
      "fid: 100%|██████████| 10/10 [01:13<00:00,  7.34s/it, mean=30.4]"
     ]
    },
    {
     "name": "stdout",
     "output_type": "stream",
     "text": [
      "FID score for train cifar10 with ula_dcgan_recalculate: mean 30.419643522761778, std 0.19806479892047169\n",
      "time for FID calculation on train = 256.868s\n",
      "------------------------------------\n",
      "step = 650\n",
      "sample size = (50000, 100)\n",
      "sample size after deleteting nans = (50000, 100)\n",
      "start to calculate FID score for test cifar10...\n"
     ]
    },
    {
     "name": "stderr",
     "output_type": "stream",
     "text": [
      "\n",
      "100it [00:01, 61.00it/s]\n"
     ]
    },
    {
     "name": "stdout",
     "output_type": "stream",
     "text": [
      "shape of generated images = (10000, 3, 32, 32)\n",
      "shape of real images = (10000, 3, 32, 32)\n"
     ]
    },
    {
     "name": "stderr",
     "output_type": "stream",
     "text": [
      "100%|██████████| 200/200 [00:16<00:00, 11.86it/s]\n",
      "  1%|          | 2/200 [00:00<00:16, 11.79it/s]"
     ]
    },
    {
     "name": "stdout",
     "output_type": "stream",
     "text": [
      "/home/daniil/gans-mcmc/saved_numpy_arrays/ula_dcgan_recalculate_pretrained_fake_test_step_650.npy\n"
     ]
    },
    {
     "name": "stderr",
     "output_type": "stream",
     "text": [
      "100%|██████████| 200/200 [00:17<00:00, 11.72it/s]\n",
      "fid: 100%|██████████| 10/10 [00:33<00:00,  3.39s/it, mean=37.3]"
     ]
    },
    {
     "name": "stdout",
     "output_type": "stream",
     "text": [
      "FID score for test cifar10 with ula_dcgan_recalculate: mean 37.288465381369875, std 0.4401725154061759\n",
      "time for FID calculation on test = 69.977s\n",
      "start to calculate FID score for train cifar10...\n"
     ]
    },
    {
     "name": "stderr",
     "output_type": "stream",
     "text": [
      "\n",
      "500it [00:07, 66.36it/s]\n"
     ]
    },
    {
     "name": "stdout",
     "output_type": "stream",
     "text": [
      "shape of generated images = (50000, 3, 32, 32)\n",
      "shape of real images = (50000, 3, 32, 32)\n"
     ]
    },
    {
     "name": "stderr",
     "output_type": "stream",
     "text": [
      "100%|██████████| 1000/1000 [01:26<00:00, 11.59it/s]\n",
      "  0%|          | 2/1000 [00:00<01:27, 11.42it/s]"
     ]
    },
    {
     "name": "stdout",
     "output_type": "stream",
     "text": [
      "/home/daniil/gans-mcmc/saved_numpy_arrays/ula_dcgan_recalculate_pretrained_fake_train_step_650.npy\n"
     ]
    },
    {
     "name": "stderr",
     "output_type": "stream",
     "text": [
      "100%|██████████| 1000/1000 [01:28<00:00, 11.28it/s]\n",
      "fid: 100%|██████████| 10/10 [01:13<00:00,  7.38s/it, mean=31.9]"
     ]
    },
    {
     "name": "stdout",
     "output_type": "stream",
     "text": [
      "FID score for train cifar10 with ula_dcgan_recalculate: mean 31.89948226894047, std 0.1971615980714933\n",
      "time for FID calculation on train = 257.356s\n",
      "------------------------------------\n",
      "step = 700\n",
      "sample size = (50000, 100)\n",
      "sample size after deleteting nans = (50000, 100)\n",
      "start to calculate FID score for test cifar10...\n"
     ]
    },
    {
     "name": "stderr",
     "output_type": "stream",
     "text": [
      "\n",
      "100it [00:01, 62.07it/s]\n"
     ]
    },
    {
     "name": "stdout",
     "output_type": "stream",
     "text": [
      "shape of generated images = (10000, 3, 32, 32)\n",
      "shape of real images = (10000, 3, 32, 32)\n"
     ]
    },
    {
     "name": "stderr",
     "output_type": "stream",
     "text": [
      "100%|██████████| 200/200 [00:16<00:00, 11.86it/s]\n",
      "  1%|          | 2/200 [00:00<00:16, 11.81it/s]"
     ]
    },
    {
     "name": "stdout",
     "output_type": "stream",
     "text": [
      "/home/daniil/gans-mcmc/saved_numpy_arrays/ula_dcgan_recalculate_pretrained_fake_test_step_700.npy\n"
     ]
    },
    {
     "name": "stderr",
     "output_type": "stream",
     "text": [
      "100%|██████████| 200/200 [00:17<00:00, 11.73it/s]\n",
      "fid: 100%|██████████| 10/10 [00:33<00:00,  3.33s/it, mean=38.8]"
     ]
    },
    {
     "name": "stdout",
     "output_type": "stream",
     "text": [
      "FID score for test cifar10 with ula_dcgan_recalculate: mean 38.800588645838666, std 0.4613253062061852\n",
      "time for FID calculation on test = 69.294s\n",
      "start to calculate FID score for train cifar10...\n"
     ]
    },
    {
     "name": "stderr",
     "output_type": "stream",
     "text": [
      "\n",
      "500it [00:07, 65.31it/s]\n"
     ]
    },
    {
     "name": "stdout",
     "output_type": "stream",
     "text": [
      "shape of generated images = (50000, 3, 32, 32)\n",
      "shape of real images = (50000, 3, 32, 32)\n"
     ]
    },
    {
     "name": "stderr",
     "output_type": "stream",
     "text": [
      "100%|██████████| 1000/1000 [01:26<00:00, 11.59it/s]\n",
      "  0%|          | 2/1000 [00:00<01:27, 11.40it/s]"
     ]
    },
    {
     "name": "stdout",
     "output_type": "stream",
     "text": [
      "/home/daniil/gans-mcmc/saved_numpy_arrays/ula_dcgan_recalculate_pretrained_fake_train_step_700.npy\n"
     ]
    },
    {
     "name": "stderr",
     "output_type": "stream",
     "text": [
      "100%|██████████| 1000/1000 [01:28<00:00, 11.28it/s]\n",
      "fid: 100%|██████████| 10/10 [01:13<00:00,  7.40s/it, mean=33.4]"
     ]
    },
    {
     "name": "stdout",
     "output_type": "stream",
     "text": [
      "FID score for train cifar10 with ula_dcgan_recalculate: mean 33.36489926822574, std 0.17161143008902194\n",
      "time for FID calculation on train = 257.593s\n",
      "------------------------------------\n",
      "step = 750\n",
      "sample size = (50000, 100)\n",
      "sample size after deleteting nans = (50000, 100)\n",
      "start to calculate FID score for test cifar10...\n"
     ]
    },
    {
     "name": "stderr",
     "output_type": "stream",
     "text": [
      "\n",
      "100it [00:01, 60.00it/s]\n"
     ]
    },
    {
     "name": "stdout",
     "output_type": "stream",
     "text": [
      "shape of generated images = (10000, 3, 32, 32)\n",
      "shape of real images = (10000, 3, 32, 32)\n"
     ]
    },
    {
     "name": "stderr",
     "output_type": "stream",
     "text": [
      "100%|██████████| 200/200 [00:16<00:00, 11.86it/s]\n",
      "  1%|          | 2/200 [00:00<00:16, 11.77it/s]"
     ]
    },
    {
     "name": "stdout",
     "output_type": "stream",
     "text": [
      "/home/daniil/gans-mcmc/saved_numpy_arrays/ula_dcgan_recalculate_pretrained_fake_test_step_750.npy\n"
     ]
    },
    {
     "name": "stderr",
     "output_type": "stream",
     "text": [
      "100%|██████████| 200/200 [00:17<00:00, 11.72it/s]\n",
      "fid: 100%|██████████| 10/10 [00:35<00:00,  3.54s/it, mean=39.9]"
     ]
    },
    {
     "name": "stdout",
     "output_type": "stream",
     "text": [
      "FID score for test cifar10 with ula_dcgan_recalculate: mean 39.917532161935966, std 0.4751194388527183\n",
      "time for FID calculation on test = 71.471s\n",
      "start to calculate FID score for train cifar10...\n"
     ]
    },
    {
     "name": "stderr",
     "output_type": "stream",
     "text": [
      "\n",
      "500it [00:07, 66.60it/s]\n"
     ]
    },
    {
     "name": "stdout",
     "output_type": "stream",
     "text": [
      "shape of generated images = (50000, 3, 32, 32)\n",
      "shape of real images = (50000, 3, 32, 32)\n"
     ]
    },
    {
     "name": "stderr",
     "output_type": "stream",
     "text": [
      "100%|██████████| 1000/1000 [01:26<00:00, 11.60it/s]\n",
      "  0%|          | 2/1000 [00:00<01:27, 11.44it/s]"
     ]
    },
    {
     "name": "stdout",
     "output_type": "stream",
     "text": [
      "/home/daniil/gans-mcmc/saved_numpy_arrays/ula_dcgan_recalculate_pretrained_fake_train_step_750.npy\n"
     ]
    },
    {
     "name": "stderr",
     "output_type": "stream",
     "text": [
      "100%|██████████| 1000/1000 [01:28<00:00, 11.29it/s]\n",
      "fid: 100%|██████████| 10/10 [01:13<00:00,  7.32s/it, mean=34.7]"
     ]
    },
    {
     "name": "stdout",
     "output_type": "stream",
     "text": [
      "FID score for train cifar10 with ula_dcgan_recalculate: mean 34.72285885383768, std 0.21229463624082145\n",
      "time for FID calculation on train = 256.572s\n",
      "------------------------------------\n",
      "step = 800\n",
      "sample size = (50000, 100)\n",
      "sample size after deleteting nans = (50000, 100)\n",
      "start to calculate FID score for test cifar10...\n"
     ]
    },
    {
     "name": "stderr",
     "output_type": "stream",
     "text": [
      "\n",
      "100it [00:01, 62.42it/s]\n"
     ]
    },
    {
     "name": "stdout",
     "output_type": "stream",
     "text": [
      "shape of generated images = (10000, 3, 32, 32)\n",
      "shape of real images = (10000, 3, 32, 32)\n"
     ]
    },
    {
     "name": "stderr",
     "output_type": "stream",
     "text": [
      "100%|██████████| 200/200 [00:16<00:00, 11.86it/s]\n",
      "  1%|          | 2/200 [00:00<00:16, 11.80it/s]"
     ]
    },
    {
     "name": "stdout",
     "output_type": "stream",
     "text": [
      "/home/daniil/gans-mcmc/saved_numpy_arrays/ula_dcgan_recalculate_pretrained_fake_test_step_800.npy\n"
     ]
    },
    {
     "name": "stderr",
     "output_type": "stream",
     "text": [
      "100%|██████████| 200/200 [00:17<00:00, 11.72it/s]\n",
      "fid: 100%|██████████| 10/10 [00:34<00:00,  3.41s/it, mean=41.2]"
     ]
    },
    {
     "name": "stdout",
     "output_type": "stream",
     "text": [
      "FID score for test cifar10 with ula_dcgan_recalculate: mean 41.19187441077898, std 0.47649868780021254\n",
      "time for FID calculation on test = 70.156s\n",
      "start to calculate FID score for train cifar10...\n"
     ]
    },
    {
     "name": "stderr",
     "output_type": "stream",
     "text": [
      "\n",
      "500it [00:07, 65.91it/s]\n"
     ]
    },
    {
     "name": "stdout",
     "output_type": "stream",
     "text": [
      "shape of generated images = (50000, 3, 32, 32)\n",
      "shape of real images = (50000, 3, 32, 32)\n"
     ]
    },
    {
     "name": "stderr",
     "output_type": "stream",
     "text": [
      "100%|██████████| 1000/1000 [01:26<00:00, 11.60it/s]\n",
      "  0%|          | 2/1000 [00:00<01:27, 11.42it/s]"
     ]
    },
    {
     "name": "stdout",
     "output_type": "stream",
     "text": [
      "/home/daniil/gans-mcmc/saved_numpy_arrays/ula_dcgan_recalculate_pretrained_fake_train_step_800.npy\n"
     ]
    },
    {
     "name": "stderr",
     "output_type": "stream",
     "text": [
      "100%|██████████| 1000/1000 [01:28<00:00, 11.29it/s]\n",
      "fid: 100%|██████████| 10/10 [01:15<00:00,  7.52s/it, mean=36.2]"
     ]
    },
    {
     "name": "stdout",
     "output_type": "stream",
     "text": [
      "FID score for train cifar10 with ula_dcgan_recalculate: mean 36.21797334953617, std 0.24326892618416246\n",
      "time for FID calculation on train = 258.576s\n",
      "------------------------------------\n",
      "step = 850\n",
      "sample size = (50000, 100)\n",
      "sample size after deleteting nans = (50000, 100)\n",
      "start to calculate FID score for test cifar10...\n"
     ]
    },
    {
     "name": "stderr",
     "output_type": "stream",
     "text": [
      "\n",
      "100it [00:01, 61.70it/s]\n"
     ]
    },
    {
     "name": "stdout",
     "output_type": "stream",
     "text": [
      "shape of generated images = (10000, 3, 32, 32)\n",
      "shape of real images = (10000, 3, 32, 32)\n"
     ]
    },
    {
     "name": "stderr",
     "output_type": "stream",
     "text": [
      "100%|██████████| 200/200 [00:16<00:00, 11.87it/s]\n",
      "  1%|          | 2/200 [00:00<00:16, 11.84it/s]"
     ]
    },
    {
     "name": "stdout",
     "output_type": "stream",
     "text": [
      "/home/daniil/gans-mcmc/saved_numpy_arrays/ula_dcgan_recalculate_pretrained_fake_test_step_850.npy\n"
     ]
    },
    {
     "name": "stderr",
     "output_type": "stream",
     "text": [
      "100%|██████████| 200/200 [00:17<00:00, 11.72it/s]\n",
      "fid: 100%|██████████| 10/10 [00:33<00:00,  3.35s/it, mean=42.8]"
     ]
    },
    {
     "name": "stdout",
     "output_type": "stream",
     "text": [
      "FID score for test cifar10 with ula_dcgan_recalculate: mean 42.76864996254157, std 0.46514132912533707\n",
      "time for FID calculation on test = 69.536s\n",
      "start to calculate FID score for train cifar10...\n"
     ]
    },
    {
     "name": "stderr",
     "output_type": "stream",
     "text": [
      "\n",
      "500it [00:07, 66.87it/s]\n"
     ]
    },
    {
     "name": "stdout",
     "output_type": "stream",
     "text": [
      "shape of generated images = (50000, 3, 32, 32)\n",
      "shape of real images = (50000, 3, 32, 32)\n"
     ]
    },
    {
     "name": "stderr",
     "output_type": "stream",
     "text": [
      "100%|██████████| 1000/1000 [01:26<00:00, 11.60it/s]\n",
      "  0%|          | 2/1000 [00:00<01:27, 11.44it/s]"
     ]
    },
    {
     "name": "stdout",
     "output_type": "stream",
     "text": [
      "/home/daniil/gans-mcmc/saved_numpy_arrays/ula_dcgan_recalculate_pretrained_fake_train_step_850.npy\n"
     ]
    },
    {
     "name": "stderr",
     "output_type": "stream",
     "text": [
      "100%|██████████| 1000/1000 [01:28<00:00, 11.29it/s]\n",
      "fid: 100%|██████████| 10/10 [01:13<00:00,  7.39s/it, mean=37.6]"
     ]
    },
    {
     "name": "stdout",
     "output_type": "stream",
     "text": [
      "FID score for train cifar10 with ula_dcgan_recalculate: mean 37.62613860022287, std 0.23913440971734717\n",
      "time for FID calculation on train = 257.14s\n",
      "------------------------------------\n",
      "step = 900\n",
      "sample size = (50000, 100)\n",
      "sample size after deleteting nans = (50000, 100)\n",
      "start to calculate FID score for test cifar10...\n"
     ]
    },
    {
     "name": "stderr",
     "output_type": "stream",
     "text": [
      "\n",
      "100it [00:01, 61.50it/s]\n"
     ]
    },
    {
     "name": "stdout",
     "output_type": "stream",
     "text": [
      "shape of generated images = (10000, 3, 32, 32)\n",
      "shape of real images = (10000, 3, 32, 32)\n"
     ]
    },
    {
     "name": "stderr",
     "output_type": "stream",
     "text": [
      "100%|██████████| 200/200 [00:16<00:00, 11.86it/s]\n",
      "  1%|          | 2/200 [00:00<00:16, 11.80it/s]"
     ]
    },
    {
     "name": "stdout",
     "output_type": "stream",
     "text": [
      "/home/daniil/gans-mcmc/saved_numpy_arrays/ula_dcgan_recalculate_pretrained_fake_test_step_900.npy\n"
     ]
    },
    {
     "name": "stderr",
     "output_type": "stream",
     "text": [
      "100%|██████████| 200/200 [00:17<00:00, 11.71it/s]\n",
      "fid: 100%|██████████| 10/10 [00:33<00:00,  3.38s/it, mean=44] "
     ]
    },
    {
     "name": "stdout",
     "output_type": "stream",
     "text": [
      "FID score for test cifar10 with ula_dcgan_recalculate: mean 43.993551080443495, std 0.4869870263364509\n",
      "time for FID calculation on test = 69.819s\n",
      "start to calculate FID score for train cifar10...\n"
     ]
    },
    {
     "name": "stderr",
     "output_type": "stream",
     "text": [
      "\n",
      "500it [00:07, 65.68it/s]\n"
     ]
    },
    {
     "name": "stdout",
     "output_type": "stream",
     "text": [
      "shape of generated images = (50000, 3, 32, 32)\n",
      "shape of real images = (50000, 3, 32, 32)\n"
     ]
    },
    {
     "name": "stderr",
     "output_type": "stream",
     "text": [
      "100%|██████████| 1000/1000 [01:26<00:00, 11.60it/s]\n",
      "  0%|          | 2/1000 [00:00<01:27, 11.38it/s]"
     ]
    },
    {
     "name": "stdout",
     "output_type": "stream",
     "text": [
      "/home/daniil/gans-mcmc/saved_numpy_arrays/ula_dcgan_recalculate_pretrained_fake_train_step_900.npy\n"
     ]
    },
    {
     "name": "stderr",
     "output_type": "stream",
     "text": [
      "100%|██████████| 1000/1000 [01:28<00:00, 11.29it/s]\n",
      "fid: 100%|██████████| 10/10 [01:14<00:00,  7.41s/it, mean=38.9]"
     ]
    },
    {
     "name": "stdout",
     "output_type": "stream",
     "text": [
      "FID score for train cifar10 with ula_dcgan_recalculate: mean 38.9148296011286, std 0.22333403209308855\n",
      "time for FID calculation on train = 257.581s\n",
      "------------------------------------\n",
      "step = 950\n",
      "sample size = (50000, 100)\n",
      "sample size after deleteting nans = (50000, 100)\n",
      "start to calculate FID score for test cifar10...\n"
     ]
    },
    {
     "name": "stderr",
     "output_type": "stream",
     "text": [
      "\n",
      "100it [00:01, 60.76it/s]\n"
     ]
    },
    {
     "name": "stdout",
     "output_type": "stream",
     "text": [
      "shape of generated images = (10000, 3, 32, 32)\n",
      "shape of real images = (10000, 3, 32, 32)\n"
     ]
    },
    {
     "name": "stderr",
     "output_type": "stream",
     "text": [
      "100%|██████████| 200/200 [00:16<00:00, 11.85it/s]\n",
      "  1%|          | 2/200 [00:00<00:16, 11.78it/s]"
     ]
    },
    {
     "name": "stdout",
     "output_type": "stream",
     "text": [
      "/home/daniil/gans-mcmc/saved_numpy_arrays/ula_dcgan_recalculate_pretrained_fake_test_step_950.npy\n"
     ]
    },
    {
     "name": "stderr",
     "output_type": "stream",
     "text": [
      "100%|██████████| 200/200 [00:17<00:00, 11.71it/s]\n",
      "fid: 100%|██████████| 10/10 [00:33<00:00,  3.38s/it, mean=45.5]"
     ]
    },
    {
     "name": "stdout",
     "output_type": "stream",
     "text": [
      "FID score for test cifar10 with ula_dcgan_recalculate: mean 45.457512294041834, std 0.5520778889099536\n",
      "time for FID calculation on test = 69.891s\n",
      "start to calculate FID score for train cifar10...\n"
     ]
    },
    {
     "name": "stderr",
     "output_type": "stream",
     "text": [
      "\n",
      "500it [00:07, 65.84it/s]\n"
     ]
    },
    {
     "name": "stdout",
     "output_type": "stream",
     "text": [
      "shape of generated images = (50000, 3, 32, 32)\n",
      "shape of real images = (50000, 3, 32, 32)\n"
     ]
    },
    {
     "name": "stderr",
     "output_type": "stream",
     "text": [
      "100%|██████████| 1000/1000 [01:26<00:00, 11.59it/s]\n",
      "  0%|          | 2/1000 [00:00<01:27, 11.39it/s]"
     ]
    },
    {
     "name": "stdout",
     "output_type": "stream",
     "text": [
      "/home/daniil/gans-mcmc/saved_numpy_arrays/ula_dcgan_recalculate_pretrained_fake_train_step_950.npy\n"
     ]
    },
    {
     "name": "stderr",
     "output_type": "stream",
     "text": [
      "100%|██████████| 1000/1000 [01:28<00:00, 11.28it/s]\n",
      "fid: 100%|██████████| 10/10 [01:15<00:00,  7.55s/it, mean=40.3]"
     ]
    },
    {
     "name": "stdout",
     "output_type": "stream",
     "text": [
      "FID score for train cifar10 with ula_dcgan_recalculate: mean 40.345189899340525, std 0.2150075371885218\n",
      "time for FID calculation on train = 259.006s\n",
      "------------------------------------\n",
      "step = 1000\n",
      "sample size = (50000, 100)\n",
      "sample size after deleteting nans = (50000, 100)\n",
      "start to calculate FID score for test cifar10...\n"
     ]
    },
    {
     "name": "stderr",
     "output_type": "stream",
     "text": [
      "\n",
      "100it [00:01, 62.20it/s]\n"
     ]
    },
    {
     "name": "stdout",
     "output_type": "stream",
     "text": [
      "shape of generated images = (10000, 3, 32, 32)\n",
      "shape of real images = (10000, 3, 32, 32)\n"
     ]
    },
    {
     "name": "stderr",
     "output_type": "stream",
     "text": [
      "100%|██████████| 200/200 [00:16<00:00, 11.87it/s]\n",
      "  1%|          | 2/200 [00:00<00:16, 11.82it/s]"
     ]
    },
    {
     "name": "stdout",
     "output_type": "stream",
     "text": [
      "/home/daniil/gans-mcmc/saved_numpy_arrays/ula_dcgan_recalculate_pretrained_fake_test_step_1000.npy\n"
     ]
    },
    {
     "name": "stderr",
     "output_type": "stream",
     "text": [
      "100%|██████████| 200/200 [00:17<00:00, 11.73it/s]\n",
      "fid: 100%|██████████| 10/10 [00:33<00:00,  3.35s/it, mean=46.9]"
     ]
    },
    {
     "name": "stdout",
     "output_type": "stream",
     "text": [
      "FID score for test cifar10 with ula_dcgan_recalculate: mean 46.88468199990074, std 0.5916503954029333\n",
      "time for FID calculation on test = 69.525s\n",
      "start to calculate FID score for train cifar10...\n"
     ]
    },
    {
     "name": "stderr",
     "output_type": "stream",
     "text": [
      "\n",
      "500it [00:07, 66.50it/s]\n"
     ]
    },
    {
     "name": "stdout",
     "output_type": "stream",
     "text": [
      "shape of generated images = (50000, 3, 32, 32)\n",
      "shape of real images = (50000, 3, 32, 32)\n"
     ]
    },
    {
     "name": "stderr",
     "output_type": "stream",
     "text": [
      "100%|██████████| 1000/1000 [01:26<00:00, 11.60it/s]\n",
      "  0%|          | 2/1000 [00:00<01:27, 11.40it/s]"
     ]
    },
    {
     "name": "stdout",
     "output_type": "stream",
     "text": [
      "/home/daniil/gans-mcmc/saved_numpy_arrays/ula_dcgan_recalculate_pretrained_fake_train_step_1000.npy\n"
     ]
    },
    {
     "name": "stderr",
     "output_type": "stream",
     "text": [
      "100%|██████████| 1000/1000 [01:28<00:00, 11.29it/s]\n",
      "fid: 100%|██████████| 10/10 [01:14<00:00,  7.41s/it, mean=41.9]"
     ]
    },
    {
     "name": "stdout",
     "output_type": "stream",
     "text": [
      "FID score for train cifar10 with ula_dcgan_recalculate: mean 41.87512163122073, std 0.2449252218579044\n",
      "time for FID calculation on train = 257.466s\n"
     ]
    },
    {
     "name": "stderr",
     "output_type": "stream",
     "text": [
      "\n"
     ]
    }
   ],
   "source": [
    "batch_size = 100\n",
    "random_seed = 42\n",
    "path_to_save_np = '/home/daniil/gans-mcmc/saved_numpy_arrays'\n",
    "path_to_save = path_to_save_np\n",
    "method_name = 'ula_dcgan_recalculate'\n",
    "every_step = 50\n",
    "dataset = \"cifar10\"\n",
    "calculate_is = False\n",
    "\n",
    "ula_statistics = calculate_images_statistics(z_agg_step = z_agg_step, \n",
    "                                             G = G,\n",
    "                                             device = device, \n",
    "                                             batch_size = batch_size,\n",
    "                                             path_to_save = path_to_save,\n",
    "                                             path_to_save_np = path_to_save_np,\n",
    "                                             method_name = method_name,\n",
    "                                             random_seed = random_seed,\n",
    "                                             every_step = every_step,\n",
    "                                             dataset = dataset,\n",
    "                                             calculate_is = calculate_is)"
   ]
  },
  {
   "cell_type": "code",
   "execution_count": 10,
   "id": "satellite-bronze",
   "metadata": {},
   "outputs": [
    {
     "name": "stderr",
     "output_type": "stream",
     "text": [
      "  2%|▏         | 1/50 [04:15<3:29:03, 255.99s/it]"
     ]
    },
    {
     "name": "stdout",
     "output_type": "stream",
     "text": [
      "file /home/daniil/gans-mcmc/saved_numpy_arrays/ula_dcgan_cifar_recalc_eps_0.01_noise_scale_0.1_nsteps_1000.npy_batch_num_0.npy was saved, file shape = (21, 1000, 100)\n"
     ]
    },
    {
     "name": "stderr",
     "output_type": "stream",
     "text": [
      "\r",
      "  4%|▍         | 2/50 [08:41<3:27:02, 258.81s/it]"
     ]
    },
    {
     "name": "stdout",
     "output_type": "stream",
     "text": [
      "file /home/daniil/gans-mcmc/saved_numpy_arrays/ula_dcgan_cifar_recalc_eps_0.01_noise_scale_0.1_nsteps_1000.npy_batch_num_1000.npy was saved, file shape = (21, 1000, 100)\n"
     ]
    },
    {
     "name": "stderr",
     "output_type": "stream",
     "text": [
      "\r",
      "  6%|▌         | 3/50 [13:06<3:24:06, 260.57s/it]"
     ]
    },
    {
     "name": "stdout",
     "output_type": "stream",
     "text": [
      "file /home/daniil/gans-mcmc/saved_numpy_arrays/ula_dcgan_cifar_recalc_eps_0.01_noise_scale_0.1_nsteps_1000.npy_batch_num_2000.npy was saved, file shape = (21, 1000, 100)\n"
     ]
    },
    {
     "name": "stderr",
     "output_type": "stream",
     "text": [
      "\r",
      "  8%|▊         | 4/50 [17:30<3:20:43, 261.81s/it]"
     ]
    },
    {
     "name": "stdout",
     "output_type": "stream",
     "text": [
      "file /home/daniil/gans-mcmc/saved_numpy_arrays/ula_dcgan_cifar_recalc_eps_0.01_noise_scale_0.1_nsteps_1000.npy_batch_num_3000.npy was saved, file shape = (21, 1000, 100)\n"
     ]
    },
    {
     "name": "stderr",
     "output_type": "stream",
     "text": [
      "\r",
      " 10%|█         | 5/50 [21:55<3:16:57, 262.61s/it]"
     ]
    },
    {
     "name": "stdout",
     "output_type": "stream",
     "text": [
      "file /home/daniil/gans-mcmc/saved_numpy_arrays/ula_dcgan_cifar_recalc_eps_0.01_noise_scale_0.1_nsteps_1000.npy_batch_num_4000.npy was saved, file shape = (21, 1000, 100)\n"
     ]
    },
    {
     "name": "stderr",
     "output_type": "stream",
     "text": [
      "\r",
      " 12%|█▏        | 6/50 [26:19<3:12:57, 263.13s/it]"
     ]
    },
    {
     "name": "stdout",
     "output_type": "stream",
     "text": [
      "file /home/daniil/gans-mcmc/saved_numpy_arrays/ula_dcgan_cifar_recalc_eps_0.01_noise_scale_0.1_nsteps_1000.npy_batch_num_5000.npy was saved, file shape = (21, 1000, 100)\n"
     ]
    },
    {
     "name": "stderr",
     "output_type": "stream",
     "text": [
      "\r",
      " 14%|█▍        | 7/50 [30:43<3:08:46, 263.41s/it]"
     ]
    },
    {
     "name": "stdout",
     "output_type": "stream",
     "text": [
      "file /home/daniil/gans-mcmc/saved_numpy_arrays/ula_dcgan_cifar_recalc_eps_0.01_noise_scale_0.1_nsteps_1000.npy_batch_num_6000.npy was saved, file shape = (21, 1000, 100)\n"
     ]
    },
    {
     "name": "stderr",
     "output_type": "stream",
     "text": [
      "\r",
      " 16%|█▌        | 8/50 [35:07<3:04:26, 263.50s/it]"
     ]
    },
    {
     "name": "stdout",
     "output_type": "stream",
     "text": [
      "file /home/daniil/gans-mcmc/saved_numpy_arrays/ula_dcgan_cifar_recalc_eps_0.01_noise_scale_0.1_nsteps_1000.npy_batch_num_7000.npy was saved, file shape = (21, 1000, 100)\n"
     ]
    },
    {
     "name": "stderr",
     "output_type": "stream",
     "text": [
      "\r",
      " 18%|█▊        | 9/50 [39:31<3:00:08, 263.61s/it]"
     ]
    },
    {
     "name": "stdout",
     "output_type": "stream",
     "text": [
      "file /home/daniil/gans-mcmc/saved_numpy_arrays/ula_dcgan_cifar_recalc_eps_0.01_noise_scale_0.1_nsteps_1000.npy_batch_num_8000.npy was saved, file shape = (21, 1000, 100)\n"
     ]
    },
    {
     "name": "stderr",
     "output_type": "stream",
     "text": [
      "\r",
      " 20%|██        | 10/50 [43:55<2:55:55, 263.88s/it]"
     ]
    },
    {
     "name": "stdout",
     "output_type": "stream",
     "text": [
      "file /home/daniil/gans-mcmc/saved_numpy_arrays/ula_dcgan_cifar_recalc_eps_0.01_noise_scale_0.1_nsteps_1000.npy_batch_num_9000.npy was saved, file shape = (21, 1000, 100)\n"
     ]
    },
    {
     "name": "stderr",
     "output_type": "stream",
     "text": [
      "\r",
      " 22%|██▏       | 11/50 [48:20<2:51:40, 264.12s/it]"
     ]
    },
    {
     "name": "stdout",
     "output_type": "stream",
     "text": [
      "file /home/daniil/gans-mcmc/saved_numpy_arrays/ula_dcgan_cifar_recalc_eps_0.01_noise_scale_0.1_nsteps_1000.npy_batch_num_10000.npy was saved, file shape = (21, 1000, 100)\n"
     ]
    },
    {
     "name": "stderr",
     "output_type": "stream",
     "text": [
      "\r",
      " 24%|██▍       | 12/50 [52:44<2:47:21, 264.25s/it]"
     ]
    },
    {
     "name": "stdout",
     "output_type": "stream",
     "text": [
      "file /home/daniil/gans-mcmc/saved_numpy_arrays/ula_dcgan_cifar_recalc_eps_0.01_noise_scale_0.1_nsteps_1000.npy_batch_num_11000.npy was saved, file shape = (21, 1000, 100)\n"
     ]
    },
    {
     "name": "stderr",
     "output_type": "stream",
     "text": [
      "\r",
      " 26%|██▌       | 13/50 [57:09<2:43:00, 264.33s/it]"
     ]
    },
    {
     "name": "stdout",
     "output_type": "stream",
     "text": [
      "file /home/daniil/gans-mcmc/saved_numpy_arrays/ula_dcgan_cifar_recalc_eps_0.01_noise_scale_0.1_nsteps_1000.npy_batch_num_12000.npy was saved, file shape = (21, 1000, 100)\n"
     ]
    },
    {
     "name": "stderr",
     "output_type": "stream",
     "text": [
      "\r",
      " 28%|██▊       | 14/50 [1:01:33<2:38:33, 264.27s/it]"
     ]
    },
    {
     "name": "stdout",
     "output_type": "stream",
     "text": [
      "file /home/daniil/gans-mcmc/saved_numpy_arrays/ula_dcgan_cifar_recalc_eps_0.01_noise_scale_0.1_nsteps_1000.npy_batch_num_13000.npy was saved, file shape = (21, 1000, 100)\n"
     ]
    },
    {
     "name": "stderr",
     "output_type": "stream",
     "text": [
      "\r",
      " 30%|███       | 15/50 [1:05:57<2:34:03, 264.11s/it]"
     ]
    },
    {
     "name": "stdout",
     "output_type": "stream",
     "text": [
      "file /home/daniil/gans-mcmc/saved_numpy_arrays/ula_dcgan_cifar_recalc_eps_0.01_noise_scale_0.1_nsteps_1000.npy_batch_num_14000.npy was saved, file shape = (21, 1000, 100)\n"
     ]
    },
    {
     "name": "stderr",
     "output_type": "stream",
     "text": [
      "\r",
      " 32%|███▏      | 16/50 [1:10:21<2:29:36, 264.03s/it]"
     ]
    },
    {
     "name": "stdout",
     "output_type": "stream",
     "text": [
      "file /home/daniil/gans-mcmc/saved_numpy_arrays/ula_dcgan_cifar_recalc_eps_0.01_noise_scale_0.1_nsteps_1000.npy_batch_num_15000.npy was saved, file shape = (21, 1000, 100)\n"
     ]
    },
    {
     "name": "stderr",
     "output_type": "stream",
     "text": [
      "\r",
      " 34%|███▍      | 17/50 [1:14:45<2:25:20, 264.24s/it]"
     ]
    },
    {
     "name": "stdout",
     "output_type": "stream",
     "text": [
      "file /home/daniil/gans-mcmc/saved_numpy_arrays/ula_dcgan_cifar_recalc_eps_0.01_noise_scale_0.1_nsteps_1000.npy_batch_num_16000.npy was saved, file shape = (21, 1000, 100)\n"
     ]
    },
    {
     "name": "stderr",
     "output_type": "stream",
     "text": [
      "\r",
      " 36%|███▌      | 18/50 [1:19:10<2:21:00, 264.40s/it]"
     ]
    },
    {
     "name": "stdout",
     "output_type": "stream",
     "text": [
      "file /home/daniil/gans-mcmc/saved_numpy_arrays/ula_dcgan_cifar_recalc_eps_0.01_noise_scale_0.1_nsteps_1000.npy_batch_num_17000.npy was saved, file shape = (21, 1000, 100)\n"
     ]
    },
    {
     "name": "stderr",
     "output_type": "stream",
     "text": [
      "\r",
      " 38%|███▊      | 19/50 [1:23:35<2:16:37, 264.45s/it]"
     ]
    },
    {
     "name": "stdout",
     "output_type": "stream",
     "text": [
      "file /home/daniil/gans-mcmc/saved_numpy_arrays/ula_dcgan_cifar_recalc_eps_0.01_noise_scale_0.1_nsteps_1000.npy_batch_num_18000.npy was saved, file shape = (21, 1000, 100)\n"
     ]
    },
    {
     "name": "stderr",
     "output_type": "stream",
     "text": [
      "\r",
      " 40%|████      | 20/50 [1:27:59<2:12:12, 264.42s/it]"
     ]
    },
    {
     "name": "stdout",
     "output_type": "stream",
     "text": [
      "file /home/daniil/gans-mcmc/saved_numpy_arrays/ula_dcgan_cifar_recalc_eps_0.01_noise_scale_0.1_nsteps_1000.npy_batch_num_19000.npy was saved, file shape = (21, 1000, 100)\n"
     ]
    },
    {
     "name": "stderr",
     "output_type": "stream",
     "text": [
      "\r",
      " 42%|████▏     | 21/50 [1:32:23<2:07:42, 264.22s/it]"
     ]
    },
    {
     "name": "stdout",
     "output_type": "stream",
     "text": [
      "file /home/daniil/gans-mcmc/saved_numpy_arrays/ula_dcgan_cifar_recalc_eps_0.01_noise_scale_0.1_nsteps_1000.npy_batch_num_20000.npy was saved, file shape = (21, 1000, 100)\n"
     ]
    },
    {
     "name": "stderr",
     "output_type": "stream",
     "text": [
      "\r",
      " 44%|████▍     | 22/50 [1:36:46<2:03:12, 264.03s/it]"
     ]
    },
    {
     "name": "stdout",
     "output_type": "stream",
     "text": [
      "file /home/daniil/gans-mcmc/saved_numpy_arrays/ula_dcgan_cifar_recalc_eps_0.01_noise_scale_0.1_nsteps_1000.npy_batch_num_21000.npy was saved, file shape = (21, 1000, 100)\n"
     ]
    },
    {
     "name": "stderr",
     "output_type": "stream",
     "text": [
      "\r",
      " 46%|████▌     | 23/50 [1:41:10<1:58:47, 263.97s/it]"
     ]
    },
    {
     "name": "stdout",
     "output_type": "stream",
     "text": [
      "file /home/daniil/gans-mcmc/saved_numpy_arrays/ula_dcgan_cifar_recalc_eps_0.01_noise_scale_0.1_nsteps_1000.npy_batch_num_22000.npy was saved, file shape = (21, 1000, 100)\n"
     ]
    },
    {
     "name": "stderr",
     "output_type": "stream",
     "text": [
      "\r",
      " 48%|████▊     | 24/50 [1:45:35<1:54:29, 264.22s/it]"
     ]
    },
    {
     "name": "stdout",
     "output_type": "stream",
     "text": [
      "file /home/daniil/gans-mcmc/saved_numpy_arrays/ula_dcgan_cifar_recalc_eps_0.01_noise_scale_0.1_nsteps_1000.npy_batch_num_23000.npy was saved, file shape = (21, 1000, 100)\n"
     ]
    },
    {
     "name": "stderr",
     "output_type": "stream",
     "text": [
      "\r",
      " 50%|█████     | 25/50 [1:50:00<1:50:08, 264.35s/it]"
     ]
    },
    {
     "name": "stdout",
     "output_type": "stream",
     "text": [
      "file /home/daniil/gans-mcmc/saved_numpy_arrays/ula_dcgan_cifar_recalc_eps_0.01_noise_scale_0.1_nsteps_1000.npy_batch_num_24000.npy was saved, file shape = (21, 1000, 100)\n"
     ]
    },
    {
     "name": "stderr",
     "output_type": "stream",
     "text": [
      "\r",
      " 52%|█████▏    | 26/50 [1:54:24<1:45:45, 264.39s/it]"
     ]
    },
    {
     "name": "stdout",
     "output_type": "stream",
     "text": [
      "file /home/daniil/gans-mcmc/saved_numpy_arrays/ula_dcgan_cifar_recalc_eps_0.01_noise_scale_0.1_nsteps_1000.npy_batch_num_25000.npy was saved, file shape = (21, 1000, 100)\n"
     ]
    },
    {
     "name": "stderr",
     "output_type": "stream",
     "text": [
      "\r",
      " 54%|█████▍    | 27/50 [1:58:49<1:41:20, 264.38s/it]"
     ]
    },
    {
     "name": "stdout",
     "output_type": "stream",
     "text": [
      "file /home/daniil/gans-mcmc/saved_numpy_arrays/ula_dcgan_cifar_recalc_eps_0.01_noise_scale_0.1_nsteps_1000.npy_batch_num_26000.npy was saved, file shape = (21, 1000, 100)\n"
     ]
    },
    {
     "name": "stderr",
     "output_type": "stream",
     "text": [
      "\r",
      " 56%|█████▌    | 28/50 [2:03:12<1:36:52, 264.18s/it]"
     ]
    },
    {
     "name": "stdout",
     "output_type": "stream",
     "text": [
      "file /home/daniil/gans-mcmc/saved_numpy_arrays/ula_dcgan_cifar_recalc_eps_0.01_noise_scale_0.1_nsteps_1000.npy_batch_num_27000.npy was saved, file shape = (21, 1000, 100)\n"
     ]
    },
    {
     "name": "stderr",
     "output_type": "stream",
     "text": [
      "\r",
      " 58%|█████▊    | 29/50 [2:07:36<1:32:24, 264.03s/it]"
     ]
    },
    {
     "name": "stdout",
     "output_type": "stream",
     "text": [
      "file /home/daniil/gans-mcmc/saved_numpy_arrays/ula_dcgan_cifar_recalc_eps_0.01_noise_scale_0.1_nsteps_1000.npy_batch_num_28000.npy was saved, file shape = (21, 1000, 100)\n"
     ]
    },
    {
     "name": "stderr",
     "output_type": "stream",
     "text": [
      "\r",
      " 60%|██████    | 30/50 [2:12:00<1:28:00, 264.05s/it]"
     ]
    },
    {
     "name": "stdout",
     "output_type": "stream",
     "text": [
      "file /home/daniil/gans-mcmc/saved_numpy_arrays/ula_dcgan_cifar_recalc_eps_0.01_noise_scale_0.1_nsteps_1000.npy_batch_num_29000.npy was saved, file shape = (21, 1000, 100)\n"
     ]
    },
    {
     "name": "stderr",
     "output_type": "stream",
     "text": [
      "\r",
      " 62%|██████▏   | 31/50 [2:16:25<1:23:41, 264.27s/it]"
     ]
    },
    {
     "name": "stdout",
     "output_type": "stream",
     "text": [
      "file /home/daniil/gans-mcmc/saved_numpy_arrays/ula_dcgan_cifar_recalc_eps_0.01_noise_scale_0.1_nsteps_1000.npy_batch_num_30000.npy was saved, file shape = (21, 1000, 100)\n"
     ]
    },
    {
     "name": "stderr",
     "output_type": "stream",
     "text": [
      "\r",
      " 64%|██████▍   | 32/50 [2:20:49<1:19:18, 264.35s/it]"
     ]
    },
    {
     "name": "stdout",
     "output_type": "stream",
     "text": [
      "file /home/daniil/gans-mcmc/saved_numpy_arrays/ula_dcgan_cifar_recalc_eps_0.01_noise_scale_0.1_nsteps_1000.npy_batch_num_31000.npy was saved, file shape = (21, 1000, 100)\n"
     ]
    },
    {
     "name": "stderr",
     "output_type": "stream",
     "text": [
      "\r",
      " 66%|██████▌   | 33/50 [2:25:14<1:14:53, 264.33s/it]"
     ]
    },
    {
     "name": "stdout",
     "output_type": "stream",
     "text": [
      "file /home/daniil/gans-mcmc/saved_numpy_arrays/ula_dcgan_cifar_recalc_eps_0.01_noise_scale_0.1_nsteps_1000.npy_batch_num_32000.npy was saved, file shape = (21, 1000, 100)\n"
     ]
    },
    {
     "name": "stderr",
     "output_type": "stream",
     "text": [
      "\r",
      " 68%|██████▊   | 34/50 [2:29:38<1:10:27, 264.24s/it]"
     ]
    },
    {
     "name": "stdout",
     "output_type": "stream",
     "text": [
      "file /home/daniil/gans-mcmc/saved_numpy_arrays/ula_dcgan_cifar_recalc_eps_0.01_noise_scale_0.1_nsteps_1000.npy_batch_num_33000.npy was saved, file shape = (21, 1000, 100)\n"
     ]
    },
    {
     "name": "stderr",
     "output_type": "stream",
     "text": [
      "\r",
      " 70%|███████   | 35/50 [2:34:01<1:06:00, 264.04s/it]"
     ]
    },
    {
     "name": "stdout",
     "output_type": "stream",
     "text": [
      "file /home/daniil/gans-mcmc/saved_numpy_arrays/ula_dcgan_cifar_recalc_eps_0.01_noise_scale_0.1_nsteps_1000.npy_batch_num_34000.npy was saved, file shape = (21, 1000, 100)\n"
     ]
    },
    {
     "name": "stderr",
     "output_type": "stream",
     "text": [
      "\r",
      " 72%|███████▏  | 36/50 [2:38:25<1:01:35, 263.94s/it]"
     ]
    },
    {
     "name": "stdout",
     "output_type": "stream",
     "text": [
      "file /home/daniil/gans-mcmc/saved_numpy_arrays/ula_dcgan_cifar_recalc_eps_0.01_noise_scale_0.1_nsteps_1000.npy_batch_num_35000.npy was saved, file shape = (21, 1000, 100)\n"
     ]
    },
    {
     "name": "stderr",
     "output_type": "stream",
     "text": [
      "\r",
      " 74%|███████▍  | 37/50 [2:42:49<57:12, 264.07s/it]  "
     ]
    },
    {
     "name": "stdout",
     "output_type": "stream",
     "text": [
      "file /home/daniil/gans-mcmc/saved_numpy_arrays/ula_dcgan_cifar_recalc_eps_0.01_noise_scale_0.1_nsteps_1000.npy_batch_num_36000.npy was saved, file shape = (21, 1000, 100)\n"
     ]
    },
    {
     "name": "stderr",
     "output_type": "stream",
     "text": [
      "\r",
      " 76%|███████▌  | 38/50 [2:47:14<52:50, 264.23s/it]"
     ]
    },
    {
     "name": "stdout",
     "output_type": "stream",
     "text": [
      "file /home/daniil/gans-mcmc/saved_numpy_arrays/ula_dcgan_cifar_recalc_eps_0.01_noise_scale_0.1_nsteps_1000.npy_batch_num_37000.npy was saved, file shape = (21, 1000, 100)\n"
     ]
    },
    {
     "name": "stderr",
     "output_type": "stream",
     "text": [
      "\r",
      " 78%|███████▊  | 39/50 [2:51:38<48:27, 264.30s/it]"
     ]
    },
    {
     "name": "stdout",
     "output_type": "stream",
     "text": [
      "file /home/daniil/gans-mcmc/saved_numpy_arrays/ula_dcgan_cifar_recalc_eps_0.01_noise_scale_0.1_nsteps_1000.npy_batch_num_38000.npy was saved, file shape = (21, 1000, 100)\n"
     ]
    },
    {
     "name": "stderr",
     "output_type": "stream",
     "text": [
      "\r",
      " 80%|████████  | 40/50 [2:56:03<44:02, 264.30s/it]"
     ]
    },
    {
     "name": "stdout",
     "output_type": "stream",
     "text": [
      "file /home/daniil/gans-mcmc/saved_numpy_arrays/ula_dcgan_cifar_recalc_eps_0.01_noise_scale_0.1_nsteps_1000.npy_batch_num_39000.npy was saved, file shape = (21, 1000, 100)\n"
     ]
    },
    {
     "name": "stderr",
     "output_type": "stream",
     "text": [
      "\r",
      " 82%|████████▏ | 41/50 [3:00:26<39:37, 264.13s/it]"
     ]
    },
    {
     "name": "stdout",
     "output_type": "stream",
     "text": [
      "file /home/daniil/gans-mcmc/saved_numpy_arrays/ula_dcgan_cifar_recalc_eps_0.01_noise_scale_0.1_nsteps_1000.npy_batch_num_40000.npy was saved, file shape = (21, 1000, 100)\n"
     ]
    },
    {
     "name": "stderr",
     "output_type": "stream",
     "text": [
      "\r",
      " 84%|████████▍ | 42/50 [3:04:50<35:11, 263.95s/it]"
     ]
    },
    {
     "name": "stdout",
     "output_type": "stream",
     "text": [
      "file /home/daniil/gans-mcmc/saved_numpy_arrays/ula_dcgan_cifar_recalc_eps_0.01_noise_scale_0.1_nsteps_1000.npy_batch_num_41000.npy was saved, file shape = (21, 1000, 100)\n"
     ]
    },
    {
     "name": "stderr",
     "output_type": "stream",
     "text": [
      "\r",
      " 86%|████████▌ | 43/50 [3:09:14<30:47, 263.90s/it]"
     ]
    },
    {
     "name": "stdout",
     "output_type": "stream",
     "text": [
      "file /home/daniil/gans-mcmc/saved_numpy_arrays/ula_dcgan_cifar_recalc_eps_0.01_noise_scale_0.1_nsteps_1000.npy_batch_num_42000.npy was saved, file shape = (21, 1000, 100)\n"
     ]
    },
    {
     "name": "stderr",
     "output_type": "stream",
     "text": [
      "\r",
      " 88%|████████▊ | 44/50 [3:13:38<26:24, 264.11s/it]"
     ]
    },
    {
     "name": "stdout",
     "output_type": "stream",
     "text": [
      "file /home/daniil/gans-mcmc/saved_numpy_arrays/ula_dcgan_cifar_recalc_eps_0.01_noise_scale_0.1_nsteps_1000.npy_batch_num_43000.npy was saved, file shape = (21, 1000, 100)\n"
     ]
    },
    {
     "name": "stderr",
     "output_type": "stream",
     "text": [
      "\r",
      " 90%|█████████ | 45/50 [3:18:03<22:00, 264.18s/it]"
     ]
    },
    {
     "name": "stdout",
     "output_type": "stream",
     "text": [
      "file /home/daniil/gans-mcmc/saved_numpy_arrays/ula_dcgan_cifar_recalc_eps_0.01_noise_scale_0.1_nsteps_1000.npy_batch_num_44000.npy was saved, file shape = (21, 1000, 100)\n"
     ]
    },
    {
     "name": "stderr",
     "output_type": "stream",
     "text": [
      "\r",
      " 92%|█████████▏| 46/50 [3:22:27<17:36, 264.18s/it]"
     ]
    },
    {
     "name": "stdout",
     "output_type": "stream",
     "text": [
      "file /home/daniil/gans-mcmc/saved_numpy_arrays/ula_dcgan_cifar_recalc_eps_0.01_noise_scale_0.1_nsteps_1000.npy_batch_num_45000.npy was saved, file shape = (21, 1000, 100)\n"
     ]
    },
    {
     "name": "stderr",
     "output_type": "stream",
     "text": [
      "\r",
      " 94%|█████████▍| 47/50 [3:26:51<13:12, 264.17s/it]"
     ]
    },
    {
     "name": "stdout",
     "output_type": "stream",
     "text": [
      "file /home/daniil/gans-mcmc/saved_numpy_arrays/ula_dcgan_cifar_recalc_eps_0.01_noise_scale_0.1_nsteps_1000.npy_batch_num_46000.npy was saved, file shape = (21, 1000, 100)\n"
     ]
    },
    {
     "name": "stderr",
     "output_type": "stream",
     "text": [
      "\r",
      " 96%|█████████▌| 48/50 [3:31:15<08:47, 263.97s/it]"
     ]
    },
    {
     "name": "stdout",
     "output_type": "stream",
     "text": [
      "file /home/daniil/gans-mcmc/saved_numpy_arrays/ula_dcgan_cifar_recalc_eps_0.01_noise_scale_0.1_nsteps_1000.npy_batch_num_47000.npy was saved, file shape = (21, 1000, 100)\n"
     ]
    },
    {
     "name": "stderr",
     "output_type": "stream",
     "text": [
      "\r",
      " 98%|█████████▊| 49/50 [3:35:38<04:23, 263.86s/it]"
     ]
    },
    {
     "name": "stdout",
     "output_type": "stream",
     "text": [
      "file /home/daniil/gans-mcmc/saved_numpy_arrays/ula_dcgan_cifar_recalc_eps_0.01_noise_scale_0.1_nsteps_1000.npy_batch_num_48000.npy was saved, file shape = (21, 1000, 100)\n"
     ]
    },
    {
     "name": "stderr",
     "output_type": "stream",
     "text": [
      "100%|██████████| 50/50 [3:40:02<00:00, 264.06s/it]"
     ]
    },
    {
     "name": "stdout",
     "output_type": "stream",
     "text": [
      "file /home/daniil/gans-mcmc/saved_numpy_arrays/ula_dcgan_cifar_recalc_eps_0.01_noise_scale_0.1_nsteps_1000.npy_batch_num_49000.npy was saved, file shape = (21, 1000, 100)\n"
     ]
    },
    {
     "name": "stderr",
     "output_type": "stream",
     "text": [
      "\n"
     ]
    }
   ],
   "source": [
    "torch.manual_seed(random_seed)\n",
    "np.random.seed(random_seed)\n",
    "random.seed(random_seed)\n",
    "\n",
    "batch_size = 1000\n",
    "n = 50000\n",
    "n_steps = 1000\n",
    "grad_step = 0.01\n",
    "eps_scale = 0.1\n",
    "\n",
    "method_name = 'ula_dcgan_cifar_recalc'\n",
    "path_to_save = '/home/daniil/gans-mcmc/saved_numpy_arrays'\n",
    "file_name = f'{method_name}_eps_{grad_step}_noise_scale_{eps_scale}_nsteps_{n_steps}.npy'\n",
    "every_step = 50\n",
    "continue_z = None\n",
    "\n",
    "z_last_np, zs = langevin_sampling(target_gan, proposal, batch_size, n,\n",
    "                                  path_to_save, file_name, every_step,\n",
    "                                  continue_z,\n",
    "                                  n_steps, grad_step, eps_scale)"
   ]
  },
  {
   "cell_type": "code",
   "execution_count": 5,
   "id": "conservative-perry",
   "metadata": {},
   "outputs": [
    {
     "name": "stderr",
     "output_type": "stream",
     "text": [
      "100%|██████████| 50/50 [00:00<00:00, 283.30it/s]\n"
     ]
    }
   ],
   "source": [
    "path_to_save = '/home/daniil/gans-mcmc/saved_numpy_arrays'\n",
    "batch_size = 1000\n",
    "n = 50000\n",
    "method_name = 'ula_dcgan_cifar_recalc'\n",
    "grad_step = 0.01\n",
    "eps_scale = 0.1\n",
    "n_steps = 1000\n",
    "file_name = f'{method_name}_eps_{grad_step}_noise_scale_{eps_scale}_nsteps_{n_steps}.npy'\n",
    "load_np = load_data_from_batches(n, batch_size,\n",
    "                                 path_to_save, file_name)"
   ]
  },
  {
   "cell_type": "code",
   "execution_count": 6,
   "id": "immune-essex",
   "metadata": {},
   "outputs": [
    {
     "data": {
      "text/plain": [
       "(21, 50000, 100)"
      ]
     },
     "execution_count": 6,
     "metadata": {},
     "output_type": "execute_result"
    }
   ],
   "source": [
    "load_np.shape"
   ]
  },
  {
   "cell_type": "code",
   "execution_count": 7,
   "id": "qualified-malawi",
   "metadata": {},
   "outputs": [
    {
     "name": "stdout",
     "output_type": "stream",
     "text": [
      "Files already downloaded and verified\n",
      "Files already downloaded and verified\n",
      "------------------------------------\n",
      "step = 0\n",
      "sample size = (50000, 100)\n",
      "sample size after deleteting nans = (50000, 100)\n",
      "start to calculate inception score...\n",
      "Start to make predictions\n",
      "Start to compute KL divergence\n",
      "ula_dcgan_cifar_recalc mean inception score = 5.458847549031244, std inception score = 0.07988135484834574\n",
      "time for inception calculation = 303.922s\n",
      "start to calculate FID score for test cifar10...\n"
     ]
    },
    {
     "name": "stderr",
     "output_type": "stream",
     "text": [
      "100it [00:01, 63.53it/s]\n"
     ]
    },
    {
     "name": "stdout",
     "output_type": "stream",
     "text": [
      "shape of generated images = (10000, 3, 32, 32)\n",
      "shape of real images = (10000, 3, 32, 32)\n"
     ]
    },
    {
     "name": "stderr",
     "output_type": "stream",
     "text": [
      "100%|██████████| 200/200 [00:17<00:00, 11.74it/s]\n",
      "  1%|          | 2/200 [00:00<00:16, 11.80it/s]"
     ]
    },
    {
     "name": "stdout",
     "output_type": "stream",
     "text": [
      "/home/daniil/gans-mcmc/saved_numpy_arrays/ula_dcgan_cifar_recalc_pretrained_fake_test_step_0.npy\n"
     ]
    },
    {
     "name": "stderr",
     "output_type": "stream",
     "text": [
      "100%|██████████| 200/200 [00:17<00:00, 11.73it/s]\n",
      "fid: 100%|██████████| 10/10 [00:35<00:00,  3.57s/it, mean=39.6]\n"
     ]
    },
    {
     "name": "stdout",
     "output_type": "stream",
     "text": [
      "FID score for test cifar10 with ula_dcgan_cifar_recalc: mean 39.62882295543382, std 0.4578858817004737\n",
      "time for FID calculation on test = 71.912s\n",
      "start to calculate MSID score for test cifar10...\n"
     ]
    },
    {
     "name": "stderr",
     "output_type": "stream",
     "text": [
      "100%|██████████| 200/200 [00:16<00:00, 11.79it/s]\n",
      "  1%|          | 2/200 [00:00<00:16, 11.72it/s]"
     ]
    },
    {
     "name": "stdout",
     "output_type": "stream",
     "text": [
      "/home/daniil/gans-mcmc/saved_numpy_arrays/ula_dcgan_cifar_recalc_pretrained_fake_test_step_0.npy\n"
     ]
    },
    {
     "name": "stderr",
     "output_type": "stream",
     "text": [
      "100%|██████████| 200/200 [00:17<00:00, 11.65it/s]\n",
      "msid: 100%|██████████| 10/10 [15:49<00:00, 95.00s/it, mean=6.07]"
     ]
    },
    {
     "name": "stdout",
     "output_type": "stream",
     "text": [
      "MSID score for test cifar10 with ula_dcgan_cifar_recalc: mean 6.0692309765052865, std 3.013117228885991\n",
      "time for MSID calculation on test = 984.408s\n",
      "start to calculate FID score for train cifar10...\n"
     ]
    },
    {
     "name": "stderr",
     "output_type": "stream",
     "text": [
      "\n",
      "500it [00:07, 66.69it/s]\n"
     ]
    },
    {
     "name": "stdout",
     "output_type": "stream",
     "text": [
      "shape of generated images = (50000, 3, 32, 32)\n",
      "shape of real images = (50000, 3, 32, 32)\n"
     ]
    },
    {
     "name": "stderr",
     "output_type": "stream",
     "text": [
      "100%|██████████| 1000/1000 [01:24<00:00, 11.85it/s]\n",
      "  0%|          | 2/1000 [00:00<01:26, 11.60it/s]"
     ]
    },
    {
     "name": "stdout",
     "output_type": "stream",
     "text": [
      "/home/daniil/gans-mcmc/saved_numpy_arrays/ula_dcgan_cifar_recalc_pretrained_fake_train_step_0.npy\n"
     ]
    },
    {
     "name": "stderr",
     "output_type": "stream",
     "text": [
      "100%|██████████| 1000/1000 [01:27<00:00, 11.46it/s]\n",
      "fid: 100%|██████████| 10/10 [01:18<00:00,  7.88s/it, mean=35.7]\n"
     ]
    },
    {
     "name": "stdout",
     "output_type": "stream",
     "text": [
      "FID score for train cifar10 with ula_dcgan_cifar_recalc: mean 35.716967444687825, std 0.22371321329750932\n",
      "time for FID calculation on train = 259.352s\n",
      "------------------------------------\n",
      "step = 50\n",
      "sample size = (50000, 100)\n",
      "sample size after deleteting nans = (50000, 100)\n",
      "start to calculate inception score...\n",
      "Start to make predictions\n",
      "Start to compute KL divergence\n",
      "ula_dcgan_cifar_recalc mean inception score = 5.645332465862379, std inception score = 0.06556845407974303\n",
      "time for inception calculation = 305.052s\n",
      "start to calculate FID score for test cifar10...\n"
     ]
    },
    {
     "name": "stderr",
     "output_type": "stream",
     "text": [
      "100it [00:01, 62.26it/s]\n"
     ]
    },
    {
     "name": "stdout",
     "output_type": "stream",
     "text": [
      "shape of generated images = (10000, 3, 32, 32)\n",
      "shape of real images = (10000, 3, 32, 32)\n"
     ]
    },
    {
     "name": "stderr",
     "output_type": "stream",
     "text": [
      "100%|██████████| 200/200 [00:16<00:00, 11.86it/s]\n",
      "  1%|          | 2/200 [00:00<00:16, 11.81it/s]"
     ]
    },
    {
     "name": "stdout",
     "output_type": "stream",
     "text": [
      "/home/daniil/gans-mcmc/saved_numpy_arrays/ula_dcgan_cifar_recalc_pretrained_fake_test_step_50.npy\n"
     ]
    },
    {
     "name": "stderr",
     "output_type": "stream",
     "text": [
      "100%|██████████| 200/200 [00:17<00:00, 11.70it/s]\n",
      "fid: 100%|██████████| 10/10 [00:35<00:00,  3.53s/it, mean=45.2]\n"
     ]
    },
    {
     "name": "stdout",
     "output_type": "stream",
     "text": [
      "FID score for test cifar10 with ula_dcgan_cifar_recalc: mean 45.215968221926474, std 0.7777033557657044\n",
      "time for FID calculation on test = 71.416s\n",
      "start to calculate MSID score for test cifar10...\n"
     ]
    },
    {
     "name": "stderr",
     "output_type": "stream",
     "text": [
      "100%|██████████| 200/200 [00:16<00:00, 11.77it/s]\n",
      "  1%|          | 2/200 [00:00<00:16, 11.75it/s]"
     ]
    },
    {
     "name": "stdout",
     "output_type": "stream",
     "text": [
      "/home/daniil/gans-mcmc/saved_numpy_arrays/ula_dcgan_cifar_recalc_pretrained_fake_test_step_50.npy\n"
     ]
    },
    {
     "name": "stderr",
     "output_type": "stream",
     "text": [
      "100%|██████████| 200/200 [00:17<00:00, 11.64it/s]\n",
      "msid: 100%|██████████| 10/10 [15:47<00:00, 94.80s/it, mean=4.72]"
     ]
    },
    {
     "name": "stdout",
     "output_type": "stream",
     "text": [
      "MSID score for test cifar10 with ula_dcgan_cifar_recalc: mean 4.718984844351844, std 2.717967133908053\n",
      "time for MSID calculation on test = 982.45s\n",
      "start to calculate FID score for train cifar10...\n"
     ]
    },
    {
     "name": "stderr",
     "output_type": "stream",
     "text": [
      "\n",
      "500it [00:07, 66.52it/s]\n"
     ]
    },
    {
     "name": "stdout",
     "output_type": "stream",
     "text": [
      "shape of generated images = (50000, 3, 32, 32)\n",
      "shape of real images = (50000, 3, 32, 32)\n"
     ]
    },
    {
     "name": "stderr",
     "output_type": "stream",
     "text": [
      "100%|██████████| 1000/1000 [01:24<00:00, 11.85it/s]\n",
      "  0%|          | 2/1000 [00:00<01:26, 11.59it/s]"
     ]
    },
    {
     "name": "stdout",
     "output_type": "stream",
     "text": [
      "/home/daniil/gans-mcmc/saved_numpy_arrays/ula_dcgan_cifar_recalc_pretrained_fake_train_step_50.npy\n"
     ]
    },
    {
     "name": "stderr",
     "output_type": "stream",
     "text": [
      "100%|██████████| 1000/1000 [01:27<00:00, 11.46it/s]\n",
      "fid: 100%|██████████| 10/10 [01:18<00:00,  7.86s/it, mean=41.2]\n"
     ]
    },
    {
     "name": "stdout",
     "output_type": "stream",
     "text": [
      "FID score for train cifar10 with ula_dcgan_cifar_recalc: mean 41.23658666158131, std 0.2741671124026705\n",
      "time for FID calculation on train = 259.264s\n",
      "------------------------------------\n",
      "step = 100\n",
      "sample size = (50000, 100)\n",
      "sample size after deleteting nans = (50000, 100)\n",
      "start to calculate inception score...\n",
      "Start to make predictions\n",
      "Start to compute KL divergence\n",
      "ula_dcgan_cifar_recalc mean inception score = 5.933026745154342, std inception score = 0.07513579996595031\n",
      "time for inception calculation = 303.705s\n",
      "start to calculate FID score for test cifar10...\n"
     ]
    },
    {
     "name": "stderr",
     "output_type": "stream",
     "text": [
      "100it [00:01, 62.22it/s]\n"
     ]
    },
    {
     "name": "stdout",
     "output_type": "stream",
     "text": [
      "shape of generated images = (10000, 3, 32, 32)\n",
      "shape of real images = (10000, 3, 32, 32)\n"
     ]
    },
    {
     "name": "stderr",
     "output_type": "stream",
     "text": [
      "100%|██████████| 200/200 [00:16<00:00, 11.86it/s]\n",
      "  1%|          | 2/200 [00:00<00:16, 11.80it/s]"
     ]
    },
    {
     "name": "stdout",
     "output_type": "stream",
     "text": [
      "/home/daniil/gans-mcmc/saved_numpy_arrays/ula_dcgan_cifar_recalc_pretrained_fake_test_step_100.npy\n"
     ]
    },
    {
     "name": "stderr",
     "output_type": "stream",
     "text": [
      "100%|██████████| 200/200 [00:17<00:00, 11.71it/s]\n",
      "fid: 100%|██████████| 10/10 [00:35<00:00,  3.51s/it, mean=39.5]\n"
     ]
    },
    {
     "name": "stdout",
     "output_type": "stream",
     "text": [
      "FID score for test cifar10 with ula_dcgan_cifar_recalc: mean 39.45932566694291, std 0.6813296007537125\n",
      "time for FID calculation on test = 71.129s\n",
      "start to calculate MSID score for test cifar10...\n"
     ]
    },
    {
     "name": "stderr",
     "output_type": "stream",
     "text": [
      "100%|██████████| 200/200 [00:17<00:00, 11.76it/s]\n",
      "  1%|          | 2/200 [00:00<00:16, 11.69it/s]"
     ]
    },
    {
     "name": "stdout",
     "output_type": "stream",
     "text": [
      "/home/daniil/gans-mcmc/saved_numpy_arrays/ula_dcgan_cifar_recalc_pretrained_fake_test_step_100.npy\n"
     ]
    },
    {
     "name": "stderr",
     "output_type": "stream",
     "text": [
      "100%|██████████| 200/200 [00:17<00:00, 11.63it/s]\n",
      "msid: 100%|██████████| 10/10 [15:50<00:00, 95.06s/it, mean=3.26]"
     ]
    },
    {
     "name": "stdout",
     "output_type": "stream",
     "text": [
      "MSID score for test cifar10 with ula_dcgan_cifar_recalc: mean 3.2583420531881537, std 2.345780668553095\n",
      "time for MSID calculation on test = 985.056s\n",
      "start to calculate FID score for train cifar10...\n"
     ]
    },
    {
     "name": "stderr",
     "output_type": "stream",
     "text": [
      "\n",
      "500it [00:07, 66.82it/s]\n"
     ]
    },
    {
     "name": "stdout",
     "output_type": "stream",
     "text": [
      "shape of generated images = (50000, 3, 32, 32)\n",
      "shape of real images = (50000, 3, 32, 32)\n"
     ]
    },
    {
     "name": "stderr",
     "output_type": "stream",
     "text": [
      "100%|██████████| 1000/1000 [01:24<00:00, 11.85it/s]\n",
      "  0%|          | 2/1000 [00:00<01:25, 11.61it/s]"
     ]
    },
    {
     "name": "stdout",
     "output_type": "stream",
     "text": [
      "/home/daniil/gans-mcmc/saved_numpy_arrays/ula_dcgan_cifar_recalc_pretrained_fake_train_step_100.npy\n"
     ]
    },
    {
     "name": "stderr",
     "output_type": "stream",
     "text": [
      "100%|██████████| 1000/1000 [01:27<00:00, 11.46it/s]\n",
      "fid: 100%|██████████| 10/10 [01:17<00:00,  7.74s/it, mean=34.9]\n"
     ]
    },
    {
     "name": "stdout",
     "output_type": "stream",
     "text": [
      "FID score for train cifar10 with ula_dcgan_cifar_recalc: mean 34.94264839153134, std 0.2514279902147131\n",
      "time for FID calculation on train = 258.004s\n",
      "------------------------------------\n",
      "step = 150\n",
      "sample size = (50000, 100)\n",
      "sample size after deleteting nans = (50000, 100)\n",
      "start to calculate inception score...\n",
      "Start to make predictions\n",
      "Start to compute KL divergence\n",
      "ula_dcgan_cifar_recalc mean inception score = 6.110757207547267, std inception score = 0.09356252638748287\n",
      "time for inception calculation = 304.166s\n",
      "start to calculate FID score for test cifar10...\n"
     ]
    },
    {
     "name": "stderr",
     "output_type": "stream",
     "text": [
      "100it [00:01, 62.05it/s]\n"
     ]
    },
    {
     "name": "stdout",
     "output_type": "stream",
     "text": [
      "shape of generated images = (10000, 3, 32, 32)\n",
      "shape of real images = (10000, 3, 32, 32)\n"
     ]
    },
    {
     "name": "stderr",
     "output_type": "stream",
     "text": [
      "100%|██████████| 200/200 [00:16<00:00, 11.85it/s]\n",
      "  1%|          | 2/200 [00:00<00:16, 11.83it/s]"
     ]
    },
    {
     "name": "stdout",
     "output_type": "stream",
     "text": [
      "/home/daniil/gans-mcmc/saved_numpy_arrays/ula_dcgan_cifar_recalc_pretrained_fake_test_step_150.npy\n"
     ]
    },
    {
     "name": "stderr",
     "output_type": "stream",
     "text": [
      "100%|██████████| 200/200 [00:17<00:00, 11.70it/s]\n",
      "fid: 100%|██████████| 10/10 [00:36<00:00,  3.62s/it, mean=34.7]\n"
     ]
    },
    {
     "name": "stdout",
     "output_type": "stream",
     "text": [
      "FID score for test cifar10 with ula_dcgan_cifar_recalc: mean 34.710352110927865, std 0.6580956786850805\n",
      "time for FID calculation on test = 72.303s\n",
      "start to calculate MSID score for test cifar10...\n"
     ]
    },
    {
     "name": "stderr",
     "output_type": "stream",
     "text": [
      "100%|██████████| 200/200 [00:16<00:00, 11.77it/s]\n",
      "  1%|          | 2/200 [00:00<00:16, 11.75it/s]"
     ]
    },
    {
     "name": "stdout",
     "output_type": "stream",
     "text": [
      "/home/daniil/gans-mcmc/saved_numpy_arrays/ula_dcgan_cifar_recalc_pretrained_fake_test_step_150.npy\n"
     ]
    },
    {
     "name": "stderr",
     "output_type": "stream",
     "text": [
      "100%|██████████| 200/200 [00:17<00:00, 11.64it/s]\n",
      "msid: 100%|██████████| 10/10 [15:45<00:00, 94.55s/it, mean=3.79]"
     ]
    },
    {
     "name": "stdout",
     "output_type": "stream",
     "text": [
      "MSID score for test cifar10 with ula_dcgan_cifar_recalc: mean 3.7883868920015447, std 2.3143506100038245\n",
      "time for MSID calculation on test = 979.989s\n",
      "start to calculate FID score for train cifar10...\n"
     ]
    },
    {
     "name": "stderr",
     "output_type": "stream",
     "text": [
      "\n",
      "500it [00:07, 66.25it/s]\n"
     ]
    },
    {
     "name": "stdout",
     "output_type": "stream",
     "text": [
      "shape of generated images = (50000, 3, 32, 32)\n",
      "shape of real images = (50000, 3, 32, 32)\n"
     ]
    },
    {
     "name": "stderr",
     "output_type": "stream",
     "text": [
      "100%|██████████| 1000/1000 [01:24<00:00, 11.85it/s]\n",
      "  0%|          | 2/1000 [00:00<01:26, 11.60it/s]"
     ]
    },
    {
     "name": "stdout",
     "output_type": "stream",
     "text": [
      "/home/daniil/gans-mcmc/saved_numpy_arrays/ula_dcgan_cifar_recalc_pretrained_fake_train_step_150.npy\n"
     ]
    },
    {
     "name": "stderr",
     "output_type": "stream",
     "text": [
      "100%|██████████| 1000/1000 [01:27<00:00, 11.47it/s]\n",
      "fid: 100%|██████████| 10/10 [01:17<00:00,  7.80s/it, mean=30] \n"
     ]
    },
    {
     "name": "stdout",
     "output_type": "stream",
     "text": [
      "FID score for train cifar10 with ula_dcgan_cifar_recalc: mean 29.99145377162962, std 0.1517853805306775\n",
      "time for FID calculation on train = 258.509s\n",
      "------------------------------------\n",
      "step = 200\n",
      "sample size = (50000, 100)\n",
      "sample size after deleteting nans = (50000, 100)\n",
      "start to calculate inception score...\n",
      "Start to make predictions\n",
      "Start to compute KL divergence\n",
      "ula_dcgan_cifar_recalc mean inception score = 6.2633233338957774, std inception score = 0.09139792264608024\n",
      "time for inception calculation = 304.07s\n",
      "start to calculate FID score for test cifar10...\n"
     ]
    },
    {
     "name": "stderr",
     "output_type": "stream",
     "text": [
      "100it [00:01, 61.74it/s]\n"
     ]
    },
    {
     "name": "stdout",
     "output_type": "stream",
     "text": [
      "shape of generated images = (10000, 3, 32, 32)\n",
      "shape of real images = (10000, 3, 32, 32)\n"
     ]
    },
    {
     "name": "stderr",
     "output_type": "stream",
     "text": [
      "100%|██████████| 200/200 [00:16<00:00, 11.85it/s]\n",
      "  1%|          | 2/200 [00:00<00:16, 11.81it/s]"
     ]
    },
    {
     "name": "stdout",
     "output_type": "stream",
     "text": [
      "/home/daniil/gans-mcmc/saved_numpy_arrays/ula_dcgan_cifar_recalc_pretrained_fake_test_step_200.npy\n"
     ]
    },
    {
     "name": "stderr",
     "output_type": "stream",
     "text": [
      "100%|██████████| 200/200 [00:17<00:00, 11.71it/s]\n",
      "fid: 100%|██████████| 10/10 [00:34<00:00,  3.46s/it, mean=31.9]\n"
     ]
    },
    {
     "name": "stdout",
     "output_type": "stream",
     "text": [
      "FID score for test cifar10 with ula_dcgan_cifar_recalc: mean 31.902881456846295, std 0.3899918564140042\n",
      "time for FID calculation on test = 70.704s\n",
      "start to calculate MSID score for test cifar10...\n"
     ]
    },
    {
     "name": "stderr",
     "output_type": "stream",
     "text": [
      "100%|██████████| 200/200 [00:17<00:00, 11.75it/s]\n",
      "  1%|          | 2/200 [00:00<00:16, 11.73it/s]"
     ]
    },
    {
     "name": "stdout",
     "output_type": "stream",
     "text": [
      "/home/daniil/gans-mcmc/saved_numpy_arrays/ula_dcgan_cifar_recalc_pretrained_fake_test_step_200.npy\n"
     ]
    },
    {
     "name": "stderr",
     "output_type": "stream",
     "text": [
      "100%|██████████| 200/200 [00:17<00:00, 11.63it/s]\n",
      "msid: 100%|██████████| 10/10 [15:37<00:00, 93.76s/it, mean=5.96]"
     ]
    },
    {
     "name": "stdout",
     "output_type": "stream",
     "text": [
      "MSID score for test cifar10 with ula_dcgan_cifar_recalc: mean 5.959501480581553, std 2.213061291522796\n",
      "time for MSID calculation on test = 972.109s\n",
      "start to calculate FID score for train cifar10...\n"
     ]
    },
    {
     "name": "stderr",
     "output_type": "stream",
     "text": [
      "\n",
      "500it [00:07, 65.60it/s]\n"
     ]
    },
    {
     "name": "stdout",
     "output_type": "stream",
     "text": [
      "shape of generated images = (50000, 3, 32, 32)\n",
      "shape of real images = (50000, 3, 32, 32)\n"
     ]
    },
    {
     "name": "stderr",
     "output_type": "stream",
     "text": [
      "100%|██████████| 1000/1000 [01:24<00:00, 11.85it/s]\n",
      "  0%|          | 2/1000 [00:00<01:25, 11.62it/s]"
     ]
    },
    {
     "name": "stdout",
     "output_type": "stream",
     "text": [
      "/home/daniil/gans-mcmc/saved_numpy_arrays/ula_dcgan_cifar_recalc_pretrained_fake_train_step_200.npy\n"
     ]
    },
    {
     "name": "stderr",
     "output_type": "stream",
     "text": [
      "100%|██████████| 1000/1000 [01:27<00:00, 11.46it/s]\n",
      "fid: 100%|██████████| 10/10 [01:16<00:00,  7.67s/it, mean=26.8]\n"
     ]
    },
    {
     "name": "stdout",
     "output_type": "stream",
     "text": [
      "FID score for train cifar10 with ula_dcgan_cifar_recalc: mean 26.83238766402878, std 0.17803870641673272\n",
      "time for FID calculation on train = 257.293s\n",
      "------------------------------------\n",
      "step = 250\n",
      "sample size = (50000, 100)\n",
      "sample size after deleteting nans = (50000, 100)\n",
      "start to calculate inception score...\n",
      "Start to make predictions\n",
      "Start to compute KL divergence\n",
      "ula_dcgan_cifar_recalc mean inception score = 6.331292226499873, std inception score = 0.036380795208234\n",
      "time for inception calculation = 304.98s\n",
      "start to calculate FID score for test cifar10...\n"
     ]
    },
    {
     "name": "stderr",
     "output_type": "stream",
     "text": [
      "100it [00:01, 61.54it/s]\n"
     ]
    },
    {
     "name": "stdout",
     "output_type": "stream",
     "text": [
      "shape of generated images = (10000, 3, 32, 32)\n",
      "shape of real images = (10000, 3, 32, 32)\n"
     ]
    },
    {
     "name": "stderr",
     "output_type": "stream",
     "text": [
      "100%|██████████| 200/200 [00:16<00:00, 11.86it/s]\n",
      "  1%|          | 2/200 [00:00<00:16, 11.78it/s]"
     ]
    },
    {
     "name": "stdout",
     "output_type": "stream",
     "text": [
      "/home/daniil/gans-mcmc/saved_numpy_arrays/ula_dcgan_cifar_recalc_pretrained_fake_test_step_250.npy\n"
     ]
    },
    {
     "name": "stderr",
     "output_type": "stream",
     "text": [
      "100%|██████████| 200/200 [00:17<00:00, 11.70it/s]\n",
      "fid: 100%|██████████| 10/10 [00:35<00:00,  3.53s/it, mean=30.4]\n"
     ]
    },
    {
     "name": "stdout",
     "output_type": "stream",
     "text": [
      "FID score for test cifar10 with ula_dcgan_cifar_recalc: mean 30.431144018796978, std 0.4471076476930395\n",
      "time for FID calculation on test = 71.374s\n",
      "start to calculate MSID score for test cifar10...\n"
     ]
    },
    {
     "name": "stderr",
     "output_type": "stream",
     "text": [
      "100%|██████████| 200/200 [00:16<00:00, 11.78it/s]\n",
      "  1%|          | 2/200 [00:00<00:16, 11.75it/s]"
     ]
    },
    {
     "name": "stdout",
     "output_type": "stream",
     "text": [
      "/home/daniil/gans-mcmc/saved_numpy_arrays/ula_dcgan_cifar_recalc_pretrained_fake_test_step_250.npy\n"
     ]
    },
    {
     "name": "stderr",
     "output_type": "stream",
     "text": [
      "100%|██████████| 200/200 [00:17<00:00, 11.64it/s]\n",
      "msid: 100%|██████████| 10/10 [15:52<00:00, 95.26s/it, mean=8.63]"
     ]
    },
    {
     "name": "stdout",
     "output_type": "stream",
     "text": [
      "MSID score for test cifar10 with ula_dcgan_cifar_recalc: mean 8.63268768630972, std 2.5464839083437196\n",
      "time for MSID calculation on test = 987.028s\n",
      "start to calculate FID score for train cifar10...\n"
     ]
    },
    {
     "name": "stderr",
     "output_type": "stream",
     "text": [
      "\n",
      "500it [00:07, 65.68it/s]\n"
     ]
    },
    {
     "name": "stdout",
     "output_type": "stream",
     "text": [
      "shape of generated images = (50000, 3, 32, 32)\n",
      "shape of real images = (50000, 3, 32, 32)\n"
     ]
    },
    {
     "name": "stderr",
     "output_type": "stream",
     "text": [
      "100%|██████████| 1000/1000 [01:24<00:00, 11.85it/s]\n",
      "  0%|          | 2/1000 [00:00<01:26, 11.60it/s]"
     ]
    },
    {
     "name": "stdout",
     "output_type": "stream",
     "text": [
      "/home/daniil/gans-mcmc/saved_numpy_arrays/ula_dcgan_cifar_recalc_pretrained_fake_train_step_250.npy\n"
     ]
    },
    {
     "name": "stderr",
     "output_type": "stream",
     "text": [
      "100%|██████████| 1000/1000 [01:27<00:00, 11.46it/s]\n",
      "fid: 100%|██████████| 10/10 [01:17<00:00,  7.74s/it, mean=25.4]\n"
     ]
    },
    {
     "name": "stdout",
     "output_type": "stream",
     "text": [
      "FID score for train cifar10 with ula_dcgan_cifar_recalc: mean 25.433018903943218, std 0.2094811558103951\n",
      "time for FID calculation on train = 258.167s\n",
      "------------------------------------\n",
      "step = 300\n",
      "sample size = (50000, 100)\n",
      "sample size after deleteting nans = (50000, 100)\n",
      "start to calculate inception score...\n",
      "Start to make predictions\n",
      "Start to compute KL divergence\n",
      "ula_dcgan_cifar_recalc mean inception score = 6.347283427206489, std inception score = 0.06738578788695203\n",
      "time for inception calculation = 304.134s\n",
      "start to calculate FID score for test cifar10...\n"
     ]
    },
    {
     "name": "stderr",
     "output_type": "stream",
     "text": [
      "100it [00:01, 61.75it/s]\n"
     ]
    },
    {
     "name": "stdout",
     "output_type": "stream",
     "text": [
      "shape of generated images = (10000, 3, 32, 32)\n",
      "shape of real images = (10000, 3, 32, 32)\n"
     ]
    },
    {
     "name": "stderr",
     "output_type": "stream",
     "text": [
      "100%|██████████| 200/200 [00:16<00:00, 11.85it/s]\n",
      "  1%|          | 2/200 [00:00<00:16, 11.81it/s]"
     ]
    },
    {
     "name": "stdout",
     "output_type": "stream",
     "text": [
      "/home/daniil/gans-mcmc/saved_numpy_arrays/ula_dcgan_cifar_recalc_pretrained_fake_test_step_300.npy\n"
     ]
    },
    {
     "name": "stderr",
     "output_type": "stream",
     "text": [
      "100%|██████████| 200/200 [00:17<00:00, 11.71it/s]\n",
      "fid: 100%|██████████| 10/10 [00:36<00:00,  3.61s/it, mean=30] \n"
     ]
    },
    {
     "name": "stdout",
     "output_type": "stream",
     "text": [
      "FID score for test cifar10 with ula_dcgan_cifar_recalc: mean 29.97871582978401, std 0.31547667938036766\n",
      "time for FID calculation on test = 72.286s\n",
      "start to calculate MSID score for test cifar10...\n"
     ]
    },
    {
     "name": "stderr",
     "output_type": "stream",
     "text": [
      "100%|██████████| 200/200 [00:17<00:00, 11.76it/s]\n",
      "  1%|          | 2/200 [00:00<00:16, 11.70it/s]"
     ]
    },
    {
     "name": "stdout",
     "output_type": "stream",
     "text": [
      "/home/daniil/gans-mcmc/saved_numpy_arrays/ula_dcgan_cifar_recalc_pretrained_fake_test_step_300.npy\n"
     ]
    },
    {
     "name": "stderr",
     "output_type": "stream",
     "text": [
      "100%|██████████| 200/200 [00:17<00:00, 11.64it/s]\n",
      "msid: 100%|██████████| 10/10 [15:50<00:00, 95.09s/it, mean=9.5]"
     ]
    },
    {
     "name": "stdout",
     "output_type": "stream",
     "text": [
      "MSID score for test cifar10 with ula_dcgan_cifar_recalc: mean 9.498234550174255, std 2.970730279479155\n",
      "time for MSID calculation on test = 985.389s\n",
      "start to calculate FID score for train cifar10...\n"
     ]
    },
    {
     "name": "stderr",
     "output_type": "stream",
     "text": [
      "\n",
      "500it [00:07, 66.69it/s]\n"
     ]
    },
    {
     "name": "stdout",
     "output_type": "stream",
     "text": [
      "shape of generated images = (50000, 3, 32, 32)\n",
      "shape of real images = (50000, 3, 32, 32)\n"
     ]
    },
    {
     "name": "stderr",
     "output_type": "stream",
     "text": [
      "100%|██████████| 1000/1000 [01:24<00:00, 11.86it/s]\n",
      "  0%|          | 2/1000 [00:00<01:25, 11.63it/s]"
     ]
    },
    {
     "name": "stdout",
     "output_type": "stream",
     "text": [
      "/home/daniil/gans-mcmc/saved_numpy_arrays/ula_dcgan_cifar_recalc_pretrained_fake_train_step_300.npy\n"
     ]
    },
    {
     "name": "stderr",
     "output_type": "stream",
     "text": [
      "100%|██████████| 1000/1000 [01:27<00:00, 11.47it/s]\n",
      "fid: 100%|██████████| 10/10 [01:16<00:00,  7.65s/it, mean=24.9]\n"
     ]
    },
    {
     "name": "stdout",
     "output_type": "stream",
     "text": [
      "FID score for train cifar10 with ula_dcgan_cifar_recalc: mean 24.85777145386432, std 0.22552444880044897\n",
      "time for FID calculation on train = 256.896s\n",
      "------------------------------------\n",
      "step = 350\n",
      "sample size = (50000, 100)\n",
      "sample size after deleteting nans = (50000, 100)\n",
      "start to calculate inception score...\n",
      "Start to make predictions\n",
      "Start to compute KL divergence\n",
      "ula_dcgan_cifar_recalc mean inception score = 6.44997478183939, std inception score = 0.06851357389343878\n",
      "time for inception calculation = 304.129s\n",
      "start to calculate FID score for test cifar10...\n"
     ]
    },
    {
     "name": "stderr",
     "output_type": "stream",
     "text": [
      "100it [00:01, 61.52it/s]\n"
     ]
    },
    {
     "name": "stdout",
     "output_type": "stream",
     "text": [
      "shape of generated images = (10000, 3, 32, 32)\n",
      "shape of real images = (10000, 3, 32, 32)\n"
     ]
    },
    {
     "name": "stderr",
     "output_type": "stream",
     "text": [
      "100%|██████████| 200/200 [00:16<00:00, 11.84it/s]\n",
      "  1%|          | 2/200 [00:00<00:16, 11.83it/s]"
     ]
    },
    {
     "name": "stdout",
     "output_type": "stream",
     "text": [
      "/home/daniil/gans-mcmc/saved_numpy_arrays/ula_dcgan_cifar_recalc_pretrained_fake_test_step_350.npy\n"
     ]
    },
    {
     "name": "stderr",
     "output_type": "stream",
     "text": [
      "100%|██████████| 200/200 [00:17<00:00, 11.70it/s]\n",
      "fid: 100%|██████████| 10/10 [00:35<00:00,  3.50s/it, mean=30] \n"
     ]
    },
    {
     "name": "stdout",
     "output_type": "stream",
     "text": [
      "FID score for test cifar10 with ula_dcgan_cifar_recalc: mean 29.960495453618826, std 0.463105238990995\n",
      "time for FID calculation on test = 71.199s\n",
      "start to calculate MSID score for test cifar10...\n"
     ]
    },
    {
     "name": "stderr",
     "output_type": "stream",
     "text": [
      "100%|██████████| 200/200 [00:17<00:00, 11.75it/s]\n",
      "  1%|          | 2/200 [00:00<00:16, 11.71it/s]"
     ]
    },
    {
     "name": "stdout",
     "output_type": "stream",
     "text": [
      "/home/daniil/gans-mcmc/saved_numpy_arrays/ula_dcgan_cifar_recalc_pretrained_fake_test_step_350.npy\n"
     ]
    },
    {
     "name": "stderr",
     "output_type": "stream",
     "text": [
      "100%|██████████| 200/200 [00:17<00:00, 11.64it/s]\n",
      "msid: 100%|██████████| 10/10 [15:40<00:00, 94.09s/it, mean=15.2]"
     ]
    },
    {
     "name": "stdout",
     "output_type": "stream",
     "text": [
      "MSID score for test cifar10 with ula_dcgan_cifar_recalc: mean 15.215766183930342, std 4.645299618209002\n",
      "time for MSID calculation on test = 975.389s\n",
      "start to calculate FID score for train cifar10...\n"
     ]
    },
    {
     "name": "stderr",
     "output_type": "stream",
     "text": [
      "\n",
      "500it [00:07, 66.36it/s]\n"
     ]
    },
    {
     "name": "stdout",
     "output_type": "stream",
     "text": [
      "shape of generated images = (50000, 3, 32, 32)\n",
      "shape of real images = (50000, 3, 32, 32)\n"
     ]
    },
    {
     "name": "stderr",
     "output_type": "stream",
     "text": [
      "100%|██████████| 1000/1000 [01:24<00:00, 11.85it/s]\n",
      "  0%|          | 2/1000 [00:00<01:25, 11.61it/s]"
     ]
    },
    {
     "name": "stdout",
     "output_type": "stream",
     "text": [
      "/home/daniil/gans-mcmc/saved_numpy_arrays/ula_dcgan_cifar_recalc_pretrained_fake_train_step_350.npy\n"
     ]
    },
    {
     "name": "stderr",
     "output_type": "stream",
     "text": [
      "100%|██████████| 1000/1000 [01:27<00:00, 11.46it/s]\n",
      "fid: 100%|██████████| 10/10 [01:18<00:00,  7.89s/it, mean=24.9]\n"
     ]
    },
    {
     "name": "stdout",
     "output_type": "stream",
     "text": [
      "FID score for train cifar10 with ula_dcgan_cifar_recalc: mean 24.914468345851844, std 0.16742129077942056\n",
      "time for FID calculation on train = 259.502s\n",
      "------------------------------------\n",
      "step = 400\n",
      "sample size = (50000, 100)\n",
      "sample size after deleteting nans = (50000, 100)\n",
      "start to calculate inception score...\n",
      "Start to make predictions\n",
      "Start to compute KL divergence\n",
      "ula_dcgan_cifar_recalc mean inception score = 6.4698335669473765, std inception score = 0.08193226240988241\n",
      "time for inception calculation = 304.327s\n",
      "start to calculate FID score for test cifar10...\n"
     ]
    },
    {
     "name": "stderr",
     "output_type": "stream",
     "text": [
      "100it [00:01, 61.29it/s]\n"
     ]
    },
    {
     "name": "stdout",
     "output_type": "stream",
     "text": [
      "shape of generated images = (10000, 3, 32, 32)\n",
      "shape of real images = (10000, 3, 32, 32)\n"
     ]
    },
    {
     "name": "stderr",
     "output_type": "stream",
     "text": [
      "100%|██████████| 200/200 [00:16<00:00, 11.86it/s]\n",
      "  1%|          | 2/200 [00:00<00:16, 11.81it/s]"
     ]
    },
    {
     "name": "stdout",
     "output_type": "stream",
     "text": [
      "/home/daniil/gans-mcmc/saved_numpy_arrays/ula_dcgan_cifar_recalc_pretrained_fake_test_step_400.npy\n"
     ]
    },
    {
     "name": "stderr",
     "output_type": "stream",
     "text": [
      "100%|██████████| 200/200 [00:17<00:00, 11.71it/s]\n",
      "fid: 100%|██████████| 10/10 [00:36<00:00,  3.60s/it, mean=31.2]\n"
     ]
    },
    {
     "name": "stdout",
     "output_type": "stream",
     "text": [
      "FID score for test cifar10 with ula_dcgan_cifar_recalc: mean 31.224292944213698, std 0.4088956387205892\n",
      "time for FID calculation on test = 72.112s\n",
      "start to calculate MSID score for test cifar10...\n"
     ]
    },
    {
     "name": "stderr",
     "output_type": "stream",
     "text": [
      "100%|██████████| 200/200 [00:17<00:00, 11.76it/s]\n",
      "  1%|          | 2/200 [00:00<00:16, 11.76it/s]"
     ]
    },
    {
     "name": "stdout",
     "output_type": "stream",
     "text": [
      "/home/daniil/gans-mcmc/saved_numpy_arrays/ula_dcgan_cifar_recalc_pretrained_fake_test_step_400.npy\n"
     ]
    },
    {
     "name": "stderr",
     "output_type": "stream",
     "text": [
      "100%|██████████| 200/200 [00:17<00:00, 11.64it/s]\n",
      "msid: 100%|██████████| 10/10 [15:41<00:00, 94.17s/it, mean=17] "
     ]
    },
    {
     "name": "stdout",
     "output_type": "stream",
     "text": [
      "MSID score for test cifar10 with ula_dcgan_cifar_recalc: mean 17.012122087349834, std 3.3736176432086915\n",
      "time for MSID calculation on test = 976.163s\n",
      "start to calculate FID score for train cifar10...\n"
     ]
    },
    {
     "name": "stderr",
     "output_type": "stream",
     "text": [
      "\n",
      "500it [00:07, 66.85it/s]\n"
     ]
    },
    {
     "name": "stdout",
     "output_type": "stream",
     "text": [
      "shape of generated images = (50000, 3, 32, 32)\n",
      "shape of real images = (50000, 3, 32, 32)\n"
     ]
    },
    {
     "name": "stderr",
     "output_type": "stream",
     "text": [
      "100%|██████████| 1000/1000 [01:24<00:00, 11.86it/s]\n",
      "  0%|          | 2/1000 [00:00<01:26, 11.59it/s]"
     ]
    },
    {
     "name": "stdout",
     "output_type": "stream",
     "text": [
      "/home/daniil/gans-mcmc/saved_numpy_arrays/ula_dcgan_cifar_recalc_pretrained_fake_train_step_400.npy\n"
     ]
    },
    {
     "name": "stderr",
     "output_type": "stream",
     "text": [
      "100%|██████████| 1000/1000 [01:27<00:00, 11.47it/s]\n",
      "fid: 100%|██████████| 10/10 [01:17<00:00,  7.73s/it, mean=25.5]\n"
     ]
    },
    {
     "name": "stdout",
     "output_type": "stream",
     "text": [
      "FID score for train cifar10 with ula_dcgan_cifar_recalc: mean 25.510140686451287, std 0.19986428848659019\n",
      "time for FID calculation on train = 257.695s\n",
      "------------------------------------\n",
      "step = 450\n",
      "sample size = (50000, 100)\n",
      "sample size after deleteting nans = (50000, 100)\n",
      "start to calculate inception score...\n",
      "Start to make predictions\n",
      "Start to compute KL divergence\n",
      "ula_dcgan_cifar_recalc mean inception score = 6.466275932313207, std inception score = 0.12731706491400027\n",
      "time for inception calculation = 303.84s\n",
      "start to calculate FID score for test cifar10...\n"
     ]
    },
    {
     "name": "stderr",
     "output_type": "stream",
     "text": [
      "100it [00:01, 61.79it/s]\n"
     ]
    },
    {
     "name": "stdout",
     "output_type": "stream",
     "text": [
      "shape of generated images = (10000, 3, 32, 32)\n",
      "shape of real images = (10000, 3, 32, 32)\n"
     ]
    },
    {
     "name": "stderr",
     "output_type": "stream",
     "text": [
      "100%|██████████| 200/200 [00:16<00:00, 11.84it/s]\n",
      "  1%|          | 2/200 [00:00<00:16, 11.79it/s]"
     ]
    },
    {
     "name": "stdout",
     "output_type": "stream",
     "text": [
      "/home/daniil/gans-mcmc/saved_numpy_arrays/ula_dcgan_cifar_recalc_pretrained_fake_test_step_450.npy\n"
     ]
    },
    {
     "name": "stderr",
     "output_type": "stream",
     "text": [
      "100%|██████████| 200/200 [00:17<00:00, 11.70it/s]\n",
      "fid: 100%|██████████| 10/10 [00:34<00:00,  3.47s/it, mean=31.7]\n"
     ]
    },
    {
     "name": "stdout",
     "output_type": "stream",
     "text": [
      "FID score for test cifar10 with ula_dcgan_cifar_recalc: mean 31.662073873916047, std 0.454382184530831\n",
      "time for FID calculation on test = 70.919s\n",
      "start to calculate MSID score for test cifar10...\n"
     ]
    },
    {
     "name": "stderr",
     "output_type": "stream",
     "text": [
      "100%|██████████| 200/200 [00:17<00:00, 11.76it/s]\n",
      "  1%|          | 2/200 [00:00<00:16, 11.73it/s]"
     ]
    },
    {
     "name": "stdout",
     "output_type": "stream",
     "text": [
      "/home/daniil/gans-mcmc/saved_numpy_arrays/ula_dcgan_cifar_recalc_pretrained_fake_test_step_450.npy\n"
     ]
    },
    {
     "name": "stderr",
     "output_type": "stream",
     "text": [
      "100%|██████████| 200/200 [00:17<00:00, 11.63it/s]\n",
      "msid: 100%|██████████| 10/10 [15:47<00:00, 94.71s/it, mean=20] "
     ]
    },
    {
     "name": "stdout",
     "output_type": "stream",
     "text": [
      "MSID score for test cifar10 with ula_dcgan_cifar_recalc: mean 20.027750574998418, std 4.029866216194208\n",
      "time for MSID calculation on test = 981.566s\n",
      "start to calculate FID score for train cifar10...\n"
     ]
    },
    {
     "name": "stderr",
     "output_type": "stream",
     "text": [
      "\n",
      "500it [00:07, 65.97it/s]\n"
     ]
    },
    {
     "name": "stdout",
     "output_type": "stream",
     "text": [
      "shape of generated images = (50000, 3, 32, 32)\n",
      "shape of real images = (50000, 3, 32, 32)\n"
     ]
    },
    {
     "name": "stderr",
     "output_type": "stream",
     "text": [
      "100%|██████████| 1000/1000 [01:24<00:00, 11.85it/s]\n",
      "  0%|          | 2/1000 [00:00<01:25, 11.63it/s]"
     ]
    },
    {
     "name": "stdout",
     "output_type": "stream",
     "text": [
      "/home/daniil/gans-mcmc/saved_numpy_arrays/ula_dcgan_cifar_recalc_pretrained_fake_train_step_450.npy\n"
     ]
    },
    {
     "name": "stderr",
     "output_type": "stream",
     "text": [
      "100%|██████████| 1000/1000 [01:27<00:00, 11.47it/s]\n",
      "fid: 100%|██████████| 10/10 [01:17<00:00,  7.71s/it, mean=26.4]\n"
     ]
    },
    {
     "name": "stdout",
     "output_type": "stream",
     "text": [
      "FID score for train cifar10 with ula_dcgan_cifar_recalc: mean 26.431382976445025, std 0.19882782219493308\n",
      "time for FID calculation on train = 257.681s\n",
      "------------------------------------\n",
      "step = 500\n",
      "sample size = (50000, 100)\n",
      "sample size after deleteting nans = (50000, 100)\n",
      "start to calculate inception score...\n",
      "Start to make predictions\n",
      "Start to compute KL divergence\n",
      "ula_dcgan_cifar_recalc mean inception score = 6.495176355521896, std inception score = 0.08449642478477982\n",
      "time for inception calculation = 303.676s\n",
      "start to calculate FID score for test cifar10...\n"
     ]
    },
    {
     "name": "stderr",
     "output_type": "stream",
     "text": [
      "100it [00:01, 61.75it/s]\n"
     ]
    },
    {
     "name": "stdout",
     "output_type": "stream",
     "text": [
      "shape of generated images = (10000, 3, 32, 32)\n",
      "shape of real images = (10000, 3, 32, 32)\n"
     ]
    },
    {
     "name": "stderr",
     "output_type": "stream",
     "text": [
      "100%|██████████| 200/200 [00:16<00:00, 11.86it/s]\n",
      "  1%|          | 2/200 [00:00<00:16, 11.81it/s]"
     ]
    },
    {
     "name": "stdout",
     "output_type": "stream",
     "text": [
      "/home/daniil/gans-mcmc/saved_numpy_arrays/ula_dcgan_cifar_recalc_pretrained_fake_test_step_500.npy\n"
     ]
    },
    {
     "name": "stderr",
     "output_type": "stream",
     "text": [
      "100%|██████████| 200/200 [00:17<00:00, 11.71it/s]\n",
      "fid: 100%|██████████| 10/10 [00:34<00:00,  3.43s/it, mean=33.1]\n"
     ]
    },
    {
     "name": "stdout",
     "output_type": "stream",
     "text": [
      "FID score for test cifar10 with ula_dcgan_cifar_recalc: mean 33.061712449341066, std 0.4102367233571234\n",
      "time for FID calculation on test = 70.438s\n",
      "start to calculate MSID score for test cifar10...\n"
     ]
    },
    {
     "name": "stderr",
     "output_type": "stream",
     "text": [
      "100%|██████████| 200/200 [00:16<00:00, 11.77it/s]\n",
      "  1%|          | 2/200 [00:00<00:16, 11.76it/s]"
     ]
    },
    {
     "name": "stdout",
     "output_type": "stream",
     "text": [
      "/home/daniil/gans-mcmc/saved_numpy_arrays/ula_dcgan_cifar_recalc_pretrained_fake_test_step_500.npy\n"
     ]
    },
    {
     "name": "stderr",
     "output_type": "stream",
     "text": [
      "100%|██████████| 200/200 [00:17<00:00, 11.64it/s]\n",
      "msid: 100%|██████████| 10/10 [15:48<00:00, 94.82s/it, mean=19.7]"
     ]
    },
    {
     "name": "stdout",
     "output_type": "stream",
     "text": [
      "MSID score for test cifar10 with ula_dcgan_cifar_recalc: mean 19.665842916033764, std 3.3393520044393736\n",
      "time for MSID calculation on test = 982.614s\n",
      "start to calculate FID score for train cifar10...\n"
     ]
    },
    {
     "name": "stderr",
     "output_type": "stream",
     "text": [
      "\n",
      "500it [00:07, 66.31it/s]\n"
     ]
    },
    {
     "name": "stdout",
     "output_type": "stream",
     "text": [
      "shape of generated images = (50000, 3, 32, 32)\n",
      "shape of real images = (50000, 3, 32, 32)\n"
     ]
    },
    {
     "name": "stderr",
     "output_type": "stream",
     "text": [
      "100%|██████████| 1000/1000 [01:24<00:00, 11.86it/s]\n",
      "  0%|          | 2/1000 [00:00<01:25, 11.61it/s]"
     ]
    },
    {
     "name": "stdout",
     "output_type": "stream",
     "text": [
      "/home/daniil/gans-mcmc/saved_numpy_arrays/ula_dcgan_cifar_recalc_pretrained_fake_train_step_500.npy\n"
     ]
    },
    {
     "name": "stderr",
     "output_type": "stream",
     "text": [
      "100%|██████████| 1000/1000 [01:27<00:00, 11.47it/s]\n",
      "fid: 100%|██████████| 10/10 [01:16<00:00,  7.64s/it, mean=27.7]\n"
     ]
    },
    {
     "name": "stdout",
     "output_type": "stream",
     "text": [
      "FID score for train cifar10 with ula_dcgan_cifar_recalc: mean 27.659984652359135, std 0.19608401190134273\n",
      "time for FID calculation on train = 256.814s\n",
      "------------------------------------\n",
      "step = 550\n",
      "sample size = (50000, 100)\n",
      "sample size after deleteting nans = (50000, 100)\n",
      "start to calculate inception score...\n",
      "Start to make predictions\n",
      "Start to compute KL divergence\n",
      "ula_dcgan_cifar_recalc mean inception score = 6.498044264768043, std inception score = 0.06955035695891389\n",
      "time for inception calculation = 303.734s\n",
      "start to calculate FID score for test cifar10...\n"
     ]
    },
    {
     "name": "stderr",
     "output_type": "stream",
     "text": [
      "100it [00:01, 61.93it/s]\n"
     ]
    },
    {
     "name": "stdout",
     "output_type": "stream",
     "text": [
      "shape of generated images = (10000, 3, 32, 32)\n",
      "shape of real images = (10000, 3, 32, 32)\n"
     ]
    },
    {
     "name": "stderr",
     "output_type": "stream",
     "text": [
      "100%|██████████| 200/200 [00:16<00:00, 11.85it/s]\n",
      "  1%|          | 2/200 [00:00<00:16, 11.79it/s]"
     ]
    },
    {
     "name": "stdout",
     "output_type": "stream",
     "text": [
      "/home/daniil/gans-mcmc/saved_numpy_arrays/ula_dcgan_cifar_recalc_pretrained_fake_test_step_550.npy\n"
     ]
    },
    {
     "name": "stderr",
     "output_type": "stream",
     "text": [
      "100%|██████████| 200/200 [00:17<00:00, 11.70it/s]\n",
      "fid: 100%|██████████| 10/10 [00:34<00:00,  3.43s/it, mean=34.2]\n"
     ]
    },
    {
     "name": "stdout",
     "output_type": "stream",
     "text": [
      "FID score for test cifar10 with ula_dcgan_cifar_recalc: mean 34.200920171451195, std 0.39106590559689425\n",
      "time for FID calculation on test = 70.43s\n",
      "start to calculate MSID score for test cifar10...\n"
     ]
    },
    {
     "name": "stderr",
     "output_type": "stream",
     "text": [
      "100%|██████████| 200/200 [00:17<00:00, 11.76it/s]\n",
      "  1%|          | 2/200 [00:00<00:16, 11.72it/s]"
     ]
    },
    {
     "name": "stdout",
     "output_type": "stream",
     "text": [
      "/home/daniil/gans-mcmc/saved_numpy_arrays/ula_dcgan_cifar_recalc_pretrained_fake_test_step_550.npy\n"
     ]
    },
    {
     "name": "stderr",
     "output_type": "stream",
     "text": [
      "100%|██████████| 200/200 [00:17<00:00, 11.64it/s]\n",
      "msid: 100%|██████████| 10/10 [15:46<00:00, 94.63s/it, mean=22.4]"
     ]
    },
    {
     "name": "stdout",
     "output_type": "stream",
     "text": [
      "MSID score for test cifar10 with ula_dcgan_cifar_recalc: mean 22.373090978967788, std 3.894914551923158\n",
      "time for MSID calculation on test = 980.697s\n",
      "start to calculate FID score for train cifar10...\n"
     ]
    },
    {
     "name": "stderr",
     "output_type": "stream",
     "text": [
      "\n",
      "500it [00:07, 66.29it/s]\n"
     ]
    },
    {
     "name": "stdout",
     "output_type": "stream",
     "text": [
      "shape of generated images = (50000, 3, 32, 32)\n",
      "shape of real images = (50000, 3, 32, 32)\n"
     ]
    },
    {
     "name": "stderr",
     "output_type": "stream",
     "text": [
      "100%|██████████| 1000/1000 [01:24<00:00, 11.85it/s]\n",
      "  0%|          | 2/1000 [00:00<01:25, 11.63it/s]"
     ]
    },
    {
     "name": "stdout",
     "output_type": "stream",
     "text": [
      "/home/daniil/gans-mcmc/saved_numpy_arrays/ula_dcgan_cifar_recalc_pretrained_fake_train_step_550.npy\n"
     ]
    },
    {
     "name": "stderr",
     "output_type": "stream",
     "text": [
      "100%|██████████| 1000/1000 [01:27<00:00, 11.46it/s]\n",
      "fid: 100%|██████████| 10/10 [01:17<00:00,  7.79s/it, mean=28.9]\n"
     ]
    },
    {
     "name": "stdout",
     "output_type": "stream",
     "text": [
      "FID score for train cifar10 with ula_dcgan_cifar_recalc: mean 28.877469206699942, std 0.1608907827615855\n",
      "time for FID calculation on train = 258.405s\n",
      "------------------------------------\n",
      "step = 600\n",
      "sample size = (50000, 100)\n",
      "sample size after deleteting nans = (50000, 100)\n",
      "start to calculate inception score...\n",
      "Start to make predictions\n",
      "Start to compute KL divergence\n",
      "ula_dcgan_cifar_recalc mean inception score = 6.500621370678412, std inception score = 0.051627487948405895\n",
      "time for inception calculation = 305.356s\n",
      "start to calculate FID score for test cifar10...\n"
     ]
    },
    {
     "name": "stderr",
     "output_type": "stream",
     "text": [
      "100it [00:01, 61.88it/s]\n"
     ]
    },
    {
     "name": "stdout",
     "output_type": "stream",
     "text": [
      "shape of generated images = (10000, 3, 32, 32)\n",
      "shape of real images = (10000, 3, 32, 32)\n"
     ]
    },
    {
     "name": "stderr",
     "output_type": "stream",
     "text": [
      "100%|██████████| 200/200 [00:16<00:00, 11.85it/s]\n",
      "  1%|          | 2/200 [00:00<00:16, 11.80it/s]"
     ]
    },
    {
     "name": "stdout",
     "output_type": "stream",
     "text": [
      "/home/daniil/gans-mcmc/saved_numpy_arrays/ula_dcgan_cifar_recalc_pretrained_fake_test_step_600.npy\n"
     ]
    },
    {
     "name": "stderr",
     "output_type": "stream",
     "text": [
      "100%|██████████| 200/200 [00:17<00:00, 11.71it/s]\n",
      "fid: 100%|██████████| 10/10 [00:34<00:00,  3.48s/it, mean=35.7]\n"
     ]
    },
    {
     "name": "stdout",
     "output_type": "stream",
     "text": [
      "FID score for test cifar10 with ula_dcgan_cifar_recalc: mean 35.711815675012225, std 0.4131252210113968\n",
      "time for FID calculation on test = 70.852s\n",
      "start to calculate MSID score for test cifar10...\n"
     ]
    },
    {
     "name": "stderr",
     "output_type": "stream",
     "text": [
      "100%|██████████| 200/200 [00:17<00:00, 11.76it/s]\n",
      "  1%|          | 2/200 [00:00<00:16, 11.76it/s]"
     ]
    },
    {
     "name": "stdout",
     "output_type": "stream",
     "text": [
      "/home/daniil/gans-mcmc/saved_numpy_arrays/ula_dcgan_cifar_recalc_pretrained_fake_test_step_600.npy\n"
     ]
    },
    {
     "name": "stderr",
     "output_type": "stream",
     "text": [
      "100%|██████████| 200/200 [00:17<00:00, 11.64it/s]\n",
      "msid: 100%|██████████| 10/10 [15:53<00:00, 95.39s/it, mean=22.6]"
     ]
    },
    {
     "name": "stdout",
     "output_type": "stream",
     "text": [
      "MSID score for test cifar10 with ula_dcgan_cifar_recalc: mean 22.612083129451104, std 3.791037764059435\n",
      "time for MSID calculation on test = 988.384s\n",
      "start to calculate FID score for train cifar10...\n"
     ]
    },
    {
     "name": "stderr",
     "output_type": "stream",
     "text": [
      "\n",
      "500it [00:07, 65.51it/s]\n"
     ]
    },
    {
     "name": "stdout",
     "output_type": "stream",
     "text": [
      "shape of generated images = (50000, 3, 32, 32)\n",
      "shape of real images = (50000, 3, 32, 32)\n"
     ]
    },
    {
     "name": "stderr",
     "output_type": "stream",
     "text": [
      "100%|██████████| 1000/1000 [01:24<00:00, 11.85it/s]\n",
      "  0%|          | 2/1000 [00:00<01:25, 11.64it/s]"
     ]
    },
    {
     "name": "stdout",
     "output_type": "stream",
     "text": [
      "/home/daniil/gans-mcmc/saved_numpy_arrays/ula_dcgan_cifar_recalc_pretrained_fake_train_step_600.npy\n"
     ]
    },
    {
     "name": "stderr",
     "output_type": "stream",
     "text": [
      "100%|██████████| 1000/1000 [01:27<00:00, 11.47it/s]\n",
      "fid: 100%|██████████| 10/10 [01:17<00:00,  7.78s/it, mean=30.4]\n"
     ]
    },
    {
     "name": "stdout",
     "output_type": "stream",
     "text": [
      "FID score for train cifar10 with ula_dcgan_cifar_recalc: mean 30.419643522761778, std 0.19806479892047169\n",
      "time for FID calculation on train = 258.537s\n",
      "------------------------------------\n",
      "step = 650\n",
      "sample size = (50000, 100)\n",
      "sample size after deleteting nans = (50000, 100)\n",
      "start to calculate inception score...\n",
      "Start to make predictions\n",
      "Start to compute KL divergence\n",
      "ula_dcgan_cifar_recalc mean inception score = 6.486892995703764, std inception score = 0.05048255478034792\n",
      "time for inception calculation = 305.147s\n",
      "start to calculate FID score for test cifar10...\n"
     ]
    },
    {
     "name": "stderr",
     "output_type": "stream",
     "text": [
      "100it [00:01, 62.22it/s]\n"
     ]
    },
    {
     "name": "stdout",
     "output_type": "stream",
     "text": [
      "shape of generated images = (10000, 3, 32, 32)\n",
      "shape of real images = (10000, 3, 32, 32)\n"
     ]
    },
    {
     "name": "stderr",
     "output_type": "stream",
     "text": [
      "100%|██████████| 200/200 [00:16<00:00, 11.87it/s]\n",
      "  1%|          | 2/200 [00:00<00:16, 11.81it/s]"
     ]
    },
    {
     "name": "stdout",
     "output_type": "stream",
     "text": [
      "/home/daniil/gans-mcmc/saved_numpy_arrays/ula_dcgan_cifar_recalc_pretrained_fake_test_step_650.npy\n"
     ]
    },
    {
     "name": "stderr",
     "output_type": "stream",
     "text": [
      "100%|██████████| 200/200 [00:17<00:00, 11.70it/s]\n",
      "fid: 100%|██████████| 10/10 [00:34<00:00,  3.46s/it, mean=37.3]\n"
     ]
    },
    {
     "name": "stdout",
     "output_type": "stream",
     "text": [
      "FID score for test cifar10 with ula_dcgan_cifar_recalc: mean 37.288465381369875, std 0.4401725154061759\n",
      "time for FID calculation on test = 70.646s\n",
      "start to calculate MSID score for test cifar10...\n"
     ]
    },
    {
     "name": "stderr",
     "output_type": "stream",
     "text": [
      "100%|██████████| 200/200 [00:16<00:00, 11.77it/s]\n",
      "  1%|          | 2/200 [00:00<00:16, 11.74it/s]"
     ]
    },
    {
     "name": "stdout",
     "output_type": "stream",
     "text": [
      "/home/daniil/gans-mcmc/saved_numpy_arrays/ula_dcgan_cifar_recalc_pretrained_fake_test_step_650.npy\n"
     ]
    },
    {
     "name": "stderr",
     "output_type": "stream",
     "text": [
      "100%|██████████| 200/200 [00:17<00:00, 11.64it/s]\n",
      "msid: 100%|██████████| 10/10 [15:41<00:00, 94.16s/it, mean=25] "
     ]
    },
    {
     "name": "stdout",
     "output_type": "stream",
     "text": [
      "MSID score for test cifar10 with ula_dcgan_cifar_recalc: mean 25.012807132852927, std 3.8597422285564567\n",
      "time for MSID calculation on test = 976.02s\n",
      "start to calculate FID score for train cifar10...\n"
     ]
    },
    {
     "name": "stderr",
     "output_type": "stream",
     "text": [
      "\n",
      "500it [00:07, 66.47it/s]\n"
     ]
    },
    {
     "name": "stdout",
     "output_type": "stream",
     "text": [
      "shape of generated images = (50000, 3, 32, 32)\n",
      "shape of real images = (50000, 3, 32, 32)\n"
     ]
    },
    {
     "name": "stderr",
     "output_type": "stream",
     "text": [
      "100%|██████████| 1000/1000 [01:24<00:00, 11.85it/s]\n",
      "  0%|          | 2/1000 [00:00<01:25, 11.61it/s]"
     ]
    },
    {
     "name": "stdout",
     "output_type": "stream",
     "text": [
      "/home/daniil/gans-mcmc/saved_numpy_arrays/ula_dcgan_cifar_recalc_pretrained_fake_train_step_650.npy\n"
     ]
    },
    {
     "name": "stderr",
     "output_type": "stream",
     "text": [
      "100%|██████████| 1000/1000 [01:27<00:00, 11.46it/s]\n",
      "fid: 100%|██████████| 10/10 [01:17<00:00,  7.79s/it, mean=31.9]\n"
     ]
    },
    {
     "name": "stdout",
     "output_type": "stream",
     "text": [
      "FID score for train cifar10 with ula_dcgan_cifar_recalc: mean 31.89948226894047, std 0.1971615980714933\n",
      "time for FID calculation on train = 258.451s\n",
      "------------------------------------\n",
      "step = 700\n",
      "sample size = (50000, 100)\n",
      "sample size after deleteting nans = (50000, 100)\n",
      "start to calculate inception score...\n",
      "Start to make predictions\n",
      "Start to compute KL divergence\n",
      "ula_dcgan_cifar_recalc mean inception score = 6.457678117288419, std inception score = 0.08984082165550648\n",
      "time for inception calculation = 304.373s\n",
      "start to calculate FID score for test cifar10...\n"
     ]
    },
    {
     "name": "stderr",
     "output_type": "stream",
     "text": [
      "100it [00:01, 61.84it/s]\n"
     ]
    },
    {
     "name": "stdout",
     "output_type": "stream",
     "text": [
      "shape of generated images = (10000, 3, 32, 32)\n",
      "shape of real images = (10000, 3, 32, 32)\n"
     ]
    },
    {
     "name": "stderr",
     "output_type": "stream",
     "text": [
      "100%|██████████| 200/200 [00:16<00:00, 11.86it/s]\n",
      "  1%|          | 2/200 [00:00<00:16, 11.82it/s]"
     ]
    },
    {
     "name": "stdout",
     "output_type": "stream",
     "text": [
      "/home/daniil/gans-mcmc/saved_numpy_arrays/ula_dcgan_cifar_recalc_pretrained_fake_test_step_700.npy\n"
     ]
    },
    {
     "name": "stderr",
     "output_type": "stream",
     "text": [
      "100%|██████████| 200/200 [00:17<00:00, 11.71it/s]\n",
      "fid: 100%|██████████| 10/10 [00:35<00:00,  3.51s/it, mean=38.8]\n"
     ]
    },
    {
     "name": "stdout",
     "output_type": "stream",
     "text": [
      "FID score for test cifar10 with ula_dcgan_cifar_recalc: mean 38.800588645838666, std 0.4613253062061852\n",
      "time for FID calculation on test = 71.156s\n",
      "start to calculate MSID score for test cifar10...\n"
     ]
    },
    {
     "name": "stderr",
     "output_type": "stream",
     "text": [
      "100%|██████████| 200/200 [00:16<00:00, 11.77it/s]\n",
      "  1%|          | 2/200 [00:00<00:16, 11.74it/s]"
     ]
    },
    {
     "name": "stdout",
     "output_type": "stream",
     "text": [
      "/home/daniil/gans-mcmc/saved_numpy_arrays/ula_dcgan_cifar_recalc_pretrained_fake_test_step_700.npy\n"
     ]
    },
    {
     "name": "stderr",
     "output_type": "stream",
     "text": [
      "100%|██████████| 200/200 [00:17<00:00, 11.65it/s]\n",
      "msid: 100%|██████████| 10/10 [15:40<00:00, 94.04s/it, mean=27.3]"
     ]
    },
    {
     "name": "stdout",
     "output_type": "stream",
     "text": [
      "MSID score for test cifar10 with ula_dcgan_cifar_recalc: mean 27.272398485558114, std 3.6187499548241604\n",
      "time for MSID calculation on test = 974.827s\n",
      "start to calculate FID score for train cifar10...\n"
     ]
    },
    {
     "name": "stderr",
     "output_type": "stream",
     "text": [
      "\n",
      "500it [00:07, 66.81it/s]\n"
     ]
    },
    {
     "name": "stdout",
     "output_type": "stream",
     "text": [
      "shape of generated images = (50000, 3, 32, 32)\n",
      "shape of real images = (50000, 3, 32, 32)\n"
     ]
    },
    {
     "name": "stderr",
     "output_type": "stream",
     "text": [
      "100%|██████████| 1000/1000 [01:24<00:00, 11.86it/s]\n",
      "  0%|          | 2/1000 [00:00<01:25, 11.62it/s]"
     ]
    },
    {
     "name": "stdout",
     "output_type": "stream",
     "text": [
      "/home/daniil/gans-mcmc/saved_numpy_arrays/ula_dcgan_cifar_recalc_pretrained_fake_train_step_700.npy\n"
     ]
    },
    {
     "name": "stderr",
     "output_type": "stream",
     "text": [
      "100%|██████████| 1000/1000 [01:27<00:00, 11.47it/s]\n",
      "fid: 100%|██████████| 10/10 [01:16<00:00,  7.69s/it, mean=33.4]\n"
     ]
    },
    {
     "name": "stdout",
     "output_type": "stream",
     "text": [
      "FID score for train cifar10 with ula_dcgan_cifar_recalc: mean 33.36489926822574, std 0.17161143008902194\n",
      "time for FID calculation on train = 256.897s\n",
      "------------------------------------\n",
      "step = 750\n",
      "sample size = (50000, 100)\n",
      "sample size after deleteting nans = (50000, 100)\n",
      "start to calculate inception score...\n",
      "Start to make predictions\n",
      "Start to compute KL divergence\n",
      "ula_dcgan_cifar_recalc mean inception score = 6.48513536397307, std inception score = 0.06764603182111767\n",
      "time for inception calculation = 304.316s\n",
      "start to calculate FID score for test cifar10...\n"
     ]
    },
    {
     "name": "stderr",
     "output_type": "stream",
     "text": [
      "100it [00:01, 61.64it/s]\n"
     ]
    },
    {
     "name": "stdout",
     "output_type": "stream",
     "text": [
      "shape of generated images = (10000, 3, 32, 32)\n",
      "shape of real images = (10000, 3, 32, 32)\n"
     ]
    },
    {
     "name": "stderr",
     "output_type": "stream",
     "text": [
      "100%|██████████| 200/200 [00:16<00:00, 11.84it/s]\n",
      "  1%|          | 2/200 [00:00<00:16, 11.83it/s]"
     ]
    },
    {
     "name": "stdout",
     "output_type": "stream",
     "text": [
      "/home/daniil/gans-mcmc/saved_numpy_arrays/ula_dcgan_cifar_recalc_pretrained_fake_test_step_750.npy\n"
     ]
    },
    {
     "name": "stderr",
     "output_type": "stream",
     "text": [
      "100%|██████████| 200/200 [00:17<00:00, 11.71it/s]\n",
      "fid: 100%|██████████| 10/10 [00:34<00:00,  3.47s/it, mean=39.9]\n"
     ]
    },
    {
     "name": "stdout",
     "output_type": "stream",
     "text": [
      "FID score for test cifar10 with ula_dcgan_cifar_recalc: mean 39.917532161935966, std 0.4751194388527183\n",
      "time for FID calculation on test = 70.784s\n",
      "start to calculate MSID score for test cifar10...\n"
     ]
    },
    {
     "name": "stderr",
     "output_type": "stream",
     "text": [
      "100%|██████████| 200/200 [00:16<00:00, 11.77it/s]\n",
      "  1%|          | 2/200 [00:00<00:16, 11.75it/s]"
     ]
    },
    {
     "name": "stdout",
     "output_type": "stream",
     "text": [
      "/home/daniil/gans-mcmc/saved_numpy_arrays/ula_dcgan_cifar_recalc_pretrained_fake_test_step_750.npy\n"
     ]
    },
    {
     "name": "stderr",
     "output_type": "stream",
     "text": [
      "100%|██████████| 200/200 [00:17<00:00, 11.64it/s]\n",
      "msid: 100%|██████████| 10/10 [15:45<00:00, 94.51s/it, mean=26.8]"
     ]
    },
    {
     "name": "stdout",
     "output_type": "stream",
     "text": [
      "MSID score for test cifar10 with ula_dcgan_cifar_recalc: mean 26.795166165527103, std 4.318368974768922\n",
      "time for MSID calculation on test = 979.58s\n",
      "start to calculate FID score for train cifar10...\n"
     ]
    },
    {
     "name": "stderr",
     "output_type": "stream",
     "text": [
      "\n",
      "500it [00:07, 65.97it/s]\n"
     ]
    },
    {
     "name": "stdout",
     "output_type": "stream",
     "text": [
      "shape of generated images = (50000, 3, 32, 32)\n",
      "shape of real images = (50000, 3, 32, 32)\n"
     ]
    },
    {
     "name": "stderr",
     "output_type": "stream",
     "text": [
      "100%|██████████| 1000/1000 [01:24<00:00, 11.85it/s]\n",
      "  0%|          | 2/1000 [00:00<01:26, 11.60it/s]"
     ]
    },
    {
     "name": "stdout",
     "output_type": "stream",
     "text": [
      "/home/daniil/gans-mcmc/saved_numpy_arrays/ula_dcgan_cifar_recalc_pretrained_fake_train_step_750.npy\n"
     ]
    },
    {
     "name": "stderr",
     "output_type": "stream",
     "text": [
      "100%|██████████| 1000/1000 [01:27<00:00, 11.46it/s]\n",
      "fid: 100%|██████████| 10/10 [01:16<00:00,  7.69s/it, mean=34.7]\n"
     ]
    },
    {
     "name": "stdout",
     "output_type": "stream",
     "text": [
      "FID score for train cifar10 with ula_dcgan_cifar_recalc: mean 34.72285885383768, std 0.21229463624082145\n",
      "time for FID calculation on train = 257.124s\n",
      "------------------------------------\n",
      "step = 800\n",
      "sample size = (50000, 100)\n",
      "sample size after deleteting nans = (50000, 100)\n",
      "start to calculate inception score...\n",
      "Start to make predictions\n",
      "Start to compute KL divergence\n",
      "ula_dcgan_cifar_recalc mean inception score = 6.396643691047908, std inception score = 0.06941957643294003\n",
      "time for inception calculation = 304.071s\n",
      "start to calculate FID score for test cifar10...\n"
     ]
    },
    {
     "name": "stderr",
     "output_type": "stream",
     "text": [
      "100it [00:01, 62.20it/s]\n"
     ]
    },
    {
     "name": "stdout",
     "output_type": "stream",
     "text": [
      "shape of generated images = (10000, 3, 32, 32)\n",
      "shape of real images = (10000, 3, 32, 32)\n"
     ]
    },
    {
     "name": "stderr",
     "output_type": "stream",
     "text": [
      "100%|██████████| 200/200 [00:16<00:00, 11.86it/s]\n",
      "  1%|          | 2/200 [00:00<00:16, 11.80it/s]"
     ]
    },
    {
     "name": "stdout",
     "output_type": "stream",
     "text": [
      "/home/daniil/gans-mcmc/saved_numpy_arrays/ula_dcgan_cifar_recalc_pretrained_fake_test_step_800.npy\n"
     ]
    },
    {
     "name": "stderr",
     "output_type": "stream",
     "text": [
      "100%|██████████| 200/200 [00:17<00:00, 11.71it/s]\n",
      "fid: 100%|██████████| 10/10 [00:34<00:00,  3.47s/it, mean=41.2]\n"
     ]
    },
    {
     "name": "stdout",
     "output_type": "stream",
     "text": [
      "FID score for test cifar10 with ula_dcgan_cifar_recalc: mean 41.19187441077898, std 0.47649868780021254\n",
      "time for FID calculation on test = 70.669s\n",
      "start to calculate MSID score for test cifar10...\n"
     ]
    },
    {
     "name": "stderr",
     "output_type": "stream",
     "text": [
      "100%|██████████| 200/200 [00:17<00:00, 11.76it/s]\n",
      "  1%|          | 2/200 [00:00<00:16, 11.75it/s]"
     ]
    },
    {
     "name": "stdout",
     "output_type": "stream",
     "text": [
      "/home/daniil/gans-mcmc/saved_numpy_arrays/ula_dcgan_cifar_recalc_pretrained_fake_test_step_800.npy\n"
     ]
    },
    {
     "name": "stderr",
     "output_type": "stream",
     "text": [
      "100%|██████████| 200/200 [00:17<00:00, 11.64it/s]\n",
      "msid: 100%|██████████| 10/10 [15:36<00:00, 93.65s/it, mean=29.2]"
     ]
    },
    {
     "name": "stdout",
     "output_type": "stream",
     "text": [
      "MSID score for test cifar10 with ula_dcgan_cifar_recalc: mean 29.15323860779592, std 4.6932799324460905\n",
      "time for MSID calculation on test = 970.928s\n",
      "start to calculate FID score for train cifar10...\n"
     ]
    },
    {
     "name": "stderr",
     "output_type": "stream",
     "text": [
      "\n",
      "500it [00:07, 66.02it/s]\n"
     ]
    },
    {
     "name": "stdout",
     "output_type": "stream",
     "text": [
      "shape of generated images = (50000, 3, 32, 32)\n",
      "shape of real images = (50000, 3, 32, 32)\n"
     ]
    },
    {
     "name": "stderr",
     "output_type": "stream",
     "text": [
      "100%|██████████| 1000/1000 [01:24<00:00, 11.86it/s]\n",
      "  0%|          | 2/1000 [00:00<01:25, 11.62it/s]"
     ]
    },
    {
     "name": "stdout",
     "output_type": "stream",
     "text": [
      "/home/daniil/gans-mcmc/saved_numpy_arrays/ula_dcgan_cifar_recalc_pretrained_fake_train_step_800.npy\n"
     ]
    },
    {
     "name": "stderr",
     "output_type": "stream",
     "text": [
      "100%|██████████| 1000/1000 [01:27<00:00, 11.46it/s]\n",
      "fid: 100%|██████████| 10/10 [01:17<00:00,  7.70s/it, mean=36.2]\n"
     ]
    },
    {
     "name": "stdout",
     "output_type": "stream",
     "text": [
      "FID score for train cifar10 with ula_dcgan_cifar_recalc: mean 36.21797334953617, std 0.24326892618416246\n",
      "time for FID calculation on train = 257.218s\n",
      "------------------------------------\n",
      "step = 850\n",
      "sample size = (50000, 100)\n",
      "sample size after deleteting nans = (50000, 100)\n",
      "start to calculate inception score...\n",
      "Start to make predictions\n",
      "Start to compute KL divergence\n",
      "ula_dcgan_cifar_recalc mean inception score = 6.41637199741866, std inception score = 0.08379180215572252\n",
      "time for inception calculation = 304.882s\n",
      "start to calculate FID score for test cifar10...\n"
     ]
    },
    {
     "name": "stderr",
     "output_type": "stream",
     "text": [
      "100it [00:01, 61.19it/s]\n"
     ]
    },
    {
     "name": "stdout",
     "output_type": "stream",
     "text": [
      "shape of generated images = (10000, 3, 32, 32)\n",
      "shape of real images = (10000, 3, 32, 32)\n"
     ]
    },
    {
     "name": "stderr",
     "output_type": "stream",
     "text": [
      "100%|██████████| 200/200 [00:16<00:00, 11.85it/s]\n",
      "  1%|          | 2/200 [00:00<00:16, 11.78it/s]"
     ]
    },
    {
     "name": "stdout",
     "output_type": "stream",
     "text": [
      "/home/daniil/gans-mcmc/saved_numpy_arrays/ula_dcgan_cifar_recalc_pretrained_fake_test_step_850.npy\n"
     ]
    },
    {
     "name": "stderr",
     "output_type": "stream",
     "text": [
      "100%|██████████| 200/200 [00:17<00:00, 11.71it/s]\n",
      "fid: 100%|██████████| 10/10 [00:34<00:00,  3.42s/it, mean=42.8]\n"
     ]
    },
    {
     "name": "stdout",
     "output_type": "stream",
     "text": [
      "FID score for test cifar10 with ula_dcgan_cifar_recalc: mean 42.76864996254157, std 0.46514132912533707\n",
      "time for FID calculation on test = 70.261s\n",
      "start to calculate MSID score for test cifar10...\n"
     ]
    },
    {
     "name": "stderr",
     "output_type": "stream",
     "text": [
      "100%|██████████| 200/200 [00:17<00:00, 11.76it/s]\n",
      "  1%|          | 2/200 [00:00<00:16, 11.70it/s]"
     ]
    },
    {
     "name": "stdout",
     "output_type": "stream",
     "text": [
      "/home/daniil/gans-mcmc/saved_numpy_arrays/ula_dcgan_cifar_recalc_pretrained_fake_test_step_850.npy\n"
     ]
    },
    {
     "name": "stderr",
     "output_type": "stream",
     "text": [
      "100%|██████████| 200/200 [00:17<00:00, 11.63it/s]\n",
      "msid: 100%|██████████| 10/10 [15:29<00:00, 92.93s/it, mean=30.7]"
     ]
    },
    {
     "name": "stdout",
     "output_type": "stream",
     "text": [
      "MSID score for test cifar10 with ula_dcgan_cifar_recalc: mean 30.68030807612785, std 2.1037515328224288\n",
      "time for MSID calculation on test = 963.812s\n",
      "start to calculate FID score for train cifar10...\n"
     ]
    },
    {
     "name": "stderr",
     "output_type": "stream",
     "text": [
      "\n",
      "500it [00:07, 65.49it/s]\n"
     ]
    },
    {
     "name": "stdout",
     "output_type": "stream",
     "text": [
      "shape of generated images = (50000, 3, 32, 32)\n",
      "shape of real images = (50000, 3, 32, 32)\n"
     ]
    },
    {
     "name": "stderr",
     "output_type": "stream",
     "text": [
      "100%|██████████| 1000/1000 [01:24<00:00, 11.85it/s]\n",
      "  0%|          | 2/1000 [00:00<01:25, 11.62it/s]"
     ]
    },
    {
     "name": "stdout",
     "output_type": "stream",
     "text": [
      "/home/daniil/gans-mcmc/saved_numpy_arrays/ula_dcgan_cifar_recalc_pretrained_fake_train_step_850.npy\n"
     ]
    },
    {
     "name": "stderr",
     "output_type": "stream",
     "text": [
      "100%|██████████| 1000/1000 [01:27<00:00, 11.46it/s]\n",
      "fid: 100%|██████████| 10/10 [01:18<00:00,  7.84s/it, mean=37.6]\n"
     ]
    },
    {
     "name": "stdout",
     "output_type": "stream",
     "text": [
      "FID score for train cifar10 with ula_dcgan_cifar_recalc: mean 37.62613860022287, std 0.23913440971734717\n",
      "time for FID calculation on train = 258.688s\n",
      "------------------------------------\n",
      "step = 900\n",
      "sample size = (50000, 100)\n",
      "sample size after deleteting nans = (50000, 100)\n",
      "start to calculate inception score...\n",
      "Start to make predictions\n",
      "Start to compute KL divergence\n",
      "ula_dcgan_cifar_recalc mean inception score = 6.365678907422658, std inception score = 0.07713407783960764\n",
      "time for inception calculation = 304.856s\n",
      "start to calculate FID score for test cifar10...\n"
     ]
    },
    {
     "name": "stderr",
     "output_type": "stream",
     "text": [
      "100it [00:01, 60.69it/s]\n"
     ]
    },
    {
     "name": "stdout",
     "output_type": "stream",
     "text": [
      "shape of generated images = (10000, 3, 32, 32)\n",
      "shape of real images = (10000, 3, 32, 32)\n"
     ]
    },
    {
     "name": "stderr",
     "output_type": "stream",
     "text": [
      "100%|██████████| 200/200 [00:16<00:00, 11.84it/s]\n",
      "  1%|          | 2/200 [00:00<00:16, 11.80it/s]"
     ]
    },
    {
     "name": "stdout",
     "output_type": "stream",
     "text": [
      "/home/daniil/gans-mcmc/saved_numpy_arrays/ula_dcgan_cifar_recalc_pretrained_fake_test_step_900.npy\n"
     ]
    },
    {
     "name": "stderr",
     "output_type": "stream",
     "text": [
      "100%|██████████| 200/200 [00:17<00:00, 11.70it/s]\n",
      "fid: 100%|██████████| 10/10 [00:35<00:00,  3.52s/it, mean=44] \n"
     ]
    },
    {
     "name": "stdout",
     "output_type": "stream",
     "text": [
      "FID score for test cifar10 with ula_dcgan_cifar_recalc: mean 43.993551080443495, std 0.4869870263364509\n",
      "time for FID calculation on test = 71.307s\n",
      "start to calculate MSID score for test cifar10...\n"
     ]
    },
    {
     "name": "stderr",
     "output_type": "stream",
     "text": [
      "100%|██████████| 200/200 [00:17<00:00, 11.76it/s]\n",
      "  1%|          | 2/200 [00:00<00:16, 11.73it/s]"
     ]
    },
    {
     "name": "stdout",
     "output_type": "stream",
     "text": [
      "/home/daniil/gans-mcmc/saved_numpy_arrays/ula_dcgan_cifar_recalc_pretrained_fake_test_step_900.npy\n"
     ]
    },
    {
     "name": "stderr",
     "output_type": "stream",
     "text": [
      "100%|██████████| 200/200 [00:17<00:00, 11.63it/s]\n",
      "msid: 100%|██████████| 10/10 [15:40<00:00, 94.08s/it, mean=34.3]"
     ]
    },
    {
     "name": "stdout",
     "output_type": "stream",
     "text": [
      "MSID score for test cifar10 with ula_dcgan_cifar_recalc: mean 34.30467655706057, std 3.1550442235375313\n",
      "time for MSID calculation on test = 975.279s\n",
      "start to calculate FID score for train cifar10...\n"
     ]
    },
    {
     "name": "stderr",
     "output_type": "stream",
     "text": [
      "\n",
      "500it [00:07, 66.88it/s]\n"
     ]
    },
    {
     "name": "stdout",
     "output_type": "stream",
     "text": [
      "shape of generated images = (50000, 3, 32, 32)\n",
      "shape of real images = (50000, 3, 32, 32)\n"
     ]
    },
    {
     "name": "stderr",
     "output_type": "stream",
     "text": [
      "100%|██████████| 1000/1000 [01:24<00:00, 11.85it/s]\n",
      "  0%|          | 2/1000 [00:00<01:25, 11.64it/s]"
     ]
    },
    {
     "name": "stdout",
     "output_type": "stream",
     "text": [
      "/home/daniil/gans-mcmc/saved_numpy_arrays/ula_dcgan_cifar_recalc_pretrained_fake_train_step_900.npy\n"
     ]
    },
    {
     "name": "stderr",
     "output_type": "stream",
     "text": [
      "100%|██████████| 1000/1000 [01:27<00:00, 11.46it/s]\n",
      "fid: 100%|██████████| 10/10 [01:18<00:00,  7.83s/it, mean=38.9]\n"
     ]
    },
    {
     "name": "stdout",
     "output_type": "stream",
     "text": [
      "FID score for train cifar10 with ula_dcgan_cifar_recalc: mean 38.9148296011286, std 0.22333403209308855\n",
      "time for FID calculation on train = 258.413s\n",
      "------------------------------------\n",
      "step = 950\n",
      "sample size = (50000, 100)\n",
      "sample size after deleteting nans = (50000, 100)\n",
      "start to calculate inception score...\n",
      "Start to make predictions\n",
      "Start to compute KL divergence\n",
      "ula_dcgan_cifar_recalc mean inception score = 6.3500999218541505, std inception score = 0.0882351893011962\n",
      "time for inception calculation = 303.794s\n",
      "start to calculate FID score for test cifar10...\n"
     ]
    },
    {
     "name": "stderr",
     "output_type": "stream",
     "text": [
      "100it [00:01, 61.56it/s]\n"
     ]
    },
    {
     "name": "stdout",
     "output_type": "stream",
     "text": [
      "shape of generated images = (10000, 3, 32, 32)\n",
      "shape of real images = (10000, 3, 32, 32)\n"
     ]
    },
    {
     "name": "stderr",
     "output_type": "stream",
     "text": [
      "100%|██████████| 200/200 [00:16<00:00, 11.86it/s]\n",
      "  1%|          | 2/200 [00:00<00:16, 11.84it/s]"
     ]
    },
    {
     "name": "stdout",
     "output_type": "stream",
     "text": [
      "/home/daniil/gans-mcmc/saved_numpy_arrays/ula_dcgan_cifar_recalc_pretrained_fake_test_step_950.npy\n"
     ]
    },
    {
     "name": "stderr",
     "output_type": "stream",
     "text": [
      "100%|██████████| 200/200 [00:17<00:00, 11.71it/s]\n",
      "fid: 100%|██████████| 10/10 [00:35<00:00,  3.53s/it, mean=45.5]\n"
     ]
    },
    {
     "name": "stdout",
     "output_type": "stream",
     "text": [
      "FID score for test cifar10 with ula_dcgan_cifar_recalc: mean 45.457512294041834, std 0.5520778889099536\n",
      "time for FID calculation on test = 71.296s\n",
      "start to calculate MSID score for test cifar10...\n"
     ]
    },
    {
     "name": "stderr",
     "output_type": "stream",
     "text": [
      "100%|██████████| 200/200 [00:17<00:00, 11.76it/s]\n",
      "  1%|          | 2/200 [00:00<00:16, 11.72it/s]"
     ]
    },
    {
     "name": "stdout",
     "output_type": "stream",
     "text": [
      "/home/daniil/gans-mcmc/saved_numpy_arrays/ula_dcgan_cifar_recalc_pretrained_fake_test_step_950.npy\n"
     ]
    },
    {
     "name": "stderr",
     "output_type": "stream",
     "text": [
      "100%|██████████| 200/200 [00:17<00:00, 11.64it/s]\n",
      "msid: 100%|██████████| 10/10 [15:38<00:00, 93.85s/it, mean=34.7]"
     ]
    },
    {
     "name": "stdout",
     "output_type": "stream",
     "text": [
      "MSID score for test cifar10 with ula_dcgan_cifar_recalc: mean 34.66207837906589, std 3.9439444519005336\n",
      "time for MSID calculation on test = 973.006s\n",
      "start to calculate FID score for train cifar10...\n"
     ]
    },
    {
     "name": "stderr",
     "output_type": "stream",
     "text": [
      "\n",
      "500it [00:07, 66.24it/s]\n"
     ]
    },
    {
     "name": "stdout",
     "output_type": "stream",
     "text": [
      "shape of generated images = (50000, 3, 32, 32)\n",
      "shape of real images = (50000, 3, 32, 32)\n"
     ]
    },
    {
     "name": "stderr",
     "output_type": "stream",
     "text": [
      "100%|██████████| 1000/1000 [01:24<00:00, 11.86it/s]\n",
      "  0%|          | 2/1000 [00:00<01:25, 11.61it/s]"
     ]
    },
    {
     "name": "stdout",
     "output_type": "stream",
     "text": [
      "/home/daniil/gans-mcmc/saved_numpy_arrays/ula_dcgan_cifar_recalc_pretrained_fake_train_step_950.npy\n"
     ]
    },
    {
     "name": "stderr",
     "output_type": "stream",
     "text": [
      "100%|██████████| 1000/1000 [01:27<00:00, 11.47it/s]\n",
      "fid: 100%|██████████| 10/10 [01:17<00:00,  7.76s/it, mean=40.3]\n"
     ]
    },
    {
     "name": "stdout",
     "output_type": "stream",
     "text": [
      "FID score for train cifar10 with ula_dcgan_cifar_recalc: mean 40.345189899340525, std 0.2150075371885218\n",
      "time for FID calculation on train = 257.691s\n",
      "------------------------------------\n",
      "step = 1000\n",
      "sample size = (50000, 100)\n",
      "sample size after deleteting nans = (50000, 100)\n",
      "start to calculate inception score...\n",
      "Start to make predictions\n",
      "Start to compute KL divergence\n",
      "ula_dcgan_cifar_recalc mean inception score = 6.309950702577298, std inception score = 0.0678395648629578\n",
      "time for inception calculation = 304.56s\n",
      "start to calculate FID score for test cifar10...\n"
     ]
    },
    {
     "name": "stderr",
     "output_type": "stream",
     "text": [
      "100it [00:01, 61.95it/s]\n"
     ]
    },
    {
     "name": "stdout",
     "output_type": "stream",
     "text": [
      "shape of generated images = (10000, 3, 32, 32)\n",
      "shape of real images = (10000, 3, 32, 32)\n"
     ]
    },
    {
     "name": "stderr",
     "output_type": "stream",
     "text": [
      "100%|██████████| 200/200 [00:16<00:00, 11.85it/s]\n",
      "  1%|          | 2/200 [00:00<00:16, 11.82it/s]"
     ]
    },
    {
     "name": "stdout",
     "output_type": "stream",
     "text": [
      "/home/daniil/gans-mcmc/saved_numpy_arrays/ula_dcgan_cifar_recalc_pretrained_fake_test_step_1000.npy\n"
     ]
    },
    {
     "name": "stderr",
     "output_type": "stream",
     "text": [
      "100%|██████████| 200/200 [00:17<00:00, 11.70it/s]\n",
      "fid: 100%|██████████| 10/10 [00:34<00:00,  3.47s/it, mean=46.9]\n"
     ]
    },
    {
     "name": "stdout",
     "output_type": "stream",
     "text": [
      "FID score for test cifar10 with ula_dcgan_cifar_recalc: mean 46.88468199990074, std 0.5916503954029333\n",
      "time for FID calculation on test = 70.742s\n",
      "start to calculate MSID score for test cifar10...\n"
     ]
    },
    {
     "name": "stderr",
     "output_type": "stream",
     "text": [
      "100%|██████████| 200/200 [00:17<00:00, 11.76it/s]\n",
      "  1%|          | 2/200 [00:00<00:16, 11.73it/s]"
     ]
    },
    {
     "name": "stdout",
     "output_type": "stream",
     "text": [
      "/home/daniil/gans-mcmc/saved_numpy_arrays/ula_dcgan_cifar_recalc_pretrained_fake_test_step_1000.npy\n"
     ]
    },
    {
     "name": "stderr",
     "output_type": "stream",
     "text": [
      "100%|██████████| 200/200 [00:17<00:00, 11.64it/s]\n",
      "msid: 100%|██████████| 10/10 [15:34<00:00, 93.43s/it, mean=32.8]"
     ]
    },
    {
     "name": "stdout",
     "output_type": "stream",
     "text": [
      "MSID score for test cifar10 with ula_dcgan_cifar_recalc: mean 32.77813816852781, std 3.597261342878676\n",
      "time for MSID calculation on test = 968.726s\n",
      "start to calculate FID score for train cifar10...\n"
     ]
    },
    {
     "name": "stderr",
     "output_type": "stream",
     "text": [
      "\n",
      "500it [00:07, 65.46it/s]\n"
     ]
    },
    {
     "name": "stdout",
     "output_type": "stream",
     "text": [
      "shape of generated images = (50000, 3, 32, 32)\n",
      "shape of real images = (50000, 3, 32, 32)\n"
     ]
    },
    {
     "name": "stderr",
     "output_type": "stream",
     "text": [
      "100%|██████████| 1000/1000 [01:24<00:00, 11.85it/s]\n",
      "  0%|          | 2/1000 [00:00<01:26, 11.59it/s]"
     ]
    },
    {
     "name": "stdout",
     "output_type": "stream",
     "text": [
      "/home/daniil/gans-mcmc/saved_numpy_arrays/ula_dcgan_cifar_recalc_pretrained_fake_train_step_1000.npy\n"
     ]
    },
    {
     "name": "stderr",
     "output_type": "stream",
     "text": [
      "100%|██████████| 1000/1000 [01:27<00:00, 11.46it/s]\n",
      "fid: 100%|██████████| 10/10 [01:16<00:00,  7.68s/it, mean=41.9]"
     ]
    },
    {
     "name": "stdout",
     "output_type": "stream",
     "text": [
      "FID score for train cifar10 with ula_dcgan_cifar_recalc: mean 41.87512163122073, std 0.2449252218579044\n",
      "time for FID calculation on train = 257.121s\n"
     ]
    },
    {
     "name": "stderr",
     "output_type": "stream",
     "text": [
      "\n"
     ]
    }
   ],
   "source": [
    "batch_size = 100\n",
    "random_seed = 42\n",
    "path_to_save_np = '/home/daniil/gans-mcmc/saved_numpy_arrays'\n",
    "path_to_save = path_to_save_np\n",
    "method_name = 'ula_dcgan_cifar_recalc'\n",
    "every_step = 50\n",
    "dataset = \"cifar10\"\n",
    "calculate_is = True\n",
    "calculate_msid_train = False\n",
    "calculate_msid_test = True\n",
    "\n",
    "ula_statistics = calculate_images_statistics(z_agg_step = load_np, \n",
    "                                             G = G,\n",
    "                                             device = device, \n",
    "                                             batch_size = batch_size,\n",
    "                                             path_to_save = path_to_save,\n",
    "                                             path_to_save_np = path_to_save_np,\n",
    "                                             method_name = method_name,\n",
    "                                             random_seed = random_seed,\n",
    "                                             every_step = every_step,\n",
    "                                             dataset = dataset,\n",
    "                                             calculate_is = calculate_is,\n",
    "                                             calculate_msid_train = calculate_msid_train,\n",
    "                                             calculate_msid_test = calculate_msid_test)"
   ]
  },
  {
   "cell_type": "code",
   "execution_count": 8,
   "id": "diverse-trick",
   "metadata": {},
   "outputs": [
    {
     "data": {
      "text/plain": [
       "{'inception_scores_mean': array([5.45884755, 5.64533247, 5.93302675, 6.11075721, 6.26332333,\n",
       "        6.33129223, 6.34728343, 6.44997478, 6.46983357, 6.46627593,\n",
       "        6.49517636, 6.49804426, 6.50062137, 6.486893  , 6.45767812,\n",
       "        6.48513536, 6.39664369, 6.416372  , 6.36567891, 6.35009992,\n",
       "        6.3099507 ]),\n",
       " 'inception_scores_std': array([0.07988135, 0.06556845, 0.0751358 , 0.09356253, 0.09139792,\n",
       "        0.0363808 , 0.06738579, 0.06851357, 0.08193226, 0.12731706,\n",
       "        0.08449642, 0.06955036, 0.05162749, 0.05048255, 0.08984082,\n",
       "        0.06764603, 0.06941958, 0.0837918 , 0.07713408, 0.08823519,\n",
       "        0.06783956]),\n",
       " 'fid_scores_mean_train': array([35.71696744, 41.23658666, 34.94264839, 29.99145377, 26.83238766,\n",
       "        25.4330189 , 24.85777145, 24.91446835, 25.51014069, 26.43138298,\n",
       "        27.65998465, 28.87746921, 30.41964352, 31.89948227, 33.36489927,\n",
       "        34.72285885, 36.21797335, 37.6261386 , 38.9148296 , 40.3451899 ,\n",
       "        41.87512163]),\n",
       " 'fid_scores_mean_test': array([39.62882296, 45.21596822, 39.45932567, 34.71035211, 31.90288146,\n",
       "        30.43114402, 29.97871583, 29.96049545, 31.22429294, 31.66207387,\n",
       "        33.06171245, 34.20092017, 35.71181568, 37.28846538, 38.80058865,\n",
       "        39.91753216, 41.19187441, 42.76864996, 43.99355108, 45.45751229,\n",
       "        46.884682  ]),\n",
       " 'fid_scores_std_train': array([0.22371321, 0.27416711, 0.25142799, 0.15178538, 0.17803871,\n",
       "        0.20948116, 0.22552445, 0.16742129, 0.19986429, 0.19882782,\n",
       "        0.19608401, 0.16089078, 0.1980648 , 0.1971616 , 0.17161143,\n",
       "        0.21229464, 0.24326893, 0.23913441, 0.22333403, 0.21500754,\n",
       "        0.24492522]),\n",
       " 'fid_scores_std_test': array([0.45788588, 0.77770336, 0.6813296 , 0.65809568, 0.38999186,\n",
       "        0.44710765, 0.31547668, 0.46310524, 0.40889564, 0.45438218,\n",
       "        0.41023672, 0.39106591, 0.41312522, 0.44017252, 0.46132531,\n",
       "        0.47511944, 0.47649869, 0.46514133, 0.48698703, 0.55207789,\n",
       "        0.5916504 ]),\n",
       " 'msid_scores_mean_train': array([-1., -1., -1., -1., -1., -1., -1., -1., -1., -1., -1., -1., -1.,\n",
       "        -1., -1., -1., -1., -1., -1., -1., -1.]),\n",
       " 'msid_scores_mean_test': array([ 6.06923098,  4.71898484,  3.25834205,  3.78838689,  5.95950148,\n",
       "         8.63268769,  9.49823455, 15.21576618, 17.01212209, 20.02775057,\n",
       "        19.66584292, 22.37309098, 22.61208313, 25.01280713, 27.27239849,\n",
       "        26.79516617, 29.15323861, 30.68030808, 34.30467656, 34.66207838,\n",
       "        32.77813817]),\n",
       " 'msid_scores_std_train': array([-1., -1., -1., -1., -1., -1., -1., -1., -1., -1., -1., -1., -1.,\n",
       "        -1., -1., -1., -1., -1., -1., -1., -1.]),\n",
       " 'msid_scores_std_test': array([3.01311723, 2.71796713, 2.34578067, 2.31435061, 2.21306129,\n",
       "        2.54648391, 2.97073028, 4.64529962, 3.37361764, 4.02986622,\n",
       "        3.339352  , 3.89491455, 3.79103776, 3.85974223, 3.61874995,\n",
       "        4.31836897, 4.69327993, 2.10375153, 3.15504422, 3.94394445,\n",
       "        3.59726134])}"
      ]
     },
     "execution_count": 8,
     "metadata": {},
     "output_type": "execute_result"
    }
   ],
   "source": [
    "ula_statistics"
   ]
  },
  {
   "cell_type": "code",
   "execution_count": 10,
   "id": "broad-dryer",
   "metadata": {},
   "outputs": [],
   "source": [
    "names_list = [\"inception_scores_mean\", \"inception_scores_std\",\n",
    "              \"fid_scores_mean_train\", \"fid_scores_mean_test\",\n",
    "              \"fid_scores_std_train\", \"fid_scores_std_test\",\n",
    "              \"msid_scores_mean_train\", \"msid_scores_mean_test\",\n",
    "              \"msid_scores_std_train\", \"msid_scores_std_test\"\n",
    "             ]"
   ]
  },
  {
   "cell_type": "code",
   "execution_count": 11,
   "id": "headed-syria",
   "metadata": {},
   "outputs": [],
   "source": [
    "method_name = 'ula_dcgan_cifar_recalc'\n",
    "path_to_save_np = '/home/daniil/gans-mcmc/saved_numpy_arrays'\n",
    "load_arrays = []\n",
    "for i in range(len(names_list)):\n",
    "    cur_score_path = os.path.join(path_to_save_np,\n",
    "                                  f\"{method_name}_{names_list[i]}.npy\")\n",
    "    load_arrays.append(np.load(cur_score_path))"
   ]
  },
  {
   "cell_type": "markdown",
   "id": "contained-contrary",
   "metadata": {},
   "source": [
    "## iSIR"
   ]
  },
  {
   "cell_type": "code",
   "execution_count": 6,
   "id": "acoustic-egypt",
   "metadata": {},
   "outputs": [
    {
     "name": "stderr",
     "output_type": "stream",
     "text": [
      "  0%|          | 1/250 [01:05<4:32:31, 65.67s/it]"
     ]
    },
    {
     "name": "stdout",
     "output_type": "stream",
     "text": [
      "file /home/daniil/gans-mcmc/saved_numpy_arrays/sir_dcgan_cifar_recalc_N_5_nsteps_500_batch_num_0.npy was saved, file shape = (11, 200, 100)\n"
     ]
    },
    {
     "name": "stderr",
     "output_type": "stream",
     "text": [
      "\r",
      "  1%|          | 2/250 [02:14<4:35:12, 66.58s/it]"
     ]
    },
    {
     "name": "stdout",
     "output_type": "stream",
     "text": [
      "file /home/daniil/gans-mcmc/saved_numpy_arrays/sir_dcgan_cifar_recalc_N_5_nsteps_500_batch_num_200.npy was saved, file shape = (11, 200, 100)\n"
     ]
    },
    {
     "name": "stderr",
     "output_type": "stream",
     "text": [
      "\r",
      "  1%|          | 3/250 [03:25<4:40:03, 68.03s/it]"
     ]
    },
    {
     "name": "stdout",
     "output_type": "stream",
     "text": [
      "file /home/daniil/gans-mcmc/saved_numpy_arrays/sir_dcgan_cifar_recalc_N_5_nsteps_500_batch_num_400.npy was saved, file shape = (11, 200, 100)\n"
     ]
    },
    {
     "name": "stderr",
     "output_type": "stream",
     "text": [
      "\r",
      "  2%|▏         | 4/250 [04:37<4:42:56, 69.01s/it]"
     ]
    },
    {
     "name": "stdout",
     "output_type": "stream",
     "text": [
      "file /home/daniil/gans-mcmc/saved_numpy_arrays/sir_dcgan_cifar_recalc_N_5_nsteps_500_batch_num_600.npy was saved, file shape = (11, 200, 100)\n"
     ]
    },
    {
     "name": "stderr",
     "output_type": "stream",
     "text": [
      "\r",
      "  2%|▏         | 5/250 [05:48<4:44:36, 69.70s/it]"
     ]
    },
    {
     "name": "stdout",
     "output_type": "stream",
     "text": [
      "file /home/daniil/gans-mcmc/saved_numpy_arrays/sir_dcgan_cifar_recalc_N_5_nsteps_500_batch_num_800.npy was saved, file shape = (11, 200, 100)\n"
     ]
    },
    {
     "name": "stderr",
     "output_type": "stream",
     "text": [
      "\r",
      "  2%|▏         | 6/250 [06:59<4:45:13, 70.14s/it]"
     ]
    },
    {
     "name": "stdout",
     "output_type": "stream",
     "text": [
      "file /home/daniil/gans-mcmc/saved_numpy_arrays/sir_dcgan_cifar_recalc_N_5_nsteps_500_batch_num_1000.npy was saved, file shape = (11, 200, 100)\n"
     ]
    },
    {
     "name": "stderr",
     "output_type": "stream",
     "text": [
      "\r",
      "  3%|▎         | 7/250 [08:10<4:45:24, 70.47s/it]"
     ]
    },
    {
     "name": "stdout",
     "output_type": "stream",
     "text": [
      "file /home/daniil/gans-mcmc/saved_numpy_arrays/sir_dcgan_cifar_recalc_N_5_nsteps_500_batch_num_1200.npy was saved, file shape = (11, 200, 100)\n"
     ]
    },
    {
     "name": "stderr",
     "output_type": "stream",
     "text": [
      "\r",
      "  3%|▎         | 8/250 [09:22<4:45:20, 70.75s/it]"
     ]
    },
    {
     "name": "stdout",
     "output_type": "stream",
     "text": [
      "file /home/daniil/gans-mcmc/saved_numpy_arrays/sir_dcgan_cifar_recalc_N_5_nsteps_500_batch_num_1400.npy was saved, file shape = (11, 200, 100)\n"
     ]
    },
    {
     "name": "stderr",
     "output_type": "stream",
     "text": [
      "\r",
      "  4%|▎         | 9/250 [10:33<4:44:57, 70.94s/it]"
     ]
    },
    {
     "name": "stdout",
     "output_type": "stream",
     "text": [
      "file /home/daniil/gans-mcmc/saved_numpy_arrays/sir_dcgan_cifar_recalc_N_5_nsteps_500_batch_num_1600.npy was saved, file shape = (11, 200, 100)\n"
     ]
    },
    {
     "name": "stderr",
     "output_type": "stream",
     "text": [
      "\r",
      "  4%|▍         | 10/250 [11:45<4:44:20, 71.09s/it]"
     ]
    },
    {
     "name": "stdout",
     "output_type": "stream",
     "text": [
      "file /home/daniil/gans-mcmc/saved_numpy_arrays/sir_dcgan_cifar_recalc_N_5_nsteps_500_batch_num_1800.npy was saved, file shape = (11, 200, 100)\n"
     ]
    },
    {
     "name": "stderr",
     "output_type": "stream",
     "text": [
      "\r",
      "  4%|▍         | 11/250 [12:56<4:43:35, 71.20s/it]"
     ]
    },
    {
     "name": "stdout",
     "output_type": "stream",
     "text": [
      "file /home/daniil/gans-mcmc/saved_numpy_arrays/sir_dcgan_cifar_recalc_N_5_nsteps_500_batch_num_2000.npy was saved, file shape = (11, 200, 100)\n"
     ]
    },
    {
     "name": "stderr",
     "output_type": "stream",
     "text": [
      "\r",
      "  5%|▍         | 12/250 [14:07<4:42:43, 71.28s/it]"
     ]
    },
    {
     "name": "stdout",
     "output_type": "stream",
     "text": [
      "file /home/daniil/gans-mcmc/saved_numpy_arrays/sir_dcgan_cifar_recalc_N_5_nsteps_500_batch_num_2200.npy was saved, file shape = (11, 200, 100)\n"
     ]
    },
    {
     "name": "stderr",
     "output_type": "stream",
     "text": [
      "\r",
      "  5%|▌         | 13/250 [15:19<4:41:41, 71.32s/it]"
     ]
    },
    {
     "name": "stdout",
     "output_type": "stream",
     "text": [
      "file /home/daniil/gans-mcmc/saved_numpy_arrays/sir_dcgan_cifar_recalc_N_5_nsteps_500_batch_num_2400.npy was saved, file shape = (11, 200, 100)\n"
     ]
    },
    {
     "name": "stderr",
     "output_type": "stream",
     "text": [
      "\r",
      "  6%|▌         | 14/250 [16:30<4:40:36, 71.34s/it]"
     ]
    },
    {
     "name": "stdout",
     "output_type": "stream",
     "text": [
      "file /home/daniil/gans-mcmc/saved_numpy_arrays/sir_dcgan_cifar_recalc_N_5_nsteps_500_batch_num_2600.npy was saved, file shape = (11, 200, 100)\n"
     ]
    },
    {
     "name": "stderr",
     "output_type": "stream",
     "text": [
      "\r",
      "  6%|▌         | 15/250 [17:42<4:39:29, 71.36s/it]"
     ]
    },
    {
     "name": "stdout",
     "output_type": "stream",
     "text": [
      "file /home/daniil/gans-mcmc/saved_numpy_arrays/sir_dcgan_cifar_recalc_N_5_nsteps_500_batch_num_2800.npy was saved, file shape = (11, 200, 100)\n"
     ]
    },
    {
     "name": "stderr",
     "output_type": "stream",
     "text": [
      "\r",
      "  6%|▋         | 16/250 [18:53<4:38:23, 71.38s/it]"
     ]
    },
    {
     "name": "stdout",
     "output_type": "stream",
     "text": [
      "file /home/daniil/gans-mcmc/saved_numpy_arrays/sir_dcgan_cifar_recalc_N_5_nsteps_500_batch_num_3000.npy was saved, file shape = (11, 200, 100)\n"
     ]
    },
    {
     "name": "stderr",
     "output_type": "stream",
     "text": [
      "\r",
      "  7%|▋         | 17/250 [20:05<4:37:14, 71.39s/it]"
     ]
    },
    {
     "name": "stdout",
     "output_type": "stream",
     "text": [
      "file /home/daniil/gans-mcmc/saved_numpy_arrays/sir_dcgan_cifar_recalc_N_5_nsteps_500_batch_num_3200.npy was saved, file shape = (11, 200, 100)\n"
     ]
    },
    {
     "name": "stderr",
     "output_type": "stream",
     "text": [
      "\r",
      "  7%|▋         | 18/250 [21:16<4:36:05, 71.40s/it]"
     ]
    },
    {
     "name": "stdout",
     "output_type": "stream",
     "text": [
      "file /home/daniil/gans-mcmc/saved_numpy_arrays/sir_dcgan_cifar_recalc_N_5_nsteps_500_batch_num_3400.npy was saved, file shape = (11, 200, 100)\n"
     ]
    },
    {
     "name": "stderr",
     "output_type": "stream",
     "text": [
      "\r",
      "  8%|▊         | 19/250 [22:27<4:34:51, 71.39s/it]"
     ]
    },
    {
     "name": "stdout",
     "output_type": "stream",
     "text": [
      "file /home/daniil/gans-mcmc/saved_numpy_arrays/sir_dcgan_cifar_recalc_N_5_nsteps_500_batch_num_3600.npy was saved, file shape = (11, 200, 100)\n"
     ]
    },
    {
     "name": "stderr",
     "output_type": "stream",
     "text": [
      "\r",
      "  8%|▊         | 20/250 [23:39<4:33:42, 71.40s/it]"
     ]
    },
    {
     "name": "stdout",
     "output_type": "stream",
     "text": [
      "file /home/daniil/gans-mcmc/saved_numpy_arrays/sir_dcgan_cifar_recalc_N_5_nsteps_500_batch_num_3800.npy was saved, file shape = (11, 200, 100)\n"
     ]
    },
    {
     "name": "stderr",
     "output_type": "stream",
     "text": [
      "\r",
      "  8%|▊         | 21/250 [24:50<4:32:29, 71.40s/it]"
     ]
    },
    {
     "name": "stdout",
     "output_type": "stream",
     "text": [
      "file /home/daniil/gans-mcmc/saved_numpy_arrays/sir_dcgan_cifar_recalc_N_5_nsteps_500_batch_num_4000.npy was saved, file shape = (11, 200, 100)\n"
     ]
    },
    {
     "name": "stderr",
     "output_type": "stream",
     "text": [
      "\r",
      "  9%|▉         | 22/250 [26:02<4:31:20, 71.40s/it]"
     ]
    },
    {
     "name": "stdout",
     "output_type": "stream",
     "text": [
      "file /home/daniil/gans-mcmc/saved_numpy_arrays/sir_dcgan_cifar_recalc_N_5_nsteps_500_batch_num_4200.npy was saved, file shape = (11, 200, 100)\n"
     ]
    },
    {
     "name": "stderr",
     "output_type": "stream",
     "text": [
      "\r",
      "  9%|▉         | 23/250 [27:13<4:30:09, 71.41s/it]"
     ]
    },
    {
     "name": "stdout",
     "output_type": "stream",
     "text": [
      "file /home/daniil/gans-mcmc/saved_numpy_arrays/sir_dcgan_cifar_recalc_N_5_nsteps_500_batch_num_4400.npy was saved, file shape = (11, 200, 100)\n"
     ]
    },
    {
     "name": "stderr",
     "output_type": "stream",
     "text": [
      "\r",
      " 10%|▉         | 24/250 [28:24<4:28:54, 71.39s/it]"
     ]
    },
    {
     "name": "stdout",
     "output_type": "stream",
     "text": [
      "file /home/daniil/gans-mcmc/saved_numpy_arrays/sir_dcgan_cifar_recalc_N_5_nsteps_500_batch_num_4600.npy was saved, file shape = (11, 200, 100)\n"
     ]
    },
    {
     "name": "stderr",
     "output_type": "stream",
     "text": [
      "\r",
      " 10%|█         | 25/250 [29:36<4:27:44, 71.40s/it]"
     ]
    },
    {
     "name": "stdout",
     "output_type": "stream",
     "text": [
      "file /home/daniil/gans-mcmc/saved_numpy_arrays/sir_dcgan_cifar_recalc_N_5_nsteps_500_batch_num_4800.npy was saved, file shape = (11, 200, 100)\n"
     ]
    },
    {
     "name": "stderr",
     "output_type": "stream",
     "text": [
      "\r",
      " 10%|█         | 26/250 [30:47<4:26:32, 71.40s/it]"
     ]
    },
    {
     "name": "stdout",
     "output_type": "stream",
     "text": [
      "file /home/daniil/gans-mcmc/saved_numpy_arrays/sir_dcgan_cifar_recalc_N_5_nsteps_500_batch_num_5000.npy was saved, file shape = (11, 200, 100)\n"
     ]
    },
    {
     "name": "stderr",
     "output_type": "stream",
     "text": [
      "\r",
      " 11%|█         | 27/250 [31:59<4:25:23, 71.40s/it]"
     ]
    },
    {
     "name": "stdout",
     "output_type": "stream",
     "text": [
      "file /home/daniil/gans-mcmc/saved_numpy_arrays/sir_dcgan_cifar_recalc_N_5_nsteps_500_batch_num_5200.npy was saved, file shape = (11, 200, 100)\n"
     ]
    },
    {
     "name": "stderr",
     "output_type": "stream",
     "text": [
      "\r",
      " 11%|█         | 28/250 [33:10<4:24:11, 71.40s/it]"
     ]
    },
    {
     "name": "stdout",
     "output_type": "stream",
     "text": [
      "file /home/daniil/gans-mcmc/saved_numpy_arrays/sir_dcgan_cifar_recalc_N_5_nsteps_500_batch_num_5400.npy was saved, file shape = (11, 200, 100)\n"
     ]
    },
    {
     "name": "stderr",
     "output_type": "stream",
     "text": [
      "\r",
      " 12%|█▏        | 29/250 [34:21<4:23:02, 71.42s/it]"
     ]
    },
    {
     "name": "stdout",
     "output_type": "stream",
     "text": [
      "file /home/daniil/gans-mcmc/saved_numpy_arrays/sir_dcgan_cifar_recalc_N_5_nsteps_500_batch_num_5600.npy was saved, file shape = (11, 200, 100)\n"
     ]
    },
    {
     "name": "stderr",
     "output_type": "stream",
     "text": [
      "\r",
      " 12%|█▏        | 30/250 [35:33<4:21:50, 71.41s/it]"
     ]
    },
    {
     "name": "stdout",
     "output_type": "stream",
     "text": [
      "file /home/daniil/gans-mcmc/saved_numpy_arrays/sir_dcgan_cifar_recalc_N_5_nsteps_500_batch_num_5800.npy was saved, file shape = (11, 200, 100)\n"
     ]
    },
    {
     "name": "stderr",
     "output_type": "stream",
     "text": [
      "\r",
      " 12%|█▏        | 31/250 [36:44<4:20:37, 71.40s/it]"
     ]
    },
    {
     "name": "stdout",
     "output_type": "stream",
     "text": [
      "file /home/daniil/gans-mcmc/saved_numpy_arrays/sir_dcgan_cifar_recalc_N_5_nsteps_500_batch_num_6000.npy was saved, file shape = (11, 200, 100)\n"
     ]
    },
    {
     "name": "stderr",
     "output_type": "stream",
     "text": [
      "\r",
      " 13%|█▎        | 32/250 [37:56<4:19:27, 71.41s/it]"
     ]
    },
    {
     "name": "stdout",
     "output_type": "stream",
     "text": [
      "file /home/daniil/gans-mcmc/saved_numpy_arrays/sir_dcgan_cifar_recalc_N_5_nsteps_500_batch_num_6200.npy was saved, file shape = (11, 200, 100)\n"
     ]
    },
    {
     "name": "stderr",
     "output_type": "stream",
     "text": [
      "\r",
      " 13%|█▎        | 33/250 [39:07<4:18:12, 71.39s/it]"
     ]
    },
    {
     "name": "stdout",
     "output_type": "stream",
     "text": [
      "file /home/daniil/gans-mcmc/saved_numpy_arrays/sir_dcgan_cifar_recalc_N_5_nsteps_500_batch_num_6400.npy was saved, file shape = (11, 200, 100)\n"
     ]
    },
    {
     "name": "stderr",
     "output_type": "stream",
     "text": [
      "\r",
      " 14%|█▎        | 34/250 [40:18<4:17:01, 71.40s/it]"
     ]
    },
    {
     "name": "stdout",
     "output_type": "stream",
     "text": [
      "file /home/daniil/gans-mcmc/saved_numpy_arrays/sir_dcgan_cifar_recalc_N_5_nsteps_500_batch_num_6600.npy was saved, file shape = (11, 200, 100)\n"
     ]
    },
    {
     "name": "stderr",
     "output_type": "stream",
     "text": [
      "\r",
      " 14%|█▍        | 35/250 [41:30<4:15:47, 71.38s/it]"
     ]
    },
    {
     "name": "stdout",
     "output_type": "stream",
     "text": [
      "file /home/daniil/gans-mcmc/saved_numpy_arrays/sir_dcgan_cifar_recalc_N_5_nsteps_500_batch_num_6800.npy was saved, file shape = (11, 200, 100)\n"
     ]
    },
    {
     "name": "stderr",
     "output_type": "stream",
     "text": [
      "\r",
      " 14%|█▍        | 36/250 [42:41<4:14:35, 71.38s/it]"
     ]
    },
    {
     "name": "stdout",
     "output_type": "stream",
     "text": [
      "file /home/daniil/gans-mcmc/saved_numpy_arrays/sir_dcgan_cifar_recalc_N_5_nsteps_500_batch_num_7000.npy was saved, file shape = (11, 200, 100)\n"
     ]
    },
    {
     "name": "stderr",
     "output_type": "stream",
     "text": [
      "\r",
      " 15%|█▍        | 37/250 [43:52<4:13:22, 71.38s/it]"
     ]
    },
    {
     "name": "stdout",
     "output_type": "stream",
     "text": [
      "file /home/daniil/gans-mcmc/saved_numpy_arrays/sir_dcgan_cifar_recalc_N_5_nsteps_500_batch_num_7200.npy was saved, file shape = (11, 200, 100)\n"
     ]
    },
    {
     "name": "stderr",
     "output_type": "stream",
     "text": [
      "\r",
      " 15%|█▌        | 38/250 [45:04<4:12:09, 71.37s/it]"
     ]
    },
    {
     "name": "stdout",
     "output_type": "stream",
     "text": [
      "file /home/daniil/gans-mcmc/saved_numpy_arrays/sir_dcgan_cifar_recalc_N_5_nsteps_500_batch_num_7400.npy was saved, file shape = (11, 200, 100)\n"
     ]
    },
    {
     "name": "stderr",
     "output_type": "stream",
     "text": [
      "\r",
      " 16%|█▌        | 39/250 [46:15<4:11:02, 71.38s/it]"
     ]
    },
    {
     "name": "stdout",
     "output_type": "stream",
     "text": [
      "file /home/daniil/gans-mcmc/saved_numpy_arrays/sir_dcgan_cifar_recalc_N_5_nsteps_500_batch_num_7600.npy was saved, file shape = (11, 200, 100)\n"
     ]
    },
    {
     "name": "stderr",
     "output_type": "stream",
     "text": [
      "\r",
      " 16%|█▌        | 40/250 [47:27<4:09:50, 71.38s/it]"
     ]
    },
    {
     "name": "stdout",
     "output_type": "stream",
     "text": [
      "file /home/daniil/gans-mcmc/saved_numpy_arrays/sir_dcgan_cifar_recalc_N_5_nsteps_500_batch_num_7800.npy was saved, file shape = (11, 200, 100)\n"
     ]
    },
    {
     "name": "stderr",
     "output_type": "stream",
     "text": [
      "\r",
      " 16%|█▋        | 41/250 [48:38<4:08:40, 71.39s/it]"
     ]
    },
    {
     "name": "stdout",
     "output_type": "stream",
     "text": [
      "file /home/daniil/gans-mcmc/saved_numpy_arrays/sir_dcgan_cifar_recalc_N_5_nsteps_500_batch_num_8000.npy was saved, file shape = (11, 200, 100)\n"
     ]
    },
    {
     "name": "stderr",
     "output_type": "stream",
     "text": [
      "\r",
      " 17%|█▋        | 42/250 [49:49<4:07:27, 71.38s/it]"
     ]
    },
    {
     "name": "stdout",
     "output_type": "stream",
     "text": [
      "file /home/daniil/gans-mcmc/saved_numpy_arrays/sir_dcgan_cifar_recalc_N_5_nsteps_500_batch_num_8200.npy was saved, file shape = (11, 200, 100)\n"
     ]
    },
    {
     "name": "stderr",
     "output_type": "stream",
     "text": [
      "\r",
      " 17%|█▋        | 43/250 [51:01<4:06:15, 71.38s/it]"
     ]
    },
    {
     "name": "stdout",
     "output_type": "stream",
     "text": [
      "file /home/daniil/gans-mcmc/saved_numpy_arrays/sir_dcgan_cifar_recalc_N_5_nsteps_500_batch_num_8400.npy was saved, file shape = (11, 200, 100)\n"
     ]
    },
    {
     "name": "stderr",
     "output_type": "stream",
     "text": [
      "\r",
      " 18%|█▊        | 44/250 [52:12<4:05:05, 71.38s/it]"
     ]
    },
    {
     "name": "stdout",
     "output_type": "stream",
     "text": [
      "file /home/daniil/gans-mcmc/saved_numpy_arrays/sir_dcgan_cifar_recalc_N_5_nsteps_500_batch_num_8600.npy was saved, file shape = (11, 200, 100)\n"
     ]
    },
    {
     "name": "stderr",
     "output_type": "stream",
     "text": [
      "\r",
      " 18%|█▊        | 45/250 [53:23<4:03:53, 71.38s/it]"
     ]
    },
    {
     "name": "stdout",
     "output_type": "stream",
     "text": [
      "file /home/daniil/gans-mcmc/saved_numpy_arrays/sir_dcgan_cifar_recalc_N_5_nsteps_500_batch_num_8800.npy was saved, file shape = (11, 200, 100)\n"
     ]
    },
    {
     "name": "stderr",
     "output_type": "stream",
     "text": [
      "\r",
      " 18%|█▊        | 46/250 [54:35<4:02:44, 71.40s/it]"
     ]
    },
    {
     "name": "stdout",
     "output_type": "stream",
     "text": [
      "file /home/daniil/gans-mcmc/saved_numpy_arrays/sir_dcgan_cifar_recalc_N_5_nsteps_500_batch_num_9000.npy was saved, file shape = (11, 200, 100)\n"
     ]
    },
    {
     "name": "stderr",
     "output_type": "stream",
     "text": [
      "\r",
      " 19%|█▉        | 47/250 [55:46<4:01:33, 71.40s/it]"
     ]
    },
    {
     "name": "stdout",
     "output_type": "stream",
     "text": [
      "file /home/daniil/gans-mcmc/saved_numpy_arrays/sir_dcgan_cifar_recalc_N_5_nsteps_500_batch_num_9200.npy was saved, file shape = (11, 200, 100)\n"
     ]
    },
    {
     "name": "stderr",
     "output_type": "stream",
     "text": [
      "\r",
      " 19%|█▉        | 48/250 [56:58<4:00:20, 71.39s/it]"
     ]
    },
    {
     "name": "stdout",
     "output_type": "stream",
     "text": [
      "file /home/daniil/gans-mcmc/saved_numpy_arrays/sir_dcgan_cifar_recalc_N_5_nsteps_500_batch_num_9400.npy was saved, file shape = (11, 200, 100)\n"
     ]
    },
    {
     "name": "stderr",
     "output_type": "stream",
     "text": [
      "\r",
      " 20%|█▉        | 49/250 [58:09<3:59:10, 71.39s/it]"
     ]
    },
    {
     "name": "stdout",
     "output_type": "stream",
     "text": [
      "file /home/daniil/gans-mcmc/saved_numpy_arrays/sir_dcgan_cifar_recalc_N_5_nsteps_500_batch_num_9600.npy was saved, file shape = (11, 200, 100)\n"
     ]
    },
    {
     "name": "stderr",
     "output_type": "stream",
     "text": [
      "\r",
      " 20%|██        | 50/250 [59:20<3:57:56, 71.38s/it]"
     ]
    },
    {
     "name": "stdout",
     "output_type": "stream",
     "text": [
      "file /home/daniil/gans-mcmc/saved_numpy_arrays/sir_dcgan_cifar_recalc_N_5_nsteps_500_batch_num_9800.npy was saved, file shape = (11, 200, 100)\n"
     ]
    },
    {
     "name": "stderr",
     "output_type": "stream",
     "text": [
      "\r",
      " 20%|██        | 51/250 [1:00:32<3:56:44, 71.38s/it]"
     ]
    },
    {
     "name": "stdout",
     "output_type": "stream",
     "text": [
      "file /home/daniil/gans-mcmc/saved_numpy_arrays/sir_dcgan_cifar_recalc_N_5_nsteps_500_batch_num_10000.npy was saved, file shape = (11, 200, 100)\n"
     ]
    },
    {
     "name": "stderr",
     "output_type": "stream",
     "text": [
      "\r",
      " 21%|██        | 52/250 [1:01:43<3:55:32, 71.38s/it]"
     ]
    },
    {
     "name": "stdout",
     "output_type": "stream",
     "text": [
      "file /home/daniil/gans-mcmc/saved_numpy_arrays/sir_dcgan_cifar_recalc_N_5_nsteps_500_batch_num_10200.npy was saved, file shape = (11, 200, 100)\n"
     ]
    },
    {
     "name": "stderr",
     "output_type": "stream",
     "text": [
      "\r",
      " 21%|██        | 53/250 [1:02:55<3:54:19, 71.37s/it]"
     ]
    },
    {
     "name": "stdout",
     "output_type": "stream",
     "text": [
      "file /home/daniil/gans-mcmc/saved_numpy_arrays/sir_dcgan_cifar_recalc_N_5_nsteps_500_batch_num_10400.npy was saved, file shape = (11, 200, 100)\n"
     ]
    },
    {
     "name": "stderr",
     "output_type": "stream",
     "text": [
      "\r",
      " 22%|██▏       | 54/250 [1:04:06<3:53:08, 71.37s/it]"
     ]
    },
    {
     "name": "stdout",
     "output_type": "stream",
     "text": [
      "file /home/daniil/gans-mcmc/saved_numpy_arrays/sir_dcgan_cifar_recalc_N_5_nsteps_500_batch_num_10600.npy was saved, file shape = (11, 200, 100)\n"
     ]
    },
    {
     "name": "stderr",
     "output_type": "stream",
     "text": [
      "\r",
      " 22%|██▏       | 55/250 [1:05:17<3:51:55, 71.36s/it]"
     ]
    },
    {
     "name": "stdout",
     "output_type": "stream",
     "text": [
      "file /home/daniil/gans-mcmc/saved_numpy_arrays/sir_dcgan_cifar_recalc_N_5_nsteps_500_batch_num_10800.npy was saved, file shape = (11, 200, 100)\n"
     ]
    },
    {
     "name": "stderr",
     "output_type": "stream",
     "text": [
      "\r",
      " 22%|██▏       | 56/250 [1:06:29<3:50:46, 71.37s/it]"
     ]
    },
    {
     "name": "stdout",
     "output_type": "stream",
     "text": [
      "file /home/daniil/gans-mcmc/saved_numpy_arrays/sir_dcgan_cifar_recalc_N_5_nsteps_500_batch_num_11000.npy was saved, file shape = (11, 200, 100)\n"
     ]
    },
    {
     "name": "stderr",
     "output_type": "stream",
     "text": [
      "\r",
      " 23%|██▎       | 57/250 [1:07:40<3:49:34, 71.37s/it]"
     ]
    },
    {
     "name": "stdout",
     "output_type": "stream",
     "text": [
      "file /home/daniil/gans-mcmc/saved_numpy_arrays/sir_dcgan_cifar_recalc_N_5_nsteps_500_batch_num_11200.npy was saved, file shape = (11, 200, 100)\n"
     ]
    },
    {
     "name": "stderr",
     "output_type": "stream",
     "text": [
      "\r",
      " 23%|██▎       | 58/250 [1:08:51<3:48:21, 71.36s/it]"
     ]
    },
    {
     "name": "stdout",
     "output_type": "stream",
     "text": [
      "file /home/daniil/gans-mcmc/saved_numpy_arrays/sir_dcgan_cifar_recalc_N_5_nsteps_500_batch_num_11400.npy was saved, file shape = (11, 200, 100)\n"
     ]
    },
    {
     "name": "stderr",
     "output_type": "stream",
     "text": [
      "\r",
      " 24%|██▎       | 59/250 [1:10:03<3:47:09, 71.36s/it]"
     ]
    },
    {
     "name": "stdout",
     "output_type": "stream",
     "text": [
      "file /home/daniil/gans-mcmc/saved_numpy_arrays/sir_dcgan_cifar_recalc_N_5_nsteps_500_batch_num_11600.npy was saved, file shape = (11, 200, 100)\n"
     ]
    },
    {
     "name": "stderr",
     "output_type": "stream",
     "text": [
      "\r",
      " 24%|██▍       | 60/250 [1:11:14<3:45:59, 71.37s/it]"
     ]
    },
    {
     "name": "stdout",
     "output_type": "stream",
     "text": [
      "file /home/daniil/gans-mcmc/saved_numpy_arrays/sir_dcgan_cifar_recalc_N_5_nsteps_500_batch_num_11800.npy was saved, file shape = (11, 200, 100)\n"
     ]
    },
    {
     "name": "stderr",
     "output_type": "stream",
     "text": [
      "\r",
      " 24%|██▍       | 61/250 [1:12:25<3:44:49, 71.37s/it]"
     ]
    },
    {
     "name": "stdout",
     "output_type": "stream",
     "text": [
      "file /home/daniil/gans-mcmc/saved_numpy_arrays/sir_dcgan_cifar_recalc_N_5_nsteps_500_batch_num_12000.npy was saved, file shape = (11, 200, 100)\n"
     ]
    },
    {
     "name": "stderr",
     "output_type": "stream",
     "text": [
      "\r",
      " 25%|██▍       | 62/250 [1:13:37<3:43:37, 71.37s/it]"
     ]
    },
    {
     "name": "stdout",
     "output_type": "stream",
     "text": [
      "file /home/daniil/gans-mcmc/saved_numpy_arrays/sir_dcgan_cifar_recalc_N_5_nsteps_500_batch_num_12200.npy was saved, file shape = (11, 200, 100)\n"
     ]
    },
    {
     "name": "stderr",
     "output_type": "stream",
     "text": [
      "\r",
      " 25%|██▌       | 63/250 [1:14:48<3:42:24, 71.36s/it]"
     ]
    },
    {
     "name": "stdout",
     "output_type": "stream",
     "text": [
      "file /home/daniil/gans-mcmc/saved_numpy_arrays/sir_dcgan_cifar_recalc_N_5_nsteps_500_batch_num_12400.npy was saved, file shape = (11, 200, 100)\n"
     ]
    },
    {
     "name": "stderr",
     "output_type": "stream",
     "text": [
      "\r",
      " 26%|██▌       | 64/250 [1:16:00<3:41:13, 71.36s/it]"
     ]
    },
    {
     "name": "stdout",
     "output_type": "stream",
     "text": [
      "file /home/daniil/gans-mcmc/saved_numpy_arrays/sir_dcgan_cifar_recalc_N_5_nsteps_500_batch_num_12600.npy was saved, file shape = (11, 200, 100)\n"
     ]
    },
    {
     "name": "stderr",
     "output_type": "stream",
     "text": [
      "\r",
      " 26%|██▌       | 65/250 [1:17:11<3:40:03, 71.37s/it]"
     ]
    },
    {
     "name": "stdout",
     "output_type": "stream",
     "text": [
      "file /home/daniil/gans-mcmc/saved_numpy_arrays/sir_dcgan_cifar_recalc_N_5_nsteps_500_batch_num_12800.npy was saved, file shape = (11, 200, 100)\n"
     ]
    },
    {
     "name": "stderr",
     "output_type": "stream",
     "text": [
      "\r",
      " 26%|██▋       | 66/250 [1:18:22<3:38:52, 71.37s/it]"
     ]
    },
    {
     "name": "stdout",
     "output_type": "stream",
     "text": [
      "file /home/daniil/gans-mcmc/saved_numpy_arrays/sir_dcgan_cifar_recalc_N_5_nsteps_500_batch_num_13000.npy was saved, file shape = (11, 200, 100)\n"
     ]
    },
    {
     "name": "stderr",
     "output_type": "stream",
     "text": [
      "\r",
      " 27%|██▋       | 67/250 [1:19:34<3:37:42, 71.38s/it]"
     ]
    },
    {
     "name": "stdout",
     "output_type": "stream",
     "text": [
      "file /home/daniil/gans-mcmc/saved_numpy_arrays/sir_dcgan_cifar_recalc_N_5_nsteps_500_batch_num_13200.npy was saved, file shape = (11, 200, 100)\n"
     ]
    },
    {
     "name": "stderr",
     "output_type": "stream",
     "text": [
      "\r",
      " 27%|██▋       | 68/250 [1:20:45<3:36:30, 71.38s/it]"
     ]
    },
    {
     "name": "stdout",
     "output_type": "stream",
     "text": [
      "file /home/daniil/gans-mcmc/saved_numpy_arrays/sir_dcgan_cifar_recalc_N_5_nsteps_500_batch_num_13400.npy was saved, file shape = (11, 200, 100)\n"
     ]
    },
    {
     "name": "stderr",
     "output_type": "stream",
     "text": [
      "\r",
      " 28%|██▊       | 69/250 [1:21:56<3:35:20, 71.38s/it]"
     ]
    },
    {
     "name": "stdout",
     "output_type": "stream",
     "text": [
      "file /home/daniil/gans-mcmc/saved_numpy_arrays/sir_dcgan_cifar_recalc_N_5_nsteps_500_batch_num_13600.npy was saved, file shape = (11, 200, 100)\n"
     ]
    },
    {
     "name": "stderr",
     "output_type": "stream",
     "text": [
      "\r",
      " 28%|██▊       | 70/250 [1:23:08<3:34:07, 71.37s/it]"
     ]
    },
    {
     "name": "stdout",
     "output_type": "stream",
     "text": [
      "file /home/daniil/gans-mcmc/saved_numpy_arrays/sir_dcgan_cifar_recalc_N_5_nsteps_500_batch_num_13800.npy was saved, file shape = (11, 200, 100)\n"
     ]
    },
    {
     "name": "stderr",
     "output_type": "stream",
     "text": [
      "\r",
      " 28%|██▊       | 71/250 [1:24:19<3:32:57, 71.39s/it]"
     ]
    },
    {
     "name": "stdout",
     "output_type": "stream",
     "text": [
      "file /home/daniil/gans-mcmc/saved_numpy_arrays/sir_dcgan_cifar_recalc_N_5_nsteps_500_batch_num_14000.npy was saved, file shape = (11, 200, 100)\n"
     ]
    },
    {
     "name": "stderr",
     "output_type": "stream",
     "text": [
      "\r",
      " 29%|██▉       | 72/250 [1:25:31<3:31:51, 71.41s/it]"
     ]
    },
    {
     "name": "stdout",
     "output_type": "stream",
     "text": [
      "file /home/daniil/gans-mcmc/saved_numpy_arrays/sir_dcgan_cifar_recalc_N_5_nsteps_500_batch_num_14200.npy was saved, file shape = (11, 200, 100)\n"
     ]
    },
    {
     "name": "stderr",
     "output_type": "stream",
     "text": [
      "\r",
      " 29%|██▉       | 73/250 [1:26:42<3:30:40, 71.42s/it]"
     ]
    },
    {
     "name": "stdout",
     "output_type": "stream",
     "text": [
      "file /home/daniil/gans-mcmc/saved_numpy_arrays/sir_dcgan_cifar_recalc_N_5_nsteps_500_batch_num_14400.npy was saved, file shape = (11, 200, 100)\n"
     ]
    },
    {
     "name": "stderr",
     "output_type": "stream",
     "text": [
      "\r",
      " 30%|██▉       | 74/250 [1:27:54<3:29:29, 71.42s/it]"
     ]
    },
    {
     "name": "stdout",
     "output_type": "stream",
     "text": [
      "file /home/daniil/gans-mcmc/saved_numpy_arrays/sir_dcgan_cifar_recalc_N_5_nsteps_500_batch_num_14600.npy was saved, file shape = (11, 200, 100)\n"
     ]
    },
    {
     "name": "stderr",
     "output_type": "stream",
     "text": [
      "\r",
      " 30%|███       | 75/250 [1:29:05<3:28:18, 71.42s/it]"
     ]
    },
    {
     "name": "stdout",
     "output_type": "stream",
     "text": [
      "file /home/daniil/gans-mcmc/saved_numpy_arrays/sir_dcgan_cifar_recalc_N_5_nsteps_500_batch_num_14800.npy was saved, file shape = (11, 200, 100)\n"
     ]
    },
    {
     "name": "stderr",
     "output_type": "stream",
     "text": [
      "\r",
      " 30%|███       | 76/250 [1:30:16<3:27:06, 71.42s/it]"
     ]
    },
    {
     "name": "stdout",
     "output_type": "stream",
     "text": [
      "file /home/daniil/gans-mcmc/saved_numpy_arrays/sir_dcgan_cifar_recalc_N_5_nsteps_500_batch_num_15000.npy was saved, file shape = (11, 200, 100)\n"
     ]
    },
    {
     "name": "stderr",
     "output_type": "stream",
     "text": [
      "\r",
      " 31%|███       | 77/250 [1:31:28<3:25:55, 71.42s/it]"
     ]
    },
    {
     "name": "stdout",
     "output_type": "stream",
     "text": [
      "file /home/daniil/gans-mcmc/saved_numpy_arrays/sir_dcgan_cifar_recalc_N_5_nsteps_500_batch_num_15200.npy was saved, file shape = (11, 200, 100)\n"
     ]
    },
    {
     "name": "stderr",
     "output_type": "stream",
     "text": [
      "\r",
      " 31%|███       | 78/250 [1:32:39<3:24:44, 71.42s/it]"
     ]
    },
    {
     "name": "stdout",
     "output_type": "stream",
     "text": [
      "file /home/daniil/gans-mcmc/saved_numpy_arrays/sir_dcgan_cifar_recalc_N_5_nsteps_500_batch_num_15400.npy was saved, file shape = (11, 200, 100)\n"
     ]
    },
    {
     "name": "stderr",
     "output_type": "stream",
     "text": [
      "\r",
      " 32%|███▏      | 79/250 [1:33:51<3:23:34, 71.43s/it]"
     ]
    },
    {
     "name": "stdout",
     "output_type": "stream",
     "text": [
      "file /home/daniil/gans-mcmc/saved_numpy_arrays/sir_dcgan_cifar_recalc_N_5_nsteps_500_batch_num_15600.npy was saved, file shape = (11, 200, 100)\n"
     ]
    },
    {
     "name": "stderr",
     "output_type": "stream",
     "text": [
      "\r",
      " 32%|███▏      | 80/250 [1:35:02<3:22:24, 71.44s/it]"
     ]
    },
    {
     "name": "stdout",
     "output_type": "stream",
     "text": [
      "file /home/daniil/gans-mcmc/saved_numpy_arrays/sir_dcgan_cifar_recalc_N_5_nsteps_500_batch_num_15800.npy was saved, file shape = (11, 200, 100)\n"
     ]
    },
    {
     "name": "stderr",
     "output_type": "stream",
     "text": [
      "\r",
      " 32%|███▏      | 81/250 [1:36:14<3:21:12, 71.44s/it]"
     ]
    },
    {
     "name": "stdout",
     "output_type": "stream",
     "text": [
      "file /home/daniil/gans-mcmc/saved_numpy_arrays/sir_dcgan_cifar_recalc_N_5_nsteps_500_batch_num_16000.npy was saved, file shape = (11, 200, 100)\n"
     ]
    },
    {
     "name": "stderr",
     "output_type": "stream",
     "text": [
      "\r",
      " 33%|███▎      | 82/250 [1:37:25<3:20:02, 71.44s/it]"
     ]
    },
    {
     "name": "stdout",
     "output_type": "stream",
     "text": [
      "file /home/daniil/gans-mcmc/saved_numpy_arrays/sir_dcgan_cifar_recalc_N_5_nsteps_500_batch_num_16200.npy was saved, file shape = (11, 200, 100)\n"
     ]
    },
    {
     "name": "stderr",
     "output_type": "stream",
     "text": [
      "\r",
      " 33%|███▎      | 83/250 [1:38:37<3:18:51, 71.45s/it]"
     ]
    },
    {
     "name": "stdout",
     "output_type": "stream",
     "text": [
      "file /home/daniil/gans-mcmc/saved_numpy_arrays/sir_dcgan_cifar_recalc_N_5_nsteps_500_batch_num_16400.npy was saved, file shape = (11, 200, 100)\n"
     ]
    },
    {
     "name": "stderr",
     "output_type": "stream",
     "text": [
      "\r",
      " 34%|███▎      | 84/250 [1:39:48<3:17:40, 71.45s/it]"
     ]
    },
    {
     "name": "stdout",
     "output_type": "stream",
     "text": [
      "file /home/daniil/gans-mcmc/saved_numpy_arrays/sir_dcgan_cifar_recalc_N_5_nsteps_500_batch_num_16600.npy was saved, file shape = (11, 200, 100)\n"
     ]
    },
    {
     "name": "stderr",
     "output_type": "stream",
     "text": [
      "\r",
      " 34%|███▍      | 85/250 [1:40:59<3:16:30, 71.46s/it]"
     ]
    },
    {
     "name": "stdout",
     "output_type": "stream",
     "text": [
      "file /home/daniil/gans-mcmc/saved_numpy_arrays/sir_dcgan_cifar_recalc_N_5_nsteps_500_batch_num_16800.npy was saved, file shape = (11, 200, 100)\n"
     ]
    },
    {
     "name": "stderr",
     "output_type": "stream",
     "text": [
      "\r",
      " 34%|███▍      | 86/250 [1:42:11<3:15:20, 71.47s/it]"
     ]
    },
    {
     "name": "stdout",
     "output_type": "stream",
     "text": [
      "file /home/daniil/gans-mcmc/saved_numpy_arrays/sir_dcgan_cifar_recalc_N_5_nsteps_500_batch_num_17000.npy was saved, file shape = (11, 200, 100)\n"
     ]
    },
    {
     "name": "stderr",
     "output_type": "stream",
     "text": [
      "\r",
      " 35%|███▍      | 87/250 [1:43:22<3:14:10, 71.47s/it]"
     ]
    },
    {
     "name": "stdout",
     "output_type": "stream",
     "text": [
      "file /home/daniil/gans-mcmc/saved_numpy_arrays/sir_dcgan_cifar_recalc_N_5_nsteps_500_batch_num_17200.npy was saved, file shape = (11, 200, 100)\n"
     ]
    },
    {
     "name": "stderr",
     "output_type": "stream",
     "text": [
      "\r",
      " 35%|███▌      | 88/250 [1:44:34<3:12:57, 71.47s/it]"
     ]
    },
    {
     "name": "stdout",
     "output_type": "stream",
     "text": [
      "file /home/daniil/gans-mcmc/saved_numpy_arrays/sir_dcgan_cifar_recalc_N_5_nsteps_500_batch_num_17400.npy was saved, file shape = (11, 200, 100)\n"
     ]
    },
    {
     "name": "stderr",
     "output_type": "stream",
     "text": [
      "\r",
      " 36%|███▌      | 89/250 [1:45:45<3:11:47, 71.47s/it]"
     ]
    },
    {
     "name": "stdout",
     "output_type": "stream",
     "text": [
      "file /home/daniil/gans-mcmc/saved_numpy_arrays/sir_dcgan_cifar_recalc_N_5_nsteps_500_batch_num_17600.npy was saved, file shape = (11, 200, 100)\n"
     ]
    },
    {
     "name": "stderr",
     "output_type": "stream",
     "text": [
      "\r",
      " 36%|███▌      | 90/250 [1:46:57<3:10:34, 71.46s/it]"
     ]
    },
    {
     "name": "stdout",
     "output_type": "stream",
     "text": [
      "file /home/daniil/gans-mcmc/saved_numpy_arrays/sir_dcgan_cifar_recalc_N_5_nsteps_500_batch_num_17800.npy was saved, file shape = (11, 200, 100)\n"
     ]
    },
    {
     "name": "stderr",
     "output_type": "stream",
     "text": [
      "\r",
      " 36%|███▋      | 91/250 [1:48:08<3:09:22, 71.46s/it]"
     ]
    },
    {
     "name": "stdout",
     "output_type": "stream",
     "text": [
      "file /home/daniil/gans-mcmc/saved_numpy_arrays/sir_dcgan_cifar_recalc_N_5_nsteps_500_batch_num_18000.npy was saved, file shape = (11, 200, 100)\n"
     ]
    },
    {
     "name": "stderr",
     "output_type": "stream",
     "text": [
      "\r",
      " 37%|███▋      | 92/250 [1:49:20<3:08:11, 71.47s/it]"
     ]
    },
    {
     "name": "stdout",
     "output_type": "stream",
     "text": [
      "file /home/daniil/gans-mcmc/saved_numpy_arrays/sir_dcgan_cifar_recalc_N_5_nsteps_500_batch_num_18200.npy was saved, file shape = (11, 200, 100)\n"
     ]
    },
    {
     "name": "stderr",
     "output_type": "stream",
     "text": [
      "\r",
      " 37%|███▋      | 93/250 [1:50:31<3:07:00, 71.47s/it]"
     ]
    },
    {
     "name": "stdout",
     "output_type": "stream",
     "text": [
      "file /home/daniil/gans-mcmc/saved_numpy_arrays/sir_dcgan_cifar_recalc_N_5_nsteps_500_batch_num_18400.npy was saved, file shape = (11, 200, 100)\n"
     ]
    },
    {
     "name": "stderr",
     "output_type": "stream",
     "text": [
      "\r",
      " 38%|███▊      | 94/250 [1:51:43<3:05:50, 71.48s/it]"
     ]
    },
    {
     "name": "stdout",
     "output_type": "stream",
     "text": [
      "file /home/daniil/gans-mcmc/saved_numpy_arrays/sir_dcgan_cifar_recalc_N_5_nsteps_500_batch_num_18600.npy was saved, file shape = (11, 200, 100)\n"
     ]
    },
    {
     "name": "stderr",
     "output_type": "stream",
     "text": [
      "\r",
      " 38%|███▊      | 95/250 [1:52:54<3:04:39, 71.48s/it]"
     ]
    },
    {
     "name": "stdout",
     "output_type": "stream",
     "text": [
      "file /home/daniil/gans-mcmc/saved_numpy_arrays/sir_dcgan_cifar_recalc_N_5_nsteps_500_batch_num_18800.npy was saved, file shape = (11, 200, 100)\n"
     ]
    },
    {
     "name": "stderr",
     "output_type": "stream",
     "text": [
      "\r",
      " 38%|███▊      | 96/250 [1:54:06<3:03:26, 71.47s/it]"
     ]
    },
    {
     "name": "stdout",
     "output_type": "stream",
     "text": [
      "file /home/daniil/gans-mcmc/saved_numpy_arrays/sir_dcgan_cifar_recalc_N_5_nsteps_500_batch_num_19000.npy was saved, file shape = (11, 200, 100)\n"
     ]
    },
    {
     "name": "stderr",
     "output_type": "stream",
     "text": [
      "\r",
      " 39%|███▉      | 97/250 [1:55:17<3:02:17, 71.48s/it]"
     ]
    },
    {
     "name": "stdout",
     "output_type": "stream",
     "text": [
      "file /home/daniil/gans-mcmc/saved_numpy_arrays/sir_dcgan_cifar_recalc_N_5_nsteps_500_batch_num_19200.npy was saved, file shape = (11, 200, 100)\n"
     ]
    },
    {
     "name": "stderr",
     "output_type": "stream",
     "text": [
      "\r",
      " 39%|███▉      | 98/250 [1:56:29<3:01:04, 71.48s/it]"
     ]
    },
    {
     "name": "stdout",
     "output_type": "stream",
     "text": [
      "file /home/daniil/gans-mcmc/saved_numpy_arrays/sir_dcgan_cifar_recalc_N_5_nsteps_500_batch_num_19400.npy was saved, file shape = (11, 200, 100)\n"
     ]
    },
    {
     "name": "stderr",
     "output_type": "stream",
     "text": [
      "\r",
      " 40%|███▉      | 99/250 [1:57:40<2:59:51, 71.47s/it]"
     ]
    },
    {
     "name": "stdout",
     "output_type": "stream",
     "text": [
      "file /home/daniil/gans-mcmc/saved_numpy_arrays/sir_dcgan_cifar_recalc_N_5_nsteps_500_batch_num_19600.npy was saved, file shape = (11, 200, 100)\n"
     ]
    },
    {
     "name": "stderr",
     "output_type": "stream",
     "text": [
      "\r",
      " 40%|████      | 100/250 [1:58:52<2:58:41, 71.48s/it]"
     ]
    },
    {
     "name": "stdout",
     "output_type": "stream",
     "text": [
      "file /home/daniil/gans-mcmc/saved_numpy_arrays/sir_dcgan_cifar_recalc_N_5_nsteps_500_batch_num_19800.npy was saved, file shape = (11, 200, 100)\n"
     ]
    },
    {
     "name": "stderr",
     "output_type": "stream",
     "text": [
      "\r",
      " 40%|████      | 101/250 [2:00:03<2:57:29, 71.47s/it]"
     ]
    },
    {
     "name": "stdout",
     "output_type": "stream",
     "text": [
      "file /home/daniil/gans-mcmc/saved_numpy_arrays/sir_dcgan_cifar_recalc_N_5_nsteps_500_batch_num_20000.npy was saved, file shape = (11, 200, 100)\n"
     ]
    },
    {
     "name": "stderr",
     "output_type": "stream",
     "text": [
      "\r",
      " 41%|████      | 102/250 [2:01:15<2:56:17, 71.47s/it]"
     ]
    },
    {
     "name": "stdout",
     "output_type": "stream",
     "text": [
      "file /home/daniil/gans-mcmc/saved_numpy_arrays/sir_dcgan_cifar_recalc_N_5_nsteps_500_batch_num_20200.npy was saved, file shape = (11, 200, 100)\n"
     ]
    },
    {
     "name": "stderr",
     "output_type": "stream",
     "text": [
      "\r",
      " 41%|████      | 103/250 [2:02:26<2:55:03, 71.45s/it]"
     ]
    },
    {
     "name": "stdout",
     "output_type": "stream",
     "text": [
      "file /home/daniil/gans-mcmc/saved_numpy_arrays/sir_dcgan_cifar_recalc_N_5_nsteps_500_batch_num_20400.npy was saved, file shape = (11, 200, 100)\n"
     ]
    },
    {
     "name": "stderr",
     "output_type": "stream",
     "text": [
      "\r",
      " 42%|████▏     | 104/250 [2:03:37<2:53:50, 71.44s/it]"
     ]
    },
    {
     "name": "stdout",
     "output_type": "stream",
     "text": [
      "file /home/daniil/gans-mcmc/saved_numpy_arrays/sir_dcgan_cifar_recalc_N_5_nsteps_500_batch_num_20600.npy was saved, file shape = (11, 200, 100)\n"
     ]
    },
    {
     "name": "stderr",
     "output_type": "stream",
     "text": [
      "\r",
      " 42%|████▏     | 105/250 [2:04:49<2:52:39, 71.45s/it]"
     ]
    },
    {
     "name": "stdout",
     "output_type": "stream",
     "text": [
      "file /home/daniil/gans-mcmc/saved_numpy_arrays/sir_dcgan_cifar_recalc_N_5_nsteps_500_batch_num_20800.npy was saved, file shape = (11, 200, 100)\n"
     ]
    },
    {
     "name": "stderr",
     "output_type": "stream",
     "text": [
      "\r",
      " 42%|████▏     | 106/250 [2:06:00<2:51:29, 71.45s/it]"
     ]
    },
    {
     "name": "stdout",
     "output_type": "stream",
     "text": [
      "file /home/daniil/gans-mcmc/saved_numpy_arrays/sir_dcgan_cifar_recalc_N_5_nsteps_500_batch_num_21000.npy was saved, file shape = (11, 200, 100)\n"
     ]
    },
    {
     "name": "stderr",
     "output_type": "stream",
     "text": [
      "\r",
      " 43%|████▎     | 107/250 [2:07:12<2:50:17, 71.45s/it]"
     ]
    },
    {
     "name": "stdout",
     "output_type": "stream",
     "text": [
      "file /home/daniil/gans-mcmc/saved_numpy_arrays/sir_dcgan_cifar_recalc_N_5_nsteps_500_batch_num_21200.npy was saved, file shape = (11, 200, 100)\n"
     ]
    },
    {
     "name": "stderr",
     "output_type": "stream",
     "text": [
      "\r",
      " 43%|████▎     | 108/250 [2:08:23<2:49:06, 71.46s/it]"
     ]
    },
    {
     "name": "stdout",
     "output_type": "stream",
     "text": [
      "file /home/daniil/gans-mcmc/saved_numpy_arrays/sir_dcgan_cifar_recalc_N_5_nsteps_500_batch_num_21400.npy was saved, file shape = (11, 200, 100)\n"
     ]
    },
    {
     "name": "stderr",
     "output_type": "stream",
     "text": [
      "\r",
      " 44%|████▎     | 109/250 [2:09:35<2:47:54, 71.45s/it]"
     ]
    },
    {
     "name": "stdout",
     "output_type": "stream",
     "text": [
      "file /home/daniil/gans-mcmc/saved_numpy_arrays/sir_dcgan_cifar_recalc_N_5_nsteps_500_batch_num_21600.npy was saved, file shape = (11, 200, 100)\n"
     ]
    },
    {
     "name": "stderr",
     "output_type": "stream",
     "text": [
      "\r",
      " 44%|████▍     | 110/250 [2:10:46<2:46:44, 71.46s/it]"
     ]
    },
    {
     "name": "stdout",
     "output_type": "stream",
     "text": [
      "file /home/daniil/gans-mcmc/saved_numpy_arrays/sir_dcgan_cifar_recalc_N_5_nsteps_500_batch_num_21800.npy was saved, file shape = (11, 200, 100)\n"
     ]
    },
    {
     "name": "stderr",
     "output_type": "stream",
     "text": [
      "\r",
      " 44%|████▍     | 111/250 [2:11:58<2:45:31, 71.45s/it]"
     ]
    },
    {
     "name": "stdout",
     "output_type": "stream",
     "text": [
      "file /home/daniil/gans-mcmc/saved_numpy_arrays/sir_dcgan_cifar_recalc_N_5_nsteps_500_batch_num_22000.npy was saved, file shape = (11, 200, 100)\n"
     ]
    },
    {
     "name": "stderr",
     "output_type": "stream",
     "text": [
      "\r",
      " 45%|████▍     | 112/250 [2:13:09<2:44:21, 71.46s/it]"
     ]
    },
    {
     "name": "stdout",
     "output_type": "stream",
     "text": [
      "file /home/daniil/gans-mcmc/saved_numpy_arrays/sir_dcgan_cifar_recalc_N_5_nsteps_500_batch_num_22200.npy was saved, file shape = (11, 200, 100)\n"
     ]
    },
    {
     "name": "stderr",
     "output_type": "stream",
     "text": [
      "\r",
      " 45%|████▌     | 113/250 [2:14:20<2:43:08, 71.45s/it]"
     ]
    },
    {
     "name": "stdout",
     "output_type": "stream",
     "text": [
      "file /home/daniil/gans-mcmc/saved_numpy_arrays/sir_dcgan_cifar_recalc_N_5_nsteps_500_batch_num_22400.npy was saved, file shape = (11, 200, 100)\n"
     ]
    },
    {
     "name": "stderr",
     "output_type": "stream",
     "text": [
      "\r",
      " 46%|████▌     | 114/250 [2:15:32<2:41:56, 71.44s/it]"
     ]
    },
    {
     "name": "stdout",
     "output_type": "stream",
     "text": [
      "file /home/daniil/gans-mcmc/saved_numpy_arrays/sir_dcgan_cifar_recalc_N_5_nsteps_500_batch_num_22600.npy was saved, file shape = (11, 200, 100)\n"
     ]
    },
    {
     "name": "stderr",
     "output_type": "stream",
     "text": [
      "\r",
      " 46%|████▌     | 115/250 [2:16:43<2:40:44, 71.44s/it]"
     ]
    },
    {
     "name": "stdout",
     "output_type": "stream",
     "text": [
      "file /home/daniil/gans-mcmc/saved_numpy_arrays/sir_dcgan_cifar_recalc_N_5_nsteps_500_batch_num_22800.npy was saved, file shape = (11, 200, 100)\n"
     ]
    },
    {
     "name": "stderr",
     "output_type": "stream",
     "text": [
      "\r",
      " 46%|████▋     | 116/250 [2:17:55<2:39:32, 71.44s/it]"
     ]
    },
    {
     "name": "stdout",
     "output_type": "stream",
     "text": [
      "file /home/daniil/gans-mcmc/saved_numpy_arrays/sir_dcgan_cifar_recalc_N_5_nsteps_500_batch_num_23000.npy was saved, file shape = (11, 200, 100)\n"
     ]
    },
    {
     "name": "stderr",
     "output_type": "stream",
     "text": [
      "\r",
      " 47%|████▋     | 117/250 [2:19:06<2:38:21, 71.44s/it]"
     ]
    },
    {
     "name": "stdout",
     "output_type": "stream",
     "text": [
      "file /home/daniil/gans-mcmc/saved_numpy_arrays/sir_dcgan_cifar_recalc_N_5_nsteps_500_batch_num_23200.npy was saved, file shape = (11, 200, 100)\n"
     ]
    },
    {
     "name": "stderr",
     "output_type": "stream",
     "text": [
      "\r",
      " 47%|████▋     | 118/250 [2:20:18<2:37:10, 71.44s/it]"
     ]
    },
    {
     "name": "stdout",
     "output_type": "stream",
     "text": [
      "file /home/daniil/gans-mcmc/saved_numpy_arrays/sir_dcgan_cifar_recalc_N_5_nsteps_500_batch_num_23400.npy was saved, file shape = (11, 200, 100)\n"
     ]
    },
    {
     "name": "stderr",
     "output_type": "stream",
     "text": [
      "\r",
      " 48%|████▊     | 119/250 [2:21:29<2:35:58, 71.44s/it]"
     ]
    },
    {
     "name": "stdout",
     "output_type": "stream",
     "text": [
      "file /home/daniil/gans-mcmc/saved_numpy_arrays/sir_dcgan_cifar_recalc_N_5_nsteps_500_batch_num_23600.npy was saved, file shape = (11, 200, 100)\n"
     ]
    },
    {
     "name": "stderr",
     "output_type": "stream",
     "text": [
      "\r",
      " 48%|████▊     | 120/250 [2:22:40<2:34:46, 71.44s/it]"
     ]
    },
    {
     "name": "stdout",
     "output_type": "stream",
     "text": [
      "file /home/daniil/gans-mcmc/saved_numpy_arrays/sir_dcgan_cifar_recalc_N_5_nsteps_500_batch_num_23800.npy was saved, file shape = (11, 200, 100)\n"
     ]
    },
    {
     "name": "stderr",
     "output_type": "stream",
     "text": [
      "\r",
      " 48%|████▊     | 121/250 [2:23:52<2:33:35, 71.44s/it]"
     ]
    },
    {
     "name": "stdout",
     "output_type": "stream",
     "text": [
      "file /home/daniil/gans-mcmc/saved_numpy_arrays/sir_dcgan_cifar_recalc_N_5_nsteps_500_batch_num_24000.npy was saved, file shape = (11, 200, 100)\n"
     ]
    },
    {
     "name": "stderr",
     "output_type": "stream",
     "text": [
      "\r",
      " 49%|████▉     | 122/250 [2:25:03<2:32:22, 71.43s/it]"
     ]
    },
    {
     "name": "stdout",
     "output_type": "stream",
     "text": [
      "file /home/daniil/gans-mcmc/saved_numpy_arrays/sir_dcgan_cifar_recalc_N_5_nsteps_500_batch_num_24200.npy was saved, file shape = (11, 200, 100)\n"
     ]
    },
    {
     "name": "stderr",
     "output_type": "stream",
     "text": [
      "\r",
      " 49%|████▉     | 123/250 [2:26:15<2:31:11, 71.43s/it]"
     ]
    },
    {
     "name": "stdout",
     "output_type": "stream",
     "text": [
      "file /home/daniil/gans-mcmc/saved_numpy_arrays/sir_dcgan_cifar_recalc_N_5_nsteps_500_batch_num_24400.npy was saved, file shape = (11, 200, 100)\n"
     ]
    },
    {
     "name": "stderr",
     "output_type": "stream",
     "text": [
      "\r",
      " 50%|████▉     | 124/250 [2:27:26<2:30:00, 71.43s/it]"
     ]
    },
    {
     "name": "stdout",
     "output_type": "stream",
     "text": [
      "file /home/daniil/gans-mcmc/saved_numpy_arrays/sir_dcgan_cifar_recalc_N_5_nsteps_500_batch_num_24600.npy was saved, file shape = (11, 200, 100)\n"
     ]
    },
    {
     "name": "stderr",
     "output_type": "stream",
     "text": [
      "\r",
      " 50%|█████     | 125/250 [2:28:38<2:28:48, 71.43s/it]"
     ]
    },
    {
     "name": "stdout",
     "output_type": "stream",
     "text": [
      "file /home/daniil/gans-mcmc/saved_numpy_arrays/sir_dcgan_cifar_recalc_N_5_nsteps_500_batch_num_24800.npy was saved, file shape = (11, 200, 100)\n"
     ]
    },
    {
     "name": "stderr",
     "output_type": "stream",
     "text": [
      "\r",
      " 50%|█████     | 126/250 [2:29:49<2:27:36, 71.42s/it]"
     ]
    },
    {
     "name": "stdout",
     "output_type": "stream",
     "text": [
      "file /home/daniil/gans-mcmc/saved_numpy_arrays/sir_dcgan_cifar_recalc_N_5_nsteps_500_batch_num_25000.npy was saved, file shape = (11, 200, 100)\n"
     ]
    },
    {
     "name": "stderr",
     "output_type": "stream",
     "text": [
      "\r",
      " 51%|█████     | 127/250 [2:31:00<2:26:25, 71.43s/it]"
     ]
    },
    {
     "name": "stdout",
     "output_type": "stream",
     "text": [
      "file /home/daniil/gans-mcmc/saved_numpy_arrays/sir_dcgan_cifar_recalc_N_5_nsteps_500_batch_num_25200.npy was saved, file shape = (11, 200, 100)\n"
     ]
    },
    {
     "name": "stderr",
     "output_type": "stream",
     "text": [
      "\r",
      " 51%|█████     | 128/250 [2:32:12<2:25:13, 71.43s/it]"
     ]
    },
    {
     "name": "stdout",
     "output_type": "stream",
     "text": [
      "file /home/daniil/gans-mcmc/saved_numpy_arrays/sir_dcgan_cifar_recalc_N_5_nsteps_500_batch_num_25400.npy was saved, file shape = (11, 200, 100)\n"
     ]
    },
    {
     "name": "stderr",
     "output_type": "stream",
     "text": [
      "\r",
      " 52%|█████▏    | 129/250 [2:33:23<2:24:03, 71.43s/it]"
     ]
    },
    {
     "name": "stdout",
     "output_type": "stream",
     "text": [
      "file /home/daniil/gans-mcmc/saved_numpy_arrays/sir_dcgan_cifar_recalc_N_5_nsteps_500_batch_num_25600.npy was saved, file shape = (11, 200, 100)\n"
     ]
    },
    {
     "name": "stderr",
     "output_type": "stream",
     "text": [
      "\r",
      " 52%|█████▏    | 130/250 [2:34:35<2:22:52, 71.44s/it]"
     ]
    },
    {
     "name": "stdout",
     "output_type": "stream",
     "text": [
      "file /home/daniil/gans-mcmc/saved_numpy_arrays/sir_dcgan_cifar_recalc_N_5_nsteps_500_batch_num_25800.npy was saved, file shape = (11, 200, 100)\n"
     ]
    },
    {
     "name": "stderr",
     "output_type": "stream",
     "text": [
      "\r",
      " 52%|█████▏    | 131/250 [2:35:46<2:21:42, 71.45s/it]"
     ]
    },
    {
     "name": "stdout",
     "output_type": "stream",
     "text": [
      "file /home/daniil/gans-mcmc/saved_numpy_arrays/sir_dcgan_cifar_recalc_N_5_nsteps_500_batch_num_26000.npy was saved, file shape = (11, 200, 100)\n"
     ]
    },
    {
     "name": "stderr",
     "output_type": "stream",
     "text": [
      "\r",
      " 53%|█████▎    | 132/250 [2:36:58<2:20:29, 71.44s/it]"
     ]
    },
    {
     "name": "stdout",
     "output_type": "stream",
     "text": [
      "file /home/daniil/gans-mcmc/saved_numpy_arrays/sir_dcgan_cifar_recalc_N_5_nsteps_500_batch_num_26200.npy was saved, file shape = (11, 200, 100)\n"
     ]
    },
    {
     "name": "stderr",
     "output_type": "stream",
     "text": [
      "\r",
      " 53%|█████▎    | 133/250 [2:38:09<2:19:18, 71.44s/it]"
     ]
    },
    {
     "name": "stdout",
     "output_type": "stream",
     "text": [
      "file /home/daniil/gans-mcmc/saved_numpy_arrays/sir_dcgan_cifar_recalc_N_5_nsteps_500_batch_num_26400.npy was saved, file shape = (11, 200, 100)\n"
     ]
    },
    {
     "name": "stderr",
     "output_type": "stream",
     "text": [
      "\r",
      " 54%|█████▎    | 134/250 [2:39:21<2:18:06, 71.43s/it]"
     ]
    },
    {
     "name": "stdout",
     "output_type": "stream",
     "text": [
      "file /home/daniil/gans-mcmc/saved_numpy_arrays/sir_dcgan_cifar_recalc_N_5_nsteps_500_batch_num_26600.npy was saved, file shape = (11, 200, 100)\n"
     ]
    },
    {
     "name": "stderr",
     "output_type": "stream",
     "text": [
      "\r",
      " 54%|█████▍    | 135/250 [2:40:32<2:16:54, 71.43s/it]"
     ]
    },
    {
     "name": "stdout",
     "output_type": "stream",
     "text": [
      "file /home/daniil/gans-mcmc/saved_numpy_arrays/sir_dcgan_cifar_recalc_N_5_nsteps_500_batch_num_26800.npy was saved, file shape = (11, 200, 100)\n"
     ]
    },
    {
     "name": "stderr",
     "output_type": "stream",
     "text": [
      "\r",
      " 54%|█████▍    | 136/250 [2:41:43<2:15:42, 71.43s/it]"
     ]
    },
    {
     "name": "stdout",
     "output_type": "stream",
     "text": [
      "file /home/daniil/gans-mcmc/saved_numpy_arrays/sir_dcgan_cifar_recalc_N_5_nsteps_500_batch_num_27000.npy was saved, file shape = (11, 200, 100)\n"
     ]
    },
    {
     "name": "stderr",
     "output_type": "stream",
     "text": [
      "\r",
      " 55%|█████▍    | 137/250 [2:42:55<2:14:31, 71.43s/it]"
     ]
    },
    {
     "name": "stdout",
     "output_type": "stream",
     "text": [
      "file /home/daniil/gans-mcmc/saved_numpy_arrays/sir_dcgan_cifar_recalc_N_5_nsteps_500_batch_num_27200.npy was saved, file shape = (11, 200, 100)\n"
     ]
    },
    {
     "name": "stderr",
     "output_type": "stream",
     "text": [
      "\r",
      " 55%|█████▌    | 138/250 [2:44:06<2:13:20, 71.43s/it]"
     ]
    },
    {
     "name": "stdout",
     "output_type": "stream",
     "text": [
      "file /home/daniil/gans-mcmc/saved_numpy_arrays/sir_dcgan_cifar_recalc_N_5_nsteps_500_batch_num_27400.npy was saved, file shape = (11, 200, 100)\n"
     ]
    },
    {
     "name": "stderr",
     "output_type": "stream",
     "text": [
      "\r",
      " 56%|█████▌    | 139/250 [2:45:18<2:12:10, 71.45s/it]"
     ]
    },
    {
     "name": "stdout",
     "output_type": "stream",
     "text": [
      "file /home/daniil/gans-mcmc/saved_numpy_arrays/sir_dcgan_cifar_recalc_N_5_nsteps_500_batch_num_27600.npy was saved, file shape = (11, 200, 100)\n"
     ]
    },
    {
     "name": "stderr",
     "output_type": "stream",
     "text": [
      "\r",
      " 56%|█████▌    | 140/250 [2:46:29<2:11:01, 71.46s/it]"
     ]
    },
    {
     "name": "stdout",
     "output_type": "stream",
     "text": [
      "file /home/daniil/gans-mcmc/saved_numpy_arrays/sir_dcgan_cifar_recalc_N_5_nsteps_500_batch_num_27800.npy was saved, file shape = (11, 200, 100)\n"
     ]
    },
    {
     "name": "stderr",
     "output_type": "stream",
     "text": [
      "\r",
      " 56%|█████▋    | 141/250 [2:47:41<2:09:48, 71.46s/it]"
     ]
    },
    {
     "name": "stdout",
     "output_type": "stream",
     "text": [
      "file /home/daniil/gans-mcmc/saved_numpy_arrays/sir_dcgan_cifar_recalc_N_5_nsteps_500_batch_num_28000.npy was saved, file shape = (11, 200, 100)\n"
     ]
    },
    {
     "name": "stderr",
     "output_type": "stream",
     "text": [
      "\r",
      " 57%|█████▋    | 142/250 [2:48:52<2:08:38, 71.47s/it]"
     ]
    },
    {
     "name": "stdout",
     "output_type": "stream",
     "text": [
      "file /home/daniil/gans-mcmc/saved_numpy_arrays/sir_dcgan_cifar_recalc_N_5_nsteps_500_batch_num_28200.npy was saved, file shape = (11, 200, 100)\n"
     ]
    },
    {
     "name": "stderr",
     "output_type": "stream",
     "text": [
      "\r",
      " 57%|█████▋    | 143/250 [2:50:04<2:07:26, 71.46s/it]"
     ]
    },
    {
     "name": "stdout",
     "output_type": "stream",
     "text": [
      "file /home/daniil/gans-mcmc/saved_numpy_arrays/sir_dcgan_cifar_recalc_N_5_nsteps_500_batch_num_28400.npy was saved, file shape = (11, 200, 100)\n"
     ]
    },
    {
     "name": "stderr",
     "output_type": "stream",
     "text": [
      "\r",
      " 58%|█████▊    | 144/250 [2:51:15<2:06:15, 71.47s/it]"
     ]
    },
    {
     "name": "stdout",
     "output_type": "stream",
     "text": [
      "file /home/daniil/gans-mcmc/saved_numpy_arrays/sir_dcgan_cifar_recalc_N_5_nsteps_500_batch_num_28600.npy was saved, file shape = (11, 200, 100)\n"
     ]
    },
    {
     "name": "stderr",
     "output_type": "stream",
     "text": [
      "\r",
      " 58%|█████▊    | 145/250 [2:52:27<2:05:05, 71.48s/it]"
     ]
    },
    {
     "name": "stdout",
     "output_type": "stream",
     "text": [
      "file /home/daniil/gans-mcmc/saved_numpy_arrays/sir_dcgan_cifar_recalc_N_5_nsteps_500_batch_num_28800.npy was saved, file shape = (11, 200, 100)\n"
     ]
    },
    {
     "name": "stderr",
     "output_type": "stream",
     "text": [
      "\r",
      " 58%|█████▊    | 146/250 [2:53:38<2:03:52, 71.46s/it]"
     ]
    },
    {
     "name": "stdout",
     "output_type": "stream",
     "text": [
      "file /home/daniil/gans-mcmc/saved_numpy_arrays/sir_dcgan_cifar_recalc_N_5_nsteps_500_batch_num_29000.npy was saved, file shape = (11, 200, 100)\n"
     ]
    },
    {
     "name": "stderr",
     "output_type": "stream",
     "text": [
      "\r",
      " 59%|█████▉    | 147/250 [2:54:50<2:02:40, 71.46s/it]"
     ]
    },
    {
     "name": "stdout",
     "output_type": "stream",
     "text": [
      "file /home/daniil/gans-mcmc/saved_numpy_arrays/sir_dcgan_cifar_recalc_N_5_nsteps_500_batch_num_29200.npy was saved, file shape = (11, 200, 100)\n"
     ]
    },
    {
     "name": "stderr",
     "output_type": "stream",
     "text": [
      "\r",
      " 59%|█████▉    | 148/250 [2:56:01<2:01:28, 71.46s/it]"
     ]
    },
    {
     "name": "stdout",
     "output_type": "stream",
     "text": [
      "file /home/daniil/gans-mcmc/saved_numpy_arrays/sir_dcgan_cifar_recalc_N_5_nsteps_500_batch_num_29400.npy was saved, file shape = (11, 200, 100)\n"
     ]
    },
    {
     "name": "stderr",
     "output_type": "stream",
     "text": [
      "\r",
      " 60%|█████▉    | 149/250 [2:57:12<2:00:15, 71.44s/it]"
     ]
    },
    {
     "name": "stdout",
     "output_type": "stream",
     "text": [
      "file /home/daniil/gans-mcmc/saved_numpy_arrays/sir_dcgan_cifar_recalc_N_5_nsteps_500_batch_num_29600.npy was saved, file shape = (11, 200, 100)\n"
     ]
    },
    {
     "name": "stderr",
     "output_type": "stream",
     "text": [
      "\r",
      " 60%|██████    | 150/250 [2:58:24<1:59:04, 71.44s/it]"
     ]
    },
    {
     "name": "stdout",
     "output_type": "stream",
     "text": [
      "file /home/daniil/gans-mcmc/saved_numpy_arrays/sir_dcgan_cifar_recalc_N_5_nsteps_500_batch_num_29800.npy was saved, file shape = (11, 200, 100)\n"
     ]
    },
    {
     "name": "stderr",
     "output_type": "stream",
     "text": [
      "\r",
      " 60%|██████    | 151/250 [2:59:35<1:57:51, 71.43s/it]"
     ]
    },
    {
     "name": "stdout",
     "output_type": "stream",
     "text": [
      "file /home/daniil/gans-mcmc/saved_numpy_arrays/sir_dcgan_cifar_recalc_N_5_nsteps_500_batch_num_30000.npy was saved, file shape = (11, 200, 100)\n"
     ]
    },
    {
     "name": "stderr",
     "output_type": "stream",
     "text": [
      "\r",
      " 61%|██████    | 152/250 [3:00:47<1:56:41, 71.45s/it]"
     ]
    },
    {
     "name": "stdout",
     "output_type": "stream",
     "text": [
      "file /home/daniil/gans-mcmc/saved_numpy_arrays/sir_dcgan_cifar_recalc_N_5_nsteps_500_batch_num_30200.npy was saved, file shape = (11, 200, 100)\n"
     ]
    },
    {
     "name": "stderr",
     "output_type": "stream",
     "text": [
      "\r",
      " 61%|██████    | 153/250 [3:01:58<1:55:29, 71.44s/it]"
     ]
    },
    {
     "name": "stdout",
     "output_type": "stream",
     "text": [
      "file /home/daniil/gans-mcmc/saved_numpy_arrays/sir_dcgan_cifar_recalc_N_5_nsteps_500_batch_num_30400.npy was saved, file shape = (11, 200, 100)\n"
     ]
    },
    {
     "name": "stderr",
     "output_type": "stream",
     "text": [
      "\r",
      " 62%|██████▏   | 154/250 [3:03:10<1:54:19, 71.45s/it]"
     ]
    },
    {
     "name": "stdout",
     "output_type": "stream",
     "text": [
      "file /home/daniil/gans-mcmc/saved_numpy_arrays/sir_dcgan_cifar_recalc_N_5_nsteps_500_batch_num_30600.npy was saved, file shape = (11, 200, 100)\n"
     ]
    },
    {
     "name": "stderr",
     "output_type": "stream",
     "text": [
      "\r",
      " 62%|██████▏   | 155/250 [3:04:21<1:53:07, 71.45s/it]"
     ]
    },
    {
     "name": "stdout",
     "output_type": "stream",
     "text": [
      "file /home/daniil/gans-mcmc/saved_numpy_arrays/sir_dcgan_cifar_recalc_N_5_nsteps_500_batch_num_30800.npy was saved, file shape = (11, 200, 100)\n"
     ]
    },
    {
     "name": "stderr",
     "output_type": "stream",
     "text": [
      "\r",
      " 62%|██████▏   | 156/250 [3:05:33<1:51:57, 71.47s/it]"
     ]
    },
    {
     "name": "stdout",
     "output_type": "stream",
     "text": [
      "file /home/daniil/gans-mcmc/saved_numpy_arrays/sir_dcgan_cifar_recalc_N_5_nsteps_500_batch_num_31000.npy was saved, file shape = (11, 200, 100)\n"
     ]
    },
    {
     "name": "stderr",
     "output_type": "stream",
     "text": [
      "\r",
      " 63%|██████▎   | 157/250 [3:06:44<1:50:45, 71.46s/it]"
     ]
    },
    {
     "name": "stdout",
     "output_type": "stream",
     "text": [
      "file /home/daniil/gans-mcmc/saved_numpy_arrays/sir_dcgan_cifar_recalc_N_5_nsteps_500_batch_num_31200.npy was saved, file shape = (11, 200, 100)\n"
     ]
    },
    {
     "name": "stderr",
     "output_type": "stream",
     "text": [
      "\r",
      " 63%|██████▎   | 158/250 [3:07:55<1:49:34, 71.46s/it]"
     ]
    },
    {
     "name": "stdout",
     "output_type": "stream",
     "text": [
      "file /home/daniil/gans-mcmc/saved_numpy_arrays/sir_dcgan_cifar_recalc_N_5_nsteps_500_batch_num_31400.npy was saved, file shape = (11, 200, 100)\n"
     ]
    },
    {
     "name": "stderr",
     "output_type": "stream",
     "text": [
      "\r",
      " 64%|██████▎   | 159/250 [3:09:07<1:48:23, 71.47s/it]"
     ]
    },
    {
     "name": "stdout",
     "output_type": "stream",
     "text": [
      "file /home/daniil/gans-mcmc/saved_numpy_arrays/sir_dcgan_cifar_recalc_N_5_nsteps_500_batch_num_31600.npy was saved, file shape = (11, 200, 100)\n"
     ]
    },
    {
     "name": "stderr",
     "output_type": "stream",
     "text": [
      "\r",
      " 64%|██████▍   | 160/250 [3:10:18<1:47:11, 71.47s/it]"
     ]
    },
    {
     "name": "stdout",
     "output_type": "stream",
     "text": [
      "file /home/daniil/gans-mcmc/saved_numpy_arrays/sir_dcgan_cifar_recalc_N_5_nsteps_500_batch_num_31800.npy was saved, file shape = (11, 200, 100)\n"
     ]
    },
    {
     "name": "stderr",
     "output_type": "stream",
     "text": [
      "\r",
      " 64%|██████▍   | 161/250 [3:11:30<1:45:59, 71.46s/it]"
     ]
    },
    {
     "name": "stdout",
     "output_type": "stream",
     "text": [
      "file /home/daniil/gans-mcmc/saved_numpy_arrays/sir_dcgan_cifar_recalc_N_5_nsteps_500_batch_num_32000.npy was saved, file shape = (11, 200, 100)\n"
     ]
    },
    {
     "name": "stderr",
     "output_type": "stream",
     "text": [
      "\r",
      " 65%|██████▍   | 162/250 [3:12:41<1:44:48, 71.46s/it]"
     ]
    },
    {
     "name": "stdout",
     "output_type": "stream",
     "text": [
      "file /home/daniil/gans-mcmc/saved_numpy_arrays/sir_dcgan_cifar_recalc_N_5_nsteps_500_batch_num_32200.npy was saved, file shape = (11, 200, 100)\n"
     ]
    },
    {
     "name": "stderr",
     "output_type": "stream",
     "text": [
      "\r",
      " 65%|██████▌   | 163/250 [3:13:53<1:43:37, 71.47s/it]"
     ]
    },
    {
     "name": "stdout",
     "output_type": "stream",
     "text": [
      "file /home/daniil/gans-mcmc/saved_numpy_arrays/sir_dcgan_cifar_recalc_N_5_nsteps_500_batch_num_32400.npy was saved, file shape = (11, 200, 100)\n"
     ]
    },
    {
     "name": "stderr",
     "output_type": "stream",
     "text": [
      "\r",
      " 66%|██████▌   | 164/250 [3:15:04<1:42:26, 71.48s/it]"
     ]
    },
    {
     "name": "stdout",
     "output_type": "stream",
     "text": [
      "file /home/daniil/gans-mcmc/saved_numpy_arrays/sir_dcgan_cifar_recalc_N_5_nsteps_500_batch_num_32600.npy was saved, file shape = (11, 200, 100)\n"
     ]
    },
    {
     "name": "stderr",
     "output_type": "stream",
     "text": [
      "\r",
      " 66%|██████▌   | 165/250 [3:16:16<1:41:14, 71.47s/it]"
     ]
    },
    {
     "name": "stdout",
     "output_type": "stream",
     "text": [
      "file /home/daniil/gans-mcmc/saved_numpy_arrays/sir_dcgan_cifar_recalc_N_5_nsteps_500_batch_num_32800.npy was saved, file shape = (11, 200, 100)\n"
     ]
    },
    {
     "name": "stderr",
     "output_type": "stream",
     "text": [
      "\r",
      " 66%|██████▋   | 166/250 [3:17:27<1:40:03, 71.47s/it]"
     ]
    },
    {
     "name": "stdout",
     "output_type": "stream",
     "text": [
      "file /home/daniil/gans-mcmc/saved_numpy_arrays/sir_dcgan_cifar_recalc_N_5_nsteps_500_batch_num_33000.npy was saved, file shape = (11, 200, 100)\n"
     ]
    },
    {
     "name": "stderr",
     "output_type": "stream",
     "text": [
      "\r",
      " 67%|██████▋   | 167/250 [3:18:39<1:38:52, 71.47s/it]"
     ]
    },
    {
     "name": "stdout",
     "output_type": "stream",
     "text": [
      "file /home/daniil/gans-mcmc/saved_numpy_arrays/sir_dcgan_cifar_recalc_N_5_nsteps_500_batch_num_33200.npy was saved, file shape = (11, 200, 100)\n"
     ]
    },
    {
     "name": "stderr",
     "output_type": "stream",
     "text": [
      "\r",
      " 67%|██████▋   | 168/250 [3:19:50<1:37:39, 71.46s/it]"
     ]
    },
    {
     "name": "stdout",
     "output_type": "stream",
     "text": [
      "file /home/daniil/gans-mcmc/saved_numpy_arrays/sir_dcgan_cifar_recalc_N_5_nsteps_500_batch_num_33400.npy was saved, file shape = (11, 200, 100)\n"
     ]
    },
    {
     "name": "stderr",
     "output_type": "stream",
     "text": [
      "\r",
      " 68%|██████▊   | 169/250 [3:21:02<1:36:28, 71.46s/it]"
     ]
    },
    {
     "name": "stdout",
     "output_type": "stream",
     "text": [
      "file /home/daniil/gans-mcmc/saved_numpy_arrays/sir_dcgan_cifar_recalc_N_5_nsteps_500_batch_num_33600.npy was saved, file shape = (11, 200, 100)\n"
     ]
    },
    {
     "name": "stderr",
     "output_type": "stream",
     "text": [
      "\r",
      " 68%|██████▊   | 170/250 [3:22:13<1:35:16, 71.46s/it]"
     ]
    },
    {
     "name": "stdout",
     "output_type": "stream",
     "text": [
      "file /home/daniil/gans-mcmc/saved_numpy_arrays/sir_dcgan_cifar_recalc_N_5_nsteps_500_batch_num_33800.npy was saved, file shape = (11, 200, 100)\n"
     ]
    },
    {
     "name": "stderr",
     "output_type": "stream",
     "text": [
      "\r",
      " 68%|██████▊   | 171/250 [3:23:25<1:34:05, 71.47s/it]"
     ]
    },
    {
     "name": "stdout",
     "output_type": "stream",
     "text": [
      "file /home/daniil/gans-mcmc/saved_numpy_arrays/sir_dcgan_cifar_recalc_N_5_nsteps_500_batch_num_34000.npy was saved, file shape = (11, 200, 100)\n"
     ]
    },
    {
     "name": "stderr",
     "output_type": "stream",
     "text": [
      "\r",
      " 69%|██████▉   | 172/250 [3:24:36<1:32:56, 71.49s/it]"
     ]
    },
    {
     "name": "stdout",
     "output_type": "stream",
     "text": [
      "file /home/daniil/gans-mcmc/saved_numpy_arrays/sir_dcgan_cifar_recalc_N_5_nsteps_500_batch_num_34200.npy was saved, file shape = (11, 200, 100)\n"
     ]
    },
    {
     "name": "stderr",
     "output_type": "stream",
     "text": [
      "\r",
      " 69%|██████▉   | 173/250 [3:25:48<1:31:43, 71.48s/it]"
     ]
    },
    {
     "name": "stdout",
     "output_type": "stream",
     "text": [
      "file /home/daniil/gans-mcmc/saved_numpy_arrays/sir_dcgan_cifar_recalc_N_5_nsteps_500_batch_num_34400.npy was saved, file shape = (11, 200, 100)\n"
     ]
    },
    {
     "name": "stderr",
     "output_type": "stream",
     "text": [
      "\r",
      " 70%|██████▉   | 174/250 [3:26:59<1:30:32, 71.48s/it]"
     ]
    },
    {
     "name": "stdout",
     "output_type": "stream",
     "text": [
      "file /home/daniil/gans-mcmc/saved_numpy_arrays/sir_dcgan_cifar_recalc_N_5_nsteps_500_batch_num_34600.npy was saved, file shape = (11, 200, 100)\n"
     ]
    },
    {
     "name": "stderr",
     "output_type": "stream",
     "text": [
      "\r",
      " 70%|███████   | 175/250 [3:28:10<1:29:20, 71.47s/it]"
     ]
    },
    {
     "name": "stdout",
     "output_type": "stream",
     "text": [
      "file /home/daniil/gans-mcmc/saved_numpy_arrays/sir_dcgan_cifar_recalc_N_5_nsteps_500_batch_num_34800.npy was saved, file shape = (11, 200, 100)\n"
     ]
    },
    {
     "name": "stderr",
     "output_type": "stream",
     "text": [
      "\r",
      " 70%|███████   | 176/250 [3:29:22<1:28:09, 71.48s/it]"
     ]
    },
    {
     "name": "stdout",
     "output_type": "stream",
     "text": [
      "file /home/daniil/gans-mcmc/saved_numpy_arrays/sir_dcgan_cifar_recalc_N_5_nsteps_500_batch_num_35000.npy was saved, file shape = (11, 200, 100)\n"
     ]
    },
    {
     "name": "stderr",
     "output_type": "stream",
     "text": [
      "\r",
      " 71%|███████   | 177/250 [3:30:33<1:26:58, 71.48s/it]"
     ]
    },
    {
     "name": "stdout",
     "output_type": "stream",
     "text": [
      "file /home/daniil/gans-mcmc/saved_numpy_arrays/sir_dcgan_cifar_recalc_N_5_nsteps_500_batch_num_35200.npy was saved, file shape = (11, 200, 100)\n"
     ]
    },
    {
     "name": "stderr",
     "output_type": "stream",
     "text": [
      "\r",
      " 71%|███████   | 178/250 [3:31:45<1:25:46, 71.49s/it]"
     ]
    },
    {
     "name": "stdout",
     "output_type": "stream",
     "text": [
      "file /home/daniil/gans-mcmc/saved_numpy_arrays/sir_dcgan_cifar_recalc_N_5_nsteps_500_batch_num_35400.npy was saved, file shape = (11, 200, 100)\n"
     ]
    },
    {
     "name": "stderr",
     "output_type": "stream",
     "text": [
      "\r",
      " 72%|███████▏  | 179/250 [3:32:56<1:24:35, 71.49s/it]"
     ]
    },
    {
     "name": "stdout",
     "output_type": "stream",
     "text": [
      "file /home/daniil/gans-mcmc/saved_numpy_arrays/sir_dcgan_cifar_recalc_N_5_nsteps_500_batch_num_35600.npy was saved, file shape = (11, 200, 100)\n"
     ]
    },
    {
     "name": "stderr",
     "output_type": "stream",
     "text": [
      "\r",
      " 72%|███████▏  | 180/250 [3:34:08<1:23:24, 71.49s/it]"
     ]
    },
    {
     "name": "stdout",
     "output_type": "stream",
     "text": [
      "file /home/daniil/gans-mcmc/saved_numpy_arrays/sir_dcgan_cifar_recalc_N_5_nsteps_500_batch_num_35800.npy was saved, file shape = (11, 200, 100)\n"
     ]
    },
    {
     "name": "stderr",
     "output_type": "stream",
     "text": [
      "\r",
      " 72%|███████▏  | 181/250 [3:35:19<1:22:12, 71.48s/it]"
     ]
    },
    {
     "name": "stdout",
     "output_type": "stream",
     "text": [
      "file /home/daniil/gans-mcmc/saved_numpy_arrays/sir_dcgan_cifar_recalc_N_5_nsteps_500_batch_num_36000.npy was saved, file shape = (11, 200, 100)\n"
     ]
    },
    {
     "name": "stderr",
     "output_type": "stream",
     "text": [
      "\r",
      " 73%|███████▎  | 182/250 [3:36:31<1:21:01, 71.49s/it]"
     ]
    },
    {
     "name": "stdout",
     "output_type": "stream",
     "text": [
      "file /home/daniil/gans-mcmc/saved_numpy_arrays/sir_dcgan_cifar_recalc_N_5_nsteps_500_batch_num_36200.npy was saved, file shape = (11, 200, 100)\n"
     ]
    },
    {
     "name": "stderr",
     "output_type": "stream",
     "text": [
      "\r",
      " 73%|███████▎  | 183/250 [3:37:42<1:19:50, 71.50s/it]"
     ]
    },
    {
     "name": "stdout",
     "output_type": "stream",
     "text": [
      "file /home/daniil/gans-mcmc/saved_numpy_arrays/sir_dcgan_cifar_recalc_N_5_nsteps_500_batch_num_36400.npy was saved, file shape = (11, 200, 100)\n"
     ]
    },
    {
     "name": "stderr",
     "output_type": "stream",
     "text": [
      "\r",
      " 74%|███████▎  | 184/250 [3:38:54<1:18:39, 71.51s/it]"
     ]
    },
    {
     "name": "stdout",
     "output_type": "stream",
     "text": [
      "file /home/daniil/gans-mcmc/saved_numpy_arrays/sir_dcgan_cifar_recalc_N_5_nsteps_500_batch_num_36600.npy was saved, file shape = (11, 200, 100)\n"
     ]
    },
    {
     "name": "stderr",
     "output_type": "stream",
     "text": [
      "\r",
      " 74%|███████▍  | 185/250 [3:40:05<1:17:27, 71.50s/it]"
     ]
    },
    {
     "name": "stdout",
     "output_type": "stream",
     "text": [
      "file /home/daniil/gans-mcmc/saved_numpy_arrays/sir_dcgan_cifar_recalc_N_5_nsteps_500_batch_num_36800.npy was saved, file shape = (11, 200, 100)\n"
     ]
    },
    {
     "name": "stderr",
     "output_type": "stream",
     "text": [
      "\r",
      " 74%|███████▍  | 186/250 [3:41:17<1:16:16, 71.50s/it]"
     ]
    },
    {
     "name": "stdout",
     "output_type": "stream",
     "text": [
      "file /home/daniil/gans-mcmc/saved_numpy_arrays/sir_dcgan_cifar_recalc_N_5_nsteps_500_batch_num_37000.npy was saved, file shape = (11, 200, 100)\n"
     ]
    },
    {
     "name": "stderr",
     "output_type": "stream",
     "text": [
      "\r",
      " 75%|███████▍  | 187/250 [3:42:28<1:15:03, 71.49s/it]"
     ]
    },
    {
     "name": "stdout",
     "output_type": "stream",
     "text": [
      "file /home/daniil/gans-mcmc/saved_numpy_arrays/sir_dcgan_cifar_recalc_N_5_nsteps_500_batch_num_37200.npy was saved, file shape = (11, 200, 100)\n"
     ]
    },
    {
     "name": "stderr",
     "output_type": "stream",
     "text": [
      "\r",
      " 75%|███████▌  | 188/250 [3:43:40<1:13:52, 71.49s/it]"
     ]
    },
    {
     "name": "stdout",
     "output_type": "stream",
     "text": [
      "file /home/daniil/gans-mcmc/saved_numpy_arrays/sir_dcgan_cifar_recalc_N_5_nsteps_500_batch_num_37400.npy was saved, file shape = (11, 200, 100)\n"
     ]
    },
    {
     "name": "stderr",
     "output_type": "stream",
     "text": [
      "\r",
      " 76%|███████▌  | 189/250 [3:44:51<1:12:39, 71.47s/it]"
     ]
    },
    {
     "name": "stdout",
     "output_type": "stream",
     "text": [
      "file /home/daniil/gans-mcmc/saved_numpy_arrays/sir_dcgan_cifar_recalc_N_5_nsteps_500_batch_num_37600.npy was saved, file shape = (11, 200, 100)\n"
     ]
    },
    {
     "name": "stderr",
     "output_type": "stream",
     "text": [
      "\r",
      " 76%|███████▌  | 190/250 [3:46:03<1:11:28, 71.47s/it]"
     ]
    },
    {
     "name": "stdout",
     "output_type": "stream",
     "text": [
      "file /home/daniil/gans-mcmc/saved_numpy_arrays/sir_dcgan_cifar_recalc_N_5_nsteps_500_batch_num_37800.npy was saved, file shape = (11, 200, 100)\n"
     ]
    },
    {
     "name": "stderr",
     "output_type": "stream",
     "text": [
      "\r",
      " 76%|███████▋  | 191/250 [3:47:14<1:10:16, 71.46s/it]"
     ]
    },
    {
     "name": "stdout",
     "output_type": "stream",
     "text": [
      "file /home/daniil/gans-mcmc/saved_numpy_arrays/sir_dcgan_cifar_recalc_N_5_nsteps_500_batch_num_38000.npy was saved, file shape = (11, 200, 100)\n"
     ]
    },
    {
     "name": "stderr",
     "output_type": "stream",
     "text": [
      "\r",
      " 77%|███████▋  | 192/250 [3:48:26<1:09:05, 71.47s/it]"
     ]
    },
    {
     "name": "stdout",
     "output_type": "stream",
     "text": [
      "file /home/daniil/gans-mcmc/saved_numpy_arrays/sir_dcgan_cifar_recalc_N_5_nsteps_500_batch_num_38200.npy was saved, file shape = (11, 200, 100)\n"
     ]
    },
    {
     "name": "stderr",
     "output_type": "stream",
     "text": [
      "\r",
      " 77%|███████▋  | 193/250 [3:49:37<1:07:53, 71.47s/it]"
     ]
    },
    {
     "name": "stdout",
     "output_type": "stream",
     "text": [
      "file /home/daniil/gans-mcmc/saved_numpy_arrays/sir_dcgan_cifar_recalc_N_5_nsteps_500_batch_num_38400.npy was saved, file shape = (11, 200, 100)\n"
     ]
    },
    {
     "name": "stderr",
     "output_type": "stream",
     "text": [
      "\r",
      " 78%|███████▊  | 194/250 [3:50:49<1:06:42, 71.47s/it]"
     ]
    },
    {
     "name": "stdout",
     "output_type": "stream",
     "text": [
      "file /home/daniil/gans-mcmc/saved_numpy_arrays/sir_dcgan_cifar_recalc_N_5_nsteps_500_batch_num_38600.npy was saved, file shape = (11, 200, 100)\n"
     ]
    },
    {
     "name": "stderr",
     "output_type": "stream",
     "text": [
      "\r",
      " 78%|███████▊  | 195/250 [3:52:00<1:05:30, 71.47s/it]"
     ]
    },
    {
     "name": "stdout",
     "output_type": "stream",
     "text": [
      "file /home/daniil/gans-mcmc/saved_numpy_arrays/sir_dcgan_cifar_recalc_N_5_nsteps_500_batch_num_38800.npy was saved, file shape = (11, 200, 100)\n"
     ]
    },
    {
     "name": "stderr",
     "output_type": "stream",
     "text": [
      "\r",
      " 78%|███████▊  | 196/250 [3:53:12<1:04:19, 71.47s/it]"
     ]
    },
    {
     "name": "stdout",
     "output_type": "stream",
     "text": [
      "file /home/daniil/gans-mcmc/saved_numpy_arrays/sir_dcgan_cifar_recalc_N_5_nsteps_500_batch_num_39000.npy was saved, file shape = (11, 200, 100)\n"
     ]
    },
    {
     "name": "stderr",
     "output_type": "stream",
     "text": [
      "\r",
      " 79%|███████▉  | 197/250 [3:54:23<1:03:08, 71.48s/it]"
     ]
    },
    {
     "name": "stdout",
     "output_type": "stream",
     "text": [
      "file /home/daniil/gans-mcmc/saved_numpy_arrays/sir_dcgan_cifar_recalc_N_5_nsteps_500_batch_num_39200.npy was saved, file shape = (11, 200, 100)\n"
     ]
    },
    {
     "name": "stderr",
     "output_type": "stream",
     "text": [
      "\r",
      " 79%|███████▉  | 198/250 [3:55:35<1:01:56, 71.47s/it]"
     ]
    },
    {
     "name": "stdout",
     "output_type": "stream",
     "text": [
      "file /home/daniil/gans-mcmc/saved_numpy_arrays/sir_dcgan_cifar_recalc_N_5_nsteps_500_batch_num_39400.npy was saved, file shape = (11, 200, 100)\n"
     ]
    },
    {
     "name": "stderr",
     "output_type": "stream",
     "text": [
      "\r",
      " 80%|███████▉  | 199/250 [3:56:46<1:00:45, 71.48s/it]"
     ]
    },
    {
     "name": "stdout",
     "output_type": "stream",
     "text": [
      "file /home/daniil/gans-mcmc/saved_numpy_arrays/sir_dcgan_cifar_recalc_N_5_nsteps_500_batch_num_39600.npy was saved, file shape = (11, 200, 100)\n"
     ]
    },
    {
     "name": "stderr",
     "output_type": "stream",
     "text": [
      "\r",
      " 80%|████████  | 200/250 [3:57:58<59:33, 71.48s/it]  "
     ]
    },
    {
     "name": "stdout",
     "output_type": "stream",
     "text": [
      "file /home/daniil/gans-mcmc/saved_numpy_arrays/sir_dcgan_cifar_recalc_N_5_nsteps_500_batch_num_39800.npy was saved, file shape = (11, 200, 100)\n"
     ]
    },
    {
     "name": "stderr",
     "output_type": "stream",
     "text": [
      "\r",
      " 80%|████████  | 201/250 [3:59:09<58:22, 71.48s/it]"
     ]
    },
    {
     "name": "stdout",
     "output_type": "stream",
     "text": [
      "file /home/daniil/gans-mcmc/saved_numpy_arrays/sir_dcgan_cifar_recalc_N_5_nsteps_500_batch_num_40000.npy was saved, file shape = (11, 200, 100)\n"
     ]
    },
    {
     "name": "stderr",
     "output_type": "stream",
     "text": [
      "\r",
      " 81%|████████  | 202/250 [4:00:20<57:09, 71.45s/it]"
     ]
    },
    {
     "name": "stdout",
     "output_type": "stream",
     "text": [
      "file /home/daniil/gans-mcmc/saved_numpy_arrays/sir_dcgan_cifar_recalc_N_5_nsteps_500_batch_num_40200.npy was saved, file shape = (11, 200, 100)\n"
     ]
    },
    {
     "name": "stderr",
     "output_type": "stream",
     "text": [
      "\r",
      " 81%|████████  | 203/250 [4:01:32<55:58, 71.45s/it]"
     ]
    },
    {
     "name": "stdout",
     "output_type": "stream",
     "text": [
      "file /home/daniil/gans-mcmc/saved_numpy_arrays/sir_dcgan_cifar_recalc_N_5_nsteps_500_batch_num_40400.npy was saved, file shape = (11, 200, 100)\n"
     ]
    },
    {
     "name": "stderr",
     "output_type": "stream",
     "text": [
      "\r",
      " 82%|████████▏ | 204/250 [4:02:43<54:46, 71.44s/it]"
     ]
    },
    {
     "name": "stdout",
     "output_type": "stream",
     "text": [
      "file /home/daniil/gans-mcmc/saved_numpy_arrays/sir_dcgan_cifar_recalc_N_5_nsteps_500_batch_num_40600.npy was saved, file shape = (11, 200, 100)\n"
     ]
    },
    {
     "name": "stderr",
     "output_type": "stream",
     "text": [
      "\r",
      " 82%|████████▏ | 205/250 [4:03:55<53:35, 71.45s/it]"
     ]
    },
    {
     "name": "stdout",
     "output_type": "stream",
     "text": [
      "file /home/daniil/gans-mcmc/saved_numpy_arrays/sir_dcgan_cifar_recalc_N_5_nsteps_500_batch_num_40800.npy was saved, file shape = (11, 200, 100)\n"
     ]
    },
    {
     "name": "stderr",
     "output_type": "stream",
     "text": [
      "\r",
      " 82%|████████▏ | 206/250 [4:05:06<52:23, 71.45s/it]"
     ]
    },
    {
     "name": "stdout",
     "output_type": "stream",
     "text": [
      "file /home/daniil/gans-mcmc/saved_numpy_arrays/sir_dcgan_cifar_recalc_N_5_nsteps_500_batch_num_41000.npy was saved, file shape = (11, 200, 100)\n"
     ]
    },
    {
     "name": "stderr",
     "output_type": "stream",
     "text": [
      "\r",
      " 83%|████████▎ | 207/250 [4:06:18<51:12, 71.45s/it]"
     ]
    },
    {
     "name": "stdout",
     "output_type": "stream",
     "text": [
      "file /home/daniil/gans-mcmc/saved_numpy_arrays/sir_dcgan_cifar_recalc_N_5_nsteps_500_batch_num_41200.npy was saved, file shape = (11, 200, 100)\n"
     ]
    },
    {
     "name": "stderr",
     "output_type": "stream",
     "text": [
      "\r",
      " 83%|████████▎ | 208/250 [4:07:29<50:00, 71.45s/it]"
     ]
    },
    {
     "name": "stdout",
     "output_type": "stream",
     "text": [
      "file /home/daniil/gans-mcmc/saved_numpy_arrays/sir_dcgan_cifar_recalc_N_5_nsteps_500_batch_num_41400.npy was saved, file shape = (11, 200, 100)\n"
     ]
    },
    {
     "name": "stderr",
     "output_type": "stream",
     "text": [
      "\r",
      " 84%|████████▎ | 209/250 [4:08:41<48:49, 71.45s/it]"
     ]
    },
    {
     "name": "stdout",
     "output_type": "stream",
     "text": [
      "file /home/daniil/gans-mcmc/saved_numpy_arrays/sir_dcgan_cifar_recalc_N_5_nsteps_500_batch_num_41600.npy was saved, file shape = (11, 200, 100)\n"
     ]
    },
    {
     "name": "stderr",
     "output_type": "stream",
     "text": [
      "\r",
      " 84%|████████▍ | 210/250 [4:09:52<47:37, 71.44s/it]"
     ]
    },
    {
     "name": "stdout",
     "output_type": "stream",
     "text": [
      "file /home/daniil/gans-mcmc/saved_numpy_arrays/sir_dcgan_cifar_recalc_N_5_nsteps_500_batch_num_41800.npy was saved, file shape = (11, 200, 100)\n"
     ]
    },
    {
     "name": "stderr",
     "output_type": "stream",
     "text": [
      "\r",
      " 84%|████████▍ | 211/250 [4:11:03<46:26, 71.46s/it]"
     ]
    },
    {
     "name": "stdout",
     "output_type": "stream",
     "text": [
      "file /home/daniil/gans-mcmc/saved_numpy_arrays/sir_dcgan_cifar_recalc_N_5_nsteps_500_batch_num_42000.npy was saved, file shape = (11, 200, 100)\n"
     ]
    },
    {
     "name": "stderr",
     "output_type": "stream",
     "text": [
      "\r",
      " 85%|████████▍ | 212/250 [4:12:15<45:15, 71.46s/it]"
     ]
    },
    {
     "name": "stdout",
     "output_type": "stream",
     "text": [
      "file /home/daniil/gans-mcmc/saved_numpy_arrays/sir_dcgan_cifar_recalc_N_5_nsteps_500_batch_num_42200.npy was saved, file shape = (11, 200, 100)\n"
     ]
    },
    {
     "name": "stderr",
     "output_type": "stream",
     "text": [
      "\r",
      " 85%|████████▌ | 213/250 [4:13:26<44:03, 71.46s/it]"
     ]
    },
    {
     "name": "stdout",
     "output_type": "stream",
     "text": [
      "file /home/daniil/gans-mcmc/saved_numpy_arrays/sir_dcgan_cifar_recalc_N_5_nsteps_500_batch_num_42400.npy was saved, file shape = (11, 200, 100)\n"
     ]
    },
    {
     "name": "stderr",
     "output_type": "stream",
     "text": [
      "\r",
      " 86%|████████▌ | 214/250 [4:14:38<42:52, 71.46s/it]"
     ]
    },
    {
     "name": "stdout",
     "output_type": "stream",
     "text": [
      "file /home/daniil/gans-mcmc/saved_numpy_arrays/sir_dcgan_cifar_recalc_N_5_nsteps_500_batch_num_42600.npy was saved, file shape = (11, 200, 100)\n"
     ]
    },
    {
     "name": "stderr",
     "output_type": "stream",
     "text": [
      "\r",
      " 86%|████████▌ | 215/250 [4:15:49<41:41, 71.46s/it]"
     ]
    },
    {
     "name": "stdout",
     "output_type": "stream",
     "text": [
      "file /home/daniil/gans-mcmc/saved_numpy_arrays/sir_dcgan_cifar_recalc_N_5_nsteps_500_batch_num_42800.npy was saved, file shape = (11, 200, 100)\n"
     ]
    },
    {
     "name": "stderr",
     "output_type": "stream",
     "text": [
      "\r",
      " 86%|████████▋ | 216/250 [4:17:01<40:29, 71.45s/it]"
     ]
    },
    {
     "name": "stdout",
     "output_type": "stream",
     "text": [
      "file /home/daniil/gans-mcmc/saved_numpy_arrays/sir_dcgan_cifar_recalc_N_5_nsteps_500_batch_num_43000.npy was saved, file shape = (11, 200, 100)\n"
     ]
    },
    {
     "name": "stderr",
     "output_type": "stream",
     "text": [
      "\r",
      " 87%|████████▋ | 217/250 [4:18:12<39:18, 71.46s/it]"
     ]
    },
    {
     "name": "stdout",
     "output_type": "stream",
     "text": [
      "file /home/daniil/gans-mcmc/saved_numpy_arrays/sir_dcgan_cifar_recalc_N_5_nsteps_500_batch_num_43200.npy was saved, file shape = (11, 200, 100)\n"
     ]
    },
    {
     "name": "stderr",
     "output_type": "stream",
     "text": [
      "\r",
      " 87%|████████▋ | 218/250 [4:19:24<38:06, 71.46s/it]"
     ]
    },
    {
     "name": "stdout",
     "output_type": "stream",
     "text": [
      "file /home/daniil/gans-mcmc/saved_numpy_arrays/sir_dcgan_cifar_recalc_N_5_nsteps_500_batch_num_43400.npy was saved, file shape = (11, 200, 100)\n"
     ]
    },
    {
     "name": "stderr",
     "output_type": "stream",
     "text": [
      "\r",
      " 88%|████████▊ | 219/250 [4:20:35<36:55, 71.46s/it]"
     ]
    },
    {
     "name": "stdout",
     "output_type": "stream",
     "text": [
      "file /home/daniil/gans-mcmc/saved_numpy_arrays/sir_dcgan_cifar_recalc_N_5_nsteps_500_batch_num_43600.npy was saved, file shape = (11, 200, 100)\n"
     ]
    },
    {
     "name": "stderr",
     "output_type": "stream",
     "text": [
      "\r",
      " 88%|████████▊ | 220/250 [4:21:47<35:43, 71.45s/it]"
     ]
    },
    {
     "name": "stdout",
     "output_type": "stream",
     "text": [
      "file /home/daniil/gans-mcmc/saved_numpy_arrays/sir_dcgan_cifar_recalc_N_5_nsteps_500_batch_num_43800.npy was saved, file shape = (11, 200, 100)\n"
     ]
    },
    {
     "name": "stderr",
     "output_type": "stream",
     "text": [
      "\r",
      " 88%|████████▊ | 221/250 [4:22:58<34:32, 71.47s/it]"
     ]
    },
    {
     "name": "stdout",
     "output_type": "stream",
     "text": [
      "file /home/daniil/gans-mcmc/saved_numpy_arrays/sir_dcgan_cifar_recalc_N_5_nsteps_500_batch_num_44000.npy was saved, file shape = (11, 200, 100)\n"
     ]
    },
    {
     "name": "stderr",
     "output_type": "stream",
     "text": [
      "\r",
      " 89%|████████▉ | 222/250 [4:24:10<33:21, 71.47s/it]"
     ]
    },
    {
     "name": "stdout",
     "output_type": "stream",
     "text": [
      "file /home/daniil/gans-mcmc/saved_numpy_arrays/sir_dcgan_cifar_recalc_N_5_nsteps_500_batch_num_44200.npy was saved, file shape = (11, 200, 100)\n"
     ]
    },
    {
     "name": "stderr",
     "output_type": "stream",
     "text": [
      "\r",
      " 89%|████████▉ | 223/250 [4:25:21<32:10, 71.48s/it]"
     ]
    },
    {
     "name": "stdout",
     "output_type": "stream",
     "text": [
      "file /home/daniil/gans-mcmc/saved_numpy_arrays/sir_dcgan_cifar_recalc_N_5_nsteps_500_batch_num_44400.npy was saved, file shape = (11, 200, 100)\n"
     ]
    },
    {
     "name": "stderr",
     "output_type": "stream",
     "text": [
      "\r",
      " 90%|████████▉ | 224/250 [4:26:33<30:58, 71.48s/it]"
     ]
    },
    {
     "name": "stdout",
     "output_type": "stream",
     "text": [
      "file /home/daniil/gans-mcmc/saved_numpy_arrays/sir_dcgan_cifar_recalc_N_5_nsteps_500_batch_num_44600.npy was saved, file shape = (11, 200, 100)\n"
     ]
    },
    {
     "name": "stderr",
     "output_type": "stream",
     "text": [
      "\r",
      " 90%|█████████ | 225/250 [4:27:44<29:47, 71.49s/it]"
     ]
    },
    {
     "name": "stdout",
     "output_type": "stream",
     "text": [
      "file /home/daniil/gans-mcmc/saved_numpy_arrays/sir_dcgan_cifar_recalc_N_5_nsteps_500_batch_num_44800.npy was saved, file shape = (11, 200, 100)\n"
     ]
    },
    {
     "name": "stderr",
     "output_type": "stream",
     "text": [
      "\r",
      " 90%|█████████ | 226/250 [4:28:55<28:35, 71.47s/it]"
     ]
    },
    {
     "name": "stdout",
     "output_type": "stream",
     "text": [
      "file /home/daniil/gans-mcmc/saved_numpy_arrays/sir_dcgan_cifar_recalc_N_5_nsteps_500_batch_num_45000.npy was saved, file shape = (11, 200, 100)\n"
     ]
    },
    {
     "name": "stderr",
     "output_type": "stream",
     "text": [
      "\r",
      " 91%|█████████ | 227/250 [4:30:07<27:24, 71.49s/it]"
     ]
    },
    {
     "name": "stdout",
     "output_type": "stream",
     "text": [
      "file /home/daniil/gans-mcmc/saved_numpy_arrays/sir_dcgan_cifar_recalc_N_5_nsteps_500_batch_num_45200.npy was saved, file shape = (11, 200, 100)\n"
     ]
    },
    {
     "name": "stderr",
     "output_type": "stream",
     "text": [
      "\r",
      " 91%|█████████ | 228/250 [4:31:18<26:12, 71.48s/it]"
     ]
    },
    {
     "name": "stdout",
     "output_type": "stream",
     "text": [
      "file /home/daniil/gans-mcmc/saved_numpy_arrays/sir_dcgan_cifar_recalc_N_5_nsteps_500_batch_num_45400.npy was saved, file shape = (11, 200, 100)\n"
     ]
    },
    {
     "name": "stderr",
     "output_type": "stream",
     "text": [
      "\r",
      " 92%|█████████▏| 229/250 [4:32:30<25:01, 71.49s/it]"
     ]
    },
    {
     "name": "stdout",
     "output_type": "stream",
     "text": [
      "file /home/daniil/gans-mcmc/saved_numpy_arrays/sir_dcgan_cifar_recalc_N_5_nsteps_500_batch_num_45600.npy was saved, file shape = (11, 200, 100)\n"
     ]
    },
    {
     "name": "stderr",
     "output_type": "stream",
     "text": [
      "\r",
      " 92%|█████████▏| 230/250 [4:33:41<23:49, 71.48s/it]"
     ]
    },
    {
     "name": "stdout",
     "output_type": "stream",
     "text": [
      "file /home/daniil/gans-mcmc/saved_numpy_arrays/sir_dcgan_cifar_recalc_N_5_nsteps_500_batch_num_45800.npy was saved, file shape = (11, 200, 100)\n"
     ]
    },
    {
     "name": "stderr",
     "output_type": "stream",
     "text": [
      "\r",
      " 92%|█████████▏| 231/250 [4:34:53<22:37, 71.47s/it]"
     ]
    },
    {
     "name": "stdout",
     "output_type": "stream",
     "text": [
      "file /home/daniil/gans-mcmc/saved_numpy_arrays/sir_dcgan_cifar_recalc_N_5_nsteps_500_batch_num_46000.npy was saved, file shape = (11, 200, 100)\n"
     ]
    },
    {
     "name": "stderr",
     "output_type": "stream",
     "text": [
      "\r",
      " 93%|█████████▎| 232/250 [4:36:04<21:26, 71.46s/it]"
     ]
    },
    {
     "name": "stdout",
     "output_type": "stream",
     "text": [
      "file /home/daniil/gans-mcmc/saved_numpy_arrays/sir_dcgan_cifar_recalc_N_5_nsteps_500_batch_num_46200.npy was saved, file shape = (11, 200, 100)\n"
     ]
    },
    {
     "name": "stderr",
     "output_type": "stream",
     "text": [
      "\r",
      " 93%|█████████▎| 233/250 [4:37:16<20:14, 71.46s/it]"
     ]
    },
    {
     "name": "stdout",
     "output_type": "stream",
     "text": [
      "file /home/daniil/gans-mcmc/saved_numpy_arrays/sir_dcgan_cifar_recalc_N_5_nsteps_500_batch_num_46400.npy was saved, file shape = (11, 200, 100)\n"
     ]
    },
    {
     "name": "stderr",
     "output_type": "stream",
     "text": [
      "\r",
      " 94%|█████████▎| 234/250 [4:38:27<19:03, 71.46s/it]"
     ]
    },
    {
     "name": "stdout",
     "output_type": "stream",
     "text": [
      "file /home/daniil/gans-mcmc/saved_numpy_arrays/sir_dcgan_cifar_recalc_N_5_nsteps_500_batch_num_46600.npy was saved, file shape = (11, 200, 100)\n"
     ]
    },
    {
     "name": "stderr",
     "output_type": "stream",
     "text": [
      "\r",
      " 94%|█████████▍| 235/250 [4:39:39<17:51, 71.47s/it]"
     ]
    },
    {
     "name": "stdout",
     "output_type": "stream",
     "text": [
      "file /home/daniil/gans-mcmc/saved_numpy_arrays/sir_dcgan_cifar_recalc_N_5_nsteps_500_batch_num_46800.npy was saved, file shape = (11, 200, 100)\n"
     ]
    },
    {
     "name": "stderr",
     "output_type": "stream",
     "text": [
      "\r",
      " 94%|█████████▍| 236/250 [4:40:50<16:40, 71.48s/it]"
     ]
    },
    {
     "name": "stdout",
     "output_type": "stream",
     "text": [
      "file /home/daniil/gans-mcmc/saved_numpy_arrays/sir_dcgan_cifar_recalc_N_5_nsteps_500_batch_num_47000.npy was saved, file shape = (11, 200, 100)\n"
     ]
    },
    {
     "name": "stderr",
     "output_type": "stream",
     "text": [
      "\r",
      " 95%|█████████▍| 237/250 [4:42:02<15:29, 71.49s/it]"
     ]
    },
    {
     "name": "stdout",
     "output_type": "stream",
     "text": [
      "file /home/daniil/gans-mcmc/saved_numpy_arrays/sir_dcgan_cifar_recalc_N_5_nsteps_500_batch_num_47200.npy was saved, file shape = (11, 200, 100)\n"
     ]
    },
    {
     "name": "stderr",
     "output_type": "stream",
     "text": [
      "\r",
      " 95%|█████████▌| 238/250 [4:43:13<14:17, 71.48s/it]"
     ]
    },
    {
     "name": "stdout",
     "output_type": "stream",
     "text": [
      "file /home/daniil/gans-mcmc/saved_numpy_arrays/sir_dcgan_cifar_recalc_N_5_nsteps_500_batch_num_47400.npy was saved, file shape = (11, 200, 100)\n"
     ]
    },
    {
     "name": "stderr",
     "output_type": "stream",
     "text": [
      "\r",
      " 96%|█████████▌| 239/250 [4:44:25<13:06, 71.48s/it]"
     ]
    },
    {
     "name": "stdout",
     "output_type": "stream",
     "text": [
      "file /home/daniil/gans-mcmc/saved_numpy_arrays/sir_dcgan_cifar_recalc_N_5_nsteps_500_batch_num_47600.npy was saved, file shape = (11, 200, 100)\n"
     ]
    },
    {
     "name": "stderr",
     "output_type": "stream",
     "text": [
      "\r",
      " 96%|█████████▌| 240/250 [4:45:36<11:54, 71.48s/it]"
     ]
    },
    {
     "name": "stdout",
     "output_type": "stream",
     "text": [
      "file /home/daniil/gans-mcmc/saved_numpy_arrays/sir_dcgan_cifar_recalc_N_5_nsteps_500_batch_num_47800.npy was saved, file shape = (11, 200, 100)\n"
     ]
    },
    {
     "name": "stderr",
     "output_type": "stream",
     "text": [
      "\r",
      " 96%|█████████▋| 241/250 [4:46:48<10:43, 71.48s/it]"
     ]
    },
    {
     "name": "stdout",
     "output_type": "stream",
     "text": [
      "file /home/daniil/gans-mcmc/saved_numpy_arrays/sir_dcgan_cifar_recalc_N_5_nsteps_500_batch_num_48000.npy was saved, file shape = (11, 200, 100)\n"
     ]
    },
    {
     "name": "stderr",
     "output_type": "stream",
     "text": [
      "\r",
      " 97%|█████████▋| 242/250 [4:47:59<09:31, 71.48s/it]"
     ]
    },
    {
     "name": "stdout",
     "output_type": "stream",
     "text": [
      "file /home/daniil/gans-mcmc/saved_numpy_arrays/sir_dcgan_cifar_recalc_N_5_nsteps_500_batch_num_48200.npy was saved, file shape = (11, 200, 100)\n"
     ]
    },
    {
     "name": "stderr",
     "output_type": "stream",
     "text": [
      "\r",
      " 97%|█████████▋| 243/250 [4:49:11<08:20, 71.48s/it]"
     ]
    },
    {
     "name": "stdout",
     "output_type": "stream",
     "text": [
      "file /home/daniil/gans-mcmc/saved_numpy_arrays/sir_dcgan_cifar_recalc_N_5_nsteps_500_batch_num_48400.npy was saved, file shape = (11, 200, 100)\n"
     ]
    },
    {
     "name": "stderr",
     "output_type": "stream",
     "text": [
      "\r",
      " 98%|█████████▊| 244/250 [4:50:22<07:08, 71.48s/it]"
     ]
    },
    {
     "name": "stdout",
     "output_type": "stream",
     "text": [
      "file /home/daniil/gans-mcmc/saved_numpy_arrays/sir_dcgan_cifar_recalc_N_5_nsteps_500_batch_num_48600.npy was saved, file shape = (11, 200, 100)\n"
     ]
    },
    {
     "name": "stderr",
     "output_type": "stream",
     "text": [
      "\r",
      " 98%|█████████▊| 245/250 [4:51:34<05:57, 71.49s/it]"
     ]
    },
    {
     "name": "stdout",
     "output_type": "stream",
     "text": [
      "file /home/daniil/gans-mcmc/saved_numpy_arrays/sir_dcgan_cifar_recalc_N_5_nsteps_500_batch_num_48800.npy was saved, file shape = (11, 200, 100)\n"
     ]
    },
    {
     "name": "stderr",
     "output_type": "stream",
     "text": [
      "\r",
      " 98%|█████████▊| 246/250 [4:52:45<04:45, 71.49s/it]"
     ]
    },
    {
     "name": "stdout",
     "output_type": "stream",
     "text": [
      "file /home/daniil/gans-mcmc/saved_numpy_arrays/sir_dcgan_cifar_recalc_N_5_nsteps_500_batch_num_49000.npy was saved, file shape = (11, 200, 100)\n"
     ]
    },
    {
     "name": "stderr",
     "output_type": "stream",
     "text": [
      "\r",
      " 99%|█████████▉| 247/250 [4:53:57<03:34, 71.48s/it]"
     ]
    },
    {
     "name": "stdout",
     "output_type": "stream",
     "text": [
      "file /home/daniil/gans-mcmc/saved_numpy_arrays/sir_dcgan_cifar_recalc_N_5_nsteps_500_batch_num_49200.npy was saved, file shape = (11, 200, 100)\n"
     ]
    },
    {
     "name": "stderr",
     "output_type": "stream",
     "text": [
      "\r",
      " 99%|█████████▉| 248/250 [4:55:08<02:22, 71.48s/it]"
     ]
    },
    {
     "name": "stdout",
     "output_type": "stream",
     "text": [
      "file /home/daniil/gans-mcmc/saved_numpy_arrays/sir_dcgan_cifar_recalc_N_5_nsteps_500_batch_num_49400.npy was saved, file shape = (11, 200, 100)\n"
     ]
    },
    {
     "name": "stderr",
     "output_type": "stream",
     "text": [
      "\r",
      "100%|█████████▉| 249/250 [4:56:20<01:11, 71.49s/it]"
     ]
    },
    {
     "name": "stdout",
     "output_type": "stream",
     "text": [
      "file /home/daniil/gans-mcmc/saved_numpy_arrays/sir_dcgan_cifar_recalc_N_5_nsteps_500_batch_num_49600.npy was saved, file shape = (11, 200, 100)\n"
     ]
    },
    {
     "name": "stderr",
     "output_type": "stream",
     "text": [
      "100%|██████████| 250/250 [4:57:31<00:00, 71.41s/it]"
     ]
    },
    {
     "name": "stdout",
     "output_type": "stream",
     "text": [
      "file /home/daniil/gans-mcmc/saved_numpy_arrays/sir_dcgan_cifar_recalc_N_5_nsteps_500_batch_num_49800.npy was saved, file shape = (11, 200, 100)\n"
     ]
    },
    {
     "name": "stderr",
     "output_type": "stream",
     "text": [
      "\n"
     ]
    }
   ],
   "source": [
    "random_seed = 42\n",
    "torch.manual_seed(random_seed)\n",
    "np.random.seed(random_seed)\n",
    "random.seed(random_seed)\n",
    "\n",
    "batch_size = 200\n",
    "n = 50000\n",
    "n_steps = 500\n",
    "N = 5\n",
    "\n",
    "method_name = 'sir_dcgan_cifar_recalc'\n",
    "path_to_save = '/home/daniil/gans-mcmc/saved_numpy_arrays'\n",
    "file_name = f'{method_name}_N_{N}_nsteps_{n_steps}'\n",
    "every_step = 50\n",
    "continue_z = None\n",
    "\n",
    "z_last_np, zs = sir_independent_sampling(target_gan, proposal, batch_size, n,\n",
    "                                         path_to_save, file_name, every_step,\n",
    "                                         continue_z, n_steps, N)"
   ]
  },
  {
   "cell_type": "code",
   "execution_count": 6,
   "id": "short-settlement",
   "metadata": {},
   "outputs": [
    {
     "name": "stderr",
     "output_type": "stream",
     "text": [
      "100%|██████████| 250/250 [00:00<00:00, 1422.20it/s]\n"
     ]
    }
   ],
   "source": [
    "path_to_save = '/home/daniil/gans-mcmc/saved_numpy_arrays'\n",
    "batch_size = 200\n",
    "n = 50000\n",
    "method_name = 'sir_dcgan_cifar_recalc'\n",
    "n_steps = 500\n",
    "N = 5\n",
    "file_name = f'{method_name}_N_{N}_nsteps_{n_steps}'\n",
    "load_np = load_data_from_batches(n, batch_size,\n",
    "                                 path_to_save, file_name)"
   ]
  },
  {
   "cell_type": "code",
   "execution_count": 8,
   "id": "dress-arkansas",
   "metadata": {},
   "outputs": [
    {
     "data": {
      "text/plain": [
       "(11, 50000, 100)"
      ]
     },
     "execution_count": 8,
     "metadata": {},
     "output_type": "execute_result"
    }
   ],
   "source": [
    "load_np.shape"
   ]
  },
  {
   "cell_type": "code",
   "execution_count": 9,
   "id": "dying-cleaner",
   "metadata": {},
   "outputs": [
    {
     "name": "stdout",
     "output_type": "stream",
     "text": [
      "Files already downloaded and verified\n",
      "Files already downloaded and verified\n",
      "------------------------------------\n",
      "step = 0\n",
      "sample size = (50000, 100)\n",
      "sample size after deleteting nans = (50000, 100)\n",
      "start to calculate inception score...\n",
      "Start to make predictions\n",
      "Start to compute KL divergence\n",
      "sir_dcgan_cifar_recalc_stats mean inception score = 5.477831259235616, std inception score = 0.05282534003607535\n",
      "time for inception calculation = 306.318s\n",
      "start to calculate FID score for test cifar10...\n"
     ]
    },
    {
     "name": "stderr",
     "output_type": "stream",
     "text": [
      "100it [00:01, 61.88it/s]\n"
     ]
    },
    {
     "name": "stdout",
     "output_type": "stream",
     "text": [
      "shape of generated images = (10000, 3, 32, 32)\n",
      "shape of real images = (10000, 3, 32, 32)\n"
     ]
    },
    {
     "name": "stderr",
     "output_type": "stream",
     "text": [
      "100%|██████████| 200/200 [00:17<00:00, 11.69it/s]\n",
      "  1%|          | 2/200 [00:00<00:16, 11.76it/s]"
     ]
    },
    {
     "name": "stdout",
     "output_type": "stream",
     "text": [
      "/home/daniil/gans-mcmc/saved_numpy_arrays/sir_dcgan_cifar_recalc_stats_pretrained_fake_test_step_0.npy\n"
     ]
    },
    {
     "name": "stderr",
     "output_type": "stream",
     "text": [
      "100%|██████████| 200/200 [00:17<00:00, 11.68it/s]\n",
      "fid: 100%|██████████| 10/10 [00:36<00:00,  3.69s/it, mean=40.3]\n"
     ]
    },
    {
     "name": "stdout",
     "output_type": "stream",
     "text": [
      "FID score for test cifar10 with sir_dcgan_cifar_recalc_stats: mean 40.286622722147555, std 0.6373429676181122\n",
      "time for FID calculation on test = 73.218s\n",
      "start to calculate MSID score for test cifar10...\n"
     ]
    },
    {
     "name": "stderr",
     "output_type": "stream",
     "text": [
      "100%|██████████| 200/200 [00:17<00:00, 11.75it/s]\n",
      "  1%|          | 2/200 [00:00<00:16, 11.69it/s]"
     ]
    },
    {
     "name": "stdout",
     "output_type": "stream",
     "text": [
      "/home/daniil/gans-mcmc/saved_numpy_arrays/sir_dcgan_cifar_recalc_stats_pretrained_fake_test_step_0.npy\n"
     ]
    },
    {
     "name": "stderr",
     "output_type": "stream",
     "text": [
      "100%|██████████| 200/200 [00:17<00:00, 11.61it/s]\n",
      "msid: 100%|██████████| 10/10 [15:55<00:00, 95.60s/it, mean=10.1]"
     ]
    },
    {
     "name": "stdout",
     "output_type": "stream",
     "text": [
      "MSID score for test cifar10 with sir_dcgan_cifar_recalc_stats: mean 10.082388845405967, std 2.8363415649229977\n",
      "time for MSID calculation on test = 990.516s\n",
      "start to calculate FID score for train cifar10...\n"
     ]
    },
    {
     "name": "stderr",
     "output_type": "stream",
     "text": [
      "\n",
      "500it [00:07, 66.41it/s]\n"
     ]
    },
    {
     "name": "stdout",
     "output_type": "stream",
     "text": [
      "shape of generated images = (50000, 3, 32, 32)\n",
      "shape of real images = (50000, 3, 32, 32)\n"
     ]
    },
    {
     "name": "stderr",
     "output_type": "stream",
     "text": [
      "100%|██████████| 1000/1000 [01:24<00:00, 11.82it/s]\n",
      "  0%|          | 2/1000 [00:00<01:26, 11.56it/s]"
     ]
    },
    {
     "name": "stdout",
     "output_type": "stream",
     "text": [
      "/home/daniil/gans-mcmc/saved_numpy_arrays/sir_dcgan_cifar_recalc_stats_pretrained_fake_train_step_0.npy\n"
     ]
    },
    {
     "name": "stderr",
     "output_type": "stream",
     "text": [
      "100%|██████████| 1000/1000 [01:27<00:00, 11.39it/s]\n",
      "fid: 100%|██████████| 10/10 [01:19<00:00,  7.92s/it, mean=35.7]\n"
     ]
    },
    {
     "name": "stdout",
     "output_type": "stream",
     "text": [
      "FID score for train cifar10 with sir_dcgan_cifar_recalc_stats: mean 35.65453838691319, std 0.2023383105036268\n",
      "time for FID calculation on train = 260.182s\n",
      "------------------------------------\n",
      "step = 50\n",
      "sample size = (50000, 100)\n",
      "sample size after deleteting nans = (50000, 100)\n",
      "start to calculate inception score...\n",
      "Start to make predictions\n",
      "Start to compute KL divergence\n",
      "sir_dcgan_cifar_recalc_stats mean inception score = 5.387594470489575, std inception score = 0.06811875515003857\n",
      "time for inception calculation = 304.756s\n",
      "start to calculate FID score for test cifar10...\n"
     ]
    },
    {
     "name": "stderr",
     "output_type": "stream",
     "text": [
      "100it [00:01, 60.75it/s]\n"
     ]
    },
    {
     "name": "stdout",
     "output_type": "stream",
     "text": [
      "shape of generated images = (10000, 3, 32, 32)\n",
      "shape of real images = (10000, 3, 32, 32)\n"
     ]
    },
    {
     "name": "stderr",
     "output_type": "stream",
     "text": [
      "100%|██████████| 200/200 [00:16<00:00, 11.81it/s]\n",
      "  1%|          | 2/200 [00:00<00:16, 11.74it/s]"
     ]
    },
    {
     "name": "stdout",
     "output_type": "stream",
     "text": [
      "/home/daniil/gans-mcmc/saved_numpy_arrays/sir_dcgan_cifar_recalc_stats_pretrained_fake_test_step_50.npy\n"
     ]
    },
    {
     "name": "stderr",
     "output_type": "stream",
     "text": [
      "100%|██████████| 200/200 [00:17<00:00, 11.65it/s]\n",
      "fid: 100%|██████████| 10/10 [00:34<00:00,  3.49s/it, mean=36.4]\n"
     ]
    },
    {
     "name": "stdout",
     "output_type": "stream",
     "text": [
      "FID score for test cifar10 with sir_dcgan_cifar_recalc_stats: mean 36.399507672034694, std 0.5247486557507445\n",
      "time for FID calculation on test = 71.107s\n",
      "start to calculate MSID score for test cifar10...\n"
     ]
    },
    {
     "name": "stderr",
     "output_type": "stream",
     "text": [
      "100%|██████████| 200/200 [00:17<00:00, 11.72it/s]\n",
      "  1%|          | 2/200 [00:00<00:16, 11.68it/s]"
     ]
    },
    {
     "name": "stdout",
     "output_type": "stream",
     "text": [
      "/home/daniil/gans-mcmc/saved_numpy_arrays/sir_dcgan_cifar_recalc_stats_pretrained_fake_test_step_50.npy\n"
     ]
    },
    {
     "name": "stderr",
     "output_type": "stream",
     "text": [
      "100%|██████████| 200/200 [00:17<00:00, 11.59it/s]\n",
      "msid: 100%|██████████| 10/10 [15:48<00:00, 94.80s/it, mean=8.89]"
     ]
    },
    {
     "name": "stdout",
     "output_type": "stream",
     "text": [
      "MSID score for test cifar10 with sir_dcgan_cifar_recalc_stats: mean 8.88657892878308, std 4.913192327715092\n",
      "time for MSID calculation on test = 982.607s\n",
      "start to calculate FID score for train cifar10...\n"
     ]
    },
    {
     "name": "stderr",
     "output_type": "stream",
     "text": [
      "\n",
      "500it [00:07, 65.41it/s]\n"
     ]
    },
    {
     "name": "stdout",
     "output_type": "stream",
     "text": [
      "shape of generated images = (50000, 3, 32, 32)\n",
      "shape of real images = (50000, 3, 32, 32)\n"
     ]
    },
    {
     "name": "stderr",
     "output_type": "stream",
     "text": [
      "100%|██████████| 1000/1000 [01:24<00:00, 11.82it/s]\n",
      "  0%|          | 2/1000 [00:00<01:26, 11.56it/s]"
     ]
    },
    {
     "name": "stdout",
     "output_type": "stream",
     "text": [
      "/home/daniil/gans-mcmc/saved_numpy_arrays/sir_dcgan_cifar_recalc_stats_pretrained_fake_train_step_50.npy\n"
     ]
    },
    {
     "name": "stderr",
     "output_type": "stream",
     "text": [
      "100%|██████████| 1000/1000 [01:27<00:00, 11.39it/s]\n",
      "fid: 100%|██████████| 10/10 [01:18<00:00,  7.89s/it, mean=31.1]\n"
     ]
    },
    {
     "name": "stdout",
     "output_type": "stream",
     "text": [
      "FID score for train cifar10 with sir_dcgan_cifar_recalc_stats: mean 31.05903823908904, std 0.12837143928138628\n",
      "time for FID calculation on train = 260.055s\n",
      "------------------------------------\n",
      "step = 100\n",
      "sample size = (50000, 100)\n",
      "sample size after deleteting nans = (50000, 100)\n",
      "start to calculate inception score...\n",
      "Start to make predictions\n",
      "Start to compute KL divergence\n",
      "sir_dcgan_cifar_recalc_stats mean inception score = 5.315891207329469, std inception score = 0.060309868854106434\n",
      "time for inception calculation = 304.915s\n",
      "start to calculate FID score for test cifar10...\n"
     ]
    },
    {
     "name": "stderr",
     "output_type": "stream",
     "text": [
      "100it [00:01, 61.50it/s]\n"
     ]
    },
    {
     "name": "stdout",
     "output_type": "stream",
     "text": [
      "shape of generated images = (10000, 3, 32, 32)\n",
      "shape of real images = (10000, 3, 32, 32)\n"
     ]
    },
    {
     "name": "stderr",
     "output_type": "stream",
     "text": [
      "100%|██████████| 200/200 [00:16<00:00, 11.80it/s]\n",
      "  1%|          | 2/200 [00:00<00:16, 11.76it/s]"
     ]
    },
    {
     "name": "stdout",
     "output_type": "stream",
     "text": [
      "/home/daniil/gans-mcmc/saved_numpy_arrays/sir_dcgan_cifar_recalc_stats_pretrained_fake_test_step_100.npy\n"
     ]
    },
    {
     "name": "stderr",
     "output_type": "stream",
     "text": [
      "100%|██████████| 200/200 [00:17<00:00, 11.65it/s]\n",
      "fid: 100%|██████████| 10/10 [00:36<00:00,  3.66s/it, mean=34.7]\n"
     ]
    },
    {
     "name": "stdout",
     "output_type": "stream",
     "text": [
      "FID score for test cifar10 with sir_dcgan_cifar_recalc_stats: mean 34.67369680964633, std 0.5046962339810604\n",
      "time for FID calculation on test = 72.813s\n",
      "start to calculate MSID score for test cifar10...\n"
     ]
    },
    {
     "name": "stderr",
     "output_type": "stream",
     "text": [
      "100%|██████████| 200/200 [00:17<00:00, 11.73it/s]\n",
      "  1%|          | 2/200 [00:00<00:16, 11.68it/s]"
     ]
    },
    {
     "name": "stdout",
     "output_type": "stream",
     "text": [
      "/home/daniil/gans-mcmc/saved_numpy_arrays/sir_dcgan_cifar_recalc_stats_pretrained_fake_test_step_100.npy\n"
     ]
    },
    {
     "name": "stderr",
     "output_type": "stream",
     "text": [
      "100%|██████████| 200/200 [00:17<00:00, 11.59it/s]\n",
      "msid: 100%|██████████| 10/10 [16:02<00:00, 96.29s/it, mean=8.61]"
     ]
    },
    {
     "name": "stdout",
     "output_type": "stream",
     "text": [
      "MSID score for test cifar10 with sir_dcgan_cifar_recalc_stats: mean 8.612507900973247, std 3.8894329228345983\n",
      "time for MSID calculation on test = 997.449s\n",
      "start to calculate FID score for train cifar10...\n"
     ]
    },
    {
     "name": "stderr",
     "output_type": "stream",
     "text": [
      "\n",
      "500it [00:07, 65.36it/s]\n"
     ]
    },
    {
     "name": "stdout",
     "output_type": "stream",
     "text": [
      "shape of generated images = (50000, 3, 32, 32)\n",
      "shape of real images = (50000, 3, 32, 32)\n"
     ]
    },
    {
     "name": "stderr",
     "output_type": "stream",
     "text": [
      "100%|██████████| 1000/1000 [01:24<00:00, 11.82it/s]\n",
      "  0%|          | 2/1000 [00:00<01:26, 11.58it/s]"
     ]
    },
    {
     "name": "stdout",
     "output_type": "stream",
     "text": [
      "/home/daniil/gans-mcmc/saved_numpy_arrays/sir_dcgan_cifar_recalc_stats_pretrained_fake_train_step_100.npy\n"
     ]
    },
    {
     "name": "stderr",
     "output_type": "stream",
     "text": [
      "100%|██████████| 1000/1000 [01:27<00:00, 11.39it/s]\n",
      "fid: 100%|██████████| 10/10 [01:18<00:00,  7.85s/it, mean=29.9]\n"
     ]
    },
    {
     "name": "stdout",
     "output_type": "stream",
     "text": [
      "FID score for train cifar10 with sir_dcgan_cifar_recalc_stats: mean 29.886769001805828, std 0.16409524107883103\n",
      "time for FID calculation on train = 259.576s\n",
      "------------------------------------\n",
      "step = 150\n",
      "sample size = (50000, 100)\n",
      "sample size after deleteting nans = (50000, 100)\n",
      "start to calculate inception score...\n",
      "Start to make predictions\n",
      "Start to compute KL divergence\n",
      "sir_dcgan_cifar_recalc_stats mean inception score = 5.314191034689545, std inception score = 0.07454293546284455\n",
      "time for inception calculation = 304.613s\n",
      "start to calculate FID score for test cifar10...\n"
     ]
    },
    {
     "name": "stderr",
     "output_type": "stream",
     "text": [
      "100it [00:01, 60.63it/s]\n"
     ]
    },
    {
     "name": "stdout",
     "output_type": "stream",
     "text": [
      "shape of generated images = (10000, 3, 32, 32)\n",
      "shape of real images = (10000, 3, 32, 32)\n"
     ]
    },
    {
     "name": "stderr",
     "output_type": "stream",
     "text": [
      "100%|██████████| 200/200 [00:16<00:00, 11.82it/s]\n",
      "  1%|          | 2/200 [00:00<00:16, 11.73it/s]"
     ]
    },
    {
     "name": "stdout",
     "output_type": "stream",
     "text": [
      "/home/daniil/gans-mcmc/saved_numpy_arrays/sir_dcgan_cifar_recalc_stats_pretrained_fake_test_step_150.npy\n"
     ]
    },
    {
     "name": "stderr",
     "output_type": "stream",
     "text": [
      "100%|██████████| 200/200 [00:17<00:00, 11.66it/s]\n",
      "fid: 100%|██████████| 10/10 [00:34<00:00,  3.50s/it, mean=34.1]\n"
     ]
    },
    {
     "name": "stdout",
     "output_type": "stream",
     "text": [
      "FID score for test cifar10 with sir_dcgan_cifar_recalc_stats: mean 34.09848655583132, std 0.5084878163220253\n",
      "time for FID calculation on test = 71.176s\n",
      "start to calculate MSID score for test cifar10...\n"
     ]
    },
    {
     "name": "stderr",
     "output_type": "stream",
     "text": [
      "100%|██████████| 200/200 [00:17<00:00, 11.72it/s]\n",
      "  1%|          | 2/200 [00:00<00:16, 11.70it/s]"
     ]
    },
    {
     "name": "stdout",
     "output_type": "stream",
     "text": [
      "/home/daniil/gans-mcmc/saved_numpy_arrays/sir_dcgan_cifar_recalc_stats_pretrained_fake_test_step_150.npy\n"
     ]
    },
    {
     "name": "stderr",
     "output_type": "stream",
     "text": [
      "100%|██████████| 200/200 [00:17<00:00, 11.59it/s]\n",
      "msid: 100%|██████████| 10/10 [15:47<00:00, 94.70s/it, mean=7.16]"
     ]
    },
    {
     "name": "stdout",
     "output_type": "stream",
     "text": [
      "MSID score for test cifar10 with sir_dcgan_cifar_recalc_stats: mean 7.162689541310475, std 3.9626122629044813\n",
      "time for MSID calculation on test = 981.644s\n",
      "start to calculate FID score for train cifar10...\n"
     ]
    },
    {
     "name": "stderr",
     "output_type": "stream",
     "text": [
      "\n",
      "500it [00:07, 65.26it/s]\n"
     ]
    },
    {
     "name": "stdout",
     "output_type": "stream",
     "text": [
      "shape of generated images = (50000, 3, 32, 32)\n",
      "shape of real images = (50000, 3, 32, 32)\n"
     ]
    },
    {
     "name": "stderr",
     "output_type": "stream",
     "text": [
      "100%|██████████| 1000/1000 [01:24<00:00, 11.81it/s]\n",
      "  0%|          | 2/1000 [00:00<01:26, 11.58it/s]"
     ]
    },
    {
     "name": "stdout",
     "output_type": "stream",
     "text": [
      "/home/daniil/gans-mcmc/saved_numpy_arrays/sir_dcgan_cifar_recalc_stats_pretrained_fake_train_step_150.npy\n"
     ]
    },
    {
     "name": "stderr",
     "output_type": "stream",
     "text": [
      "100%|██████████| 1000/1000 [01:27<00:00, 11.39it/s]\n",
      "fid: 100%|██████████| 10/10 [01:16<00:00,  7.69s/it, mean=29.2]\n"
     ]
    },
    {
     "name": "stdout",
     "output_type": "stream",
     "text": [
      "FID score for train cifar10 with sir_dcgan_cifar_recalc_stats: mean 29.203953185162323, std 0.20307315363773243\n",
      "time for FID calculation on train = 258.009s\n",
      "------------------------------------\n",
      "step = 200\n",
      "sample size = (50000, 100)\n",
      "sample size after deleteting nans = (50000, 100)\n",
      "start to calculate inception score...\n",
      "Start to make predictions\n",
      "Start to compute KL divergence\n",
      "sir_dcgan_cifar_recalc_stats mean inception score = 5.309965411662937, std inception score = 0.06488691147420207\n",
      "time for inception calculation = 304.896s\n",
      "start to calculate FID score for test cifar10...\n"
     ]
    },
    {
     "name": "stderr",
     "output_type": "stream",
     "text": [
      "100it [00:01, 61.49it/s]\n"
     ]
    },
    {
     "name": "stdout",
     "output_type": "stream",
     "text": [
      "shape of generated images = (10000, 3, 32, 32)\n",
      "shape of real images = (10000, 3, 32, 32)\n"
     ]
    },
    {
     "name": "stderr",
     "output_type": "stream",
     "text": [
      "100%|██████████| 200/200 [00:16<00:00, 11.80it/s]\n",
      "  1%|          | 2/200 [00:00<00:16, 11.77it/s]"
     ]
    },
    {
     "name": "stdout",
     "output_type": "stream",
     "text": [
      "/home/daniil/gans-mcmc/saved_numpy_arrays/sir_dcgan_cifar_recalc_stats_pretrained_fake_test_step_200.npy\n"
     ]
    },
    {
     "name": "stderr",
     "output_type": "stream",
     "text": [
      "100%|██████████| 200/200 [00:17<00:00, 11.66it/s]\n",
      "fid: 100%|██████████| 10/10 [00:35<00:00,  3.58s/it, mean=34.1]\n"
     ]
    },
    {
     "name": "stdout",
     "output_type": "stream",
     "text": [
      "FID score for test cifar10 with sir_dcgan_cifar_recalc_stats: mean 34.14961753042506, std 0.6337304529077992\n",
      "time for FID calculation on test = 71.972s\n",
      "start to calculate MSID score for test cifar10...\n"
     ]
    },
    {
     "name": "stderr",
     "output_type": "stream",
     "text": [
      "100%|██████████| 200/200 [00:17<00:00, 11.74it/s]\n",
      "  1%|          | 2/200 [00:00<00:16, 11.71it/s]"
     ]
    },
    {
     "name": "stdout",
     "output_type": "stream",
     "text": [
      "/home/daniil/gans-mcmc/saved_numpy_arrays/sir_dcgan_cifar_recalc_stats_pretrained_fake_test_step_200.npy\n"
     ]
    },
    {
     "name": "stderr",
     "output_type": "stream",
     "text": [
      "100%|██████████| 200/200 [00:17<00:00, 11.60it/s]\n",
      "msid: 100%|██████████| 10/10 [15:56<00:00, 95.65s/it, mean=9.08]"
     ]
    },
    {
     "name": "stdout",
     "output_type": "stream",
     "text": [
      "MSID score for test cifar10 with sir_dcgan_cifar_recalc_stats: mean 9.083941565286725, std 2.5412260097381996\n",
      "time for MSID calculation on test = 991.108s\n",
      "start to calculate FID score for train cifar10...\n"
     ]
    },
    {
     "name": "stderr",
     "output_type": "stream",
     "text": [
      "\n",
      "500it [00:07, 65.48it/s]\n"
     ]
    },
    {
     "name": "stdout",
     "output_type": "stream",
     "text": [
      "shape of generated images = (50000, 3, 32, 32)\n",
      "shape of real images = (50000, 3, 32, 32)\n"
     ]
    },
    {
     "name": "stderr",
     "output_type": "stream",
     "text": [
      "100%|██████████| 1000/1000 [01:24<00:00, 11.81it/s]\n",
      "  0%|          | 2/1000 [00:00<01:26, 11.55it/s]"
     ]
    },
    {
     "name": "stdout",
     "output_type": "stream",
     "text": [
      "/home/daniil/gans-mcmc/saved_numpy_arrays/sir_dcgan_cifar_recalc_stats_pretrained_fake_train_step_200.npy\n"
     ]
    },
    {
     "name": "stderr",
     "output_type": "stream",
     "text": [
      "100%|██████████| 1000/1000 [01:27<00:00, 11.39it/s]\n",
      "fid: 100%|██████████| 10/10 [01:18<00:00,  7.84s/it, mean=28.9]\n"
     ]
    },
    {
     "name": "stdout",
     "output_type": "stream",
     "text": [
      "FID score for train cifar10 with sir_dcgan_cifar_recalc_stats: mean 28.886033690362535, std 0.19400608910062575\n",
      "time for FID calculation on train = 259.545s\n",
      "------------------------------------\n",
      "step = 250\n",
      "sample size = (50000, 100)\n",
      "sample size after deleteting nans = (50000, 100)\n",
      "start to calculate inception score...\n",
      "Start to make predictions\n",
      "Start to compute KL divergence\n",
      "sir_dcgan_cifar_recalc_stats mean inception score = 5.306895845518415, std inception score = 0.0501566618420759\n",
      "time for inception calculation = 305.89s\n",
      "start to calculate FID score for test cifar10...\n"
     ]
    },
    {
     "name": "stderr",
     "output_type": "stream",
     "text": [
      "100it [00:01, 60.91it/s]\n"
     ]
    },
    {
     "name": "stdout",
     "output_type": "stream",
     "text": [
      "shape of generated images = (10000, 3, 32, 32)\n",
      "shape of real images = (10000, 3, 32, 32)\n"
     ]
    },
    {
     "name": "stderr",
     "output_type": "stream",
     "text": [
      "100%|██████████| 200/200 [00:16<00:00, 11.81it/s]\n",
      "  1%|          | 2/200 [00:00<00:16, 11.75it/s]"
     ]
    },
    {
     "name": "stdout",
     "output_type": "stream",
     "text": [
      "/home/daniil/gans-mcmc/saved_numpy_arrays/sir_dcgan_cifar_recalc_stats_pretrained_fake_test_step_250.npy\n"
     ]
    },
    {
     "name": "stderr",
     "output_type": "stream",
     "text": [
      "100%|██████████| 200/200 [00:17<00:00, 11.65it/s]\n",
      "fid: 100%|██████████| 10/10 [00:34<00:00,  3.47s/it, mean=33.4]\n"
     ]
    },
    {
     "name": "stdout",
     "output_type": "stream",
     "text": [
      "FID score for test cifar10 with sir_dcgan_cifar_recalc_stats: mean 33.398516255153254, std 0.36861824166821483\n",
      "time for FID calculation on test = 70.924s\n",
      "start to calculate MSID score for test cifar10...\n"
     ]
    },
    {
     "name": "stderr",
     "output_type": "stream",
     "text": [
      "100%|██████████| 200/200 [00:17<00:00, 11.71it/s]\n",
      "  1%|          | 2/200 [00:00<00:16, 11.65it/s]"
     ]
    },
    {
     "name": "stdout",
     "output_type": "stream",
     "text": [
      "/home/daniil/gans-mcmc/saved_numpy_arrays/sir_dcgan_cifar_recalc_stats_pretrained_fake_test_step_250.npy\n"
     ]
    },
    {
     "name": "stderr",
     "output_type": "stream",
     "text": [
      "100%|██████████| 200/200 [00:17<00:00, 11.59it/s]\n",
      "msid: 100%|██████████| 10/10 [15:59<00:00, 95.97s/it, mean=8.63]"
     ]
    },
    {
     "name": "stdout",
     "output_type": "stream",
     "text": [
      "MSID score for test cifar10 with sir_dcgan_cifar_recalc_stats: mean 8.634666871930808, std 3.7630587733094174\n",
      "time for MSID calculation on test = 994.262s\n",
      "start to calculate FID score for train cifar10...\n"
     ]
    },
    {
     "name": "stderr",
     "output_type": "stream",
     "text": [
      "\n",
      "500it [00:07, 65.61it/s]\n"
     ]
    },
    {
     "name": "stdout",
     "output_type": "stream",
     "text": [
      "shape of generated images = (50000, 3, 32, 32)\n",
      "shape of real images = (50000, 3, 32, 32)\n"
     ]
    },
    {
     "name": "stderr",
     "output_type": "stream",
     "text": [
      "100%|██████████| 1000/1000 [01:24<00:00, 11.81it/s]\n",
      "  0%|          | 2/1000 [00:00<01:26, 11.57it/s]"
     ]
    },
    {
     "name": "stdout",
     "output_type": "stream",
     "text": [
      "/home/daniil/gans-mcmc/saved_numpy_arrays/sir_dcgan_cifar_recalc_stats_pretrained_fake_train_step_250.npy\n"
     ]
    },
    {
     "name": "stderr",
     "output_type": "stream",
     "text": [
      "100%|██████████| 1000/1000 [01:27<00:00, 11.39it/s]\n",
      "fid: 100%|██████████| 10/10 [01:17<00:00,  7.79s/it, mean=28.6]\n"
     ]
    },
    {
     "name": "stdout",
     "output_type": "stream",
     "text": [
      "FID score for train cifar10 with sir_dcgan_cifar_recalc_stats: mean 28.624805534671175, std 0.24104399213788974\n",
      "time for FID calculation on train = 259.046s\n",
      "------------------------------------\n",
      "step = 300\n",
      "sample size = (50000, 100)\n",
      "sample size after deleteting nans = (50000, 100)\n",
      "start to calculate inception score...\n",
      "Start to make predictions\n",
      "Start to compute KL divergence\n",
      "sir_dcgan_cifar_recalc_stats mean inception score = 5.254860299556823, std inception score = 0.0596639793699287\n",
      "time for inception calculation = 304.436s\n",
      "start to calculate FID score for test cifar10...\n"
     ]
    },
    {
     "name": "stderr",
     "output_type": "stream",
     "text": [
      "100it [00:01, 60.97it/s]\n"
     ]
    },
    {
     "name": "stdout",
     "output_type": "stream",
     "text": [
      "shape of generated images = (10000, 3, 32, 32)\n",
      "shape of real images = (10000, 3, 32, 32)\n"
     ]
    },
    {
     "name": "stderr",
     "output_type": "stream",
     "text": [
      "100%|██████████| 200/200 [00:16<00:00, 11.81it/s]\n",
      "  1%|          | 2/200 [00:00<00:16, 11.76it/s]"
     ]
    },
    {
     "name": "stdout",
     "output_type": "stream",
     "text": [
      "/home/daniil/gans-mcmc/saved_numpy_arrays/sir_dcgan_cifar_recalc_stats_pretrained_fake_test_step_300.npy\n"
     ]
    },
    {
     "name": "stderr",
     "output_type": "stream",
     "text": [
      "100%|██████████| 200/200 [00:17<00:00, 11.65it/s]\n",
      "fid: 100%|██████████| 10/10 [00:34<00:00,  3.47s/it, mean=33.5]\n"
     ]
    },
    {
     "name": "stdout",
     "output_type": "stream",
     "text": [
      "FID score for test cifar10 with sir_dcgan_cifar_recalc_stats: mean 33.471400347782264, std 0.5892422026940831\n",
      "time for FID calculation on test = 70.873s\n",
      "start to calculate MSID score for test cifar10...\n"
     ]
    },
    {
     "name": "stderr",
     "output_type": "stream",
     "text": [
      "100%|██████████| 200/200 [00:17<00:00, 11.72it/s]\n",
      "  1%|          | 2/200 [00:00<00:16, 11.67it/s]"
     ]
    },
    {
     "name": "stdout",
     "output_type": "stream",
     "text": [
      "/home/daniil/gans-mcmc/saved_numpy_arrays/sir_dcgan_cifar_recalc_stats_pretrained_fake_test_step_300.npy\n"
     ]
    },
    {
     "name": "stderr",
     "output_type": "stream",
     "text": [
      "100%|██████████| 200/200 [00:17<00:00, 11.58it/s]\n",
      "msid: 100%|██████████| 10/10 [15:59<00:00, 95.92s/it, mean=6.85]"
     ]
    },
    {
     "name": "stdout",
     "output_type": "stream",
     "text": [
      "MSID score for test cifar10 with sir_dcgan_cifar_recalc_stats: mean 6.848343015873281, std 3.4353033709214738\n",
      "time for MSID calculation on test = 993.848s\n",
      "start to calculate FID score for train cifar10...\n"
     ]
    },
    {
     "name": "stderr",
     "output_type": "stream",
     "text": [
      "\n",
      "500it [00:07, 65.09it/s]\n"
     ]
    },
    {
     "name": "stdout",
     "output_type": "stream",
     "text": [
      "shape of generated images = (50000, 3, 32, 32)\n",
      "shape of real images = (50000, 3, 32, 32)\n"
     ]
    },
    {
     "name": "stderr",
     "output_type": "stream",
     "text": [
      "100%|██████████| 1000/1000 [01:24<00:00, 11.81it/s]\n",
      "  0%|          | 2/1000 [00:00<01:26, 11.58it/s]"
     ]
    },
    {
     "name": "stdout",
     "output_type": "stream",
     "text": [
      "/home/daniil/gans-mcmc/saved_numpy_arrays/sir_dcgan_cifar_recalc_stats_pretrained_fake_train_step_300.npy\n"
     ]
    },
    {
     "name": "stderr",
     "output_type": "stream",
     "text": [
      "100%|██████████| 1000/1000 [01:27<00:00, 11.40it/s]\n",
      "fid: 100%|██████████| 10/10 [01:17<00:00,  7.76s/it, mean=28.7]\n"
     ]
    },
    {
     "name": "stdout",
     "output_type": "stream",
     "text": [
      "FID score for train cifar10 with sir_dcgan_cifar_recalc_stats: mean 28.723970840340904, std 0.17847808973946017\n",
      "time for FID calculation on train = 258.729s\n",
      "------------------------------------\n",
      "step = 350\n",
      "sample size = (50000, 100)\n",
      "sample size after deleteting nans = (50000, 100)\n",
      "start to calculate inception score...\n",
      "Start to make predictions\n",
      "Start to compute KL divergence\n",
      "sir_dcgan_cifar_recalc_stats mean inception score = 5.264911834661714, std inception score = 0.09309357407747638\n",
      "time for inception calculation = 304.397s\n",
      "start to calculate FID score for test cifar10...\n"
     ]
    },
    {
     "name": "stderr",
     "output_type": "stream",
     "text": [
      "100it [00:01, 60.89it/s]\n"
     ]
    },
    {
     "name": "stdout",
     "output_type": "stream",
     "text": [
      "shape of generated images = (10000, 3, 32, 32)\n",
      "shape of real images = (10000, 3, 32, 32)\n"
     ]
    },
    {
     "name": "stderr",
     "output_type": "stream",
     "text": [
      "100%|██████████| 200/200 [00:16<00:00, 11.80it/s]\n",
      "  1%|          | 2/200 [00:00<00:16, 11.78it/s]"
     ]
    },
    {
     "name": "stdout",
     "output_type": "stream",
     "text": [
      "/home/daniil/gans-mcmc/saved_numpy_arrays/sir_dcgan_cifar_recalc_stats_pretrained_fake_test_step_350.npy\n"
     ]
    },
    {
     "name": "stderr",
     "output_type": "stream",
     "text": [
      "100%|██████████| 200/200 [00:17<00:00, 11.66it/s]\n",
      "fid: 100%|██████████| 10/10 [00:36<00:00,  3.64s/it, mean=33.5]\n"
     ]
    },
    {
     "name": "stdout",
     "output_type": "stream",
     "text": [
      "FID score for test cifar10 with sir_dcgan_cifar_recalc_stats: mean 33.46184293807463, std 0.6234848290733622\n",
      "time for FID calculation on test = 72.615s\n",
      "start to calculate MSID score for test cifar10...\n"
     ]
    },
    {
     "name": "stderr",
     "output_type": "stream",
     "text": [
      "100%|██████████| 200/200 [00:17<00:00, 11.74it/s]\n",
      "  1%|          | 2/200 [00:00<00:16, 11.66it/s]"
     ]
    },
    {
     "name": "stdout",
     "output_type": "stream",
     "text": [
      "/home/daniil/gans-mcmc/saved_numpy_arrays/sir_dcgan_cifar_recalc_stats_pretrained_fake_test_step_350.npy\n"
     ]
    },
    {
     "name": "stderr",
     "output_type": "stream",
     "text": [
      "100%|██████████| 200/200 [00:17<00:00, 11.61it/s]\n",
      "msid: 100%|██████████| 10/10 [16:08<00:00, 96.90s/it, mean=7.3]"
     ]
    },
    {
     "name": "stdout",
     "output_type": "stream",
     "text": [
      "MSID score for test cifar10 with sir_dcgan_cifar_recalc_stats: mean 7.30140652315616, std 3.2324412085609278\n",
      "time for MSID calculation on test = 1003.538s\n",
      "start to calculate FID score for train cifar10...\n"
     ]
    },
    {
     "name": "stderr",
     "output_type": "stream",
     "text": [
      "\n",
      "500it [00:07, 65.21it/s]\n"
     ]
    },
    {
     "name": "stdout",
     "output_type": "stream",
     "text": [
      "shape of generated images = (50000, 3, 32, 32)\n",
      "shape of real images = (50000, 3, 32, 32)\n"
     ]
    },
    {
     "name": "stderr",
     "output_type": "stream",
     "text": [
      "100%|██████████| 1000/1000 [01:24<00:00, 11.82it/s]\n",
      "  0%|          | 2/1000 [00:00<01:26, 11.59it/s]"
     ]
    },
    {
     "name": "stdout",
     "output_type": "stream",
     "text": [
      "/home/daniil/gans-mcmc/saved_numpy_arrays/sir_dcgan_cifar_recalc_stats_pretrained_fake_train_step_350.npy\n"
     ]
    },
    {
     "name": "stderr",
     "output_type": "stream",
     "text": [
      "100%|██████████| 1000/1000 [01:27<00:00, 11.39it/s]\n",
      "fid: 100%|██████████| 10/10 [01:19<00:00,  7.94s/it, mean=28.5]\n"
     ]
    },
    {
     "name": "stdout",
     "output_type": "stream",
     "text": [
      "FID score for train cifar10 with sir_dcgan_cifar_recalc_stats: mean 28.524622868601988, std 0.1780917145043346\n",
      "time for FID calculation on train = 260.515s\n",
      "------------------------------------\n",
      "step = 400\n",
      "sample size = (50000, 100)\n",
      "sample size after deleteting nans = (50000, 100)\n",
      "start to calculate inception score...\n",
      "Start to make predictions\n",
      "Start to compute KL divergence\n",
      "sir_dcgan_cifar_recalc_stats mean inception score = 5.246296785886119, std inception score = 0.07368691499004021\n",
      "time for inception calculation = 304.388s\n",
      "start to calculate FID score for test cifar10...\n"
     ]
    },
    {
     "name": "stderr",
     "output_type": "stream",
     "text": [
      "100it [00:01, 60.81it/s]\n"
     ]
    },
    {
     "name": "stdout",
     "output_type": "stream",
     "text": [
      "shape of generated images = (10000, 3, 32, 32)\n",
      "shape of real images = (10000, 3, 32, 32)\n"
     ]
    },
    {
     "name": "stderr",
     "output_type": "stream",
     "text": [
      "100%|██████████| 200/200 [00:16<00:00, 11.81it/s]\n",
      "  1%|          | 2/200 [00:00<00:16, 11.78it/s]"
     ]
    },
    {
     "name": "stdout",
     "output_type": "stream",
     "text": [
      "/home/daniil/gans-mcmc/saved_numpy_arrays/sir_dcgan_cifar_recalc_stats_pretrained_fake_test_step_400.npy\n"
     ]
    },
    {
     "name": "stderr",
     "output_type": "stream",
     "text": [
      "100%|██████████| 200/200 [00:17<00:00, 11.67it/s]\n",
      "fid: 100%|██████████| 10/10 [00:34<00:00,  3.43s/it, mean=33.3]\n"
     ]
    },
    {
     "name": "stdout",
     "output_type": "stream",
     "text": [
      "FID score for test cifar10 with sir_dcgan_cifar_recalc_stats: mean 33.33405039654404, std 0.5691205222410343\n",
      "time for FID calculation on test = 70.522s\n",
      "start to calculate MSID score for test cifar10...\n"
     ]
    },
    {
     "name": "stderr",
     "output_type": "stream",
     "text": [
      "100%|██████████| 200/200 [00:17<00:00, 11.73it/s]\n",
      "  1%|          | 2/200 [00:00<00:16, 11.70it/s]"
     ]
    },
    {
     "name": "stdout",
     "output_type": "stream",
     "text": [
      "/home/daniil/gans-mcmc/saved_numpy_arrays/sir_dcgan_cifar_recalc_stats_pretrained_fake_test_step_400.npy\n"
     ]
    },
    {
     "name": "stderr",
     "output_type": "stream",
     "text": [
      "100%|██████████| 200/200 [00:17<00:00, 11.60it/s]\n",
      "msid: 100%|██████████| 10/10 [16:00<00:00, 96.04s/it, mean=7.92]"
     ]
    },
    {
     "name": "stdout",
     "output_type": "stream",
     "text": [
      "MSID score for test cifar10 with sir_dcgan_cifar_recalc_stats: mean 7.919712131675387, std 2.6844520836621655\n",
      "time for MSID calculation on test = 995.025s\n",
      "start to calculate FID score for train cifar10...\n"
     ]
    },
    {
     "name": "stderr",
     "output_type": "stream",
     "text": [
      "\n",
      "500it [00:07, 65.58it/s]\n"
     ]
    },
    {
     "name": "stdout",
     "output_type": "stream",
     "text": [
      "shape of generated images = (50000, 3, 32, 32)\n",
      "shape of real images = (50000, 3, 32, 32)\n"
     ]
    },
    {
     "name": "stderr",
     "output_type": "stream",
     "text": [
      "100%|██████████| 1000/1000 [01:24<00:00, 11.82it/s]\n",
      "  0%|          | 2/1000 [00:00<01:26, 11.55it/s]"
     ]
    },
    {
     "name": "stdout",
     "output_type": "stream",
     "text": [
      "/home/daniil/gans-mcmc/saved_numpy_arrays/sir_dcgan_cifar_recalc_stats_pretrained_fake_train_step_400.npy\n"
     ]
    },
    {
     "name": "stderr",
     "output_type": "stream",
     "text": [
      "100%|██████████| 1000/1000 [01:27<00:00, 11.40it/s]\n",
      "fid: 100%|██████████| 10/10 [01:18<00:00,  7.83s/it, mean=28.5]\n"
     ]
    },
    {
     "name": "stdout",
     "output_type": "stream",
     "text": [
      "FID score for train cifar10 with sir_dcgan_cifar_recalc_stats: mean 28.478415718476818, std 0.1543374104353895\n",
      "time for FID calculation on train = 259.228s\n",
      "------------------------------------\n",
      "step = 450\n",
      "sample size = (50000, 100)\n",
      "sample size after deleteting nans = (50000, 100)\n",
      "start to calculate inception score...\n",
      "Start to make predictions\n",
      "Start to compute KL divergence\n",
      "sir_dcgan_cifar_recalc_stats mean inception score = 5.283469816896889, std inception score = 0.059887916965229264\n",
      "time for inception calculation = 304.599s\n",
      "start to calculate FID score for test cifar10...\n"
     ]
    },
    {
     "name": "stderr",
     "output_type": "stream",
     "text": [
      "100it [00:01, 60.88it/s]\n"
     ]
    },
    {
     "name": "stdout",
     "output_type": "stream",
     "text": [
      "shape of generated images = (10000, 3, 32, 32)\n",
      "shape of real images = (10000, 3, 32, 32)\n"
     ]
    },
    {
     "name": "stderr",
     "output_type": "stream",
     "text": [
      "100%|██████████| 200/200 [00:16<00:00, 11.79it/s]\n",
      "  1%|          | 2/200 [00:00<00:16, 11.76it/s]"
     ]
    },
    {
     "name": "stdout",
     "output_type": "stream",
     "text": [
      "/home/daniil/gans-mcmc/saved_numpy_arrays/sir_dcgan_cifar_recalc_stats_pretrained_fake_test_step_450.npy\n"
     ]
    },
    {
     "name": "stderr",
     "output_type": "stream",
     "text": [
      "100%|██████████| 200/200 [00:17<00:00, 11.66it/s]\n",
      "fid: 100%|██████████| 10/10 [00:34<00:00,  3.45s/it, mean=33.3]\n"
     ]
    },
    {
     "name": "stdout",
     "output_type": "stream",
     "text": [
      "FID score for test cifar10 with sir_dcgan_cifar_recalc_stats: mean 33.25708917791296, std 0.6024175616192905\n",
      "time for FID calculation on test = 70.78s\n",
      "start to calculate MSID score for test cifar10...\n"
     ]
    },
    {
     "name": "stderr",
     "output_type": "stream",
     "text": [
      "100%|██████████| 200/200 [00:17<00:00, 11.73it/s]\n",
      "  1%|          | 2/200 [00:00<00:16, 11.70it/s]"
     ]
    },
    {
     "name": "stdout",
     "output_type": "stream",
     "text": [
      "/home/daniil/gans-mcmc/saved_numpy_arrays/sir_dcgan_cifar_recalc_stats_pretrained_fake_test_step_450.npy\n"
     ]
    },
    {
     "name": "stderr",
     "output_type": "stream",
     "text": [
      "100%|██████████| 200/200 [00:17<00:00, 11.59it/s]\n",
      "msid: 100%|██████████| 10/10 [15:54<00:00, 95.45s/it, mean=6.23]"
     ]
    },
    {
     "name": "stdout",
     "output_type": "stream",
     "text": [
      "MSID score for test cifar10 with sir_dcgan_cifar_recalc_stats: mean 6.229813231815756, std 3.461662477831042\n",
      "time for MSID calculation on test = 989.112s\n",
      "start to calculate FID score for train cifar10...\n"
     ]
    },
    {
     "name": "stderr",
     "output_type": "stream",
     "text": [
      "\n",
      "500it [00:07, 65.31it/s]\n"
     ]
    },
    {
     "name": "stdout",
     "output_type": "stream",
     "text": [
      "shape of generated images = (50000, 3, 32, 32)\n",
      "shape of real images = (50000, 3, 32, 32)\n"
     ]
    },
    {
     "name": "stderr",
     "output_type": "stream",
     "text": [
      "100%|██████████| 1000/1000 [01:24<00:00, 11.82it/s]\n",
      "  0%|          | 2/1000 [00:00<01:26, 11.58it/s]"
     ]
    },
    {
     "name": "stdout",
     "output_type": "stream",
     "text": [
      "/home/daniil/gans-mcmc/saved_numpy_arrays/sir_dcgan_cifar_recalc_stats_pretrained_fake_train_step_450.npy\n"
     ]
    },
    {
     "name": "stderr",
     "output_type": "stream",
     "text": [
      "100%|██████████| 1000/1000 [01:27<00:00, 11.40it/s]\n",
      "fid: 100%|██████████| 10/10 [01:18<00:00,  7.83s/it, mean=28.4]\n"
     ]
    },
    {
     "name": "stdout",
     "output_type": "stream",
     "text": [
      "FID score for train cifar10 with sir_dcgan_cifar_recalc_stats: mean 28.396949368754758, std 0.18018657369901772\n",
      "time for FID calculation on train = 259.238s\n",
      "------------------------------------\n",
      "step = 500\n",
      "sample size = (50000, 100)\n",
      "sample size after deleteting nans = (50000, 100)\n",
      "start to calculate inception score...\n",
      "Start to make predictions\n",
      "Start to compute KL divergence\n",
      "sir_dcgan_cifar_recalc_stats mean inception score = 5.246885836563566, std inception score = 0.055262770052041714\n",
      "time for inception calculation = 304.5s\n",
      "start to calculate FID score for test cifar10...\n"
     ]
    },
    {
     "name": "stderr",
     "output_type": "stream",
     "text": [
      "100it [00:01, 61.36it/s]\n"
     ]
    },
    {
     "name": "stdout",
     "output_type": "stream",
     "text": [
      "shape of generated images = (10000, 3, 32, 32)\n",
      "shape of real images = (10000, 3, 32, 32)\n"
     ]
    },
    {
     "name": "stderr",
     "output_type": "stream",
     "text": [
      "100%|██████████| 200/200 [00:16<00:00, 11.82it/s]\n",
      "  1%|          | 2/200 [00:00<00:16, 11.77it/s]"
     ]
    },
    {
     "name": "stdout",
     "output_type": "stream",
     "text": [
      "/home/daniil/gans-mcmc/saved_numpy_arrays/sir_dcgan_cifar_recalc_stats_pretrained_fake_test_step_500.npy\n"
     ]
    },
    {
     "name": "stderr",
     "output_type": "stream",
     "text": [
      "100%|██████████| 200/200 [00:17<00:00, 11.66it/s]\n",
      "fid: 100%|██████████| 10/10 [00:35<00:00,  3.56s/it, mean=33.6]\n"
     ]
    },
    {
     "name": "stdout",
     "output_type": "stream",
     "text": [
      "FID score for test cifar10 with sir_dcgan_cifar_recalc_stats: mean 33.648948055457375, std 0.5907755854950327\n",
      "time for FID calculation on test = 71.813s\n",
      "start to calculate MSID score for test cifar10...\n"
     ]
    },
    {
     "name": "stderr",
     "output_type": "stream",
     "text": [
      "100%|██████████| 200/200 [00:17<00:00, 11.73it/s]\n",
      "  1%|          | 2/200 [00:00<00:16, 11.71it/s]"
     ]
    },
    {
     "name": "stdout",
     "output_type": "stream",
     "text": [
      "/home/daniil/gans-mcmc/saved_numpy_arrays/sir_dcgan_cifar_recalc_stats_pretrained_fake_test_step_500.npy\n"
     ]
    },
    {
     "name": "stderr",
     "output_type": "stream",
     "text": [
      "100%|██████████| 200/200 [00:17<00:00, 11.60it/s]\n",
      "msid: 100%|██████████| 10/10 [16:01<00:00, 96.14s/it, mean=6.8]"
     ]
    },
    {
     "name": "stdout",
     "output_type": "stream",
     "text": [
      "MSID score for test cifar10 with sir_dcgan_cifar_recalc_stats: mean 6.797742347314006, std 2.799283112839389\n",
      "time for MSID calculation on test = 995.921s\n",
      "start to calculate FID score for train cifar10...\n"
     ]
    },
    {
     "name": "stderr",
     "output_type": "stream",
     "text": [
      "\n",
      "500it [00:07, 65.59it/s]\n"
     ]
    },
    {
     "name": "stdout",
     "output_type": "stream",
     "text": [
      "shape of generated images = (50000, 3, 32, 32)\n",
      "shape of real images = (50000, 3, 32, 32)\n"
     ]
    },
    {
     "name": "stderr",
     "output_type": "stream",
     "text": [
      "100%|██████████| 1000/1000 [01:24<00:00, 11.82it/s]\n",
      "  0%|          | 2/1000 [00:00<01:26, 11.52it/s]"
     ]
    },
    {
     "name": "stdout",
     "output_type": "stream",
     "text": [
      "/home/daniil/gans-mcmc/saved_numpy_arrays/sir_dcgan_cifar_recalc_stats_pretrained_fake_train_step_500.npy\n"
     ]
    },
    {
     "name": "stderr",
     "output_type": "stream",
     "text": [
      "100%|██████████| 1000/1000 [01:27<00:00, 11.40it/s]\n",
      "fid: 100%|██████████| 10/10 [01:17<00:00,  7.79s/it, mean=28.5]"
     ]
    },
    {
     "name": "stdout",
     "output_type": "stream",
     "text": [
      "FID score for train cifar10 with sir_dcgan_cifar_recalc_stats: mean 28.479323786689594, std 0.09998309430502805\n",
      "time for FID calculation on train = 258.925s\n"
     ]
    },
    {
     "name": "stderr",
     "output_type": "stream",
     "text": [
      "\n"
     ]
    }
   ],
   "source": [
    "batch_size = 100\n",
    "random_seed = 42\n",
    "path_to_save_np = '/home/daniil/gans-mcmc/saved_numpy_arrays'\n",
    "path_to_save = path_to_save_np\n",
    "method_name = 'sir_dcgan_cifar_recalc_stats'\n",
    "every_step = 50\n",
    "dataset = \"cifar10\"\n",
    "calculate_is = True\n",
    "calculate_msid_train = False\n",
    "calculate_msid_test = True\n",
    "\n",
    "ula_statistics = calculate_images_statistics(z_agg_step = load_np, \n",
    "                                             G = G,\n",
    "                                             device = device, \n",
    "                                             batch_size = batch_size,\n",
    "                                             path_to_save = path_to_save,\n",
    "                                             path_to_save_np = path_to_save_np,\n",
    "                                             method_name = method_name,\n",
    "                                             random_seed = random_seed,\n",
    "                                             every_step = every_step,\n",
    "                                             dataset = dataset,\n",
    "                                             calculate_is = calculate_is,\n",
    "                                             calculate_msid_train = calculate_msid_train,\n",
    "                                             calculate_msid_test = calculate_msid_test)"
   ]
  },
  {
   "cell_type": "code",
   "execution_count": 7,
   "id": "manufactured-substance",
   "metadata": {},
   "outputs": [],
   "source": [
    "def load_dict_stats(method_name, path_to_save):\n",
    "\n",
    "    names_list = [\"inception_scores_mean\", \"inception_scores_std\",\n",
    "                      \"fid_scores_mean_train\", \"fid_scores_mean_test\",\n",
    "                      \"fid_scores_std_train\", \"fid_scores_std_test\",\n",
    "                      \"msid_scores_mean_train\", \"msid_scores_mean_test\",\n",
    "                      \"msid_scores_std_train\", \"msid_scores_std_test\"\n",
    "                      ]\n",
    "\n",
    "    dict_results = {}\n",
    "    for i in range(len(names_list)):\n",
    "        cur_score_path = os.path.join(path_to_save,\n",
    "                                      f\"{method_name}_{names_list[i]}.npy\")\n",
    "        arrays_list = np.load(cur_score_path)\n",
    "        dict_results[names_list[i]] = arrays_list\n",
    "        \n",
    "    return dict_results\n",
    "    \n",
    "method_name = 'sir_dcgan_cifar_recalc_stats'\n",
    "path_to_save = '/home/daniil/gans-mcmc/saved_numpy_arrays'\n",
    "dict_results = load_dict_stats(method_name, path_to_save)"
   ]
  },
  {
   "cell_type": "code",
   "execution_count": 20,
   "id": "ranging-commercial",
   "metadata": {},
   "outputs": [],
   "source": [
    "def plot_scores_dynamics(scores,\n",
    "                         every_step, method_name,\n",
    "                         figsize,\n",
    "                         path_to_save,\n",
    "                         start_plot=None,\n",
    "                         stds_coef = [2.0, 2.0, 2.0, 1.0],\n",
    "                         plot_is_fid_msid=[True, True, True, False]):\n",
    "    xlabels = [\"IS\", \"FID\", \"FID\", \"MSID\"]\n",
    "    mean_names = [\"inception_scores_mean\", \"fid_scores_mean_train\", \n",
    "                  \"fid_scores_mean_test\", \"msid_scores_mean_test\"]\n",
    "    std_names = [\"inception_scores_std\", \"fid_scores_std_train\",\n",
    "                 \"fid_scores_std_test\", \"msid_scores_std_test\"]\n",
    "    titles = [\"Inception score\", \"Frechet Inception distance\",\n",
    "              \"Frechet Inception distance\", \"MSID score\"]\n",
    "    train_test_mode = [\"\", \"on train\", \"on test\", \"on test\"]\n",
    "    \n",
    "    if start_plot == None:\n",
    "        num_plots = sum(plot_is_fid_msid)\n",
    "        fig, axs = plt.subplots(nrows=num_plots, figsize = (figsize[0], num_plots*figsize[1]))\n",
    "        ind_plot = 0\n",
    "        for i in range(4):\n",
    "            if plot_is_fid_msid[i]:\n",
    "                axs[ind_plot].set_xlabel(\"number of steps\")\n",
    "                axs[ind_plot].set_ylabel(xlabels[i])\n",
    "                range_steps = [i * every_step for i in range(len(scores[mean_names[i]]))]\n",
    "                axs[ind_plot].plot(range_steps, scores[mean_names[i]], c='orange',\n",
    "                         label=f'mean {xlabels[i]} for {method_name} {train_test_mode[i]}')\n",
    "                axs[ind_plot].fill_between(range_steps,\n",
    "                                 scores[mean_names[i]] - stds_coef[i] * scores[std_names[i]],\n",
    "                                 scores[mean_names[i]] + stds_coef[i] * scores[std_names[i]],\n",
    "                                 color=\"C0\",\n",
    "                                 alpha=0.2, \n",
    "                                 label=fr'confidence interval for mean {xlabels[i]}: mean $\\pm \\; {stds_coef[i]} \\cdot$ std')\n",
    "                axs[ind_plot].set_title(f\"{titles[i]} dynamics for {method_name}\")\n",
    "                axs[ind_plot].legend()\n",
    "                axs[ind_plot].grid(True)\n",
    "                name_mean = f'{method_name}_{mean_names[i]}.pdf'\n",
    "                name_mean_path = os.path.join(path_to_save, name_mean)\n",
    "                fig.savefig(name_mean_path)\n",
    "                ind_plot += 1\n",
    "        \n",
    "        \n",
    "        return axs"
   ]
  },
  {
   "cell_type": "code",
   "execution_count": 21,
   "id": "narrative-shoot",
   "metadata": {},
   "outputs": [
    {
     "data": {
      "image/png": "[encoded data removed]",
      "text/plain": [
       "<Figure size 864x2304 with 4 Axes>"
      ]
     },
     "metadata": {
      "needs_background": "light"
     },
     "output_type": "display_data"
    }
   ],
   "source": [
    "plot_is_fid_msid = [True, True, True, True]\n",
    "stds_coef = [2.0, 2.0, 2.0, 1.0]\n",
    "start_plot = None\n",
    "every_step = 50\n",
    "method_name = \"SIR\"\n",
    "figsize = (12, 8)\n",
    "\n",
    "axs = plot_scores_dynamics(scores=dict_results,\n",
    "                           every_step=every_step, \n",
    "                           method_name=method_name,\n",
    "                           figsize=figsize,\n",
    "                           path_to_save=path_to_save,\n",
    "                           start_plot=start_plot,\n",
    "                           stds_coef = stds_coef,\n",
    "                           plot_is_fid_msid=plot_is_fid_msid)"
   ]
  },
  {
   "cell_type": "code",
   "execution_count": null,
   "id": "logical-poster",
   "metadata": {},
   "outputs": [],
   "source": []
  }
 ],
 "metadata": {
  "kernelspec": {
   "display_name": "Python 3",
   "language": "python",
   "name": "python3"
  },
  "language_info": {
   "codemirror_mode": {
    "name": "ipython",
    "version": 3
   },
   "file_extension": ".py",
   "mimetype": "text/x-python",
   "name": "python",
   "nbconvert_exporter": "python",
   "pygments_lexer": "ipython3",
   "version": "3.8.5"
  }
 },
 "nbformat": 4,
 "nbformat_minor": 5
}
